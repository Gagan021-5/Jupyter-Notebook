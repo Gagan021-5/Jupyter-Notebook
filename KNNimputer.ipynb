{
 "cells": [
  {
   "cell_type": "code",
   "execution_count": 46,
   "id": "fc522f4e",
   "metadata": {},
   "outputs": [],
   "source": [
    "import numpy as np\n",
    "import pandas as pd\n",
    "from sklearn.impute import KNNImputer,SimpleImputer\n",
    "from sklearn.model_selection import train_test_split\n",
    "from sklearn.linear_model import LogisticRegression\n",
    "from sklearn.metrics import accuracy_score"
   ]
  },
  {
   "cell_type": "code",
   "execution_count": 47,
   "id": "0ee7ee80",
   "metadata": {},
   "outputs": [],
   "source": [
    "df = pd.read_csv('train.csv')[['Age','Pclass','Fare','Survived']]"
   ]
  },
  {
   "cell_type": "code",
   "execution_count": 48,
   "id": "d406ebf3",
   "metadata": {},
   "outputs": [
    {
     "data": {
      "application/vnd.microsoft.datawrangler.viewer.v0+json": {
       "columns": [
        {
         "name": "index",
         "rawType": "int64",
         "type": "integer"
        },
        {
         "name": "Age",
         "rawType": "float64",
         "type": "float"
        },
        {
         "name": "Pclass",
         "rawType": "int64",
         "type": "integer"
        },
        {
         "name": "Fare",
         "rawType": "float64",
         "type": "float"
        },
        {
         "name": "Survived",
         "rawType": "int64",
         "type": "integer"
        }
       ],
       "ref": "25635390-b39a-490c-b543-3578ccbd08d9",
       "rows": [
        [
         "0",
         "22.0",
         "3",
         "7.25",
         "0"
        ],
        [
         "1",
         "38.0",
         "1",
         "71.2833",
         "1"
        ],
        [
         "2",
         "26.0",
         "3",
         "7.925",
         "1"
        ],
        [
         "3",
         "35.0",
         "1",
         "53.1",
         "1"
        ],
        [
         "4",
         "35.0",
         "3",
         "8.05",
         "0"
        ]
       ],
       "shape": {
        "columns": 4,
        "rows": 5
       }
      },
      "text/html": [
       "<div>\n",
       "<style scoped>\n",
       "    .dataframe tbody tr th:only-of-type {\n",
       "        vertical-align: middle;\n",
       "    }\n",
       "\n",
       "    .dataframe tbody tr th {\n",
       "        vertical-align: top;\n",
       "    }\n",
       "\n",
       "    .dataframe thead th {\n",
       "        text-align: right;\n",
       "    }\n",
       "</style>\n",
       "<table border=\"1\" class=\"dataframe\">\n",
       "  <thead>\n",
       "    <tr style=\"text-align: right;\">\n",
       "      <th></th>\n",
       "      <th>Age</th>\n",
       "      <th>Pclass</th>\n",
       "      <th>Fare</th>\n",
       "      <th>Survived</th>\n",
       "    </tr>\n",
       "  </thead>\n",
       "  <tbody>\n",
       "    <tr>\n",
       "      <th>0</th>\n",
       "      <td>22.0</td>\n",
       "      <td>3</td>\n",
       "      <td>7.2500</td>\n",
       "      <td>0</td>\n",
       "    </tr>\n",
       "    <tr>\n",
       "      <th>1</th>\n",
       "      <td>38.0</td>\n",
       "      <td>1</td>\n",
       "      <td>71.2833</td>\n",
       "      <td>1</td>\n",
       "    </tr>\n",
       "    <tr>\n",
       "      <th>2</th>\n",
       "      <td>26.0</td>\n",
       "      <td>3</td>\n",
       "      <td>7.9250</td>\n",
       "      <td>1</td>\n",
       "    </tr>\n",
       "    <tr>\n",
       "      <th>3</th>\n",
       "      <td>35.0</td>\n",
       "      <td>1</td>\n",
       "      <td>53.1000</td>\n",
       "      <td>1</td>\n",
       "    </tr>\n",
       "    <tr>\n",
       "      <th>4</th>\n",
       "      <td>35.0</td>\n",
       "      <td>3</td>\n",
       "      <td>8.0500</td>\n",
       "      <td>0</td>\n",
       "    </tr>\n",
       "  </tbody>\n",
       "</table>\n",
       "</div>"
      ],
      "text/plain": [
       "    Age  Pclass     Fare  Survived\n",
       "0  22.0       3   7.2500         0\n",
       "1  38.0       1  71.2833         1\n",
       "2  26.0       3   7.9250         1\n",
       "3  35.0       1  53.1000         1\n",
       "4  35.0       3   8.0500         0"
      ]
     },
     "execution_count": 48,
     "metadata": {},
     "output_type": "execute_result"
    }
   ],
   "source": [
    "df.head()"
   ]
  },
  {
   "cell_type": "code",
   "execution_count": 49,
   "id": "622d1f01",
   "metadata": {},
   "outputs": [
    {
     "data": {
      "application/vnd.microsoft.datawrangler.viewer.v0+json": {
       "columns": [
        {
         "name": "index",
         "rawType": "object",
         "type": "string"
        },
        {
         "name": "0",
         "rawType": "int64",
         "type": "integer"
        }
       ],
       "ref": "6abab178-a28a-4bd4-912f-183b4bce9c11",
       "rows": [
        [
         "Age",
         "177"
        ],
        [
         "Pclass",
         "0"
        ],
        [
         "Fare",
         "0"
        ],
        [
         "Survived",
         "0"
        ]
       ],
       "shape": {
        "columns": 1,
        "rows": 4
       }
      },
      "text/plain": [
       "Age         177\n",
       "Pclass        0\n",
       "Fare          0\n",
       "Survived      0\n",
       "dtype: int64"
      ]
     },
     "execution_count": 49,
     "metadata": {},
     "output_type": "execute_result"
    }
   ],
   "source": [
    "df.isnull().sum()"
   ]
  },
  {
   "cell_type": "code",
   "execution_count": 50,
   "id": "e0ceed4d",
   "metadata": {},
   "outputs": [],
   "source": [
    "x = df.drop(columns=['Survived'])\n",
    "y = df['Survived']"
   ]
  },
  {
   "cell_type": "code",
   "execution_count": 51,
   "id": "b54c1b49",
   "metadata": {},
   "outputs": [],
   "source": [
    "x_train,x_test,y_train,y_test = train_test_split(x,y,random_state=42,test_size=0.2)"
   ]
  },
  {
   "cell_type": "code",
   "execution_count": 52,
   "id": "297bf78f",
   "metadata": {},
   "outputs": [
    {
     "data": {
      "application/vnd.microsoft.datawrangler.viewer.v0+json": {
       "columns": [
        {
         "name": "index",
         "rawType": "int64",
         "type": "integer"
        },
        {
         "name": "Age",
         "rawType": "float64",
         "type": "float"
        },
        {
         "name": "Pclass",
         "rawType": "int64",
         "type": "integer"
        },
        {
         "name": "Fare",
         "rawType": "float64",
         "type": "float"
        }
       ],
       "ref": "d10c88b7-dece-41f5-87b8-2773f11ce305",
       "rows": [
        [
         "331",
         "45.5",
         "1",
         "28.5"
        ],
        [
         "733",
         "23.0",
         "2",
         "13.0"
        ],
        [
         "382",
         "32.0",
         "3",
         "7.925"
        ],
        [
         "704",
         "26.0",
         "3",
         "7.8542"
        ],
        [
         "813",
         "6.0",
         "3",
         "31.275"
        ]
       ],
       "shape": {
        "columns": 3,
        "rows": 5
       }
      },
      "text/html": [
       "<div>\n",
       "<style scoped>\n",
       "    .dataframe tbody tr th:only-of-type {\n",
       "        vertical-align: middle;\n",
       "    }\n",
       "\n",
       "    .dataframe tbody tr th {\n",
       "        vertical-align: top;\n",
       "    }\n",
       "\n",
       "    .dataframe thead th {\n",
       "        text-align: right;\n",
       "    }\n",
       "</style>\n",
       "<table border=\"1\" class=\"dataframe\">\n",
       "  <thead>\n",
       "    <tr style=\"text-align: right;\">\n",
       "      <th></th>\n",
       "      <th>Age</th>\n",
       "      <th>Pclass</th>\n",
       "      <th>Fare</th>\n",
       "    </tr>\n",
       "  </thead>\n",
       "  <tbody>\n",
       "    <tr>\n",
       "      <th>331</th>\n",
       "      <td>45.5</td>\n",
       "      <td>1</td>\n",
       "      <td>28.5000</td>\n",
       "    </tr>\n",
       "    <tr>\n",
       "      <th>733</th>\n",
       "      <td>23.0</td>\n",
       "      <td>2</td>\n",
       "      <td>13.0000</td>\n",
       "    </tr>\n",
       "    <tr>\n",
       "      <th>382</th>\n",
       "      <td>32.0</td>\n",
       "      <td>3</td>\n",
       "      <td>7.9250</td>\n",
       "    </tr>\n",
       "    <tr>\n",
       "      <th>704</th>\n",
       "      <td>26.0</td>\n",
       "      <td>3</td>\n",
       "      <td>7.8542</td>\n",
       "    </tr>\n",
       "    <tr>\n",
       "      <th>813</th>\n",
       "      <td>6.0</td>\n",
       "      <td>3</td>\n",
       "      <td>31.2750</td>\n",
       "    </tr>\n",
       "  </tbody>\n",
       "</table>\n",
       "</div>"
      ],
      "text/plain": [
       "      Age  Pclass     Fare\n",
       "331  45.5       1  28.5000\n",
       "733  23.0       2  13.0000\n",
       "382  32.0       3   7.9250\n",
       "704  26.0       3   7.8542\n",
       "813   6.0       3  31.2750"
      ]
     },
     "execution_count": 52,
     "metadata": {},
     "output_type": "execute_result"
    }
   ],
   "source": [
    "x_train.head()"
   ]
  },
  {
   "cell_type": "code",
   "execution_count": 53,
   "id": "11bbc395",
   "metadata": {},
   "outputs": [
    {
     "data": {
      "text/plain": [
       "((712, 3), (179, 3))"
      ]
     },
     "execution_count": 53,
     "metadata": {},
     "output_type": "execute_result"
    }
   ],
   "source": [
    "x_train.shape, x_test.shape"
   ]
  },
  {
   "cell_type": "code",
   "execution_count": 61,
   "id": "92a1bc36",
   "metadata": {},
   "outputs": [],
   "source": [
    "knn = KNNImputer(n_neighbors=5)\n",
    "x_traintrf = knn.fit_transform(x_train)\n",
    "x_testtrf  = knn.transform(x_test)"
   ]
  },
  {
   "cell_type": "code",
   "execution_count": 62,
   "id": "3cd73ea4",
   "metadata": {},
   "outputs": [
    {
     "data": {
      "application/vnd.microsoft.datawrangler.viewer.v0+json": {
       "columns": [
        {
         "name": "index",
         "rawType": "int64",
         "type": "integer"
        },
        {
         "name": "Age",
         "rawType": "float64",
         "type": "float"
        },
        {
         "name": "Pclass",
         "rawType": "float64",
         "type": "float"
        },
        {
         "name": "Fare",
         "rawType": "float64",
         "type": "float"
        }
       ],
       "ref": "dace8cc4-0853-427b-ac90-6fd6f05e7f65",
       "rows": [
        [
         "0",
         "45.5",
         "1.0",
         "28.5"
        ],
        [
         "1",
         "23.0",
         "2.0",
         "13.0"
        ],
        [
         "2",
         "32.0",
         "3.0",
         "7.925"
        ],
        [
         "3",
         "26.0",
         "3.0",
         "7.8542"
        ],
        [
         "4",
         "6.0",
         "3.0",
         "31.275"
        ],
        [
         "5",
         "24.0",
         "1.0",
         "247.5208"
        ],
        [
         "6",
         "45.0",
         "1.0",
         "26.55"
        ],
        [
         "7",
         "29.0",
         "2.0",
         "27.7208"
        ],
        [
         "8",
         "26.4",
         "3.0",
         "7.8958"
        ],
        [
         "9",
         "35.0",
         "1.0",
         "35.5"
        ],
        [
         "10",
         "42.0",
         "2.0",
         "13.0"
        ],
        [
         "11",
         "36.0",
         "3.0",
         "24.15"
        ],
        [
         "12",
         "33.0",
         "2.0",
         "12.275"
        ],
        [
         "13",
         "17.0",
         "3.0",
         "7.0542"
        ],
        [
         "14",
         "29.0",
         "3.0",
         "9.5"
        ],
        [
         "15",
         "50.0",
         "2.0",
         "26.0"
        ],
        [
         "16",
         "35.0",
         "1.0",
         "90.0"
        ],
        [
         "17",
         "38.0",
         "1.0",
         "227.525"
        ],
        [
         "18",
         "34.0",
         "2.0",
         "13.0"
        ],
        [
         "19",
         "17.0",
         "1.0",
         "57.0"
        ],
        [
         "20",
         "11.0",
         "3.0",
         "31.275"
        ],
        [
         "21",
         "61.0",
         "3.0",
         "6.2375"
        ],
        [
         "22",
         "30.0",
         "3.0",
         "8.6625"
        ],
        [
         "23",
         "7.0",
         "2.0",
         "26.25"
        ],
        [
         "24",
         "63.0",
         "3.0",
         "9.5875"
        ],
        [
         "25",
         "20.0",
         "3.0",
         "7.2292"
        ],
        [
         "26",
         "17.6",
         "3.0",
         "22.3583"
        ],
        [
         "27",
         "29.0",
         "3.0",
         "9.4833"
        ],
        [
         "28",
         "36.0",
         "1.0",
         "120.0"
        ],
        [
         "29",
         "18.9",
         "3.0",
         "14.4583"
        ],
        [
         "30",
         "50.0",
         "3.0",
         "8.05"
        ],
        [
         "31",
         "27.0",
         "1.0",
         "211.5"
        ],
        [
         "32",
         "30.0",
         "3.0",
         "7.25"
        ],
        [
         "33",
         "33.0",
         "1.0",
         "90.0"
        ],
        [
         "34",
         "32.7",
         "3.0",
         "7.725"
        ],
        [
         "35",
         "19.0",
         "3.0",
         "25.4667"
        ],
        [
         "36",
         "2.0",
         "3.0",
         "21.075"
        ],
        [
         "37",
         "25.0",
         "2.0",
         "30.0"
        ],
        [
         "38",
         "51.0",
         "1.0",
         "61.3792"
        ],
        [
         "39",
         "25.0",
         "2.0",
         "26.0"
        ],
        [
         "40",
         "29.2",
         "3.0",
         "7.25"
        ],
        [
         "41",
         "26.4",
         "3.0",
         "7.8958"
        ],
        [
         "42",
         "24.0",
         "2.0",
         "13.0"
        ],
        [
         "43",
         "18.0",
         "3.0",
         "20.2125"
        ],
        [
         "44",
         "37.0",
         "1.0",
         "30.5"
        ],
        [
         "45",
         "25.0",
         "3.0",
         "7.05"
        ],
        [
         "46",
         "24.0",
         "2.0",
         "14.5"
        ],
        [
         "47",
         "22.0",
         "3.0",
         "7.5208"
        ],
        [
         "48",
         "0.92",
         "1.0",
         "151.55"
        ],
        [
         "49",
         "24.0",
         "2.0",
         "26.0"
        ]
       ],
       "shape": {
        "columns": 3,
        "rows": 712
       }
      },
      "text/html": [
       "<div>\n",
       "<style scoped>\n",
       "    .dataframe tbody tr th:only-of-type {\n",
       "        vertical-align: middle;\n",
       "    }\n",
       "\n",
       "    .dataframe tbody tr th {\n",
       "        vertical-align: top;\n",
       "    }\n",
       "\n",
       "    .dataframe thead th {\n",
       "        text-align: right;\n",
       "    }\n",
       "</style>\n",
       "<table border=\"1\" class=\"dataframe\">\n",
       "  <thead>\n",
       "    <tr style=\"text-align: right;\">\n",
       "      <th></th>\n",
       "      <th>Age</th>\n",
       "      <th>Pclass</th>\n",
       "      <th>Fare</th>\n",
       "    </tr>\n",
       "  </thead>\n",
       "  <tbody>\n",
       "    <tr>\n",
       "      <th>0</th>\n",
       "      <td>45.5</td>\n",
       "      <td>1.0</td>\n",
       "      <td>28.5000</td>\n",
       "    </tr>\n",
       "    <tr>\n",
       "      <th>1</th>\n",
       "      <td>23.0</td>\n",
       "      <td>2.0</td>\n",
       "      <td>13.0000</td>\n",
       "    </tr>\n",
       "    <tr>\n",
       "      <th>2</th>\n",
       "      <td>32.0</td>\n",
       "      <td>3.0</td>\n",
       "      <td>7.9250</td>\n",
       "    </tr>\n",
       "    <tr>\n",
       "      <th>3</th>\n",
       "      <td>26.0</td>\n",
       "      <td>3.0</td>\n",
       "      <td>7.8542</td>\n",
       "    </tr>\n",
       "    <tr>\n",
       "      <th>4</th>\n",
       "      <td>6.0</td>\n",
       "      <td>3.0</td>\n",
       "      <td>31.2750</td>\n",
       "    </tr>\n",
       "    <tr>\n",
       "      <th>...</th>\n",
       "      <td>...</td>\n",
       "      <td>...</td>\n",
       "      <td>...</td>\n",
       "    </tr>\n",
       "    <tr>\n",
       "      <th>707</th>\n",
       "      <td>21.0</td>\n",
       "      <td>3.0</td>\n",
       "      <td>7.6500</td>\n",
       "    </tr>\n",
       "    <tr>\n",
       "      <th>708</th>\n",
       "      <td>39.0</td>\n",
       "      <td>1.0</td>\n",
       "      <td>31.0000</td>\n",
       "    </tr>\n",
       "    <tr>\n",
       "      <th>709</th>\n",
       "      <td>41.0</td>\n",
       "      <td>3.0</td>\n",
       "      <td>14.1083</td>\n",
       "    </tr>\n",
       "    <tr>\n",
       "      <th>710</th>\n",
       "      <td>14.0</td>\n",
       "      <td>1.0</td>\n",
       "      <td>120.0000</td>\n",
       "    </tr>\n",
       "    <tr>\n",
       "      <th>711</th>\n",
       "      <td>21.0</td>\n",
       "      <td>1.0</td>\n",
       "      <td>77.2875</td>\n",
       "    </tr>\n",
       "  </tbody>\n",
       "</table>\n",
       "<p>712 rows × 3 columns</p>\n",
       "</div>"
      ],
      "text/plain": [
       "      Age  Pclass      Fare\n",
       "0    45.5     1.0   28.5000\n",
       "1    23.0     2.0   13.0000\n",
       "2    32.0     3.0    7.9250\n",
       "3    26.0     3.0    7.8542\n",
       "4     6.0     3.0   31.2750\n",
       "..    ...     ...       ...\n",
       "707  21.0     3.0    7.6500\n",
       "708  39.0     1.0   31.0000\n",
       "709  41.0     3.0   14.1083\n",
       "710  14.0     1.0  120.0000\n",
       "711  21.0     1.0   77.2875\n",
       "\n",
       "[712 rows x 3 columns]"
      ]
     },
     "execution_count": 62,
     "metadata": {},
     "output_type": "execute_result"
    }
   ],
   "source": [
    "pd.DataFrame(x_traintrf,columns=x_train.columns)"
   ]
  },
  {
   "cell_type": "code",
   "execution_count": 63,
   "id": "df717084",
   "metadata": {},
   "outputs": [
    {
     "data": {
      "text/plain": [
       "0.7430167597765364"
      ]
     },
     "execution_count": 63,
     "metadata": {},
     "output_type": "execute_result"
    }
   ],
   "source": [
    "lr = LogisticRegression()\n",
    "lr.fit(x_traintrf,y_train)\n",
    "y_pred = lr.predict(x_testtrf)\n",
    "accuracy_score(y_test,y_pred)"
   ]
  },
  {
   "cell_type": "code",
   "execution_count": 66,
   "id": "b1039cd7",
   "metadata": {},
   "outputs": [],
   "source": [
    "si = SimpleImputer()\n",
    "X_traintrf2 = si.fit_transform(x_train)\n",
    "x_testtrf2 = si.transform(x_test)"
   ]
  },
  {
   "cell_type": "code",
   "execution_count": 67,
   "id": "61a33bbf",
   "metadata": {},
   "outputs": [
    {
     "data": {
      "text/plain": [
       "0.7486033519553073"
      ]
     },
     "execution_count": 67,
     "metadata": {},
     "output_type": "execute_result"
    }
   ],
   "source": [
    "lr = LogisticRegression()\n",
    "lr.fit(x_traintrf,y_train)\n",
    "ypred = lr.predict(x_testtrf2)\n",
    "accuracy_score(y_test,ypred)"
   ]
  }
 ],
 "metadata": {
  "kernelspec": {
   "display_name": ".venv",
   "language": "python",
   "name": "python3"
  },
  "language_info": {
   "codemirror_mode": {
    "name": "ipython",
    "version": 3
   },
   "file_extension": ".py",
   "mimetype": "text/x-python",
   "name": "python",
   "nbconvert_exporter": "python",
   "pygments_lexer": "ipython3",
   "version": "3.13.2"
  }
 },
 "nbformat": 4,
 "nbformat_minor": 5
}
