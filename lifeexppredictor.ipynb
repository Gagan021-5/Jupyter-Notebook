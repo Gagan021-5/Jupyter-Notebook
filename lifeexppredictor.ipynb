{
 "cells": [
  {
   "cell_type": "code",
   "execution_count": 221,
   "id": "d5cb9830",
   "metadata": {},
   "outputs": [],
   "source": [
    "import numpy as np\n",
    "import pandas as pd\n",
    "import seaborn as sb\n",
    "import matplotlib.pyplot as plt"
   ]
  },
  {
   "cell_type": "code",
   "execution_count": 222,
   "id": "dfe6e2ae",
   "metadata": {},
   "outputs": [],
   "source": [
    "df = pd.read_csv('lifeexpectancy.csv')"
   ]
  },
  {
   "cell_type": "code",
   "execution_count": 223,
   "id": "f82c63c3",
   "metadata": {},
   "outputs": [
    {
     "data": {
      "application/vnd.microsoft.datawrangler.viewer.v0+json": {
       "columns": [
        {
         "name": "index",
         "rawType": "int64",
         "type": "integer"
        },
        {
         "name": "Country",
         "rawType": "object",
         "type": "string"
        },
        {
         "name": "Year",
         "rawType": "int64",
         "type": "integer"
        },
        {
         "name": "Status",
         "rawType": "object",
         "type": "string"
        },
        {
         "name": "Adult_Mortality",
         "rawType": "int64",
         "type": "integer"
        },
        {
         "name": "BMI",
         "rawType": "float64",
         "type": "float"
        },
        {
         "name": "Alcohol",
         "rawType": "float64",
         "type": "float"
        },
        {
         "name": "HIV_AIDS",
         "rawType": "float64",
         "type": "float"
        },
        {
         "name": "Total_expenditure",
         "rawType": "float64",
         "type": "float"
        },
        {
         "name": "Income_composition_of_resources",
         "rawType": "float64",
         "type": "float"
        },
        {
         "name": "Schooling",
         "rawType": "float64",
         "type": "float"
        },
        {
         "name": "Life_expectancy",
         "rawType": "float64",
         "type": "float"
        }
       ],
       "ref": "caea44a9-8705-4b18-96bf-57a4b27459fc",
       "rows": [
        [
         "0",
         "Canada",
         "2024",
         "Developed",
         "91",
         "23.01993839881504",
         "4.499131046655339",
         "1.0801572019653611",
         "7.845312970138329",
         "0.5425847899183325",
         "12.046433486263629",
         "90.0"
        ],
        [
         "1",
         "Germany",
         "2005",
         "Developed",
         "215",
         "21.95053349195281",
         "8.94122932857459",
         "4.8363559518514885",
         "6.703710338965596",
         "0.6206108704668907",
         "16.947497601372724",
         "90.0"
        ],
        [
         "2",
         "France",
         "2025",
         "Developed",
         "131",
         "22.77707648144813",
         "6.507658842828663",
         "3.57562509908444",
         "14.811972870910571",
         "0.6764343726227818",
         "16.698824063610733",
         "90.0"
        ],
        [
         "3",
         "Brazil",
         "2011",
         "Developing",
         "340",
         "31.65920663604704",
         "2.466082936183181",
         "4.785674162698981",
         "1.782968901795159",
         "0.4229004749559267",
         "10.826091353797024",
         "89.37575995516337"
        ],
        [
         "4",
         "Canada",
         "2022",
         "Developed",
         "207",
         null,
         null,
         "2.135525226801716",
         "2.9905392694229227",
         "0.8855900246735438",
         "8.567364211263863",
         "90.0"
        ]
       ],
       "shape": {
        "columns": 11,
        "rows": 5
       }
      },
      "text/html": [
       "<div>\n",
       "<style scoped>\n",
       "    .dataframe tbody tr th:only-of-type {\n",
       "        vertical-align: middle;\n",
       "    }\n",
       "\n",
       "    .dataframe tbody tr th {\n",
       "        vertical-align: top;\n",
       "    }\n",
       "\n",
       "    .dataframe thead th {\n",
       "        text-align: right;\n",
       "    }\n",
       "</style>\n",
       "<table border=\"1\" class=\"dataframe\">\n",
       "  <thead>\n",
       "    <tr style=\"text-align: right;\">\n",
       "      <th></th>\n",
       "      <th>Country</th>\n",
       "      <th>Year</th>\n",
       "      <th>Status</th>\n",
       "      <th>Adult_Mortality</th>\n",
       "      <th>BMI</th>\n",
       "      <th>Alcohol</th>\n",
       "      <th>HIV_AIDS</th>\n",
       "      <th>Total_expenditure</th>\n",
       "      <th>Income_composition_of_resources</th>\n",
       "      <th>Schooling</th>\n",
       "      <th>Life_expectancy</th>\n",
       "    </tr>\n",
       "  </thead>\n",
       "  <tbody>\n",
       "    <tr>\n",
       "      <th>0</th>\n",
       "      <td>Canada</td>\n",
       "      <td>2024</td>\n",
       "      <td>Developed</td>\n",
       "      <td>91</td>\n",
       "      <td>23.019938</td>\n",
       "      <td>4.499131</td>\n",
       "      <td>1.080157</td>\n",
       "      <td>7.845313</td>\n",
       "      <td>0.542585</td>\n",
       "      <td>12.046433</td>\n",
       "      <td>90.00000</td>\n",
       "    </tr>\n",
       "    <tr>\n",
       "      <th>1</th>\n",
       "      <td>Germany</td>\n",
       "      <td>2005</td>\n",
       "      <td>Developed</td>\n",
       "      <td>215</td>\n",
       "      <td>21.950533</td>\n",
       "      <td>8.941229</td>\n",
       "      <td>4.836356</td>\n",
       "      <td>6.703710</td>\n",
       "      <td>0.620611</td>\n",
       "      <td>16.947498</td>\n",
       "      <td>90.00000</td>\n",
       "    </tr>\n",
       "    <tr>\n",
       "      <th>2</th>\n",
       "      <td>France</td>\n",
       "      <td>2025</td>\n",
       "      <td>Developed</td>\n",
       "      <td>131</td>\n",
       "      <td>22.777076</td>\n",
       "      <td>6.507659</td>\n",
       "      <td>3.575625</td>\n",
       "      <td>14.811973</td>\n",
       "      <td>0.676434</td>\n",
       "      <td>16.698824</td>\n",
       "      <td>90.00000</td>\n",
       "    </tr>\n",
       "    <tr>\n",
       "      <th>3</th>\n",
       "      <td>Brazil</td>\n",
       "      <td>2011</td>\n",
       "      <td>Developing</td>\n",
       "      <td>340</td>\n",
       "      <td>31.659207</td>\n",
       "      <td>2.466083</td>\n",
       "      <td>4.785674</td>\n",
       "      <td>1.782969</td>\n",
       "      <td>0.422900</td>\n",
       "      <td>10.826091</td>\n",
       "      <td>89.37576</td>\n",
       "    </tr>\n",
       "    <tr>\n",
       "      <th>4</th>\n",
       "      <td>Canada</td>\n",
       "      <td>2022</td>\n",
       "      <td>Developed</td>\n",
       "      <td>207</td>\n",
       "      <td>NaN</td>\n",
       "      <td>NaN</td>\n",
       "      <td>2.135525</td>\n",
       "      <td>2.990539</td>\n",
       "      <td>0.885590</td>\n",
       "      <td>8.567364</td>\n",
       "      <td>90.00000</td>\n",
       "    </tr>\n",
       "  </tbody>\n",
       "</table>\n",
       "</div>"
      ],
      "text/plain": [
       "   Country  Year      Status  Adult_Mortality        BMI   Alcohol  HIV_AIDS  \\\n",
       "0   Canada  2024   Developed               91  23.019938  4.499131  1.080157   \n",
       "1  Germany  2005   Developed              215  21.950533  8.941229  4.836356   \n",
       "2   France  2025   Developed              131  22.777076  6.507659  3.575625   \n",
       "3   Brazil  2011  Developing              340  31.659207  2.466083  4.785674   \n",
       "4   Canada  2022   Developed              207        NaN       NaN  2.135525   \n",
       "\n",
       "   Total_expenditure  Income_composition_of_resources  Schooling  \\\n",
       "0           7.845313                         0.542585  12.046433   \n",
       "1           6.703710                         0.620611  16.947498   \n",
       "2          14.811973                         0.676434  16.698824   \n",
       "3           1.782969                         0.422900  10.826091   \n",
       "4           2.990539                         0.885590   8.567364   \n",
       "\n",
       "   Life_expectancy  \n",
       "0         90.00000  \n",
       "1         90.00000  \n",
       "2         90.00000  \n",
       "3         89.37576  \n",
       "4         90.00000  "
      ]
     },
     "execution_count": 223,
     "metadata": {},
     "output_type": "execute_result"
    }
   ],
   "source": [
    "df.head()"
   ]
  },
  {
   "cell_type": "code",
   "execution_count": 224,
   "id": "92053f29",
   "metadata": {},
   "outputs": [
    {
     "name": "stdout",
     "output_type": "stream",
     "text": [
      "<class 'pandas.core.frame.DataFrame'>\n",
      "RangeIndex: 1200 entries, 0 to 1199\n",
      "Data columns (total 11 columns):\n",
      " #   Column                           Non-Null Count  Dtype  \n",
      "---  ------                           --------------  -----  \n",
      " 0   Country                          1200 non-null   object \n",
      " 1   Year                             1200 non-null   int64  \n",
      " 2   Status                           1200 non-null   object \n",
      " 3   Adult_Mortality                  1200 non-null   int64  \n",
      " 4   BMI                              1080 non-null   float64\n",
      " 5   Alcohol                          1080 non-null   float64\n",
      " 6   HIV_AIDS                         1080 non-null   float64\n",
      " 7   Total_expenditure                1200 non-null   float64\n",
      " 8   Income_composition_of_resources  1080 non-null   float64\n",
      " 9   Schooling                        1080 non-null   float64\n",
      " 10  Life_expectancy                  1200 non-null   float64\n",
      "dtypes: float64(7), int64(2), object(2)\n",
      "memory usage: 103.3+ KB\n"
     ]
    }
   ],
   "source": [
    "df.info()"
   ]
  },
  {
   "cell_type": "code",
   "execution_count": 225,
   "id": "ddf344a9",
   "metadata": {},
   "outputs": [
    {
     "data": {
      "text/plain": [
       "(1200, 11)"
      ]
     },
     "execution_count": 225,
     "metadata": {},
     "output_type": "execute_result"
    }
   ],
   "source": [
    "df.shape"
   ]
  },
  {
   "cell_type": "markdown",
   "id": "4b20ff73",
   "metadata": {},
   "source": [
    "***Data Cleaning***"
   ]
  },
  {
   "cell_type": "code",
   "execution_count": 226,
   "id": "2ec6bd44",
   "metadata": {},
   "outputs": [
    {
     "data": {
      "application/vnd.microsoft.datawrangler.viewer.v0+json": {
       "columns": [
        {
         "name": "index",
         "rawType": "int64",
         "type": "integer"
        },
        {
         "name": "Country",
         "rawType": "object",
         "type": "string"
        },
        {
         "name": "Status",
         "rawType": "object",
         "type": "string"
        },
        {
         "name": "Adult_Mortality",
         "rawType": "int64",
         "type": "integer"
        },
        {
         "name": "BMI",
         "rawType": "float64",
         "type": "float"
        },
        {
         "name": "Alcohol",
         "rawType": "float64",
         "type": "float"
        },
        {
         "name": "HIV_AIDS",
         "rawType": "float64",
         "type": "float"
        },
        {
         "name": "Total_expenditure",
         "rawType": "float64",
         "type": "float"
        },
        {
         "name": "Income_composition_of_resources",
         "rawType": "float64",
         "type": "float"
        },
        {
         "name": "Schooling",
         "rawType": "float64",
         "type": "float"
        },
        {
         "name": "Life_expectancy",
         "rawType": "float64",
         "type": "float"
        }
       ],
       "ref": "676c4840-8b6d-4a10-a1b6-f893d98903d9",
       "rows": [
        [
         "0",
         "Canada",
         "Developed",
         "91",
         "23.01993839881504",
         "4.499131046655339",
         "1.0801572019653611",
         "7.845312970138329",
         "0.5425847899183325",
         "12.046433486263629",
         "90.0"
        ],
        [
         "1",
         "Germany",
         "Developed",
         "215",
         "21.95053349195281",
         "8.94122932857459",
         "4.8363559518514885",
         "6.703710338965596",
         "0.6206108704668907",
         "16.947497601372724",
         "90.0"
        ],
        [
         "2",
         "France",
         "Developed",
         "131",
         "22.77707648144813",
         "6.507658842828663",
         "3.57562509908444",
         "14.811972870910571",
         "0.6764343726227818",
         "16.698824063610733",
         "90.0"
        ],
        [
         "3",
         "Brazil",
         "Developing",
         "340",
         "31.65920663604704",
         "2.466082936183181",
         "4.785674162698981",
         "1.782968901795159",
         "0.4229004749559267",
         "10.826091353797024",
         "89.37575995516337"
        ],
        [
         "4",
         "Canada",
         "Developed",
         "207",
         null,
         null,
         "2.135525226801716",
         "2.9905392694229227",
         "0.8855900246735438",
         "8.567364211263863",
         "90.0"
        ]
       ],
       "shape": {
        "columns": 10,
        "rows": 5
       }
      },
      "text/html": [
       "<div>\n",
       "<style scoped>\n",
       "    .dataframe tbody tr th:only-of-type {\n",
       "        vertical-align: middle;\n",
       "    }\n",
       "\n",
       "    .dataframe tbody tr th {\n",
       "        vertical-align: top;\n",
       "    }\n",
       "\n",
       "    .dataframe thead th {\n",
       "        text-align: right;\n",
       "    }\n",
       "</style>\n",
       "<table border=\"1\" class=\"dataframe\">\n",
       "  <thead>\n",
       "    <tr style=\"text-align: right;\">\n",
       "      <th></th>\n",
       "      <th>Country</th>\n",
       "      <th>Status</th>\n",
       "      <th>Adult_Mortality</th>\n",
       "      <th>BMI</th>\n",
       "      <th>Alcohol</th>\n",
       "      <th>HIV_AIDS</th>\n",
       "      <th>Total_expenditure</th>\n",
       "      <th>Income_composition_of_resources</th>\n",
       "      <th>Schooling</th>\n",
       "      <th>Life_expectancy</th>\n",
       "    </tr>\n",
       "  </thead>\n",
       "  <tbody>\n",
       "    <tr>\n",
       "      <th>0</th>\n",
       "      <td>Canada</td>\n",
       "      <td>Developed</td>\n",
       "      <td>91</td>\n",
       "      <td>23.019938</td>\n",
       "      <td>4.499131</td>\n",
       "      <td>1.080157</td>\n",
       "      <td>7.845313</td>\n",
       "      <td>0.542585</td>\n",
       "      <td>12.046433</td>\n",
       "      <td>90.00000</td>\n",
       "    </tr>\n",
       "    <tr>\n",
       "      <th>1</th>\n",
       "      <td>Germany</td>\n",
       "      <td>Developed</td>\n",
       "      <td>215</td>\n",
       "      <td>21.950533</td>\n",
       "      <td>8.941229</td>\n",
       "      <td>4.836356</td>\n",
       "      <td>6.703710</td>\n",
       "      <td>0.620611</td>\n",
       "      <td>16.947498</td>\n",
       "      <td>90.00000</td>\n",
       "    </tr>\n",
       "    <tr>\n",
       "      <th>2</th>\n",
       "      <td>France</td>\n",
       "      <td>Developed</td>\n",
       "      <td>131</td>\n",
       "      <td>22.777076</td>\n",
       "      <td>6.507659</td>\n",
       "      <td>3.575625</td>\n",
       "      <td>14.811973</td>\n",
       "      <td>0.676434</td>\n",
       "      <td>16.698824</td>\n",
       "      <td>90.00000</td>\n",
       "    </tr>\n",
       "    <tr>\n",
       "      <th>3</th>\n",
       "      <td>Brazil</td>\n",
       "      <td>Developing</td>\n",
       "      <td>340</td>\n",
       "      <td>31.659207</td>\n",
       "      <td>2.466083</td>\n",
       "      <td>4.785674</td>\n",
       "      <td>1.782969</td>\n",
       "      <td>0.422900</td>\n",
       "      <td>10.826091</td>\n",
       "      <td>89.37576</td>\n",
       "    </tr>\n",
       "    <tr>\n",
       "      <th>4</th>\n",
       "      <td>Canada</td>\n",
       "      <td>Developed</td>\n",
       "      <td>207</td>\n",
       "      <td>NaN</td>\n",
       "      <td>NaN</td>\n",
       "      <td>2.135525</td>\n",
       "      <td>2.990539</td>\n",
       "      <td>0.885590</td>\n",
       "      <td>8.567364</td>\n",
       "      <td>90.00000</td>\n",
       "    </tr>\n",
       "  </tbody>\n",
       "</table>\n",
       "</div>"
      ],
      "text/plain": [
       "   Country      Status  Adult_Mortality        BMI   Alcohol  HIV_AIDS  \\\n",
       "0   Canada   Developed               91  23.019938  4.499131  1.080157   \n",
       "1  Germany   Developed              215  21.950533  8.941229  4.836356   \n",
       "2   France   Developed              131  22.777076  6.507659  3.575625   \n",
       "3   Brazil  Developing              340  31.659207  2.466083  4.785674   \n",
       "4   Canada   Developed              207        NaN       NaN  2.135525   \n",
       "\n",
       "   Total_expenditure  Income_composition_of_resources  Schooling  \\\n",
       "0           7.845313                         0.542585  12.046433   \n",
       "1           6.703710                         0.620611  16.947498   \n",
       "2          14.811973                         0.676434  16.698824   \n",
       "3           1.782969                         0.422900  10.826091   \n",
       "4           2.990539                         0.885590   8.567364   \n",
       "\n",
       "   Life_expectancy  \n",
       "0         90.00000  \n",
       "1         90.00000  \n",
       "2         90.00000  \n",
       "3         89.37576  \n",
       "4         90.00000  "
      ]
     },
     "execution_count": 226,
     "metadata": {},
     "output_type": "execute_result"
    }
   ],
   "source": [
    "#year column dropped\n",
    "df.drop(columns=['Year'],inplace=True)\n",
    "df.head()"
   ]
  },
  {
   "cell_type": "code",
   "execution_count": 227,
   "id": "0243dac4",
   "metadata": {},
   "outputs": [],
   "source": [
    "misscol = ['BMI','Alcohol','HIV_AIDS','Total_expenditure','Income_composition_of_resources','Schooling']"
   ]
  },
  {
   "cell_type": "code",
   "execution_count": 228,
   "id": "b512097a",
   "metadata": {},
   "outputs": [
    {
     "data": {
      "application/vnd.microsoft.datawrangler.viewer.v0+json": {
       "columns": [
        {
         "name": "index",
         "rawType": "object",
         "type": "string"
        },
        {
         "name": "0",
         "rawType": "int64",
         "type": "integer"
        }
       ],
       "ref": "f5e19aa1-5c71-4255-a90f-9a3ee0707aac",
       "rows": [
        [
         "Country",
         "0"
        ],
        [
         "Status",
         "0"
        ],
        [
         "Adult_Mortality",
         "0"
        ],
        [
         "BMI",
         "120"
        ],
        [
         "Alcohol",
         "120"
        ],
        [
         "HIV_AIDS",
         "120"
        ],
        [
         "Total_expenditure",
         "0"
        ],
        [
         "Income_composition_of_resources",
         "120"
        ],
        [
         "Schooling",
         "120"
        ],
        [
         "Life_expectancy",
         "0"
        ]
       ],
       "shape": {
        "columns": 1,
        "rows": 10
       }
      },
      "text/plain": [
       "Country                              0\n",
       "Status                               0\n",
       "Adult_Mortality                      0\n",
       "BMI                                120\n",
       "Alcohol                            120\n",
       "HIV_AIDS                           120\n",
       "Total_expenditure                    0\n",
       "Income_composition_of_resources    120\n",
       "Schooling                          120\n",
       "Life_expectancy                      0\n",
       "dtype: int64"
      ]
     },
     "execution_count": 228,
     "metadata": {},
     "output_type": "execute_result"
    }
   ],
   "source": [
    "df.isnull().sum()"
   ]
  },
  {
   "cell_type": "markdown",
   "id": "5ff58f96",
   "metadata": {},
   "source": [
    "#### Training model "
   ]
  },
  {
   "cell_type": "code",
   "execution_count": 229,
   "id": "4b2057e0",
   "metadata": {},
   "outputs": [],
   "source": [
    "from sklearn.model_selection import train_test_split,cross_val_score\n",
    "from sklearn.preprocessing  import OneHotEncoder,StandardScaler,OrdinalEncoder\n",
    "from sklearn.metrics import r2_score, mean_squared_error, mean_absolute_error\n",
    "from sklearn.linear_model import LinearRegression\n",
    "from sklearn.tree import DecisionTreeClassifier\n",
    "from sklearn.compose import ColumnTransformer\n",
    "from sklearn.pipeline import Pipeline\n",
    "from sklearn.impute import SimpleImputer"
   ]
  },
  {
   "cell_type": "code",
   "execution_count": 230,
   "id": "97d495a4",
   "metadata": {},
   "outputs": [],
   "source": [
    "x = df.drop(columns=['Life_expectancy'],axis=1)\n",
    "y = df['Life_expectancy']"
   ]
  },
  {
   "cell_type": "code",
   "execution_count": 231,
   "id": "f541fb8e",
   "metadata": {},
   "outputs": [],
   "source": [
    "# train test spilt\n",
    "x_train,x_test,y_train,y_test = train_test_split(x,y,random_state=42,test_size=0.2)"
   ]
  },
  {
   "cell_type": "code",
   "execution_count": 232,
   "id": "0c093b12",
   "metadata": {},
   "outputs": [
    {
     "data": {
      "text/plain": [
       "((960, 9), (240, 9))"
      ]
     },
     "execution_count": 232,
     "metadata": {},
     "output_type": "execute_result"
    }
   ],
   "source": [
    "x_train.shape , x_test.shape"
   ]
  },
  {
   "cell_type": "markdown",
   "id": "9c34664b",
   "metadata": {},
   "source": [
    "#### Pre Processing\n"
   ]
  },
  {
   "cell_type": "code",
   "execution_count": 233,
   "id": "5fb8ab70",
   "metadata": {},
   "outputs": [],
   "source": [
    "numeric_col = ['Adult_Mortality','BMI','Alcohol','HIV_AIDS','Total_expenditure','Income_composition_of_resources','Schooling']\n",
    "categor_col = ['Country']\n",
    "ordinal_col = ['Status']"
   ]
  },
  {
   "cell_type": "code",
   "execution_count": 234,
   "id": "cd6a272b",
   "metadata": {},
   "outputs": [],
   "source": [
    "# impute + scale\n",
    "num_transf = Pipeline([\n",
    "    ('impute',SimpleImputer(strategy='mean')),\n",
    "    (\"scaling\",StandardScaler())\n",
    "])"
   ]
  },
  {
   "cell_type": "code",
   "execution_count": 235,
   "id": "78885bdc",
   "metadata": {},
   "outputs": [],
   "source": [
    "ord_tranf = Pipeline([\n",
    "    (\"ordinal\", OrdinalEncoder(categories=[['Developed','Developing']])),\n",
    "])"
   ]
  },
  {
   "cell_type": "code",
   "execution_count": 236,
   "id": "3b1b57cc",
   "metadata": {},
   "outputs": [],
   "source": [
    "ohe_tranf = Pipeline([\n",
    "    ('onehot',OneHotEncoder(drop='first',handle_unknown='ignore'))\n",
    "])"
   ]
  },
  {
   "cell_type": "code",
   "execution_count": 237,
   "id": "76e4c508",
   "metadata": {},
   "outputs": [],
   "source": [
    "preprocessing = ColumnTransformer([\n",
    "    ('num',num_transf,numeric_col),\n",
    "    ('ord',ord_tranf,ordinal_col),\n",
    "    ('cat',ohe_tranf,categor_col),\n",
    "])"
   ]
  },
  {
   "cell_type": "code",
   "execution_count": 238,
   "id": "6a8469b2",
   "metadata": {},
   "outputs": [],
   "source": [
    "mypipe = Pipeline([\n",
    "    (\"preprocessor\",preprocessing),\n",
    "    (\"model\",LinearRegression()),\n",
    "])"
   ]
  },
  {
   "cell_type": "code",
   "execution_count": 239,
   "id": "f974885d",
   "metadata": {},
   "outputs": [],
   "source": [
    "pipeline  = mypipe.fit(x_train,y_train)"
   ]
  },
  {
   "cell_type": "code",
   "execution_count": 240,
   "id": "6037cbb2",
   "metadata": {},
   "outputs": [],
   "source": [
    "ypred = pipeline.predict(x_test)"
   ]
  },
  {
   "cell_type": "code",
   "execution_count": 241,
   "id": "1e5a7e8b",
   "metadata": {},
   "outputs": [
    {
     "name": "stdout",
     "output_type": "stream",
     "text": [
      "0.11561643434390934\n"
     ]
    }
   ],
   "source": [
    "r2 = r2_score(y_test,ypred)\n",
    "print(r2)"
   ]
  },
  {
   "cell_type": "code",
   "execution_count": 246,
   "id": "c31c156a",
   "metadata": {},
   "outputs": [
    {
     "name": "stdout",
     "output_type": "stream",
     "text": [
      "R² Score: 0.116\n",
      "RMSE: 1.094\n",
      "MAE: 0.353\n"
     ]
    }
   ],
   "source": [
    "mse = mean_squared_error(y_test, ypred)\n",
    "rmse = np.sqrt(mse)\n",
    "mae = mean_absolute_error(y_test, ypred)\n",
    "\n",
    "print(f\"R² Score: {r2_score(y_test, ypred):.3f}\")\n",
    "print(f\"RMSE: {rmse:.3f}\")\n",
    "print(f\"MAE: {mae:.3f}\")"
   ]
  },
  {
   "cell_type": "code",
   "execution_count": null,
   "id": "95d15464",
   "metadata": {},
   "outputs": [],
   "source": []
  }
 ],
 "metadata": {
  "kernelspec": {
   "display_name": ".venv",
   "language": "python",
   "name": "python3"
  },
  "language_info": {
   "codemirror_mode": {
    "name": "ipython",
    "version": 3
   },
   "file_extension": ".py",
   "mimetype": "text/x-python",
   "name": "python",
   "nbconvert_exporter": "python",
   "pygments_lexer": "ipython3",
   "version": "3.13.2"
  }
 },
 "nbformat": 4,
 "nbformat_minor": 5
}
