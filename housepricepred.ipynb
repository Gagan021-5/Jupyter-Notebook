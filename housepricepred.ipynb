{
 "cells": [
  {
   "cell_type": "code",
   "execution_count": null,
   "id": "e56032ba",
   "metadata": {},
   "outputs": [],
   "source": [
    "import numpy as np\n",
    "import pandas as pd\n",
    "from sklearn.model_selection import train_test_split\n",
    "from sklearn.preprocessing import StandardScaler\n",
    "from sklearn.linear_model import LinearRegression\n",
    "from sklearn.pipeline import Pipeline\n",
    "from sklearn.metrics import mean_squared_error, r2_score\n",
    "import joblib"
   ]
  },
  {
   "cell_type": "code",
   "execution_count": 3,
   "id": "0937d074",
   "metadata": {},
   "outputs": [],
   "source": [
    "df = pd.read_csv('housepricing.csv') "
   ]
  },
  {
   "cell_type": "code",
   "execution_count": 4,
   "id": "83663ada",
   "metadata": {},
   "outputs": [
    {
     "data": {
      "application/vnd.microsoft.datawrangler.viewer.v0+json": {
       "columns": [
        {
         "name": "index",
         "rawType": "int64",
         "type": "integer"
        },
        {
         "name": "Id",
         "rawType": "int64",
         "type": "integer"
        },
        {
         "name": "MSSubClass",
         "rawType": "int64",
         "type": "integer"
        },
        {
         "name": "MSZoning",
         "rawType": "object",
         "type": "string"
        },
        {
         "name": "LotFrontage",
         "rawType": "float64",
         "type": "float"
        },
        {
         "name": "LotArea",
         "rawType": "int64",
         "type": "integer"
        },
        {
         "name": "Street",
         "rawType": "object",
         "type": "string"
        },
        {
         "name": "Alley",
         "rawType": "object",
         "type": "unknown"
        },
        {
         "name": "LotShape",
         "rawType": "object",
         "type": "string"
        },
        {
         "name": "LandContour",
         "rawType": "object",
         "type": "string"
        },
        {
         "name": "Utilities",
         "rawType": "object",
         "type": "string"
        },
        {
         "name": "LotConfig",
         "rawType": "object",
         "type": "string"
        },
        {
         "name": "LandSlope",
         "rawType": "object",
         "type": "string"
        },
        {
         "name": "Neighborhood",
         "rawType": "object",
         "type": "string"
        },
        {
         "name": "Condition1",
         "rawType": "object",
         "type": "string"
        },
        {
         "name": "Condition2",
         "rawType": "object",
         "type": "string"
        },
        {
         "name": "BldgType",
         "rawType": "object",
         "type": "string"
        },
        {
         "name": "HouseStyle",
         "rawType": "object",
         "type": "string"
        },
        {
         "name": "OverallQual",
         "rawType": "int64",
         "type": "integer"
        },
        {
         "name": "OverallCond",
         "rawType": "int64",
         "type": "integer"
        },
        {
         "name": "YearBuilt",
         "rawType": "int64",
         "type": "integer"
        },
        {
         "name": "YearRemodAdd",
         "rawType": "int64",
         "type": "integer"
        },
        {
         "name": "RoofStyle",
         "rawType": "object",
         "type": "string"
        },
        {
         "name": "RoofMatl",
         "rawType": "object",
         "type": "string"
        },
        {
         "name": "Exterior1st",
         "rawType": "object",
         "type": "string"
        },
        {
         "name": "Exterior2nd",
         "rawType": "object",
         "type": "string"
        },
        {
         "name": "MasVnrType",
         "rawType": "object",
         "type": "unknown"
        },
        {
         "name": "MasVnrArea",
         "rawType": "float64",
         "type": "float"
        },
        {
         "name": "ExterQual",
         "rawType": "object",
         "type": "string"
        },
        {
         "name": "ExterCond",
         "rawType": "object",
         "type": "string"
        },
        {
         "name": "Foundation",
         "rawType": "object",
         "type": "string"
        },
        {
         "name": "BsmtQual",
         "rawType": "object",
         "type": "string"
        },
        {
         "name": "BsmtCond",
         "rawType": "object",
         "type": "string"
        },
        {
         "name": "BsmtExposure",
         "rawType": "object",
         "type": "string"
        },
        {
         "name": "BsmtFinType1",
         "rawType": "object",
         "type": "string"
        },
        {
         "name": "BsmtFinSF1",
         "rawType": "int64",
         "type": "integer"
        },
        {
         "name": "BsmtFinType2",
         "rawType": "object",
         "type": "string"
        },
        {
         "name": "BsmtFinSF2",
         "rawType": "int64",
         "type": "integer"
        },
        {
         "name": "BsmtUnfSF",
         "rawType": "int64",
         "type": "integer"
        },
        {
         "name": "TotalBsmtSF",
         "rawType": "int64",
         "type": "integer"
        },
        {
         "name": "Heating",
         "rawType": "object",
         "type": "string"
        },
        {
         "name": "HeatingQC",
         "rawType": "object",
         "type": "string"
        },
        {
         "name": "CentralAir",
         "rawType": "object",
         "type": "string"
        },
        {
         "name": "Electrical",
         "rawType": "object",
         "type": "string"
        },
        {
         "name": "1stFlrSF",
         "rawType": "int64",
         "type": "integer"
        },
        {
         "name": "2ndFlrSF",
         "rawType": "int64",
         "type": "integer"
        },
        {
         "name": "LowQualFinSF",
         "rawType": "int64",
         "type": "integer"
        },
        {
         "name": "GrLivArea",
         "rawType": "int64",
         "type": "integer"
        },
        {
         "name": "BsmtFullBath",
         "rawType": "int64",
         "type": "integer"
        },
        {
         "name": "BsmtHalfBath",
         "rawType": "int64",
         "type": "integer"
        },
        {
         "name": "FullBath",
         "rawType": "int64",
         "type": "integer"
        },
        {
         "name": "HalfBath",
         "rawType": "int64",
         "type": "integer"
        },
        {
         "name": "BedroomAbvGr",
         "rawType": "int64",
         "type": "integer"
        },
        {
         "name": "KitchenAbvGr",
         "rawType": "int64",
         "type": "integer"
        },
        {
         "name": "KitchenQual",
         "rawType": "object",
         "type": "string"
        },
        {
         "name": "TotRmsAbvGrd",
         "rawType": "int64",
         "type": "integer"
        },
        {
         "name": "Functional",
         "rawType": "object",
         "type": "string"
        },
        {
         "name": "Fireplaces",
         "rawType": "int64",
         "type": "integer"
        },
        {
         "name": "FireplaceQu",
         "rawType": "object",
         "type": "unknown"
        },
        {
         "name": "GarageType",
         "rawType": "object",
         "type": "string"
        },
        {
         "name": "GarageYrBlt",
         "rawType": "float64",
         "type": "float"
        },
        {
         "name": "GarageFinish",
         "rawType": "object",
         "type": "string"
        },
        {
         "name": "GarageCars",
         "rawType": "int64",
         "type": "integer"
        },
        {
         "name": "GarageArea",
         "rawType": "int64",
         "type": "integer"
        },
        {
         "name": "GarageQual",
         "rawType": "object",
         "type": "string"
        },
        {
         "name": "GarageCond",
         "rawType": "object",
         "type": "string"
        },
        {
         "name": "PavedDrive",
         "rawType": "object",
         "type": "string"
        },
        {
         "name": "WoodDeckSF",
         "rawType": "int64",
         "type": "integer"
        },
        {
         "name": "OpenPorchSF",
         "rawType": "int64",
         "type": "integer"
        },
        {
         "name": "EnclosedPorch",
         "rawType": "int64",
         "type": "integer"
        },
        {
         "name": "3SsnPorch",
         "rawType": "int64",
         "type": "integer"
        },
        {
         "name": "ScreenPorch",
         "rawType": "int64",
         "type": "integer"
        },
        {
         "name": "PoolArea",
         "rawType": "int64",
         "type": "integer"
        },
        {
         "name": "PoolQC",
         "rawType": "object",
         "type": "unknown"
        },
        {
         "name": "Fence",
         "rawType": "object",
         "type": "unknown"
        },
        {
         "name": "MiscFeature",
         "rawType": "object",
         "type": "unknown"
        },
        {
         "name": "MiscVal",
         "rawType": "int64",
         "type": "integer"
        },
        {
         "name": "MoSold",
         "rawType": "int64",
         "type": "integer"
        },
        {
         "name": "YrSold",
         "rawType": "int64",
         "type": "integer"
        },
        {
         "name": "SaleType",
         "rawType": "object",
         "type": "string"
        },
        {
         "name": "SaleCondition",
         "rawType": "object",
         "type": "string"
        },
        {
         "name": "SalePrice",
         "rawType": "int64",
         "type": "integer"
        }
       ],
       "ref": "2a2f89e9-08c5-4fcb-892f-f0ed7cb73bf0",
       "rows": [
        [
         "0",
         "1",
         "60",
         "RL",
         "65.0",
         "8450",
         "Pave",
         null,
         "Reg",
         "Lvl",
         "AllPub",
         "Inside",
         "Gtl",
         "CollgCr",
         "Norm",
         "Norm",
         "1Fam",
         "2Story",
         "7",
         "5",
         "2003",
         "2003",
         "Gable",
         "CompShg",
         "VinylSd",
         "VinylSd",
         "BrkFace",
         "196.0",
         "Gd",
         "TA",
         "PConc",
         "Gd",
         "TA",
         "No",
         "GLQ",
         "706",
         "Unf",
         "0",
         "150",
         "856",
         "GasA",
         "Ex",
         "Y",
         "SBrkr",
         "856",
         "854",
         "0",
         "1710",
         "1",
         "0",
         "2",
         "1",
         "3",
         "1",
         "Gd",
         "8",
         "Typ",
         "0",
         null,
         "Attchd",
         "2003.0",
         "RFn",
         "2",
         "548",
         "TA",
         "TA",
         "Y",
         "0",
         "61",
         "0",
         "0",
         "0",
         "0",
         null,
         null,
         null,
         "0",
         "2",
         "2008",
         "WD",
         "Normal",
         "208500"
        ],
        [
         "1",
         "2",
         "20",
         "RL",
         "80.0",
         "9600",
         "Pave",
         null,
         "Reg",
         "Lvl",
         "AllPub",
         "FR2",
         "Gtl",
         "Veenker",
         "Feedr",
         "Norm",
         "1Fam",
         "1Story",
         "6",
         "8",
         "1976",
         "1976",
         "Gable",
         "CompShg",
         "MetalSd",
         "MetalSd",
         null,
         "0.0",
         "TA",
         "TA",
         "CBlock",
         "Gd",
         "TA",
         "Gd",
         "ALQ",
         "978",
         "Unf",
         "0",
         "284",
         "1262",
         "GasA",
         "Ex",
         "Y",
         "SBrkr",
         "1262",
         "0",
         "0",
         "1262",
         "0",
         "1",
         "2",
         "0",
         "3",
         "1",
         "TA",
         "6",
         "Typ",
         "1",
         "TA",
         "Attchd",
         "1976.0",
         "RFn",
         "2",
         "460",
         "TA",
         "TA",
         "Y",
         "298",
         "0",
         "0",
         "0",
         "0",
         "0",
         null,
         null,
         null,
         "0",
         "5",
         "2007",
         "WD",
         "Normal",
         "181500"
        ],
        [
         "2",
         "3",
         "60",
         "RL",
         "68.0",
         "11250",
         "Pave",
         null,
         "IR1",
         "Lvl",
         "AllPub",
         "Inside",
         "Gtl",
         "CollgCr",
         "Norm",
         "Norm",
         "1Fam",
         "2Story",
         "7",
         "5",
         "2001",
         "2002",
         "Gable",
         "CompShg",
         "VinylSd",
         "VinylSd",
         "BrkFace",
         "162.0",
         "Gd",
         "TA",
         "PConc",
         "Gd",
         "TA",
         "Mn",
         "GLQ",
         "486",
         "Unf",
         "0",
         "434",
         "920",
         "GasA",
         "Ex",
         "Y",
         "SBrkr",
         "920",
         "866",
         "0",
         "1786",
         "1",
         "0",
         "2",
         "1",
         "3",
         "1",
         "Gd",
         "6",
         "Typ",
         "1",
         "TA",
         "Attchd",
         "2001.0",
         "RFn",
         "2",
         "608",
         "TA",
         "TA",
         "Y",
         "0",
         "42",
         "0",
         "0",
         "0",
         "0",
         null,
         null,
         null,
         "0",
         "9",
         "2008",
         "WD",
         "Normal",
         "223500"
        ],
        [
         "3",
         "4",
         "70",
         "RL",
         "60.0",
         "9550",
         "Pave",
         null,
         "IR1",
         "Lvl",
         "AllPub",
         "Corner",
         "Gtl",
         "Crawfor",
         "Norm",
         "Norm",
         "1Fam",
         "2Story",
         "7",
         "5",
         "1915",
         "1970",
         "Gable",
         "CompShg",
         "Wd Sdng",
         "Wd Shng",
         null,
         "0.0",
         "TA",
         "TA",
         "BrkTil",
         "TA",
         "Gd",
         "No",
         "ALQ",
         "216",
         "Unf",
         "0",
         "540",
         "756",
         "GasA",
         "Gd",
         "Y",
         "SBrkr",
         "961",
         "756",
         "0",
         "1717",
         "1",
         "0",
         "1",
         "0",
         "3",
         "1",
         "Gd",
         "7",
         "Typ",
         "1",
         "Gd",
         "Detchd",
         "1998.0",
         "Unf",
         "3",
         "642",
         "TA",
         "TA",
         "Y",
         "0",
         "35",
         "272",
         "0",
         "0",
         "0",
         null,
         null,
         null,
         "0",
         "2",
         "2006",
         "WD",
         "Abnorml",
         "140000"
        ],
        [
         "4",
         "5",
         "60",
         "RL",
         "84.0",
         "14260",
         "Pave",
         null,
         "IR1",
         "Lvl",
         "AllPub",
         "FR2",
         "Gtl",
         "NoRidge",
         "Norm",
         "Norm",
         "1Fam",
         "2Story",
         "8",
         "5",
         "2000",
         "2000",
         "Gable",
         "CompShg",
         "VinylSd",
         "VinylSd",
         "BrkFace",
         "350.0",
         "Gd",
         "TA",
         "PConc",
         "Gd",
         "TA",
         "Av",
         "GLQ",
         "655",
         "Unf",
         "0",
         "490",
         "1145",
         "GasA",
         "Ex",
         "Y",
         "SBrkr",
         "1145",
         "1053",
         "0",
         "2198",
         "1",
         "0",
         "2",
         "1",
         "4",
         "1",
         "Gd",
         "9",
         "Typ",
         "1",
         "TA",
         "Attchd",
         "2000.0",
         "RFn",
         "3",
         "836",
         "TA",
         "TA",
         "Y",
         "192",
         "84",
         "0",
         "0",
         "0",
         "0",
         null,
         null,
         null,
         "0",
         "12",
         "2008",
         "WD",
         "Normal",
         "250000"
        ]
       ],
       "shape": {
        "columns": 81,
        "rows": 5
       }
      },
      "text/html": [
       "<div>\n",
       "<style scoped>\n",
       "    .dataframe tbody tr th:only-of-type {\n",
       "        vertical-align: middle;\n",
       "    }\n",
       "\n",
       "    .dataframe tbody tr th {\n",
       "        vertical-align: top;\n",
       "    }\n",
       "\n",
       "    .dataframe thead th {\n",
       "        text-align: right;\n",
       "    }\n",
       "</style>\n",
       "<table border=\"1\" class=\"dataframe\">\n",
       "  <thead>\n",
       "    <tr style=\"text-align: right;\">\n",
       "      <th></th>\n",
       "      <th>Id</th>\n",
       "      <th>MSSubClass</th>\n",
       "      <th>MSZoning</th>\n",
       "      <th>LotFrontage</th>\n",
       "      <th>LotArea</th>\n",
       "      <th>Street</th>\n",
       "      <th>Alley</th>\n",
       "      <th>LotShape</th>\n",
       "      <th>LandContour</th>\n",
       "      <th>Utilities</th>\n",
       "      <th>...</th>\n",
       "      <th>PoolArea</th>\n",
       "      <th>PoolQC</th>\n",
       "      <th>Fence</th>\n",
       "      <th>MiscFeature</th>\n",
       "      <th>MiscVal</th>\n",
       "      <th>MoSold</th>\n",
       "      <th>YrSold</th>\n",
       "      <th>SaleType</th>\n",
       "      <th>SaleCondition</th>\n",
       "      <th>SalePrice</th>\n",
       "    </tr>\n",
       "  </thead>\n",
       "  <tbody>\n",
       "    <tr>\n",
       "      <th>0</th>\n",
       "      <td>1</td>\n",
       "      <td>60</td>\n",
       "      <td>RL</td>\n",
       "      <td>65.0</td>\n",
       "      <td>8450</td>\n",
       "      <td>Pave</td>\n",
       "      <td>NaN</td>\n",
       "      <td>Reg</td>\n",
       "      <td>Lvl</td>\n",
       "      <td>AllPub</td>\n",
       "      <td>...</td>\n",
       "      <td>0</td>\n",
       "      <td>NaN</td>\n",
       "      <td>NaN</td>\n",
       "      <td>NaN</td>\n",
       "      <td>0</td>\n",
       "      <td>2</td>\n",
       "      <td>2008</td>\n",
       "      <td>WD</td>\n",
       "      <td>Normal</td>\n",
       "      <td>208500</td>\n",
       "    </tr>\n",
       "    <tr>\n",
       "      <th>1</th>\n",
       "      <td>2</td>\n",
       "      <td>20</td>\n",
       "      <td>RL</td>\n",
       "      <td>80.0</td>\n",
       "      <td>9600</td>\n",
       "      <td>Pave</td>\n",
       "      <td>NaN</td>\n",
       "      <td>Reg</td>\n",
       "      <td>Lvl</td>\n",
       "      <td>AllPub</td>\n",
       "      <td>...</td>\n",
       "      <td>0</td>\n",
       "      <td>NaN</td>\n",
       "      <td>NaN</td>\n",
       "      <td>NaN</td>\n",
       "      <td>0</td>\n",
       "      <td>5</td>\n",
       "      <td>2007</td>\n",
       "      <td>WD</td>\n",
       "      <td>Normal</td>\n",
       "      <td>181500</td>\n",
       "    </tr>\n",
       "    <tr>\n",
       "      <th>2</th>\n",
       "      <td>3</td>\n",
       "      <td>60</td>\n",
       "      <td>RL</td>\n",
       "      <td>68.0</td>\n",
       "      <td>11250</td>\n",
       "      <td>Pave</td>\n",
       "      <td>NaN</td>\n",
       "      <td>IR1</td>\n",
       "      <td>Lvl</td>\n",
       "      <td>AllPub</td>\n",
       "      <td>...</td>\n",
       "      <td>0</td>\n",
       "      <td>NaN</td>\n",
       "      <td>NaN</td>\n",
       "      <td>NaN</td>\n",
       "      <td>0</td>\n",
       "      <td>9</td>\n",
       "      <td>2008</td>\n",
       "      <td>WD</td>\n",
       "      <td>Normal</td>\n",
       "      <td>223500</td>\n",
       "    </tr>\n",
       "    <tr>\n",
       "      <th>3</th>\n",
       "      <td>4</td>\n",
       "      <td>70</td>\n",
       "      <td>RL</td>\n",
       "      <td>60.0</td>\n",
       "      <td>9550</td>\n",
       "      <td>Pave</td>\n",
       "      <td>NaN</td>\n",
       "      <td>IR1</td>\n",
       "      <td>Lvl</td>\n",
       "      <td>AllPub</td>\n",
       "      <td>...</td>\n",
       "      <td>0</td>\n",
       "      <td>NaN</td>\n",
       "      <td>NaN</td>\n",
       "      <td>NaN</td>\n",
       "      <td>0</td>\n",
       "      <td>2</td>\n",
       "      <td>2006</td>\n",
       "      <td>WD</td>\n",
       "      <td>Abnorml</td>\n",
       "      <td>140000</td>\n",
       "    </tr>\n",
       "    <tr>\n",
       "      <th>4</th>\n",
       "      <td>5</td>\n",
       "      <td>60</td>\n",
       "      <td>RL</td>\n",
       "      <td>84.0</td>\n",
       "      <td>14260</td>\n",
       "      <td>Pave</td>\n",
       "      <td>NaN</td>\n",
       "      <td>IR1</td>\n",
       "      <td>Lvl</td>\n",
       "      <td>AllPub</td>\n",
       "      <td>...</td>\n",
       "      <td>0</td>\n",
       "      <td>NaN</td>\n",
       "      <td>NaN</td>\n",
       "      <td>NaN</td>\n",
       "      <td>0</td>\n",
       "      <td>12</td>\n",
       "      <td>2008</td>\n",
       "      <td>WD</td>\n",
       "      <td>Normal</td>\n",
       "      <td>250000</td>\n",
       "    </tr>\n",
       "  </tbody>\n",
       "</table>\n",
       "<p>5 rows × 81 columns</p>\n",
       "</div>"
      ],
      "text/plain": [
       "   Id  MSSubClass MSZoning  LotFrontage  LotArea Street Alley LotShape  \\\n",
       "0   1          60       RL         65.0     8450   Pave   NaN      Reg   \n",
       "1   2          20       RL         80.0     9600   Pave   NaN      Reg   \n",
       "2   3          60       RL         68.0    11250   Pave   NaN      IR1   \n",
       "3   4          70       RL         60.0     9550   Pave   NaN      IR1   \n",
       "4   5          60       RL         84.0    14260   Pave   NaN      IR1   \n",
       "\n",
       "  LandContour Utilities  ... PoolArea PoolQC Fence MiscFeature MiscVal MoSold  \\\n",
       "0         Lvl    AllPub  ...        0    NaN   NaN         NaN       0      2   \n",
       "1         Lvl    AllPub  ...        0    NaN   NaN         NaN       0      5   \n",
       "2         Lvl    AllPub  ...        0    NaN   NaN         NaN       0      9   \n",
       "3         Lvl    AllPub  ...        0    NaN   NaN         NaN       0      2   \n",
       "4         Lvl    AllPub  ...        0    NaN   NaN         NaN       0     12   \n",
       "\n",
       "  YrSold  SaleType  SaleCondition  SalePrice  \n",
       "0   2008        WD         Normal     208500  \n",
       "1   2007        WD         Normal     181500  \n",
       "2   2008        WD         Normal     223500  \n",
       "3   2006        WD        Abnorml     140000  \n",
       "4   2008        WD         Normal     250000  \n",
       "\n",
       "[5 rows x 81 columns]"
      ]
     },
     "execution_count": 4,
     "metadata": {},
     "output_type": "execute_result"
    }
   ],
   "source": [
    "df.head()"
   ]
  },
  {
   "cell_type": "code",
   "execution_count": 5,
   "id": "83a82b2b",
   "metadata": {},
   "outputs": [
    {
     "data": {
      "application/vnd.microsoft.datawrangler.viewer.v0+json": {
       "columns": [
        {
         "name": "index",
         "rawType": "object",
         "type": "string"
        },
        {
         "name": "0",
         "rawType": "float64",
         "type": "float"
        }
       ],
       "ref": "6e727fe0-dd9d-4882-a147-69ffa6c6b939",
       "rows": [
        [
         "Id",
         "0.0"
        ],
        [
         "MSSubClass",
         "0.0"
        ],
        [
         "MSZoning",
         "0.0"
        ],
        [
         "LotFrontage",
         "0.1773972602739726"
        ],
        [
         "LotArea",
         "0.0"
        ],
        [
         "Street",
         "0.0"
        ],
        [
         "Alley",
         "0.9376712328767123"
        ],
        [
         "LotShape",
         "0.0"
        ],
        [
         "LandContour",
         "0.0"
        ],
        [
         "Utilities",
         "0.0"
        ],
        [
         "LotConfig",
         "0.0"
        ],
        [
         "LandSlope",
         "0.0"
        ],
        [
         "Neighborhood",
         "0.0"
        ],
        [
         "Condition1",
         "0.0"
        ],
        [
         "Condition2",
         "0.0"
        ],
        [
         "BldgType",
         "0.0"
        ],
        [
         "HouseStyle",
         "0.0"
        ],
        [
         "OverallQual",
         "0.0"
        ],
        [
         "OverallCond",
         "0.0"
        ],
        [
         "YearBuilt",
         "0.0"
        ],
        [
         "YearRemodAdd",
         "0.0"
        ],
        [
         "RoofStyle",
         "0.0"
        ],
        [
         "RoofMatl",
         "0.0"
        ],
        [
         "Exterior1st",
         "0.0"
        ],
        [
         "Exterior2nd",
         "0.0"
        ],
        [
         "MasVnrType",
         "0.5972602739726027"
        ],
        [
         "MasVnrArea",
         "0.005479452054794521"
        ],
        [
         "ExterQual",
         "0.0"
        ],
        [
         "ExterCond",
         "0.0"
        ],
        [
         "Foundation",
         "0.0"
        ],
        [
         "BsmtQual",
         "0.025342465753424658"
        ],
        [
         "BsmtCond",
         "0.025342465753424658"
        ],
        [
         "BsmtExposure",
         "0.026027397260273973"
        ],
        [
         "BsmtFinType1",
         "0.025342465753424658"
        ],
        [
         "BsmtFinSF1",
         "0.0"
        ],
        [
         "BsmtFinType2",
         "0.026027397260273973"
        ],
        [
         "BsmtFinSF2",
         "0.0"
        ],
        [
         "BsmtUnfSF",
         "0.0"
        ],
        [
         "TotalBsmtSF",
         "0.0"
        ],
        [
         "Heating",
         "0.0"
        ],
        [
         "HeatingQC",
         "0.0"
        ],
        [
         "CentralAir",
         "0.0"
        ],
        [
         "Electrical",
         "0.0006849315068493151"
        ],
        [
         "1stFlrSF",
         "0.0"
        ],
        [
         "2ndFlrSF",
         "0.0"
        ],
        [
         "LowQualFinSF",
         "0.0"
        ],
        [
         "GrLivArea",
         "0.0"
        ],
        [
         "BsmtFullBath",
         "0.0"
        ],
        [
         "BsmtHalfBath",
         "0.0"
        ],
        [
         "FullBath",
         "0.0"
        ]
       ],
       "shape": {
        "columns": 1,
        "rows": 81
       }
      },
      "text/plain": [
       "Id               0.000000\n",
       "MSSubClass       0.000000\n",
       "MSZoning         0.000000\n",
       "LotFrontage      0.177397\n",
       "LotArea          0.000000\n",
       "                   ...   \n",
       "MoSold           0.000000\n",
       "YrSold           0.000000\n",
       "SaleType         0.000000\n",
       "SaleCondition    0.000000\n",
       "SalePrice        0.000000\n",
       "Length: 81, dtype: float64"
      ]
     },
     "execution_count": 5,
     "metadata": {},
     "output_type": "execute_result"
    }
   ],
   "source": [
    "df.isnull().mean()"
   ]
  },
  {
   "cell_type": "code",
   "execution_count": null,
   "id": "5e6c29b3",
   "metadata": {},
   "outputs": [],
   "source": []
  }
 ],
 "metadata": {
  "kernelspec": {
   "display_name": ".venv",
   "language": "python",
   "name": "python3"
  },
  "language_info": {
   "codemirror_mode": {
    "name": "ipython",
    "version": 3
   },
   "file_extension": ".py",
   "mimetype": "text/x-python",
   "name": "python",
   "nbconvert_exporter": "python",
   "pygments_lexer": "ipython3",
   "version": "3.13.2"
  }
 },
 "nbformat": 4,
 "nbformat_minor": 5
}
