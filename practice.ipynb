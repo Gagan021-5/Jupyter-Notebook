{
 "cells": [
  {
   "cell_type": "code",
   "execution_count": 3,
   "id": "bc3572e9",
   "metadata": {},
   "outputs": [],
   "source": [
    "import numpy as np\n",
    "import pandas as pd"
   ]
  },
  {
   "cell_type": "code",
   "execution_count": 4,
   "id": "6aa6ac0b",
   "metadata": {},
   "outputs": [],
   "source": [
    "data = {\n",
    "    'Student': ['Alice', 'Bob', 'Charlie', 'David', 'Eve'],\n",
    "    'Math': [85, 90, 78, 92, 88],\n",
    "    'Science': [88, 85, 82, 90, 87],\n",
    "    'English': [90, 88, 85, 80, 92]\n",
    "}\n",
    "\n",
    "df = pd.DataFrame(data)\n"
   ]
  },
  {
   "cell_type": "code",
   "execution_count": 5,
   "id": "9c8694d7",
   "metadata": {},
   "outputs": [],
   "source": [
    "grades = df[['Math','Science','English']].to_numpy()"
   ]
  },
  {
   "cell_type": "code",
   "execution_count": 6,
   "id": "f2697dfd",
   "metadata": {},
   "outputs": [
    {
     "name": "stdout",
     "output_type": "stream",
     "text": [
      "[[85 88 90]\n",
      " [90 85 88]\n",
      " [78 82 85]\n",
      " [92 90 80]\n",
      " [88 87 92]]\n"
     ]
    }
   ],
   "source": [
    "print(grades)"
   ]
  },
  {
   "cell_type": "code",
   "execution_count": 9,
   "id": "a1ed0584",
   "metadata": {},
   "outputs": [
    {
     "name": "stdout",
     "output_type": "stream",
     "text": [
      "   Student  Math  Science  English    Average\n",
      "0    Alice    85       88       90  87.666667\n",
      "1      Bob    90       85       88  87.666667\n",
      "2  Charlie    78       82       85  81.666667\n",
      "3    David    92       90       80  87.333333\n",
      "4      Eve    88       87       92  89.000000\n"
     ]
    }
   ],
   "source": [
    "studentavg = np.average(grades,axis=1)\n",
    "df['Average'] = studentavg\n",
    "print(df)"
   ]
  },
  {
   "cell_type": "code",
   "execution_count": 14,
   "id": "6b20519e",
   "metadata": {},
   "outputs": [
    {
     "name": "stdout",
     "output_type": "stream",
     "text": [
      "[5.45893763 3.04959014 4.69041576]\n"
     ]
    }
   ],
   "source": [
    "sd = np.std(grades,axis=0,ddof=1)\n",
    "print(sd)"
   ]
  },
  {
   "cell_type": "markdown",
   "id": "ed4b7a62",
   "metadata": {},
   "source": [
    "## filter logic with different queries\n"
   ]
  },
  {
   "cell_type": "code",
   "execution_count": 15,
   "id": "0589dcae",
   "metadata": {},
   "outputs": [
    {
     "name": "stdout",
     "output_type": "stream",
     "text": [
      "[ True  True False  True  True]\n"
     ]
    }
   ],
   "source": [
    "filterstud = np.average(grades,axis=1) > 85\n",
    "print(filterstud)"
   ]
  },
  {
   "cell_type": "code",
   "execution_count": 16,
   "id": "53d93187",
   "metadata": {},
   "outputs": [
    {
     "name": "stdout",
     "output_type": "stream",
     "text": [
      "  Student  Math  Science  English    Average  Standard deviation\n",
      "0   Alice    85       88       90  87.666667            2.054805\n",
      "1     Bob    90       85       88  87.666667            2.054805\n",
      "3   David    92       90       80  87.333333            5.249339\n",
      "4     Eve    88       87       92  89.000000            2.160247\n"
     ]
    }
   ],
   "source": [
    "fstd = df.query('Average > 85')\n",
    "print(fstd)"
   ]
  },
  {
   "cell_type": "code",
   "execution_count": 18,
   "id": "17fb17c1",
   "metadata": {},
   "outputs": [
    {
     "name": "stdout",
     "output_type": "stream",
     "text": [
      "[ 3  6  9 12 15]\n"
     ]
    }
   ],
   "source": [
    "arr = np.array([1,2,3,4,5])\n",
    "print(arr * 3)\n"
   ]
  },
  {
   "cell_type": "code",
   "execution_count": 22,
   "id": "3a1fb014",
   "metadata": {},
   "outputs": [
    {
     "name": "stdout",
     "output_type": "stream",
     "text": [
      "Average temperature :  71.6\n"
     ]
    }
   ],
   "source": [
    "temps = np.array([72, 68, 75, 70, 73])\n",
    "avgtemp = temps.mean(axis=0)\n",
    "print(\"Average temperature : \",avgtemp)\n"
   ]
  },
  {
   "cell_type": "code",
   "execution_count": 23,
   "id": "6f6014e0",
   "metadata": {},
   "outputs": [
    {
     "name": "stdout",
     "output_type": "stream",
     "text": [
      "75\n"
     ]
    }
   ],
   "source": [
    "maxtemp = temps.max()\n",
    "print(maxtemp)"
   ]
  },
  {
   "cell_type": "code",
   "execution_count": 27,
   "id": "9abcf1ee",
   "metadata": {},
   "outputs": [
    {
     "name": "stdout",
     "output_type": "stream",
     "text": [
      "[[1 2 3]\n",
      " [4 5 6]\n",
      " [7 8 9]]\n"
     ]
    }
   ],
   "source": [
    "matrixarr = np.arange(1,10).reshape(3,3)\n",
    "print(matrixarr)\n"
   ]
  },
  {
   "cell_type": "code",
   "execution_count": null,
   "id": "b41aa97a",
   "metadata": {},
   "outputs": [
    {
     "name": "stdout",
     "output_type": "stream",
     "text": [
      "Total score 528\n"
     ]
    }
   ],
   "source": [
    "scores = np.array([85, 92, 78, 95, 88, 90])\n",
    "total = np.sum(scores)\n",
    "print(total)"
   ]
  },
  {
   "cell_type": "code",
   "execution_count": 32,
   "id": "0994e084",
   "metadata": {},
   "outputs": [
    {
     "name": "stdout",
     "output_type": "stream",
     "text": [
      "88.0\n"
     ]
    }
   ],
   "source": [
    "#Average\n",
    "avg = np.average(scores)\n",
    "print(avg)"
   ]
  },
  {
   "cell_type": "code",
   "execution_count": 33,
   "id": "b13767fd",
   "metadata": {},
   "outputs": [],
   "source": [
    "#sorted \n",
    "sort = np.sort(scores)"
   ]
  },
  {
   "cell_type": "code",
   "execution_count": 34,
   "id": "5e662005",
   "metadata": {},
   "outputs": [
    {
     "name": "stdout",
     "output_type": "stream",
     "text": [
      "[78 85 88 90 92 95]\n"
     ]
    }
   ],
   "source": [
    "print(sort)"
   ]
  },
  {
   "cell_type": "code",
   "execution_count": 37,
   "id": "ce73036f",
   "metadata": {},
   "outputs": [
    {
     "name": "stdout",
     "output_type": "stream",
     "text": [
      "[5 7 9]\n",
      "[ 4 10 18]\n",
      "[-3 -3 -3]\n"
     ]
    }
   ],
   "source": [
    "a = np.array([1,2,3])\n",
    "b = np.array([4,5,6])\n",
    "\n",
    "print(a + b)\n",
    "print(a * b)\n",
    "print(a-b)"
   ]
  },
  {
   "cell_type": "code",
   "execution_count": 47,
   "id": "63e1a3d5",
   "metadata": {},
   "outputs": [
    {
     "name": "stdout",
     "output_type": "stream",
     "text": [
      "            Name  Age      city\n",
      "0          Pablo   54  New york\n",
      "1         Denver   20    London\n",
      "2  Arthur Morgan   44     Paris\n"
     ]
    }
   ],
   "source": [
    "data = {\n",
    "    \"Name\":['Pablo','Denver','Arthur Morgan'],\n",
    "    \"Age\":[54,20,44],\n",
    "    \"city\":['New york','London','Paris']\n",
    "}\n",
    "\n",
    "df = pd.DataFrame(data)\n",
    "print(df)"
   ]
  },
  {
   "cell_type": "code",
   "execution_count": 48,
   "id": "16a04b2d",
   "metadata": {},
   "outputs": [
    {
     "name": "stdout",
     "output_type": "stream",
     "text": [
      "     Name  Age      city\n",
      "0   Pablo   54  New york\n",
      "1  Denver   20    London\n"
     ]
    }
   ],
   "source": [
    "print(df.head(2))"
   ]
  },
  {
   "cell_type": "code",
   "execution_count": 49,
   "id": "206281e1",
   "metadata": {},
   "outputs": [
    {
     "name": "stdout",
     "output_type": "stream",
     "text": [
      "0            Pablo\n",
      "1           Denver\n",
      "2    Arthur Morgan\n",
      "Name: Name, dtype: object\n"
     ]
    }
   ],
   "source": [
    "print(df['Name'])"
   ]
  },
  {
   "cell_type": "code",
   "execution_count": 50,
   "id": "7eb34c12",
   "metadata": {},
   "outputs": [
    {
     "name": "stdout",
     "output_type": "stream",
     "text": [
      "Name    Denver\n",
      "Age         20\n",
      "city    London\n",
      "Name: 1, dtype: object\n"
     ]
    }
   ],
   "source": [
    "print(df.iloc[1])"
   ]
  },
  {
   "cell_type": "code",
   "execution_count": 55,
   "id": "3bf94ba7",
   "metadata": {},
   "outputs": [
    {
     "name": "stdout",
     "output_type": "stream",
     "text": [
      "     Name  Age    city\n",
      "1  Denver   20  London\n"
     ]
    }
   ],
   "source": [
    "younger = df.query('Age < 25')\n",
    "print(younger)"
   ]
  },
  {
   "cell_type": "code",
   "execution_count": null,
   "id": "5cb7d571",
   "metadata": {},
   "outputs": [
    {
     "name": "stdout",
     "output_type": "stream",
     "text": [
      "            Name  Age      city  Adult\n",
      "0          Pablo   54  New york   True\n",
      "1         Denver   20    London  False\n",
      "2  Arthur Morgan   44     Paris   True\n"
     ]
    }
   ],
   "source": [
    "\n",
    "df['Adult'] = df['Age']>25 # boolean\n",
    "print(df)"
   ]
  },
  {
   "cell_type": "code",
   "execution_count": 58,
   "id": "db7ed4db",
   "metadata": {},
   "outputs": [],
   "source": [
    "items = {\n",
    "    'Product': ['Laptop', 'Phone', 'Tablet', 'Laptop', 'Phone'],\n",
    "    'Sales': [1200, 800, 450, 950, 700],\n",
    "    'Region': ['East', 'West', 'East', 'West', 'East']\n",
    "}\n",
    "\n",
    "df2 = pd.DataFrame(items)\n"
   ]
  },
  {
   "cell_type": "code",
   "execution_count": 63,
   "id": "d9e0351f",
   "metadata": {},
   "outputs": [
    {
     "name": "stdout",
     "output_type": "stream",
     "text": [
      "total sales 4100\n"
     ]
    }
   ],
   "source": [
    "tot = df2['Sales'].sum()\n",
    "print(\"total sales\",tot)"
   ]
  },
  {
   "cell_type": "code",
   "execution_count": 66,
   "id": "6565edad",
   "metadata": {},
   "outputs": [
    {
     "name": "stdout",
     "output_type": "stream",
     "text": [
      "Region\n",
      "East    783.333333\n",
      "West    875.000000\n",
      "Name: Sales, dtype: float64\n"
     ]
    }
   ],
   "source": [
    "avgg = df2.groupby('Region')['Sales'].mean()\n",
    "print(avgg)"
   ]
  },
  {
   "cell_type": "code",
   "execution_count": 65,
   "id": "daf6dede",
   "metadata": {},
   "outputs": [
    {
     "name": "stdout",
     "output_type": "stream",
     "text": [
      "1200\n"
     ]
    }
   ],
   "source": [
    "mxx = df2['Sales'].max()\n",
    "print(mxx)"
   ]
  },
  {
   "cell_type": "code",
   "execution_count": null,
   "id": "d211f5fc",
   "metadata": {},
   "outputs": [],
   "source": []
  }
 ],
 "metadata": {
  "kernelspec": {
   "display_name": ".venv",
   "language": "python",
   "name": "python3"
  },
  "language_info": {
   "codemirror_mode": {
    "name": "ipython",
    "version": 3
   },
   "file_extension": ".py",
   "mimetype": "text/x-python",
   "name": "python",
   "nbconvert_exporter": "python",
   "pygments_lexer": "ipython3",
   "version": "3.13.2"
  }
 },
 "nbformat": 4,
 "nbformat_minor": 5
}
