{
 "cells": [
  {
   "cell_type": "markdown",
   "id": "0d261e05",
   "metadata": {},
   "source": [
    "**Handling Numeric Missing values**\n"
   ]
  },
  {
   "cell_type": "code",
   "execution_count": null,
   "id": "e3203851",
   "metadata": {
    "vscode": {
     "languageId": "plaintext"
    }
   },
   "outputs": [],
   "source": []
  }
 ],
 "metadata": {
  "language_info": {
   "name": "python"
  }
 },
 "nbformat": 4,
 "nbformat_minor": 5
}
