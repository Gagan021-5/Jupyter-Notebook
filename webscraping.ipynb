{
 "cells": [
  {
   "cell_type": "markdown",
   "id": "237bc549",
   "metadata": {},
   "source": [
    "## Web Scrapping "
   ]
  },
  {
   "cell_type": "code",
   "execution_count": 27,
   "id": "4729a71c",
   "metadata": {},
   "outputs": [],
   "source": [
    "import pandas as pd\n",
    "import requests\n",
    "from bs4 import BeautifulSoup\n",
    "\n"
   ]
  },
  {
   "cell_type": "code",
   "execution_count": 74,
   "id": "9a730e7b",
   "metadata": {},
   "outputs": [],
   "source": [
    "url = \"https://store.steampowered.com/search/?filter=globaltopsellers\"\n",
    "headers = {\"User-Agent\": \"Mozilla/5.0\"}\n",
    "webpage = requests.get(url, headers=headers).text\n"
   ]
  },
  {
   "cell_type": "code",
   "execution_count": 75,
   "id": "daa1cfb4",
   "metadata": {},
   "outputs": [],
   "source": [
    "soup = BeautifulSoup(webpage, 'lxml')\n",
    "\n"
   ]
  },
  {
   "cell_type": "code",
   "execution_count": 99,
   "id": "bbe06ef1",
   "metadata": {},
   "outputs": [
    {
     "name": "stdout",
     "output_type": "stream",
     "text": [
      "['Battlefield™ 6', 'Counter-Strike 2', 'Little Nightmares III', 'Steam Deck', 'Digimon Story Time Stranger', 'EA SPORTS FC™ 26', 'NARAKA: BLADEPOINT', 'Dota 2', 'Dead by Daylight', 'Arena Breakout: Infinite', 'Megabonk', 'Absolum', 'Wuthering Waves', 'PUBG: BATTLEGROUNDS', 'Call of Duty®', 'Call of Duty®: Black Ops 6 - BlackCell (Season 06)', 'Rust', 'Team Fortress 2', 'Apex Legends™', 'NBA 2K26', 'Red Dead Redemption 2', \"Ghost of Tsushima DIRECTOR'S CUT\", 'Grand Theft Auto V Enhanced', 'Dying Light: The Beast', 'Football Manager 26', 'Delta Force', 'CloverPit', 'ARC Raiders', 'Euro Truck Simulator 2', 'Limbus Company', 'Warframe', 'eFootball™', 'Borderlands 4', 'Hades II', 'War Thunder', 'Yu-Gi-Oh! Master Duel', 'Marvel Rivals', 'Path of Exile 2', 'Wallpaper Engine', 'Hollow Knight: Silksong', 'Manor Lords', 'Yooka-Replaylee', 'Bye Sweet Carole', 'HELLDIVERS™ 2', 'SILENT HILL f', 'FINAL FANTASY XIV Online', 'The Elder Scrolls® Online', 'PEAK', 'F1® 25', 'Once Human']\n"
     ]
    }
   ],
   "source": [
    "names = soup.find_all('span',class_='title')\n",
    "all_text = [i.text.strip() for i in names]\n",
    "games = all_text\n",
    "print(games)"
   ]
  },
  {
   "cell_type": "code",
   "execution_count": null,
   "id": "4a653a2d",
   "metadata": {},
   "outputs": [
    {
     "name": "stdout",
     "output_type": "stream",
     "text": [
      "                                                 Name\n",
      "0                                      Battlefield™ 6\n",
      "1                                    Counter-Strike 2\n",
      "2                               Little Nightmares III\n",
      "3                                          Steam Deck\n",
      "4                         Digimon Story Time Stranger\n",
      "5                                    EA SPORTS FC™ 26\n",
      "6                                  NARAKA: BLADEPOINT\n",
      "7                                              Dota 2\n",
      "8                                    Dead by Daylight\n",
      "9                            Arena Breakout: Infinite\n",
      "10                                           Megabonk\n",
      "11                                            Absolum\n",
      "12                                    Wuthering Waves\n",
      "13                                PUBG: BATTLEGROUNDS\n",
      "14                                      Call of Duty®\n",
      "15  Call of Duty®: Black Ops 6 - BlackCell (Season...\n",
      "16                                               Rust\n",
      "17                                    Team Fortress 2\n",
      "18                                      Apex Legends™\n",
      "19                                           NBA 2K26\n",
      "20                              Red Dead Redemption 2\n",
      "21                   Ghost of Tsushima DIRECTOR'S CUT\n",
      "22                        Grand Theft Auto V Enhanced\n",
      "23                             Dying Light: The Beast\n",
      "24                                Football Manager 26\n",
      "25                                        Delta Force\n",
      "26                                          CloverPit\n",
      "27                                        ARC Raiders\n",
      "28                             Euro Truck Simulator 2\n",
      "29                                     Limbus Company\n",
      "30                                           Warframe\n",
      "31                                         eFootball™\n",
      "32                                      Borderlands 4\n",
      "33                                           Hades II\n",
      "34                                        War Thunder\n",
      "35                              Yu-Gi-Oh! Master Duel\n",
      "36                                      Marvel Rivals\n",
      "37                                    Path of Exile 2\n",
      "38                                   Wallpaper Engine\n",
      "39                            Hollow Knight: Silksong\n",
      "40                                        Manor Lords\n",
      "41                                    Yooka-Replaylee\n",
      "42                                   Bye Sweet Carole\n",
      "43                                      HELLDIVERS™ 2\n",
      "44                                      SILENT HILL f\n",
      "45                           FINAL FANTASY XIV Online\n",
      "46                          The Elder Scrolls® Online\n",
      "47                                               PEAK\n",
      "48                                             F1® 25\n",
      "49                                         Once Human\n"
     ]
    }
   ],
   "source": [
    "df = pd.DataFrame(games,columns=['Name'])\n",
    "print(df)"
   ]
  },
  {
   "cell_type": "code",
   "execution_count": null,
   "id": "8432853c",
   "metadata": {},
   "outputs": [],
   "source": []
  }
 ],
 "metadata": {
  "kernelspec": {
   "display_name": ".venv",
   "language": "python",
   "name": "python3"
  },
  "language_info": {
   "codemirror_mode": {
    "name": "ipython",
    "version": 3
   },
   "file_extension": ".py",
   "mimetype": "text/x-python",
   "name": "python",
   "nbconvert_exporter": "python",
   "pygments_lexer": "ipython3",
   "version": "3.13.2"
  }
 },
 "nbformat": 4,
 "nbformat_minor": 5
}
