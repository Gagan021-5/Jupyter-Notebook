{
 "cells": [
  {
   "cell_type": "markdown",
   "id": "606b27ef",
   "metadata": {},
   "source": [
    "### Mathematical Operations in Numpy"
   ]
  },
  {
   "cell_type": "code",
   "execution_count": 14,
   "id": "06f3c5ab",
   "metadata": {},
   "outputs": [],
   "source": [
    "import numpy as np"
   ]
  },
  {
   "cell_type": "code",
   "execution_count": 20,
   "id": "eded4bf3",
   "metadata": {},
   "outputs": [],
   "source": [
    "x = np.array([[1,2,3],\n",
    "[4,5,6],\n",
    "[7,8,9]])"
   ]
  },
  {
   "cell_type": "code",
   "execution_count": 19,
   "id": "df6f5098",
   "metadata": {},
   "outputs": [],
   "source": [
    "y =  np.array([[1,0,2],\n",
    "[1,2,2],\n",
    "[3,2,1]])"
   ]
  },
  {
   "cell_type": "code",
   "execution_count": null,
   "id": "6e7ca6b8",
   "metadata": {},
   "outputs": [
    {
     "data": {
      "text/plain": [
       "[[1, 2, 3], [4, 5, 6], [7, 8, 9], [1, 0, 2], [1, 2, 2], [3, 2, 1]]"
      ]
     },
     "execution_count": 6,
     "metadata": {},
     "output_type": "execute_result"
    }
   ],
   "source": [
    "x + y        #Extend the matrix "
   ]
  },
  {
   "cell_type": "code",
   "execution_count": 21,
   "id": "32a6c146",
   "metadata": {},
   "outputs": [
    {
     "data": {
      "text/plain": [
       "array([[ 1,  0,  6],\n",
       "       [ 4, 10, 12],\n",
       "       [21, 16,  9]])"
      ]
     },
     "execution_count": 21,
     "metadata": {},
     "output_type": "execute_result"
    }
   ],
   "source": [
    "x * y"
   ]
  },
  {
   "cell_type": "code",
   "execution_count": 22,
   "id": "3b931e18",
   "metadata": {},
   "outputs": [
    {
     "data": {
      "text/plain": [
       "(array([1, 2, 2, 2]), array([2, 0, 1, 2]))"
      ]
     },
     "execution_count": 22,
     "metadata": {},
     "output_type": "execute_result"
    }
   ],
   "source": [
    "np.where(x>5)"
   ]
  },
  {
   "cell_type": "code",
   "execution_count": 23,
   "id": "2e07813f",
   "metadata": {},
   "outputs": [
    {
     "data": {
      "text/plain": [
       "np.int64(9)"
      ]
     },
     "execution_count": 23,
     "metadata": {},
     "output_type": "execute_result"
    }
   ],
   "source": [
    "np.count_nonzero(x)              # count the number of elemmts which are not zero"
   ]
  },
  {
   "cell_type": "code",
   "execution_count": 24,
   "id": "75465893",
   "metadata": {},
   "outputs": [],
   "source": [
    "import sys"
   ]
  },
  {
   "cell_type": "code",
   "execution_count": 25,
   "id": "223a4481",
   "metadata": {},
   "outputs": [],
   "source": [
    "myarr = [2,34,5,7]"
   ]
  },
  {
   "cell_type": "code",
   "execution_count": 26,
   "id": "0ad716c7",
   "metadata": {},
   "outputs": [],
   "source": [
    "npy_arr= np.array(myarr)"
   ]
  },
  {
   "cell_type": "code",
   "execution_count": 29,
   "id": "115d8189",
   "metadata": {},
   "outputs": [
    {
     "data": {
      "text/plain": [
       "112"
      ]
     },
     "execution_count": 29,
     "metadata": {},
     "output_type": "execute_result"
    }
   ],
   "source": [
    "sys.getsizeof(1) * len(myarr)"
   ]
  },
  {
   "cell_type": "code",
   "execution_count": 30,
   "id": "01def238",
   "metadata": {},
   "outputs": [
    {
     "data": {
      "text/plain": [
       "32"
      ]
     },
     "execution_count": 30,
     "metadata": {},
     "output_type": "execute_result"
    }
   ],
   "source": [
    "npy_arr.itemsize * npy_arr.size"
   ]
  },
  {
   "cell_type": "code",
   "execution_count": 31,
   "id": "6a028878",
   "metadata": {},
   "outputs": [
    {
     "data": {
      "text/plain": [
       "[2, 34, 5, 7]"
      ]
     },
     "execution_count": 31,
     "metadata": {},
     "output_type": "execute_result"
    }
   ],
   "source": [
    "npy_arr.tolist()"
   ]
  },
  {
   "cell_type": "code",
   "execution_count": null,
   "id": "48b1662a",
   "metadata": {},
   "outputs": [],
   "source": []
  }
 ],
 "metadata": {
  "kernelspec": {
   "display_name": "Python 3",
   "language": "python",
   "name": "python3"
  },
  "language_info": {
   "codemirror_mode": {
    "name": "ipython",
    "version": 3
   },
   "file_extension": ".py",
   "mimetype": "text/x-python",
   "name": "python",
   "nbconvert_exporter": "python",
   "pygments_lexer": "ipython3",
   "version": "3.13.2"
  }
 },
 "nbformat": 4,
 "nbformat_minor": 5
}
