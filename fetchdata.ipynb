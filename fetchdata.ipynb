{
 "cells": [
  {
   "cell_type": "code",
   "execution_count": 2,
   "id": "075efe96",
   "metadata": {},
   "outputs": [],
   "source": [
    "import pandas as pd\n",
    "import requests\n"
   ]
  },
  {
   "cell_type": "code",
   "execution_count": 3,
   "id": "164a0ac5",
   "metadata": {},
   "outputs": [],
   "source": [
    "response = requests.get(\"http://www.omdbapi.com/?apikey=637691b8&s=avengers&page=1\").json()['Search']"
   ]
  },
  {
   "cell_type": "code",
   "execution_count": 4,
   "id": "1bebca6d",
   "metadata": {},
   "outputs": [],
   "source": [
    "df  = pd.DataFrame(response).head()[['Title','Year','imdbID']]"
   ]
  },
  {
   "cell_type": "code",
   "execution_count": 6,
   "id": "7fb69158",
   "metadata": {},
   "outputs": [
    {
     "name": "stdout",
     "output_type": "stream",
     "text": [
      "                     Title  Year     imdbID\n",
      "0             The Avengers  2012  tt0848228\n",
      "1        Avengers: Endgame  2019  tt4154796\n",
      "2   Avengers: Infinity War  2018  tt4154756\n",
      "3  Avengers: Age of Ultron  2015  tt2395427\n",
      "4             The Avengers  1998  tt0118661\n"
     ]
    }
   ],
   "source": [
    "print(df.head())"
   ]
  },
  {
   "cell_type": "code",
   "execution_count": 28,
   "id": "110b44b2",
   "metadata": {},
   "outputs": [],
   "source": [
    "data  = []\n"
   ]
  },
  {
   "cell_type": "code",
   "execution_count": 31,
   "id": "fab7a5f4",
   "metadata": {},
   "outputs": [
    {
     "name": "stdout",
     "output_type": "stream",
     "text": [
      "                     Title  Year     imdbID   Type  \\\n",
      "0             The Avengers  2012  tt0848228  movie   \n",
      "1        Avengers: Endgame  2019  tt4154796  movie   \n",
      "2   Avengers: Infinity War  2018  tt4154756  movie   \n",
      "3  Avengers: Age of Ultron  2015  tt2395427  movie   \n",
      "4             The Avengers  1998  tt0118661  movie   \n",
      "\n",
      "                                              Poster  \n",
      "0  https://m.media-amazon.com/images/M/MV5BNGE0YT...  \n",
      "1  https://m.media-amazon.com/images/M/MV5BMTc5MD...  \n",
      "2  https://m.media-amazon.com/images/M/MV5BMjMxNj...  \n",
      "3  https://m.media-amazon.com/images/M/MV5BODBhYT...  \n",
      "4  https://m.media-amazon.com/images/M/MV5BZTA4Zm...  \n"
     ]
    }
   ],
   "source": [
    "\n",
    "\n",
    "for i in range(1, 10):\n",
    "    response = requests.get(f\"http://www.omdbapi.com/?apikey=637691b8&s=avengers&page={i}\")\n",
    "    res_json = response.json()\n",
    "    \n",
    "   \n",
    "    if res_json.get(\"Response\") == \"True\" and \"Search\" in res_json:\n",
    "        temp = pd.DataFrame(res_json[\"Search\"])[['Title', 'Year', 'imdbID', 'Type']]\n",
    "        data.append(temp)\n",
    "    else:\n",
    "        print(f\"⚠️ Skipped page {i}: {res_json.get('Error')}\")\n",
    "\n",
    "df = pd.concat(data, ignore_index=True)\n",
    "print(df.head())\n"
   ]
  },
  {
   "cell_type": "code",
   "execution_count": 32,
   "id": "04d1f6b3",
   "metadata": {},
   "outputs": [],
   "source": [
    "df.to_csv(\"avengers_movies.csv\", index=False)"
   ]
  },
  {
   "cell_type": "code",
   "execution_count": null,
   "id": "c4e5ca00",
   "metadata": {},
   "outputs": [],
   "source": []
  }
 ],
 "metadata": {
  "kernelspec": {
   "display_name": ".venv",
   "language": "python",
   "name": "python3"
  },
  "language_info": {
   "codemirror_mode": {
    "name": "ipython",
    "version": 3
   },
   "file_extension": ".py",
   "mimetype": "text/x-python",
   "name": "python",
   "nbconvert_exporter": "python",
   "pygments_lexer": "ipython3",
   "version": "3.13.2"
  }
 },
 "nbformat": 4,
 "nbformat_minor": 5
}
