{
 "cells": [
  {
   "cell_type": "markdown",
   "id": "432f094a",
   "metadata": {},
   "source": [
    "#### Analysing and Predicting the Diabetes"
   ]
  },
  {
   "cell_type": "code",
   "execution_count": null,
   "id": "e2fed9cb",
   "metadata": {
    "vscode": {
     "languageId": "plaintext"
    }
   },
   "outputs": [],
   "source": []
  }
 ],
 "metadata": {
  "language_info": {
   "name": "python"
  }
 },
 "nbformat": 4,
 "nbformat_minor": 5
}
