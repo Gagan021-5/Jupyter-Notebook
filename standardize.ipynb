{
 "cells": [
  {
   "cell_type": "code",
   "execution_count": 29,
   "id": "8acaafdf",
   "metadata": {},
   "outputs": [],
   "source": [
    "import numpy as np\n",
    "import pandas as pd\n",
    "import seaborn as sb\n",
    "import matplotlib.pyplot as plt"
   ]
  },
  {
   "cell_type": "code",
   "execution_count": 30,
   "id": "fc8cff82",
   "metadata": {},
   "outputs": [],
   "source": [
    "dset = pd.read_csv('Social_Network_Ads.csv')"
   ]
  },
  {
   "cell_type": "code",
   "execution_count": 31,
   "id": "e8fa9d85",
   "metadata": {},
   "outputs": [
    {
     "data": {
      "application/vnd.microsoft.datawrangler.viewer.v0+json": {
       "columns": [
        {
         "name": "index",
         "rawType": "int64",
         "type": "integer"
        },
        {
         "name": "Age",
         "rawType": "int64",
         "type": "integer"
        },
        {
         "name": "EstimatedSalary",
         "rawType": "int64",
         "type": "integer"
        },
        {
         "name": "Purchased",
         "rawType": "int64",
         "type": "integer"
        }
       ],
       "ref": "bab022a1-8d95-4cd1-a838-38e9854417ae",
       "rows": [
        [
         "0",
         "19",
         "19000",
         "0"
        ],
        [
         "1",
         "35",
         "20000",
         "0"
        ],
        [
         "2",
         "26",
         "43000",
         "0"
        ],
        [
         "3",
         "27",
         "57000",
         "0"
        ],
        [
         "4",
         "19",
         "76000",
         "0"
        ]
       ],
       "shape": {
        "columns": 3,
        "rows": 5
       }
      },
      "text/html": [
       "<div>\n",
       "<style scoped>\n",
       "    .dataframe tbody tr th:only-of-type {\n",
       "        vertical-align: middle;\n",
       "    }\n",
       "\n",
       "    .dataframe tbody tr th {\n",
       "        vertical-align: top;\n",
       "    }\n",
       "\n",
       "    .dataframe thead th {\n",
       "        text-align: right;\n",
       "    }\n",
       "</style>\n",
       "<table border=\"1\" class=\"dataframe\">\n",
       "  <thead>\n",
       "    <tr style=\"text-align: right;\">\n",
       "      <th></th>\n",
       "      <th>Age</th>\n",
       "      <th>EstimatedSalary</th>\n",
       "      <th>Purchased</th>\n",
       "    </tr>\n",
       "  </thead>\n",
       "  <tbody>\n",
       "    <tr>\n",
       "      <th>0</th>\n",
       "      <td>19</td>\n",
       "      <td>19000</td>\n",
       "      <td>0</td>\n",
       "    </tr>\n",
       "    <tr>\n",
       "      <th>1</th>\n",
       "      <td>35</td>\n",
       "      <td>20000</td>\n",
       "      <td>0</td>\n",
       "    </tr>\n",
       "    <tr>\n",
       "      <th>2</th>\n",
       "      <td>26</td>\n",
       "      <td>43000</td>\n",
       "      <td>0</td>\n",
       "    </tr>\n",
       "    <tr>\n",
       "      <th>3</th>\n",
       "      <td>27</td>\n",
       "      <td>57000</td>\n",
       "      <td>0</td>\n",
       "    </tr>\n",
       "    <tr>\n",
       "      <th>4</th>\n",
       "      <td>19</td>\n",
       "      <td>76000</td>\n",
       "      <td>0</td>\n",
       "    </tr>\n",
       "  </tbody>\n",
       "</table>\n",
       "</div>"
      ],
      "text/plain": [
       "   Age  EstimatedSalary  Purchased\n",
       "0   19            19000          0\n",
       "1   35            20000          0\n",
       "2   26            43000          0\n",
       "3   27            57000          0\n",
       "4   19            76000          0"
      ]
     },
     "execution_count": 31,
     "metadata": {},
     "output_type": "execute_result"
    }
   ],
   "source": [
    "dset.head()"
   ]
  },
  {
   "cell_type": "markdown",
   "id": "bcbff3e5",
   "metadata": {},
   "source": [
    "### Train test split"
   ]
  },
  {
   "cell_type": "code",
   "execution_count": 32,
   "id": "86dc9cce",
   "metadata": {},
   "outputs": [],
   "source": [
    "from  sklearn.model_selection import train_test_split"
   ]
  },
  {
   "cell_type": "code",
   "execution_count": 33,
   "id": "e99d1a5a",
   "metadata": {},
   "outputs": [],
   "source": [
    "x_train ,x_test,y_train,y_test = train_test_split(dset.drop('Purchased',axis=1),\n",
    "                                                  dset['Purchased'],\n",
    "                                                  test_size=0.3,\n",
    "                                                  random_state=0)"
   ]
  },
  {
   "cell_type": "code",
   "execution_count": 34,
   "id": "606eb203",
   "metadata": {},
   "outputs": [
    {
     "data": {
      "text/plain": [
       "((280, 2), (120, 2))"
      ]
     },
     "execution_count": 34,
     "metadata": {},
     "output_type": "execute_result"
    }
   ],
   "source": [
    "x_train.shape, x_test.shape"
   ]
  },
  {
   "cell_type": "code",
   "execution_count": 35,
   "id": "a29366ae",
   "metadata": {},
   "outputs": [],
   "source": [
    "from sklearn.preprocessing import StandardScaler"
   ]
  },
  {
   "cell_type": "code",
   "execution_count": 36,
   "id": "b962ebab",
   "metadata": {},
   "outputs": [
    {
     "data": {
      "text/plain": [
       "array([3.78642857e+01, 6.98071429e+04])"
      ]
     },
     "execution_count": 36,
     "metadata": {},
     "output_type": "execute_result"
    }
   ],
   "source": [
    "scalar = StandardScaler()\n",
    "# fit the scalar to trains set to learn \n",
    "scalar.fit(x_train)        #calculate mean for each col ..both the col\n",
    "\n",
    "#transform train & test sets\n",
    "x_trainscaled = scalar.transform(x_train)\n",
    "x_testscaled = scalar.transform(x_test)\n",
    "\n",
    "scalar.mean_"
   ]
  },
  {
   "cell_type": "code",
   "execution_count": 37,
   "id": "83655c37",
   "metadata": {},
   "outputs": [
    {
     "data": {
      "application/vnd.microsoft.datawrangler.viewer.v0+json": {
       "columns": [
        {
         "name": "index",
         "rawType": "int64",
         "type": "integer"
        },
        {
         "name": "Age",
         "rawType": "int64",
         "type": "integer"
        },
        {
         "name": "EstimatedSalary",
         "rawType": "int64",
         "type": "integer"
        }
       ],
       "ref": "17363fe9-48b7-4ac6-80f8-458447f73300",
       "rows": [
        [
         "92",
         "26",
         "15000"
        ],
        [
         "223",
         "60",
         "102000"
        ],
        [
         "234",
         "38",
         "112000"
        ],
        [
         "232",
         "40",
         "107000"
        ],
        [
         "377",
         "42",
         "53000"
        ],
        [
         "142",
         "35",
         "59000"
        ],
        [
         "22",
         "48",
         "41000"
        ],
        [
         "252",
         "48",
         "134000"
        ],
        [
         "350",
         "38",
         "113000"
        ],
        [
         "168",
         "29",
         "148000"
        ],
        [
         "150",
         "26",
         "15000"
        ],
        [
         "393",
         "60",
         "42000"
        ],
        [
         "66",
         "24",
         "19000"
        ],
        [
         "240",
         "42",
         "149000"
        ],
        [
         "218",
         "46",
         "96000"
        ],
        [
         "101",
         "28",
         "59000"
        ],
        [
         "311",
         "39",
         "96000"
        ],
        [
         "194",
         "28",
         "89000"
        ],
        [
         "326",
         "41",
         "72000"
        ],
        [
         "17",
         "45",
         "26000"
        ],
        [
         "164",
         "33",
         "69000"
        ],
        [
         "186",
         "20",
         "82000"
        ],
        [
         "30",
         "31",
         "74000"
        ],
        [
         "114",
         "42",
         "80000"
        ],
        [
         "263",
         "35",
         "72000"
        ],
        [
         "103",
         "33",
         "149000"
        ],
        [
         "358",
         "40",
         "71000"
        ],
        [
         "245",
         "51",
         "146000"
        ],
        [
         "235",
         "46",
         "79000"
        ],
        [
         "116",
         "35",
         "75000"
        ],
        [
         "330",
         "38",
         "51000"
        ],
        [
         "120",
         "36",
         "75000"
        ],
        [
         "289",
         "37",
         "78000"
        ],
        [
         "112",
         "38",
         "61000"
        ],
        [
         "215",
         "60",
         "108000"
        ],
        [
         "136",
         "20",
         "82000"
        ],
        [
         "275",
         "57",
         "74000"
        ],
        [
         "126",
         "42",
         "65000"
        ],
        [
         "198",
         "26",
         "80000"
        ],
        [
         "299",
         "46",
         "117000"
        ],
        [
         "281",
         "35",
         "61000"
        ],
        [
         "133",
         "21",
         "68000"
        ],
        [
         "33",
         "28",
         "44000"
        ],
        [
         "378",
         "41",
         "87000"
        ],
        [
         "162",
         "37",
         "33000"
        ],
        [
         "34",
         "27",
         "90000"
        ],
        [
         "231",
         "39",
         "42000"
        ],
        [
         "97",
         "28",
         "123000"
        ],
        [
         "85",
         "31",
         "118000"
        ],
        [
         "61",
         "25",
         "87000"
        ]
       ],
       "shape": {
        "columns": 2,
        "rows": 280
       }
      },
      "text/html": [
       "<div>\n",
       "<style scoped>\n",
       "    .dataframe tbody tr th:only-of-type {\n",
       "        vertical-align: middle;\n",
       "    }\n",
       "\n",
       "    .dataframe tbody tr th {\n",
       "        vertical-align: top;\n",
       "    }\n",
       "\n",
       "    .dataframe thead th {\n",
       "        text-align: right;\n",
       "    }\n",
       "</style>\n",
       "<table border=\"1\" class=\"dataframe\">\n",
       "  <thead>\n",
       "    <tr style=\"text-align: right;\">\n",
       "      <th></th>\n",
       "      <th>Age</th>\n",
       "      <th>EstimatedSalary</th>\n",
       "    </tr>\n",
       "  </thead>\n",
       "  <tbody>\n",
       "    <tr>\n",
       "      <th>92</th>\n",
       "      <td>26</td>\n",
       "      <td>15000</td>\n",
       "    </tr>\n",
       "    <tr>\n",
       "      <th>223</th>\n",
       "      <td>60</td>\n",
       "      <td>102000</td>\n",
       "    </tr>\n",
       "    <tr>\n",
       "      <th>234</th>\n",
       "      <td>38</td>\n",
       "      <td>112000</td>\n",
       "    </tr>\n",
       "    <tr>\n",
       "      <th>232</th>\n",
       "      <td>40</td>\n",
       "      <td>107000</td>\n",
       "    </tr>\n",
       "    <tr>\n",
       "      <th>377</th>\n",
       "      <td>42</td>\n",
       "      <td>53000</td>\n",
       "    </tr>\n",
       "    <tr>\n",
       "      <th>...</th>\n",
       "      <td>...</td>\n",
       "      <td>...</td>\n",
       "    </tr>\n",
       "    <tr>\n",
       "      <th>323</th>\n",
       "      <td>48</td>\n",
       "      <td>30000</td>\n",
       "    </tr>\n",
       "    <tr>\n",
       "      <th>192</th>\n",
       "      <td>29</td>\n",
       "      <td>43000</td>\n",
       "    </tr>\n",
       "    <tr>\n",
       "      <th>117</th>\n",
       "      <td>36</td>\n",
       "      <td>52000</td>\n",
       "    </tr>\n",
       "    <tr>\n",
       "      <th>47</th>\n",
       "      <td>27</td>\n",
       "      <td>54000</td>\n",
       "    </tr>\n",
       "    <tr>\n",
       "      <th>172</th>\n",
       "      <td>26</td>\n",
       "      <td>118000</td>\n",
       "    </tr>\n",
       "  </tbody>\n",
       "</table>\n",
       "<p>280 rows × 2 columns</p>\n",
       "</div>"
      ],
      "text/plain": [
       "     Age  EstimatedSalary\n",
       "92    26            15000\n",
       "223   60           102000\n",
       "234   38           112000\n",
       "232   40           107000\n",
       "377   42            53000\n",
       "..   ...              ...\n",
       "323   48            30000\n",
       "192   29            43000\n",
       "117   36            52000\n",
       "47    27            54000\n",
       "172   26           118000\n",
       "\n",
       "[280 rows x 2 columns]"
      ]
     },
     "execution_count": 37,
     "metadata": {},
     "output_type": "execute_result"
    }
   ],
   "source": [
    "x_train"
   ]
  },
  {
   "cell_type": "code",
   "execution_count": 38,
   "id": "8b7a8ae2",
   "metadata": {},
   "outputs": [],
   "source": [
    "x_trainscaled = pd.DataFrame(x_trainscaled,columns=x_train.columns)\n",
    "x_testscaled = pd.DataFrame(x_testscaled,columns=x_test.columns)"
   ]
  },
  {
   "cell_type": "code",
   "execution_count": 40,
   "id": "310d1eb4",
   "metadata": {},
   "outputs": [
    {
     "data": {
      "application/vnd.microsoft.datawrangler.viewer.v0+json": {
       "columns": [
        {
         "name": "index",
         "rawType": "int64",
         "type": "integer"
        },
        {
         "name": "Age",
         "rawType": "float64",
         "type": "float"
        },
        {
         "name": "EstimatedSalary",
         "rawType": "float64",
         "type": "float"
        }
       ],
       "ref": "1d5d9268-7ee2-4b31-b2b1-b1f88afbae65",
       "rows": [
        [
         "0",
         "-1.1631723962621898",
         "-1.5849702974485314"
        ],
        [
         "1",
         "2.1701813702688297",
         "0.9309867236544418"
        ],
        [
         "2",
         "0.013305403689934782",
         "1.2201771858501858"
        ],
        [
         "3",
         "0.20938503701528888",
         "1.0755819547523138"
        ],
        [
         "4",
         "0.40546467034064293",
         "-0.486046541104704"
        ],
        [
         "5",
         "-0.28081404629809636",
         "-0.3125322637872576"
        ],
        [
         "6",
         "0.9937035703167052",
         "-0.8330750957395968"
        ],
        [
         "7",
         "0.9937035703167052",
         "1.8563962026808227"
        ],
        [
         "8",
         "0.013305403689934782",
         "1.2490962320697603"
        ],
        [
         "9",
         "-0.8690529462741586",
         "2.261262849754864"
        ],
        [
         "10",
         "-1.1631723962621898",
         "-1.5849702974485314"
        ],
        [
         "11",
         "2.1701813702688297",
         "-0.8041560495200224"
        ],
        [
         "12",
         "-1.3592520295875439",
         "-1.4692941125702337"
        ],
        [
         "13",
         "0.40546467034064293",
         "2.2901818959744387"
        ],
        [
         "14",
         "0.7976239369913511",
         "0.7574724463369953"
        ],
        [
         "15",
         "-0.9670927629368357",
         "-0.3125322637872576"
        ],
        [
         "16",
         "0.11134522035261182",
         "0.7574724463369953"
        ],
        [
         "17",
         "-0.9670927629368357",
         "0.5550391227999745"
        ],
        [
         "18",
         "0.3074248536779659",
         "0.06341533706720964"
        ],
        [
         "19",
         "0.6995841203286741",
         "-1.2668607890332129"
        ],
        [
         "20",
         "-0.4768936796234504",
         "-0.023341801591513566"
        ],
        [
         "21",
         "-1.751411296238252",
         "0.35260579926295366"
        ],
        [
         "22",
         "-0.6729733129488045",
         "0.12125342950635845"
        ],
        [
         "23",
         "0.40546467034064293",
         "0.2947677068238049"
        ],
        [
         "24",
         "-0.28081404629809636",
         "0.06341533706720964"
        ],
        [
         "25",
         "-0.4768936796234504",
         "2.2901818959744387"
        ],
        [
         "26",
         "0.20938503701528888",
         "0.03449629084763524"
        ],
        [
         "27",
         "1.2878230203047363",
         "2.2034247573157155"
        ],
        [
         "28",
         "0.7976239369913511",
         "0.26584866060423046"
        ],
        [
         "29",
         "-0.28081404629809636",
         "0.15017247572593284"
        ],
        [
         "30",
         "0.013305403689934782",
         "-0.5438846335438529"
        ],
        [
         "31",
         "-0.1827742296354193",
         "0.15017247572593284"
        ],
        [
         "32",
         "-0.08473441297274226",
         "0.23692961438465607"
        ],
        [
         "33",
         "0.013305403689934782",
         "-0.2546941713481088"
        ],
        [
         "34",
         "2.1701813702688297",
         "1.104501000971888"
        ],
        [
         "35",
         "-1.751411296238252",
         "0.35260579926295366"
        ],
        [
         "36",
         "1.8760619202807987",
         "0.12125342950635845"
        ],
        [
         "37",
         "0.40546467034064293",
         "-0.13901798646981117"
        ],
        [
         "38",
         "-1.1631723962621898",
         "0.2947677068238049"
        ],
        [
         "39",
         "0.7976239369913511",
         "1.3647724169480577"
        ],
        [
         "40",
         "-0.28081404629809636",
         "-0.2546941713481088"
        ],
        [
         "41",
         "-1.653371479575575",
         "-0.05226084781108797"
        ],
        [
         "42",
         "-0.9670927629368357",
         "-0.7463179570808737"
        ],
        [
         "43",
         "0.3074248536779659",
         "0.4972010303608257"
        ],
        [
         "44",
         "-0.08473441297274226",
         "-1.064427465496192"
        ],
        [
         "45",
         "-1.0651325795995128",
         "0.5839581690195489"
        ],
        [
         "46",
         "0.11134522035261182",
         "-0.8041560495200224"
        ],
        [
         "47",
         "-0.9670927629368357",
         "1.5382866942655042"
        ],
        [
         "48",
         "-0.6729733129488045",
         "1.3936914631676323"
        ],
        [
         "49",
         "-1.2612122129248668",
         "0.4972010303608257"
        ]
       ],
       "shape": {
        "columns": 2,
        "rows": 280
       }
      },
      "text/html": [
       "<div>\n",
       "<style scoped>\n",
       "    .dataframe tbody tr th:only-of-type {\n",
       "        vertical-align: middle;\n",
       "    }\n",
       "\n",
       "    .dataframe tbody tr th {\n",
       "        vertical-align: top;\n",
       "    }\n",
       "\n",
       "    .dataframe thead th {\n",
       "        text-align: right;\n",
       "    }\n",
       "</style>\n",
       "<table border=\"1\" class=\"dataframe\">\n",
       "  <thead>\n",
       "    <tr style=\"text-align: right;\">\n",
       "      <th></th>\n",
       "      <th>Age</th>\n",
       "      <th>EstimatedSalary</th>\n",
       "    </tr>\n",
       "  </thead>\n",
       "  <tbody>\n",
       "    <tr>\n",
       "      <th>0</th>\n",
       "      <td>-1.163172</td>\n",
       "      <td>-1.584970</td>\n",
       "    </tr>\n",
       "    <tr>\n",
       "      <th>1</th>\n",
       "      <td>2.170181</td>\n",
       "      <td>0.930987</td>\n",
       "    </tr>\n",
       "    <tr>\n",
       "      <th>2</th>\n",
       "      <td>0.013305</td>\n",
       "      <td>1.220177</td>\n",
       "    </tr>\n",
       "    <tr>\n",
       "      <th>3</th>\n",
       "      <td>0.209385</td>\n",
       "      <td>1.075582</td>\n",
       "    </tr>\n",
       "    <tr>\n",
       "      <th>4</th>\n",
       "      <td>0.405465</td>\n",
       "      <td>-0.486047</td>\n",
       "    </tr>\n",
       "    <tr>\n",
       "      <th>...</th>\n",
       "      <td>...</td>\n",
       "      <td>...</td>\n",
       "    </tr>\n",
       "    <tr>\n",
       "      <th>275</th>\n",
       "      <td>0.993704</td>\n",
       "      <td>-1.151185</td>\n",
       "    </tr>\n",
       "    <tr>\n",
       "      <th>276</th>\n",
       "      <td>-0.869053</td>\n",
       "      <td>-0.775237</td>\n",
       "    </tr>\n",
       "    <tr>\n",
       "      <th>277</th>\n",
       "      <td>-0.182774</td>\n",
       "      <td>-0.514966</td>\n",
       "    </tr>\n",
       "    <tr>\n",
       "      <th>278</th>\n",
       "      <td>-1.065133</td>\n",
       "      <td>-0.457127</td>\n",
       "    </tr>\n",
       "    <tr>\n",
       "      <th>279</th>\n",
       "      <td>-1.163172</td>\n",
       "      <td>1.393691</td>\n",
       "    </tr>\n",
       "  </tbody>\n",
       "</table>\n",
       "<p>280 rows × 2 columns</p>\n",
       "</div>"
      ],
      "text/plain": [
       "          Age  EstimatedSalary\n",
       "0   -1.163172        -1.584970\n",
       "1    2.170181         0.930987\n",
       "2    0.013305         1.220177\n",
       "3    0.209385         1.075582\n",
       "4    0.405465        -0.486047\n",
       "..        ...              ...\n",
       "275  0.993704        -1.151185\n",
       "276 -0.869053        -0.775237\n",
       "277 -0.182774        -0.514966\n",
       "278 -1.065133        -0.457127\n",
       "279 -1.163172         1.393691\n",
       "\n",
       "[280 rows x 2 columns]"
      ]
     },
     "execution_count": 40,
     "metadata": {},
     "output_type": "execute_result"
    }
   ],
   "source": [
    "x_trainscaled"
   ]
  },
  {
   "cell_type": "code",
   "execution_count": 41,
   "id": "2eb12f2a",
   "metadata": {},
   "outputs": [
    {
     "data": {
      "application/vnd.microsoft.datawrangler.viewer.v0+json": {
       "columns": [
        {
         "name": "index",
         "rawType": "object",
         "type": "string"
        },
        {
         "name": "Age",
         "rawType": "float64",
         "type": "float"
        },
        {
         "name": "EstimatedSalary",
         "rawType": "float64",
         "type": "float"
        }
       ],
       "ref": "b9da5d09-954e-40ee-b878-b22e41b0606f",
       "rows": [
        [
         "count",
         "280.0",
         "280.0"
        ],
        [
         "mean",
         "37.9",
         "69807.1"
        ],
        [
         "std",
         "10.2",
         "34641.2"
        ],
        [
         "min",
         "18.0",
         "15000.0"
        ],
        [
         "25%",
         "30.0",
         "43000.0"
        ],
        [
         "50%",
         "37.0",
         "70500.0"
        ],
        [
         "75%",
         "46.0",
         "88000.0"
        ],
        [
         "max",
         "60.0",
         "150000.0"
        ]
       ],
       "shape": {
        "columns": 2,
        "rows": 8
       }
      },
      "text/html": [
       "<div>\n",
       "<style scoped>\n",
       "    .dataframe tbody tr th:only-of-type {\n",
       "        vertical-align: middle;\n",
       "    }\n",
       "\n",
       "    .dataframe tbody tr th {\n",
       "        vertical-align: top;\n",
       "    }\n",
       "\n",
       "    .dataframe thead th {\n",
       "        text-align: right;\n",
       "    }\n",
       "</style>\n",
       "<table border=\"1\" class=\"dataframe\">\n",
       "  <thead>\n",
       "    <tr style=\"text-align: right;\">\n",
       "      <th></th>\n",
       "      <th>Age</th>\n",
       "      <th>EstimatedSalary</th>\n",
       "    </tr>\n",
       "  </thead>\n",
       "  <tbody>\n",
       "    <tr>\n",
       "      <th>count</th>\n",
       "      <td>280.0</td>\n",
       "      <td>280.0</td>\n",
       "    </tr>\n",
       "    <tr>\n",
       "      <th>mean</th>\n",
       "      <td>37.9</td>\n",
       "      <td>69807.1</td>\n",
       "    </tr>\n",
       "    <tr>\n",
       "      <th>std</th>\n",
       "      <td>10.2</td>\n",
       "      <td>34641.2</td>\n",
       "    </tr>\n",
       "    <tr>\n",
       "      <th>min</th>\n",
       "      <td>18.0</td>\n",
       "      <td>15000.0</td>\n",
       "    </tr>\n",
       "    <tr>\n",
       "      <th>25%</th>\n",
       "      <td>30.0</td>\n",
       "      <td>43000.0</td>\n",
       "    </tr>\n",
       "    <tr>\n",
       "      <th>50%</th>\n",
       "      <td>37.0</td>\n",
       "      <td>70500.0</td>\n",
       "    </tr>\n",
       "    <tr>\n",
       "      <th>75%</th>\n",
       "      <td>46.0</td>\n",
       "      <td>88000.0</td>\n",
       "    </tr>\n",
       "    <tr>\n",
       "      <th>max</th>\n",
       "      <td>60.0</td>\n",
       "      <td>150000.0</td>\n",
       "    </tr>\n",
       "  </tbody>\n",
       "</table>\n",
       "</div>"
      ],
      "text/plain": [
       "         Age  EstimatedSalary\n",
       "count  280.0            280.0\n",
       "mean    37.9          69807.1\n",
       "std     10.2          34641.2\n",
       "min     18.0          15000.0\n",
       "25%     30.0          43000.0\n",
       "50%     37.0          70500.0\n",
       "75%     46.0          88000.0\n",
       "max     60.0         150000.0"
      ]
     },
     "execution_count": 41,
     "metadata": {},
     "output_type": "execute_result"
    }
   ],
   "source": [
    "np.round(x_train.describe(),1)"
   ]
  },
  {
   "cell_type": "code",
   "execution_count": 42,
   "id": "b000142e",
   "metadata": {},
   "outputs": [
    {
     "data": {
      "application/vnd.microsoft.datawrangler.viewer.v0+json": {
       "columns": [
        {
         "name": "index",
         "rawType": "object",
         "type": "string"
        },
        {
         "name": "Age",
         "rawType": "float64",
         "type": "float"
        },
        {
         "name": "EstimatedSalary",
         "rawType": "float64",
         "type": "float"
        }
       ],
       "ref": "9f1f15e7-2a3c-4b23-bb08-80a36b186cf9",
       "rows": [
        [
         "count",
         "280.0",
         "280.0"
        ],
        [
         "mean",
         "0.0",
         "0.0"
        ],
        [
         "std",
         "1.0",
         "1.0"
        ],
        [
         "min",
         "-1.9",
         "-1.6"
        ],
        [
         "25%",
         "-0.8",
         "-0.8"
        ],
        [
         "50%",
         "-0.1",
         "0.0"
        ],
        [
         "75%",
         "0.8",
         "0.5"
        ],
        [
         "max",
         "2.2",
         "2.3"
        ]
       ],
       "shape": {
        "columns": 2,
        "rows": 8
       }
      },
      "text/html": [
       "<div>\n",
       "<style scoped>\n",
       "    .dataframe tbody tr th:only-of-type {\n",
       "        vertical-align: middle;\n",
       "    }\n",
       "\n",
       "    .dataframe tbody tr th {\n",
       "        vertical-align: top;\n",
       "    }\n",
       "\n",
       "    .dataframe thead th {\n",
       "        text-align: right;\n",
       "    }\n",
       "</style>\n",
       "<table border=\"1\" class=\"dataframe\">\n",
       "  <thead>\n",
       "    <tr style=\"text-align: right;\">\n",
       "      <th></th>\n",
       "      <th>Age</th>\n",
       "      <th>EstimatedSalary</th>\n",
       "    </tr>\n",
       "  </thead>\n",
       "  <tbody>\n",
       "    <tr>\n",
       "      <th>count</th>\n",
       "      <td>280.0</td>\n",
       "      <td>280.0</td>\n",
       "    </tr>\n",
       "    <tr>\n",
       "      <th>mean</th>\n",
       "      <td>0.0</td>\n",
       "      <td>0.0</td>\n",
       "    </tr>\n",
       "    <tr>\n",
       "      <th>std</th>\n",
       "      <td>1.0</td>\n",
       "      <td>1.0</td>\n",
       "    </tr>\n",
       "    <tr>\n",
       "      <th>min</th>\n",
       "      <td>-1.9</td>\n",
       "      <td>-1.6</td>\n",
       "    </tr>\n",
       "    <tr>\n",
       "      <th>25%</th>\n",
       "      <td>-0.8</td>\n",
       "      <td>-0.8</td>\n",
       "    </tr>\n",
       "    <tr>\n",
       "      <th>50%</th>\n",
       "      <td>-0.1</td>\n",
       "      <td>0.0</td>\n",
       "    </tr>\n",
       "    <tr>\n",
       "      <th>75%</th>\n",
       "      <td>0.8</td>\n",
       "      <td>0.5</td>\n",
       "    </tr>\n",
       "    <tr>\n",
       "      <th>max</th>\n",
       "      <td>2.2</td>\n",
       "      <td>2.3</td>\n",
       "    </tr>\n",
       "  </tbody>\n",
       "</table>\n",
       "</div>"
      ],
      "text/plain": [
       "         Age  EstimatedSalary\n",
       "count  280.0            280.0\n",
       "mean     0.0              0.0\n",
       "std      1.0              1.0\n",
       "min     -1.9             -1.6\n",
       "25%     -0.8             -0.8\n",
       "50%     -0.1              0.0\n",
       "75%      0.8              0.5\n",
       "max      2.2              2.3"
      ]
     },
     "execution_count": 42,
     "metadata": {},
     "output_type": "execute_result"
    }
   ],
   "source": [
    "np.round(x_trainscaled.describe(),1)"
   ]
  },
  {
   "cell_type": "code",
   "execution_count": 45,
   "id": "c1ba7481",
   "metadata": {},
   "outputs": [
    {
     "data": {
      "text/plain": [
       "<matplotlib.collections.PathCollection at 0x1c267fcf750>"
      ]
     },
     "execution_count": 45,
     "metadata": {},
     "output_type": "execute_result"
    },
    {
     "data": {
      "image/png": "[encoded data removed]",
      "text/plain": [
       "<Figure size 640x480 with 1 Axes>"
      ]
     },
     "metadata": {},
     "output_type": "display_data"
    }
   ],
   "source": [
    "plt.title('Before Scaling')\n",
    "plt.scatter(x_train['Age'],x_train['EstimatedSalary'])"
   ]
  },
  {
   "cell_type": "code",
   "execution_count": 46,
   "id": "73a52d1f",
   "metadata": {},
   "outputs": [
    {
     "data": {
      "text/plain": [
       "<matplotlib.collections.PathCollection at 0x1c22015b4d0>"
      ]
     },
     "execution_count": 46,
     "metadata": {},
     "output_type": "execute_result"
    },
    {
     "data": {
      "image/png": "[encoded data removed]",
      "text/plain": [
       "<Figure size 640x480 with 1 Axes>"
      ]
     },
     "metadata": {},
     "output_type": "display_data"
    }
   ],
   "source": [
    "plt.title('After Scaling')\n",
    "plt.scatter(x_trainscaled['Age'],x_trainscaled['EstimatedSalary'],color='green')"
   ]
  },
  {
   "cell_type": "markdown",
   "id": "b4fa2467",
   "metadata": {},
   "source": [
    "### <b>Why scaling is imp?</b>"
   ]
  },
  {
   "cell_type": "code",
   "execution_count": null,
   "id": "93abf7b2",
   "metadata": {},
   "outputs": [],
   "source": [
    "from sklearn.linear_model import  LogisticRegression"
   ]
  }
 ],
 "metadata": {
  "kernelspec": {
   "display_name": "Python 3",
   "language": "python",
   "name": "python3"
  },
  "language_info": {
   "codemirror_mode": {
    "name": "ipython",
    "version": 3
   },
   "file_extension": ".py",
   "mimetype": "text/x-python",
   "name": "python",
   "nbconvert_exporter": "python",
   "pygments_lexer": "ipython3",
   "version": "3.13.2"
  }
 },
 "nbformat": 4,
 "nbformat_minor": 5
}
