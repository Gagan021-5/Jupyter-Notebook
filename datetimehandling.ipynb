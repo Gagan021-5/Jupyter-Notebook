{
 "cells": [
  {
   "cell_type": "code",
   "execution_count": 8,
   "id": "2dc3e88c",
   "metadata": {},
   "outputs": [],
   "source": [
    "import pandas as pd\n",
    "import numpy as np\n"
   ]
  },
  {
   "cell_type": "code",
   "execution_count": 15,
   "id": "685f3e04",
   "metadata": {},
   "outputs": [],
   "source": [
    "date = pd.read_csv('orders.csv')[['order_date','customer_id','sales']]\n",
    "time = pd.read_csv('messages.csv')"
   ]
  },
  {
   "cell_type": "code",
   "execution_count": 16,
   "id": "854e452d",
   "metadata": {},
   "outputs": [
    {
     "data": {
      "application/vnd.microsoft.datawrangler.viewer.v0+json": {
       "columns": [
        {
         "name": "index",
         "rawType": "int64",
         "type": "integer"
        },
        {
         "name": "order_date",
         "rawType": "object",
         "type": "string"
        },
        {
         "name": "customer_id",
         "rawType": "object",
         "type": "string"
        },
        {
         "name": "sales",
         "rawType": "float64",
         "type": "float"
        }
       ],
       "ref": "cdf2bc3b-ef45-45e2-a0a0-970181f53c04",
       "rows": [
        [
         "0",
         "2014-09-07",
         "DK-13375",
         "377.97"
        ],
        [
         "1",
         "2014-07-08",
         "EB-13705",
         "699.192"
        ],
        [
         "2",
         "2014-03-14",
         "NF-18475",
         "91.056"
        ],
        [
         "3",
         "2014-01-28",
         "JC-15340",
         "3.928"
        ],
        [
         "4",
         "2014-04-08",
         "JM-15655",
         "21.376"
        ]
       ],
       "shape": {
        "columns": 3,
        "rows": 5
       }
      },
      "text/html": [
       "<div>\n",
       "<style scoped>\n",
       "    .dataframe tbody tr th:only-of-type {\n",
       "        vertical-align: middle;\n",
       "    }\n",
       "\n",
       "    .dataframe tbody tr th {\n",
       "        vertical-align: top;\n",
       "    }\n",
       "\n",
       "    .dataframe thead th {\n",
       "        text-align: right;\n",
       "    }\n",
       "</style>\n",
       "<table border=\"1\" class=\"dataframe\">\n",
       "  <thead>\n",
       "    <tr style=\"text-align: right;\">\n",
       "      <th></th>\n",
       "      <th>order_date</th>\n",
       "      <th>customer_id</th>\n",
       "      <th>sales</th>\n",
       "    </tr>\n",
       "  </thead>\n",
       "  <tbody>\n",
       "    <tr>\n",
       "      <th>0</th>\n",
       "      <td>2014-09-07</td>\n",
       "      <td>DK-13375</td>\n",
       "      <td>377.970</td>\n",
       "    </tr>\n",
       "    <tr>\n",
       "      <th>1</th>\n",
       "      <td>2014-07-08</td>\n",
       "      <td>EB-13705</td>\n",
       "      <td>699.192</td>\n",
       "    </tr>\n",
       "    <tr>\n",
       "      <th>2</th>\n",
       "      <td>2014-03-14</td>\n",
       "      <td>NF-18475</td>\n",
       "      <td>91.056</td>\n",
       "    </tr>\n",
       "    <tr>\n",
       "      <th>3</th>\n",
       "      <td>2014-01-28</td>\n",
       "      <td>JC-15340</td>\n",
       "      <td>3.928</td>\n",
       "    </tr>\n",
       "    <tr>\n",
       "      <th>4</th>\n",
       "      <td>2014-04-08</td>\n",
       "      <td>JM-15655</td>\n",
       "      <td>21.376</td>\n",
       "    </tr>\n",
       "  </tbody>\n",
       "</table>\n",
       "</div>"
      ],
      "text/plain": [
       "   order_date customer_id    sales\n",
       "0  2014-09-07    DK-13375  377.970\n",
       "1  2014-07-08    EB-13705  699.192\n",
       "2  2014-03-14    NF-18475   91.056\n",
       "3  2014-01-28    JC-15340    3.928\n",
       "4  2014-04-08    JM-15655   21.376"
      ]
     },
     "execution_count": 16,
     "metadata": {},
     "output_type": "execute_result"
    }
   ],
   "source": [
    "date.head()"
   ]
  },
  {
   "cell_type": "code",
   "execution_count": 17,
   "id": "e9207266",
   "metadata": {},
   "outputs": [
    {
     "data": {
      "application/vnd.microsoft.datawrangler.viewer.v0+json": {
       "columns": [
        {
         "name": "index",
         "rawType": "int64",
         "type": "integer"
        },
        {
         "name": "date",
         "rawType": "object",
         "type": "string"
        },
        {
         "name": "msg",
         "rawType": "object",
         "type": "string"
        }
       ],
       "ref": "b38e08fe-5dc4-46ab-aa5e-40fee8d0e66a",
       "rows": [
        [
         "0",
         "2012-01-02 00:21:00",
         "нужен парень 0965188229"
        ],
        [
         "1",
         "2012-01-02 00:24:00",
         "Всем привет! Как настроение?"
        ],
        [
         "2",
         "2012-01-02 00:27:00",
         "ИЩЮ ВТОРУЮ ПОЛОВИНКУ МНЕ 23 ЗОВУТ ВАНЯ ПИШИТЕ 0509287710 ПРИД"
        ],
        [
         "3",
         "2012-01-02 00:27:00",
         "Эля  встречала в шумной компании! Все отлично!"
        ],
        [
         "4",
         "2012-01-02 00:27:00",
         "Парень катается по городу. Нужна девушка. 0992611265"
        ]
       ],
       "shape": {
        "columns": 2,
        "rows": 5
       }
      },
      "text/html": [
       "<div>\n",
       "<style scoped>\n",
       "    .dataframe tbody tr th:only-of-type {\n",
       "        vertical-align: middle;\n",
       "    }\n",
       "\n",
       "    .dataframe tbody tr th {\n",
       "        vertical-align: top;\n",
       "    }\n",
       "\n",
       "    .dataframe thead th {\n",
       "        text-align: right;\n",
       "    }\n",
       "</style>\n",
       "<table border=\"1\" class=\"dataframe\">\n",
       "  <thead>\n",
       "    <tr style=\"text-align: right;\">\n",
       "      <th></th>\n",
       "      <th>date</th>\n",
       "      <th>msg</th>\n",
       "    </tr>\n",
       "  </thead>\n",
       "  <tbody>\n",
       "    <tr>\n",
       "      <th>0</th>\n",
       "      <td>2012-01-02 00:21:00</td>\n",
       "      <td>нужен парень 0965188229</td>\n",
       "    </tr>\n",
       "    <tr>\n",
       "      <th>1</th>\n",
       "      <td>2012-01-02 00:24:00</td>\n",
       "      <td>Всем привет! Как настроение?</td>\n",
       "    </tr>\n",
       "    <tr>\n",
       "      <th>2</th>\n",
       "      <td>2012-01-02 00:27:00</td>\n",
       "      <td>ИЩЮ ВТОРУЮ ПОЛОВИНКУ МНЕ 23 ЗОВУТ ВАНЯ ПИШИТЕ ...</td>\n",
       "    </tr>\n",
       "    <tr>\n",
       "      <th>3</th>\n",
       "      <td>2012-01-02 00:27:00</td>\n",
       "      <td>Эля  встречала в шумной компании! Все отлично!</td>\n",
       "    </tr>\n",
       "    <tr>\n",
       "      <th>4</th>\n",
       "      <td>2012-01-02 00:27:00</td>\n",
       "      <td>Парень катается по городу. Нужна девушка. 0992...</td>\n",
       "    </tr>\n",
       "  </tbody>\n",
       "</table>\n",
       "</div>"
      ],
      "text/plain": [
       "                  date                                                msg\n",
       "0  2012-01-02 00:21:00                            нужен парень 0965188229\n",
       "1  2012-01-02 00:24:00                       Всем привет! Как настроение?\n",
       "2  2012-01-02 00:27:00  ИЩЮ ВТОРУЮ ПОЛОВИНКУ МНЕ 23 ЗОВУТ ВАНЯ ПИШИТЕ ...\n",
       "3  2012-01-02 00:27:00     Эля  встречала в шумной компании! Все отлично!\n",
       "4  2012-01-02 00:27:00  Парень катается по городу. Нужна девушка. 0992..."
      ]
     },
     "execution_count": 17,
     "metadata": {},
     "output_type": "execute_result"
    }
   ],
   "source": [
    "time.head()"
   ]
  },
  {
   "cell_type": "code",
   "execution_count": 18,
   "id": "618bd2a0",
   "metadata": {},
   "outputs": [
    {
     "name": "stdout",
     "output_type": "stream",
     "text": [
      "<class 'pandas.core.frame.DataFrame'>\n",
      "RangeIndex: 5009 entries, 0 to 5008\n",
      "Data columns (total 3 columns):\n",
      " #   Column       Non-Null Count  Dtype  \n",
      "---  ------       --------------  -----  \n",
      " 0   order_date   5009 non-null   object \n",
      " 1   customer_id  5009 non-null   object \n",
      " 2   sales        5009 non-null   float64\n",
      "dtypes: float64(1), object(2)\n",
      "memory usage: 117.5+ KB\n"
     ]
    }
   ],
   "source": [
    "date.info()"
   ]
  },
  {
   "cell_type": "markdown",
   "id": "f442219e",
   "metadata": {},
   "source": [
    "### Working with Dates"
   ]
  },
  {
   "cell_type": "code",
   "execution_count": 20,
   "id": "0c027b63",
   "metadata": {},
   "outputs": [],
   "source": [
    "date['order_date'] = pd.to_datetime(date['order_date'])"
   ]
  },
  {
   "cell_type": "markdown",
   "id": "bfd540a1",
   "metadata": {},
   "source": [
    "Extract year"
   ]
  },
  {
   "cell_type": "code",
   "execution_count": 21,
   "id": "9c4e0a05",
   "metadata": {},
   "outputs": [],
   "source": [
    "date['date_year'] = date['order_date'].dt.year"
   ]
  },
  {
   "cell_type": "code",
   "execution_count": 24,
   "id": "e8d1f3a7",
   "metadata": {},
   "outputs": [
    {
     "data": {
      "application/vnd.microsoft.datawrangler.viewer.v0+json": {
       "columns": [
        {
         "name": "index",
         "rawType": "int64",
         "type": "integer"
        },
        {
         "name": "order_date",
         "rawType": "datetime64[ns]",
         "type": "datetime"
        },
        {
         "name": "customer_id",
         "rawType": "object",
         "type": "string"
        },
        {
         "name": "sales",
         "rawType": "float64",
         "type": "float"
        },
        {
         "name": "date_year",
         "rawType": "int32",
         "type": "integer"
        }
       ],
       "ref": "74ecee4a-7c9d-4a68-8d30-994536c1b95a",
       "rows": [
        [
         "0",
         "2014-09-07 00:00:00",
         "DK-13375",
         "377.97",
         "2014"
        ],
        [
         "1",
         "2014-07-08 00:00:00",
         "EB-13705",
         "699.192",
         "2014"
        ],
        [
         "2",
         "2014-03-14 00:00:00",
         "NF-18475",
         "91.056",
         "2014"
        ],
        [
         "3",
         "2014-01-28 00:00:00",
         "JC-15340",
         "3.928",
         "2014"
        ],
        [
         "4",
         "2014-04-08 00:00:00",
         "JM-15655",
         "21.376",
         "2014"
        ]
       ],
       "shape": {
        "columns": 4,
        "rows": 5
       }
      },
      "text/html": [
       "<div>\n",
       "<style scoped>\n",
       "    .dataframe tbody tr th:only-of-type {\n",
       "        vertical-align: middle;\n",
       "    }\n",
       "\n",
       "    .dataframe tbody tr th {\n",
       "        vertical-align: top;\n",
       "    }\n",
       "\n",
       "    .dataframe thead th {\n",
       "        text-align: right;\n",
       "    }\n",
       "</style>\n",
       "<table border=\"1\" class=\"dataframe\">\n",
       "  <thead>\n",
       "    <tr style=\"text-align: right;\">\n",
       "      <th></th>\n",
       "      <th>order_date</th>\n",
       "      <th>customer_id</th>\n",
       "      <th>sales</th>\n",
       "      <th>date_year</th>\n",
       "    </tr>\n",
       "  </thead>\n",
       "  <tbody>\n",
       "    <tr>\n",
       "      <th>0</th>\n",
       "      <td>2014-09-07</td>\n",
       "      <td>DK-13375</td>\n",
       "      <td>377.970</td>\n",
       "      <td>2014</td>\n",
       "    </tr>\n",
       "    <tr>\n",
       "      <th>1</th>\n",
       "      <td>2014-07-08</td>\n",
       "      <td>EB-13705</td>\n",
       "      <td>699.192</td>\n",
       "      <td>2014</td>\n",
       "    </tr>\n",
       "    <tr>\n",
       "      <th>2</th>\n",
       "      <td>2014-03-14</td>\n",
       "      <td>NF-18475</td>\n",
       "      <td>91.056</td>\n",
       "      <td>2014</td>\n",
       "    </tr>\n",
       "    <tr>\n",
       "      <th>3</th>\n",
       "      <td>2014-01-28</td>\n",
       "      <td>JC-15340</td>\n",
       "      <td>3.928</td>\n",
       "      <td>2014</td>\n",
       "    </tr>\n",
       "    <tr>\n",
       "      <th>4</th>\n",
       "      <td>2014-04-08</td>\n",
       "      <td>JM-15655</td>\n",
       "      <td>21.376</td>\n",
       "      <td>2014</td>\n",
       "    </tr>\n",
       "  </tbody>\n",
       "</table>\n",
       "</div>"
      ],
      "text/plain": [
       "  order_date customer_id    sales  date_year\n",
       "0 2014-09-07    DK-13375  377.970       2014\n",
       "1 2014-07-08    EB-13705  699.192       2014\n",
       "2 2014-03-14    NF-18475   91.056       2014\n",
       "3 2014-01-28    JC-15340    3.928       2014\n",
       "4 2014-04-08    JM-15655   21.376       2014"
      ]
     },
     "execution_count": 24,
     "metadata": {},
     "output_type": "execute_result"
    }
   ],
   "source": [
    "date.head()"
   ]
  },
  {
   "cell_type": "code",
   "execution_count": 28,
   "id": "28af4336",
   "metadata": {},
   "outputs": [],
   "source": [
    "date['date_week'] = date['order_date'].dt.weekday"
   ]
  },
  {
   "cell_type": "code",
   "execution_count": 29,
   "id": "7c94fdcb",
   "metadata": {},
   "outputs": [
    {
     "data": {
      "application/vnd.microsoft.datawrangler.viewer.v0+json": {
       "columns": [
        {
         "name": "index",
         "rawType": "int64",
         "type": "integer"
        },
        {
         "name": "order_date",
         "rawType": "datetime64[ns]",
         "type": "datetime"
        },
        {
         "name": "customer_id",
         "rawType": "object",
         "type": "string"
        },
        {
         "name": "sales",
         "rawType": "float64",
         "type": "float"
        },
        {
         "name": "date_year",
         "rawType": "int32",
         "type": "integer"
        },
        {
         "name": "date_week",
         "rawType": "int32",
         "type": "integer"
        }
       ],
       "ref": "f9b373ed-123a-46a6-9cf9-11fac4bc979d",
       "rows": [
        [
         "0",
         "2014-09-07 00:00:00",
         "DK-13375",
         "377.97",
         "2014",
         "6"
        ],
        [
         "1",
         "2014-07-08 00:00:00",
         "EB-13705",
         "699.192",
         "2014",
         "1"
        ],
        [
         "2",
         "2014-03-14 00:00:00",
         "NF-18475",
         "91.056",
         "2014",
         "4"
        ],
        [
         "3",
         "2014-01-28 00:00:00",
         "JC-15340",
         "3.928",
         "2014",
         "1"
        ],
        [
         "4",
         "2014-04-08 00:00:00",
         "JM-15655",
         "21.376",
         "2014",
         "1"
        ]
       ],
       "shape": {
        "columns": 5,
        "rows": 5
       }
      },
      "text/html": [
       "<div>\n",
       "<style scoped>\n",
       "    .dataframe tbody tr th:only-of-type {\n",
       "        vertical-align: middle;\n",
       "    }\n",
       "\n",
       "    .dataframe tbody tr th {\n",
       "        vertical-align: top;\n",
       "    }\n",
       "\n",
       "    .dataframe thead th {\n",
       "        text-align: right;\n",
       "    }\n",
       "</style>\n",
       "<table border=\"1\" class=\"dataframe\">\n",
       "  <thead>\n",
       "    <tr style=\"text-align: right;\">\n",
       "      <th></th>\n",
       "      <th>order_date</th>\n",
       "      <th>customer_id</th>\n",
       "      <th>sales</th>\n",
       "      <th>date_year</th>\n",
       "      <th>date_week</th>\n",
       "    </tr>\n",
       "  </thead>\n",
       "  <tbody>\n",
       "    <tr>\n",
       "      <th>0</th>\n",
       "      <td>2014-09-07</td>\n",
       "      <td>DK-13375</td>\n",
       "      <td>377.970</td>\n",
       "      <td>2014</td>\n",
       "      <td>6</td>\n",
       "    </tr>\n",
       "    <tr>\n",
       "      <th>1</th>\n",
       "      <td>2014-07-08</td>\n",
       "      <td>EB-13705</td>\n",
       "      <td>699.192</td>\n",
       "      <td>2014</td>\n",
       "      <td>1</td>\n",
       "    </tr>\n",
       "    <tr>\n",
       "      <th>2</th>\n",
       "      <td>2014-03-14</td>\n",
       "      <td>NF-18475</td>\n",
       "      <td>91.056</td>\n",
       "      <td>2014</td>\n",
       "      <td>4</td>\n",
       "    </tr>\n",
       "    <tr>\n",
       "      <th>3</th>\n",
       "      <td>2014-01-28</td>\n",
       "      <td>JC-15340</td>\n",
       "      <td>3.928</td>\n",
       "      <td>2014</td>\n",
       "      <td>1</td>\n",
       "    </tr>\n",
       "    <tr>\n",
       "      <th>4</th>\n",
       "      <td>2014-04-08</td>\n",
       "      <td>JM-15655</td>\n",
       "      <td>21.376</td>\n",
       "      <td>2014</td>\n",
       "      <td>1</td>\n",
       "    </tr>\n",
       "  </tbody>\n",
       "</table>\n",
       "</div>"
      ],
      "text/plain": [
       "  order_date customer_id    sales  date_year  date_week\n",
       "0 2014-09-07    DK-13375  377.970       2014          6\n",
       "1 2014-07-08    EB-13705  699.192       2014          1\n",
       "2 2014-03-14    NF-18475   91.056       2014          4\n",
       "3 2014-01-28    JC-15340    3.928       2014          1\n",
       "4 2014-04-08    JM-15655   21.376       2014          1"
      ]
     },
     "execution_count": 29,
     "metadata": {},
     "output_type": "execute_result"
    }
   ],
   "source": [
    "date.head()"
   ]
  },
  {
   "cell_type": "code",
   "execution_count": 31,
   "id": "1bc5fcba",
   "metadata": {},
   "outputs": [],
   "source": [
    "date['quarter'] = date['order_date'].dt.quarter"
   ]
  },
  {
   "cell_type": "code",
   "execution_count": 32,
   "id": "33e3d563",
   "metadata": {},
   "outputs": [
    {
     "data": {
      "application/vnd.microsoft.datawrangler.viewer.v0+json": {
       "columns": [
        {
         "name": "index",
         "rawType": "int64",
         "type": "integer"
        },
        {
         "name": "order_date",
         "rawType": "datetime64[ns]",
         "type": "datetime"
        },
        {
         "name": "customer_id",
         "rawType": "object",
         "type": "string"
        },
        {
         "name": "sales",
         "rawType": "float64",
         "type": "float"
        },
        {
         "name": "date_year",
         "rawType": "int32",
         "type": "integer"
        },
        {
         "name": "date_week",
         "rawType": "int32",
         "type": "integer"
        },
        {
         "name": "quarter",
         "rawType": "int32",
         "type": "integer"
        }
       ],
       "ref": "d6543d0c-4d04-45c3-825d-b4289aaf741c",
       "rows": [
        [
         "0",
         "2014-09-07 00:00:00",
         "DK-13375",
         "377.97",
         "2014",
         "6",
         "3"
        ],
        [
         "1",
         "2014-07-08 00:00:00",
         "EB-13705",
         "699.192",
         "2014",
         "1",
         "3"
        ],
        [
         "2",
         "2014-03-14 00:00:00",
         "NF-18475",
         "91.056",
         "2014",
         "4",
         "1"
        ],
        [
         "3",
         "2014-01-28 00:00:00",
         "JC-15340",
         "3.928",
         "2014",
         "1",
         "1"
        ],
        [
         "4",
         "2014-04-08 00:00:00",
         "JM-15655",
         "21.376",
         "2014",
         "1",
         "2"
        ]
       ],
       "shape": {
        "columns": 6,
        "rows": 5
       }
      },
      "text/html": [
       "<div>\n",
       "<style scoped>\n",
       "    .dataframe tbody tr th:only-of-type {\n",
       "        vertical-align: middle;\n",
       "    }\n",
       "\n",
       "    .dataframe tbody tr th {\n",
       "        vertical-align: top;\n",
       "    }\n",
       "\n",
       "    .dataframe thead th {\n",
       "        text-align: right;\n",
       "    }\n",
       "</style>\n",
       "<table border=\"1\" class=\"dataframe\">\n",
       "  <thead>\n",
       "    <tr style=\"text-align: right;\">\n",
       "      <th></th>\n",
       "      <th>order_date</th>\n",
       "      <th>customer_id</th>\n",
       "      <th>sales</th>\n",
       "      <th>date_year</th>\n",
       "      <th>date_week</th>\n",
       "      <th>quarter</th>\n",
       "    </tr>\n",
       "  </thead>\n",
       "  <tbody>\n",
       "    <tr>\n",
       "      <th>0</th>\n",
       "      <td>2014-09-07</td>\n",
       "      <td>DK-13375</td>\n",
       "      <td>377.970</td>\n",
       "      <td>2014</td>\n",
       "      <td>6</td>\n",
       "      <td>3</td>\n",
       "    </tr>\n",
       "    <tr>\n",
       "      <th>1</th>\n",
       "      <td>2014-07-08</td>\n",
       "      <td>EB-13705</td>\n",
       "      <td>699.192</td>\n",
       "      <td>2014</td>\n",
       "      <td>1</td>\n",
       "      <td>3</td>\n",
       "    </tr>\n",
       "    <tr>\n",
       "      <th>2</th>\n",
       "      <td>2014-03-14</td>\n",
       "      <td>NF-18475</td>\n",
       "      <td>91.056</td>\n",
       "      <td>2014</td>\n",
       "      <td>4</td>\n",
       "      <td>1</td>\n",
       "    </tr>\n",
       "    <tr>\n",
       "      <th>3</th>\n",
       "      <td>2014-01-28</td>\n",
       "      <td>JC-15340</td>\n",
       "      <td>3.928</td>\n",
       "      <td>2014</td>\n",
       "      <td>1</td>\n",
       "      <td>1</td>\n",
       "    </tr>\n",
       "    <tr>\n",
       "      <th>4</th>\n",
       "      <td>2014-04-08</td>\n",
       "      <td>JM-15655</td>\n",
       "      <td>21.376</td>\n",
       "      <td>2014</td>\n",
       "      <td>1</td>\n",
       "      <td>2</td>\n",
       "    </tr>\n",
       "  </tbody>\n",
       "</table>\n",
       "</div>"
      ],
      "text/plain": [
       "  order_date customer_id    sales  date_year  date_week  quarter\n",
       "0 2014-09-07    DK-13375  377.970       2014          6        3\n",
       "1 2014-07-08    EB-13705  699.192       2014          1        3\n",
       "2 2014-03-14    NF-18475   91.056       2014          4        1\n",
       "3 2014-01-28    JC-15340    3.928       2014          1        1\n",
       "4 2014-04-08    JM-15655   21.376       2014          1        2"
      ]
     },
     "execution_count": 32,
     "metadata": {},
     "output_type": "execute_result"
    }
   ],
   "source": [
    "date.head()"
   ]
  }
 ],
 "metadata": {
  "kernelspec": {
   "display_name": ".venv",
   "language": "python",
   "name": "python3"
  },
  "language_info": {
   "codemirror_mode": {
    "name": "ipython",
    "version": 3
   },
   "file_extension": ".py",
   "mimetype": "text/x-python",
   "name": "python",
   "nbconvert_exporter": "python",
   "pygments_lexer": "ipython3",
   "version": "3.13.2"
  }
 },
 "nbformat": 4,
 "nbformat_minor": 5
}
