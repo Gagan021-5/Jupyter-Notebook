{
 "cells": [
  {
   "cell_type": "markdown",
   "id": "f8962abd",
   "metadata": {},
   "source": [
    "## Introduction to Pandas"
   ]
  },
  {
   "cell_type": "code",
   "execution_count": 1,
   "id": "6bb6bee6",
   "metadata": {},
   "outputs": [],
   "source": [
    "import pandas as pd\n",
    "import numpy as np\n"
   ]
  },
  {
   "cell_type": "code",
   "execution_count": 2,
   "id": "712c9aed",
   "metadata": {},
   "outputs": [],
   "source": [
    "dic = {\n",
    "    \"name\":['Rick','Arthur'],\n",
    "    \"marks\":[45,34],\n",
    "    \"city\":['California','Boston']\n",
    "}"
   ]
  },
  {
   "cell_type": "code",
   "execution_count": 3,
   "id": "2410f0cd",
   "metadata": {},
   "outputs": [
    {
     "data": {
      "application/vnd.microsoft.datawrangler.viewer.v0+json": {
       "columns": [
        {
         "name": "index",
         "rawType": "int64",
         "type": "integer"
        },
        {
         "name": "name",
         "rawType": "object",
         "type": "string"
        },
        {
         "name": "marks",
         "rawType": "int64",
         "type": "integer"
        },
        {
         "name": "city",
         "rawType": "object",
         "type": "string"
        }
       ],
       "ref": "fc1e70b7-e1a6-403a-8de2-dac443a6b309",
       "rows": [
        [
         "0",
         "Rick",
         "45",
         "California"
        ],
        [
         "1",
         "Arthur",
         "34",
         "Boston"
        ]
       ],
       "shape": {
        "columns": 3,
        "rows": 2
       }
      },
      "text/html": [
       "<div>\n",
       "<style scoped>\n",
       "    .dataframe tbody tr th:only-of-type {\n",
       "        vertical-align: middle;\n",
       "    }\n",
       "\n",
       "    .dataframe tbody tr th {\n",
       "        vertical-align: top;\n",
       "    }\n",
       "\n",
       "    .dataframe thead th {\n",
       "        text-align: right;\n",
       "    }\n",
       "</style>\n",
       "<table border=\"1\" class=\"dataframe\">\n",
       "  <thead>\n",
       "    <tr style=\"text-align: right;\">\n",
       "      <th></th>\n",
       "      <th>name</th>\n",
       "      <th>marks</th>\n",
       "      <th>city</th>\n",
       "    </tr>\n",
       "  </thead>\n",
       "  <tbody>\n",
       "    <tr>\n",
       "      <th>0</th>\n",
       "      <td>Rick</td>\n",
       "      <td>45</td>\n",
       "      <td>California</td>\n",
       "    </tr>\n",
       "    <tr>\n",
       "      <th>1</th>\n",
       "      <td>Arthur</td>\n",
       "      <td>34</td>\n",
       "      <td>Boston</td>\n",
       "    </tr>\n",
       "  </tbody>\n",
       "</table>\n",
       "</div>"
      ],
      "text/plain": [
       "     name  marks        city\n",
       "0    Rick     45  California\n",
       "1  Arthur     34      Boston"
      ]
     },
     "execution_count": 3,
     "metadata": {},
     "output_type": "execute_result"
    }
   ],
   "source": [
    "demo  = pd.DataFrame(dic)\n",
    "demo"
   ]
  },
  {
   "cell_type": "code",
   "execution_count": 4,
   "id": "b4785d5f",
   "metadata": {},
   "outputs": [],
   "source": [
    "demo.to_csv('data_index_false.csv',index=False)"
   ]
  },
  {
   "cell_type": "code",
   "execution_count": 5,
   "id": "fb641582",
   "metadata": {},
   "outputs": [
    {
     "data": {
      "application/vnd.microsoft.datawrangler.viewer.v0+json": {
       "columns": [
        {
         "name": "index",
         "rawType": "int64",
         "type": "integer"
        },
        {
         "name": "name",
         "rawType": "object",
         "type": "string"
        },
        {
         "name": "marks",
         "rawType": "int64",
         "type": "integer"
        },
        {
         "name": "city",
         "rawType": "object",
         "type": "string"
        }
       ],
       "ref": "867b0d1c-9b5c-46ff-873e-01f5858bac60",
       "rows": [
        [
         "0",
         "Rick",
         "45",
         "California"
        ],
        [
         "1",
         "Arthur",
         "34",
         "Boston"
        ]
       ],
       "shape": {
        "columns": 3,
        "rows": 2
       }
      },
      "text/html": [
       "<div>\n",
       "<style scoped>\n",
       "    .dataframe tbody tr th:only-of-type {\n",
       "        vertical-align: middle;\n",
       "    }\n",
       "\n",
       "    .dataframe tbody tr th {\n",
       "        vertical-align: top;\n",
       "    }\n",
       "\n",
       "    .dataframe thead th {\n",
       "        text-align: right;\n",
       "    }\n",
       "</style>\n",
       "<table border=\"1\" class=\"dataframe\">\n",
       "  <thead>\n",
       "    <tr style=\"text-align: right;\">\n",
       "      <th></th>\n",
       "      <th>name</th>\n",
       "      <th>marks</th>\n",
       "      <th>city</th>\n",
       "    </tr>\n",
       "  </thead>\n",
       "  <tbody>\n",
       "    <tr>\n",
       "      <th>0</th>\n",
       "      <td>Rick</td>\n",
       "      <td>45</td>\n",
       "      <td>California</td>\n",
       "    </tr>\n",
       "    <tr>\n",
       "      <th>1</th>\n",
       "      <td>Arthur</td>\n",
       "      <td>34</td>\n",
       "      <td>Boston</td>\n",
       "    </tr>\n",
       "  </tbody>\n",
       "</table>\n",
       "</div>"
      ],
      "text/plain": [
       "     name  marks        city\n",
       "0    Rick     45  California\n",
       "1  Arthur     34      Boston"
      ]
     },
     "execution_count": 5,
     "metadata": {},
     "output_type": "execute_result"
    }
   ],
   "source": [
    "demo.head(2)"
   ]
  },
  {
   "cell_type": "code",
   "execution_count": 6,
   "id": "d720b96d",
   "metadata": {},
   "outputs": [
    {
     "data": {
      "application/vnd.microsoft.datawrangler.viewer.v0+json": {
       "columns": [
        {
         "name": "index",
         "rawType": "int64",
         "type": "integer"
        },
        {
         "name": "name",
         "rawType": "object",
         "type": "string"
        },
        {
         "name": "marks",
         "rawType": "int64",
         "type": "integer"
        },
        {
         "name": "city",
         "rawType": "object",
         "type": "string"
        }
       ],
       "ref": "c589c2c6-d324-419b-9483-f4e7c721002c",
       "rows": [
        [
         "1",
         "Arthur",
         "34",
         "Boston"
        ]
       ],
       "shape": {
        "columns": 3,
        "rows": 1
       }
      },
      "text/html": [
       "<div>\n",
       "<style scoped>\n",
       "    .dataframe tbody tr th:only-of-type {\n",
       "        vertical-align: middle;\n",
       "    }\n",
       "\n",
       "    .dataframe tbody tr th {\n",
       "        vertical-align: top;\n",
       "    }\n",
       "\n",
       "    .dataframe thead th {\n",
       "        text-align: right;\n",
       "    }\n",
       "</style>\n",
       "<table border=\"1\" class=\"dataframe\">\n",
       "  <thead>\n",
       "    <tr style=\"text-align: right;\">\n",
       "      <th></th>\n",
       "      <th>name</th>\n",
       "      <th>marks</th>\n",
       "      <th>city</th>\n",
       "    </tr>\n",
       "  </thead>\n",
       "  <tbody>\n",
       "    <tr>\n",
       "      <th>1</th>\n",
       "      <td>Arthur</td>\n",
       "      <td>34</td>\n",
       "      <td>Boston</td>\n",
       "    </tr>\n",
       "  </tbody>\n",
       "</table>\n",
       "</div>"
      ],
      "text/plain": [
       "     name  marks    city\n",
       "1  Arthur     34  Boston"
      ]
     },
     "execution_count": 6,
     "metadata": {},
     "output_type": "execute_result"
    }
   ],
   "source": [
    "demo.tail(1)"
   ]
  },
  {
   "cell_type": "markdown",
   "id": "21efdd9e",
   "metadata": {},
   "source": [
    "**Statstical Observation/Analysis of Data**"
   ]
  },
  {
   "cell_type": "code",
   "execution_count": 7,
   "id": "df6bcbd1",
   "metadata": {},
   "outputs": [
    {
     "data": {
      "application/vnd.microsoft.datawrangler.viewer.v0+json": {
       "columns": [
        {
         "name": "index",
         "rawType": "object",
         "type": "string"
        },
        {
         "name": "marks",
         "rawType": "float64",
         "type": "float"
        }
       ],
       "ref": "984daf65-5c2f-4eaf-a5be-3e0e7575c774",
       "rows": [
        [
         "count",
         "2.0"
        ],
        [
         "mean",
         "39.5"
        ],
        [
         "std",
         "7.7781745930520225"
        ],
        [
         "min",
         "34.0"
        ],
        [
         "25%",
         "36.75"
        ],
        [
         "50%",
         "39.5"
        ],
        [
         "75%",
         "42.25"
        ],
        [
         "max",
         "45.0"
        ]
       ],
       "shape": {
        "columns": 1,
        "rows": 8
       }
      },
      "text/html": [
       "<div>\n",
       "<style scoped>\n",
       "    .dataframe tbody tr th:only-of-type {\n",
       "        vertical-align: middle;\n",
       "    }\n",
       "\n",
       "    .dataframe tbody tr th {\n",
       "        vertical-align: top;\n",
       "    }\n",
       "\n",
       "    .dataframe thead th {\n",
       "        text-align: right;\n",
       "    }\n",
       "</style>\n",
       "<table border=\"1\" class=\"dataframe\">\n",
       "  <thead>\n",
       "    <tr style=\"text-align: right;\">\n",
       "      <th></th>\n",
       "      <th>marks</th>\n",
       "    </tr>\n",
       "  </thead>\n",
       "  <tbody>\n",
       "    <tr>\n",
       "      <th>count</th>\n",
       "      <td>2.000000</td>\n",
       "    </tr>\n",
       "    <tr>\n",
       "      <th>mean</th>\n",
       "      <td>39.500000</td>\n",
       "    </tr>\n",
       "    <tr>\n",
       "      <th>std</th>\n",
       "      <td>7.778175</td>\n",
       "    </tr>\n",
       "    <tr>\n",
       "      <th>min</th>\n",
       "      <td>34.000000</td>\n",
       "    </tr>\n",
       "    <tr>\n",
       "      <th>25%</th>\n",
       "      <td>36.750000</td>\n",
       "    </tr>\n",
       "    <tr>\n",
       "      <th>50%</th>\n",
       "      <td>39.500000</td>\n",
       "    </tr>\n",
       "    <tr>\n",
       "      <th>75%</th>\n",
       "      <td>42.250000</td>\n",
       "    </tr>\n",
       "    <tr>\n",
       "      <th>max</th>\n",
       "      <td>45.000000</td>\n",
       "    </tr>\n",
       "  </tbody>\n",
       "</table>\n",
       "</div>"
      ],
      "text/plain": [
       "           marks\n",
       "count   2.000000\n",
       "mean   39.500000\n",
       "std     7.778175\n",
       "min    34.000000\n",
       "25%    36.750000\n",
       "50%    39.500000\n",
       "75%    42.250000\n",
       "max    45.000000"
      ]
     },
     "execution_count": 7,
     "metadata": {},
     "output_type": "execute_result"
    }
   ],
   "source": [
    "demo.describe()           #calculate statisticall analsyis"
   ]
  },
  {
   "cell_type": "code",
   "execution_count": 8,
   "id": "0bdfd95c",
   "metadata": {},
   "outputs": [
    {
     "name": "stderr",
     "output_type": "stream",
     "text": [
      "C:\\Users\\Gagan\\AppData\\Local\\Temp\\ipykernel_12156\\3678646553.py:1: FutureWarning: ChainedAssignmentError: behaviour will change in pandas 3.0!\n",
      "You are setting values through chained assignment. Currently this works in certain cases, but when using Copy-on-Write (which will become the default behaviour in pandas 3.0) this will never work to update the original DataFrame or Series, because the intermediate object on which we are setting values will behave as a copy.\n",
      "A typical example is when you are setting values in a column of a DataFrame, like:\n",
      "\n",
      "df[\"col\"][row_indexer] = value\n",
      "\n",
      "Use `df.loc[row_indexer, \"col\"] = values` instead, to perform the assignment in a single step and ensure this keeps updating the original `df`.\n",
      "\n",
      "See the caveats in the documentation: https://pandas.pydata.org/pandas-docs/stable/user_guide/indexing.html#returning-a-view-versus-a-copy\n",
      "\n",
      "  demo['marks'][0]  = 90\n",
      "C:\\Users\\Gagan\\AppData\\Local\\Temp\\ipykernel_12156\\3678646553.py:1: SettingWithCopyWarning: \n",
      "A value is trying to be set on a copy of a slice from a DataFrame\n",
      "\n",
      "See the caveats in the documentation: https://pandas.pydata.org/pandas-docs/stable/user_guide/indexing.html#returning-a-view-versus-a-copy\n",
      "  demo['marks'][0]  = 90\n"
     ]
    }
   ],
   "source": [
    "demo['marks'][0]  = 90"
   ]
  },
  {
   "cell_type": "code",
   "execution_count": 9,
   "id": "913d112a",
   "metadata": {},
   "outputs": [
    {
     "data": {
      "application/vnd.microsoft.datawrangler.viewer.v0+json": {
       "columns": [
        {
         "name": "index",
         "rawType": "int64",
         "type": "integer"
        },
        {
         "name": "name",
         "rawType": "object",
         "type": "string"
        },
        {
         "name": "marks",
         "rawType": "int64",
         "type": "integer"
        },
        {
         "name": "city",
         "rawType": "object",
         "type": "string"
        }
       ],
       "ref": "cacf45a7-a078-4d02-9273-e9d15833bcef",
       "rows": [
        [
         "0",
         "Rick",
         "90",
         "California"
        ],
        [
         "1",
         "Arthur",
         "34",
         "Boston"
        ]
       ],
       "shape": {
        "columns": 3,
        "rows": 2
       }
      },
      "text/html": [
       "<div>\n",
       "<style scoped>\n",
       "    .dataframe tbody tr th:only-of-type {\n",
       "        vertical-align: middle;\n",
       "    }\n",
       "\n",
       "    .dataframe tbody tr th {\n",
       "        vertical-align: top;\n",
       "    }\n",
       "\n",
       "    .dataframe thead th {\n",
       "        text-align: right;\n",
       "    }\n",
       "</style>\n",
       "<table border=\"1\" class=\"dataframe\">\n",
       "  <thead>\n",
       "    <tr style=\"text-align: right;\">\n",
       "      <th></th>\n",
       "      <th>name</th>\n",
       "      <th>marks</th>\n",
       "      <th>city</th>\n",
       "    </tr>\n",
       "  </thead>\n",
       "  <tbody>\n",
       "    <tr>\n",
       "      <th>0</th>\n",
       "      <td>Rick</td>\n",
       "      <td>90</td>\n",
       "      <td>California</td>\n",
       "    </tr>\n",
       "    <tr>\n",
       "      <th>1</th>\n",
       "      <td>Arthur</td>\n",
       "      <td>34</td>\n",
       "      <td>Boston</td>\n",
       "    </tr>\n",
       "  </tbody>\n",
       "</table>\n",
       "</div>"
      ],
      "text/plain": [
       "     name  marks        city\n",
       "0    Rick     90  California\n",
       "1  Arthur     34      Boston"
      ]
     },
     "execution_count": 9,
     "metadata": {},
     "output_type": "execute_result"
    }
   ],
   "source": [
    "demo"
   ]
  },
  {
   "cell_type": "code",
   "execution_count": 10,
   "id": "fa0d43b8",
   "metadata": {},
   "outputs": [],
   "source": [
    "demo.to_csv('new.csv')"
   ]
  },
  {
   "cell_type": "code",
   "execution_count": 11,
   "id": "ae2853f1",
   "metadata": {},
   "outputs": [
    {
     "data": {
      "application/vnd.microsoft.datawrangler.viewer.v0+json": {
       "columns": [
        {
         "name": "index",
         "rawType": "object",
         "type": "string"
        },
        {
         "name": "name",
         "rawType": "object",
         "type": "string"
        },
        {
         "name": "marks",
         "rawType": "int64",
         "type": "integer"
        },
        {
         "name": "city",
         "rawType": "object",
         "type": "string"
        }
       ],
       "ref": "0d748d24-b27f-4dc2-9691-60794f134684",
       "rows": [
        [
         "first",
         "Rick",
         "90",
         "California"
        ],
        [
         "second",
         "Arthur",
         "34",
         "Boston"
        ]
       ],
       "shape": {
        "columns": 3,
        "rows": 2
       }
      },
      "text/html": [
       "<div>\n",
       "<style scoped>\n",
       "    .dataframe tbody tr th:only-of-type {\n",
       "        vertical-align: middle;\n",
       "    }\n",
       "\n",
       "    .dataframe tbody tr th {\n",
       "        vertical-align: top;\n",
       "    }\n",
       "\n",
       "    .dataframe thead th {\n",
       "        text-align: right;\n",
       "    }\n",
       "</style>\n",
       "<table border=\"1\" class=\"dataframe\">\n",
       "  <thead>\n",
       "    <tr style=\"text-align: right;\">\n",
       "      <th></th>\n",
       "      <th>name</th>\n",
       "      <th>marks</th>\n",
       "      <th>city</th>\n",
       "    </tr>\n",
       "  </thead>\n",
       "  <tbody>\n",
       "    <tr>\n",
       "      <th>first</th>\n",
       "      <td>Rick</td>\n",
       "      <td>90</td>\n",
       "      <td>California</td>\n",
       "    </tr>\n",
       "    <tr>\n",
       "      <th>second</th>\n",
       "      <td>Arthur</td>\n",
       "      <td>34</td>\n",
       "      <td>Boston</td>\n",
       "    </tr>\n",
       "  </tbody>\n",
       "</table>\n",
       "</div>"
      ],
      "text/plain": [
       "          name  marks        city\n",
       "first     Rick     90  California\n",
       "second  Arthur     34      Boston"
      ]
     },
     "execution_count": 11,
     "metadata": {},
     "output_type": "execute_result"
    }
   ],
   "source": [
    "demo.index = ['first','second']         #assign indexes\n",
    "demo"
   ]
  },
  {
   "cell_type": "code",
   "execution_count": 12,
   "id": "1485f8dd",
   "metadata": {},
   "outputs": [
    {
     "data": {
      "application/vnd.microsoft.datawrangler.viewer.v0+json": {
       "columns": [
        {
         "name": "index",
         "rawType": "int64",
         "type": "integer"
        },
        {
         "name": "0",
         "rawType": "float64",
         "type": "float"
        }
       ],
       "ref": "c14b3404-7aff-413c-868d-e87011c87bfe",
       "rows": [
        [
         "0",
         "0.9356506992072038"
        ],
        [
         "1",
         "0.47118861796135814"
        ],
        [
         "2",
         "0.5063766834933917"
        ],
        [
         "3",
         "0.14399419147816594"
        ],
        [
         "4",
         "0.481016759528198"
        ],
        [
         "5",
         "0.9578940895560386"
        ],
        [
         "6",
         "0.7710526202110967"
        ],
        [
         "7",
         "0.978109424456139"
        ],
        [
         "8",
         "0.6895572429556884"
        ],
        [
         "9",
         "0.22542427361193962"
        ]
       ],
       "shape": {
        "columns": 1,
        "rows": 10
       }
      },
      "text/plain": [
       "0    0.935651\n",
       "1    0.471189\n",
       "2    0.506377\n",
       "3    0.143994\n",
       "4    0.481017\n",
       "5    0.957894\n",
       "6    0.771053\n",
       "7    0.978109\n",
       "8    0.689557\n",
       "9    0.225424\n",
       "dtype: float64"
      ]
     },
     "execution_count": 12,
     "metadata": {},
     "output_type": "execute_result"
    }
   ],
   "source": [
    "ser = pd.Series(np.random.rand(10))\n",
    "ser"
   ]
  },
  {
   "cell_type": "code",
   "execution_count": 13,
   "id": "0b6beae5",
   "metadata": {},
   "outputs": [
    {
     "data": {
      "application/vnd.microsoft.datawrangler.viewer.v0+json": {
       "columns": [
        {
         "name": "index",
         "rawType": "int64",
         "type": "integer"
        },
        {
         "name": "0",
         "rawType": "float64",
         "type": "float"
        },
        {
         "name": "1",
         "rawType": "float64",
         "type": "float"
        },
        {
         "name": "2",
         "rawType": "float64",
         "type": "float"
        },
        {
         "name": "3",
         "rawType": "float64",
         "type": "float"
        },
        {
         "name": "4",
         "rawType": "float64",
         "type": "float"
        }
       ],
       "ref": "271e78db-1a4b-4fca-995e-938b1aa16e25",
       "rows": [
        [
         "0",
         "0.8109057320185249",
         "0.1009787166217121",
         "0.12298902834025105",
         "0.053524046646136414",
         "0.27269356277066126"
        ],
        [
         "1",
         "0.8630491740842244",
         "0.36363327627373787",
         "0.020690814649189093",
         "0.38274861419023676",
         "0.8374589028303848"
        ],
        [
         "2",
         "0.31232561946278126",
         "0.5383877109848798",
         "0.1560992586685076",
         "0.24593233483456234",
         "0.9376752815470363"
        ],
        [
         "3",
         "0.685187974445353",
         "0.7768115278402427",
         "0.08137759649970067",
         "0.4263811330799492",
         "0.41499853470547576"
        ],
        [
         "4",
         "0.8966159436263471",
         "0.1564026496656552",
         "0.6656222122168985",
         "0.8230157600459596",
         "0.10631310727274446"
        ]
       ],
       "shape": {
        "columns": 5,
        "rows": 5
       }
      },
      "text/html": [
       "<div>\n",
       "<style scoped>\n",
       "    .dataframe tbody tr th:only-of-type {\n",
       "        vertical-align: middle;\n",
       "    }\n",
       "\n",
       "    .dataframe tbody tr th {\n",
       "        vertical-align: top;\n",
       "    }\n",
       "\n",
       "    .dataframe thead th {\n",
       "        text-align: right;\n",
       "    }\n",
       "</style>\n",
       "<table border=\"1\" class=\"dataframe\">\n",
       "  <thead>\n",
       "    <tr style=\"text-align: right;\">\n",
       "      <th></th>\n",
       "      <th>0</th>\n",
       "      <th>1</th>\n",
       "      <th>2</th>\n",
       "      <th>3</th>\n",
       "      <th>4</th>\n",
       "    </tr>\n",
       "  </thead>\n",
       "  <tbody>\n",
       "    <tr>\n",
       "      <th>0</th>\n",
       "      <td>0.810906</td>\n",
       "      <td>0.100979</td>\n",
       "      <td>0.122989</td>\n",
       "      <td>0.053524</td>\n",
       "      <td>0.272694</td>\n",
       "    </tr>\n",
       "    <tr>\n",
       "      <th>1</th>\n",
       "      <td>0.863049</td>\n",
       "      <td>0.363633</td>\n",
       "      <td>0.020691</td>\n",
       "      <td>0.382749</td>\n",
       "      <td>0.837459</td>\n",
       "    </tr>\n",
       "    <tr>\n",
       "      <th>2</th>\n",
       "      <td>0.312326</td>\n",
       "      <td>0.538388</td>\n",
       "      <td>0.156099</td>\n",
       "      <td>0.245932</td>\n",
       "      <td>0.937675</td>\n",
       "    </tr>\n",
       "    <tr>\n",
       "      <th>3</th>\n",
       "      <td>0.685188</td>\n",
       "      <td>0.776812</td>\n",
       "      <td>0.081378</td>\n",
       "      <td>0.426381</td>\n",
       "      <td>0.414999</td>\n",
       "    </tr>\n",
       "    <tr>\n",
       "      <th>4</th>\n",
       "      <td>0.896616</td>\n",
       "      <td>0.156403</td>\n",
       "      <td>0.665622</td>\n",
       "      <td>0.823016</td>\n",
       "      <td>0.106313</td>\n",
       "    </tr>\n",
       "  </tbody>\n",
       "</table>\n",
       "</div>"
      ],
      "text/plain": [
       "          0         1         2         3         4\n",
       "0  0.810906  0.100979  0.122989  0.053524  0.272694\n",
       "1  0.863049  0.363633  0.020691  0.382749  0.837459\n",
       "2  0.312326  0.538388  0.156099  0.245932  0.937675\n",
       "3  0.685188  0.776812  0.081378  0.426381  0.414999\n",
       "4  0.896616  0.156403  0.665622  0.823016  0.106313"
      ]
     },
     "execution_count": 13,
     "metadata": {},
     "output_type": "execute_result"
    }
   ],
   "source": [
    "newdata = pd.DataFrame(np.random.rand(334,5),index=np.arange(334))\n",
    "newdata.head()  #return the head value"
   ]
  },
  {
   "cell_type": "code",
   "execution_count": 14,
   "id": "067fcbc1",
   "metadata": {},
   "outputs": [
    {
     "data": {
      "application/vnd.microsoft.datawrangler.viewer.v0+json": {
       "columns": [
        {
         "name": "index",
         "rawType": "object",
         "type": "string"
        },
        {
         "name": "0",
         "rawType": "float64",
         "type": "float"
        },
        {
         "name": "1",
         "rawType": "float64",
         "type": "float"
        },
        {
         "name": "2",
         "rawType": "float64",
         "type": "float"
        },
        {
         "name": "3",
         "rawType": "float64",
         "type": "float"
        },
        {
         "name": "4",
         "rawType": "float64",
         "type": "float"
        }
       ],
       "ref": "89eaa19a-3676-4953-9261-9958bb771dba",
       "rows": [
        [
         "count",
         "334.0",
         "334.0",
         "334.0",
         "334.0",
         "334.0"
        ],
        [
         "mean",
         "0.521163936302518",
         "0.47451228080482627",
         "0.4673055823391884",
         "0.506156558209035",
         "0.49188692146396773"
        ],
        [
         "std",
         "0.2837521325162806",
         "0.2846762200393263",
         "0.2873531924318237",
         "0.27897143103116845",
         "0.28827853064525427"
        ],
        [
         "min",
         "0.0032931546396551825",
         "0.009703691598715536",
         "0.005373696338413558",
         "0.0008019177765982155",
         "0.006240066132893074"
        ],
        [
         "25%",
         "0.2709893894361804",
         "0.23224732086552",
         "0.21220772350259126",
         "0.27061242038702876",
         "0.24374261322449603"
        ],
        [
         "50%",
         "0.5312642226591622",
         "0.4506946722803834",
         "0.4689944642772628",
         "0.5151693455307034",
         "0.47924138726718113"
        ],
        [
         "75%",
         "0.761132657415103",
         "0.7273783747765233",
         "0.6950039457877751",
         "0.7178713417558547",
         "0.7498502160027304"
        ],
        [
         "max",
         "0.9980625097878673",
         "0.9935848678524941",
         "0.995283017110464",
         "0.9933116297387513",
         "0.9884894664553369"
        ]
       ],
       "shape": {
        "columns": 5,
        "rows": 8
       }
      },
      "text/html": [
       "<div>\n",
       "<style scoped>\n",
       "    .dataframe tbody tr th:only-of-type {\n",
       "        vertical-align: middle;\n",
       "    }\n",
       "\n",
       "    .dataframe tbody tr th {\n",
       "        vertical-align: top;\n",
       "    }\n",
       "\n",
       "    .dataframe thead th {\n",
       "        text-align: right;\n",
       "    }\n",
       "</style>\n",
       "<table border=\"1\" class=\"dataframe\">\n",
       "  <thead>\n",
       "    <tr style=\"text-align: right;\">\n",
       "      <th></th>\n",
       "      <th>0</th>\n",
       "      <th>1</th>\n",
       "      <th>2</th>\n",
       "      <th>3</th>\n",
       "      <th>4</th>\n",
       "    </tr>\n",
       "  </thead>\n",
       "  <tbody>\n",
       "    <tr>\n",
       "      <th>count</th>\n",
       "      <td>334.000000</td>\n",
       "      <td>334.000000</td>\n",
       "      <td>334.000000</td>\n",
       "      <td>334.000000</td>\n",
       "      <td>334.000000</td>\n",
       "    </tr>\n",
       "    <tr>\n",
       "      <th>mean</th>\n",
       "      <td>0.521164</td>\n",
       "      <td>0.474512</td>\n",
       "      <td>0.467306</td>\n",
       "      <td>0.506157</td>\n",
       "      <td>0.491887</td>\n",
       "    </tr>\n",
       "    <tr>\n",
       "      <th>std</th>\n",
       "      <td>0.283752</td>\n",
       "      <td>0.284676</td>\n",
       "      <td>0.287353</td>\n",
       "      <td>0.278971</td>\n",
       "      <td>0.288279</td>\n",
       "    </tr>\n",
       "    <tr>\n",
       "      <th>min</th>\n",
       "      <td>0.003293</td>\n",
       "      <td>0.009704</td>\n",
       "      <td>0.005374</td>\n",
       "      <td>0.000802</td>\n",
       "      <td>0.006240</td>\n",
       "    </tr>\n",
       "    <tr>\n",
       "      <th>25%</th>\n",
       "      <td>0.270989</td>\n",
       "      <td>0.232247</td>\n",
       "      <td>0.212208</td>\n",
       "      <td>0.270612</td>\n",
       "      <td>0.243743</td>\n",
       "    </tr>\n",
       "    <tr>\n",
       "      <th>50%</th>\n",
       "      <td>0.531264</td>\n",
       "      <td>0.450695</td>\n",
       "      <td>0.468994</td>\n",
       "      <td>0.515169</td>\n",
       "      <td>0.479241</td>\n",
       "    </tr>\n",
       "    <tr>\n",
       "      <th>75%</th>\n",
       "      <td>0.761133</td>\n",
       "      <td>0.727378</td>\n",
       "      <td>0.695004</td>\n",
       "      <td>0.717871</td>\n",
       "      <td>0.749850</td>\n",
       "    </tr>\n",
       "    <tr>\n",
       "      <th>max</th>\n",
       "      <td>0.998063</td>\n",
       "      <td>0.993585</td>\n",
       "      <td>0.995283</td>\n",
       "      <td>0.993312</td>\n",
       "      <td>0.988489</td>\n",
       "    </tr>\n",
       "  </tbody>\n",
       "</table>\n",
       "</div>"
      ],
      "text/plain": [
       "                0           1           2           3           4\n",
       "count  334.000000  334.000000  334.000000  334.000000  334.000000\n",
       "mean     0.521164    0.474512    0.467306    0.506157    0.491887\n",
       "std      0.283752    0.284676    0.287353    0.278971    0.288279\n",
       "min      0.003293    0.009704    0.005374    0.000802    0.006240\n",
       "25%      0.270989    0.232247    0.212208    0.270612    0.243743\n",
       "50%      0.531264    0.450695    0.468994    0.515169    0.479241\n",
       "75%      0.761133    0.727378    0.695004    0.717871    0.749850\n",
       "max      0.998063    0.993585    0.995283    0.993312    0.988489"
      ]
     },
     "execution_count": 14,
     "metadata": {},
     "output_type": "execute_result"
    }
   ],
   "source": [
    "newdata.describe()"
   ]
  },
  {
   "cell_type": "code",
   "execution_count": 15,
   "id": "64ddeb93",
   "metadata": {},
   "outputs": [
    {
     "name": "stderr",
     "output_type": "stream",
     "text": [
      "C:\\Users\\Gagan\\AppData\\Local\\Temp\\ipykernel_12156\\3782387853.py:1: FutureWarning: ChainedAssignmentError: behaviour will change in pandas 3.0!\n",
      "You are setting values through chained assignment. Currently this works in certain cases, but when using Copy-on-Write (which will become the default behaviour in pandas 3.0) this will never work to update the original DataFrame or Series, because the intermediate object on which we are setting values will behave as a copy.\n",
      "A typical example is when you are setting values in a column of a DataFrame, like:\n",
      "\n",
      "df[\"col\"][row_indexer] = value\n",
      "\n",
      "Use `df.loc[row_indexer, \"col\"] = values` instead, to perform the assignment in a single step and ensure this keeps updating the original `df`.\n",
      "\n",
      "See the caveats in the documentation: https://pandas.pydata.org/pandas-docs/stable/user_guide/indexing.html#returning-a-view-versus-a-copy\n",
      "\n",
      "  newdata[0][0]= 0.34531\n"
     ]
    }
   ],
   "source": [
    "newdata[0][0]= 0.34531"
   ]
  },
  {
   "cell_type": "code",
   "execution_count": 16,
   "id": "4e351607",
   "metadata": {},
   "outputs": [
    {
     "data": {
      "application/vnd.microsoft.datawrangler.viewer.v0+json": {
       "columns": [
        {
         "name": "index",
         "rawType": "int64",
         "type": "integer"
        },
        {
         "name": "0",
         "rawType": "float64",
         "type": "float"
        },
        {
         "name": "1",
         "rawType": "float64",
         "type": "float"
        },
        {
         "name": "2",
         "rawType": "float64",
         "type": "float"
        },
        {
         "name": "3",
         "rawType": "float64",
         "type": "float"
        },
        {
         "name": "4",
         "rawType": "float64",
         "type": "float"
        }
       ],
       "ref": "a14d28ba-f06d-41cc-bc2d-2a280207f4f4",
       "rows": [
        [
         "0",
         "0.34531",
         "0.1009787166217121",
         "0.12298902834025105",
         "0.053524046646136414",
         "0.27269356277066126"
        ],
        [
         "1",
         "0.8630491740842244",
         "0.36363327627373787",
         "0.020690814649189093",
         "0.38274861419023676",
         "0.8374589028303848"
        ],
        [
         "2",
         "0.31232561946278126",
         "0.5383877109848798",
         "0.1560992586685076",
         "0.24593233483456234",
         "0.9376752815470363"
        ],
        [
         "3",
         "0.685187974445353",
         "0.7768115278402427",
         "0.08137759649970067",
         "0.4263811330799492",
         "0.41499853470547576"
        ],
        [
         "4",
         "0.8966159436263471",
         "0.1564026496656552",
         "0.6656222122168985",
         "0.8230157600459596",
         "0.10631310727274446"
        ]
       ],
       "shape": {
        "columns": 5,
        "rows": 5
       }
      },
      "text/html": [
       "<div>\n",
       "<style scoped>\n",
       "    .dataframe tbody tr th:only-of-type {\n",
       "        vertical-align: middle;\n",
       "    }\n",
       "\n",
       "    .dataframe tbody tr th {\n",
       "        vertical-align: top;\n",
       "    }\n",
       "\n",
       "    .dataframe thead th {\n",
       "        text-align: right;\n",
       "    }\n",
       "</style>\n",
       "<table border=\"1\" class=\"dataframe\">\n",
       "  <thead>\n",
       "    <tr style=\"text-align: right;\">\n",
       "      <th></th>\n",
       "      <th>0</th>\n",
       "      <th>1</th>\n",
       "      <th>2</th>\n",
       "      <th>3</th>\n",
       "      <th>4</th>\n",
       "    </tr>\n",
       "  </thead>\n",
       "  <tbody>\n",
       "    <tr>\n",
       "      <th>0</th>\n",
       "      <td>0.345310</td>\n",
       "      <td>0.100979</td>\n",
       "      <td>0.122989</td>\n",
       "      <td>0.053524</td>\n",
       "      <td>0.272694</td>\n",
       "    </tr>\n",
       "    <tr>\n",
       "      <th>1</th>\n",
       "      <td>0.863049</td>\n",
       "      <td>0.363633</td>\n",
       "      <td>0.020691</td>\n",
       "      <td>0.382749</td>\n",
       "      <td>0.837459</td>\n",
       "    </tr>\n",
       "    <tr>\n",
       "      <th>2</th>\n",
       "      <td>0.312326</td>\n",
       "      <td>0.538388</td>\n",
       "      <td>0.156099</td>\n",
       "      <td>0.245932</td>\n",
       "      <td>0.937675</td>\n",
       "    </tr>\n",
       "    <tr>\n",
       "      <th>3</th>\n",
       "      <td>0.685188</td>\n",
       "      <td>0.776812</td>\n",
       "      <td>0.081378</td>\n",
       "      <td>0.426381</td>\n",
       "      <td>0.414999</td>\n",
       "    </tr>\n",
       "    <tr>\n",
       "      <th>4</th>\n",
       "      <td>0.896616</td>\n",
       "      <td>0.156403</td>\n",
       "      <td>0.665622</td>\n",
       "      <td>0.823016</td>\n",
       "      <td>0.106313</td>\n",
       "    </tr>\n",
       "  </tbody>\n",
       "</table>\n",
       "</div>"
      ],
      "text/plain": [
       "          0         1         2         3         4\n",
       "0  0.345310  0.100979  0.122989  0.053524  0.272694\n",
       "1  0.863049  0.363633  0.020691  0.382749  0.837459\n",
       "2  0.312326  0.538388  0.156099  0.245932  0.937675\n",
       "3  0.685188  0.776812  0.081378  0.426381  0.414999\n",
       "4  0.896616  0.156403  0.665622  0.823016  0.106313"
      ]
     },
     "execution_count": 16,
     "metadata": {},
     "output_type": "execute_result"
    }
   ],
   "source": [
    "newdata.head()"
   ]
  },
  {
   "cell_type": "code",
   "execution_count": 17,
   "id": "0d20749e",
   "metadata": {},
   "outputs": [
    {
     "data": {
      "text/plain": [
       "array([[0.34531   , 0.10097872, 0.12298903, 0.05352405, 0.27269356],\n",
       "       [0.86304917, 0.36363328, 0.02069081, 0.38274861, 0.8374589 ],\n",
       "       [0.31232562, 0.53838771, 0.15609926, 0.24593233, 0.93767528],\n",
       "       ...,\n",
       "       [0.50924023, 0.23523357, 0.04236959, 0.0097374 , 0.73982146],\n",
       "       [0.89329944, 0.51326615, 0.35125482, 0.87331475, 0.79554025],\n",
       "       [0.30839848, 0.0330768 , 0.27197302, 0.26706132, 0.80161496]])"
      ]
     },
     "execution_count": 17,
     "metadata": {},
     "output_type": "execute_result"
    }
   ],
   "source": [
    "newdata.to_numpy()"
   ]
  },
  {
   "cell_type": "code",
   "execution_count": 18,
   "id": "f51c7bf2",
   "metadata": {},
   "outputs": [
    {
     "data": {
      "application/vnd.microsoft.datawrangler.viewer.v0+json": {
       "columns": [
        {
         "name": "index",
         "rawType": "int64",
         "type": "integer"
        },
        {
         "name": "0",
         "rawType": "float64",
         "type": "float"
        },
        {
         "name": "1",
         "rawType": "float64",
         "type": "float"
        },
        {
         "name": "2",
         "rawType": "float64",
         "type": "float"
        },
        {
         "name": "3",
         "rawType": "float64",
         "type": "float"
        },
        {
         "name": "4",
         "rawType": "float64",
         "type": "float"
        },
        {
         "name": "5",
         "rawType": "float64",
         "type": "float"
        },
        {
         "name": "6",
         "rawType": "float64",
         "type": "float"
        },
        {
         "name": "7",
         "rawType": "float64",
         "type": "float"
        },
        {
         "name": "8",
         "rawType": "float64",
         "type": "float"
        },
        {
         "name": "9",
         "rawType": "float64",
         "type": "float"
        },
        {
         "name": "10",
         "rawType": "float64",
         "type": "float"
        },
        {
         "name": "11",
         "rawType": "float64",
         "type": "float"
        },
        {
         "name": "12",
         "rawType": "float64",
         "type": "float"
        },
        {
         "name": "13",
         "rawType": "float64",
         "type": "float"
        },
        {
         "name": "14",
         "rawType": "float64",
         "type": "float"
        },
        {
         "name": "15",
         "rawType": "float64",
         "type": "float"
        },
        {
         "name": "16",
         "rawType": "float64",
         "type": "float"
        },
        {
         "name": "17",
         "rawType": "float64",
         "type": "float"
        },
        {
         "name": "18",
         "rawType": "float64",
         "type": "float"
        },
        {
         "name": "19",
         "rawType": "float64",
         "type": "float"
        },
        {
         "name": "20",
         "rawType": "float64",
         "type": "float"
        },
        {
         "name": "21",
         "rawType": "float64",
         "type": "float"
        },
        {
         "name": "22",
         "rawType": "float64",
         "type": "float"
        },
        {
         "name": "23",
         "rawType": "float64",
         "type": "float"
        },
        {
         "name": "24",
         "rawType": "float64",
         "type": "float"
        },
        {
         "name": "25",
         "rawType": "float64",
         "type": "float"
        },
        {
         "name": "26",
         "rawType": "float64",
         "type": "float"
        },
        {
         "name": "27",
         "rawType": "float64",
         "type": "float"
        },
        {
         "name": "28",
         "rawType": "float64",
         "type": "float"
        },
        {
         "name": "29",
         "rawType": "float64",
         "type": "float"
        },
        {
         "name": "30",
         "rawType": "float64",
         "type": "float"
        },
        {
         "name": "31",
         "rawType": "float64",
         "type": "float"
        },
        {
         "name": "32",
         "rawType": "float64",
         "type": "float"
        },
        {
         "name": "33",
         "rawType": "float64",
         "type": "float"
        },
        {
         "name": "34",
         "rawType": "float64",
         "type": "float"
        },
        {
         "name": "35",
         "rawType": "float64",
         "type": "float"
        },
        {
         "name": "36",
         "rawType": "float64",
         "type": "float"
        },
        {
         "name": "37",
         "rawType": "float64",
         "type": "float"
        },
        {
         "name": "38",
         "rawType": "float64",
         "type": "float"
        },
        {
         "name": "39",
         "rawType": "float64",
         "type": "float"
        },
        {
         "name": "40",
         "rawType": "float64",
         "type": "float"
        },
        {
         "name": "41",
         "rawType": "float64",
         "type": "float"
        },
        {
         "name": "42",
         "rawType": "float64",
         "type": "float"
        },
        {
         "name": "43",
         "rawType": "float64",
         "type": "float"
        },
        {
         "name": "44",
         "rawType": "float64",
         "type": "float"
        },
        {
         "name": "45",
         "rawType": "float64",
         "type": "float"
        },
        {
         "name": "46",
         "rawType": "float64",
         "type": "float"
        },
        {
         "name": "47",
         "rawType": "float64",
         "type": "float"
        },
        {
         "name": "48",
         "rawType": "float64",
         "type": "float"
        },
        {
         "name": "49",
         "rawType": "float64",
         "type": "float"
        },
        {
         "name": "50",
         "rawType": "float64",
         "type": "float"
        },
        {
         "name": "51",
         "rawType": "float64",
         "type": "float"
        },
        {
         "name": "52",
         "rawType": "float64",
         "type": "float"
        },
        {
         "name": "53",
         "rawType": "float64",
         "type": "float"
        },
        {
         "name": "54",
         "rawType": "float64",
         "type": "float"
        },
        {
         "name": "55",
         "rawType": "float64",
         "type": "float"
        },
        {
         "name": "56",
         "rawType": "float64",
         "type": "float"
        },
        {
         "name": "57",
         "rawType": "float64",
         "type": "float"
        },
        {
         "name": "58",
         "rawType": "float64",
         "type": "float"
        },
        {
         "name": "59",
         "rawType": "float64",
         "type": "float"
        },
        {
         "name": "60",
         "rawType": "float64",
         "type": "float"
        },
        {
         "name": "61",
         "rawType": "float64",
         "type": "float"
        },
        {
         "name": "62",
         "rawType": "float64",
         "type": "float"
        },
        {
         "name": "63",
         "rawType": "float64",
         "type": "float"
        },
        {
         "name": "64",
         "rawType": "float64",
         "type": "float"
        },
        {
         "name": "65",
         "rawType": "float64",
         "type": "float"
        },
        {
         "name": "66",
         "rawType": "float64",
         "type": "float"
        },
        {
         "name": "67",
         "rawType": "float64",
         "type": "float"
        },
        {
         "name": "68",
         "rawType": "float64",
         "type": "float"
        },
        {
         "name": "69",
         "rawType": "float64",
         "type": "float"
        },
        {
         "name": "70",
         "rawType": "float64",
         "type": "float"
        },
        {
         "name": "71",
         "rawType": "float64",
         "type": "float"
        },
        {
         "name": "72",
         "rawType": "float64",
         "type": "float"
        },
        {
         "name": "73",
         "rawType": "float64",
         "type": "float"
        },
        {
         "name": "74",
         "rawType": "float64",
         "type": "float"
        },
        {
         "name": "75",
         "rawType": "float64",
         "type": "float"
        },
        {
         "name": "76",
         "rawType": "float64",
         "type": "float"
        },
        {
         "name": "77",
         "rawType": "float64",
         "type": "float"
        },
        {
         "name": "78",
         "rawType": "float64",
         "type": "float"
        },
        {
         "name": "79",
         "rawType": "float64",
         "type": "float"
        },
        {
         "name": "80",
         "rawType": "float64",
         "type": "float"
        },
        {
         "name": "81",
         "rawType": "float64",
         "type": "float"
        },
        {
         "name": "82",
         "rawType": "float64",
         "type": "float"
        },
        {
         "name": "83",
         "rawType": "float64",
         "type": "float"
        },
        {
         "name": "84",
         "rawType": "float64",
         "type": "float"
        },
        {
         "name": "85",
         "rawType": "float64",
         "type": "float"
        },
        {
         "name": "86",
         "rawType": "float64",
         "type": "float"
        },
        {
         "name": "87",
         "rawType": "float64",
         "type": "float"
        },
        {
         "name": "88",
         "rawType": "float64",
         "type": "float"
        },
        {
         "name": "89",
         "rawType": "float64",
         "type": "float"
        },
        {
         "name": "90",
         "rawType": "float64",
         "type": "float"
        },
        {
         "name": "91",
         "rawType": "float64",
         "type": "float"
        },
        {
         "name": "92",
         "rawType": "float64",
         "type": "float"
        },
        {
         "name": "93",
         "rawType": "float64",
         "type": "float"
        },
        {
         "name": "94",
         "rawType": "float64",
         "type": "float"
        },
        {
         "name": "95",
         "rawType": "float64",
         "type": "float"
        },
        {
         "name": "96",
         "rawType": "float64",
         "type": "float"
        },
        {
         "name": "97",
         "rawType": "float64",
         "type": "float"
        },
        {
         "name": "98",
         "rawType": "float64",
         "type": "float"
        },
        {
         "name": "99",
         "rawType": "float64",
         "type": "float"
        },
        {
         "name": "100",
         "rawType": "float64",
         "type": "float"
        },
        {
         "name": "101",
         "rawType": "float64",
         "type": "float"
        },
        {
         "name": "102",
         "rawType": "float64",
         "type": "float"
        },
        {
         "name": "103",
         "rawType": "float64",
         "type": "float"
        },
        {
         "name": "104",
         "rawType": "float64",
         "type": "float"
        },
        {
         "name": "105",
         "rawType": "float64",
         "type": "float"
        },
        {
         "name": "106",
         "rawType": "float64",
         "type": "float"
        },
        {
         "name": "107",
         "rawType": "float64",
         "type": "float"
        },
        {
         "name": "108",
         "rawType": "float64",
         "type": "float"
        },
        {
         "name": "109",
         "rawType": "float64",
         "type": "float"
        },
        {
         "name": "110",
         "rawType": "float64",
         "type": "float"
        },
        {
         "name": "111",
         "rawType": "float64",
         "type": "float"
        },
        {
         "name": "112",
         "rawType": "float64",
         "type": "float"
        },
        {
         "name": "113",
         "rawType": "float64",
         "type": "float"
        },
        {
         "name": "114",
         "rawType": "float64",
         "type": "float"
        },
        {
         "name": "115",
         "rawType": "float64",
         "type": "float"
        },
        {
         "name": "116",
         "rawType": "float64",
         "type": "float"
        },
        {
         "name": "117",
         "rawType": "float64",
         "type": "float"
        },
        {
         "name": "118",
         "rawType": "float64",
         "type": "float"
        },
        {
         "name": "119",
         "rawType": "float64",
         "type": "float"
        },
        {
         "name": "120",
         "rawType": "float64",
         "type": "float"
        },
        {
         "name": "121",
         "rawType": "float64",
         "type": "float"
        },
        {
         "name": "122",
         "rawType": "float64",
         "type": "float"
        },
        {
         "name": "123",
         "rawType": "float64",
         "type": "float"
        },
        {
         "name": "124",
         "rawType": "float64",
         "type": "float"
        },
        {
         "name": "125",
         "rawType": "float64",
         "type": "float"
        },
        {
         "name": "126",
         "rawType": "float64",
         "type": "float"
        },
        {
         "name": "127",
         "rawType": "float64",
         "type": "float"
        },
        {
         "name": "128",
         "rawType": "float64",
         "type": "float"
        },
        {
         "name": "129",
         "rawType": "float64",
         "type": "float"
        },
        {
         "name": "130",
         "rawType": "float64",
         "type": "float"
        },
        {
         "name": "131",
         "rawType": "float64",
         "type": "float"
        },
        {
         "name": "132",
         "rawType": "float64",
         "type": "float"
        },
        {
         "name": "133",
         "rawType": "float64",
         "type": "float"
        },
        {
         "name": "134",
         "rawType": "float64",
         "type": "float"
        },
        {
         "name": "135",
         "rawType": "float64",
         "type": "float"
        },
        {
         "name": "136",
         "rawType": "float64",
         "type": "float"
        },
        {
         "name": "137",
         "rawType": "float64",
         "type": "float"
        },
        {
         "name": "138",
         "rawType": "float64",
         "type": "float"
        },
        {
         "name": "139",
         "rawType": "float64",
         "type": "float"
        },
        {
         "name": "140",
         "rawType": "float64",
         "type": "float"
        },
        {
         "name": "141",
         "rawType": "float64",
         "type": "float"
        },
        {
         "name": "142",
         "rawType": "float64",
         "type": "float"
        },
        {
         "name": "143",
         "rawType": "float64",
         "type": "float"
        },
        {
         "name": "144",
         "rawType": "float64",
         "type": "float"
        },
        {
         "name": "145",
         "rawType": "float64",
         "type": "float"
        },
        {
         "name": "146",
         "rawType": "float64",
         "type": "float"
        },
        {
         "name": "147",
         "rawType": "float64",
         "type": "float"
        },
        {
         "name": "148",
         "rawType": "float64",
         "type": "float"
        },
        {
         "name": "149",
         "rawType": "float64",
         "type": "float"
        },
        {
         "name": "150",
         "rawType": "float64",
         "type": "float"
        },
        {
         "name": "151",
         "rawType": "float64",
         "type": "float"
        },
        {
         "name": "152",
         "rawType": "float64",
         "type": "float"
        },
        {
         "name": "153",
         "rawType": "float64",
         "type": "float"
        },
        {
         "name": "154",
         "rawType": "float64",
         "type": "float"
        },
        {
         "name": "155",
         "rawType": "float64",
         "type": "float"
        },
        {
         "name": "156",
         "rawType": "float64",
         "type": "float"
        },
        {
         "name": "157",
         "rawType": "float64",
         "type": "float"
        },
        {
         "name": "158",
         "rawType": "float64",
         "type": "float"
        },
        {
         "name": "159",
         "rawType": "float64",
         "type": "float"
        },
        {
         "name": "160",
         "rawType": "float64",
         "type": "float"
        },
        {
         "name": "161",
         "rawType": "float64",
         "type": "float"
        },
        {
         "name": "162",
         "rawType": "float64",
         "type": "float"
        },
        {
         "name": "163",
         "rawType": "float64",
         "type": "float"
        },
        {
         "name": "164",
         "rawType": "float64",
         "type": "float"
        },
        {
         "name": "165",
         "rawType": "float64",
         "type": "float"
        },
        {
         "name": "166",
         "rawType": "float64",
         "type": "float"
        },
        {
         "name": "167",
         "rawType": "float64",
         "type": "float"
        },
        {
         "name": "168",
         "rawType": "float64",
         "type": "float"
        },
        {
         "name": "169",
         "rawType": "float64",
         "type": "float"
        },
        {
         "name": "170",
         "rawType": "float64",
         "type": "float"
        },
        {
         "name": "171",
         "rawType": "float64",
         "type": "float"
        },
        {
         "name": "172",
         "rawType": "float64",
         "type": "float"
        },
        {
         "name": "173",
         "rawType": "float64",
         "type": "float"
        },
        {
         "name": "174",
         "rawType": "float64",
         "type": "float"
        },
        {
         "name": "175",
         "rawType": "float64",
         "type": "float"
        },
        {
         "name": "176",
         "rawType": "float64",
         "type": "float"
        },
        {
         "name": "177",
         "rawType": "float64",
         "type": "float"
        },
        {
         "name": "178",
         "rawType": "float64",
         "type": "float"
        },
        {
         "name": "179",
         "rawType": "float64",
         "type": "float"
        },
        {
         "name": "180",
         "rawType": "float64",
         "type": "float"
        },
        {
         "name": "181",
         "rawType": "float64",
         "type": "float"
        },
        {
         "name": "182",
         "rawType": "float64",
         "type": "float"
        },
        {
         "name": "183",
         "rawType": "float64",
         "type": "float"
        },
        {
         "name": "184",
         "rawType": "float64",
         "type": "float"
        },
        {
         "name": "185",
         "rawType": "float64",
         "type": "float"
        },
        {
         "name": "186",
         "rawType": "float64",
         "type": "float"
        },
        {
         "name": "187",
         "rawType": "float64",
         "type": "float"
        },
        {
         "name": "188",
         "rawType": "float64",
         "type": "float"
        },
        {
         "name": "189",
         "rawType": "float64",
         "type": "float"
        },
        {
         "name": "190",
         "rawType": "float64",
         "type": "float"
        },
        {
         "name": "191",
         "rawType": "float64",
         "type": "float"
        },
        {
         "name": "192",
         "rawType": "float64",
         "type": "float"
        },
        {
         "name": "193",
         "rawType": "float64",
         "type": "float"
        },
        {
         "name": "194",
         "rawType": "float64",
         "type": "float"
        },
        {
         "name": "195",
         "rawType": "float64",
         "type": "float"
        },
        {
         "name": "196",
         "rawType": "float64",
         "type": "float"
        },
        {
         "name": "197",
         "rawType": "float64",
         "type": "float"
        },
        {
         "name": "198",
         "rawType": "float64",
         "type": "float"
        },
        {
         "name": "199",
         "rawType": "float64",
         "type": "float"
        },
        {
         "name": "200",
         "rawType": "float64",
         "type": "float"
        },
        {
         "name": "201",
         "rawType": "float64",
         "type": "float"
        },
        {
         "name": "202",
         "rawType": "float64",
         "type": "float"
        },
        {
         "name": "203",
         "rawType": "float64",
         "type": "float"
        },
        {
         "name": "204",
         "rawType": "float64",
         "type": "float"
        },
        {
         "name": "205",
         "rawType": "float64",
         "type": "float"
        },
        {
         "name": "206",
         "rawType": "float64",
         "type": "float"
        },
        {
         "name": "207",
         "rawType": "float64",
         "type": "float"
        },
        {
         "name": "208",
         "rawType": "float64",
         "type": "float"
        },
        {
         "name": "209",
         "rawType": "float64",
         "type": "float"
        },
        {
         "name": "210",
         "rawType": "float64",
         "type": "float"
        },
        {
         "name": "211",
         "rawType": "float64",
         "type": "float"
        },
        {
         "name": "212",
         "rawType": "float64",
         "type": "float"
        },
        {
         "name": "213",
         "rawType": "float64",
         "type": "float"
        },
        {
         "name": "214",
         "rawType": "float64",
         "type": "float"
        },
        {
         "name": "215",
         "rawType": "float64",
         "type": "float"
        },
        {
         "name": "216",
         "rawType": "float64",
         "type": "float"
        },
        {
         "name": "217",
         "rawType": "float64",
         "type": "float"
        },
        {
         "name": "218",
         "rawType": "float64",
         "type": "float"
        },
        {
         "name": "219",
         "rawType": "float64",
         "type": "float"
        },
        {
         "name": "220",
         "rawType": "float64",
         "type": "float"
        },
        {
         "name": "221",
         "rawType": "float64",
         "type": "float"
        },
        {
         "name": "222",
         "rawType": "float64",
         "type": "float"
        },
        {
         "name": "223",
         "rawType": "float64",
         "type": "float"
        },
        {
         "name": "224",
         "rawType": "float64",
         "type": "float"
        },
        {
         "name": "225",
         "rawType": "float64",
         "type": "float"
        },
        {
         "name": "226",
         "rawType": "float64",
         "type": "float"
        },
        {
         "name": "227",
         "rawType": "float64",
         "type": "float"
        },
        {
         "name": "228",
         "rawType": "float64",
         "type": "float"
        },
        {
         "name": "229",
         "rawType": "float64",
         "type": "float"
        },
        {
         "name": "230",
         "rawType": "float64",
         "type": "float"
        },
        {
         "name": "231",
         "rawType": "float64",
         "type": "float"
        },
        {
         "name": "232",
         "rawType": "float64",
         "type": "float"
        },
        {
         "name": "233",
         "rawType": "float64",
         "type": "float"
        },
        {
         "name": "234",
         "rawType": "float64",
         "type": "float"
        },
        {
         "name": "235",
         "rawType": "float64",
         "type": "float"
        },
        {
         "name": "236",
         "rawType": "float64",
         "type": "float"
        },
        {
         "name": "237",
         "rawType": "float64",
         "type": "float"
        },
        {
         "name": "238",
         "rawType": "float64",
         "type": "float"
        },
        {
         "name": "239",
         "rawType": "float64",
         "type": "float"
        },
        {
         "name": "240",
         "rawType": "float64",
         "type": "float"
        },
        {
         "name": "241",
         "rawType": "float64",
         "type": "float"
        },
        {
         "name": "242",
         "rawType": "float64",
         "type": "float"
        },
        {
         "name": "243",
         "rawType": "float64",
         "type": "float"
        },
        {
         "name": "244",
         "rawType": "float64",
         "type": "float"
        },
        {
         "name": "245",
         "rawType": "float64",
         "type": "float"
        },
        {
         "name": "246",
         "rawType": "float64",
         "type": "float"
        },
        {
         "name": "247",
         "rawType": "float64",
         "type": "float"
        },
        {
         "name": "248",
         "rawType": "float64",
         "type": "float"
        },
        {
         "name": "249",
         "rawType": "float64",
         "type": "float"
        },
        {
         "name": "250",
         "rawType": "float64",
         "type": "float"
        },
        {
         "name": "251",
         "rawType": "float64",
         "type": "float"
        },
        {
         "name": "252",
         "rawType": "float64",
         "type": "float"
        },
        {
         "name": "253",
         "rawType": "float64",
         "type": "float"
        },
        {
         "name": "254",
         "rawType": "float64",
         "type": "float"
        },
        {
         "name": "255",
         "rawType": "float64",
         "type": "float"
        },
        {
         "name": "256",
         "rawType": "float64",
         "type": "float"
        },
        {
         "name": "257",
         "rawType": "float64",
         "type": "float"
        },
        {
         "name": "258",
         "rawType": "float64",
         "type": "float"
        },
        {
         "name": "259",
         "rawType": "float64",
         "type": "float"
        },
        {
         "name": "260",
         "rawType": "float64",
         "type": "float"
        },
        {
         "name": "261",
         "rawType": "float64",
         "type": "float"
        },
        {
         "name": "262",
         "rawType": "float64",
         "type": "float"
        },
        {
         "name": "263",
         "rawType": "float64",
         "type": "float"
        },
        {
         "name": "264",
         "rawType": "float64",
         "type": "float"
        },
        {
         "name": "265",
         "rawType": "float64",
         "type": "float"
        },
        {
         "name": "266",
         "rawType": "float64",
         "type": "float"
        },
        {
         "name": "267",
         "rawType": "float64",
         "type": "float"
        },
        {
         "name": "268",
         "rawType": "float64",
         "type": "float"
        },
        {
         "name": "269",
         "rawType": "float64",
         "type": "float"
        },
        {
         "name": "270",
         "rawType": "float64",
         "type": "float"
        },
        {
         "name": "271",
         "rawType": "float64",
         "type": "float"
        },
        {
         "name": "272",
         "rawType": "float64",
         "type": "float"
        },
        {
         "name": "273",
         "rawType": "float64",
         "type": "float"
        },
        {
         "name": "274",
         "rawType": "float64",
         "type": "float"
        },
        {
         "name": "275",
         "rawType": "float64",
         "type": "float"
        },
        {
         "name": "276",
         "rawType": "float64",
         "type": "float"
        },
        {
         "name": "277",
         "rawType": "float64",
         "type": "float"
        },
        {
         "name": "278",
         "rawType": "float64",
         "type": "float"
        },
        {
         "name": "279",
         "rawType": "float64",
         "type": "float"
        },
        {
         "name": "280",
         "rawType": "float64",
         "type": "float"
        },
        {
         "name": "281",
         "rawType": "float64",
         "type": "float"
        },
        {
         "name": "282",
         "rawType": "float64",
         "type": "float"
        },
        {
         "name": "283",
         "rawType": "float64",
         "type": "float"
        },
        {
         "name": "284",
         "rawType": "float64",
         "type": "float"
        },
        {
         "name": "285",
         "rawType": "float64",
         "type": "float"
        },
        {
         "name": "286",
         "rawType": "float64",
         "type": "float"
        },
        {
         "name": "287",
         "rawType": "float64",
         "type": "float"
        },
        {
         "name": "288",
         "rawType": "float64",
         "type": "float"
        },
        {
         "name": "289",
         "rawType": "float64",
         "type": "float"
        },
        {
         "name": "290",
         "rawType": "float64",
         "type": "float"
        },
        {
         "name": "291",
         "rawType": "float64",
         "type": "float"
        },
        {
         "name": "292",
         "rawType": "float64",
         "type": "float"
        },
        {
         "name": "293",
         "rawType": "float64",
         "type": "float"
        },
        {
         "name": "294",
         "rawType": "float64",
         "type": "float"
        },
        {
         "name": "295",
         "rawType": "float64",
         "type": "float"
        },
        {
         "name": "296",
         "rawType": "float64",
         "type": "float"
        },
        {
         "name": "297",
         "rawType": "float64",
         "type": "float"
        },
        {
         "name": "298",
         "rawType": "float64",
         "type": "float"
        },
        {
         "name": "299",
         "rawType": "float64",
         "type": "float"
        },
        {
         "name": "300",
         "rawType": "float64",
         "type": "float"
        },
        {
         "name": "301",
         "rawType": "float64",
         "type": "float"
        },
        {
         "name": "302",
         "rawType": "float64",
         "type": "float"
        },
        {
         "name": "303",
         "rawType": "float64",
         "type": "float"
        },
        {
         "name": "304",
         "rawType": "float64",
         "type": "float"
        },
        {
         "name": "305",
         "rawType": "float64",
         "type": "float"
        },
        {
         "name": "306",
         "rawType": "float64",
         "type": "float"
        },
        {
         "name": "307",
         "rawType": "float64",
         "type": "float"
        },
        {
         "name": "308",
         "rawType": "float64",
         "type": "float"
        },
        {
         "name": "309",
         "rawType": "float64",
         "type": "float"
        },
        {
         "name": "310",
         "rawType": "float64",
         "type": "float"
        },
        {
         "name": "311",
         "rawType": "float64",
         "type": "float"
        },
        {
         "name": "312",
         "rawType": "float64",
         "type": "float"
        },
        {
         "name": "313",
         "rawType": "float64",
         "type": "float"
        },
        {
         "name": "314",
         "rawType": "float64",
         "type": "float"
        },
        {
         "name": "315",
         "rawType": "float64",
         "type": "float"
        },
        {
         "name": "316",
         "rawType": "float64",
         "type": "float"
        },
        {
         "name": "317",
         "rawType": "float64",
         "type": "float"
        },
        {
         "name": "318",
         "rawType": "float64",
         "type": "float"
        },
        {
         "name": "319",
         "rawType": "float64",
         "type": "float"
        },
        {
         "name": "320",
         "rawType": "float64",
         "type": "float"
        },
        {
         "name": "321",
         "rawType": "float64",
         "type": "float"
        },
        {
         "name": "322",
         "rawType": "float64",
         "type": "float"
        },
        {
         "name": "323",
         "rawType": "float64",
         "type": "float"
        },
        {
         "name": "324",
         "rawType": "float64",
         "type": "float"
        },
        {
         "name": "325",
         "rawType": "float64",
         "type": "float"
        },
        {
         "name": "326",
         "rawType": "float64",
         "type": "float"
        },
        {
         "name": "327",
         "rawType": "float64",
         "type": "float"
        },
        {
         "name": "328",
         "rawType": "float64",
         "type": "float"
        },
        {
         "name": "329",
         "rawType": "float64",
         "type": "float"
        },
        {
         "name": "330",
         "rawType": "float64",
         "type": "float"
        },
        {
         "name": "331",
         "rawType": "float64",
         "type": "float"
        },
        {
         "name": "332",
         "rawType": "float64",
         "type": "float"
        },
        {
         "name": "333",
         "rawType": "float64",
         "type": "float"
        }
       ],
       "ref": "8f8a8ead-d65e-4248-a721-d42cf3e2fb73",
       "rows": [
        [
         "0",
         "0.34531",
         "0.8630491740842244",
         "0.31232561946278126",
         "0.685187974445353",
         "0.8966159436263471",
         "0.7390569612088024",
         "0.833491701504404",
         "0.36916206277243835",
         "0.4334600477485905",
         "0.6083885739234854",
         "0.33154446184207875",
         "0.3979776034208523",
         "0.36044781061491904",
         "0.32742965580906436",
         "0.1915681471421693",
         "0.8368514189401548",
         "0.6330259179915952",
         "0.5073206633169175",
         "0.5576466907510196",
         "0.3761748580540727",
         "0.10806982537451126",
         "0.5381514144467441",
         "0.4774785346823057",
         "0.9180477114299774",
         "0.8472951264411146",
         "0.4104327234904085",
         "0.8786789765169863",
         "0.9271677118908012",
         "0.47412130052764034",
         "0.5218941308569045",
         "0.8127775029729067",
         "0.2350234278947626",
         "0.8504815273585464",
         "0.8219549759501485",
         "0.7382653905911539",
         "0.1635878241280858",
         "0.3569394352686076",
         "0.975814488362743",
         "0.6361891906709365",
         "0.526801673785683",
         "0.5802756159379782",
         "0.8454616778981281",
         "0.5418605721537902",
         "0.2495134540522197",
         "0.6393948257778513",
         "0.5080751994061452",
         "0.8644761769445809",
         "0.9514904380149106",
         "0.9760563782834688",
         "0.7443145013899632",
         "0.17516674240707308",
         "0.5339368880343472",
         "0.022104751273630763",
         "0.5707053500044855",
         "0.2874731001254971",
         "0.979059204949209",
         "0.3710593280371537",
         "0.8612319349936209",
         "0.8178250028630367",
         "0.8720580777257294",
         "0.21597002466017956",
         "0.3790506420338412",
         "0.5091396322397138",
         "0.5962095941088253",
         "0.2136167024632445",
         "0.35280604066806975",
         "0.08482650942596537",
         "0.654740521201053",
         "0.7401778056035881",
         "0.8171540786459828",
         "0.2709554181375804",
         "0.22081205644107071",
         "0.10261160340726294",
         "0.715463074303249",
         "0.31421784903362393",
         "0.8428000643720365",
         "0.31455054408966865",
         "0.23563508203190675",
         "0.13710845161822904",
         "0.5298051958052065",
         "0.5260615335165212",
         "0.8968884287433775",
         "0.9958232768563388",
         "0.2710913033319804",
         "0.7919548014390577",
         "0.43338953915558265",
         "0.8118446625215636",
         "0.1310249026657344",
         "0.9821288288119601",
         "0.811032306315572",
         "0.4880149445484606",
         "0.8334007662092795",
         "0.6134656718237435",
         "0.09110783474984474",
         "0.0032931546396551825",
         "0.786306342543118",
         "0.7229000555459352",
         "0.39927760755409414",
         "0.03377974627040936",
         "0.37690722455518133",
         "0.6305535962321129",
         "0.25794817005409854",
         "0.7236861912728995",
         "0.7734646352237355",
         "0.06912510416454298",
         "0.19371686923562814",
         "0.4172450718464733",
         "0.9767460861706243",
         "0.23984964445557932",
         "0.11679473707134969",
         "0.005606471846409056",
         "0.6680809659371619",
         "0.08611185406845667",
         "0.3047584630438568",
         "0.9483812564657207",
         "0.9548138342717084",
         "0.9765793211998335",
         "0.5510892447151835",
         "0.24096743748142802",
         "0.6459911655228215",
         "0.45034017430157347",
         "0.6457832231461489",
         "0.0699408741888824",
         "0.01718884669932208",
         "0.532723249513118",
         "0.228396457760482",
         "0.6189128374406038",
         "0.5060628310167079",
         "0.3883742324886583",
         "0.7464744757056017",
         "0.6486345712295818",
         "0.47331498947557404",
         "0.7085859782135171",
         "0.5208627221750288",
         "0.7638218118534106",
         "0.4678309371545698",
         "0.6972124881489123",
         "0.3623596857852417",
         "0.8386886389329404",
         "0.5595573341380445",
         "0.8843237585081208",
         "0.854486827500472",
         "0.6991086437436397",
         "0.5032878315745992",
         "0.27236469759409454",
         "0.2549284332876339",
         "0.07597309030665778",
         "0.4937390257601766",
         "0.22007882220192787",
         "0.6843043296689986",
         "0.14855510238714775",
         "0.5646033127335037",
         "0.021104038843048123",
         "0.6813201741581738",
         "0.31702004476580725",
         "0.056212280179697593",
         "0.7076061006180343",
         "0.5042386454961186",
         "0.08125256911763712",
         "0.122584283472148",
         "0.006061120872261405",
         "0.2522461475314326",
         "0.5966063548874078",
         "0.7445251378358476",
         "0.3713236733088392",
         "0.9426400279648137",
         "0.8083975269219913",
         "0.47401265642158474",
         "0.7698430290623952",
         "0.7625571377119393",
         "0.39250376065106996",
         "0.7182315147657028",
         "0.22203377178643346",
         "0.30229278396046266",
         "0.2448124647915979",
         "0.5604152657713491",
         "0.4955662489489986",
         "0.8248765982485321",
         "0.06778562515133324",
         "0.8724114176320525",
         "0.721282189444125",
         "0.7166966567156134",
         "0.9018023591878123",
         "0.009733609710992464",
         "0.5193114046555759",
         "0.37292026527843936",
         "0.07003347314165065",
         "0.3453011750998596",
         "0.826114216613672",
         "0.21192363339451759",
         "0.08567208619521383",
         "0.9308985782578022",
         "0.5742817515085936",
         "0.7821131626311703",
         "0.3145563006153559",
         "0.5550124435852494",
         "0.7444874165945091",
         "0.5142410152036933",
         "0.2031460595034117",
         "0.5075557186925774",
         "0.21525017281985637",
         "0.916049524142133",
         "0.06550084384499466",
         "0.05896190368533616",
         "0.7436501658518249",
         "0.10996037081185828",
         "0.5573435740509225",
         "0.8010359945996098",
         "0.14519593454859225",
         "0.17902950601769485",
         "0.8018902094483906",
         "0.5728216233330437",
         "0.5042580721057389",
         "0.8985163322863363",
         "0.7456497512843618",
         "0.33181804255338143",
         "0.6316044087111471",
         "0.04059564776747193",
         "0.5114055691081328",
         "0.9980625097878673",
         "0.6367647689146047",
         "0.44129144147994614",
         "0.6876635340595486",
         "0.19378786649588486",
         "0.5521020312917715",
         "0.40357424507393447",
         "0.5642327685814992",
         "0.7506923284099023",
         "0.851015585611348",
         "0.20748621484072605",
         "0.7568592165245943",
         "0.7818592935122889",
         "0.7390320590041917",
         "0.561703803400258",
         "0.9513299173020777",
         "0.034015776778040574",
         "0.6333330815992887",
         "0.5059310126132975",
         "0.20622119656827287",
         "0.9606439370647594",
         "0.08253059245160121",
         "0.11438264411219701",
         "0.21266259082076666",
         "0.5108739530659715",
         "0.6785252231607668",
         "0.9177001661776916",
         "0.9771191181887804",
         "0.26327897396925426",
         "0.25516485945294987",
         "0.6619558405419532",
         "0.07717325109040374",
         "0.24679815344902056",
         "0.8440256402317484",
         "0.4106602313399844",
         "0.8973014108904035",
         "0.6954136051201959",
         "0.8998195291807404",
         "0.11547185983102293",
         "0.6748390396514174",
         "0.8957854220432951",
         "0.9548260391824434",
         "0.7149590910348804",
         "0.3079290911270227",
         "0.3321801700851639",
         "0.16351830613874385",
         "0.8531987843874628",
         "0.5027010362318255",
         "0.5288650135958708",
         "0.2999043109776327",
         "0.30932951724730007",
         "0.020519280129055906",
         "0.9579252788058256",
         "0.614616000371622",
         "0.21291997443889998",
         "0.33049840405387076",
         "0.2518943734835093",
         "0.5162676367898197",
         "0.2455910581759031",
         "0.8808775626439163",
         "0.5073722122212857",
         "0.02295208935521753",
         "0.38189368886755737",
         "0.7057330226743616",
         "0.7738647570248844",
         "0.9861662549353402",
         "0.9384880389359241",
         "0.10057565563564563",
         "0.08899627055822124",
         "0.5583674344816794",
         "0.6795560060201888",
         "0.5434593945396836",
         "0.9005280414907438",
         "0.6015312213571735",
         "0.7869770933477633",
         "0.6655893184275262",
         "0.6893466385406731",
         "0.1917119573542505",
         "0.8711446340815638",
         "0.3934944100986508",
         "0.5119249791075244",
         "0.2061356849334327",
         "0.08014608952308122",
         "0.9069182503518118",
         "0.41223173493957177",
         "0.6777365013778157",
         "0.9273368932438364",
         "0.3132886343786785",
         "0.13946154578170278",
         "0.5420770023620008",
         "0.1103115813122757",
         "0.5439128156263716",
         "0.6869649619500929",
         "0.6742338784530415",
         "0.7516034253422907",
         "0.7650010040175368",
         "0.5724456613341298",
         "0.9247064583536794",
         "0.20834988545322763",
         "0.9714591720240142",
         "0.6042189837376026",
         "0.4956638207784413",
         "0.7747844113441167",
         "0.5210011560317178",
         "0.023739824476083582",
         "0.21629858537738755",
         "0.48979478002134913",
         "0.6252187478011177",
         "0.06609690077028563",
         "0.913866657732655",
         "0.29939092383530164",
         "0.8960229919631646",
         "0.5092402271545787",
         "0.8932994367903591",
         "0.30839848235616973"
        ],
        [
         "1",
         "0.1009787166217121",
         "0.36363327627373787",
         "0.5383877109848798",
         "0.7768115278402427",
         "0.1564026496656552",
         "0.8719621264319019",
         "0.7271593444194016",
         "0.4428775787720395",
         "0.3289984856649817",
         "0.9037970257968119",
         "0.5705169224886145",
         "0.9549853679762275",
         "0.6094448871731741",
         "0.7280035482466127",
         "0.30327751804579994",
         "0.9097216912535057",
         "0.903511036379787",
         "0.8012885402082837",
         "0.8177171141511703",
         "0.3828484742950379",
         "0.3486767480252352",
         "0.22615051079539195",
         "0.78580986495246",
         "0.46789121610083917",
         "0.42243913721948156",
         "0.4635643753438061",
         "0.37729197413050264",
         "0.9280189623865628",
         "0.49020195992153437",
         "0.8079986469038756",
         "0.12919243034633177",
         "0.581586662549423",
         "0.7383017649326737",
         "0.5658098270476897",
         "0.1505780232516668",
         "0.15038149267143597",
         "0.3758711021771578",
         "0.8279909590478732",
         "0.47444124116458886",
         "0.16676895603031738",
         "0.32725555396321837",
         "0.013665418646331084",
         "0.9141514244997739",
         "0.0768015574692752",
         "0.6545830468500794",
         "0.13457849403263888",
         "0.18507850876564247",
         "0.07364719378548656",
         "0.37964436306508387",
         "0.03924592223873613",
         "0.1518957551486323",
         "0.7255395679864679",
         "0.2436696808119514",
         "0.6631523775650847",
         "0.7714951084528566",
         "0.6787728526859227",
         "0.01329802533529656",
         "0.6551125216952979",
         "0.09070755873591996",
         "0.8899976866452735",
         "0.04106170645767082",
         "0.3858259489682907",
         "0.889672409797429",
         "0.3218987422135995",
         "0.20098029101360548",
         "0.46939444158933963",
         "0.04212861273142332",
         "0.4686678830060569",
         "0.07477688636473867",
         "0.08783582094467435",
         "0.07097190520025187",
         "0.528488792272169",
         "0.9330353248024524",
         "0.10269069332497005",
         "0.06105702473578356",
         "0.04472466390534224",
         "0.4337657676611032",
         "0.625867428741594",
         "0.3815168131682781",
         "0.2682957711809575",
         "0.3012607925455306",
         "0.964840252894053",
         "0.11201616505058853",
         "0.5694115347630219",
         "0.49295724884386394",
         "0.7607570616016697",
         "0.5352406983953346",
         "0.5537197209491761",
         "0.45265521089148875",
         "0.2910792276863221",
         "0.9439342045398749",
         "0.21258759968673757",
         "0.920227945015051",
         "0.038352929683858394",
         "0.03842528286752345",
         "0.8260412588254169",
         "0.9014352031344258",
         "0.8897139695871863",
         "0.6816087936936409",
         "0.14361587134152742",
         "0.20983869897278196",
         "0.16151336209531253",
         "0.45868371944609754",
         "0.7822636065353678",
         "0.029243902055445248",
         "0.2827807476351647",
         "0.48090654079344364",
         "0.1841615053092054",
         "0.20619676477967486",
         "0.9935848678524941",
         "0.9415093818605521",
         "0.30325260313258395",
         "0.8636257072910232",
         "0.5650383916960994",
         "0.11713423615302243",
         "0.3345044012589512",
         "0.8334431516643661",
         "0.7066756684862108",
         "0.2283259721713995",
         "0.07184778598821961",
         "0.8742859867869659",
         "0.3982971885363499",
         "0.272281466410667",
         "0.5292842725714764",
         "0.313695225646317",
         "0.743236814118913",
         "0.09839980391231418",
         "0.531620628910605",
         "0.943833289465138",
         "0.4677159048737608",
         "0.4700083843839401",
         "0.8815714306736487",
         "0.6950102276207123",
         "0.7341244605089539",
         "0.06960820327237005",
         "0.3643622000388145",
         "0.29462879379233287",
         "0.4048250479154657",
         "0.7236965038203073",
         "0.4297686869977708",
         "0.04235457263509934",
         "0.12143128374062018",
         "0.009703691598715536",
         "0.45610898696654356",
         "0.5697084547242569",
         "0.1884873852381953",
         "0.5107679127073669",
         "0.8294041572052643",
         "0.932125602488821",
         "0.8764811363342287",
         "0.7061480269252011",
         "0.4257558356414882",
         "0.4743404547645046",
         "0.49714527858804924",
         "0.8793733277696211",
         "0.7068318032285137",
         "0.30982664235076773",
         "0.5122430620199216",
         "0.34155998463442705",
         "0.20135243976421546",
         "0.41417584660836015",
         "0.08666304091297194",
         "0.31841923947029327",
         "0.49192923407495504",
         "0.6734414552961291",
         "0.44873413366927806",
         "0.6840142731666703",
         "0.7809074930841989",
         "0.8783341255058698",
         "0.4544866861474697",
         "0.7409171186532225",
         "0.8344514660078926",
         "0.17242783103202108",
         "0.6497862657419389",
         "0.2384563375084484",
         "0.1173740989824078",
         "0.7295116809888238",
         "0.5430805934867616",
         "0.6039394810001212",
         "0.20752769468183307",
         "0.012153818164962527",
         "0.8646200775724828",
         "0.7316674104797333",
         "0.6762706419773123",
         "0.38474206907206776",
         "0.1949721102990437",
         "0.7665572244250747",
         "0.05502401693134518",
         "0.13184946412526966",
         "0.08499693776633066",
         "0.8274394736478293",
         "0.895206210262695",
         "0.2927660843265377",
         "0.5859355286476019",
         "0.11317667778493956",
         "0.6423418579616059",
         "0.41324461964717807",
         "0.5270085443686345",
         "0.29157715777501825",
         "0.14379900523661293",
         "0.8234260514322894",
         "0.18687427881239282",
         "0.2977007091102265",
         "0.4307205752336837",
         "0.618285719474949",
         "0.8858405329797783",
         "0.2727657726980066",
         "0.20798291961750082",
         "0.4003680129633882",
         "0.435638689995275",
         "0.23795012826118767",
         "0.3502449334425515",
         "0.870574195789057",
         "0.35375801832380926",
         "0.18877115981039283",
         "0.3706280606224692",
         "0.9929420859728325",
         "0.8905147246812335",
         "0.2904979331817973",
         "0.6045259056783168",
         "0.7995796013263503",
         "0.851522275740859",
         "0.4314252480613264",
         "0.2863559592925753",
         "0.3110324405693621",
         "0.3723411335967455",
         "0.2560829333445377",
         "0.1589413145690951",
         "0.43346140053070614",
         "0.1133821549303412",
         "0.29444114080636496",
         "0.4163975391270045",
         "0.3965012877121322",
         "0.8350301012493783",
         "0.5551602654272865",
         "0.22973550106586382",
         "0.18634588523106088",
         "0.950122539116489",
         "0.7780744587610637",
         "0.8340748083990126",
         "0.5035164311635508",
         "0.9144791352472461",
         "0.5772894780527863",
         "0.817094934646075",
         "0.03337908788214805",
         "0.9736196236336965",
         "0.23125190321747702",
         "0.016080233592092763",
         "0.37331170702870375",
         "0.5512672288277266",
         "0.6366335831530604",
         "0.19224550898020154",
         "0.5753803712187148",
         "0.497056420775673",
         "0.689928702791314",
         "0.18498194406036317",
         "0.922124207132752",
         "0.24817748426341868",
         "0.9554494736748235",
         "0.33598334446277134",
         "0.3857480318780536",
         "0.1293028783491469",
         "0.9716435087224478",
         "0.7441243127280829",
         "0.5354990839144951",
         "0.1929856056761784",
         "0.6769403113514019",
         "0.541917440661453",
         "0.908714143435873",
         "0.03023099052115774",
         "0.38401631497612565",
         "0.016479286533806814",
         "0.9761689134512014",
         "0.5243132002391638",
         "0.7210207233186279",
         "0.07359027217647329",
         "0.6743475968312078",
         "0.28702366844357785",
         "0.41367139803793407",
         "0.8084423981803655",
         "0.9573521511245684",
         "0.8719419382445379",
         "0.3907324602285872",
         "0.8997223180846038",
         "0.41376311003648525",
         "0.8669191724867602",
         "0.03927798402590932",
         "0.8318057763939509",
         "0.257851396750589",
         "0.3122600646162049",
         "0.6283890054992146",
         "0.6887794480784625",
         "0.6373754065440969",
         "0.30267530529501896",
         "0.7060851624412601",
         "0.03747263361491715",
         "0.542287540558882",
         "0.445277309848813",
         "0.7952452040172504",
         "0.41337669508413555",
         "0.4119769003834376",
         "0.36854599128595433",
         "0.08223303179409736",
         "0.5182811580009182",
         "0.30389754136863034",
         "0.8119608443826036",
         "0.25132805142242065",
         "0.12013894557934013",
         "0.7641068022687374",
         "0.9683974275267995",
         "0.903648631654705",
         "0.6737424761972343",
         "0.3824260292959373",
         "0.5148661016865385",
         "0.1090411822928139",
         "0.018214561983708744",
         "0.2489398357640572",
         "0.6135319087158274",
         "0.135437036498668",
         "0.5204467056434372",
         "0.7585233526418285",
         "0.3942836707569053",
         "0.41325034450481746",
         "0.7274513848955639",
         "0.49699960948450095",
         "0.4697223181766337",
         "0.773608109164471",
         "0.2012112360364544",
         "0.0569951999070798",
         "0.4253153734597238",
         "0.09698162502522589",
         "0.23523357380964893",
         "0.5132661508346086",
         "0.0330767958289131"
        ],
        [
         "2",
         "0.12298902834025105",
         "0.020690814649189093",
         "0.1560992586685076",
         "0.08137759649970067",
         "0.6656222122168985",
         "0.5594232582776459",
         "0.1493625962629822",
         "0.04093870487643558",
         "0.8411320854887072",
         "0.05764731440518722",
         "0.2538014533218764",
         "0.2734132758806076",
         "0.25260899606977283",
         "0.6274341325606493",
         "0.6604727454735161",
         "0.6338509145768015",
         "0.21426276639943032",
         "0.5280363048756295",
         "0.30009731127995776",
         "0.93183570809371",
         "0.5575163233189622",
         "0.5057895659806649",
         "0.14260363154987454",
         "0.17359386710050395",
         "0.8477064327542982",
         "0.9732329857459655",
         "0.4782546496514021",
         "0.662386645477122",
         "0.19122091026681842",
         "0.033113946279991424",
         "0.16363877432698293",
         "0.7517965254459437",
         "0.8770815917254969",
         "0.2509744460822516",
         "0.13124427895490776",
         "0.9029189674659492",
         "0.18462926930282242",
         "0.7435047400611574",
         "0.7569230023146755",
         "0.6717449636249884",
         "0.9114831781199895",
         "0.6295251417226939",
         "0.5427359665325054",
         "0.6597501496988588",
         "0.3366483579833369",
         "0.887149133634012",
         "0.45246630644379393",
         "0.9113912271762327",
         "0.2300423360044337",
         "0.5666638773445167",
         "0.23573109579882268",
         "0.324221139333592",
         "0.49788507345714594",
         "0.38928954240344815",
         "0.8698126047037982",
         "0.8359019197817251",
         "0.762006201269861",
         "0.42323713221630443",
         "0.6792521926837523",
         "0.6138425194307608",
         "0.32204546331829254",
         "0.7535863318931108",
         "0.910784208438956",
         "0.9900700531384907",
         "0.2115227092036449",
         "0.8582198230157134",
         "0.12288460392398559",
         "0.448042938606364",
         "0.4793781495083811",
         "0.41046203899288225",
         "0.863585353879964",
         "0.794526657323514",
         "0.1969994207454424",
         "0.28276238340986726",
         "0.8722002433290358",
         "0.4696855643201394",
         "0.3207037272091966",
         "0.23055162511187022",
         "0.8018467975849104",
         "0.4859853596631012",
         "0.348249929339134",
         "0.41392027112743335",
         "0.09334153892841701",
         "0.4779530470282185",
         "0.5950567688861375",
         "0.6488578273453169",
         "0.3383694911019639",
         "0.7976178683650363",
         "0.012312665840931714",
         "0.18248282500131774",
         "0.9196809412840844",
         "0.8626618017615375",
         "0.034713479220075616",
         "0.378255202521972",
         "0.4852369710780451",
         "0.5139603040740661",
         "0.6545589471263049",
         "0.010173409734998806",
         "0.6954737668395867",
         "0.4634360978698877",
         "0.6251555229956077",
         "0.33124515213493966",
         "0.19659755820549563",
         "0.33312787802591126",
         "0.12080628980451424",
         "0.25166473975770975",
         "0.08180058461744244",
         "0.8019843684288782",
         "0.005373696338413558",
         "0.4821988870762227",
         "0.44208002155821957",
         "0.2726964989872337",
         "0.9516035618688939",
         "0.7587814133774219",
         "0.5534067895240282",
         "0.3136320396804847",
         "0.5740052213187646",
         "0.7219523025846101",
         "0.03789517519212238",
         "0.13325486598164993",
         "0.056598234472428066",
         "0.2969738828624189",
         "0.6355853019848753",
         "0.5034426431741464",
         "0.9703461632019301",
         "0.5383517584236466",
         "0.4747237302553654",
         "0.6702958018513966",
         "0.9346743877269428",
         "0.6199500573847179",
         "0.7996022164603118",
         "0.1672585526236825",
         "0.5441320342323173",
         "0.006224881672247551",
         "0.10840547794621613",
         "0.7818194035418232",
         "0.6502877234073461",
         "0.18066875567580842",
         "0.4755309489409876",
         "0.4980880142044527",
         "0.516171977808211",
         "0.46830336423438623",
         "0.7598510480305443",
         "0.7996837628319403",
         "0.9926701845357532",
         "0.6679669106812642",
         "0.051529712763165425",
         "0.8832602867790249",
         "0.6306112452974192",
         "0.2804254129504331",
         "0.14107121653479315",
         "0.9246781385904094",
         "0.5788964760506757",
         "0.6642704709988022",
         "0.10676232493686111",
         "0.7878498114720471",
         "0.5857194553757269",
         "0.3605548591819808",
         "0.4837134841845103",
         "0.6041525873579984",
         "0.8888358675680185",
         "0.7569853508098408",
         "0.37987151230312166",
         "0.14765833003899265",
         "0.3691555380547864",
         "0.1976218304699323",
         "0.17707039506782418",
         "0.26997725293257735",
         "0.5712689789991515",
         "0.5760004484792274",
         "0.4762265397142066",
         "0.24710094301112484",
         "0.3446056439330627",
         "0.639820061705392",
         "0.026064714295677027",
         "0.08573701464696704",
         "0.3664831825648589",
         "0.9920347443869564",
         "0.6425091147217559",
         "0.825813147354876",
         "0.9163312241144161",
         "0.16744417907105502",
         "0.4076646843793702",
         "0.5525229684606795",
         "0.3733956728037068",
         "0.6090234292112613",
         "0.07627764466606113",
         "0.48420711899571456",
         "0.8635267926901674",
         "0.07188736130806495",
         "0.8720164757671771",
         "0.7745320716602969",
         "0.08924233005653937",
         "0.16336750075337325",
         "0.06440818762360634",
         "0.4588004569791596",
         "0.8297675146874627",
         "0.856364453445892",
         "0.04069003944838545",
         "0.995283017110464",
         "0.19063376988227054",
         "0.5344331341531064",
         "0.252335428082191",
         "0.9314236416674377",
         "0.7492678873719155",
         "0.5381871215408207",
         "0.9044949043754394",
         "0.5789499886408299",
         "0.6973836723704963",
         "0.24015595220176533",
         "0.018089083052412525",
         "0.12630990697949485",
         "0.6121733830038583",
         "0.2621534064475568",
         "0.9714117538913891",
         "0.7119967227611534",
         "0.06298284341734017",
         "0.9371436973898524",
         "0.0871033318035499",
         "0.0861852285747039",
         "0.07416129542885197",
         "0.11701167338539875",
         "0.2796674819885179",
         "0.9674031298952629",
         "0.35985696754499163",
         "0.7100352517166822",
         "0.5664996184871722",
         "0.009438562870923373",
         "0.7530993848340999",
         "0.2050937664239182",
         "0.7504429319823552",
         "0.2334518017889593",
         "0.038024964111719406",
         "0.46418245179381235",
         "0.37749406868736923",
         "0.5771805458679367",
         "0.9240697275285991",
         "0.08651360820232057",
         "0.5216207558281419",
         "0.22090090883129765",
         "0.47167645806283554",
         "0.24776939694580324",
         "0.17431424012983798",
         "0.17618054677095019",
         "0.4515313113270306",
         "0.04276714326512032",
         "0.1457085723776581",
         "0.4308849436573313",
         "0.28183691584980974",
         "0.5643547018719225",
         "0.4653887071800178",
         "0.09594231570612266",
         "0.2528502116857665",
         "0.09206872371730346",
         "0.828133650994217",
         "0.07559247569294547",
         "0.43721746583404997",
         "0.33514752468730025",
         "0.6973176461237012",
         "0.44613646583241395",
         "0.342650839579678",
         "0.6127280800914887",
         "0.27812419177240166",
         "0.07875464987096825",
         "0.6215374730389298",
         "0.8789480727030881",
         "0.07434660645090507",
         "0.8894865177996083",
         "0.6935944826323402",
         "0.282962239193988",
         "0.2723408936435284",
         "0.3259833024541843",
         "0.5871139231470126",
         "0.08956734911972064",
         "0.9838589779158209",
         "0.9416186903285468",
         "0.8490380094108809",
         "0.3263495171914583",
         "0.9214545673653931",
         "0.9741408676134788",
         "0.19181235266759633",
         "0.08926703743125441",
         "0.742722739391279",
         "0.2064878208412696",
         "0.10589948286993067",
         "0.9512634046072629",
         "0.6113224872082184",
         "0.3646854417252572",
         "0.8963848281543373",
         "0.6162807470189116",
         "0.9039355739531125",
         "0.6883207349721202",
         "0.5364499813571002",
         "0.09556196523819682",
         "0.826161117791012",
         "0.3239072552517285",
         "0.5566023267717718",
         "0.05956951180815517",
         "0.6934626878938653",
         "0.05491018695303396",
         "0.26643334765475535",
         "0.15295790283356048",
         "0.6553089578334674",
         "0.584685691224279",
         "0.3442801932004227",
         "0.3007860354736227",
         "0.3254829396336003",
         "0.8566397972071178",
         "0.5347440981340275",
         "0.10916489404231744",
         "0.2570650341068189",
         "0.6916339649318884",
         "0.7395161169952785",
         "0.6106697599824628",
         "0.05393183530725998",
         "0.2930047961994612",
         "0.7062938594242169",
         "0.2962240129079883",
         "0.5540447159076721",
         "0.8919164465207198",
         "0.8173229830534339",
         "0.3639717109578241",
         "0.38135219061553893",
         "0.642205152126942",
         "0.14164368897676993",
         "0.3453655156339177",
         "0.19742639857124766",
         "0.12687855324934016",
         "0.41040274177561675",
         "0.27993473503305577",
         "0.7816661819233056",
         "0.04236959340624891",
         "0.3512548240971639",
         "0.2719730237327501"
        ],
        [
         "3",
         "0.053524046646136414",
         "0.38274861419023676",
         "0.24593233483456234",
         "0.4263811330799492",
         "0.8230157600459596",
         "0.001784909367823273",
         "0.8481759627063598",
         "0.4327742372600266",
         "0.361985191552314",
         "0.358669016109342",
         "0.1555945339163488",
         "0.08756382706521282",
         "0.8813011710110896",
         "0.25604718152557093",
         "0.41931825398204636",
         "0.5304511610665951",
         "0.984312992394737",
         "0.5577048202599839",
         "0.7253257668543623",
         "0.7333996213166747",
         "0.5776115618405828",
         "0.6605517580418035",
         "0.06862350697118236",
         "0.26959625758606665",
         "0.0008019177765982155",
         "0.8118155634023512",
         "0.786194151718719",
         "0.0222430036152379",
         "0.7634196982937272",
         "0.40441544006011454",
         "0.6257927139800216",
         "0.900301782747231",
         "0.4323419017172335",
         "0.2895759152876848",
         "0.13896026401113903",
         "0.14817408510283103",
         "0.9252831549878989",
         "0.36296186019787857",
         "0.09617400444669721",
         "0.7244012581348299",
         "0.3935301477348857",
         "0.9432212006610349",
         "0.7347663855257421",
         "0.6803209455198972",
         "0.58059258581014",
         "0.08741420867890248",
         "0.8521303303849866",
         "0.3800896607328106",
         "0.13552742528584616",
         "0.048393125950686344",
         "0.4352898547654973",
         "0.9673230710842727",
         "0.24018093686796127",
         "0.014555149616420349",
         "0.7239669180266891",
         "0.1397955032799676",
         "0.6552969426431217",
         "0.9618695411606284",
         "0.22159349465501943",
         "0.010989246876621173",
         "0.6872691316559226",
         "0.6884569411444514",
         "0.916905141182705",
         "0.21760074568550536",
         "0.9083861787824956",
         "0.44018206007370864",
         "0.9189859202113119",
         "0.86478820267843",
         "0.2266484748298201",
         "0.6321114859860232",
         "0.681399174060109",
         "0.5304248506790002",
         "0.5918554676122036",
         "0.8889030721751205",
         "0.6918234008256526",
         "0.1835920936660005",
         "0.29125815318173753",
         "0.9518380077449728",
         "0.6000796103904833",
         "0.6440933937366192",
         "0.5934705109454612",
         "0.3482995713288607",
         "0.5627222333656976",
         "0.03870161963400476",
         "0.8410597557397342",
         "0.7997990441165763",
         "0.6845180916796768",
         "0.043036335787696056",
         "0.7702135687052417",
         "0.12295959347697916",
         "0.7058335539711158",
         "0.9209649435201412",
         "0.768778060620895",
         "0.20875361822833616",
         "0.3019103580473522",
         "0.9455720208598508",
         "0.9781390312664765",
         "0.20006318922047517",
         "0.7053144732827087",
         "0.41530531032670803",
         "0.3158297553059738",
         "0.6421111838568596",
         "0.8710987549330192",
         "0.49805777217755454",
         "0.5897131511141955",
         "0.025284575543369714",
         "0.6308247041927845",
         "0.6413312298954696",
         "0.6023987473251217",
         "0.7125375088289729",
         "0.5327123653340291",
         "0.5999543251429528",
         "0.09136624300356866",
         "0.6330429476709957",
         "0.26265367513489424",
         "0.516723577169174",
         "0.48885105680164354",
         "0.9575356429158592",
         "0.9019232322314946",
         "0.3356185958592678",
         "0.3664164976283685",
         "0.16646723681036957",
         "0.6251671219299555",
         "0.8546003973932857",
         "0.5191201618450365",
         "0.5065190669676743",
         "0.8361925358061256",
         "0.585581651390492",
         "0.9662138788834104",
         "0.0902379757714965",
         "0.6535123162404518",
         "0.4539245993701484",
         "0.47310616315483933",
         "0.2243833532144076",
         "0.24177751474206333",
         "0.8183374128006327",
         "0.42018797258291674",
         "0.2850071350973038",
         "0.044007212059827605",
         "0.528933106802414",
         "0.5437552527455733",
         "0.696992255567773",
         "0.2195100096415733",
         "0.5131340513107447",
         "0.6963940906263076",
         "0.648895314154014",
         "0.5621805910813267",
         "0.5793820179336565",
         "0.9111773677512646",
         "0.8685977352257475",
         "0.9711795845281378",
         "0.3890241322097209",
         "0.16156312908259007",
         "0.5564845343693171",
         "0.16628913349417485",
         "0.3609715110919204",
         "0.32206925442132006",
         "0.7750496111502989",
         "0.6114566717150879",
         "0.37693262713803233",
         "0.11552948988656153",
         "0.614153901043646",
         "0.8687120596727702",
         "0.7109785324807171",
         "0.6993904437359381",
         "0.5928379162883182",
         "0.35509227221032436",
         "0.8573916033594906",
         "0.1403130351864258",
         "0.31796071399920056",
         "0.16377494751273525",
         "0.9717466708026591",
         "0.9347366567695471",
         "0.8640266017801913",
         "0.887426932689789",
         "0.3961248639092293",
         "0.7095846659065037",
         "0.5142594758029713",
         "0.6865878998950403",
         "0.10486838880720906",
         "0.22023995629443793",
         "0.9063538794393383",
         "0.37649417698344523",
         "0.3832215256326805",
         "0.876141528681125",
         "0.5901161329132613",
         "0.9143960110466479",
         "0.3737285624013329",
         "0.8599715918104142",
         "0.18422423253696463",
         "0.3932263089633682",
         "0.7935065530281311",
         "0.3418789916204853",
         "0.7225923864354595",
         "0.07185215782212595",
         "0.4116510589112473",
         "0.5792511729861285",
         "0.6819142761657666",
         "0.7189365819568908",
         "0.5509070968850384",
         "0.9361825597312387",
         "0.27976147405020413",
         "0.7079759659743028",
         "0.5160792152584356",
         "0.5361176728185002",
         "0.5964791221752122",
         "0.07403216847603211",
         "0.9454438017597742",
         "0.4467421071139066",
         "0.7633227242911041",
         "0.6624684760894973",
         "0.1773580550005338",
         "0.039128658445462094",
         "0.7146756211527464",
         "0.5505624482221624",
         "0.8303921346788605",
         "0.36478264685155504",
         "0.429211286090335",
         "0.1831154596646094",
         "0.8019796839771228",
         "0.497982118242868",
         "0.6801157996573143",
         "0.5745232157095795",
         "0.9933116297387513",
         "0.13517694334133723",
         "0.06395993613744466",
         "0.9873766059483596",
         "0.07057197369013368",
         "0.45104159629438056",
         "0.2321961698373216",
         "0.1409657196167593",
         "0.5486957427216611",
         "0.2198669890785584",
         "0.5975618559242011",
         "0.2903305031288226",
         "0.2736609087899151",
         "0.6959643692407536",
         "0.6525224224459168",
         "0.4075267309925632",
         "0.8314843438268658",
         "0.6605201416336615",
         "0.711881544546554",
         "0.6538025003367833",
         "0.8902784659672996",
         "0.4856656627393807",
         "0.9467317727538741",
         "0.5777469478042362",
         "0.5107940861860751",
         "0.25193527189876674",
         "0.2535713108188141",
         "0.05468057768986834",
         "0.2542723941435492",
         "0.21145727757140131",
         "0.3689650666758769",
         "0.8288506331717467",
         "0.8689532492529973",
         "0.4881266330474754",
         "0.021585309011704634",
         "0.8773303300559255",
         "0.8170968060386119",
         "0.33748671084649995",
         "0.09550397436498226",
         "0.2232083812393344",
         "0.5772384218232233",
         "0.3195155462394521",
         "0.16780420939202523",
         "0.745790902130682",
         "0.655011275582137",
         "0.8909917367052121",
         "0.4266922994136757",
         "0.47987173425626717",
         "0.2443363672174247",
         "0.18893009317453924",
         "0.4141838270085011",
         "0.5541694295125972",
         "0.7848193776958654",
         "0.13677653537304346",
         "0.9638377727871281",
         "0.6494570672394181",
         "0.33471243623970637",
         "0.30224007211013815",
         "0.04634060084009772",
         "0.8371972425653187",
         "0.9349873093205845",
         "0.4523219391215143",
         "0.38635650086032647",
         "0.2793041215255736",
         "0.3899120335125865",
         "0.4377345276490303",
         "0.5009822502153187",
         "0.05890783978698522",
         "0.425322474858016",
         "0.4597861389785125",
         "0.6969722708665392",
         "0.3288639078686896",
         "0.6333417013940442",
         "0.2178346984270927",
         "0.03402710779689966",
         "0.2566719476467185",
         "0.15232509393161298",
         "0.08777863831287902",
         "0.13589293369380429",
         "0.20842864302315844",
         "0.15071817724031578",
         "0.5868159595914821",
         "0.6902635501646579",
         "0.5994978851872024",
         "0.40438440304022594",
         "0.48578885959605955",
         "0.497481220471795",
         "0.9301465651390124",
         "0.8654257592789482",
         "0.4193065770394583",
         "0.4070767035252898",
         "0.3168040921862646",
         "0.12626542546889497",
         "0.8959903179567483",
         "0.16173079881734276",
         "0.36973909875617483",
         "0.7226148455781668",
         "0.6374072498635533",
         "0.3894265254109466",
         "0.8565642786714657",
         "0.5755495578712985",
         "0.9834618179656066",
         "0.8554047732001951",
         "0.3302622501264427",
         "0.31139162459012404",
         "0.5010772662517229",
         "0.04947109474724398",
         "0.8068334757500402",
         "0.009737398103459638",
         "0.8733147516917547",
         "0.26706132324582454"
        ],
        [
         "4",
         "0.27269356277066126",
         "0.8374589028303848",
         "0.9376752815470363",
         "0.41499853470547576",
         "0.10631310727274446",
         "0.2561692067479948",
         "0.0786648427947726",
         "0.48505068167747656",
         "0.8115287252696511",
         "0.9351984492601657",
         "0.006240066132893074",
         "0.2620857356056079",
         "0.11489400946441986",
         "0.7255534921629594",
         "0.0224241405904263",
         "0.41789449756291386",
         "0.8829614785033106",
         "0.9296366220826342",
         "0.6639334076861606",
         "0.6857570909580553",
         "0.5158766294723538",
         "0.544597959048764",
         "0.8233915121236439",
         "0.04828997428483084",
         "0.42537164972012875",
         "0.8476010347611198",
         "0.5120599735394377",
         "0.840746657999188",
         "0.8358824713287692",
         "0.4080237469066125",
         "0.3571358924895338",
         "0.28806515965107615",
         "0.3765961673553846",
         "0.9650785344595394",
         "0.15371238052976444",
         "0.02275465987531866",
         "0.6635652374259207",
         "0.4164776070790982",
         "0.5254634836987616",
         "0.5586627354755971",
         "0.6691988531328141",
         "0.6613211248961927",
         "0.9371823705685823",
         "0.937009353610773",
         "0.8666096686591681",
         "0.22464644155017044",
         "0.40769352875666875",
         "0.8092901637700567",
         "0.8200952034237892",
         "0.5835859218282372",
         "0.9608356022853352",
         "0.4532568218080094",
         "0.015443457489637491",
         "0.871652728901253",
         "0.28416051382127727",
         "0.06485613936832779",
         "0.9789853620896901",
         "0.47048362714468683",
         "0.6384409934891796",
         "0.7665754927602904",
         "0.9526494854022132",
         "0.016737603108012533",
         "0.23465117555072257",
         "0.211774490795004",
         "0.6755073922757291",
         "0.5814629825021524",
         "0.14309410002127132",
         "0.038235755159508056",
         "0.7501481187990989",
         "0.5868153010298122",
         "0.6540987816646263",
         "0.3697933597372479",
         "0.03588939642044309",
         "0.8116296347456476",
         "0.9800418627058376",
         "0.4972667734665869",
         "0.6009627170336261",
         "0.09131945524473706",
         "0.306840901015194",
         "0.16556282544033596",
         "0.43656621471854884",
         "0.9756745919219452",
         "0.878629074685189",
         "0.28320988725601515",
         "0.23172077062991903",
         "0.23762543219535248",
         "0.9727512228185162",
         "0.3202615989344402",
         "0.2616538431684081",
         "0.2589121581373327",
         "0.6410194370732287",
         "0.3444401821027",
         "0.9432168722703896",
         "0.38203222669949477",
         "0.5102981448517018",
         "0.7321015956545456",
         "0.0784655348581994",
         "0.19461050802331004",
         "0.4286931165822594",
         "0.37152016687417866",
         "0.23733354342476376",
         "0.6618470760475065",
         "0.4697217124792411",
         "0.455200334918454",
         "0.6825533087273095",
         "0.22584697097206252",
         "0.7015861101980986",
         "0.8827906764694549",
         "0.3109220628863255",
         "0.5742497487405628",
         "0.060585963016270505",
         "0.5790616933962449",
         "0.8678189188241423",
         "0.5436222861755322",
         "0.9472945927534644",
         "0.8425849589177391",
         "0.4507484171861653",
         "0.5978525591437832",
         "0.5329969756563685",
         "0.7136576941098636",
         "0.6821734523283061",
         "0.9210929308884753",
         "0.9257545023829366",
         "0.16429281852734445",
         "0.6750079823076345",
         "0.4893452994645855",
         "0.8366611170363121",
         "0.15798036889398637",
         "0.22911298401249236",
         "0.03697498564724533",
         "0.8292099629797219",
         "0.6943598808801086",
         "0.15345804290837728",
         "0.8100939392787109",
         "0.8571872101764987",
         "0.016550210384018826",
         "0.9276706279658832",
         "0.5915239842223313",
         "0.02761023601252821",
         "0.6322051646136507",
         "0.07131306992258746",
         "0.20018029901243817",
         "0.6316550178398054",
         "0.12925976823199514",
         "0.07519986333026607",
         "0.2524128080799207",
         "0.2937816534529587",
         "0.34759569660637857",
         "0.26513635728305773",
         "0.9523371331765512",
         "0.5953965825938622",
         "0.4354638361769605",
         "0.7613473120533853",
         "0.34848907408866814",
         "0.4351553960107535",
         "0.9730142360792341",
         "0.2270838583283351",
         "0.3826868904940569",
         "0.22444560988618145",
         "0.3714622009743589",
         "0.6128057036139266",
         "0.2427658895308138",
         "0.19557636953659252",
         "0.4190292196870167",
         "0.4073853414341745",
         "0.7425840282437963",
         "0.07325501209305196",
         "0.271737141803824",
         "0.46875093873832874",
         "0.9714810686481694",
         "0.03524474549114309",
         "0.4487269579476244",
         "0.520433068677223",
         "0.41413856077322675",
         "0.6202376826427611",
         "0.7291086391030084",
         "0.6528020287511588",
         "0.18585998590798025",
         "0.8959798406412517",
         "0.8316014701627427",
         "0.9167033580559767",
         "0.7489565076136249",
         "0.6438571049399497",
         "0.21222087781693144",
         "0.5634580855420456",
         "0.7374925387332302",
         "0.41415098911532533",
         "0.08415379007964174",
         "0.24667278430554274",
         "0.475712798829928",
         "0.24739734304168925",
         "0.4860671120493918",
         "0.7751649180733875",
         "0.8518138879383756",
         "0.8651931177809787",
         "0.5238539737578443",
         "0.8972721423579193",
         "0.7561559448936331",
         "0.05371918719719204",
         "0.562293892608445",
         "0.44901512576313385",
         "0.35202750196400856",
         "0.9226454345650874",
         "0.9449209699786236",
         "0.8139364825623607",
         "0.8663834232046669",
         "0.3413687808717918",
         "0.9101956114094579",
         "0.2702855466912176",
         "0.178936239075706",
         "0.1955603466463942",
         "0.8991147685954374",
         "0.7115670674013358",
         "0.09262599269129745",
         "0.9561300576592769",
         "0.8760962303655347",
         "0.5685112091233457",
         "0.4372987443338292",
         "0.9355275248678214",
         "0.26434920659451866",
         "0.3620799714199645",
         "0.3959086690541036",
         "0.5867707115790713",
         "0.727465222789966",
         "0.27467592552305375",
         "0.04710368786144414",
         "0.6759528057011068",
         "0.11470338351962295",
         "0.2560114991620147",
         "0.888407784381501",
         "0.03592579422848685",
         "0.8091545308747641",
         "0.3624331686875629",
         "0.13555664652639643",
         "0.35311654048699104",
         "0.6514250476923105",
         "0.2215483177278572",
         "0.3280754479580916",
         "0.9566953296797566",
         "0.8230386788251786",
         "0.20008167152368883",
         "0.605630714973585",
         "0.4697673256926582",
         "0.9884894664553369",
         "0.34578667631787585",
         "0.16456886424794026",
         "0.051623983155541064",
         "0.49875793763857734",
         "0.24948079012576552",
         "0.013994125040931338",
         "0.43184478051886066",
         "0.23674016390882247",
         "0.7183279091932308",
         "0.8244777616733298",
         "0.4636497695051339",
         "0.6337469727786216",
         "0.38498328059868125",
         "0.1253877402101815",
         "0.20795567193042852",
         "0.8264706088851831",
         "0.9019320856061613",
         "0.8563672504042383",
         "0.12007216232419327",
         "0.05817774882734128",
         "0.16414288443864744",
         "0.4897792406080157",
         "0.47535823060667104",
         "0.2057021655060789",
         "0.16503191803063377",
         "0.21043735189545",
         "0.15718224242545942",
         "0.10048739100722792",
         "0.4432752328776437",
         "0.8574565536068824",
         "0.7998189695675006",
         "0.21739173287702074",
         "0.6973813055811705",
         "0.2896983804085925",
         "0.5235009922589902",
         "0.04112405937022323",
         "0.8141389990576184",
         "0.6187150164994587",
         "0.0889638574667182",
         "0.33386148690678996",
         "0.5713692401881774",
         "0.887748767706046",
         "0.6948166865323705",
         "0.45634609397585246",
         "0.5296094161063845",
         "0.41494534020207696",
         "0.6268085039525769",
         "0.5143566750603046",
         "0.6571311824827368",
         "0.3519015595423953",
         "0.8465488908666394",
         "0.33106306896460147",
         "0.805985438993745",
         "0.17625563804413158",
         "0.3621120226187413",
         "0.2774335355795413",
         "0.6116927376154989",
         "0.00729351004184009",
         "0.8007073061781381",
         "0.5378314864202633",
         "0.2781656304743838",
         "0.07649651925164114",
         "0.7640039702387409",
         "0.7907794157475485",
         "0.09640215256830498",
         "0.04561800275761452",
         "0.02659697523154947",
         "0.7977882609885231",
         "0.2899728593012122",
         "0.02067613866839113",
         "0.7636722380133889",
         "0.20559294489368707",
         "0.522276691718312",
         "0.48276997570443425",
         "0.13351656745024876",
         "0.3498186229920768",
         "0.15931771719472543",
         "0.8665737763059137",
         "0.5182326544261675",
         "0.5172754767166506",
         "0.8181776416199089",
         "0.5546811082070141",
         "0.15167581291605892",
         "0.6309226844759578",
         "0.27663153861831236",
         "0.5451095133097157",
         "0.3867788278363218",
         "0.7398214618059743",
         "0.7955402453839452",
         "0.8016149619858799"
        ]
       ],
       "shape": {
        "columns": 334,
        "rows": 5
       }
      },
      "text/html": [
       "<div>\n",
       "<style scoped>\n",
       "    .dataframe tbody tr th:only-of-type {\n",
       "        vertical-align: middle;\n",
       "    }\n",
       "\n",
       "    .dataframe tbody tr th {\n",
       "        vertical-align: top;\n",
       "    }\n",
       "\n",
       "    .dataframe thead th {\n",
       "        text-align: right;\n",
       "    }\n",
       "</style>\n",
       "<table border=\"1\" class=\"dataframe\">\n",
       "  <thead>\n",
       "    <tr style=\"text-align: right;\">\n",
       "      <th></th>\n",
       "      <th>0</th>\n",
       "      <th>1</th>\n",
       "      <th>2</th>\n",
       "      <th>3</th>\n",
       "      <th>4</th>\n",
       "      <th>5</th>\n",
       "      <th>6</th>\n",
       "      <th>7</th>\n",
       "      <th>8</th>\n",
       "      <th>9</th>\n",
       "      <th>...</th>\n",
       "      <th>324</th>\n",
       "      <th>325</th>\n",
       "      <th>326</th>\n",
       "      <th>327</th>\n",
       "      <th>328</th>\n",
       "      <th>329</th>\n",
       "      <th>330</th>\n",
       "      <th>331</th>\n",
       "      <th>332</th>\n",
       "      <th>333</th>\n",
       "    </tr>\n",
       "  </thead>\n",
       "  <tbody>\n",
       "    <tr>\n",
       "      <th>0</th>\n",
       "      <td>0.345310</td>\n",
       "      <td>0.863049</td>\n",
       "      <td>0.312326</td>\n",
       "      <td>0.685188</td>\n",
       "      <td>0.896616</td>\n",
       "      <td>0.739057</td>\n",
       "      <td>0.833492</td>\n",
       "      <td>0.369162</td>\n",
       "      <td>0.433460</td>\n",
       "      <td>0.608389</td>\n",
       "      <td>...</td>\n",
       "      <td>0.216299</td>\n",
       "      <td>0.489795</td>\n",
       "      <td>0.625219</td>\n",
       "      <td>0.066097</td>\n",
       "      <td>0.913867</td>\n",
       "      <td>0.299391</td>\n",
       "      <td>0.896023</td>\n",
       "      <td>0.509240</td>\n",
       "      <td>0.893299</td>\n",
       "      <td>0.308398</td>\n",
       "    </tr>\n",
       "    <tr>\n",
       "      <th>1</th>\n",
       "      <td>0.100979</td>\n",
       "      <td>0.363633</td>\n",
       "      <td>0.538388</td>\n",
       "      <td>0.776812</td>\n",
       "      <td>0.156403</td>\n",
       "      <td>0.871962</td>\n",
       "      <td>0.727159</td>\n",
       "      <td>0.442878</td>\n",
       "      <td>0.328998</td>\n",
       "      <td>0.903797</td>\n",
       "      <td>...</td>\n",
       "      <td>0.497000</td>\n",
       "      <td>0.469722</td>\n",
       "      <td>0.773608</td>\n",
       "      <td>0.201211</td>\n",
       "      <td>0.056995</td>\n",
       "      <td>0.425315</td>\n",
       "      <td>0.096982</td>\n",
       "      <td>0.235234</td>\n",
       "      <td>0.513266</td>\n",
       "      <td>0.033077</td>\n",
       "    </tr>\n",
       "    <tr>\n",
       "      <th>2</th>\n",
       "      <td>0.122989</td>\n",
       "      <td>0.020691</td>\n",
       "      <td>0.156099</td>\n",
       "      <td>0.081378</td>\n",
       "      <td>0.665622</td>\n",
       "      <td>0.559423</td>\n",
       "      <td>0.149363</td>\n",
       "      <td>0.040939</td>\n",
       "      <td>0.841132</td>\n",
       "      <td>0.057647</td>\n",
       "      <td>...</td>\n",
       "      <td>0.141644</td>\n",
       "      <td>0.345366</td>\n",
       "      <td>0.197426</td>\n",
       "      <td>0.126879</td>\n",
       "      <td>0.410403</td>\n",
       "      <td>0.279935</td>\n",
       "      <td>0.781666</td>\n",
       "      <td>0.042370</td>\n",
       "      <td>0.351255</td>\n",
       "      <td>0.271973</td>\n",
       "    </tr>\n",
       "    <tr>\n",
       "      <th>3</th>\n",
       "      <td>0.053524</td>\n",
       "      <td>0.382749</td>\n",
       "      <td>0.245932</td>\n",
       "      <td>0.426381</td>\n",
       "      <td>0.823016</td>\n",
       "      <td>0.001785</td>\n",
       "      <td>0.848176</td>\n",
       "      <td>0.432774</td>\n",
       "      <td>0.361985</td>\n",
       "      <td>0.358669</td>\n",
       "      <td>...</td>\n",
       "      <td>0.983462</td>\n",
       "      <td>0.855405</td>\n",
       "      <td>0.330262</td>\n",
       "      <td>0.311392</td>\n",
       "      <td>0.501077</td>\n",
       "      <td>0.049471</td>\n",
       "      <td>0.806833</td>\n",
       "      <td>0.009737</td>\n",
       "      <td>0.873315</td>\n",
       "      <td>0.267061</td>\n",
       "    </tr>\n",
       "    <tr>\n",
       "      <th>4</th>\n",
       "      <td>0.272694</td>\n",
       "      <td>0.837459</td>\n",
       "      <td>0.937675</td>\n",
       "      <td>0.414999</td>\n",
       "      <td>0.106313</td>\n",
       "      <td>0.256169</td>\n",
       "      <td>0.078665</td>\n",
       "      <td>0.485051</td>\n",
       "      <td>0.811529</td>\n",
       "      <td>0.935198</td>\n",
       "      <td>...</td>\n",
       "      <td>0.818178</td>\n",
       "      <td>0.554681</td>\n",
       "      <td>0.151676</td>\n",
       "      <td>0.630923</td>\n",
       "      <td>0.276632</td>\n",
       "      <td>0.545110</td>\n",
       "      <td>0.386779</td>\n",
       "      <td>0.739821</td>\n",
       "      <td>0.795540</td>\n",
       "      <td>0.801615</td>\n",
       "    </tr>\n",
       "  </tbody>\n",
       "</table>\n",
       "<p>5 rows × 334 columns</p>\n",
       "</div>"
      ],
      "text/plain": [
       "        0         1         2         3         4         5         6    \\\n",
       "0  0.345310  0.863049  0.312326  0.685188  0.896616  0.739057  0.833492   \n",
       "1  0.100979  0.363633  0.538388  0.776812  0.156403  0.871962  0.727159   \n",
       "2  0.122989  0.020691  0.156099  0.081378  0.665622  0.559423  0.149363   \n",
       "3  0.053524  0.382749  0.245932  0.426381  0.823016  0.001785  0.848176   \n",
       "4  0.272694  0.837459  0.937675  0.414999  0.106313  0.256169  0.078665   \n",
       "\n",
       "        7         8         9    ...       324       325       326       327  \\\n",
       "0  0.369162  0.433460  0.608389  ...  0.216299  0.489795  0.625219  0.066097   \n",
       "1  0.442878  0.328998  0.903797  ...  0.497000  0.469722  0.773608  0.201211   \n",
       "2  0.040939  0.841132  0.057647  ...  0.141644  0.345366  0.197426  0.126879   \n",
       "3  0.432774  0.361985  0.358669  ...  0.983462  0.855405  0.330262  0.311392   \n",
       "4  0.485051  0.811529  0.935198  ...  0.818178  0.554681  0.151676  0.630923   \n",
       "\n",
       "        328       329       330       331       332       333  \n",
       "0  0.913867  0.299391  0.896023  0.509240  0.893299  0.308398  \n",
       "1  0.056995  0.425315  0.096982  0.235234  0.513266  0.033077  \n",
       "2  0.410403  0.279935  0.781666  0.042370  0.351255  0.271973  \n",
       "3  0.501077  0.049471  0.806833  0.009737  0.873315  0.267061  \n",
       "4  0.276632  0.545110  0.386779  0.739821  0.795540  0.801615  \n",
       "\n",
       "[5 rows x 334 columns]"
      ]
     },
     "execution_count": 18,
     "metadata": {},
     "output_type": "execute_result"
    }
   ],
   "source": [
    "newdata.T      #Transpose"
   ]
  },
  {
   "cell_type": "code",
   "execution_count": 19,
   "id": "15b06994",
   "metadata": {},
   "outputs": [
    {
     "data": {
      "application/vnd.microsoft.datawrangler.viewer.v0+json": {
       "columns": [
        {
         "name": "index",
         "rawType": "int64",
         "type": "integer"
        },
        {
         "name": "4",
         "rawType": "float64",
         "type": "float"
        },
        {
         "name": "3",
         "rawType": "float64",
         "type": "float"
        },
        {
         "name": "2",
         "rawType": "float64",
         "type": "float"
        },
        {
         "name": "1",
         "rawType": "float64",
         "type": "float"
        },
        {
         "name": "0",
         "rawType": "float64",
         "type": "float"
        }
       ],
       "ref": "9af68626-844a-4dd1-b746-327fb3ec48ee",
       "rows": [
        [
         "0",
         "0.27269356277066126",
         "0.053524046646136414",
         "0.12298902834025105",
         "0.1009787166217121",
         "0.34531"
        ],
        [
         "1",
         "0.8374589028303848",
         "0.38274861419023676",
         "0.020690814649189093",
         "0.36363327627373787",
         "0.8630491740842244"
        ],
        [
         "2",
         "0.9376752815470363",
         "0.24593233483456234",
         "0.1560992586685076",
         "0.5383877109848798",
         "0.31232561946278126"
        ],
        [
         "3",
         "0.41499853470547576",
         "0.4263811330799492",
         "0.08137759649970067",
         "0.7768115278402427",
         "0.685187974445353"
        ],
        [
         "4",
         "0.10631310727274446",
         "0.8230157600459596",
         "0.6656222122168985",
         "0.1564026496656552",
         "0.8966159436263471"
        ],
        [
         "5",
         "0.2561692067479948",
         "0.001784909367823273",
         "0.5594232582776459",
         "0.8719621264319019",
         "0.7390569612088024"
        ],
        [
         "6",
         "0.0786648427947726",
         "0.8481759627063598",
         "0.1493625962629822",
         "0.7271593444194016",
         "0.833491701504404"
        ],
        [
         "7",
         "0.48505068167747656",
         "0.4327742372600266",
         "0.04093870487643558",
         "0.4428775787720395",
         "0.36916206277243835"
        ],
        [
         "8",
         "0.8115287252696511",
         "0.361985191552314",
         "0.8411320854887072",
         "0.3289984856649817",
         "0.4334600477485905"
        ],
        [
         "9",
         "0.9351984492601657",
         "0.358669016109342",
         "0.05764731440518722",
         "0.9037970257968119",
         "0.6083885739234854"
        ],
        [
         "10",
         "0.006240066132893074",
         "0.1555945339163488",
         "0.2538014533218764",
         "0.5705169224886145",
         "0.33154446184207875"
        ],
        [
         "11",
         "0.2620857356056079",
         "0.08756382706521282",
         "0.2734132758806076",
         "0.9549853679762275",
         "0.3979776034208523"
        ],
        [
         "12",
         "0.11489400946441986",
         "0.8813011710110896",
         "0.25260899606977283",
         "0.6094448871731741",
         "0.36044781061491904"
        ],
        [
         "13",
         "0.7255534921629594",
         "0.25604718152557093",
         "0.6274341325606493",
         "0.7280035482466127",
         "0.32742965580906436"
        ],
        [
         "14",
         "0.0224241405904263",
         "0.41931825398204636",
         "0.6604727454735161",
         "0.30327751804579994",
         "0.1915681471421693"
        ],
        [
         "15",
         "0.41789449756291386",
         "0.5304511610665951",
         "0.6338509145768015",
         "0.9097216912535057",
         "0.8368514189401548"
        ],
        [
         "16",
         "0.8829614785033106",
         "0.984312992394737",
         "0.21426276639943032",
         "0.903511036379787",
         "0.6330259179915952"
        ],
        [
         "17",
         "0.9296366220826342",
         "0.5577048202599839",
         "0.5280363048756295",
         "0.8012885402082837",
         "0.5073206633169175"
        ],
        [
         "18",
         "0.6639334076861606",
         "0.7253257668543623",
         "0.30009731127995776",
         "0.8177171141511703",
         "0.5576466907510196"
        ],
        [
         "19",
         "0.6857570909580553",
         "0.7333996213166747",
         "0.93183570809371",
         "0.3828484742950379",
         "0.3761748580540727"
        ],
        [
         "20",
         "0.5158766294723538",
         "0.5776115618405828",
         "0.5575163233189622",
         "0.3486767480252352",
         "0.10806982537451126"
        ],
        [
         "21",
         "0.544597959048764",
         "0.6605517580418035",
         "0.5057895659806649",
         "0.22615051079539195",
         "0.5381514144467441"
        ],
        [
         "22",
         "0.8233915121236439",
         "0.06862350697118236",
         "0.14260363154987454",
         "0.78580986495246",
         "0.4774785346823057"
        ],
        [
         "23",
         "0.04828997428483084",
         "0.26959625758606665",
         "0.17359386710050395",
         "0.46789121610083917",
         "0.9180477114299774"
        ],
        [
         "24",
         "0.42537164972012875",
         "0.0008019177765982155",
         "0.8477064327542982",
         "0.42243913721948156",
         "0.8472951264411146"
        ],
        [
         "25",
         "0.8476010347611198",
         "0.8118155634023512",
         "0.9732329857459655",
         "0.4635643753438061",
         "0.4104327234904085"
        ],
        [
         "26",
         "0.5120599735394377",
         "0.786194151718719",
         "0.4782546496514021",
         "0.37729197413050264",
         "0.8786789765169863"
        ],
        [
         "27",
         "0.840746657999188",
         "0.0222430036152379",
         "0.662386645477122",
         "0.9280189623865628",
         "0.9271677118908012"
        ],
        [
         "28",
         "0.8358824713287692",
         "0.7634196982937272",
         "0.19122091026681842",
         "0.49020195992153437",
         "0.47412130052764034"
        ],
        [
         "29",
         "0.4080237469066125",
         "0.40441544006011454",
         "0.033113946279991424",
         "0.8079986469038756",
         "0.5218941308569045"
        ],
        [
         "30",
         "0.3571358924895338",
         "0.6257927139800216",
         "0.16363877432698293",
         "0.12919243034633177",
         "0.8127775029729067"
        ],
        [
         "31",
         "0.28806515965107615",
         "0.900301782747231",
         "0.7517965254459437",
         "0.581586662549423",
         "0.2350234278947626"
        ],
        [
         "32",
         "0.3765961673553846",
         "0.4323419017172335",
         "0.8770815917254969",
         "0.7383017649326737",
         "0.8504815273585464"
        ],
        [
         "33",
         "0.9650785344595394",
         "0.2895759152876848",
         "0.2509744460822516",
         "0.5658098270476897",
         "0.8219549759501485"
        ],
        [
         "34",
         "0.15371238052976444",
         "0.13896026401113903",
         "0.13124427895490776",
         "0.1505780232516668",
         "0.7382653905911539"
        ],
        [
         "35",
         "0.02275465987531866",
         "0.14817408510283103",
         "0.9029189674659492",
         "0.15038149267143597",
         "0.1635878241280858"
        ],
        [
         "36",
         "0.6635652374259207",
         "0.9252831549878989",
         "0.18462926930282242",
         "0.3758711021771578",
         "0.3569394352686076"
        ],
        [
         "37",
         "0.4164776070790982",
         "0.36296186019787857",
         "0.7435047400611574",
         "0.8279909590478732",
         "0.975814488362743"
        ],
        [
         "38",
         "0.5254634836987616",
         "0.09617400444669721",
         "0.7569230023146755",
         "0.47444124116458886",
         "0.6361891906709365"
        ],
        [
         "39",
         "0.5586627354755971",
         "0.7244012581348299",
         "0.6717449636249884",
         "0.16676895603031738",
         "0.526801673785683"
        ],
        [
         "40",
         "0.6691988531328141",
         "0.3935301477348857",
         "0.9114831781199895",
         "0.32725555396321837",
         "0.5802756159379782"
        ],
        [
         "41",
         "0.6613211248961927",
         "0.9432212006610349",
         "0.6295251417226939",
         "0.013665418646331084",
         "0.8454616778981281"
        ],
        [
         "42",
         "0.9371823705685823",
         "0.7347663855257421",
         "0.5427359665325054",
         "0.9141514244997739",
         "0.5418605721537902"
        ],
        [
         "43",
         "0.937009353610773",
         "0.6803209455198972",
         "0.6597501496988588",
         "0.0768015574692752",
         "0.2495134540522197"
        ],
        [
         "44",
         "0.8666096686591681",
         "0.58059258581014",
         "0.3366483579833369",
         "0.6545830468500794",
         "0.6393948257778513"
        ],
        [
         "45",
         "0.22464644155017044",
         "0.08741420867890248",
         "0.887149133634012",
         "0.13457849403263888",
         "0.5080751994061452"
        ],
        [
         "46",
         "0.40769352875666875",
         "0.8521303303849866",
         "0.45246630644379393",
         "0.18507850876564247",
         "0.8644761769445809"
        ],
        [
         "47",
         "0.8092901637700567",
         "0.3800896607328106",
         "0.9113912271762327",
         "0.07364719378548656",
         "0.9514904380149106"
        ],
        [
         "48",
         "0.8200952034237892",
         "0.13552742528584616",
         "0.2300423360044337",
         "0.37964436306508387",
         "0.9760563782834688"
        ],
        [
         "49",
         "0.5835859218282372",
         "0.048393125950686344",
         "0.5666638773445167",
         "0.03924592223873613",
         "0.7443145013899632"
        ]
       ],
       "shape": {
        "columns": 5,
        "rows": 334
       }
      },
      "text/html": [
       "<div>\n",
       "<style scoped>\n",
       "    .dataframe tbody tr th:only-of-type {\n",
       "        vertical-align: middle;\n",
       "    }\n",
       "\n",
       "    .dataframe tbody tr th {\n",
       "        vertical-align: top;\n",
       "    }\n",
       "\n",
       "    .dataframe thead th {\n",
       "        text-align: right;\n",
       "    }\n",
       "</style>\n",
       "<table border=\"1\" class=\"dataframe\">\n",
       "  <thead>\n",
       "    <tr style=\"text-align: right;\">\n",
       "      <th></th>\n",
       "      <th>4</th>\n",
       "      <th>3</th>\n",
       "      <th>2</th>\n",
       "      <th>1</th>\n",
       "      <th>0</th>\n",
       "    </tr>\n",
       "  </thead>\n",
       "  <tbody>\n",
       "    <tr>\n",
       "      <th>0</th>\n",
       "      <td>0.272694</td>\n",
       "      <td>0.053524</td>\n",
       "      <td>0.122989</td>\n",
       "      <td>0.100979</td>\n",
       "      <td>0.345310</td>\n",
       "    </tr>\n",
       "    <tr>\n",
       "      <th>1</th>\n",
       "      <td>0.837459</td>\n",
       "      <td>0.382749</td>\n",
       "      <td>0.020691</td>\n",
       "      <td>0.363633</td>\n",
       "      <td>0.863049</td>\n",
       "    </tr>\n",
       "    <tr>\n",
       "      <th>2</th>\n",
       "      <td>0.937675</td>\n",
       "      <td>0.245932</td>\n",
       "      <td>0.156099</td>\n",
       "      <td>0.538388</td>\n",
       "      <td>0.312326</td>\n",
       "    </tr>\n",
       "    <tr>\n",
       "      <th>3</th>\n",
       "      <td>0.414999</td>\n",
       "      <td>0.426381</td>\n",
       "      <td>0.081378</td>\n",
       "      <td>0.776812</td>\n",
       "      <td>0.685188</td>\n",
       "    </tr>\n",
       "    <tr>\n",
       "      <th>4</th>\n",
       "      <td>0.106313</td>\n",
       "      <td>0.823016</td>\n",
       "      <td>0.665622</td>\n",
       "      <td>0.156403</td>\n",
       "      <td>0.896616</td>\n",
       "    </tr>\n",
       "    <tr>\n",
       "      <th>...</th>\n",
       "      <td>...</td>\n",
       "      <td>...</td>\n",
       "      <td>...</td>\n",
       "      <td>...</td>\n",
       "      <td>...</td>\n",
       "    </tr>\n",
       "    <tr>\n",
       "      <th>329</th>\n",
       "      <td>0.545110</td>\n",
       "      <td>0.049471</td>\n",
       "      <td>0.279935</td>\n",
       "      <td>0.425315</td>\n",
       "      <td>0.299391</td>\n",
       "    </tr>\n",
       "    <tr>\n",
       "      <th>330</th>\n",
       "      <td>0.386779</td>\n",
       "      <td>0.806833</td>\n",
       "      <td>0.781666</td>\n",
       "      <td>0.096982</td>\n",
       "      <td>0.896023</td>\n",
       "    </tr>\n",
       "    <tr>\n",
       "      <th>331</th>\n",
       "      <td>0.739821</td>\n",
       "      <td>0.009737</td>\n",
       "      <td>0.042370</td>\n",
       "      <td>0.235234</td>\n",
       "      <td>0.509240</td>\n",
       "    </tr>\n",
       "    <tr>\n",
       "      <th>332</th>\n",
       "      <td>0.795540</td>\n",
       "      <td>0.873315</td>\n",
       "      <td>0.351255</td>\n",
       "      <td>0.513266</td>\n",
       "      <td>0.893299</td>\n",
       "    </tr>\n",
       "    <tr>\n",
       "      <th>333</th>\n",
       "      <td>0.801615</td>\n",
       "      <td>0.267061</td>\n",
       "      <td>0.271973</td>\n",
       "      <td>0.033077</td>\n",
       "      <td>0.308398</td>\n",
       "    </tr>\n",
       "  </tbody>\n",
       "</table>\n",
       "<p>334 rows × 5 columns</p>\n",
       "</div>"
      ],
      "text/plain": [
       "            4         3         2         1         0\n",
       "0    0.272694  0.053524  0.122989  0.100979  0.345310\n",
       "1    0.837459  0.382749  0.020691  0.363633  0.863049\n",
       "2    0.937675  0.245932  0.156099  0.538388  0.312326\n",
       "3    0.414999  0.426381  0.081378  0.776812  0.685188\n",
       "4    0.106313  0.823016  0.665622  0.156403  0.896616\n",
       "..        ...       ...       ...       ...       ...\n",
       "329  0.545110  0.049471  0.279935  0.425315  0.299391\n",
       "330  0.386779  0.806833  0.781666  0.096982  0.896023\n",
       "331  0.739821  0.009737  0.042370  0.235234  0.509240\n",
       "332  0.795540  0.873315  0.351255  0.513266  0.893299\n",
       "333  0.801615  0.267061  0.271973  0.033077  0.308398\n",
       "\n",
       "[334 rows x 5 columns]"
      ]
     },
     "execution_count": 19,
     "metadata": {},
     "output_type": "execute_result"
    }
   ],
   "source": [
    "newdata.sort_index(axis=1,ascending=False)       #reverse sort "
   ]
  },
  {
   "cell_type": "code",
   "execution_count": 20,
   "id": "6678d9a5",
   "metadata": {},
   "outputs": [
    {
     "data": {
      "application/vnd.microsoft.datawrangler.viewer.v0+json": {
       "columns": [
        {
         "name": "index",
         "rawType": "int64",
         "type": "integer"
        },
        {
         "name": "0",
         "rawType": "float64",
         "type": "float"
        },
        {
         "name": "1",
         "rawType": "float64",
         "type": "float"
        },
        {
         "name": "2",
         "rawType": "float64",
         "type": "float"
        },
        {
         "name": "3",
         "rawType": "float64",
         "type": "float"
        },
        {
         "name": "4",
         "rawType": "float64",
         "type": "float"
        }
       ],
       "ref": "44d47db2-4e61-463d-83c4-b7fdfb3d1a4d",
       "rows": [
        [
         "333",
         "0.30839848235616973",
         "0.0330767958289131",
         "0.2719730237327501",
         "0.26706132324582454",
         "0.8016149619858799"
        ],
        [
         "332",
         "0.8932994367903591",
         "0.5132661508346086",
         "0.3512548240971639",
         "0.8733147516917547",
         "0.7955402453839452"
        ],
        [
         "331",
         "0.5092402271545787",
         "0.23523357380964893",
         "0.04236959340624891",
         "0.009737398103459638",
         "0.7398214618059743"
        ],
        [
         "330",
         "0.8960229919631646",
         "0.09698162502522589",
         "0.7816661819233056",
         "0.8068334757500402",
         "0.3867788278363218"
        ],
        [
         "329",
         "0.29939092383530164",
         "0.4253153734597238",
         "0.27993473503305577",
         "0.04947109474724398",
         "0.5451095133097157"
        ],
        [
         "328",
         "0.913866657732655",
         "0.0569951999070798",
         "0.41040274177561675",
         "0.5010772662517229",
         "0.27663153861831236"
        ],
        [
         "327",
         "0.06609690077028563",
         "0.2012112360364544",
         "0.12687855324934016",
         "0.31139162459012404",
         "0.6309226844759578"
        ],
        [
         "326",
         "0.6252187478011177",
         "0.773608109164471",
         "0.19742639857124766",
         "0.3302622501264427",
         "0.15167581291605892"
        ],
        [
         "325",
         "0.48979478002134913",
         "0.4697223181766337",
         "0.3453655156339177",
         "0.8554047732001951",
         "0.5546811082070141"
        ],
        [
         "324",
         "0.21629858537738755",
         "0.49699960948450095",
         "0.14164368897676993",
         "0.9834618179656066",
         "0.8181776416199089"
        ],
        [
         "323",
         "0.023739824476083582",
         "0.7274513848955639",
         "0.642205152126942",
         "0.5755495578712985",
         "0.5172754767166506"
        ],
        [
         "322",
         "0.5210011560317178",
         "0.41325034450481746",
         "0.38135219061553893",
         "0.8565642786714657",
         "0.5182326544261675"
        ],
        [
         "321",
         "0.7747844113441167",
         "0.3942836707569053",
         "0.3639717109578241",
         "0.3894265254109466",
         "0.8665737763059137"
        ],
        [
         "320",
         "0.4956638207784413",
         "0.7585233526418285",
         "0.8173229830534339",
         "0.6374072498635533",
         "0.15931771719472543"
        ],
        [
         "319",
         "0.6042189837376026",
         "0.5204467056434372",
         "0.8919164465207198",
         "0.7226148455781668",
         "0.3498186229920768"
        ],
        [
         "318",
         "0.9714591720240142",
         "0.135437036498668",
         "0.5540447159076721",
         "0.36973909875617483",
         "0.13351656745024876"
        ],
        [
         "317",
         "0.20834988545322763",
         "0.6135319087158274",
         "0.2962240129079883",
         "0.16173079881734276",
         "0.48276997570443425"
        ],
        [
         "316",
         "0.9247064583536794",
         "0.2489398357640572",
         "0.7062938594242169",
         "0.8959903179567483",
         "0.522276691718312"
        ],
        [
         "315",
         "0.5724456613341298",
         "0.018214561983708744",
         "0.2930047961994612",
         "0.12626542546889497",
         "0.20559294489368707"
        ],
        [
         "314",
         "0.7650010040175368",
         "0.1090411822928139",
         "0.05393183530725998",
         "0.3168040921862646",
         "0.7636722380133889"
        ],
        [
         "313",
         "0.7516034253422907",
         "0.5148661016865385",
         "0.6106697599824628",
         "0.4070767035252898",
         "0.02067613866839113"
        ],
        [
         "312",
         "0.6742338784530415",
         "0.3824260292959373",
         "0.7395161169952785",
         "0.4193065770394583",
         "0.2899728593012122"
        ],
        [
         "311",
         "0.6869649619500929",
         "0.6737424761972343",
         "0.6916339649318884",
         "0.8654257592789482",
         "0.7977882609885231"
        ],
        [
         "310",
         "0.5439128156263716",
         "0.903648631654705",
         "0.2570650341068189",
         "0.9301465651390124",
         "0.02659697523154947"
        ],
        [
         "309",
         "0.1103115813122757",
         "0.9683974275267995",
         "0.10916489404231744",
         "0.497481220471795",
         "0.04561800275761452"
        ],
        [
         "308",
         "0.5420770023620008",
         "0.7641068022687374",
         "0.5347440981340275",
         "0.48578885959605955",
         "0.09640215256830498"
        ],
        [
         "307",
         "0.13946154578170278",
         "0.12013894557934013",
         "0.8566397972071178",
         "0.40438440304022594",
         "0.7907794157475485"
        ],
        [
         "306",
         "0.3132886343786785",
         "0.25132805142242065",
         "0.3254829396336003",
         "0.5994978851872024",
         "0.7640039702387409"
        ],
        [
         "305",
         "0.9273368932438364",
         "0.8119608443826036",
         "0.3007860354736227",
         "0.6902635501646579",
         "0.07649651925164114"
        ],
        [
         "304",
         "0.6777365013778157",
         "0.30389754136863034",
         "0.3442801932004227",
         "0.5868159595914821",
         "0.2781656304743838"
        ],
        [
         "303",
         "0.41223173493957177",
         "0.5182811580009182",
         "0.584685691224279",
         "0.15071817724031578",
         "0.5378314864202633"
        ],
        [
         "302",
         "0.9069182503518118",
         "0.08223303179409736",
         "0.6553089578334674",
         "0.20842864302315844",
         "0.8007073061781381"
        ],
        [
         "301",
         "0.08014608952308122",
         "0.36854599128595433",
         "0.15295790283356048",
         "0.13589293369380429",
         "0.00729351004184009"
        ],
        [
         "300",
         "0.2061356849334327",
         "0.4119769003834376",
         "0.26643334765475535",
         "0.08777863831287902",
         "0.6116927376154989"
        ],
        [
         "299",
         "0.5119249791075244",
         "0.41337669508413555",
         "0.05491018695303396",
         "0.15232509393161298",
         "0.2774335355795413"
        ],
        [
         "298",
         "0.3934944100986508",
         "0.7952452040172504",
         "0.6934626878938653",
         "0.2566719476467185",
         "0.3621120226187413"
        ],
        [
         "297",
         "0.8711446340815638",
         "0.445277309848813",
         "0.05956951180815517",
         "0.03402710779689966",
         "0.17625563804413158"
        ],
        [
         "296",
         "0.1917119573542505",
         "0.542287540558882",
         "0.5566023267717718",
         "0.2178346984270927",
         "0.805985438993745"
        ],
        [
         "295",
         "0.6893466385406731",
         "0.03747263361491715",
         "0.3239072552517285",
         "0.6333417013940442",
         "0.33106306896460147"
        ],
        [
         "294",
         "0.6655893184275262",
         "0.7060851624412601",
         "0.826161117791012",
         "0.3288639078686896",
         "0.8465488908666394"
        ],
        [
         "293",
         "0.7869770933477633",
         "0.30267530529501896",
         "0.09556196523819682",
         "0.6969722708665392",
         "0.3519015595423953"
        ],
        [
         "292",
         "0.6015312213571735",
         "0.6373754065440969",
         "0.5364499813571002",
         "0.4597861389785125",
         "0.6571311824827368"
        ],
        [
         "291",
         "0.9005280414907438",
         "0.6887794480784625",
         "0.6883207349721202",
         "0.425322474858016",
         "0.5143566750603046"
        ],
        [
         "290",
         "0.5434593945396836",
         "0.6283890054992146",
         "0.9039355739531125",
         "0.05890783978698522",
         "0.6268085039525769"
        ],
        [
         "289",
         "0.6795560060201888",
         "0.3122600646162049",
         "0.6162807470189116",
         "0.5009822502153187",
         "0.41494534020207696"
        ],
        [
         "288",
         "0.5583674344816794",
         "0.257851396750589",
         "0.8963848281543373",
         "0.4377345276490303",
         "0.5296094161063845"
        ],
        [
         "287",
         "0.08899627055822124",
         "0.8318057763939509",
         "0.3646854417252572",
         "0.3899120335125865",
         "0.45634609397585246"
        ],
        [
         "286",
         "0.10057565563564563",
         "0.03927798402590932",
         "0.6113224872082184",
         "0.2793041215255736",
         "0.6948166865323705"
        ],
        [
         "285",
         "0.9384880389359241",
         "0.8669191724867602",
         "0.9512634046072629",
         "0.38635650086032647",
         "0.887748767706046"
        ],
        [
         "284",
         "0.9861662549353402",
         "0.41376311003648525",
         "0.10589948286993067",
         "0.4523219391215143",
         "0.5713692401881774"
        ]
       ],
       "shape": {
        "columns": 5,
        "rows": 334
       }
      },
      "text/html": [
       "<div>\n",
       "<style scoped>\n",
       "    .dataframe tbody tr th:only-of-type {\n",
       "        vertical-align: middle;\n",
       "    }\n",
       "\n",
       "    .dataframe tbody tr th {\n",
       "        vertical-align: top;\n",
       "    }\n",
       "\n",
       "    .dataframe thead th {\n",
       "        text-align: right;\n",
       "    }\n",
       "</style>\n",
       "<table border=\"1\" class=\"dataframe\">\n",
       "  <thead>\n",
       "    <tr style=\"text-align: right;\">\n",
       "      <th></th>\n",
       "      <th>0</th>\n",
       "      <th>1</th>\n",
       "      <th>2</th>\n",
       "      <th>3</th>\n",
       "      <th>4</th>\n",
       "    </tr>\n",
       "  </thead>\n",
       "  <tbody>\n",
       "    <tr>\n",
       "      <th>333</th>\n",
       "      <td>0.308398</td>\n",
       "      <td>0.033077</td>\n",
       "      <td>0.271973</td>\n",
       "      <td>0.267061</td>\n",
       "      <td>0.801615</td>\n",
       "    </tr>\n",
       "    <tr>\n",
       "      <th>332</th>\n",
       "      <td>0.893299</td>\n",
       "      <td>0.513266</td>\n",
       "      <td>0.351255</td>\n",
       "      <td>0.873315</td>\n",
       "      <td>0.795540</td>\n",
       "    </tr>\n",
       "    <tr>\n",
       "      <th>331</th>\n",
       "      <td>0.509240</td>\n",
       "      <td>0.235234</td>\n",
       "      <td>0.042370</td>\n",
       "      <td>0.009737</td>\n",
       "      <td>0.739821</td>\n",
       "    </tr>\n",
       "    <tr>\n",
       "      <th>330</th>\n",
       "      <td>0.896023</td>\n",
       "      <td>0.096982</td>\n",
       "      <td>0.781666</td>\n",
       "      <td>0.806833</td>\n",
       "      <td>0.386779</td>\n",
       "    </tr>\n",
       "    <tr>\n",
       "      <th>329</th>\n",
       "      <td>0.299391</td>\n",
       "      <td>0.425315</td>\n",
       "      <td>0.279935</td>\n",
       "      <td>0.049471</td>\n",
       "      <td>0.545110</td>\n",
       "    </tr>\n",
       "    <tr>\n",
       "      <th>...</th>\n",
       "      <td>...</td>\n",
       "      <td>...</td>\n",
       "      <td>...</td>\n",
       "      <td>...</td>\n",
       "      <td>...</td>\n",
       "    </tr>\n",
       "    <tr>\n",
       "      <th>4</th>\n",
       "      <td>0.896616</td>\n",
       "      <td>0.156403</td>\n",
       "      <td>0.665622</td>\n",
       "      <td>0.823016</td>\n",
       "      <td>0.106313</td>\n",
       "    </tr>\n",
       "    <tr>\n",
       "      <th>3</th>\n",
       "      <td>0.685188</td>\n",
       "      <td>0.776812</td>\n",
       "      <td>0.081378</td>\n",
       "      <td>0.426381</td>\n",
       "      <td>0.414999</td>\n",
       "    </tr>\n",
       "    <tr>\n",
       "      <th>2</th>\n",
       "      <td>0.312326</td>\n",
       "      <td>0.538388</td>\n",
       "      <td>0.156099</td>\n",
       "      <td>0.245932</td>\n",
       "      <td>0.937675</td>\n",
       "    </tr>\n",
       "    <tr>\n",
       "      <th>1</th>\n",
       "      <td>0.863049</td>\n",
       "      <td>0.363633</td>\n",
       "      <td>0.020691</td>\n",
       "      <td>0.382749</td>\n",
       "      <td>0.837459</td>\n",
       "    </tr>\n",
       "    <tr>\n",
       "      <th>0</th>\n",
       "      <td>0.345310</td>\n",
       "      <td>0.100979</td>\n",
       "      <td>0.122989</td>\n",
       "      <td>0.053524</td>\n",
       "      <td>0.272694</td>\n",
       "    </tr>\n",
       "  </tbody>\n",
       "</table>\n",
       "<p>334 rows × 5 columns</p>\n",
       "</div>"
      ],
      "text/plain": [
       "            0         1         2         3         4\n",
       "333  0.308398  0.033077  0.271973  0.267061  0.801615\n",
       "332  0.893299  0.513266  0.351255  0.873315  0.795540\n",
       "331  0.509240  0.235234  0.042370  0.009737  0.739821\n",
       "330  0.896023  0.096982  0.781666  0.806833  0.386779\n",
       "329  0.299391  0.425315  0.279935  0.049471  0.545110\n",
       "..        ...       ...       ...       ...       ...\n",
       "4    0.896616  0.156403  0.665622  0.823016  0.106313\n",
       "3    0.685188  0.776812  0.081378  0.426381  0.414999\n",
       "2    0.312326  0.538388  0.156099  0.245932  0.937675\n",
       "1    0.863049  0.363633  0.020691  0.382749  0.837459\n",
       "0    0.345310  0.100979  0.122989  0.053524  0.272694\n",
       "\n",
       "[334 rows x 5 columns]"
      ]
     },
     "execution_count": 20,
     "metadata": {},
     "output_type": "execute_result"
    }
   ],
   "source": [
    "newdata.sort_index(axis=0,ascending=False) "
   ]
  },
  {
   "cell_type": "code",
   "execution_count": 21,
   "id": "d70a8211",
   "metadata": {},
   "outputs": [
    {
     "data": {
      "application/vnd.microsoft.datawrangler.viewer.v0+json": {
       "columns": [
        {
         "name": "index",
         "rawType": "int64",
         "type": "integer"
        },
        {
         "name": "0",
         "rawType": "float64",
         "type": "float"
        },
        {
         "name": "1",
         "rawType": "float64",
         "type": "float"
        },
        {
         "name": "2",
         "rawType": "float64",
         "type": "float"
        },
        {
         "name": "3",
         "rawType": "float64",
         "type": "float"
        },
        {
         "name": "4",
         "rawType": "float64",
         "type": "float"
        }
       ],
       "ref": "933f3cd1-ddf3-49d3-a8b4-7fe8a7bff47a",
       "rows": [
        [
         "0",
         "0.34531",
         "0.1009787166217121",
         "0.12298902834025105",
         "0.053524046646136414",
         "0.27269356277066126"
        ],
        [
         "1",
         "0.8630491740842244",
         "0.36363327627373787",
         "0.020690814649189093",
         "0.38274861419023676",
         "0.8374589028303848"
        ],
        [
         "2",
         "0.31232561946278126",
         "0.5383877109848798",
         "0.1560992586685076",
         "0.24593233483456234",
         "0.9376752815470363"
        ],
        [
         "3",
         "0.685187974445353",
         "0.7768115278402427",
         "0.08137759649970067",
         "0.4263811330799492",
         "0.41499853470547576"
        ],
        [
         "4",
         "0.8966159436263471",
         "0.1564026496656552",
         "0.6656222122168985",
         "0.8230157600459596",
         "0.10631310727274446"
        ]
       ],
       "shape": {
        "columns": 5,
        "rows": 5
       }
      },
      "text/html": [
       "<div>\n",
       "<style scoped>\n",
       "    .dataframe tbody tr th:only-of-type {\n",
       "        vertical-align: middle;\n",
       "    }\n",
       "\n",
       "    .dataframe tbody tr th {\n",
       "        vertical-align: top;\n",
       "    }\n",
       "\n",
       "    .dataframe thead th {\n",
       "        text-align: right;\n",
       "    }\n",
       "</style>\n",
       "<table border=\"1\" class=\"dataframe\">\n",
       "  <thead>\n",
       "    <tr style=\"text-align: right;\">\n",
       "      <th></th>\n",
       "      <th>0</th>\n",
       "      <th>1</th>\n",
       "      <th>2</th>\n",
       "      <th>3</th>\n",
       "      <th>4</th>\n",
       "    </tr>\n",
       "  </thead>\n",
       "  <tbody>\n",
       "    <tr>\n",
       "      <th>0</th>\n",
       "      <td>0.345310</td>\n",
       "      <td>0.100979</td>\n",
       "      <td>0.122989</td>\n",
       "      <td>0.053524</td>\n",
       "      <td>0.272694</td>\n",
       "    </tr>\n",
       "    <tr>\n",
       "      <th>1</th>\n",
       "      <td>0.863049</td>\n",
       "      <td>0.363633</td>\n",
       "      <td>0.020691</td>\n",
       "      <td>0.382749</td>\n",
       "      <td>0.837459</td>\n",
       "    </tr>\n",
       "    <tr>\n",
       "      <th>2</th>\n",
       "      <td>0.312326</td>\n",
       "      <td>0.538388</td>\n",
       "      <td>0.156099</td>\n",
       "      <td>0.245932</td>\n",
       "      <td>0.937675</td>\n",
       "    </tr>\n",
       "    <tr>\n",
       "      <th>3</th>\n",
       "      <td>0.685188</td>\n",
       "      <td>0.776812</td>\n",
       "      <td>0.081378</td>\n",
       "      <td>0.426381</td>\n",
       "      <td>0.414999</td>\n",
       "    </tr>\n",
       "    <tr>\n",
       "      <th>4</th>\n",
       "      <td>0.896616</td>\n",
       "      <td>0.156403</td>\n",
       "      <td>0.665622</td>\n",
       "      <td>0.823016</td>\n",
       "      <td>0.106313</td>\n",
       "    </tr>\n",
       "  </tbody>\n",
       "</table>\n",
       "</div>"
      ],
      "text/plain": [
       "          0         1         2         3         4\n",
       "0  0.345310  0.100979  0.122989  0.053524  0.272694\n",
       "1  0.863049  0.363633  0.020691  0.382749  0.837459\n",
       "2  0.312326  0.538388  0.156099  0.245932  0.937675\n",
       "3  0.685188  0.776812  0.081378  0.426381  0.414999\n",
       "4  0.896616  0.156403  0.665622  0.823016  0.106313"
      ]
     },
     "execution_count": 21,
     "metadata": {},
     "output_type": "execute_result"
    }
   ],
   "source": [
    "newdata.head()"
   ]
  },
  {
   "cell_type": "code",
   "execution_count": 22,
   "id": "b8aa7cc0",
   "metadata": {},
   "outputs": [
    {
     "data": {
      "text/plain": [
       "pandas.core.series.Series"
      ]
     },
     "execution_count": 22,
     "metadata": {},
     "output_type": "execute_result"
    }
   ],
   "source": [
    "type(newdata[0])"
   ]
  },
  {
   "cell_type": "code",
   "execution_count": 23,
   "id": "f62982d3",
   "metadata": {},
   "outputs": [
    {
     "name": "stderr",
     "output_type": "stream",
     "text": [
      "C:\\Users\\Gagan\\AppData\\Local\\Temp\\ipykernel_12156\\224267802.py:2: FutureWarning: ChainedAssignmentError: behaviour will change in pandas 3.0!\n",
      "You are setting values through chained assignment. Currently this works in certain cases, but when using Copy-on-Write (which will become the default behaviour in pandas 3.0) this will never work to update the original DataFrame or Series, because the intermediate object on which we are setting values will behave as a copy.\n",
      "A typical example is when you are setting values in a column of a DataFrame, like:\n",
      "\n",
      "df[\"col\"][row_indexer] = value\n",
      "\n",
      "Use `df.loc[row_indexer, \"col\"] = values` instead, to perform the assignment in a single step and ensure this keeps updating the original `df`.\n",
      "\n",
      "See the caveats in the documentation: https://pandas.pydata.org/pandas-docs/stable/user_guide/indexing.html#returning-a-view-versus-a-copy\n",
      "\n",
      "  new[0][0]= 98754353\n"
     ]
    },
    {
     "data": {
      "application/vnd.microsoft.datawrangler.viewer.v0+json": {
       "columns": [
        {
         "name": "index",
         "rawType": "int64",
         "type": "integer"
        },
        {
         "name": "0",
         "rawType": "float64",
         "type": "float"
        },
        {
         "name": "1",
         "rawType": "float64",
         "type": "float"
        },
        {
         "name": "2",
         "rawType": "float64",
         "type": "float"
        },
        {
         "name": "3",
         "rawType": "float64",
         "type": "float"
        },
        {
         "name": "4",
         "rawType": "float64",
         "type": "float"
        }
       ],
       "ref": "e1f43483-812d-4004-b05b-08874a10e5c0",
       "rows": [
        [
         "0",
         "0.34531",
         "0.1009787166217121",
         "0.12298902834025105",
         "0.053524046646136414",
         "0.27269356277066126"
        ],
        [
         "1",
         "0.8630491740842244",
         "0.36363327627373787",
         "0.020690814649189093",
         "0.38274861419023676",
         "0.8374589028303848"
        ],
        [
         "2",
         "0.31232561946278126",
         "0.5383877109848798",
         "0.1560992586685076",
         "0.24593233483456234",
         "0.9376752815470363"
        ],
        [
         "3",
         "0.685187974445353",
         "0.7768115278402427",
         "0.08137759649970067",
         "0.4263811330799492",
         "0.41499853470547576"
        ],
        [
         "4",
         "0.8966159436263471",
         "0.1564026496656552",
         "0.6656222122168985",
         "0.8230157600459596",
         "0.10631310727274446"
        ],
        [
         "5",
         "0.7390569612088024",
         "0.8719621264319019",
         "0.5594232582776459",
         "0.001784909367823273",
         "0.2561692067479948"
        ],
        [
         "6",
         "0.833491701504404",
         "0.7271593444194016",
         "0.1493625962629822",
         "0.8481759627063598",
         "0.0786648427947726"
        ],
        [
         "7",
         "0.36916206277243835",
         "0.4428775787720395",
         "0.04093870487643558",
         "0.4327742372600266",
         "0.48505068167747656"
        ],
        [
         "8",
         "0.4334600477485905",
         "0.3289984856649817",
         "0.8411320854887072",
         "0.361985191552314",
         "0.8115287252696511"
        ],
        [
         "9",
         "0.6083885739234854",
         "0.9037970257968119",
         "0.05764731440518722",
         "0.358669016109342",
         "0.9351984492601657"
        ],
        [
         "10",
         "0.33154446184207875",
         "0.5705169224886145",
         "0.2538014533218764",
         "0.1555945339163488",
         "0.006240066132893074"
        ],
        [
         "11",
         "0.3979776034208523",
         "0.9549853679762275",
         "0.2734132758806076",
         "0.08756382706521282",
         "0.2620857356056079"
        ],
        [
         "12",
         "0.36044781061491904",
         "0.6094448871731741",
         "0.25260899606977283",
         "0.8813011710110896",
         "0.11489400946441986"
        ],
        [
         "13",
         "0.32742965580906436",
         "0.7280035482466127",
         "0.6274341325606493",
         "0.25604718152557093",
         "0.7255534921629594"
        ],
        [
         "14",
         "0.1915681471421693",
         "0.30327751804579994",
         "0.6604727454735161",
         "0.41931825398204636",
         "0.0224241405904263"
        ],
        [
         "15",
         "0.8368514189401548",
         "0.9097216912535057",
         "0.6338509145768015",
         "0.5304511610665951",
         "0.41789449756291386"
        ],
        [
         "16",
         "0.6330259179915952",
         "0.903511036379787",
         "0.21426276639943032",
         "0.984312992394737",
         "0.8829614785033106"
        ],
        [
         "17",
         "0.5073206633169175",
         "0.8012885402082837",
         "0.5280363048756295",
         "0.5577048202599839",
         "0.9296366220826342"
        ],
        [
         "18",
         "0.5576466907510196",
         "0.8177171141511703",
         "0.30009731127995776",
         "0.7253257668543623",
         "0.6639334076861606"
        ],
        [
         "19",
         "0.3761748580540727",
         "0.3828484742950379",
         "0.93183570809371",
         "0.7333996213166747",
         "0.6857570909580553"
        ],
        [
         "20",
         "0.10806982537451126",
         "0.3486767480252352",
         "0.5575163233189622",
         "0.5776115618405828",
         "0.5158766294723538"
        ],
        [
         "21",
         "0.5381514144467441",
         "0.22615051079539195",
         "0.5057895659806649",
         "0.6605517580418035",
         "0.544597959048764"
        ],
        [
         "22",
         "0.4774785346823057",
         "0.78580986495246",
         "0.14260363154987454",
         "0.06862350697118236",
         "0.8233915121236439"
        ],
        [
         "23",
         "0.9180477114299774",
         "0.46789121610083917",
         "0.17359386710050395",
         "0.26959625758606665",
         "0.04828997428483084"
        ],
        [
         "24",
         "0.8472951264411146",
         "0.42243913721948156",
         "0.8477064327542982",
         "0.0008019177765982155",
         "0.42537164972012875"
        ],
        [
         "25",
         "0.4104327234904085",
         "0.4635643753438061",
         "0.9732329857459655",
         "0.8118155634023512",
         "0.8476010347611198"
        ],
        [
         "26",
         "0.8786789765169863",
         "0.37729197413050264",
         "0.4782546496514021",
         "0.786194151718719",
         "0.5120599735394377"
        ],
        [
         "27",
         "0.9271677118908012",
         "0.9280189623865628",
         "0.662386645477122",
         "0.0222430036152379",
         "0.840746657999188"
        ],
        [
         "28",
         "0.47412130052764034",
         "0.49020195992153437",
         "0.19122091026681842",
         "0.7634196982937272",
         "0.8358824713287692"
        ],
        [
         "29",
         "0.5218941308569045",
         "0.8079986469038756",
         "0.033113946279991424",
         "0.40441544006011454",
         "0.4080237469066125"
        ],
        [
         "30",
         "0.8127775029729067",
         "0.12919243034633177",
         "0.16363877432698293",
         "0.6257927139800216",
         "0.3571358924895338"
        ],
        [
         "31",
         "0.2350234278947626",
         "0.581586662549423",
         "0.7517965254459437",
         "0.900301782747231",
         "0.28806515965107615"
        ],
        [
         "32",
         "0.8504815273585464",
         "0.7383017649326737",
         "0.8770815917254969",
         "0.4323419017172335",
         "0.3765961673553846"
        ],
        [
         "33",
         "0.8219549759501485",
         "0.5658098270476897",
         "0.2509744460822516",
         "0.2895759152876848",
         "0.9650785344595394"
        ],
        [
         "34",
         "0.7382653905911539",
         "0.1505780232516668",
         "0.13124427895490776",
         "0.13896026401113903",
         "0.15371238052976444"
        ],
        [
         "35",
         "0.1635878241280858",
         "0.15038149267143597",
         "0.9029189674659492",
         "0.14817408510283103",
         "0.02275465987531866"
        ],
        [
         "36",
         "0.3569394352686076",
         "0.3758711021771578",
         "0.18462926930282242",
         "0.9252831549878989",
         "0.6635652374259207"
        ],
        [
         "37",
         "0.975814488362743",
         "0.8279909590478732",
         "0.7435047400611574",
         "0.36296186019787857",
         "0.4164776070790982"
        ],
        [
         "38",
         "0.6361891906709365",
         "0.47444124116458886",
         "0.7569230023146755",
         "0.09617400444669721",
         "0.5254634836987616"
        ],
        [
         "39",
         "0.526801673785683",
         "0.16676895603031738",
         "0.6717449636249884",
         "0.7244012581348299",
         "0.5586627354755971"
        ],
        [
         "40",
         "0.5802756159379782",
         "0.32725555396321837",
         "0.9114831781199895",
         "0.3935301477348857",
         "0.6691988531328141"
        ],
        [
         "41",
         "0.8454616778981281",
         "0.013665418646331084",
         "0.6295251417226939",
         "0.9432212006610349",
         "0.6613211248961927"
        ],
        [
         "42",
         "0.5418605721537902",
         "0.9141514244997739",
         "0.5427359665325054",
         "0.7347663855257421",
         "0.9371823705685823"
        ],
        [
         "43",
         "0.2495134540522197",
         "0.0768015574692752",
         "0.6597501496988588",
         "0.6803209455198972",
         "0.937009353610773"
        ],
        [
         "44",
         "0.6393948257778513",
         "0.6545830468500794",
         "0.3366483579833369",
         "0.58059258581014",
         "0.8666096686591681"
        ],
        [
         "45",
         "0.5080751994061452",
         "0.13457849403263888",
         "0.887149133634012",
         "0.08741420867890248",
         "0.22464644155017044"
        ],
        [
         "46",
         "0.8644761769445809",
         "0.18507850876564247",
         "0.45246630644379393",
         "0.8521303303849866",
         "0.40769352875666875"
        ],
        [
         "47",
         "0.9514904380149106",
         "0.07364719378548656",
         "0.9113912271762327",
         "0.3800896607328106",
         "0.8092901637700567"
        ],
        [
         "48",
         "0.9760563782834688",
         "0.37964436306508387",
         "0.2300423360044337",
         "0.13552742528584616",
         "0.8200952034237892"
        ],
        [
         "49",
         "0.7443145013899632",
         "0.03924592223873613",
         "0.5666638773445167",
         "0.048393125950686344",
         "0.5835859218282372"
        ]
       ],
       "shape": {
        "columns": 5,
        "rows": 334
       }
      },
      "text/html": [
       "<div>\n",
       "<style scoped>\n",
       "    .dataframe tbody tr th:only-of-type {\n",
       "        vertical-align: middle;\n",
       "    }\n",
       "\n",
       "    .dataframe tbody tr th {\n",
       "        vertical-align: top;\n",
       "    }\n",
       "\n",
       "    .dataframe thead th {\n",
       "        text-align: right;\n",
       "    }\n",
       "</style>\n",
       "<table border=\"1\" class=\"dataframe\">\n",
       "  <thead>\n",
       "    <tr style=\"text-align: right;\">\n",
       "      <th></th>\n",
       "      <th>0</th>\n",
       "      <th>1</th>\n",
       "      <th>2</th>\n",
       "      <th>3</th>\n",
       "      <th>4</th>\n",
       "    </tr>\n",
       "  </thead>\n",
       "  <tbody>\n",
       "    <tr>\n",
       "      <th>0</th>\n",
       "      <td>0.345310</td>\n",
       "      <td>0.100979</td>\n",
       "      <td>0.122989</td>\n",
       "      <td>0.053524</td>\n",
       "      <td>0.272694</td>\n",
       "    </tr>\n",
       "    <tr>\n",
       "      <th>1</th>\n",
       "      <td>0.863049</td>\n",
       "      <td>0.363633</td>\n",
       "      <td>0.020691</td>\n",
       "      <td>0.382749</td>\n",
       "      <td>0.837459</td>\n",
       "    </tr>\n",
       "    <tr>\n",
       "      <th>2</th>\n",
       "      <td>0.312326</td>\n",
       "      <td>0.538388</td>\n",
       "      <td>0.156099</td>\n",
       "      <td>0.245932</td>\n",
       "      <td>0.937675</td>\n",
       "    </tr>\n",
       "    <tr>\n",
       "      <th>3</th>\n",
       "      <td>0.685188</td>\n",
       "      <td>0.776812</td>\n",
       "      <td>0.081378</td>\n",
       "      <td>0.426381</td>\n",
       "      <td>0.414999</td>\n",
       "    </tr>\n",
       "    <tr>\n",
       "      <th>4</th>\n",
       "      <td>0.896616</td>\n",
       "      <td>0.156403</td>\n",
       "      <td>0.665622</td>\n",
       "      <td>0.823016</td>\n",
       "      <td>0.106313</td>\n",
       "    </tr>\n",
       "    <tr>\n",
       "      <th>...</th>\n",
       "      <td>...</td>\n",
       "      <td>...</td>\n",
       "      <td>...</td>\n",
       "      <td>...</td>\n",
       "      <td>...</td>\n",
       "    </tr>\n",
       "    <tr>\n",
       "      <th>329</th>\n",
       "      <td>0.299391</td>\n",
       "      <td>0.425315</td>\n",
       "      <td>0.279935</td>\n",
       "      <td>0.049471</td>\n",
       "      <td>0.545110</td>\n",
       "    </tr>\n",
       "    <tr>\n",
       "      <th>330</th>\n",
       "      <td>0.896023</td>\n",
       "      <td>0.096982</td>\n",
       "      <td>0.781666</td>\n",
       "      <td>0.806833</td>\n",
       "      <td>0.386779</td>\n",
       "    </tr>\n",
       "    <tr>\n",
       "      <th>331</th>\n",
       "      <td>0.509240</td>\n",
       "      <td>0.235234</td>\n",
       "      <td>0.042370</td>\n",
       "      <td>0.009737</td>\n",
       "      <td>0.739821</td>\n",
       "    </tr>\n",
       "    <tr>\n",
       "      <th>332</th>\n",
       "      <td>0.893299</td>\n",
       "      <td>0.513266</td>\n",
       "      <td>0.351255</td>\n",
       "      <td>0.873315</td>\n",
       "      <td>0.795540</td>\n",
       "    </tr>\n",
       "    <tr>\n",
       "      <th>333</th>\n",
       "      <td>0.308398</td>\n",
       "      <td>0.033077</td>\n",
       "      <td>0.271973</td>\n",
       "      <td>0.267061</td>\n",
       "      <td>0.801615</td>\n",
       "    </tr>\n",
       "  </tbody>\n",
       "</table>\n",
       "<p>334 rows × 5 columns</p>\n",
       "</div>"
      ],
      "text/plain": [
       "            0         1         2         3         4\n",
       "0    0.345310  0.100979  0.122989  0.053524  0.272694\n",
       "1    0.863049  0.363633  0.020691  0.382749  0.837459\n",
       "2    0.312326  0.538388  0.156099  0.245932  0.937675\n",
       "3    0.685188  0.776812  0.081378  0.426381  0.414999\n",
       "4    0.896616  0.156403  0.665622  0.823016  0.106313\n",
       "..        ...       ...       ...       ...       ...\n",
       "329  0.299391  0.425315  0.279935  0.049471  0.545110\n",
       "330  0.896023  0.096982  0.781666  0.806833  0.386779\n",
       "331  0.509240  0.235234  0.042370  0.009737  0.739821\n",
       "332  0.893299  0.513266  0.351255  0.873315  0.795540\n",
       "333  0.308398  0.033077  0.271973  0.267061  0.801615\n",
       "\n",
       "[334 rows x 5 columns]"
      ]
     },
     "execution_count": 23,
     "metadata": {},
     "output_type": "execute_result"
    }
   ],
   "source": [
    "new = newdata.copy()\n",
    "new[0][0]= 98754353\n",
    "newdata\n"
   ]
  },
  {
   "cell_type": "code",
   "execution_count": 24,
   "id": "846f760a",
   "metadata": {},
   "outputs": [
    {
     "data": {
      "application/vnd.microsoft.datawrangler.viewer.v0+json": {
       "columns": [
        {
         "name": "index",
         "rawType": "int64",
         "type": "integer"
        },
        {
         "name": "0",
         "rawType": "float64",
         "type": "float"
        },
        {
         "name": "1",
         "rawType": "float64",
         "type": "float"
        },
        {
         "name": "2",
         "rawType": "float64",
         "type": "float"
        },
        {
         "name": "3",
         "rawType": "float64",
         "type": "float"
        },
        {
         "name": "4",
         "rawType": "float64",
         "type": "float"
        }
       ],
       "ref": "b35fb496-cc8b-4124-8cfd-d509ff168bef",
       "rows": [
        [
         "0",
         "654.0",
         "0.1009787166217121",
         "0.12298902834025105",
         "0.053524046646136414",
         "0.27269356277066126"
        ],
        [
         "1",
         "0.8630491740842244",
         "0.36363327627373787",
         "0.020690814649189093",
         "0.38274861419023676",
         "0.8374589028303848"
        ]
       ],
       "shape": {
        "columns": 5,
        "rows": 2
       }
      },
      "text/html": [
       "<div>\n",
       "<style scoped>\n",
       "    .dataframe tbody tr th:only-of-type {\n",
       "        vertical-align: middle;\n",
       "    }\n",
       "\n",
       "    .dataframe tbody tr th {\n",
       "        vertical-align: top;\n",
       "    }\n",
       "\n",
       "    .dataframe thead th {\n",
       "        text-align: right;\n",
       "    }\n",
       "</style>\n",
       "<table border=\"1\" class=\"dataframe\">\n",
       "  <thead>\n",
       "    <tr style=\"text-align: right;\">\n",
       "      <th></th>\n",
       "      <th>0</th>\n",
       "      <th>1</th>\n",
       "      <th>2</th>\n",
       "      <th>3</th>\n",
       "      <th>4</th>\n",
       "    </tr>\n",
       "  </thead>\n",
       "  <tbody>\n",
       "    <tr>\n",
       "      <th>0</th>\n",
       "      <td>654.000000</td>\n",
       "      <td>0.100979</td>\n",
       "      <td>0.122989</td>\n",
       "      <td>0.053524</td>\n",
       "      <td>0.272694</td>\n",
       "    </tr>\n",
       "    <tr>\n",
       "      <th>1</th>\n",
       "      <td>0.863049</td>\n",
       "      <td>0.363633</td>\n",
       "      <td>0.020691</td>\n",
       "      <td>0.382749</td>\n",
       "      <td>0.837459</td>\n",
       "    </tr>\n",
       "  </tbody>\n",
       "</table>\n",
       "</div>"
      ],
      "text/plain": [
       "            0         1         2         3         4\n",
       "0  654.000000  0.100979  0.122989  0.053524  0.272694\n",
       "1    0.863049  0.363633  0.020691  0.382749  0.837459"
      ]
     },
     "execution_count": 24,
     "metadata": {},
     "output_type": "execute_result"
    }
   ],
   "source": [
    "newdata.loc[0,0] = 654\n",
    "newdata.head(2)"
   ]
  },
  {
   "cell_type": "code",
   "execution_count": 25,
   "id": "207a7843",
   "metadata": {},
   "outputs": [
    {
     "data": {
      "application/vnd.microsoft.datawrangler.viewer.v0+json": {
       "columns": [
        {
         "name": "index",
         "rawType": "int64",
         "type": "integer"
        },
        {
         "name": "1",
         "rawType": "float64",
         "type": "float"
        },
        {
         "name": "2",
         "rawType": "float64",
         "type": "float"
        },
        {
         "name": "3",
         "rawType": "float64",
         "type": "float"
        },
        {
         "name": "4",
         "rawType": "float64",
         "type": "float"
        }
       ],
       "ref": "392dcfb0-7e9c-4fce-a4c6-0292e1e520d6",
       "rows": [
        [
         "0",
         "0.1009787166217121",
         "0.12298902834025105",
         "0.053524046646136414",
         "0.27269356277066126"
        ],
        [
         "1",
         "0.36363327627373787",
         "0.020690814649189093",
         "0.38274861419023676",
         "0.8374589028303848"
        ],
        [
         "2",
         "0.5383877109848798",
         "0.1560992586685076",
         "0.24593233483456234",
         "0.9376752815470363"
        ],
        [
         "3",
         "0.7768115278402427",
         "0.08137759649970067",
         "0.4263811330799492",
         "0.41499853470547576"
        ],
        [
         "4",
         "0.1564026496656552",
         "0.6656222122168985",
         "0.8230157600459596",
         "0.10631310727274446"
        ],
        [
         "5",
         "0.8719621264319019",
         "0.5594232582776459",
         "0.001784909367823273",
         "0.2561692067479948"
        ],
        [
         "6",
         "0.7271593444194016",
         "0.1493625962629822",
         "0.8481759627063598",
         "0.0786648427947726"
        ],
        [
         "7",
         "0.4428775787720395",
         "0.04093870487643558",
         "0.4327742372600266",
         "0.48505068167747656"
        ],
        [
         "8",
         "0.3289984856649817",
         "0.8411320854887072",
         "0.361985191552314",
         "0.8115287252696511"
        ],
        [
         "9",
         "0.9037970257968119",
         "0.05764731440518722",
         "0.358669016109342",
         "0.9351984492601657"
        ],
        [
         "10",
         "0.5705169224886145",
         "0.2538014533218764",
         "0.1555945339163488",
         "0.006240066132893074"
        ],
        [
         "11",
         "0.9549853679762275",
         "0.2734132758806076",
         "0.08756382706521282",
         "0.2620857356056079"
        ],
        [
         "12",
         "0.6094448871731741",
         "0.25260899606977283",
         "0.8813011710110896",
         "0.11489400946441986"
        ],
        [
         "13",
         "0.7280035482466127",
         "0.6274341325606493",
         "0.25604718152557093",
         "0.7255534921629594"
        ],
        [
         "14",
         "0.30327751804579994",
         "0.6604727454735161",
         "0.41931825398204636",
         "0.0224241405904263"
        ],
        [
         "15",
         "0.9097216912535057",
         "0.6338509145768015",
         "0.5304511610665951",
         "0.41789449756291386"
        ],
        [
         "16",
         "0.903511036379787",
         "0.21426276639943032",
         "0.984312992394737",
         "0.8829614785033106"
        ],
        [
         "17",
         "0.8012885402082837",
         "0.5280363048756295",
         "0.5577048202599839",
         "0.9296366220826342"
        ],
        [
         "18",
         "0.8177171141511703",
         "0.30009731127995776",
         "0.7253257668543623",
         "0.6639334076861606"
        ],
        [
         "19",
         "0.3828484742950379",
         "0.93183570809371",
         "0.7333996213166747",
         "0.6857570909580553"
        ],
        [
         "20",
         "0.3486767480252352",
         "0.5575163233189622",
         "0.5776115618405828",
         "0.5158766294723538"
        ],
        [
         "21",
         "0.22615051079539195",
         "0.5057895659806649",
         "0.6605517580418035",
         "0.544597959048764"
        ],
        [
         "22",
         "0.78580986495246",
         "0.14260363154987454",
         "0.06862350697118236",
         "0.8233915121236439"
        ],
        [
         "23",
         "0.46789121610083917",
         "0.17359386710050395",
         "0.26959625758606665",
         "0.04828997428483084"
        ],
        [
         "24",
         "0.42243913721948156",
         "0.8477064327542982",
         "0.0008019177765982155",
         "0.42537164972012875"
        ],
        [
         "25",
         "0.4635643753438061",
         "0.9732329857459655",
         "0.8118155634023512",
         "0.8476010347611198"
        ],
        [
         "26",
         "0.37729197413050264",
         "0.4782546496514021",
         "0.786194151718719",
         "0.5120599735394377"
        ],
        [
         "27",
         "0.9280189623865628",
         "0.662386645477122",
         "0.0222430036152379",
         "0.840746657999188"
        ],
        [
         "28",
         "0.49020195992153437",
         "0.19122091026681842",
         "0.7634196982937272",
         "0.8358824713287692"
        ],
        [
         "29",
         "0.8079986469038756",
         "0.033113946279991424",
         "0.40441544006011454",
         "0.4080237469066125"
        ],
        [
         "30",
         "0.12919243034633177",
         "0.16363877432698293",
         "0.6257927139800216",
         "0.3571358924895338"
        ],
        [
         "31",
         "0.581586662549423",
         "0.7517965254459437",
         "0.900301782747231",
         "0.28806515965107615"
        ],
        [
         "32",
         "0.7383017649326737",
         "0.8770815917254969",
         "0.4323419017172335",
         "0.3765961673553846"
        ],
        [
         "33",
         "0.5658098270476897",
         "0.2509744460822516",
         "0.2895759152876848",
         "0.9650785344595394"
        ],
        [
         "34",
         "0.1505780232516668",
         "0.13124427895490776",
         "0.13896026401113903",
         "0.15371238052976444"
        ],
        [
         "35",
         "0.15038149267143597",
         "0.9029189674659492",
         "0.14817408510283103",
         "0.02275465987531866"
        ],
        [
         "36",
         "0.3758711021771578",
         "0.18462926930282242",
         "0.9252831549878989",
         "0.6635652374259207"
        ],
        [
         "37",
         "0.8279909590478732",
         "0.7435047400611574",
         "0.36296186019787857",
         "0.4164776070790982"
        ],
        [
         "38",
         "0.47444124116458886",
         "0.7569230023146755",
         "0.09617400444669721",
         "0.5254634836987616"
        ],
        [
         "39",
         "0.16676895603031738",
         "0.6717449636249884",
         "0.7244012581348299",
         "0.5586627354755971"
        ],
        [
         "40",
         "0.32725555396321837",
         "0.9114831781199895",
         "0.3935301477348857",
         "0.6691988531328141"
        ],
        [
         "41",
         "0.013665418646331084",
         "0.6295251417226939",
         "0.9432212006610349",
         "0.6613211248961927"
        ],
        [
         "42",
         "0.9141514244997739",
         "0.5427359665325054",
         "0.7347663855257421",
         "0.9371823705685823"
        ],
        [
         "43",
         "0.0768015574692752",
         "0.6597501496988588",
         "0.6803209455198972",
         "0.937009353610773"
        ],
        [
         "44",
         "0.6545830468500794",
         "0.3366483579833369",
         "0.58059258581014",
         "0.8666096686591681"
        ],
        [
         "45",
         "0.13457849403263888",
         "0.887149133634012",
         "0.08741420867890248",
         "0.22464644155017044"
        ],
        [
         "46",
         "0.18507850876564247",
         "0.45246630644379393",
         "0.8521303303849866",
         "0.40769352875666875"
        ],
        [
         "47",
         "0.07364719378548656",
         "0.9113912271762327",
         "0.3800896607328106",
         "0.8092901637700567"
        ],
        [
         "48",
         "0.37964436306508387",
         "0.2300423360044337",
         "0.13552742528584616",
         "0.8200952034237892"
        ],
        [
         "49",
         "0.03924592223873613",
         "0.5666638773445167",
         "0.048393125950686344",
         "0.5835859218282372"
        ]
       ],
       "shape": {
        "columns": 4,
        "rows": 334
       }
      },
      "text/html": [
       "<div>\n",
       "<style scoped>\n",
       "    .dataframe tbody tr th:only-of-type {\n",
       "        vertical-align: middle;\n",
       "    }\n",
       "\n",
       "    .dataframe tbody tr th {\n",
       "        vertical-align: top;\n",
       "    }\n",
       "\n",
       "    .dataframe thead th {\n",
       "        text-align: right;\n",
       "    }\n",
       "</style>\n",
       "<table border=\"1\" class=\"dataframe\">\n",
       "  <thead>\n",
       "    <tr style=\"text-align: right;\">\n",
       "      <th></th>\n",
       "      <th>1</th>\n",
       "      <th>2</th>\n",
       "      <th>3</th>\n",
       "      <th>4</th>\n",
       "    </tr>\n",
       "  </thead>\n",
       "  <tbody>\n",
       "    <tr>\n",
       "      <th>0</th>\n",
       "      <td>0.100979</td>\n",
       "      <td>0.122989</td>\n",
       "      <td>0.053524</td>\n",
       "      <td>0.272694</td>\n",
       "    </tr>\n",
       "    <tr>\n",
       "      <th>1</th>\n",
       "      <td>0.363633</td>\n",
       "      <td>0.020691</td>\n",
       "      <td>0.382749</td>\n",
       "      <td>0.837459</td>\n",
       "    </tr>\n",
       "    <tr>\n",
       "      <th>2</th>\n",
       "      <td>0.538388</td>\n",
       "      <td>0.156099</td>\n",
       "      <td>0.245932</td>\n",
       "      <td>0.937675</td>\n",
       "    </tr>\n",
       "    <tr>\n",
       "      <th>3</th>\n",
       "      <td>0.776812</td>\n",
       "      <td>0.081378</td>\n",
       "      <td>0.426381</td>\n",
       "      <td>0.414999</td>\n",
       "    </tr>\n",
       "    <tr>\n",
       "      <th>4</th>\n",
       "      <td>0.156403</td>\n",
       "      <td>0.665622</td>\n",
       "      <td>0.823016</td>\n",
       "      <td>0.106313</td>\n",
       "    </tr>\n",
       "    <tr>\n",
       "      <th>...</th>\n",
       "      <td>...</td>\n",
       "      <td>...</td>\n",
       "      <td>...</td>\n",
       "      <td>...</td>\n",
       "    </tr>\n",
       "    <tr>\n",
       "      <th>329</th>\n",
       "      <td>0.425315</td>\n",
       "      <td>0.279935</td>\n",
       "      <td>0.049471</td>\n",
       "      <td>0.545110</td>\n",
       "    </tr>\n",
       "    <tr>\n",
       "      <th>330</th>\n",
       "      <td>0.096982</td>\n",
       "      <td>0.781666</td>\n",
       "      <td>0.806833</td>\n",
       "      <td>0.386779</td>\n",
       "    </tr>\n",
       "    <tr>\n",
       "      <th>331</th>\n",
       "      <td>0.235234</td>\n",
       "      <td>0.042370</td>\n",
       "      <td>0.009737</td>\n",
       "      <td>0.739821</td>\n",
       "    </tr>\n",
       "    <tr>\n",
       "      <th>332</th>\n",
       "      <td>0.513266</td>\n",
       "      <td>0.351255</td>\n",
       "      <td>0.873315</td>\n",
       "      <td>0.795540</td>\n",
       "    </tr>\n",
       "    <tr>\n",
       "      <th>333</th>\n",
       "      <td>0.033077</td>\n",
       "      <td>0.271973</td>\n",
       "      <td>0.267061</td>\n",
       "      <td>0.801615</td>\n",
       "    </tr>\n",
       "  </tbody>\n",
       "</table>\n",
       "<p>334 rows × 4 columns</p>\n",
       "</div>"
      ],
      "text/plain": [
       "            1         2         3         4\n",
       "0    0.100979  0.122989  0.053524  0.272694\n",
       "1    0.363633  0.020691  0.382749  0.837459\n",
       "2    0.538388  0.156099  0.245932  0.937675\n",
       "3    0.776812  0.081378  0.426381  0.414999\n",
       "4    0.156403  0.665622  0.823016  0.106313\n",
       "..        ...       ...       ...       ...\n",
       "329  0.425315  0.279935  0.049471  0.545110\n",
       "330  0.096982  0.781666  0.806833  0.386779\n",
       "331  0.235234  0.042370  0.009737  0.739821\n",
       "332  0.513266  0.351255  0.873315  0.795540\n",
       "333  0.033077  0.271973  0.267061  0.801615\n",
       "\n",
       "[334 rows x 4 columns]"
      ]
     },
     "execution_count": 25,
     "metadata": {},
     "output_type": "execute_result"
    }
   ],
   "source": [
    "newdata.drop(0,axis=1)"
   ]
  },
  {
   "cell_type": "code",
   "execution_count": 26,
   "id": "2819db5c",
   "metadata": {},
   "outputs": [
    {
     "data": {
      "application/vnd.microsoft.datawrangler.viewer.v0+json": {
       "columns": [
        {
         "name": "index",
         "rawType": "int64",
         "type": "integer"
        },
        {
         "name": "0",
         "rawType": "float64",
         "type": "float"
        },
        {
         "name": "1",
         "rawType": "float64",
         "type": "float"
        },
        {
         "name": "2",
         "rawType": "float64",
         "type": "float"
        },
        {
         "name": "3",
         "rawType": "float64",
         "type": "float"
        },
        {
         "name": "4",
         "rawType": "float64",
         "type": "float"
        }
       ],
       "ref": "62974ac9-26d7-47f6-86cf-8b746f253376",
       "rows": [
        [
         "0",
         "654.0",
         "0.1009787166217121",
         "0.12298902834025105",
         "0.053524046646136414",
         "0.27269356277066126"
        ],
        [
         "1",
         "0.8630491740842244",
         "0.36363327627373787",
         "0.020690814649189093",
         "0.38274861419023676",
         "0.8374589028303848"
        ],
        [
         "2",
         "0.31232561946278126",
         "0.5383877109848798",
         "0.1560992586685076",
         "0.24593233483456234",
         "0.9376752815470363"
        ],
        [
         "3",
         "0.685187974445353",
         "0.7768115278402427",
         "0.08137759649970067",
         "0.4263811330799492",
         "0.41499853470547576"
        ],
        [
         "4",
         "0.8966159436263471",
         "0.1564026496656552",
         "0.6656222122168985",
         "0.8230157600459596",
         "0.10631310727274446"
        ]
       ],
       "shape": {
        "columns": 5,
        "rows": 5
       }
      },
      "text/html": [
       "<div>\n",
       "<style scoped>\n",
       "    .dataframe tbody tr th:only-of-type {\n",
       "        vertical-align: middle;\n",
       "    }\n",
       "\n",
       "    .dataframe tbody tr th {\n",
       "        vertical-align: top;\n",
       "    }\n",
       "\n",
       "    .dataframe thead th {\n",
       "        text-align: right;\n",
       "    }\n",
       "</style>\n",
       "<table border=\"1\" class=\"dataframe\">\n",
       "  <thead>\n",
       "    <tr style=\"text-align: right;\">\n",
       "      <th></th>\n",
       "      <th>0</th>\n",
       "      <th>1</th>\n",
       "      <th>2</th>\n",
       "      <th>3</th>\n",
       "      <th>4</th>\n",
       "    </tr>\n",
       "  </thead>\n",
       "  <tbody>\n",
       "    <tr>\n",
       "      <th>0</th>\n",
       "      <td>654.000000</td>\n",
       "      <td>0.100979</td>\n",
       "      <td>0.122989</td>\n",
       "      <td>0.053524</td>\n",
       "      <td>0.272694</td>\n",
       "    </tr>\n",
       "    <tr>\n",
       "      <th>1</th>\n",
       "      <td>0.863049</td>\n",
       "      <td>0.363633</td>\n",
       "      <td>0.020691</td>\n",
       "      <td>0.382749</td>\n",
       "      <td>0.837459</td>\n",
       "    </tr>\n",
       "    <tr>\n",
       "      <th>2</th>\n",
       "      <td>0.312326</td>\n",
       "      <td>0.538388</td>\n",
       "      <td>0.156099</td>\n",
       "      <td>0.245932</td>\n",
       "      <td>0.937675</td>\n",
       "    </tr>\n",
       "    <tr>\n",
       "      <th>3</th>\n",
       "      <td>0.685188</td>\n",
       "      <td>0.776812</td>\n",
       "      <td>0.081378</td>\n",
       "      <td>0.426381</td>\n",
       "      <td>0.414999</td>\n",
       "    </tr>\n",
       "    <tr>\n",
       "      <th>4</th>\n",
       "      <td>0.896616</td>\n",
       "      <td>0.156403</td>\n",
       "      <td>0.665622</td>\n",
       "      <td>0.823016</td>\n",
       "      <td>0.106313</td>\n",
       "    </tr>\n",
       "  </tbody>\n",
       "</table>\n",
       "</div>"
      ],
      "text/plain": [
       "            0         1         2         3         4\n",
       "0  654.000000  0.100979  0.122989  0.053524  0.272694\n",
       "1    0.863049  0.363633  0.020691  0.382749  0.837459\n",
       "2    0.312326  0.538388  0.156099  0.245932  0.937675\n",
       "3    0.685188  0.776812  0.081378  0.426381  0.414999\n",
       "4    0.896616  0.156403  0.665622  0.823016  0.106313"
      ]
     },
     "execution_count": 26,
     "metadata": {},
     "output_type": "execute_result"
    }
   ],
   "source": [
    "newdata.head()"
   ]
  },
  {
   "cell_type": "code",
   "execution_count": 27,
   "id": "88d44ff2",
   "metadata": {},
   "outputs": [
    {
     "data": {
      "application/vnd.microsoft.datawrangler.viewer.v0+json": {
       "columns": [
        {
         "name": "index",
         "rawType": "int64",
         "type": "integer"
        },
        {
         "name": "1",
         "rawType": "float64",
         "type": "float"
        },
        {
         "name": "2",
         "rawType": "float64",
         "type": "float"
        }
       ],
       "ref": "0a916e2a-9203-4319-9897-5ace32d44299",
       "rows": [
        [
         "1",
         "0.36363327627373787",
         "0.020690814649189093"
        ],
        [
         "2",
         "0.5383877109848798",
         "0.1560992586685076"
        ]
       ],
       "shape": {
        "columns": 2,
        "rows": 2
       }
      },
      "text/html": [
       "<div>\n",
       "<style scoped>\n",
       "    .dataframe tbody tr th:only-of-type {\n",
       "        vertical-align: middle;\n",
       "    }\n",
       "\n",
       "    .dataframe tbody tr th {\n",
       "        vertical-align: top;\n",
       "    }\n",
       "\n",
       "    .dataframe thead th {\n",
       "        text-align: right;\n",
       "    }\n",
       "</style>\n",
       "<table border=\"1\" class=\"dataframe\">\n",
       "  <thead>\n",
       "    <tr style=\"text-align: right;\">\n",
       "      <th></th>\n",
       "      <th>1</th>\n",
       "      <th>2</th>\n",
       "    </tr>\n",
       "  </thead>\n",
       "  <tbody>\n",
       "    <tr>\n",
       "      <th>1</th>\n",
       "      <td>0.363633</td>\n",
       "      <td>0.020691</td>\n",
       "    </tr>\n",
       "    <tr>\n",
       "      <th>2</th>\n",
       "      <td>0.538388</td>\n",
       "      <td>0.156099</td>\n",
       "    </tr>\n",
       "  </tbody>\n",
       "</table>\n",
       "</div>"
      ],
      "text/plain": [
       "          1         2\n",
       "1  0.363633  0.020691\n",
       "2  0.538388  0.156099"
      ]
     },
     "execution_count": 27,
     "metadata": {},
     "output_type": "execute_result"
    }
   ],
   "source": [
    "newdata.loc[[1,2],[1,2]]"
   ]
  },
  {
   "cell_type": "code",
   "execution_count": 28,
   "id": "fc708ef9",
   "metadata": {},
   "outputs": [
    {
     "data": {
      "application/vnd.microsoft.datawrangler.viewer.v0+json": {
       "columns": [
        {
         "name": "index",
         "rawType": "int64",
         "type": "integer"
        },
        {
         "name": "1",
         "rawType": "float64",
         "type": "float"
        },
        {
         "name": "2",
         "rawType": "float64",
         "type": "float"
        }
       ],
       "ref": "b0278e37-b69b-4a24-b3c5-1b26750ac69b",
       "rows": [
        [
         "0",
         "0.1009787166217121",
         "0.12298902834025105"
        ],
        [
         "1",
         "0.36363327627373787",
         "0.020690814649189093"
        ],
        [
         "2",
         "0.5383877109848798",
         "0.1560992586685076"
        ],
        [
         "3",
         "0.7768115278402427",
         "0.08137759649970067"
        ],
        [
         "4",
         "0.1564026496656552",
         "0.6656222122168985"
        ],
        [
         "5",
         "0.8719621264319019",
         "0.5594232582776459"
        ],
        [
         "6",
         "0.7271593444194016",
         "0.1493625962629822"
        ],
        [
         "7",
         "0.4428775787720395",
         "0.04093870487643558"
        ],
        [
         "8",
         "0.3289984856649817",
         "0.8411320854887072"
        ],
        [
         "9",
         "0.9037970257968119",
         "0.05764731440518722"
        ],
        [
         "10",
         "0.5705169224886145",
         "0.2538014533218764"
        ],
        [
         "11",
         "0.9549853679762275",
         "0.2734132758806076"
        ],
        [
         "12",
         "0.6094448871731741",
         "0.25260899606977283"
        ],
        [
         "13",
         "0.7280035482466127",
         "0.6274341325606493"
        ],
        [
         "14",
         "0.30327751804579994",
         "0.6604727454735161"
        ],
        [
         "15",
         "0.9097216912535057",
         "0.6338509145768015"
        ],
        [
         "16",
         "0.903511036379787",
         "0.21426276639943032"
        ],
        [
         "17",
         "0.8012885402082837",
         "0.5280363048756295"
        ],
        [
         "18",
         "0.8177171141511703",
         "0.30009731127995776"
        ],
        [
         "19",
         "0.3828484742950379",
         "0.93183570809371"
        ],
        [
         "20",
         "0.3486767480252352",
         "0.5575163233189622"
        ],
        [
         "21",
         "0.22615051079539195",
         "0.5057895659806649"
        ],
        [
         "22",
         "0.78580986495246",
         "0.14260363154987454"
        ],
        [
         "23",
         "0.46789121610083917",
         "0.17359386710050395"
        ],
        [
         "24",
         "0.42243913721948156",
         "0.8477064327542982"
        ],
        [
         "25",
         "0.4635643753438061",
         "0.9732329857459655"
        ],
        [
         "26",
         "0.37729197413050264",
         "0.4782546496514021"
        ],
        [
         "27",
         "0.9280189623865628",
         "0.662386645477122"
        ],
        [
         "28",
         "0.49020195992153437",
         "0.19122091026681842"
        ],
        [
         "29",
         "0.8079986469038756",
         "0.033113946279991424"
        ],
        [
         "30",
         "0.12919243034633177",
         "0.16363877432698293"
        ],
        [
         "31",
         "0.581586662549423",
         "0.7517965254459437"
        ],
        [
         "32",
         "0.7383017649326737",
         "0.8770815917254969"
        ],
        [
         "33",
         "0.5658098270476897",
         "0.2509744460822516"
        ],
        [
         "34",
         "0.1505780232516668",
         "0.13124427895490776"
        ],
        [
         "35",
         "0.15038149267143597",
         "0.9029189674659492"
        ],
        [
         "36",
         "0.3758711021771578",
         "0.18462926930282242"
        ],
        [
         "37",
         "0.8279909590478732",
         "0.7435047400611574"
        ],
        [
         "38",
         "0.47444124116458886",
         "0.7569230023146755"
        ],
        [
         "39",
         "0.16676895603031738",
         "0.6717449636249884"
        ],
        [
         "40",
         "0.32725555396321837",
         "0.9114831781199895"
        ],
        [
         "41",
         "0.013665418646331084",
         "0.6295251417226939"
        ],
        [
         "42",
         "0.9141514244997739",
         "0.5427359665325054"
        ],
        [
         "43",
         "0.0768015574692752",
         "0.6597501496988588"
        ],
        [
         "44",
         "0.6545830468500794",
         "0.3366483579833369"
        ],
        [
         "45",
         "0.13457849403263888",
         "0.887149133634012"
        ],
        [
         "46",
         "0.18507850876564247",
         "0.45246630644379393"
        ],
        [
         "47",
         "0.07364719378548656",
         "0.9113912271762327"
        ],
        [
         "48",
         "0.37964436306508387",
         "0.2300423360044337"
        ],
        [
         "49",
         "0.03924592223873613",
         "0.5666638773445167"
        ]
       ],
       "shape": {
        "columns": 2,
        "rows": 334
       }
      },
      "text/html": [
       "<div>\n",
       "<style scoped>\n",
       "    .dataframe tbody tr th:only-of-type {\n",
       "        vertical-align: middle;\n",
       "    }\n",
       "\n",
       "    .dataframe tbody tr th {\n",
       "        vertical-align: top;\n",
       "    }\n",
       "\n",
       "    .dataframe thead th {\n",
       "        text-align: right;\n",
       "    }\n",
       "</style>\n",
       "<table border=\"1\" class=\"dataframe\">\n",
       "  <thead>\n",
       "    <tr style=\"text-align: right;\">\n",
       "      <th></th>\n",
       "      <th>1</th>\n",
       "      <th>2</th>\n",
       "    </tr>\n",
       "  </thead>\n",
       "  <tbody>\n",
       "    <tr>\n",
       "      <th>0</th>\n",
       "      <td>0.100979</td>\n",
       "      <td>0.122989</td>\n",
       "    </tr>\n",
       "    <tr>\n",
       "      <th>1</th>\n",
       "      <td>0.363633</td>\n",
       "      <td>0.020691</td>\n",
       "    </tr>\n",
       "    <tr>\n",
       "      <th>2</th>\n",
       "      <td>0.538388</td>\n",
       "      <td>0.156099</td>\n",
       "    </tr>\n",
       "    <tr>\n",
       "      <th>3</th>\n",
       "      <td>0.776812</td>\n",
       "      <td>0.081378</td>\n",
       "    </tr>\n",
       "    <tr>\n",
       "      <th>4</th>\n",
       "      <td>0.156403</td>\n",
       "      <td>0.665622</td>\n",
       "    </tr>\n",
       "    <tr>\n",
       "      <th>...</th>\n",
       "      <td>...</td>\n",
       "      <td>...</td>\n",
       "    </tr>\n",
       "    <tr>\n",
       "      <th>329</th>\n",
       "      <td>0.425315</td>\n",
       "      <td>0.279935</td>\n",
       "    </tr>\n",
       "    <tr>\n",
       "      <th>330</th>\n",
       "      <td>0.096982</td>\n",
       "      <td>0.781666</td>\n",
       "    </tr>\n",
       "    <tr>\n",
       "      <th>331</th>\n",
       "      <td>0.235234</td>\n",
       "      <td>0.042370</td>\n",
       "    </tr>\n",
       "    <tr>\n",
       "      <th>332</th>\n",
       "      <td>0.513266</td>\n",
       "      <td>0.351255</td>\n",
       "    </tr>\n",
       "    <tr>\n",
       "      <th>333</th>\n",
       "      <td>0.033077</td>\n",
       "      <td>0.271973</td>\n",
       "    </tr>\n",
       "  </tbody>\n",
       "</table>\n",
       "<p>334 rows × 2 columns</p>\n",
       "</div>"
      ],
      "text/plain": [
       "            1         2\n",
       "0    0.100979  0.122989\n",
       "1    0.363633  0.020691\n",
       "2    0.538388  0.156099\n",
       "3    0.776812  0.081378\n",
       "4    0.156403  0.665622\n",
       "..        ...       ...\n",
       "329  0.425315  0.279935\n",
       "330  0.096982  0.781666\n",
       "331  0.235234  0.042370\n",
       "332  0.513266  0.351255\n",
       "333  0.033077  0.271973\n",
       "\n",
       "[334 rows x 2 columns]"
      ]
     },
     "execution_count": 28,
     "metadata": {},
     "output_type": "execute_result"
    }
   ],
   "source": [
    "newdata.loc[:,[1,2]]       # : gives all rows or columns indexes"
   ]
  },
  {
   "cell_type": "markdown",
   "id": "0b4faa74",
   "metadata": {},
   "source": [
    "### Complex Queries "
   ]
  },
  {
   "cell_type": "code",
   "execution_count": 29,
   "id": "9472c148",
   "metadata": {},
   "outputs": [
    {
     "data": {
      "application/vnd.microsoft.datawrangler.viewer.v0+json": {
       "columns": [
        {
         "name": "index",
         "rawType": "int64",
         "type": "integer"
        },
        {
         "name": "0",
         "rawType": "float64",
         "type": "float"
        },
        {
         "name": "1",
         "rawType": "float64",
         "type": "float"
        },
        {
         "name": "2",
         "rawType": "float64",
         "type": "float"
        },
        {
         "name": "3",
         "rawType": "float64",
         "type": "float"
        },
        {
         "name": "4",
         "rawType": "float64",
         "type": "float"
        }
       ],
       "ref": "8b51f2cc-dc83-47b2-996b-31a6c8f6b4b5",
       "rows": [
        [
         "0",
         "654.0",
         "0.1009787166217121",
         "0.12298902834025105",
         "0.053524046646136414",
         "0.27269356277066126"
        ],
        [
         "1",
         "0.8630491740842244",
         "0.36363327627373787",
         "0.020690814649189093",
         "0.38274861419023676",
         "0.8374589028303848"
        ],
        [
         "2",
         "0.31232561946278126",
         "0.5383877109848798",
         "0.1560992586685076",
         "0.24593233483456234",
         "0.9376752815470363"
        ],
        [
         "3",
         "0.685187974445353",
         "0.7768115278402427",
         "0.08137759649970067",
         "0.4263811330799492",
         "0.41499853470547576"
        ],
        [
         "4",
         "0.8966159436263471",
         "0.1564026496656552",
         "0.6656222122168985",
         "0.8230157600459596",
         "0.10631310727274446"
        ],
        [
         "5",
         "0.7390569612088024",
         "0.8719621264319019",
         "0.5594232582776459",
         "0.001784909367823273",
         "0.2561692067479948"
        ],
        [
         "6",
         "0.833491701504404",
         "0.7271593444194016",
         "0.1493625962629822",
         "0.8481759627063598",
         "0.0786648427947726"
        ],
        [
         "7",
         "0.36916206277243835",
         "0.4428775787720395",
         "0.04093870487643558",
         "0.4327742372600266",
         "0.48505068167747656"
        ],
        [
         "8",
         "0.4334600477485905",
         "0.3289984856649817",
         "0.8411320854887072",
         "0.361985191552314",
         "0.8115287252696511"
        ],
        [
         "9",
         "0.6083885739234854",
         "0.9037970257968119",
         "0.05764731440518722",
         "0.358669016109342",
         "0.9351984492601657"
        ],
        [
         "10",
         "0.33154446184207875",
         "0.5705169224886145",
         "0.2538014533218764",
         "0.1555945339163488",
         "0.006240066132893074"
        ],
        [
         "11",
         "0.3979776034208523",
         "0.9549853679762275",
         "0.2734132758806076",
         "0.08756382706521282",
         "0.2620857356056079"
        ],
        [
         "12",
         "0.36044781061491904",
         "0.6094448871731741",
         "0.25260899606977283",
         "0.8813011710110896",
         "0.11489400946441986"
        ],
        [
         "13",
         "0.32742965580906436",
         "0.7280035482466127",
         "0.6274341325606493",
         "0.25604718152557093",
         "0.7255534921629594"
        ],
        [
         "15",
         "0.8368514189401548",
         "0.9097216912535057",
         "0.6338509145768015",
         "0.5304511610665951",
         "0.41789449756291386"
        ],
        [
         "16",
         "0.6330259179915952",
         "0.903511036379787",
         "0.21426276639943032",
         "0.984312992394737",
         "0.8829614785033106"
        ],
        [
         "17",
         "0.5073206633169175",
         "0.8012885402082837",
         "0.5280363048756295",
         "0.5577048202599839",
         "0.9296366220826342"
        ],
        [
         "18",
         "0.5576466907510196",
         "0.8177171141511703",
         "0.30009731127995776",
         "0.7253257668543623",
         "0.6639334076861606"
        ],
        [
         "19",
         "0.3761748580540727",
         "0.3828484742950379",
         "0.93183570809371",
         "0.7333996213166747",
         "0.6857570909580553"
        ],
        [
         "21",
         "0.5381514144467441",
         "0.22615051079539195",
         "0.5057895659806649",
         "0.6605517580418035",
         "0.544597959048764"
        ],
        [
         "22",
         "0.4774785346823057",
         "0.78580986495246",
         "0.14260363154987454",
         "0.06862350697118236",
         "0.8233915121236439"
        ],
        [
         "23",
         "0.9180477114299774",
         "0.46789121610083917",
         "0.17359386710050395",
         "0.26959625758606665",
         "0.04828997428483084"
        ],
        [
         "24",
         "0.8472951264411146",
         "0.42243913721948156",
         "0.8477064327542982",
         "0.0008019177765982155",
         "0.42537164972012875"
        ],
        [
         "25",
         "0.4104327234904085",
         "0.4635643753438061",
         "0.9732329857459655",
         "0.8118155634023512",
         "0.8476010347611198"
        ],
        [
         "26",
         "0.8786789765169863",
         "0.37729197413050264",
         "0.4782546496514021",
         "0.786194151718719",
         "0.5120599735394377"
        ],
        [
         "27",
         "0.9271677118908012",
         "0.9280189623865628",
         "0.662386645477122",
         "0.0222430036152379",
         "0.840746657999188"
        ],
        [
         "28",
         "0.47412130052764034",
         "0.49020195992153437",
         "0.19122091026681842",
         "0.7634196982937272",
         "0.8358824713287692"
        ],
        [
         "29",
         "0.5218941308569045",
         "0.8079986469038756",
         "0.033113946279991424",
         "0.40441544006011454",
         "0.4080237469066125"
        ],
        [
         "30",
         "0.8127775029729067",
         "0.12919243034633177",
         "0.16363877432698293",
         "0.6257927139800216",
         "0.3571358924895338"
        ],
        [
         "32",
         "0.8504815273585464",
         "0.7383017649326737",
         "0.8770815917254969",
         "0.4323419017172335",
         "0.3765961673553846"
        ],
        [
         "33",
         "0.8219549759501485",
         "0.5658098270476897",
         "0.2509744460822516",
         "0.2895759152876848",
         "0.9650785344595394"
        ],
        [
         "34",
         "0.7382653905911539",
         "0.1505780232516668",
         "0.13124427895490776",
         "0.13896026401113903",
         "0.15371238052976444"
        ],
        [
         "36",
         "0.3569394352686076",
         "0.3758711021771578",
         "0.18462926930282242",
         "0.9252831549878989",
         "0.6635652374259207"
        ],
        [
         "37",
         "0.975814488362743",
         "0.8279909590478732",
         "0.7435047400611574",
         "0.36296186019787857",
         "0.4164776070790982"
        ],
        [
         "38",
         "0.6361891906709365",
         "0.47444124116458886",
         "0.7569230023146755",
         "0.09617400444669721",
         "0.5254634836987616"
        ],
        [
         "39",
         "0.526801673785683",
         "0.16676895603031738",
         "0.6717449636249884",
         "0.7244012581348299",
         "0.5586627354755971"
        ],
        [
         "40",
         "0.5802756159379782",
         "0.32725555396321837",
         "0.9114831781199895",
         "0.3935301477348857",
         "0.6691988531328141"
        ],
        [
         "42",
         "0.5418605721537902",
         "0.9141514244997739",
         "0.5427359665325054",
         "0.7347663855257421",
         "0.9371823705685823"
        ],
        [
         "44",
         "0.6393948257778513",
         "0.6545830468500794",
         "0.3366483579833369",
         "0.58059258581014",
         "0.8666096686591681"
        ],
        [
         "45",
         "0.5080751994061452",
         "0.13457849403263888",
         "0.887149133634012",
         "0.08741420867890248",
         "0.22464644155017044"
        ],
        [
         "46",
         "0.8644761769445809",
         "0.18507850876564247",
         "0.45246630644379393",
         "0.8521303303849866",
         "0.40769352875666875"
        ],
        [
         "48",
         "0.9760563782834688",
         "0.37964436306508387",
         "0.2300423360044337",
         "0.13552742528584616",
         "0.8200952034237892"
        ],
        [
         "51",
         "0.5339368880343472",
         "0.7255395679864679",
         "0.324221139333592",
         "0.9673230710842727",
         "0.4532568218080094"
        ],
        [
         "53",
         "0.5707053500044855",
         "0.6631523775650847",
         "0.38928954240344815",
         "0.014555149616420349",
         "0.871652728901253"
        ],
        [
         "55",
         "0.979059204949209",
         "0.6787728526859227",
         "0.8359019197817251",
         "0.1397955032799676",
         "0.06485613936832779"
        ],
        [
         "57",
         "0.8612319349936209",
         "0.6551125216952979",
         "0.42323713221630443",
         "0.9618695411606284",
         "0.47048362714468683"
        ],
        [
         "59",
         "0.8720580777257294",
         "0.8899976866452735",
         "0.6138425194307608",
         "0.010989246876621173",
         "0.7665754927602904"
        ],
        [
         "61",
         "0.3790506420338412",
         "0.3858259489682907",
         "0.7535863318931108",
         "0.6884569411444514",
         "0.016737603108012533"
        ],
        [
         "62",
         "0.5091396322397138",
         "0.889672409797429",
         "0.910784208438956",
         "0.916905141182705",
         "0.23465117555072257"
        ],
        [
         "63",
         "0.5962095941088253",
         "0.3218987422135995",
         "0.9900700531384907",
         "0.21760074568550536",
         "0.211774490795004"
        ]
       ],
       "shape": {
        "columns": 5,
        "rows": 220
       }
      },
      "text/html": [
       "<div>\n",
       "<style scoped>\n",
       "    .dataframe tbody tr th:only-of-type {\n",
       "        vertical-align: middle;\n",
       "    }\n",
       "\n",
       "    .dataframe tbody tr th {\n",
       "        vertical-align: top;\n",
       "    }\n",
       "\n",
       "    .dataframe thead th {\n",
       "        text-align: right;\n",
       "    }\n",
       "</style>\n",
       "<table border=\"1\" class=\"dataframe\">\n",
       "  <thead>\n",
       "    <tr style=\"text-align: right;\">\n",
       "      <th></th>\n",
       "      <th>0</th>\n",
       "      <th>1</th>\n",
       "      <th>2</th>\n",
       "      <th>3</th>\n",
       "      <th>4</th>\n",
       "    </tr>\n",
       "  </thead>\n",
       "  <tbody>\n",
       "    <tr>\n",
       "      <th>0</th>\n",
       "      <td>654.000000</td>\n",
       "      <td>0.100979</td>\n",
       "      <td>0.122989</td>\n",
       "      <td>0.053524</td>\n",
       "      <td>0.272694</td>\n",
       "    </tr>\n",
       "    <tr>\n",
       "      <th>1</th>\n",
       "      <td>0.863049</td>\n",
       "      <td>0.363633</td>\n",
       "      <td>0.020691</td>\n",
       "      <td>0.382749</td>\n",
       "      <td>0.837459</td>\n",
       "    </tr>\n",
       "    <tr>\n",
       "      <th>2</th>\n",
       "      <td>0.312326</td>\n",
       "      <td>0.538388</td>\n",
       "      <td>0.156099</td>\n",
       "      <td>0.245932</td>\n",
       "      <td>0.937675</td>\n",
       "    </tr>\n",
       "    <tr>\n",
       "      <th>3</th>\n",
       "      <td>0.685188</td>\n",
       "      <td>0.776812</td>\n",
       "      <td>0.081378</td>\n",
       "      <td>0.426381</td>\n",
       "      <td>0.414999</td>\n",
       "    </tr>\n",
       "    <tr>\n",
       "      <th>4</th>\n",
       "      <td>0.896616</td>\n",
       "      <td>0.156403</td>\n",
       "      <td>0.665622</td>\n",
       "      <td>0.823016</td>\n",
       "      <td>0.106313</td>\n",
       "    </tr>\n",
       "    <tr>\n",
       "      <th>...</th>\n",
       "      <td>...</td>\n",
       "      <td>...</td>\n",
       "      <td>...</td>\n",
       "      <td>...</td>\n",
       "      <td>...</td>\n",
       "    </tr>\n",
       "    <tr>\n",
       "      <th>322</th>\n",
       "      <td>0.521001</td>\n",
       "      <td>0.413250</td>\n",
       "      <td>0.381352</td>\n",
       "      <td>0.856564</td>\n",
       "      <td>0.518233</td>\n",
       "    </tr>\n",
       "    <tr>\n",
       "      <th>325</th>\n",
       "      <td>0.489795</td>\n",
       "      <td>0.469722</td>\n",
       "      <td>0.345366</td>\n",
       "      <td>0.855405</td>\n",
       "      <td>0.554681</td>\n",
       "    </tr>\n",
       "    <tr>\n",
       "      <th>326</th>\n",
       "      <td>0.625219</td>\n",
       "      <td>0.773608</td>\n",
       "      <td>0.197426</td>\n",
       "      <td>0.330262</td>\n",
       "      <td>0.151676</td>\n",
       "    </tr>\n",
       "    <tr>\n",
       "      <th>331</th>\n",
       "      <td>0.509240</td>\n",
       "      <td>0.235234</td>\n",
       "      <td>0.042370</td>\n",
       "      <td>0.009737</td>\n",
       "      <td>0.739821</td>\n",
       "    </tr>\n",
       "    <tr>\n",
       "      <th>332</th>\n",
       "      <td>0.893299</td>\n",
       "      <td>0.513266</td>\n",
       "      <td>0.351255</td>\n",
       "      <td>0.873315</td>\n",
       "      <td>0.795540</td>\n",
       "    </tr>\n",
       "  </tbody>\n",
       "</table>\n",
       "<p>220 rows × 5 columns</p>\n",
       "</div>"
      ],
      "text/plain": [
       "              0         1         2         3         4\n",
       "0    654.000000  0.100979  0.122989  0.053524  0.272694\n",
       "1      0.863049  0.363633  0.020691  0.382749  0.837459\n",
       "2      0.312326  0.538388  0.156099  0.245932  0.937675\n",
       "3      0.685188  0.776812  0.081378  0.426381  0.414999\n",
       "4      0.896616  0.156403  0.665622  0.823016  0.106313\n",
       "..          ...       ...       ...       ...       ...\n",
       "322    0.521001  0.413250  0.381352  0.856564  0.518233\n",
       "325    0.489795  0.469722  0.345366  0.855405  0.554681\n",
       "326    0.625219  0.773608  0.197426  0.330262  0.151676\n",
       "331    0.509240  0.235234  0.042370  0.009737  0.739821\n",
       "332    0.893299  0.513266  0.351255  0.873315  0.795540\n",
       "\n",
       "[220 rows x 5 columns]"
      ]
     },
     "execution_count": 29,
     "metadata": {},
     "output_type": "execute_result"
    }
   ],
   "source": [
    "newdata.loc[(newdata[0]>0.3) & (newdata[1]>0.1)]"
   ]
  },
  {
   "cell_type": "code",
   "execution_count": 30,
   "id": "0547efc7",
   "metadata": {},
   "outputs": [
    {
     "data": {
      "application/vnd.microsoft.datawrangler.viewer.v0+json": {
       "columns": [
        {
         "name": "index",
         "rawType": "int64",
         "type": "integer"
        },
        {
         "name": "0",
         "rawType": "float64",
         "type": "float"
        },
        {
         "name": "1",
         "rawType": "float64",
         "type": "float"
        },
        {
         "name": "2",
         "rawType": "float64",
         "type": "float"
        },
        {
         "name": "3",
         "rawType": "float64",
         "type": "float"
        },
        {
         "name": "4",
         "rawType": "float64",
         "type": "float"
        }
       ],
       "ref": "e18b7923-22e5-4d82-af0c-a4ea08211b0c",
       "rows": [
        [
         "0",
         "654.0",
         "0.1009787166217121",
         "0.12298902834025105",
         "0.053524046646136414",
         "0.27269356277066126"
        ],
        [
         "1",
         "0.8630491740842244",
         "0.36363327627373787",
         "0.020690814649189093",
         "0.38274861419023676",
         "0.8374589028303848"
        ]
       ],
       "shape": {
        "columns": 5,
        "rows": 2
       }
      },
      "text/html": [
       "<div>\n",
       "<style scoped>\n",
       "    .dataframe tbody tr th:only-of-type {\n",
       "        vertical-align: middle;\n",
       "    }\n",
       "\n",
       "    .dataframe tbody tr th {\n",
       "        vertical-align: top;\n",
       "    }\n",
       "\n",
       "    .dataframe thead th {\n",
       "        text-align: right;\n",
       "    }\n",
       "</style>\n",
       "<table border=\"1\" class=\"dataframe\">\n",
       "  <thead>\n",
       "    <tr style=\"text-align: right;\">\n",
       "      <th></th>\n",
       "      <th>0</th>\n",
       "      <th>1</th>\n",
       "      <th>2</th>\n",
       "      <th>3</th>\n",
       "      <th>4</th>\n",
       "    </tr>\n",
       "  </thead>\n",
       "  <tbody>\n",
       "    <tr>\n",
       "      <th>0</th>\n",
       "      <td>654.000000</td>\n",
       "      <td>0.100979</td>\n",
       "      <td>0.122989</td>\n",
       "      <td>0.053524</td>\n",
       "      <td>0.272694</td>\n",
       "    </tr>\n",
       "    <tr>\n",
       "      <th>1</th>\n",
       "      <td>0.863049</td>\n",
       "      <td>0.363633</td>\n",
       "      <td>0.020691</td>\n",
       "      <td>0.382749</td>\n",
       "      <td>0.837459</td>\n",
       "    </tr>\n",
       "  </tbody>\n",
       "</table>\n",
       "</div>"
      ],
      "text/plain": [
       "            0         1         2         3         4\n",
       "0  654.000000  0.100979  0.122989  0.053524  0.272694\n",
       "1    0.863049  0.363633  0.020691  0.382749  0.837459"
      ]
     },
     "execution_count": 30,
     "metadata": {},
     "output_type": "execute_result"
    }
   ],
   "source": [
    "newdata.head(2)"
   ]
  },
  {
   "cell_type": "code",
   "execution_count": 31,
   "id": "2e1f73f9",
   "metadata": {},
   "outputs": [
    {
     "data": {
      "text/plain": [
       "np.float64(0.27269356277066126)"
      ]
     },
     "execution_count": 31,
     "metadata": {},
     "output_type": "execute_result"
    }
   ],
   "source": [
    "newdata.iloc[0,4]"
   ]
  },
  {
   "cell_type": "code",
   "execution_count": 32,
   "id": "4bf4b4b1",
   "metadata": {},
   "outputs": [],
   "source": [
    "newdata.drop([1],axis=1,inplace=True)"
   ]
  },
  {
   "cell_type": "code",
   "execution_count": 33,
   "id": "7b57a6c0",
   "metadata": {},
   "outputs": [
    {
     "data": {
      "application/vnd.microsoft.datawrangler.viewer.v0+json": {
       "columns": [
        {
         "name": "index",
         "rawType": "int64",
         "type": "integer"
        },
        {
         "name": "0",
         "rawType": "float64",
         "type": "float"
        },
        {
         "name": "2",
         "rawType": "float64",
         "type": "float"
        },
        {
         "name": "3",
         "rawType": "float64",
         "type": "float"
        },
        {
         "name": "4",
         "rawType": "float64",
         "type": "float"
        }
       ],
       "ref": "eae6bd8f-5e84-4415-bc65-4c610d0d501e",
       "rows": [
        [
         "0",
         "654.0",
         "0.12298902834025105",
         "0.053524046646136414",
         "0.27269356277066126"
        ],
        [
         "1",
         "0.8630491740842244",
         "0.020690814649189093",
         "0.38274861419023676",
         "0.8374589028303848"
        ],
        [
         "2",
         "0.31232561946278126",
         "0.1560992586685076",
         "0.24593233483456234",
         "0.9376752815470363"
        ],
        [
         "3",
         "0.685187974445353",
         "0.08137759649970067",
         "0.4263811330799492",
         "0.41499853470547576"
        ],
        [
         "4",
         "0.8966159436263471",
         "0.6656222122168985",
         "0.8230157600459596",
         "0.10631310727274446"
        ],
        [
         "5",
         "0.7390569612088024",
         "0.5594232582776459",
         "0.001784909367823273",
         "0.2561692067479948"
        ],
        [
         "6",
         "0.833491701504404",
         "0.1493625962629822",
         "0.8481759627063598",
         "0.0786648427947726"
        ],
        [
         "7",
         "0.36916206277243835",
         "0.04093870487643558",
         "0.4327742372600266",
         "0.48505068167747656"
        ],
        [
         "8",
         "0.4334600477485905",
         "0.8411320854887072",
         "0.361985191552314",
         "0.8115287252696511"
        ],
        [
         "9",
         "0.6083885739234854",
         "0.05764731440518722",
         "0.358669016109342",
         "0.9351984492601657"
        ],
        [
         "10",
         "0.33154446184207875",
         "0.2538014533218764",
         "0.1555945339163488",
         "0.006240066132893074"
        ],
        [
         "11",
         "0.3979776034208523",
         "0.2734132758806076",
         "0.08756382706521282",
         "0.2620857356056079"
        ],
        [
         "12",
         "0.36044781061491904",
         "0.25260899606977283",
         "0.8813011710110896",
         "0.11489400946441986"
        ],
        [
         "13",
         "0.32742965580906436",
         "0.6274341325606493",
         "0.25604718152557093",
         "0.7255534921629594"
        ],
        [
         "14",
         "0.1915681471421693",
         "0.6604727454735161",
         "0.41931825398204636",
         "0.0224241405904263"
        ],
        [
         "15",
         "0.8368514189401548",
         "0.6338509145768015",
         "0.5304511610665951",
         "0.41789449756291386"
        ],
        [
         "16",
         "0.6330259179915952",
         "0.21426276639943032",
         "0.984312992394737",
         "0.8829614785033106"
        ],
        [
         "17",
         "0.5073206633169175",
         "0.5280363048756295",
         "0.5577048202599839",
         "0.9296366220826342"
        ],
        [
         "18",
         "0.5576466907510196",
         "0.30009731127995776",
         "0.7253257668543623",
         "0.6639334076861606"
        ],
        [
         "19",
         "0.3761748580540727",
         "0.93183570809371",
         "0.7333996213166747",
         "0.6857570909580553"
        ],
        [
         "20",
         "0.10806982537451126",
         "0.5575163233189622",
         "0.5776115618405828",
         "0.5158766294723538"
        ],
        [
         "21",
         "0.5381514144467441",
         "0.5057895659806649",
         "0.6605517580418035",
         "0.544597959048764"
        ],
        [
         "22",
         "0.4774785346823057",
         "0.14260363154987454",
         "0.06862350697118236",
         "0.8233915121236439"
        ],
        [
         "23",
         "0.9180477114299774",
         "0.17359386710050395",
         "0.26959625758606665",
         "0.04828997428483084"
        ],
        [
         "24",
         "0.8472951264411146",
         "0.8477064327542982",
         "0.0008019177765982155",
         "0.42537164972012875"
        ],
        [
         "25",
         "0.4104327234904085",
         "0.9732329857459655",
         "0.8118155634023512",
         "0.8476010347611198"
        ],
        [
         "26",
         "0.8786789765169863",
         "0.4782546496514021",
         "0.786194151718719",
         "0.5120599735394377"
        ],
        [
         "27",
         "0.9271677118908012",
         "0.662386645477122",
         "0.0222430036152379",
         "0.840746657999188"
        ],
        [
         "28",
         "0.47412130052764034",
         "0.19122091026681842",
         "0.7634196982937272",
         "0.8358824713287692"
        ],
        [
         "29",
         "0.5218941308569045",
         "0.033113946279991424",
         "0.40441544006011454",
         "0.4080237469066125"
        ],
        [
         "30",
         "0.8127775029729067",
         "0.16363877432698293",
         "0.6257927139800216",
         "0.3571358924895338"
        ],
        [
         "31",
         "0.2350234278947626",
         "0.7517965254459437",
         "0.900301782747231",
         "0.28806515965107615"
        ],
        [
         "32",
         "0.8504815273585464",
         "0.8770815917254969",
         "0.4323419017172335",
         "0.3765961673553846"
        ],
        [
         "33",
         "0.8219549759501485",
         "0.2509744460822516",
         "0.2895759152876848",
         "0.9650785344595394"
        ],
        [
         "34",
         "0.7382653905911539",
         "0.13124427895490776",
         "0.13896026401113903",
         "0.15371238052976444"
        ],
        [
         "35",
         "0.1635878241280858",
         "0.9029189674659492",
         "0.14817408510283103",
         "0.02275465987531866"
        ],
        [
         "36",
         "0.3569394352686076",
         "0.18462926930282242",
         "0.9252831549878989",
         "0.6635652374259207"
        ],
        [
         "37",
         "0.975814488362743",
         "0.7435047400611574",
         "0.36296186019787857",
         "0.4164776070790982"
        ],
        [
         "38",
         "0.6361891906709365",
         "0.7569230023146755",
         "0.09617400444669721",
         "0.5254634836987616"
        ],
        [
         "39",
         "0.526801673785683",
         "0.6717449636249884",
         "0.7244012581348299",
         "0.5586627354755971"
        ],
        [
         "40",
         "0.5802756159379782",
         "0.9114831781199895",
         "0.3935301477348857",
         "0.6691988531328141"
        ],
        [
         "41",
         "0.8454616778981281",
         "0.6295251417226939",
         "0.9432212006610349",
         "0.6613211248961927"
        ],
        [
         "42",
         "0.5418605721537902",
         "0.5427359665325054",
         "0.7347663855257421",
         "0.9371823705685823"
        ],
        [
         "43",
         "0.2495134540522197",
         "0.6597501496988588",
         "0.6803209455198972",
         "0.937009353610773"
        ],
        [
         "44",
         "0.6393948257778513",
         "0.3366483579833369",
         "0.58059258581014",
         "0.8666096686591681"
        ],
        [
         "45",
         "0.5080751994061452",
         "0.887149133634012",
         "0.08741420867890248",
         "0.22464644155017044"
        ],
        [
         "46",
         "0.8644761769445809",
         "0.45246630644379393",
         "0.8521303303849866",
         "0.40769352875666875"
        ],
        [
         "47",
         "0.9514904380149106",
         "0.9113912271762327",
         "0.3800896607328106",
         "0.8092901637700567"
        ],
        [
         "48",
         "0.9760563782834688",
         "0.2300423360044337",
         "0.13552742528584616",
         "0.8200952034237892"
        ],
        [
         "49",
         "0.7443145013899632",
         "0.5666638773445167",
         "0.048393125950686344",
         "0.5835859218282372"
        ]
       ],
       "shape": {
        "columns": 4,
        "rows": 334
       }
      },
      "text/html": [
       "<div>\n",
       "<style scoped>\n",
       "    .dataframe tbody tr th:only-of-type {\n",
       "        vertical-align: middle;\n",
       "    }\n",
       "\n",
       "    .dataframe tbody tr th {\n",
       "        vertical-align: top;\n",
       "    }\n",
       "\n",
       "    .dataframe thead th {\n",
       "        text-align: right;\n",
       "    }\n",
       "</style>\n",
       "<table border=\"1\" class=\"dataframe\">\n",
       "  <thead>\n",
       "    <tr style=\"text-align: right;\">\n",
       "      <th></th>\n",
       "      <th>0</th>\n",
       "      <th>2</th>\n",
       "      <th>3</th>\n",
       "      <th>4</th>\n",
       "    </tr>\n",
       "  </thead>\n",
       "  <tbody>\n",
       "    <tr>\n",
       "      <th>0</th>\n",
       "      <td>654.000000</td>\n",
       "      <td>0.122989</td>\n",
       "      <td>0.053524</td>\n",
       "      <td>0.272694</td>\n",
       "    </tr>\n",
       "    <tr>\n",
       "      <th>1</th>\n",
       "      <td>0.863049</td>\n",
       "      <td>0.020691</td>\n",
       "      <td>0.382749</td>\n",
       "      <td>0.837459</td>\n",
       "    </tr>\n",
       "    <tr>\n",
       "      <th>2</th>\n",
       "      <td>0.312326</td>\n",
       "      <td>0.156099</td>\n",
       "      <td>0.245932</td>\n",
       "      <td>0.937675</td>\n",
       "    </tr>\n",
       "    <tr>\n",
       "      <th>3</th>\n",
       "      <td>0.685188</td>\n",
       "      <td>0.081378</td>\n",
       "      <td>0.426381</td>\n",
       "      <td>0.414999</td>\n",
       "    </tr>\n",
       "    <tr>\n",
       "      <th>4</th>\n",
       "      <td>0.896616</td>\n",
       "      <td>0.665622</td>\n",
       "      <td>0.823016</td>\n",
       "      <td>0.106313</td>\n",
       "    </tr>\n",
       "    <tr>\n",
       "      <th>...</th>\n",
       "      <td>...</td>\n",
       "      <td>...</td>\n",
       "      <td>...</td>\n",
       "      <td>...</td>\n",
       "    </tr>\n",
       "    <tr>\n",
       "      <th>329</th>\n",
       "      <td>0.299391</td>\n",
       "      <td>0.279935</td>\n",
       "      <td>0.049471</td>\n",
       "      <td>0.545110</td>\n",
       "    </tr>\n",
       "    <tr>\n",
       "      <th>330</th>\n",
       "      <td>0.896023</td>\n",
       "      <td>0.781666</td>\n",
       "      <td>0.806833</td>\n",
       "      <td>0.386779</td>\n",
       "    </tr>\n",
       "    <tr>\n",
       "      <th>331</th>\n",
       "      <td>0.509240</td>\n",
       "      <td>0.042370</td>\n",
       "      <td>0.009737</td>\n",
       "      <td>0.739821</td>\n",
       "    </tr>\n",
       "    <tr>\n",
       "      <th>332</th>\n",
       "      <td>0.893299</td>\n",
       "      <td>0.351255</td>\n",
       "      <td>0.873315</td>\n",
       "      <td>0.795540</td>\n",
       "    </tr>\n",
       "    <tr>\n",
       "      <th>333</th>\n",
       "      <td>0.308398</td>\n",
       "      <td>0.271973</td>\n",
       "      <td>0.267061</td>\n",
       "      <td>0.801615</td>\n",
       "    </tr>\n",
       "  </tbody>\n",
       "</table>\n",
       "<p>334 rows × 4 columns</p>\n",
       "</div>"
      ],
      "text/plain": [
       "              0         2         3         4\n",
       "0    654.000000  0.122989  0.053524  0.272694\n",
       "1      0.863049  0.020691  0.382749  0.837459\n",
       "2      0.312326  0.156099  0.245932  0.937675\n",
       "3      0.685188  0.081378  0.426381  0.414999\n",
       "4      0.896616  0.665622  0.823016  0.106313\n",
       "..          ...       ...       ...       ...\n",
       "329    0.299391  0.279935  0.049471  0.545110\n",
       "330    0.896023  0.781666  0.806833  0.386779\n",
       "331    0.509240  0.042370  0.009737  0.739821\n",
       "332    0.893299  0.351255  0.873315  0.795540\n",
       "333    0.308398  0.271973  0.267061  0.801615\n",
       "\n",
       "[334 rows x 4 columns]"
      ]
     },
     "execution_count": 33,
     "metadata": {},
     "output_type": "execute_result"
    }
   ],
   "source": [
    "newdata"
   ]
  },
  {
   "cell_type": "code",
   "execution_count": 34,
   "id": "0b2a6430",
   "metadata": {},
   "outputs": [
    {
     "data": {
      "application/vnd.microsoft.datawrangler.viewer.v0+json": {
       "columns": [
        {
         "name": "index",
         "rawType": "int64",
         "type": "integer"
        },
        {
         "name": "0",
         "rawType": "float64",
         "type": "float"
        },
        {
         "name": "2",
         "rawType": "float64",
         "type": "float"
        },
        {
         "name": "3",
         "rawType": "float64",
         "type": "float"
        },
        {
         "name": "4",
         "rawType": "float64",
         "type": "float"
        }
       ],
       "ref": "9e090ea8-56cf-4826-a14e-fb18bb226925",
       "rows": [
        [
         "0",
         "654.0",
         "0.12298902834025105",
         "0.053524046646136414",
         "0.27269356277066126"
        ],
        [
         "1",
         "0.8630491740842244",
         "0.020690814649189093",
         "0.38274861419023676",
         "0.8374589028303848"
        ],
        [
         "2",
         "0.31232561946278126",
         "0.1560992586685076",
         "0.24593233483456234",
         "0.9376752815470363"
        ],
        [
         "3",
         "0.685187974445353",
         "0.08137759649970067",
         "0.4263811330799492",
         "0.41499853470547576"
        ],
        [
         "4",
         "0.8966159436263471",
         "0.6656222122168985",
         "0.8230157600459596",
         "0.10631310727274446"
        ],
        [
         "5",
         "0.7390569612088024",
         "0.5594232582776459",
         "0.001784909367823273",
         "0.2561692067479948"
        ],
        [
         "6",
         "0.833491701504404",
         "0.1493625962629822",
         "0.8481759627063598",
         "0.0786648427947726"
        ],
        [
         "7",
         "0.36916206277243835",
         "0.04093870487643558",
         "0.4327742372600266",
         "0.48505068167747656"
        ],
        [
         "8",
         "0.4334600477485905",
         "0.8411320854887072",
         "0.361985191552314",
         "0.8115287252696511"
        ],
        [
         "9",
         "0.6083885739234854",
         "0.05764731440518722",
         "0.358669016109342",
         "0.9351984492601657"
        ],
        [
         "10",
         "0.33154446184207875",
         "0.2538014533218764",
         "0.1555945339163488",
         "0.006240066132893074"
        ],
        [
         "11",
         "0.3979776034208523",
         "0.2734132758806076",
         "0.08756382706521282",
         "0.2620857356056079"
        ],
        [
         "12",
         "0.36044781061491904",
         "0.25260899606977283",
         "0.8813011710110896",
         "0.11489400946441986"
        ],
        [
         "13",
         "0.32742965580906436",
         "0.6274341325606493",
         "0.25604718152557093",
         "0.7255534921629594"
        ],
        [
         "14",
         "0.1915681471421693",
         "0.6604727454735161",
         "0.41931825398204636",
         "0.0224241405904263"
        ],
        [
         "15",
         "0.8368514189401548",
         "0.6338509145768015",
         "0.5304511610665951",
         "0.41789449756291386"
        ],
        [
         "16",
         "0.6330259179915952",
         "0.21426276639943032",
         "0.984312992394737",
         "0.8829614785033106"
        ],
        [
         "17",
         "0.5073206633169175",
         "0.5280363048756295",
         "0.5577048202599839",
         "0.9296366220826342"
        ],
        [
         "18",
         "0.5576466907510196",
         "0.30009731127995776",
         "0.7253257668543623",
         "0.6639334076861606"
        ],
        [
         "19",
         "0.3761748580540727",
         "0.93183570809371",
         "0.7333996213166747",
         "0.6857570909580553"
        ],
        [
         "20",
         "0.10806982537451126",
         "0.5575163233189622",
         "0.5776115618405828",
         "0.5158766294723538"
        ],
        [
         "21",
         "0.5381514144467441",
         "0.5057895659806649",
         "0.6605517580418035",
         "0.544597959048764"
        ],
        [
         "22",
         "0.4774785346823057",
         "0.14260363154987454",
         "0.06862350697118236",
         "0.8233915121236439"
        ],
        [
         "23",
         "0.9180477114299774",
         "0.17359386710050395",
         "0.26959625758606665",
         "0.04828997428483084"
        ],
        [
         "24",
         "0.8472951264411146",
         "0.8477064327542982",
         "0.0008019177765982155",
         "0.42537164972012875"
        ],
        [
         "25",
         "0.4104327234904085",
         "0.9732329857459655",
         "0.8118155634023512",
         "0.8476010347611198"
        ],
        [
         "26",
         "0.8786789765169863",
         "0.4782546496514021",
         "0.786194151718719",
         "0.5120599735394377"
        ],
        [
         "27",
         "0.9271677118908012",
         "0.662386645477122",
         "0.0222430036152379",
         "0.840746657999188"
        ],
        [
         "28",
         "0.47412130052764034",
         "0.19122091026681842",
         "0.7634196982937272",
         "0.8358824713287692"
        ],
        [
         "29",
         "0.5218941308569045",
         "0.033113946279991424",
         "0.40441544006011454",
         "0.4080237469066125"
        ],
        [
         "30",
         "0.8127775029729067",
         "0.16363877432698293",
         "0.6257927139800216",
         "0.3571358924895338"
        ],
        [
         "31",
         "0.2350234278947626",
         "0.7517965254459437",
         "0.900301782747231",
         "0.28806515965107615"
        ],
        [
         "32",
         "0.8504815273585464",
         "0.8770815917254969",
         "0.4323419017172335",
         "0.3765961673553846"
        ],
        [
         "33",
         "0.8219549759501485",
         "0.2509744460822516",
         "0.2895759152876848",
         "0.9650785344595394"
        ],
        [
         "34",
         "0.7382653905911539",
         "0.13124427895490776",
         "0.13896026401113903",
         "0.15371238052976444"
        ],
        [
         "35",
         "0.1635878241280858",
         "0.9029189674659492",
         "0.14817408510283103",
         "0.02275465987531866"
        ],
        [
         "36",
         "0.3569394352686076",
         "0.18462926930282242",
         "0.9252831549878989",
         "0.6635652374259207"
        ],
        [
         "37",
         "0.975814488362743",
         "0.7435047400611574",
         "0.36296186019787857",
         "0.4164776070790982"
        ],
        [
         "38",
         "0.6361891906709365",
         "0.7569230023146755",
         "0.09617400444669721",
         "0.5254634836987616"
        ],
        [
         "39",
         "0.526801673785683",
         "0.6717449636249884",
         "0.7244012581348299",
         "0.5586627354755971"
        ],
        [
         "40",
         "0.5802756159379782",
         "0.9114831781199895",
         "0.3935301477348857",
         "0.6691988531328141"
        ],
        [
         "41",
         "0.8454616778981281",
         "0.6295251417226939",
         "0.9432212006610349",
         "0.6613211248961927"
        ],
        [
         "42",
         "0.5418605721537902",
         "0.5427359665325054",
         "0.7347663855257421",
         "0.9371823705685823"
        ],
        [
         "43",
         "0.2495134540522197",
         "0.6597501496988588",
         "0.6803209455198972",
         "0.937009353610773"
        ],
        [
         "44",
         "0.6393948257778513",
         "0.3366483579833369",
         "0.58059258581014",
         "0.8666096686591681"
        ],
        [
         "45",
         "0.5080751994061452",
         "0.887149133634012",
         "0.08741420867890248",
         "0.22464644155017044"
        ],
        [
         "46",
         "0.8644761769445809",
         "0.45246630644379393",
         "0.8521303303849866",
         "0.40769352875666875"
        ],
        [
         "47",
         "0.9514904380149106",
         "0.9113912271762327",
         "0.3800896607328106",
         "0.8092901637700567"
        ],
        [
         "48",
         "0.9760563782834688",
         "0.2300423360044337",
         "0.13552742528584616",
         "0.8200952034237892"
        ],
        [
         "49",
         "0.7443145013899632",
         "0.5666638773445167",
         "0.048393125950686344",
         "0.5835859218282372"
        ]
       ],
       "shape": {
        "columns": 4,
        "rows": 334
       }
      },
      "text/html": [
       "<div>\n",
       "<style scoped>\n",
       "    .dataframe tbody tr th:only-of-type {\n",
       "        vertical-align: middle;\n",
       "    }\n",
       "\n",
       "    .dataframe tbody tr th {\n",
       "        vertical-align: top;\n",
       "    }\n",
       "\n",
       "    .dataframe thead th {\n",
       "        text-align: right;\n",
       "    }\n",
       "</style>\n",
       "<table border=\"1\" class=\"dataframe\">\n",
       "  <thead>\n",
       "    <tr style=\"text-align: right;\">\n",
       "      <th></th>\n",
       "      <th>0</th>\n",
       "      <th>2</th>\n",
       "      <th>3</th>\n",
       "      <th>4</th>\n",
       "    </tr>\n",
       "  </thead>\n",
       "  <tbody>\n",
       "    <tr>\n",
       "      <th>0</th>\n",
       "      <td>654.000000</td>\n",
       "      <td>0.122989</td>\n",
       "      <td>0.053524</td>\n",
       "      <td>0.272694</td>\n",
       "    </tr>\n",
       "    <tr>\n",
       "      <th>1</th>\n",
       "      <td>0.863049</td>\n",
       "      <td>0.020691</td>\n",
       "      <td>0.382749</td>\n",
       "      <td>0.837459</td>\n",
       "    </tr>\n",
       "    <tr>\n",
       "      <th>2</th>\n",
       "      <td>0.312326</td>\n",
       "      <td>0.156099</td>\n",
       "      <td>0.245932</td>\n",
       "      <td>0.937675</td>\n",
       "    </tr>\n",
       "    <tr>\n",
       "      <th>3</th>\n",
       "      <td>0.685188</td>\n",
       "      <td>0.081378</td>\n",
       "      <td>0.426381</td>\n",
       "      <td>0.414999</td>\n",
       "    </tr>\n",
       "    <tr>\n",
       "      <th>4</th>\n",
       "      <td>0.896616</td>\n",
       "      <td>0.665622</td>\n",
       "      <td>0.823016</td>\n",
       "      <td>0.106313</td>\n",
       "    </tr>\n",
       "    <tr>\n",
       "      <th>...</th>\n",
       "      <td>...</td>\n",
       "      <td>...</td>\n",
       "      <td>...</td>\n",
       "      <td>...</td>\n",
       "    </tr>\n",
       "    <tr>\n",
       "      <th>329</th>\n",
       "      <td>0.299391</td>\n",
       "      <td>0.279935</td>\n",
       "      <td>0.049471</td>\n",
       "      <td>0.545110</td>\n",
       "    </tr>\n",
       "    <tr>\n",
       "      <th>330</th>\n",
       "      <td>0.896023</td>\n",
       "      <td>0.781666</td>\n",
       "      <td>0.806833</td>\n",
       "      <td>0.386779</td>\n",
       "    </tr>\n",
       "    <tr>\n",
       "      <th>331</th>\n",
       "      <td>0.509240</td>\n",
       "      <td>0.042370</td>\n",
       "      <td>0.009737</td>\n",
       "      <td>0.739821</td>\n",
       "    </tr>\n",
       "    <tr>\n",
       "      <th>332</th>\n",
       "      <td>0.893299</td>\n",
       "      <td>0.351255</td>\n",
       "      <td>0.873315</td>\n",
       "      <td>0.795540</td>\n",
       "    </tr>\n",
       "    <tr>\n",
       "      <th>333</th>\n",
       "      <td>0.308398</td>\n",
       "      <td>0.271973</td>\n",
       "      <td>0.267061</td>\n",
       "      <td>0.801615</td>\n",
       "    </tr>\n",
       "  </tbody>\n",
       "</table>\n",
       "<p>334 rows × 4 columns</p>\n",
       "</div>"
      ],
      "text/plain": [
       "              0         2         3         4\n",
       "0    654.000000  0.122989  0.053524  0.272694\n",
       "1      0.863049  0.020691  0.382749  0.837459\n",
       "2      0.312326  0.156099  0.245932  0.937675\n",
       "3      0.685188  0.081378  0.426381  0.414999\n",
       "4      0.896616  0.665622  0.823016  0.106313\n",
       "..          ...       ...       ...       ...\n",
       "329    0.299391  0.279935  0.049471  0.545110\n",
       "330    0.896023  0.781666  0.806833  0.386779\n",
       "331    0.509240  0.042370  0.009737  0.739821\n",
       "332    0.893299  0.351255  0.873315  0.795540\n",
       "333    0.308398  0.271973  0.267061  0.801615\n",
       "\n",
       "[334 rows x 4 columns]"
      ]
     },
     "execution_count": 34,
     "metadata": {},
     "output_type": "execute_result"
    }
   ],
   "source": [
    "newdata.reset_index(drop=True)"
   ]
  },
  {
   "cell_type": "code",
   "execution_count": 35,
   "id": "e5ba8958",
   "metadata": {},
   "outputs": [
    {
     "data": {
      "application/vnd.microsoft.datawrangler.viewer.v0+json": {
       "columns": [
        {
         "name": "index",
         "rawType": "int64",
         "type": "integer"
        },
        {
         "name": "0",
         "rawType": "float64",
         "type": "float"
        },
        {
         "name": "2",
         "rawType": "float64",
         "type": "float"
        },
        {
         "name": "3",
         "rawType": "float64",
         "type": "float"
        },
        {
         "name": "4",
         "rawType": "float64",
         "type": "float"
        }
       ],
       "ref": "d077e4ee-98bd-4d01-a442-e7d4f3200065",
       "rows": [
        [
         "0",
         "654.0",
         "0.12298902834025105",
         "0.053524046646136414",
         "0.27269356277066126"
        ],
        [
         "1",
         "0.8630491740842244",
         "0.020690814649189093",
         "0.38274861419023676",
         "0.8374589028303848"
        ],
        [
         "2",
         "0.31232561946278126",
         "0.1560992586685076",
         "0.24593233483456234",
         "0.9376752815470363"
        ],
        [
         "3",
         "0.685187974445353",
         "0.08137759649970067",
         "0.4263811330799492",
         "0.41499853470547576"
        ],
        [
         "4",
         "0.8966159436263471",
         "0.6656222122168985",
         "0.8230157600459596",
         "0.10631310727274446"
        ],
        [
         "5",
         "0.7390569612088024",
         "0.5594232582776459",
         "0.001784909367823273",
         "0.2561692067479948"
        ],
        [
         "6",
         "0.833491701504404",
         "0.1493625962629822",
         "0.8481759627063598",
         "0.0786648427947726"
        ],
        [
         "7",
         "0.36916206277243835",
         "0.04093870487643558",
         "0.4327742372600266",
         "0.48505068167747656"
        ],
        [
         "8",
         "0.4334600477485905",
         "0.8411320854887072",
         "0.361985191552314",
         "0.8115287252696511"
        ],
        [
         "9",
         "0.6083885739234854",
         "0.05764731440518722",
         "0.358669016109342",
         "0.9351984492601657"
        ],
        [
         "10",
         "0.33154446184207875",
         "0.2538014533218764",
         "0.1555945339163488",
         "0.006240066132893074"
        ],
        [
         "11",
         "0.3979776034208523",
         "0.2734132758806076",
         "0.08756382706521282",
         "0.2620857356056079"
        ],
        [
         "12",
         "0.36044781061491904",
         "0.25260899606977283",
         "0.8813011710110896",
         "0.11489400946441986"
        ],
        [
         "13",
         "0.32742965580906436",
         "0.6274341325606493",
         "0.25604718152557093",
         "0.7255534921629594"
        ],
        [
         "14",
         "0.1915681471421693",
         "0.6604727454735161",
         "0.41931825398204636",
         "0.0224241405904263"
        ],
        [
         "15",
         "0.8368514189401548",
         "0.6338509145768015",
         "0.5304511610665951",
         "0.41789449756291386"
        ],
        [
         "16",
         "0.6330259179915952",
         "0.21426276639943032",
         "0.984312992394737",
         "0.8829614785033106"
        ],
        [
         "17",
         "0.5073206633169175",
         "0.5280363048756295",
         "0.5577048202599839",
         "0.9296366220826342"
        ],
        [
         "18",
         "0.5576466907510196",
         "0.30009731127995776",
         "0.7253257668543623",
         "0.6639334076861606"
        ],
        [
         "19",
         "0.3761748580540727",
         "0.93183570809371",
         "0.7333996213166747",
         "0.6857570909580553"
        ],
        [
         "20",
         "0.10806982537451126",
         "0.5575163233189622",
         "0.5776115618405828",
         "0.5158766294723538"
        ],
        [
         "21",
         "0.5381514144467441",
         "0.5057895659806649",
         "0.6605517580418035",
         "0.544597959048764"
        ],
        [
         "22",
         "0.4774785346823057",
         "0.14260363154987454",
         "0.06862350697118236",
         "0.8233915121236439"
        ],
        [
         "23",
         "0.9180477114299774",
         "0.17359386710050395",
         "0.26959625758606665",
         "0.04828997428483084"
        ],
        [
         "24",
         "0.8472951264411146",
         "0.8477064327542982",
         "0.0008019177765982155",
         "0.42537164972012875"
        ],
        [
         "25",
         "0.4104327234904085",
         "0.9732329857459655",
         "0.8118155634023512",
         "0.8476010347611198"
        ],
        [
         "26",
         "0.8786789765169863",
         "0.4782546496514021",
         "0.786194151718719",
         "0.5120599735394377"
        ],
        [
         "27",
         "0.9271677118908012",
         "0.662386645477122",
         "0.0222430036152379",
         "0.840746657999188"
        ],
        [
         "28",
         "0.47412130052764034",
         "0.19122091026681842",
         "0.7634196982937272",
         "0.8358824713287692"
        ],
        [
         "29",
         "0.5218941308569045",
         "0.033113946279991424",
         "0.40441544006011454",
         "0.4080237469066125"
        ],
        [
         "30",
         "0.8127775029729067",
         "0.16363877432698293",
         "0.6257927139800216",
         "0.3571358924895338"
        ],
        [
         "31",
         "0.2350234278947626",
         "0.7517965254459437",
         "0.900301782747231",
         "0.28806515965107615"
        ],
        [
         "32",
         "0.8504815273585464",
         "0.8770815917254969",
         "0.4323419017172335",
         "0.3765961673553846"
        ],
        [
         "33",
         "0.8219549759501485",
         "0.2509744460822516",
         "0.2895759152876848",
         "0.9650785344595394"
        ],
        [
         "34",
         "0.7382653905911539",
         "0.13124427895490776",
         "0.13896026401113903",
         "0.15371238052976444"
        ],
        [
         "35",
         "0.1635878241280858",
         "0.9029189674659492",
         "0.14817408510283103",
         "0.02275465987531866"
        ],
        [
         "36",
         "0.3569394352686076",
         "0.18462926930282242",
         "0.9252831549878989",
         "0.6635652374259207"
        ],
        [
         "37",
         "0.975814488362743",
         "0.7435047400611574",
         "0.36296186019787857",
         "0.4164776070790982"
        ],
        [
         "38",
         "0.6361891906709365",
         "0.7569230023146755",
         "0.09617400444669721",
         "0.5254634836987616"
        ],
        [
         "39",
         "0.526801673785683",
         "0.6717449636249884",
         "0.7244012581348299",
         "0.5586627354755971"
        ],
        [
         "40",
         "0.5802756159379782",
         "0.9114831781199895",
         "0.3935301477348857",
         "0.6691988531328141"
        ],
        [
         "41",
         "0.8454616778981281",
         "0.6295251417226939",
         "0.9432212006610349",
         "0.6613211248961927"
        ],
        [
         "42",
         "0.5418605721537902",
         "0.5427359665325054",
         "0.7347663855257421",
         "0.9371823705685823"
        ],
        [
         "43",
         "0.2495134540522197",
         "0.6597501496988588",
         "0.6803209455198972",
         "0.937009353610773"
        ],
        [
         "44",
         "0.6393948257778513",
         "0.3366483579833369",
         "0.58059258581014",
         "0.8666096686591681"
        ],
        [
         "45",
         "0.5080751994061452",
         "0.887149133634012",
         "0.08741420867890248",
         "0.22464644155017044"
        ],
        [
         "46",
         "0.8644761769445809",
         "0.45246630644379393",
         "0.8521303303849866",
         "0.40769352875666875"
        ],
        [
         "47",
         "0.9514904380149106",
         "0.9113912271762327",
         "0.3800896607328106",
         "0.8092901637700567"
        ],
        [
         "48",
         "0.9760563782834688",
         "0.2300423360044337",
         "0.13552742528584616",
         "0.8200952034237892"
        ],
        [
         "49",
         "0.7443145013899632",
         "0.5666638773445167",
         "0.048393125950686344",
         "0.5835859218282372"
        ]
       ],
       "shape": {
        "columns": 4,
        "rows": 334
       }
      },
      "text/html": [
       "<div>\n",
       "<style scoped>\n",
       "    .dataframe tbody tr th:only-of-type {\n",
       "        vertical-align: middle;\n",
       "    }\n",
       "\n",
       "    .dataframe tbody tr th {\n",
       "        vertical-align: top;\n",
       "    }\n",
       "\n",
       "    .dataframe thead th {\n",
       "        text-align: right;\n",
       "    }\n",
       "</style>\n",
       "<table border=\"1\" class=\"dataframe\">\n",
       "  <thead>\n",
       "    <tr style=\"text-align: right;\">\n",
       "      <th></th>\n",
       "      <th>0</th>\n",
       "      <th>2</th>\n",
       "      <th>3</th>\n",
       "      <th>4</th>\n",
       "    </tr>\n",
       "  </thead>\n",
       "  <tbody>\n",
       "    <tr>\n",
       "      <th>0</th>\n",
       "      <td>654.000000</td>\n",
       "      <td>0.122989</td>\n",
       "      <td>0.053524</td>\n",
       "      <td>0.272694</td>\n",
       "    </tr>\n",
       "    <tr>\n",
       "      <th>1</th>\n",
       "      <td>0.863049</td>\n",
       "      <td>0.020691</td>\n",
       "      <td>0.382749</td>\n",
       "      <td>0.837459</td>\n",
       "    </tr>\n",
       "    <tr>\n",
       "      <th>2</th>\n",
       "      <td>0.312326</td>\n",
       "      <td>0.156099</td>\n",
       "      <td>0.245932</td>\n",
       "      <td>0.937675</td>\n",
       "    </tr>\n",
       "    <tr>\n",
       "      <th>3</th>\n",
       "      <td>0.685188</td>\n",
       "      <td>0.081378</td>\n",
       "      <td>0.426381</td>\n",
       "      <td>0.414999</td>\n",
       "    </tr>\n",
       "    <tr>\n",
       "      <th>4</th>\n",
       "      <td>0.896616</td>\n",
       "      <td>0.665622</td>\n",
       "      <td>0.823016</td>\n",
       "      <td>0.106313</td>\n",
       "    </tr>\n",
       "    <tr>\n",
       "      <th>...</th>\n",
       "      <td>...</td>\n",
       "      <td>...</td>\n",
       "      <td>...</td>\n",
       "      <td>...</td>\n",
       "    </tr>\n",
       "    <tr>\n",
       "      <th>329</th>\n",
       "      <td>0.299391</td>\n",
       "      <td>0.279935</td>\n",
       "      <td>0.049471</td>\n",
       "      <td>0.545110</td>\n",
       "    </tr>\n",
       "    <tr>\n",
       "      <th>330</th>\n",
       "      <td>0.896023</td>\n",
       "      <td>0.781666</td>\n",
       "      <td>0.806833</td>\n",
       "      <td>0.386779</td>\n",
       "    </tr>\n",
       "    <tr>\n",
       "      <th>331</th>\n",
       "      <td>0.509240</td>\n",
       "      <td>0.042370</td>\n",
       "      <td>0.009737</td>\n",
       "      <td>0.739821</td>\n",
       "    </tr>\n",
       "    <tr>\n",
       "      <th>332</th>\n",
       "      <td>0.893299</td>\n",
       "      <td>0.351255</td>\n",
       "      <td>0.873315</td>\n",
       "      <td>0.795540</td>\n",
       "    </tr>\n",
       "    <tr>\n",
       "      <th>333</th>\n",
       "      <td>0.308398</td>\n",
       "      <td>0.271973</td>\n",
       "      <td>0.267061</td>\n",
       "      <td>0.801615</td>\n",
       "    </tr>\n",
       "  </tbody>\n",
       "</table>\n",
       "<p>334 rows × 4 columns</p>\n",
       "</div>"
      ],
      "text/plain": [
       "              0         2         3         4\n",
       "0    654.000000  0.122989  0.053524  0.272694\n",
       "1      0.863049  0.020691  0.382749  0.837459\n",
       "2      0.312326  0.156099  0.245932  0.937675\n",
       "3      0.685188  0.081378  0.426381  0.414999\n",
       "4      0.896616  0.665622  0.823016  0.106313\n",
       "..          ...       ...       ...       ...\n",
       "329    0.299391  0.279935  0.049471  0.545110\n",
       "330    0.896023  0.781666  0.806833  0.386779\n",
       "331    0.509240  0.042370  0.009737  0.739821\n",
       "332    0.893299  0.351255  0.873315  0.795540\n",
       "333    0.308398  0.271973  0.267061  0.801615\n",
       "\n",
       "[334 rows x 4 columns]"
      ]
     },
     "execution_count": 35,
     "metadata": {},
     "output_type": "execute_result"
    }
   ],
   "source": [
    "newdata.dropna()"
   ]
  },
  {
   "cell_type": "code",
   "execution_count": 36,
   "id": "6fafe99e",
   "metadata": {},
   "outputs": [
    {
     "data": {
      "application/vnd.microsoft.datawrangler.viewer.v0+json": {
       "columns": [
        {
         "name": "index",
         "rawType": "int64",
         "type": "integer"
        },
        {
         "name": "3",
         "rawType": "bool",
         "type": "boolean"
        }
       ],
       "ref": "f2cddf6a-6171-4415-90d9-1b357b0e4f2f",
       "rows": [
        [
         "0",
         "False"
        ],
        [
         "1",
         "False"
        ],
        [
         "2",
         "False"
        ],
        [
         "3",
         "False"
        ],
        [
         "4",
         "False"
        ],
        [
         "5",
         "False"
        ],
        [
         "6",
         "False"
        ],
        [
         "7",
         "False"
        ],
        [
         "8",
         "False"
        ],
        [
         "9",
         "False"
        ],
        [
         "10",
         "False"
        ],
        [
         "11",
         "False"
        ],
        [
         "12",
         "False"
        ],
        [
         "13",
         "False"
        ],
        [
         "14",
         "False"
        ],
        [
         "15",
         "False"
        ],
        [
         "16",
         "False"
        ],
        [
         "17",
         "False"
        ],
        [
         "18",
         "False"
        ],
        [
         "19",
         "False"
        ],
        [
         "20",
         "False"
        ],
        [
         "21",
         "False"
        ],
        [
         "22",
         "False"
        ],
        [
         "23",
         "False"
        ],
        [
         "24",
         "False"
        ],
        [
         "25",
         "False"
        ],
        [
         "26",
         "False"
        ],
        [
         "27",
         "False"
        ],
        [
         "28",
         "False"
        ],
        [
         "29",
         "False"
        ],
        [
         "30",
         "False"
        ],
        [
         "31",
         "False"
        ],
        [
         "32",
         "False"
        ],
        [
         "33",
         "False"
        ],
        [
         "34",
         "False"
        ],
        [
         "35",
         "False"
        ],
        [
         "36",
         "False"
        ],
        [
         "37",
         "False"
        ],
        [
         "38",
         "False"
        ],
        [
         "39",
         "False"
        ],
        [
         "40",
         "False"
        ],
        [
         "41",
         "False"
        ],
        [
         "42",
         "False"
        ],
        [
         "43",
         "False"
        ],
        [
         "44",
         "False"
        ],
        [
         "45",
         "False"
        ],
        [
         "46",
         "False"
        ],
        [
         "47",
         "False"
        ],
        [
         "48",
         "False"
        ],
        [
         "49",
         "False"
        ]
       ],
       "shape": {
        "columns": 1,
        "rows": 334
       }
      },
      "text/plain": [
       "0      False\n",
       "1      False\n",
       "2      False\n",
       "3      False\n",
       "4      False\n",
       "       ...  \n",
       "329    False\n",
       "330    False\n",
       "331    False\n",
       "332    False\n",
       "333    False\n",
       "Name: 3, Length: 334, dtype: bool"
      ]
     },
     "execution_count": 36,
     "metadata": {},
     "output_type": "execute_result"
    }
   ],
   "source": [
    "newdata[3].isnull()"
   ]
  },
  {
   "cell_type": "code",
   "execution_count": 37,
   "id": "fa6c6508",
   "metadata": {},
   "outputs": [
    {
     "data": {
      "application/vnd.microsoft.datawrangler.viewer.v0+json": {
       "columns": [
        {
         "name": "index",
         "rawType": "int64",
         "type": "integer"
        },
        {
         "name": "0",
         "rawType": "float64",
         "type": "float"
        },
        {
         "name": "2",
         "rawType": "float64",
         "type": "float"
        },
        {
         "name": "3",
         "rawType": "float64",
         "type": "float"
        },
        {
         "name": "4",
         "rawType": "float64",
         "type": "float"
        }
       ],
       "ref": "dca34d70-6853-406e-aeb5-9bd6a6192a56",
       "rows": [
        [
         "0",
         "654.0",
         "0.12298902834025105",
         "0.053524046646136414",
         "0.27269356277066126"
        ],
        [
         "1",
         "0.8630491740842244",
         "0.020690814649189093",
         "0.38274861419023676",
         "0.8374589028303848"
        ],
        [
         "2",
         null,
         null,
         null,
         null
        ],
        [
         "3",
         "0.685187974445353",
         "0.08137759649970067",
         "0.4263811330799492",
         "0.41499853470547576"
        ],
        [
         "4",
         "0.8966159436263471",
         "0.6656222122168985",
         "0.8230157600459596",
         "0.10631310727274446"
        ],
        [
         "5",
         "0.7390569612088024",
         "0.5594232582776459",
         "0.001784909367823273",
         "0.2561692067479948"
        ],
        [
         "6",
         "0.833491701504404",
         "0.1493625962629822",
         "0.8481759627063598",
         "0.0786648427947726"
        ],
        [
         "7",
         "0.36916206277243835",
         "0.04093870487643558",
         "0.4327742372600266",
         "0.48505068167747656"
        ],
        [
         "8",
         "0.4334600477485905",
         "0.8411320854887072",
         "0.361985191552314",
         "0.8115287252696511"
        ],
        [
         "9",
         "0.6083885739234854",
         "0.05764731440518722",
         "0.358669016109342",
         "0.9351984492601657"
        ],
        [
         "10",
         "0.33154446184207875",
         "0.2538014533218764",
         "0.1555945339163488",
         "0.006240066132893074"
        ],
        [
         "11",
         "0.3979776034208523",
         "0.2734132758806076",
         "0.08756382706521282",
         "0.2620857356056079"
        ],
        [
         "12",
         "0.36044781061491904",
         "0.25260899606977283",
         "0.8813011710110896",
         "0.11489400946441986"
        ],
        [
         "13",
         "0.32742965580906436",
         "0.6274341325606493",
         "0.25604718152557093",
         "0.7255534921629594"
        ],
        [
         "14",
         "0.1915681471421693",
         "0.6604727454735161",
         "0.41931825398204636",
         "0.0224241405904263"
        ],
        [
         "15",
         "0.8368514189401548",
         "0.6338509145768015",
         "0.5304511610665951",
         "0.41789449756291386"
        ],
        [
         "16",
         "0.6330259179915952",
         "0.21426276639943032",
         "0.984312992394737",
         "0.8829614785033106"
        ],
        [
         "17",
         "0.5073206633169175",
         "0.5280363048756295",
         "0.5577048202599839",
         "0.9296366220826342"
        ],
        [
         "18",
         "0.5576466907510196",
         "0.30009731127995776",
         "0.7253257668543623",
         "0.6639334076861606"
        ],
        [
         "19",
         "0.3761748580540727",
         "0.93183570809371",
         "0.7333996213166747",
         "0.6857570909580553"
        ],
        [
         "20",
         "0.10806982537451126",
         "0.5575163233189622",
         "0.5776115618405828",
         "0.5158766294723538"
        ],
        [
         "21",
         "0.5381514144467441",
         "0.5057895659806649",
         "0.6605517580418035",
         "0.544597959048764"
        ],
        [
         "22",
         "0.4774785346823057",
         "0.14260363154987454",
         "0.06862350697118236",
         "0.8233915121236439"
        ],
        [
         "23",
         "0.9180477114299774",
         "0.17359386710050395",
         "0.26959625758606665",
         "0.04828997428483084"
        ],
        [
         "24",
         "0.8472951264411146",
         "0.8477064327542982",
         "0.0008019177765982155",
         "0.42537164972012875"
        ],
        [
         "25",
         "0.4104327234904085",
         "0.9732329857459655",
         "0.8118155634023512",
         "0.8476010347611198"
        ],
        [
         "26",
         "0.8786789765169863",
         "0.4782546496514021",
         "0.786194151718719",
         "0.5120599735394377"
        ],
        [
         "27",
         "0.9271677118908012",
         "0.662386645477122",
         "0.0222430036152379",
         "0.840746657999188"
        ],
        [
         "28",
         "0.47412130052764034",
         "0.19122091026681842",
         "0.7634196982937272",
         "0.8358824713287692"
        ],
        [
         "29",
         "0.5218941308569045",
         "0.033113946279991424",
         "0.40441544006011454",
         "0.4080237469066125"
        ],
        [
         "30",
         "0.8127775029729067",
         "0.16363877432698293",
         "0.6257927139800216",
         "0.3571358924895338"
        ],
        [
         "31",
         "0.2350234278947626",
         "0.7517965254459437",
         "0.900301782747231",
         "0.28806515965107615"
        ],
        [
         "32",
         "0.8504815273585464",
         "0.8770815917254969",
         "0.4323419017172335",
         "0.3765961673553846"
        ],
        [
         "33",
         "0.8219549759501485",
         "0.2509744460822516",
         "0.2895759152876848",
         "0.9650785344595394"
        ],
        [
         "34",
         "0.7382653905911539",
         "0.13124427895490776",
         "0.13896026401113903",
         "0.15371238052976444"
        ],
        [
         "35",
         "0.1635878241280858",
         "0.9029189674659492",
         "0.14817408510283103",
         "0.02275465987531866"
        ],
        [
         "36",
         "0.3569394352686076",
         "0.18462926930282242",
         "0.9252831549878989",
         "0.6635652374259207"
        ],
        [
         "37",
         "0.975814488362743",
         "0.7435047400611574",
         "0.36296186019787857",
         "0.4164776070790982"
        ],
        [
         "38",
         "0.6361891906709365",
         "0.7569230023146755",
         "0.09617400444669721",
         "0.5254634836987616"
        ],
        [
         "39",
         "0.526801673785683",
         "0.6717449636249884",
         "0.7244012581348299",
         "0.5586627354755971"
        ],
        [
         "40",
         "0.5802756159379782",
         "0.9114831781199895",
         "0.3935301477348857",
         "0.6691988531328141"
        ],
        [
         "41",
         "0.8454616778981281",
         "0.6295251417226939",
         "0.9432212006610349",
         "0.6613211248961927"
        ],
        [
         "42",
         "0.5418605721537902",
         "0.5427359665325054",
         "0.7347663855257421",
         "0.9371823705685823"
        ],
        [
         "43",
         "0.2495134540522197",
         "0.6597501496988588",
         "0.6803209455198972",
         "0.937009353610773"
        ],
        [
         "44",
         "0.6393948257778513",
         "0.3366483579833369",
         "0.58059258581014",
         "0.8666096686591681"
        ],
        [
         "45",
         "0.5080751994061452",
         "0.887149133634012",
         "0.08741420867890248",
         "0.22464644155017044"
        ],
        [
         "46",
         "0.8644761769445809",
         "0.45246630644379393",
         "0.8521303303849866",
         "0.40769352875666875"
        ],
        [
         "47",
         "0.9514904380149106",
         "0.9113912271762327",
         "0.3800896607328106",
         "0.8092901637700567"
        ],
        [
         "48",
         "0.9760563782834688",
         "0.2300423360044337",
         "0.13552742528584616",
         "0.8200952034237892"
        ],
        [
         "49",
         "0.7443145013899632",
         "0.5666638773445167",
         "0.048393125950686344",
         "0.5835859218282372"
        ]
       ],
       "shape": {
        "columns": 4,
        "rows": 334
       }
      },
      "text/html": [
       "<div>\n",
       "<style scoped>\n",
       "    .dataframe tbody tr th:only-of-type {\n",
       "        vertical-align: middle;\n",
       "    }\n",
       "\n",
       "    .dataframe tbody tr th {\n",
       "        vertical-align: top;\n",
       "    }\n",
       "\n",
       "    .dataframe thead th {\n",
       "        text-align: right;\n",
       "    }\n",
       "</style>\n",
       "<table border=\"1\" class=\"dataframe\">\n",
       "  <thead>\n",
       "    <tr style=\"text-align: right;\">\n",
       "      <th></th>\n",
       "      <th>0</th>\n",
       "      <th>2</th>\n",
       "      <th>3</th>\n",
       "      <th>4</th>\n",
       "    </tr>\n",
       "  </thead>\n",
       "  <tbody>\n",
       "    <tr>\n",
       "      <th>0</th>\n",
       "      <td>654.000000</td>\n",
       "      <td>0.122989</td>\n",
       "      <td>0.053524</td>\n",
       "      <td>0.272694</td>\n",
       "    </tr>\n",
       "    <tr>\n",
       "      <th>1</th>\n",
       "      <td>0.863049</td>\n",
       "      <td>0.020691</td>\n",
       "      <td>0.382749</td>\n",
       "      <td>0.837459</td>\n",
       "    </tr>\n",
       "    <tr>\n",
       "      <th>2</th>\n",
       "      <td>NaN</td>\n",
       "      <td>NaN</td>\n",
       "      <td>NaN</td>\n",
       "      <td>NaN</td>\n",
       "    </tr>\n",
       "    <tr>\n",
       "      <th>3</th>\n",
       "      <td>0.685188</td>\n",
       "      <td>0.081378</td>\n",
       "      <td>0.426381</td>\n",
       "      <td>0.414999</td>\n",
       "    </tr>\n",
       "    <tr>\n",
       "      <th>4</th>\n",
       "      <td>0.896616</td>\n",
       "      <td>0.665622</td>\n",
       "      <td>0.823016</td>\n",
       "      <td>0.106313</td>\n",
       "    </tr>\n",
       "    <tr>\n",
       "      <th>...</th>\n",
       "      <td>...</td>\n",
       "      <td>...</td>\n",
       "      <td>...</td>\n",
       "      <td>...</td>\n",
       "    </tr>\n",
       "    <tr>\n",
       "      <th>329</th>\n",
       "      <td>0.299391</td>\n",
       "      <td>0.279935</td>\n",
       "      <td>0.049471</td>\n",
       "      <td>0.545110</td>\n",
       "    </tr>\n",
       "    <tr>\n",
       "      <th>330</th>\n",
       "      <td>0.896023</td>\n",
       "      <td>0.781666</td>\n",
       "      <td>0.806833</td>\n",
       "      <td>0.386779</td>\n",
       "    </tr>\n",
       "    <tr>\n",
       "      <th>331</th>\n",
       "      <td>0.509240</td>\n",
       "      <td>0.042370</td>\n",
       "      <td>0.009737</td>\n",
       "      <td>0.739821</td>\n",
       "    </tr>\n",
       "    <tr>\n",
       "      <th>332</th>\n",
       "      <td>0.893299</td>\n",
       "      <td>0.351255</td>\n",
       "      <td>0.873315</td>\n",
       "      <td>0.795540</td>\n",
       "    </tr>\n",
       "    <tr>\n",
       "      <th>333</th>\n",
       "      <td>0.308398</td>\n",
       "      <td>0.271973</td>\n",
       "      <td>0.267061</td>\n",
       "      <td>0.801615</td>\n",
       "    </tr>\n",
       "  </tbody>\n",
       "</table>\n",
       "<p>334 rows × 4 columns</p>\n",
       "</div>"
      ],
      "text/plain": [
       "              0         2         3         4\n",
       "0    654.000000  0.122989  0.053524  0.272694\n",
       "1      0.863049  0.020691  0.382749  0.837459\n",
       "2           NaN       NaN       NaN       NaN\n",
       "3      0.685188  0.081378  0.426381  0.414999\n",
       "4      0.896616  0.665622  0.823016  0.106313\n",
       "..          ...       ...       ...       ...\n",
       "329    0.299391  0.279935  0.049471  0.545110\n",
       "330    0.896023  0.781666  0.806833  0.386779\n",
       "331    0.509240  0.042370  0.009737  0.739821\n",
       "332    0.893299  0.351255  0.873315  0.795540\n",
       "333    0.308398  0.271973  0.267061  0.801615\n",
       "\n",
       "[334 rows x 4 columns]"
      ]
     },
     "execution_count": 37,
     "metadata": {},
     "output_type": "execute_result"
    }
   ],
   "source": [
    "newdata.loc[[2]] = None          \n",
    "newdata"
   ]
  },
  {
   "cell_type": "code",
   "execution_count": 38,
   "id": "d03a4d08",
   "metadata": {},
   "outputs": [
    {
     "data": {
      "application/vnd.microsoft.datawrangler.viewer.v0+json": {
       "columns": [
        {
         "name": "index",
         "rawType": "int64",
         "type": "integer"
        },
        {
         "name": "0",
         "rawType": "float64",
         "type": "float"
        },
        {
         "name": "2",
         "rawType": "float64",
         "type": "float"
        },
        {
         "name": "3",
         "rawType": "float64",
         "type": "float"
        },
        {
         "name": "4",
         "rawType": "float64",
         "type": "float"
        }
       ],
       "ref": "1981ba51-c7e2-4e69-8832-eb8a4ee529df",
       "rows": [
        [
         "0",
         "654.0",
         "0.12298902834025105",
         "0.053524046646136414",
         "0.27269356277066126"
        ],
        [
         "1",
         "0.8630491740842244",
         "0.020690814649189093",
         "0.38274861419023676",
         "0.8374589028303848"
        ],
        [
         "3",
         "0.685187974445353",
         "0.08137759649970067",
         "0.4263811330799492",
         "0.41499853470547576"
        ],
        [
         "4",
         "0.8966159436263471",
         "0.6656222122168985",
         "0.8230157600459596",
         "0.10631310727274446"
        ],
        [
         "5",
         "0.7390569612088024",
         "0.5594232582776459",
         "0.001784909367823273",
         "0.2561692067479948"
        ],
        [
         "6",
         "0.833491701504404",
         "0.1493625962629822",
         "0.8481759627063598",
         "0.0786648427947726"
        ],
        [
         "7",
         "0.36916206277243835",
         "0.04093870487643558",
         "0.4327742372600266",
         "0.48505068167747656"
        ],
        [
         "8",
         "0.4334600477485905",
         "0.8411320854887072",
         "0.361985191552314",
         "0.8115287252696511"
        ],
        [
         "9",
         "0.6083885739234854",
         "0.05764731440518722",
         "0.358669016109342",
         "0.9351984492601657"
        ],
        [
         "10",
         "0.33154446184207875",
         "0.2538014533218764",
         "0.1555945339163488",
         "0.006240066132893074"
        ],
        [
         "11",
         "0.3979776034208523",
         "0.2734132758806076",
         "0.08756382706521282",
         "0.2620857356056079"
        ],
        [
         "12",
         "0.36044781061491904",
         "0.25260899606977283",
         "0.8813011710110896",
         "0.11489400946441986"
        ],
        [
         "13",
         "0.32742965580906436",
         "0.6274341325606493",
         "0.25604718152557093",
         "0.7255534921629594"
        ],
        [
         "14",
         "0.1915681471421693",
         "0.6604727454735161",
         "0.41931825398204636",
         "0.0224241405904263"
        ],
        [
         "15",
         "0.8368514189401548",
         "0.6338509145768015",
         "0.5304511610665951",
         "0.41789449756291386"
        ],
        [
         "16",
         "0.6330259179915952",
         "0.21426276639943032",
         "0.984312992394737",
         "0.8829614785033106"
        ],
        [
         "17",
         "0.5073206633169175",
         "0.5280363048756295",
         "0.5577048202599839",
         "0.9296366220826342"
        ],
        [
         "18",
         "0.5576466907510196",
         "0.30009731127995776",
         "0.7253257668543623",
         "0.6639334076861606"
        ],
        [
         "19",
         "0.3761748580540727",
         "0.93183570809371",
         "0.7333996213166747",
         "0.6857570909580553"
        ],
        [
         "20",
         "0.10806982537451126",
         "0.5575163233189622",
         "0.5776115618405828",
         "0.5158766294723538"
        ],
        [
         "21",
         "0.5381514144467441",
         "0.5057895659806649",
         "0.6605517580418035",
         "0.544597959048764"
        ],
        [
         "22",
         "0.4774785346823057",
         "0.14260363154987454",
         "0.06862350697118236",
         "0.8233915121236439"
        ],
        [
         "23",
         "0.9180477114299774",
         "0.17359386710050395",
         "0.26959625758606665",
         "0.04828997428483084"
        ],
        [
         "24",
         "0.8472951264411146",
         "0.8477064327542982",
         "0.0008019177765982155",
         "0.42537164972012875"
        ],
        [
         "25",
         "0.4104327234904085",
         "0.9732329857459655",
         "0.8118155634023512",
         "0.8476010347611198"
        ],
        [
         "26",
         "0.8786789765169863",
         "0.4782546496514021",
         "0.786194151718719",
         "0.5120599735394377"
        ],
        [
         "27",
         "0.9271677118908012",
         "0.662386645477122",
         "0.0222430036152379",
         "0.840746657999188"
        ],
        [
         "28",
         "0.47412130052764034",
         "0.19122091026681842",
         "0.7634196982937272",
         "0.8358824713287692"
        ],
        [
         "29",
         "0.5218941308569045",
         "0.033113946279991424",
         "0.40441544006011454",
         "0.4080237469066125"
        ],
        [
         "30",
         "0.8127775029729067",
         "0.16363877432698293",
         "0.6257927139800216",
         "0.3571358924895338"
        ],
        [
         "31",
         "0.2350234278947626",
         "0.7517965254459437",
         "0.900301782747231",
         "0.28806515965107615"
        ],
        [
         "32",
         "0.8504815273585464",
         "0.8770815917254969",
         "0.4323419017172335",
         "0.3765961673553846"
        ],
        [
         "33",
         "0.8219549759501485",
         "0.2509744460822516",
         "0.2895759152876848",
         "0.9650785344595394"
        ],
        [
         "34",
         "0.7382653905911539",
         "0.13124427895490776",
         "0.13896026401113903",
         "0.15371238052976444"
        ],
        [
         "35",
         "0.1635878241280858",
         "0.9029189674659492",
         "0.14817408510283103",
         "0.02275465987531866"
        ],
        [
         "36",
         "0.3569394352686076",
         "0.18462926930282242",
         "0.9252831549878989",
         "0.6635652374259207"
        ],
        [
         "37",
         "0.975814488362743",
         "0.7435047400611574",
         "0.36296186019787857",
         "0.4164776070790982"
        ],
        [
         "38",
         "0.6361891906709365",
         "0.7569230023146755",
         "0.09617400444669721",
         "0.5254634836987616"
        ],
        [
         "39",
         "0.526801673785683",
         "0.6717449636249884",
         "0.7244012581348299",
         "0.5586627354755971"
        ],
        [
         "40",
         "0.5802756159379782",
         "0.9114831781199895",
         "0.3935301477348857",
         "0.6691988531328141"
        ],
        [
         "41",
         "0.8454616778981281",
         "0.6295251417226939",
         "0.9432212006610349",
         "0.6613211248961927"
        ],
        [
         "42",
         "0.5418605721537902",
         "0.5427359665325054",
         "0.7347663855257421",
         "0.9371823705685823"
        ],
        [
         "43",
         "0.2495134540522197",
         "0.6597501496988588",
         "0.6803209455198972",
         "0.937009353610773"
        ],
        [
         "44",
         "0.6393948257778513",
         "0.3366483579833369",
         "0.58059258581014",
         "0.8666096686591681"
        ],
        [
         "45",
         "0.5080751994061452",
         "0.887149133634012",
         "0.08741420867890248",
         "0.22464644155017044"
        ],
        [
         "46",
         "0.8644761769445809",
         "0.45246630644379393",
         "0.8521303303849866",
         "0.40769352875666875"
        ],
        [
         "47",
         "0.9514904380149106",
         "0.9113912271762327",
         "0.3800896607328106",
         "0.8092901637700567"
        ],
        [
         "48",
         "0.9760563782834688",
         "0.2300423360044337",
         "0.13552742528584616",
         "0.8200952034237892"
        ],
        [
         "49",
         "0.7443145013899632",
         "0.5666638773445167",
         "0.048393125950686344",
         "0.5835859218282372"
        ],
        [
         "50",
         "0.17516674240707308",
         "0.23573109579882268",
         "0.4352898547654973",
         "0.9608356022853352"
        ]
       ],
       "shape": {
        "columns": 4,
        "rows": 333
       }
      },
      "text/html": [
       "<div>\n",
       "<style scoped>\n",
       "    .dataframe tbody tr th:only-of-type {\n",
       "        vertical-align: middle;\n",
       "    }\n",
       "\n",
       "    .dataframe tbody tr th {\n",
       "        vertical-align: top;\n",
       "    }\n",
       "\n",
       "    .dataframe thead th {\n",
       "        text-align: right;\n",
       "    }\n",
       "</style>\n",
       "<table border=\"1\" class=\"dataframe\">\n",
       "  <thead>\n",
       "    <tr style=\"text-align: right;\">\n",
       "      <th></th>\n",
       "      <th>0</th>\n",
       "      <th>2</th>\n",
       "      <th>3</th>\n",
       "      <th>4</th>\n",
       "    </tr>\n",
       "  </thead>\n",
       "  <tbody>\n",
       "    <tr>\n",
       "      <th>0</th>\n",
       "      <td>654.000000</td>\n",
       "      <td>0.122989</td>\n",
       "      <td>0.053524</td>\n",
       "      <td>0.272694</td>\n",
       "    </tr>\n",
       "    <tr>\n",
       "      <th>1</th>\n",
       "      <td>0.863049</td>\n",
       "      <td>0.020691</td>\n",
       "      <td>0.382749</td>\n",
       "      <td>0.837459</td>\n",
       "    </tr>\n",
       "    <tr>\n",
       "      <th>3</th>\n",
       "      <td>0.685188</td>\n",
       "      <td>0.081378</td>\n",
       "      <td>0.426381</td>\n",
       "      <td>0.414999</td>\n",
       "    </tr>\n",
       "    <tr>\n",
       "      <th>4</th>\n",
       "      <td>0.896616</td>\n",
       "      <td>0.665622</td>\n",
       "      <td>0.823016</td>\n",
       "      <td>0.106313</td>\n",
       "    </tr>\n",
       "    <tr>\n",
       "      <th>5</th>\n",
       "      <td>0.739057</td>\n",
       "      <td>0.559423</td>\n",
       "      <td>0.001785</td>\n",
       "      <td>0.256169</td>\n",
       "    </tr>\n",
       "    <tr>\n",
       "      <th>...</th>\n",
       "      <td>...</td>\n",
       "      <td>...</td>\n",
       "      <td>...</td>\n",
       "      <td>...</td>\n",
       "    </tr>\n",
       "    <tr>\n",
       "      <th>329</th>\n",
       "      <td>0.299391</td>\n",
       "      <td>0.279935</td>\n",
       "      <td>0.049471</td>\n",
       "      <td>0.545110</td>\n",
       "    </tr>\n",
       "    <tr>\n",
       "      <th>330</th>\n",
       "      <td>0.896023</td>\n",
       "      <td>0.781666</td>\n",
       "      <td>0.806833</td>\n",
       "      <td>0.386779</td>\n",
       "    </tr>\n",
       "    <tr>\n",
       "      <th>331</th>\n",
       "      <td>0.509240</td>\n",
       "      <td>0.042370</td>\n",
       "      <td>0.009737</td>\n",
       "      <td>0.739821</td>\n",
       "    </tr>\n",
       "    <tr>\n",
       "      <th>332</th>\n",
       "      <td>0.893299</td>\n",
       "      <td>0.351255</td>\n",
       "      <td>0.873315</td>\n",
       "      <td>0.795540</td>\n",
       "    </tr>\n",
       "    <tr>\n",
       "      <th>333</th>\n",
       "      <td>0.308398</td>\n",
       "      <td>0.271973</td>\n",
       "      <td>0.267061</td>\n",
       "      <td>0.801615</td>\n",
       "    </tr>\n",
       "  </tbody>\n",
       "</table>\n",
       "<p>333 rows × 4 columns</p>\n",
       "</div>"
      ],
      "text/plain": [
       "              0         2         3         4\n",
       "0    654.000000  0.122989  0.053524  0.272694\n",
       "1      0.863049  0.020691  0.382749  0.837459\n",
       "3      0.685188  0.081378  0.426381  0.414999\n",
       "4      0.896616  0.665622  0.823016  0.106313\n",
       "5      0.739057  0.559423  0.001785  0.256169\n",
       "..          ...       ...       ...       ...\n",
       "329    0.299391  0.279935  0.049471  0.545110\n",
       "330    0.896023  0.781666  0.806833  0.386779\n",
       "331    0.509240  0.042370  0.009737  0.739821\n",
       "332    0.893299  0.351255  0.873315  0.795540\n",
       "333    0.308398  0.271973  0.267061  0.801615\n",
       "\n",
       "[333 rows x 4 columns]"
      ]
     },
     "execution_count": 38,
     "metadata": {},
     "output_type": "execute_result"
    }
   ],
   "source": [
    "newdata.dropna()"
   ]
  },
  {
   "cell_type": "code",
   "execution_count": 39,
   "id": "b4305b04",
   "metadata": {},
   "outputs": [],
   "source": [
    "newdata = pd.DataFrame({\n",
    "    \"name\":[\"Alfardo\",\"El Chapo\",\"El Mencho\"],\n",
    "    \"toy\":[\"Kalicartel\",\"Sinaloacartel\",np.nan],\n",
    "    \"from\":[\"Mexico\",\"Colombia\",\"Medellin\"]\n",
    "})"
   ]
  },
  {
   "cell_type": "code",
   "execution_count": 40,
   "id": "d0181035",
   "metadata": {},
   "outputs": [
    {
     "data": {
      "application/vnd.microsoft.datawrangler.viewer.v0+json": {
       "columns": [
        {
         "name": "index",
         "rawType": "int64",
         "type": "integer"
        },
        {
         "name": "name",
         "rawType": "object",
         "type": "string"
        },
        {
         "name": "toy",
         "rawType": "object",
         "type": "unknown"
        },
        {
         "name": "from",
         "rawType": "object",
         "type": "string"
        }
       ],
       "ref": "cbbd04d3-d6c0-4202-8960-d2e3cfe5661c",
       "rows": [
        [
         "0",
         "Alfardo",
         "Kalicartel",
         "Mexico"
        ],
        [
         "1",
         "El Chapo",
         "Sinaloacartel",
         "Colombia"
        ],
        [
         "2",
         "El Mencho",
         null,
         "Medellin"
        ]
       ],
       "shape": {
        "columns": 3,
        "rows": 3
       }
      },
      "text/html": [
       "<div>\n",
       "<style scoped>\n",
       "    .dataframe tbody tr th:only-of-type {\n",
       "        vertical-align: middle;\n",
       "    }\n",
       "\n",
       "    .dataframe tbody tr th {\n",
       "        vertical-align: top;\n",
       "    }\n",
       "\n",
       "    .dataframe thead th {\n",
       "        text-align: right;\n",
       "    }\n",
       "</style>\n",
       "<table border=\"1\" class=\"dataframe\">\n",
       "  <thead>\n",
       "    <tr style=\"text-align: right;\">\n",
       "      <th></th>\n",
       "      <th>name</th>\n",
       "      <th>toy</th>\n",
       "      <th>from</th>\n",
       "    </tr>\n",
       "  </thead>\n",
       "  <tbody>\n",
       "    <tr>\n",
       "      <th>0</th>\n",
       "      <td>Alfardo</td>\n",
       "      <td>Kalicartel</td>\n",
       "      <td>Mexico</td>\n",
       "    </tr>\n",
       "    <tr>\n",
       "      <th>1</th>\n",
       "      <td>El Chapo</td>\n",
       "      <td>Sinaloacartel</td>\n",
       "      <td>Colombia</td>\n",
       "    </tr>\n",
       "    <tr>\n",
       "      <th>2</th>\n",
       "      <td>El Mencho</td>\n",
       "      <td>NaN</td>\n",
       "      <td>Medellin</td>\n",
       "    </tr>\n",
       "  </tbody>\n",
       "</table>\n",
       "</div>"
      ],
      "text/plain": [
       "        name            toy      from\n",
       "0    Alfardo     Kalicartel    Mexico\n",
       "1   El Chapo  Sinaloacartel  Colombia\n",
       "2  El Mencho            NaN  Medellin"
      ]
     },
     "execution_count": 40,
     "metadata": {},
     "output_type": "execute_result"
    }
   ],
   "source": [
    "newdata.head()"
   ]
  },
  {
   "cell_type": "code",
   "execution_count": 41,
   "id": "f5906e87",
   "metadata": {},
   "outputs": [
    {
     "data": {
      "application/vnd.microsoft.datawrangler.viewer.v0+json": {
       "columns": [
        {
         "name": "index",
         "rawType": "int64",
         "type": "integer"
        },
        {
         "name": "name",
         "rawType": "object",
         "type": "string"
        },
        {
         "name": "toy",
         "rawType": "object",
         "type": "unknown"
        },
        {
         "name": "from",
         "rawType": "object",
         "type": "string"
        }
       ],
       "ref": "81c320d0-081b-4c20-b74b-b9812671db95",
       "rows": [
        [
         "0",
         "Alfardo",
         "Kalicartel",
         "Mexico"
        ],
        [
         "1",
         "El Chapo",
         "Sinaloacartel",
         "Colombia"
        ],
        [
         "2",
         "El Mencho",
         null,
         "Medellin"
        ]
       ],
       "shape": {
        "columns": 3,
        "rows": 3
       }
      },
      "text/html": [
       "<div>\n",
       "<style scoped>\n",
       "    .dataframe tbody tr th:only-of-type {\n",
       "        vertical-align: middle;\n",
       "    }\n",
       "\n",
       "    .dataframe tbody tr th {\n",
       "        vertical-align: top;\n",
       "    }\n",
       "\n",
       "    .dataframe thead th {\n",
       "        text-align: right;\n",
       "    }\n",
       "</style>\n",
       "<table border=\"1\" class=\"dataframe\">\n",
       "  <thead>\n",
       "    <tr style=\"text-align: right;\">\n",
       "      <th></th>\n",
       "      <th>name</th>\n",
       "      <th>toy</th>\n",
       "      <th>from</th>\n",
       "    </tr>\n",
       "  </thead>\n",
       "  <tbody>\n",
       "    <tr>\n",
       "      <th>0</th>\n",
       "      <td>Alfardo</td>\n",
       "      <td>Kalicartel</td>\n",
       "      <td>Mexico</td>\n",
       "    </tr>\n",
       "    <tr>\n",
       "      <th>1</th>\n",
       "      <td>El Chapo</td>\n",
       "      <td>Sinaloacartel</td>\n",
       "      <td>Colombia</td>\n",
       "    </tr>\n",
       "    <tr>\n",
       "      <th>2</th>\n",
       "      <td>El Mencho</td>\n",
       "      <td>NaN</td>\n",
       "      <td>Medellin</td>\n",
       "    </tr>\n",
       "  </tbody>\n",
       "</table>\n",
       "</div>"
      ],
      "text/plain": [
       "        name            toy      from\n",
       "0    Alfardo     Kalicartel    Mexico\n",
       "1   El Chapo  Sinaloacartel  Colombia\n",
       "2  El Mencho            NaN  Medellin"
      ]
     },
     "execution_count": 41,
     "metadata": {},
     "output_type": "execute_result"
    }
   ],
   "source": [
    "newdata.dropna(how='all',axis=1)\n",
    "newdata"
   ]
  },
  {
   "cell_type": "code",
   "execution_count": 42,
   "id": "e8f3b261",
   "metadata": {},
   "outputs": [
    {
     "data": {
      "application/vnd.microsoft.datawrangler.viewer.v0+json": {
       "columns": [
        {
         "name": "index",
         "rawType": "int64",
         "type": "integer"
        },
        {
         "name": "name",
         "rawType": "object",
         "type": "string"
        },
        {
         "name": "toy",
         "rawType": "object",
         "type": "unknown"
        },
        {
         "name": "from",
         "rawType": "object",
         "type": "string"
        }
       ],
       "ref": "89b97ca4-f500-48d0-b877-6d9092d4deb1",
       "rows": [
        [
         "0",
         "Alfardo",
         "Kalicartel",
         "Mexico"
        ],
        [
         "1",
         "El Chapo",
         "Sinaloacartel",
         "Colombia"
        ],
        [
         "2",
         "El Mencho",
         null,
         "Medellin"
        ]
       ],
       "shape": {
        "columns": 3,
        "rows": 3
       }
      },
      "text/html": [
       "<div>\n",
       "<style scoped>\n",
       "    .dataframe tbody tr th:only-of-type {\n",
       "        vertical-align: middle;\n",
       "    }\n",
       "\n",
       "    .dataframe tbody tr th {\n",
       "        vertical-align: top;\n",
       "    }\n",
       "\n",
       "    .dataframe thead th {\n",
       "        text-align: right;\n",
       "    }\n",
       "</style>\n",
       "<table border=\"1\" class=\"dataframe\">\n",
       "  <thead>\n",
       "    <tr style=\"text-align: right;\">\n",
       "      <th></th>\n",
       "      <th>name</th>\n",
       "      <th>toy</th>\n",
       "      <th>from</th>\n",
       "    </tr>\n",
       "  </thead>\n",
       "  <tbody>\n",
       "    <tr>\n",
       "      <th>0</th>\n",
       "      <td>Alfardo</td>\n",
       "      <td>Kalicartel</td>\n",
       "      <td>Mexico</td>\n",
       "    </tr>\n",
       "    <tr>\n",
       "      <th>1</th>\n",
       "      <td>El Chapo</td>\n",
       "      <td>Sinaloacartel</td>\n",
       "      <td>Colombia</td>\n",
       "    </tr>\n",
       "    <tr>\n",
       "      <th>2</th>\n",
       "      <td>El Mencho</td>\n",
       "      <td>NaN</td>\n",
       "      <td>Medellin</td>\n",
       "    </tr>\n",
       "  </tbody>\n",
       "</table>\n",
       "</div>"
      ],
      "text/plain": [
       "        name            toy      from\n",
       "0    Alfardo     Kalicartel    Mexico\n",
       "1   El Chapo  Sinaloacartel  Colombia\n",
       "2  El Mencho            NaN  Medellin"
      ]
     },
     "execution_count": 42,
     "metadata": {},
     "output_type": "execute_result"
    }
   ],
   "source": [
    "newdata.drop_duplicates(subset=['name'],keep=False)"
   ]
  },
  {
   "cell_type": "code",
   "execution_count": 43,
   "id": "dc93998f",
   "metadata": {},
   "outputs": [
    {
     "data": {
      "text/plain": [
       "<bound method DataFrame.info of         name            toy      from\n",
       "0    Alfardo     Kalicartel    Mexico\n",
       "1   El Chapo  Sinaloacartel  Colombia\n",
       "2  El Mencho            NaN  Medellin>"
      ]
     },
     "execution_count": 43,
     "metadata": {},
     "output_type": "execute_result"
    }
   ],
   "source": [
    "newdata.info"
   ]
  },
  {
   "cell_type": "code",
   "execution_count": 44,
   "id": "68a91880",
   "metadata": {},
   "outputs": [
    {
     "data": {
      "application/vnd.microsoft.datawrangler.viewer.v0+json": {
       "columns": [
        {
         "name": "name",
         "rawType": "object",
         "type": "string"
        },
        {
         "name": "count",
         "rawType": "int64",
         "type": "integer"
        }
       ],
       "ref": "7c5ca75e-c899-4255-a124-08532213176d",
       "rows": [
        [
         "Alfardo",
         "1"
        ],
        [
         "El Chapo",
         "1"
        ],
        [
         "El Mencho",
         "1"
        ]
       ],
       "shape": {
        "columns": 1,
        "rows": 3
       }
      },
      "text/plain": [
       "name\n",
       "Alfardo      1\n",
       "El Chapo     1\n",
       "El Mencho    1\n",
       "Name: count, dtype: int64"
      ]
     },
     "execution_count": 44,
     "metadata": {},
     "output_type": "execute_result"
    }
   ],
   "source": [
    "newdata['name'].value_counts(dropna=True)"
   ]
  },
  {
   "cell_type": "code",
   "execution_count": 45,
   "id": "71a29702",
   "metadata": {},
   "outputs": [
    {
     "data": {
      "application/vnd.microsoft.datawrangler.viewer.v0+json": {
       "columns": [
        {
         "name": "index",
         "rawType": "int64",
         "type": "integer"
        },
        {
         "name": "name",
         "rawType": "bool",
         "type": "boolean"
        },
        {
         "name": "toy",
         "rawType": "bool",
         "type": "boolean"
        },
        {
         "name": "from",
         "rawType": "bool",
         "type": "boolean"
        }
       ],
       "ref": "5a5487ad-2a8a-4f45-a441-b09404355290",
       "rows": [
        [
         "0",
         "True",
         "True",
         "True"
        ],
        [
         "1",
         "True",
         "True",
         "True"
        ],
        [
         "2",
         "True",
         "False",
         "True"
        ]
       ],
       "shape": {
        "columns": 3,
        "rows": 3
       }
      },
      "text/html": [
       "<div>\n",
       "<style scoped>\n",
       "    .dataframe tbody tr th:only-of-type {\n",
       "        vertical-align: middle;\n",
       "    }\n",
       "\n",
       "    .dataframe tbody tr th {\n",
       "        vertical-align: top;\n",
       "    }\n",
       "\n",
       "    .dataframe thead th {\n",
       "        text-align: right;\n",
       "    }\n",
       "</style>\n",
       "<table border=\"1\" class=\"dataframe\">\n",
       "  <thead>\n",
       "    <tr style=\"text-align: right;\">\n",
       "      <th></th>\n",
       "      <th>name</th>\n",
       "      <th>toy</th>\n",
       "      <th>from</th>\n",
       "    </tr>\n",
       "  </thead>\n",
       "  <tbody>\n",
       "    <tr>\n",
       "      <th>0</th>\n",
       "      <td>True</td>\n",
       "      <td>True</td>\n",
       "      <td>True</td>\n",
       "    </tr>\n",
       "    <tr>\n",
       "      <th>1</th>\n",
       "      <td>True</td>\n",
       "      <td>True</td>\n",
       "      <td>True</td>\n",
       "    </tr>\n",
       "    <tr>\n",
       "      <th>2</th>\n",
       "      <td>True</td>\n",
       "      <td>False</td>\n",
       "      <td>True</td>\n",
       "    </tr>\n",
       "  </tbody>\n",
       "</table>\n",
       "</div>"
      ],
      "text/plain": [
       "   name    toy  from\n",
       "0  True   True  True\n",
       "1  True   True  True\n",
       "2  True  False  True"
      ]
     },
     "execution_count": 45,
     "metadata": {},
     "output_type": "execute_result"
    }
   ],
   "source": [
    "newdata.notnull()"
   ]
  },
  {
   "cell_type": "code",
   "execution_count": 46,
   "id": "6d34d1ed",
   "metadata": {},
   "outputs": [
    {
     "data": {
      "application/vnd.microsoft.datawrangler.viewer.v0+json": {
       "columns": [
        {
         "name": "index",
         "rawType": "int64",
         "type": "integer"
        },
        {
         "name": "  serial nos2",
         "rawType": "int64",
         "type": "integer"
        },
        {
         "name": "name s2",
         "rawType": "object",
         "type": "string"
        },
        {
         "name": "marks",
         "rawType": "int64",
         "type": "integer"
        },
        {
         "name": "citys2",
         "rawType": "object",
         "type": "string"
        }
       ],
       "ref": "29a8a746-abc1-497b-a694-b9e2cc96fea9",
       "rows": [
        [
         "0",
         "0",
         "Denver",
         "45",
         "Days Gone"
        ],
        [
         "1",
         "1",
         "Boozer",
         "34",
         "Days Gone"
        ]
       ],
       "shape": {
        "columns": 4,
        "rows": 2
       }
      },
      "text/html": [
       "<div>\n",
       "<style scoped>\n",
       "    .dataframe tbody tr th:only-of-type {\n",
       "        vertical-align: middle;\n",
       "    }\n",
       "\n",
       "    .dataframe tbody tr th {\n",
       "        vertical-align: top;\n",
       "    }\n",
       "\n",
       "    .dataframe thead th {\n",
       "        text-align: right;\n",
       "    }\n",
       "</style>\n",
       "<table border=\"1\" class=\"dataframe\">\n",
       "  <thead>\n",
       "    <tr style=\"text-align: right;\">\n",
       "      <th></th>\n",
       "      <th>serial nos2</th>\n",
       "      <th>name s2</th>\n",
       "      <th>marks</th>\n",
       "      <th>citys2</th>\n",
       "    </tr>\n",
       "  </thead>\n",
       "  <tbody>\n",
       "    <tr>\n",
       "      <th>0</th>\n",
       "      <td>0</td>\n",
       "      <td>Denver</td>\n",
       "      <td>45</td>\n",
       "      <td>Days Gone</td>\n",
       "    </tr>\n",
       "    <tr>\n",
       "      <th>1</th>\n",
       "      <td>1</td>\n",
       "      <td>Boozer</td>\n",
       "      <td>34</td>\n",
       "      <td>Days Gone</td>\n",
       "    </tr>\n",
       "  </tbody>\n",
       "</table>\n",
       "</div>"
      ],
      "text/plain": [
       "     serial nos2 name s2  marks     citys2\n",
       "0              0  Denver     45  Days Gone\n",
       "1              1  Boozer     34  Days Gone"
      ]
     },
     "execution_count": 46,
     "metadata": {},
     "output_type": "execute_result"
    }
   ],
   "source": [
    "newval = pd.read_csv('newdata.csv')\n",
    "newval"
   ]
  },
  {
   "cell_type": "code",
   "execution_count": 47,
   "id": "7e62380e",
   "metadata": {},
   "outputs": [
    {
     "data": {
      "application/vnd.microsoft.datawrangler.viewer.v0+json": {
       "columns": [
        {
         "name": "index",
         "rawType": "int64",
         "type": "integer"
        },
        {
         "name": "Game no",
         "rawType": "int64",
         "type": "integer"
        },
        {
         "name": "Name",
         "rawType": "object",
         "type": "string"
        },
        {
         "name": "origin",
         "rawType": "object",
         "type": "unknown"
        }
       ],
       "ref": "e3df0912-596e-47d4-b5ee-d65934311a88",
       "rows": [
        [
         "0",
         "1",
         "RDR 2",
         "Action"
        ],
        [
         "1",
         "2",
         "Max PayneActjion",
         null
        ],
        [
         "2",
         "3",
         "GTA V",
         "Fantasy"
        ]
       ],
       "shape": {
        "columns": 3,
        "rows": 3
       }
      },
      "text/html": [
       "<div>\n",
       "<style scoped>\n",
       "    .dataframe tbody tr th:only-of-type {\n",
       "        vertical-align: middle;\n",
       "    }\n",
       "\n",
       "    .dataframe tbody tr th {\n",
       "        vertical-align: top;\n",
       "    }\n",
       "\n",
       "    .dataframe thead th {\n",
       "        text-align: right;\n",
       "    }\n",
       "</style>\n",
       "<table border=\"1\" class=\"dataframe\">\n",
       "  <thead>\n",
       "    <tr style=\"text-align: right;\">\n",
       "      <th></th>\n",
       "      <th>Game no</th>\n",
       "      <th>Name</th>\n",
       "      <th>origin</th>\n",
       "    </tr>\n",
       "  </thead>\n",
       "  <tbody>\n",
       "    <tr>\n",
       "      <th>0</th>\n",
       "      <td>1</td>\n",
       "      <td>RDR 2</td>\n",
       "      <td>Action</td>\n",
       "    </tr>\n",
       "    <tr>\n",
       "      <th>1</th>\n",
       "      <td>2</td>\n",
       "      <td>Max PayneActjion</td>\n",
       "      <td>NaN</td>\n",
       "    </tr>\n",
       "    <tr>\n",
       "      <th>2</th>\n",
       "      <td>3</td>\n",
       "      <td>GTA V</td>\n",
       "      <td>Fantasy</td>\n",
       "    </tr>\n",
       "  </tbody>\n",
       "</table>\n",
       "</div>"
      ],
      "text/plain": [
       "   Game no              Name   origin\n",
       "0        1             RDR 2   Action\n",
       "1        2  Max PayneActjion      NaN\n",
       "2        3             GTA V  Fantasy"
      ]
     },
     "execution_count": 47,
     "metadata": {},
     "output_type": "execute_result"
    }
   ],
   "source": [
    "newval1 = pd.read_excel('my.xlsx')\n",
    "newval1"
   ]
  },
  {
   "cell_type": "code",
   "execution_count": 48,
   "id": "9832518b",
   "metadata": {},
   "outputs": [
    {
     "data": {
      "application/vnd.microsoft.datawrangler.viewer.v0+json": {
       "columns": [
        {
         "name": "index",
         "rawType": "int64",
         "type": "integer"
        },
        {
         "name": "  serial nos2",
         "rawType": "int64",
         "type": "integer"
        },
        {
         "name": "name s2",
         "rawType": "object",
         "type": "string"
        },
        {
         "name": "marks",
         "rawType": "int64",
         "type": "integer"
        },
        {
         "name": "citys2",
         "rawType": "object",
         "type": "string"
        }
       ],
       "ref": "e491056f-bcd4-4da5-bb29-5fa4e031b404",
       "rows": [
        [
         "0",
         "34",
         "Denver",
         "45",
         "Days Gone"
        ],
        [
         "1",
         "1",
         "Boozer",
         "34",
         "Days Gone"
        ]
       ],
       "shape": {
        "columns": 4,
        "rows": 2
       }
      },
      "text/html": [
       "<div>\n",
       "<style scoped>\n",
       "    .dataframe tbody tr th:only-of-type {\n",
       "        vertical-align: middle;\n",
       "    }\n",
       "\n",
       "    .dataframe tbody tr th {\n",
       "        vertical-align: top;\n",
       "    }\n",
       "\n",
       "    .dataframe thead th {\n",
       "        text-align: right;\n",
       "    }\n",
       "</style>\n",
       "<table border=\"1\" class=\"dataframe\">\n",
       "  <thead>\n",
       "    <tr style=\"text-align: right;\">\n",
       "      <th></th>\n",
       "      <th>serial nos2</th>\n",
       "      <th>name s2</th>\n",
       "      <th>marks</th>\n",
       "      <th>citys2</th>\n",
       "    </tr>\n",
       "  </thead>\n",
       "  <tbody>\n",
       "    <tr>\n",
       "      <th>0</th>\n",
       "      <td>34</td>\n",
       "      <td>Denver</td>\n",
       "      <td>45</td>\n",
       "      <td>Days Gone</td>\n",
       "    </tr>\n",
       "    <tr>\n",
       "      <th>1</th>\n",
       "      <td>1</td>\n",
       "      <td>Boozer</td>\n",
       "      <td>34</td>\n",
       "      <td>Days Gone</td>\n",
       "    </tr>\n",
       "  </tbody>\n",
       "</table>\n",
       "</div>"
      ],
      "text/plain": [
       "     serial nos2 name s2  marks     citys2\n",
       "0             34  Denver     45  Days Gone\n",
       "1              1  Boozer     34  Days Gone"
      ]
     },
     "execution_count": 48,
     "metadata": {},
     "output_type": "execute_result"
    }
   ],
   "source": [
    "newval.iloc[0,0] = 34\n",
    "newval"
   ]
  },
  {
   "cell_type": "code",
   "execution_count": null,
   "id": "f891ab2e",
   "metadata": {},
   "outputs": [],
   "source": []
  }
 ],
 "metadata": {
  "kernelspec": {
   "display_name": "Python 3",
   "language": "python",
   "name": "python3"
  },
  "language_info": {
   "codemirror_mode": {
    "name": "ipython",
    "version": 3
   },
   "file_extension": ".py",
   "mimetype": "text/x-python",
   "name": "python",
   "nbconvert_exporter": "python",
   "pygments_lexer": "ipython3",
   "version": "3.13.2"
  }
 },
 "nbformat": 4,
 "nbformat_minor": 5
}
