{
 "cells": [
  {
   "cell_type": "markdown",
   "id": "f8962abd",
   "metadata": {},
   "source": [
    "### Introduction to Pandas"
   ]
  },
  {
   "cell_type": "code",
   "execution_count": 1,
   "id": "6bb6bee6",
   "metadata": {},
   "outputs": [],
   "source": [
    "import pandas as pd\n",
    "import numpy as np\n"
   ]
  },
  {
   "cell_type": "code",
   "execution_count": 2,
   "id": "712c9aed",
   "metadata": {},
   "outputs": [],
   "source": [
    "dic = {\n",
    "    \"name\":['Rick','Arthur'],\n",
    "    \"marks\":[45,34],\n",
    "    \"city\":['California','Boston']\n",
    "}"
   ]
  },
  {
   "cell_type": "code",
   "execution_count": 3,
   "id": "2410f0cd",
   "metadata": {},
   "outputs": [
    {
     "data": {
      "application/vnd.microsoft.datawrangler.viewer.v0+json": {
       "columns": [
        {
         "name": "index",
         "rawType": "int64",
         "type": "integer"
        },
        {
         "name": "name",
         "rawType": "object",
         "type": "string"
        },
        {
         "name": "marks",
         "rawType": "int64",
         "type": "integer"
        },
        {
         "name": "city",
         "rawType": "object",
         "type": "string"
        }
       ],
       "ref": "51b3fb8b-0566-496d-a82a-4626bd94a59f",
       "rows": [
        [
         "0",
         "Rick",
         "45",
         "California"
        ],
        [
         "1",
         "Arthur",
         "34",
         "Boston"
        ]
       ],
       "shape": {
        "columns": 3,
        "rows": 2
       }
      },
      "text/html": [
       "<div>\n",
       "<style scoped>\n",
       "    .dataframe tbody tr th:only-of-type {\n",
       "        vertical-align: middle;\n",
       "    }\n",
       "\n",
       "    .dataframe tbody tr th {\n",
       "        vertical-align: top;\n",
       "    }\n",
       "\n",
       "    .dataframe thead th {\n",
       "        text-align: right;\n",
       "    }\n",
       "</style>\n",
       "<table border=\"1\" class=\"dataframe\">\n",
       "  <thead>\n",
       "    <tr style=\"text-align: right;\">\n",
       "      <th></th>\n",
       "      <th>name</th>\n",
       "      <th>marks</th>\n",
       "      <th>city</th>\n",
       "    </tr>\n",
       "  </thead>\n",
       "  <tbody>\n",
       "    <tr>\n",
       "      <th>0</th>\n",
       "      <td>Rick</td>\n",
       "      <td>45</td>\n",
       "      <td>California</td>\n",
       "    </tr>\n",
       "    <tr>\n",
       "      <th>1</th>\n",
       "      <td>Arthur</td>\n",
       "      <td>34</td>\n",
       "      <td>Boston</td>\n",
       "    </tr>\n",
       "  </tbody>\n",
       "</table>\n",
       "</div>"
      ],
      "text/plain": [
       "     name  marks        city\n",
       "0    Rick     45  California\n",
       "1  Arthur     34      Boston"
      ]
     },
     "execution_count": 3,
     "metadata": {},
     "output_type": "execute_result"
    }
   ],
   "source": [
    "demo  = pd.DataFrame(dic)\n",
    "demo"
   ]
  },
  {
   "cell_type": "code",
   "execution_count": 4,
   "id": "b4785d5f",
   "metadata": {},
   "outputs": [],
   "source": [
    "demo.to_csv('data_index_false.csv',index=False)"
   ]
  },
  {
   "cell_type": "code",
   "execution_count": 5,
   "id": "fb641582",
   "metadata": {},
   "outputs": [
    {
     "data": {
      "application/vnd.microsoft.datawrangler.viewer.v0+json": {
       "columns": [
        {
         "name": "index",
         "rawType": "int64",
         "type": "integer"
        },
        {
         "name": "name",
         "rawType": "object",
         "type": "string"
        },
        {
         "name": "marks",
         "rawType": "int64",
         "type": "integer"
        },
        {
         "name": "city",
         "rawType": "object",
         "type": "string"
        }
       ],
       "ref": "34206fec-3d0f-4487-b056-8390d73cbba2",
       "rows": [
        [
         "0",
         "Rick",
         "45",
         "California"
        ],
        [
         "1",
         "Arthur",
         "34",
         "Boston"
        ]
       ],
       "shape": {
        "columns": 3,
        "rows": 2
       }
      },
      "text/html": [
       "<div>\n",
       "<style scoped>\n",
       "    .dataframe tbody tr th:only-of-type {\n",
       "        vertical-align: middle;\n",
       "    }\n",
       "\n",
       "    .dataframe tbody tr th {\n",
       "        vertical-align: top;\n",
       "    }\n",
       "\n",
       "    .dataframe thead th {\n",
       "        text-align: right;\n",
       "    }\n",
       "</style>\n",
       "<table border=\"1\" class=\"dataframe\">\n",
       "  <thead>\n",
       "    <tr style=\"text-align: right;\">\n",
       "      <th></th>\n",
       "      <th>name</th>\n",
       "      <th>marks</th>\n",
       "      <th>city</th>\n",
       "    </tr>\n",
       "  </thead>\n",
       "  <tbody>\n",
       "    <tr>\n",
       "      <th>0</th>\n",
       "      <td>Rick</td>\n",
       "      <td>45</td>\n",
       "      <td>California</td>\n",
       "    </tr>\n",
       "    <tr>\n",
       "      <th>1</th>\n",
       "      <td>Arthur</td>\n",
       "      <td>34</td>\n",
       "      <td>Boston</td>\n",
       "    </tr>\n",
       "  </tbody>\n",
       "</table>\n",
       "</div>"
      ],
      "text/plain": [
       "     name  marks        city\n",
       "0    Rick     45  California\n",
       "1  Arthur     34      Boston"
      ]
     },
     "execution_count": 5,
     "metadata": {},
     "output_type": "execute_result"
    }
   ],
   "source": [
    "demo.head(2)"
   ]
  },
  {
   "cell_type": "code",
   "execution_count": 6,
   "id": "d720b96d",
   "metadata": {},
   "outputs": [
    {
     "data": {
      "application/vnd.microsoft.datawrangler.viewer.v0+json": {
       "columns": [
        {
         "name": "index",
         "rawType": "int64",
         "type": "integer"
        },
        {
         "name": "name",
         "rawType": "object",
         "type": "string"
        },
        {
         "name": "marks",
         "rawType": "int64",
         "type": "integer"
        },
        {
         "name": "city",
         "rawType": "object",
         "type": "string"
        }
       ],
       "ref": "114f95c4-c0f0-4d9a-82f4-61e53fb95758",
       "rows": [
        [
         "1",
         "Arthur",
         "34",
         "Boston"
        ]
       ],
       "shape": {
        "columns": 3,
        "rows": 1
       }
      },
      "text/html": [
       "<div>\n",
       "<style scoped>\n",
       "    .dataframe tbody tr th:only-of-type {\n",
       "        vertical-align: middle;\n",
       "    }\n",
       "\n",
       "    .dataframe tbody tr th {\n",
       "        vertical-align: top;\n",
       "    }\n",
       "\n",
       "    .dataframe thead th {\n",
       "        text-align: right;\n",
       "    }\n",
       "</style>\n",
       "<table border=\"1\" class=\"dataframe\">\n",
       "  <thead>\n",
       "    <tr style=\"text-align: right;\">\n",
       "      <th></th>\n",
       "      <th>name</th>\n",
       "      <th>marks</th>\n",
       "      <th>city</th>\n",
       "    </tr>\n",
       "  </thead>\n",
       "  <tbody>\n",
       "    <tr>\n",
       "      <th>1</th>\n",
       "      <td>Arthur</td>\n",
       "      <td>34</td>\n",
       "      <td>Boston</td>\n",
       "    </tr>\n",
       "  </tbody>\n",
       "</table>\n",
       "</div>"
      ],
      "text/plain": [
       "     name  marks    city\n",
       "1  Arthur     34  Boston"
      ]
     },
     "execution_count": 6,
     "metadata": {},
     "output_type": "execute_result"
    }
   ],
   "source": [
    "demo.tail(1)"
   ]
  },
  {
   "cell_type": "markdown",
   "id": "21efdd9e",
   "metadata": {},
   "source": [
    "**Statstical Observation/Analysis of Data**"
   ]
  },
  {
   "cell_type": "code",
   "execution_count": 7,
   "id": "df6bcbd1",
   "metadata": {},
   "outputs": [
    {
     "data": {
      "application/vnd.microsoft.datawrangler.viewer.v0+json": {
       "columns": [
        {
         "name": "index",
         "rawType": "object",
         "type": "string"
        },
        {
         "name": "marks",
         "rawType": "float64",
         "type": "float"
        }
       ],
       "ref": "1712ff93-63b3-4ca0-99fb-11002d6e6a3a",
       "rows": [
        [
         "count",
         "2.0"
        ],
        [
         "mean",
         "39.5"
        ],
        [
         "std",
         "7.7781745930520225"
        ],
        [
         "min",
         "34.0"
        ],
        [
         "25%",
         "36.75"
        ],
        [
         "50%",
         "39.5"
        ],
        [
         "75%",
         "42.25"
        ],
        [
         "max",
         "45.0"
        ]
       ],
       "shape": {
        "columns": 1,
        "rows": 8
       }
      },
      "text/html": [
       "<div>\n",
       "<style scoped>\n",
       "    .dataframe tbody tr th:only-of-type {\n",
       "        vertical-align: middle;\n",
       "    }\n",
       "\n",
       "    .dataframe tbody tr th {\n",
       "        vertical-align: top;\n",
       "    }\n",
       "\n",
       "    .dataframe thead th {\n",
       "        text-align: right;\n",
       "    }\n",
       "</style>\n",
       "<table border=\"1\" class=\"dataframe\">\n",
       "  <thead>\n",
       "    <tr style=\"text-align: right;\">\n",
       "      <th></th>\n",
       "      <th>marks</th>\n",
       "    </tr>\n",
       "  </thead>\n",
       "  <tbody>\n",
       "    <tr>\n",
       "      <th>count</th>\n",
       "      <td>2.000000</td>\n",
       "    </tr>\n",
       "    <tr>\n",
       "      <th>mean</th>\n",
       "      <td>39.500000</td>\n",
       "    </tr>\n",
       "    <tr>\n",
       "      <th>std</th>\n",
       "      <td>7.778175</td>\n",
       "    </tr>\n",
       "    <tr>\n",
       "      <th>min</th>\n",
       "      <td>34.000000</td>\n",
       "    </tr>\n",
       "    <tr>\n",
       "      <th>25%</th>\n",
       "      <td>36.750000</td>\n",
       "    </tr>\n",
       "    <tr>\n",
       "      <th>50%</th>\n",
       "      <td>39.500000</td>\n",
       "    </tr>\n",
       "    <tr>\n",
       "      <th>75%</th>\n",
       "      <td>42.250000</td>\n",
       "    </tr>\n",
       "    <tr>\n",
       "      <th>max</th>\n",
       "      <td>45.000000</td>\n",
       "    </tr>\n",
       "  </tbody>\n",
       "</table>\n",
       "</div>"
      ],
      "text/plain": [
       "           marks\n",
       "count   2.000000\n",
       "mean   39.500000\n",
       "std     7.778175\n",
       "min    34.000000\n",
       "25%    36.750000\n",
       "50%    39.500000\n",
       "75%    42.250000\n",
       "max    45.000000"
      ]
     },
     "execution_count": 7,
     "metadata": {},
     "output_type": "execute_result"
    }
   ],
   "source": [
    "demo.describe()           #calculate statisticall analsyis"
   ]
  },
  {
   "cell_type": "code",
   "execution_count": 8,
   "id": "0bdfd95c",
   "metadata": {},
   "outputs": [
    {
     "name": "stderr",
     "output_type": "stream",
     "text": [
      "C:\\Users\\Gagan\\AppData\\Local\\Temp\\ipykernel_23636\\3678646553.py:1: FutureWarning: ChainedAssignmentError: behaviour will change in pandas 3.0!\n",
      "You are setting values through chained assignment. Currently this works in certain cases, but when using Copy-on-Write (which will become the default behaviour in pandas 3.0) this will never work to update the original DataFrame or Series, because the intermediate object on which we are setting values will behave as a copy.\n",
      "A typical example is when you are setting values in a column of a DataFrame, like:\n",
      "\n",
      "df[\"col\"][row_indexer] = value\n",
      "\n",
      "Use `df.loc[row_indexer, \"col\"] = values` instead, to perform the assignment in a single step and ensure this keeps updating the original `df`.\n",
      "\n",
      "See the caveats in the documentation: https://pandas.pydata.org/pandas-docs/stable/user_guide/indexing.html#returning-a-view-versus-a-copy\n",
      "\n",
      "  demo['marks'][0]  = 90\n",
      "C:\\Users\\Gagan\\AppData\\Local\\Temp\\ipykernel_23636\\3678646553.py:1: SettingWithCopyWarning: \n",
      "A value is trying to be set on a copy of a slice from a DataFrame\n",
      "\n",
      "See the caveats in the documentation: https://pandas.pydata.org/pandas-docs/stable/user_guide/indexing.html#returning-a-view-versus-a-copy\n",
      "  demo['marks'][0]  = 90\n"
     ]
    }
   ],
   "source": [
    "demo['marks'][0]  = 90"
   ]
  },
  {
   "cell_type": "code",
   "execution_count": 9,
   "id": "913d112a",
   "metadata": {},
   "outputs": [
    {
     "data": {
      "application/vnd.microsoft.datawrangler.viewer.v0+json": {
       "columns": [
        {
         "name": "index",
         "rawType": "int64",
         "type": "integer"
        },
        {
         "name": "name",
         "rawType": "object",
         "type": "string"
        },
        {
         "name": "marks",
         "rawType": "int64",
         "type": "integer"
        },
        {
         "name": "city",
         "rawType": "object",
         "type": "string"
        }
       ],
       "ref": "d9389346-9ff0-4617-838c-3fbf59df923f",
       "rows": [
        [
         "0",
         "Rick",
         "90",
         "California"
        ],
        [
         "1",
         "Arthur",
         "34",
         "Boston"
        ]
       ],
       "shape": {
        "columns": 3,
        "rows": 2
       }
      },
      "text/html": [
       "<div>\n",
       "<style scoped>\n",
       "    .dataframe tbody tr th:only-of-type {\n",
       "        vertical-align: middle;\n",
       "    }\n",
       "\n",
       "    .dataframe tbody tr th {\n",
       "        vertical-align: top;\n",
       "    }\n",
       "\n",
       "    .dataframe thead th {\n",
       "        text-align: right;\n",
       "    }\n",
       "</style>\n",
       "<table border=\"1\" class=\"dataframe\">\n",
       "  <thead>\n",
       "    <tr style=\"text-align: right;\">\n",
       "      <th></th>\n",
       "      <th>name</th>\n",
       "      <th>marks</th>\n",
       "      <th>city</th>\n",
       "    </tr>\n",
       "  </thead>\n",
       "  <tbody>\n",
       "    <tr>\n",
       "      <th>0</th>\n",
       "      <td>Rick</td>\n",
       "      <td>90</td>\n",
       "      <td>California</td>\n",
       "    </tr>\n",
       "    <tr>\n",
       "      <th>1</th>\n",
       "      <td>Arthur</td>\n",
       "      <td>34</td>\n",
       "      <td>Boston</td>\n",
       "    </tr>\n",
       "  </tbody>\n",
       "</table>\n",
       "</div>"
      ],
      "text/plain": [
       "     name  marks        city\n",
       "0    Rick     90  California\n",
       "1  Arthur     34      Boston"
      ]
     },
     "execution_count": 9,
     "metadata": {},
     "output_type": "execute_result"
    }
   ],
   "source": [
    "demo"
   ]
  },
  {
   "cell_type": "code",
   "execution_count": 10,
   "id": "fa0d43b8",
   "metadata": {},
   "outputs": [],
   "source": [
    "demo.to_csv('new.csv')"
   ]
  },
  {
   "cell_type": "code",
   "execution_count": 11,
   "id": "ae2853f1",
   "metadata": {},
   "outputs": [
    {
     "data": {
      "application/vnd.microsoft.datawrangler.viewer.v0+json": {
       "columns": [
        {
         "name": "index",
         "rawType": "object",
         "type": "string"
        },
        {
         "name": "name",
         "rawType": "object",
         "type": "string"
        },
        {
         "name": "marks",
         "rawType": "int64",
         "type": "integer"
        },
        {
         "name": "city",
         "rawType": "object",
         "type": "string"
        }
       ],
       "ref": "f05870b6-9e85-4ff1-9fe8-cdaee9115350",
       "rows": [
        [
         "first",
         "Rick",
         "90",
         "California"
        ],
        [
         "second",
         "Arthur",
         "34",
         "Boston"
        ]
       ],
       "shape": {
        "columns": 3,
        "rows": 2
       }
      },
      "text/html": [
       "<div>\n",
       "<style scoped>\n",
       "    .dataframe tbody tr th:only-of-type {\n",
       "        vertical-align: middle;\n",
       "    }\n",
       "\n",
       "    .dataframe tbody tr th {\n",
       "        vertical-align: top;\n",
       "    }\n",
       "\n",
       "    .dataframe thead th {\n",
       "        text-align: right;\n",
       "    }\n",
       "</style>\n",
       "<table border=\"1\" class=\"dataframe\">\n",
       "  <thead>\n",
       "    <tr style=\"text-align: right;\">\n",
       "      <th></th>\n",
       "      <th>name</th>\n",
       "      <th>marks</th>\n",
       "      <th>city</th>\n",
       "    </tr>\n",
       "  </thead>\n",
       "  <tbody>\n",
       "    <tr>\n",
       "      <th>first</th>\n",
       "      <td>Rick</td>\n",
       "      <td>90</td>\n",
       "      <td>California</td>\n",
       "    </tr>\n",
       "    <tr>\n",
       "      <th>second</th>\n",
       "      <td>Arthur</td>\n",
       "      <td>34</td>\n",
       "      <td>Boston</td>\n",
       "    </tr>\n",
       "  </tbody>\n",
       "</table>\n",
       "</div>"
      ],
      "text/plain": [
       "          name  marks        city\n",
       "first     Rick     90  California\n",
       "second  Arthur     34      Boston"
      ]
     },
     "execution_count": 11,
     "metadata": {},
     "output_type": "execute_result"
    }
   ],
   "source": [
    "demo.index = ['first','second']         #assign indexes\n",
    "demo"
   ]
  },
  {
   "cell_type": "code",
   "execution_count": 12,
   "id": "1485f8dd",
   "metadata": {},
   "outputs": [
    {
     "data": {
      "application/vnd.microsoft.datawrangler.viewer.v0+json": {
       "columns": [
        {
         "name": "index",
         "rawType": "int64",
         "type": "integer"
        },
        {
         "name": "0",
         "rawType": "float64",
         "type": "float"
        }
       ],
       "ref": "79bd18ca-409f-4d52-ad40-2b35b12ef9d6",
       "rows": [
        [
         "0",
         "0.955577612774046"
        ],
        [
         "1",
         "0.2103815851647809"
        ],
        [
         "2",
         "0.6077288921894397"
        ],
        [
         "3",
         "0.4112870397482056"
        ],
        [
         "4",
         "0.6348724781834647"
        ],
        [
         "5",
         "0.8278314276700551"
        ],
        [
         "6",
         "0.24432773339147484"
        ],
        [
         "7",
         "0.697861248595794"
        ],
        [
         "8",
         "0.7193027691390407"
        ],
        [
         "9",
         "0.020112155418382738"
        ]
       ],
       "shape": {
        "columns": 1,
        "rows": 10
       }
      },
      "text/plain": [
       "0    0.955578\n",
       "1    0.210382\n",
       "2    0.607729\n",
       "3    0.411287\n",
       "4    0.634872\n",
       "5    0.827831\n",
       "6    0.244328\n",
       "7    0.697861\n",
       "8    0.719303\n",
       "9    0.020112\n",
       "dtype: float64"
      ]
     },
     "execution_count": 12,
     "metadata": {},
     "output_type": "execute_result"
    }
   ],
   "source": [
    "ser = pd.Series(np.random.rand(10))\n",
    "ser"
   ]
  },
  {
   "cell_type": "code",
   "execution_count": 13,
   "id": "0b6beae5",
   "metadata": {},
   "outputs": [
    {
     "data": {
      "application/vnd.microsoft.datawrangler.viewer.v0+json": {
       "columns": [
        {
         "name": "index",
         "rawType": "int64",
         "type": "integer"
        },
        {
         "name": "0",
         "rawType": "float64",
         "type": "float"
        },
        {
         "name": "1",
         "rawType": "float64",
         "type": "float"
        },
        {
         "name": "2",
         "rawType": "float64",
         "type": "float"
        },
        {
         "name": "3",
         "rawType": "float64",
         "type": "float"
        },
        {
         "name": "4",
         "rawType": "float64",
         "type": "float"
        }
       ],
       "ref": "68ed0d30-fef4-4c26-83d4-e02eddd0ee71",
       "rows": [
        [
         "0",
         "0.1890880988119903",
         "0.7353330881880906",
         "0.6654478058376195",
         "0.8231651629968497",
         "0.09521448590014225"
        ],
        [
         "1",
         "0.5296788259810971",
         "0.8055581315653556",
         "0.2446351142032439",
         "0.24628591354087037",
         "0.8016272624830633"
        ],
        [
         "2",
         "0.7820667244531102",
         "0.9097956577228845",
         "0.33607538004479864",
         "0.05601769514151045",
         "0.3854714439120136"
        ],
        [
         "3",
         "0.8562915603273978",
         "0.37096049366477435",
         "0.19936517502086004",
         "0.887981874868886",
         "0.6031407455161603"
        ],
        [
         "4",
         "0.19575315799175497",
         "0.2806657454855127",
         "0.08621297177947784",
         "0.6095594675339207",
         "0.6146950230272517"
        ]
       ],
       "shape": {
        "columns": 5,
        "rows": 5
       }
      },
      "text/html": [
       "<div>\n",
       "<style scoped>\n",
       "    .dataframe tbody tr th:only-of-type {\n",
       "        vertical-align: middle;\n",
       "    }\n",
       "\n",
       "    .dataframe tbody tr th {\n",
       "        vertical-align: top;\n",
       "    }\n",
       "\n",
       "    .dataframe thead th {\n",
       "        text-align: right;\n",
       "    }\n",
       "</style>\n",
       "<table border=\"1\" class=\"dataframe\">\n",
       "  <thead>\n",
       "    <tr style=\"text-align: right;\">\n",
       "      <th></th>\n",
       "      <th>0</th>\n",
       "      <th>1</th>\n",
       "      <th>2</th>\n",
       "      <th>3</th>\n",
       "      <th>4</th>\n",
       "    </tr>\n",
       "  </thead>\n",
       "  <tbody>\n",
       "    <tr>\n",
       "      <th>0</th>\n",
       "      <td>0.189088</td>\n",
       "      <td>0.735333</td>\n",
       "      <td>0.665448</td>\n",
       "      <td>0.823165</td>\n",
       "      <td>0.095214</td>\n",
       "    </tr>\n",
       "    <tr>\n",
       "      <th>1</th>\n",
       "      <td>0.529679</td>\n",
       "      <td>0.805558</td>\n",
       "      <td>0.244635</td>\n",
       "      <td>0.246286</td>\n",
       "      <td>0.801627</td>\n",
       "    </tr>\n",
       "    <tr>\n",
       "      <th>2</th>\n",
       "      <td>0.782067</td>\n",
       "      <td>0.909796</td>\n",
       "      <td>0.336075</td>\n",
       "      <td>0.056018</td>\n",
       "      <td>0.385471</td>\n",
       "    </tr>\n",
       "    <tr>\n",
       "      <th>3</th>\n",
       "      <td>0.856292</td>\n",
       "      <td>0.370960</td>\n",
       "      <td>0.199365</td>\n",
       "      <td>0.887982</td>\n",
       "      <td>0.603141</td>\n",
       "    </tr>\n",
       "    <tr>\n",
       "      <th>4</th>\n",
       "      <td>0.195753</td>\n",
       "      <td>0.280666</td>\n",
       "      <td>0.086213</td>\n",
       "      <td>0.609559</td>\n",
       "      <td>0.614695</td>\n",
       "    </tr>\n",
       "  </tbody>\n",
       "</table>\n",
       "</div>"
      ],
      "text/plain": [
       "          0         1         2         3         4\n",
       "0  0.189088  0.735333  0.665448  0.823165  0.095214\n",
       "1  0.529679  0.805558  0.244635  0.246286  0.801627\n",
       "2  0.782067  0.909796  0.336075  0.056018  0.385471\n",
       "3  0.856292  0.370960  0.199365  0.887982  0.603141\n",
       "4  0.195753  0.280666  0.086213  0.609559  0.614695"
      ]
     },
     "execution_count": 13,
     "metadata": {},
     "output_type": "execute_result"
    }
   ],
   "source": [
    "newdata = pd.DataFrame(np.random.rand(334,5),index=np.arange(334))\n",
    "newdata.head()  #return the head value"
   ]
  },
  {
   "cell_type": "code",
   "execution_count": 14,
   "id": "067fcbc1",
   "metadata": {},
   "outputs": [
    {
     "data": {
      "application/vnd.microsoft.datawrangler.viewer.v0+json": {
       "columns": [
        {
         "name": "index",
         "rawType": "object",
         "type": "string"
        },
        {
         "name": "0",
         "rawType": "float64",
         "type": "float"
        },
        {
         "name": "1",
         "rawType": "float64",
         "type": "float"
        },
        {
         "name": "2",
         "rawType": "float64",
         "type": "float"
        },
        {
         "name": "3",
         "rawType": "float64",
         "type": "float"
        },
        {
         "name": "4",
         "rawType": "float64",
         "type": "float"
        }
       ],
       "ref": "12052b0c-df43-4cae-a1d5-10926453e42f",
       "rows": [
        [
         "count",
         "334.0",
         "334.0",
         "334.0",
         "334.0",
         "334.0"
        ],
        [
         "mean",
         "0.5188047420271923",
         "0.49278328455221976",
         "0.4785108937473844",
         "0.5093637896773715",
         "0.5379000240782116"
        ],
        [
         "std",
         "0.2889838311417662",
         "0.30267213752254774",
         "0.2933973799522539",
         "0.27821862259269364",
         "0.28992597922831437"
        ],
        [
         "min",
         "0.0018413899290647961",
         "0.00046574643435848273",
         "0.007484529633977499",
         "0.002472302682795413",
         "0.002233338595157841"
        ],
        [
         "25%",
         "0.2539951334567401",
         "0.24442646409717206",
         "0.20684922659387855",
         "0.2805013343508772",
         "0.28734297209606996"
        ],
        [
         "50%",
         "0.5410219673531858",
         "0.482835570500577",
         "0.4868977912514292",
         "0.5125146175578618",
         "0.5919244122259708"
        ],
        [
         "75%",
         "0.7586816668268401",
         "0.7631384311044855",
         "0.7256229187970986",
         "0.7395850917369156",
         "0.7934482808678103"
        ],
        [
         "max",
         "0.999368641179741",
         "0.997187847024821",
         "0.9961105336997568",
         "0.9989031309174647",
         "0.9958498061252575"
        ]
       ],
       "shape": {
        "columns": 5,
        "rows": 8
       }
      },
      "text/html": [
       "<div>\n",
       "<style scoped>\n",
       "    .dataframe tbody tr th:only-of-type {\n",
       "        vertical-align: middle;\n",
       "    }\n",
       "\n",
       "    .dataframe tbody tr th {\n",
       "        vertical-align: top;\n",
       "    }\n",
       "\n",
       "    .dataframe thead th {\n",
       "        text-align: right;\n",
       "    }\n",
       "</style>\n",
       "<table border=\"1\" class=\"dataframe\">\n",
       "  <thead>\n",
       "    <tr style=\"text-align: right;\">\n",
       "      <th></th>\n",
       "      <th>0</th>\n",
       "      <th>1</th>\n",
       "      <th>2</th>\n",
       "      <th>3</th>\n",
       "      <th>4</th>\n",
       "    </tr>\n",
       "  </thead>\n",
       "  <tbody>\n",
       "    <tr>\n",
       "      <th>count</th>\n",
       "      <td>334.000000</td>\n",
       "      <td>334.000000</td>\n",
       "      <td>334.000000</td>\n",
       "      <td>334.000000</td>\n",
       "      <td>334.000000</td>\n",
       "    </tr>\n",
       "    <tr>\n",
       "      <th>mean</th>\n",
       "      <td>0.518805</td>\n",
       "      <td>0.492783</td>\n",
       "      <td>0.478511</td>\n",
       "      <td>0.509364</td>\n",
       "      <td>0.537900</td>\n",
       "    </tr>\n",
       "    <tr>\n",
       "      <th>std</th>\n",
       "      <td>0.288984</td>\n",
       "      <td>0.302672</td>\n",
       "      <td>0.293397</td>\n",
       "      <td>0.278219</td>\n",
       "      <td>0.289926</td>\n",
       "    </tr>\n",
       "    <tr>\n",
       "      <th>min</th>\n",
       "      <td>0.001841</td>\n",
       "      <td>0.000466</td>\n",
       "      <td>0.007485</td>\n",
       "      <td>0.002472</td>\n",
       "      <td>0.002233</td>\n",
       "    </tr>\n",
       "    <tr>\n",
       "      <th>25%</th>\n",
       "      <td>0.253995</td>\n",
       "      <td>0.244426</td>\n",
       "      <td>0.206849</td>\n",
       "      <td>0.280501</td>\n",
       "      <td>0.287343</td>\n",
       "    </tr>\n",
       "    <tr>\n",
       "      <th>50%</th>\n",
       "      <td>0.541022</td>\n",
       "      <td>0.482836</td>\n",
       "      <td>0.486898</td>\n",
       "      <td>0.512515</td>\n",
       "      <td>0.591924</td>\n",
       "    </tr>\n",
       "    <tr>\n",
       "      <th>75%</th>\n",
       "      <td>0.758682</td>\n",
       "      <td>0.763138</td>\n",
       "      <td>0.725623</td>\n",
       "      <td>0.739585</td>\n",
       "      <td>0.793448</td>\n",
       "    </tr>\n",
       "    <tr>\n",
       "      <th>max</th>\n",
       "      <td>0.999369</td>\n",
       "      <td>0.997188</td>\n",
       "      <td>0.996111</td>\n",
       "      <td>0.998903</td>\n",
       "      <td>0.995850</td>\n",
       "    </tr>\n",
       "  </tbody>\n",
       "</table>\n",
       "</div>"
      ],
      "text/plain": [
       "                0           1           2           3           4\n",
       "count  334.000000  334.000000  334.000000  334.000000  334.000000\n",
       "mean     0.518805    0.492783    0.478511    0.509364    0.537900\n",
       "std      0.288984    0.302672    0.293397    0.278219    0.289926\n",
       "min      0.001841    0.000466    0.007485    0.002472    0.002233\n",
       "25%      0.253995    0.244426    0.206849    0.280501    0.287343\n",
       "50%      0.541022    0.482836    0.486898    0.512515    0.591924\n",
       "75%      0.758682    0.763138    0.725623    0.739585    0.793448\n",
       "max      0.999369    0.997188    0.996111    0.998903    0.995850"
      ]
     },
     "execution_count": 14,
     "metadata": {},
     "output_type": "execute_result"
    }
   ],
   "source": [
    "newdata.describe()"
   ]
  },
  {
   "cell_type": "code",
   "execution_count": 15,
   "id": "64ddeb93",
   "metadata": {},
   "outputs": [
    {
     "name": "stderr",
     "output_type": "stream",
     "text": [
      "C:\\Users\\Gagan\\AppData\\Local\\Temp\\ipykernel_23636\\3782387853.py:1: FutureWarning: ChainedAssignmentError: behaviour will change in pandas 3.0!\n",
      "You are setting values through chained assignment. Currently this works in certain cases, but when using Copy-on-Write (which will become the default behaviour in pandas 3.0) this will never work to update the original DataFrame or Series, because the intermediate object on which we are setting values will behave as a copy.\n",
      "A typical example is when you are setting values in a column of a DataFrame, like:\n",
      "\n",
      "df[\"col\"][row_indexer] = value\n",
      "\n",
      "Use `df.loc[row_indexer, \"col\"] = values` instead, to perform the assignment in a single step and ensure this keeps updating the original `df`.\n",
      "\n",
      "See the caveats in the documentation: https://pandas.pydata.org/pandas-docs/stable/user_guide/indexing.html#returning-a-view-versus-a-copy\n",
      "\n",
      "  newdata[0][0]= 0.34531\n"
     ]
    }
   ],
   "source": [
    "newdata[0][0]= 0.34531"
   ]
  },
  {
   "cell_type": "code",
   "execution_count": 16,
   "id": "4e351607",
   "metadata": {},
   "outputs": [
    {
     "data": {
      "application/vnd.microsoft.datawrangler.viewer.v0+json": {
       "columns": [
        {
         "name": "index",
         "rawType": "int64",
         "type": "integer"
        },
        {
         "name": "0",
         "rawType": "float64",
         "type": "float"
        },
        {
         "name": "1",
         "rawType": "float64",
         "type": "float"
        },
        {
         "name": "2",
         "rawType": "float64",
         "type": "float"
        },
        {
         "name": "3",
         "rawType": "float64",
         "type": "float"
        },
        {
         "name": "4",
         "rawType": "float64",
         "type": "float"
        }
       ],
       "ref": "3fe7516e-e3de-4452-b70b-ec63c8bc2fad",
       "rows": [
        [
         "0",
         "0.34531",
         "0.7353330881880906",
         "0.6654478058376195",
         "0.8231651629968497",
         "0.09521448590014225"
        ],
        [
         "1",
         "0.5296788259810971",
         "0.8055581315653556",
         "0.2446351142032439",
         "0.24628591354087037",
         "0.8016272624830633"
        ],
        [
         "2",
         "0.7820667244531102",
         "0.9097956577228845",
         "0.33607538004479864",
         "0.05601769514151045",
         "0.3854714439120136"
        ],
        [
         "3",
         "0.8562915603273978",
         "0.37096049366477435",
         "0.19936517502086004",
         "0.887981874868886",
         "0.6031407455161603"
        ],
        [
         "4",
         "0.19575315799175497",
         "0.2806657454855127",
         "0.08621297177947784",
         "0.6095594675339207",
         "0.6146950230272517"
        ]
       ],
       "shape": {
        "columns": 5,
        "rows": 5
       }
      },
      "text/html": [
       "<div>\n",
       "<style scoped>\n",
       "    .dataframe tbody tr th:only-of-type {\n",
       "        vertical-align: middle;\n",
       "    }\n",
       "\n",
       "    .dataframe tbody tr th {\n",
       "        vertical-align: top;\n",
       "    }\n",
       "\n",
       "    .dataframe thead th {\n",
       "        text-align: right;\n",
       "    }\n",
       "</style>\n",
       "<table border=\"1\" class=\"dataframe\">\n",
       "  <thead>\n",
       "    <tr style=\"text-align: right;\">\n",
       "      <th></th>\n",
       "      <th>0</th>\n",
       "      <th>1</th>\n",
       "      <th>2</th>\n",
       "      <th>3</th>\n",
       "      <th>4</th>\n",
       "    </tr>\n",
       "  </thead>\n",
       "  <tbody>\n",
       "    <tr>\n",
       "      <th>0</th>\n",
       "      <td>0.345310</td>\n",
       "      <td>0.735333</td>\n",
       "      <td>0.665448</td>\n",
       "      <td>0.823165</td>\n",
       "      <td>0.095214</td>\n",
       "    </tr>\n",
       "    <tr>\n",
       "      <th>1</th>\n",
       "      <td>0.529679</td>\n",
       "      <td>0.805558</td>\n",
       "      <td>0.244635</td>\n",
       "      <td>0.246286</td>\n",
       "      <td>0.801627</td>\n",
       "    </tr>\n",
       "    <tr>\n",
       "      <th>2</th>\n",
       "      <td>0.782067</td>\n",
       "      <td>0.909796</td>\n",
       "      <td>0.336075</td>\n",
       "      <td>0.056018</td>\n",
       "      <td>0.385471</td>\n",
       "    </tr>\n",
       "    <tr>\n",
       "      <th>3</th>\n",
       "      <td>0.856292</td>\n",
       "      <td>0.370960</td>\n",
       "      <td>0.199365</td>\n",
       "      <td>0.887982</td>\n",
       "      <td>0.603141</td>\n",
       "    </tr>\n",
       "    <tr>\n",
       "      <th>4</th>\n",
       "      <td>0.195753</td>\n",
       "      <td>0.280666</td>\n",
       "      <td>0.086213</td>\n",
       "      <td>0.609559</td>\n",
       "      <td>0.614695</td>\n",
       "    </tr>\n",
       "  </tbody>\n",
       "</table>\n",
       "</div>"
      ],
      "text/plain": [
       "          0         1         2         3         4\n",
       "0  0.345310  0.735333  0.665448  0.823165  0.095214\n",
       "1  0.529679  0.805558  0.244635  0.246286  0.801627\n",
       "2  0.782067  0.909796  0.336075  0.056018  0.385471\n",
       "3  0.856292  0.370960  0.199365  0.887982  0.603141\n",
       "4  0.195753  0.280666  0.086213  0.609559  0.614695"
      ]
     },
     "execution_count": 16,
     "metadata": {},
     "output_type": "execute_result"
    }
   ],
   "source": [
    "newdata.head()"
   ]
  },
  {
   "cell_type": "code",
   "execution_count": 17,
   "id": "0d20749e",
   "metadata": {},
   "outputs": [
    {
     "data": {
      "text/plain": [
       "array([[0.34531   , 0.73533309, 0.66544781, 0.82316516, 0.09521449],\n",
       "       [0.52967883, 0.80555813, 0.24463511, 0.24628591, 0.80162726],\n",
       "       [0.78206672, 0.90979566, 0.33607538, 0.0560177 , 0.38547144],\n",
       "       ...,\n",
       "       [0.85372712, 0.35393648, 0.4600872 , 0.96914238, 0.79886829],\n",
       "       [0.90462129, 0.7028793 , 0.69279503, 0.22303731, 0.76438676],\n",
       "       [0.67053925, 0.41242879, 0.23809039, 0.1378237 , 0.19697337]])"
      ]
     },
     "execution_count": 17,
     "metadata": {},
     "output_type": "execute_result"
    }
   ],
   "source": [
    "newdata.to_numpy()"
   ]
  },
  {
   "cell_type": "code",
   "execution_count": 18,
   "id": "f51c7bf2",
   "metadata": {},
   "outputs": [
    {
     "data": {
      "application/vnd.microsoft.datawrangler.viewer.v0+json": {
       "columns": [
        {
         "name": "index",
         "rawType": "int64",
         "type": "integer"
        },
        {
         "name": "0",
         "rawType": "float64",
         "type": "float"
        },
        {
         "name": "1",
         "rawType": "float64",
         "type": "float"
        },
        {
         "name": "2",
         "rawType": "float64",
         "type": "float"
        },
        {
         "name": "3",
         "rawType": "float64",
         "type": "float"
        },
        {
         "name": "4",
         "rawType": "float64",
         "type": "float"
        },
        {
         "name": "5",
         "rawType": "float64",
         "type": "float"
        },
        {
         "name": "6",
         "rawType": "float64",
         "type": "float"
        },
        {
         "name": "7",
         "rawType": "float64",
         "type": "float"
        },
        {
         "name": "8",
         "rawType": "float64",
         "type": "float"
        },
        {
         "name": "9",
         "rawType": "float64",
         "type": "float"
        },
        {
         "name": "10",
         "rawType": "float64",
         "type": "float"
        },
        {
         "name": "11",
         "rawType": "float64",
         "type": "float"
        },
        {
         "name": "12",
         "rawType": "float64",
         "type": "float"
        },
        {
         "name": "13",
         "rawType": "float64",
         "type": "float"
        },
        {
         "name": "14",
         "rawType": "float64",
         "type": "float"
        },
        {
         "name": "15",
         "rawType": "float64",
         "type": "float"
        },
        {
         "name": "16",
         "rawType": "float64",
         "type": "float"
        },
        {
         "name": "17",
         "rawType": "float64",
         "type": "float"
        },
        {
         "name": "18",
         "rawType": "float64",
         "type": "float"
        },
        {
         "name": "19",
         "rawType": "float64",
         "type": "float"
        },
        {
         "name": "20",
         "rawType": "float64",
         "type": "float"
        },
        {
         "name": "21",
         "rawType": "float64",
         "type": "float"
        },
        {
         "name": "22",
         "rawType": "float64",
         "type": "float"
        },
        {
         "name": "23",
         "rawType": "float64",
         "type": "float"
        },
        {
         "name": "24",
         "rawType": "float64",
         "type": "float"
        },
        {
         "name": "25",
         "rawType": "float64",
         "type": "float"
        },
        {
         "name": "26",
         "rawType": "float64",
         "type": "float"
        },
        {
         "name": "27",
         "rawType": "float64",
         "type": "float"
        },
        {
         "name": "28",
         "rawType": "float64",
         "type": "float"
        },
        {
         "name": "29",
         "rawType": "float64",
         "type": "float"
        },
        {
         "name": "30",
         "rawType": "float64",
         "type": "float"
        },
        {
         "name": "31",
         "rawType": "float64",
         "type": "float"
        },
        {
         "name": "32",
         "rawType": "float64",
         "type": "float"
        },
        {
         "name": "33",
         "rawType": "float64",
         "type": "float"
        },
        {
         "name": "34",
         "rawType": "float64",
         "type": "float"
        },
        {
         "name": "35",
         "rawType": "float64",
         "type": "float"
        },
        {
         "name": "36",
         "rawType": "float64",
         "type": "float"
        },
        {
         "name": "37",
         "rawType": "float64",
         "type": "float"
        },
        {
         "name": "38",
         "rawType": "float64",
         "type": "float"
        },
        {
         "name": "39",
         "rawType": "float64",
         "type": "float"
        },
        {
         "name": "40",
         "rawType": "float64",
         "type": "float"
        },
        {
         "name": "41",
         "rawType": "float64",
         "type": "float"
        },
        {
         "name": "42",
         "rawType": "float64",
         "type": "float"
        },
        {
         "name": "43",
         "rawType": "float64",
         "type": "float"
        },
        {
         "name": "44",
         "rawType": "float64",
         "type": "float"
        },
        {
         "name": "45",
         "rawType": "float64",
         "type": "float"
        },
        {
         "name": "46",
         "rawType": "float64",
         "type": "float"
        },
        {
         "name": "47",
         "rawType": "float64",
         "type": "float"
        },
        {
         "name": "48",
         "rawType": "float64",
         "type": "float"
        },
        {
         "name": "49",
         "rawType": "float64",
         "type": "float"
        },
        {
         "name": "50",
         "rawType": "float64",
         "type": "float"
        },
        {
         "name": "51",
         "rawType": "float64",
         "type": "float"
        },
        {
         "name": "52",
         "rawType": "float64",
         "type": "float"
        },
        {
         "name": "53",
         "rawType": "float64",
         "type": "float"
        },
        {
         "name": "54",
         "rawType": "float64",
         "type": "float"
        },
        {
         "name": "55",
         "rawType": "float64",
         "type": "float"
        },
        {
         "name": "56",
         "rawType": "float64",
         "type": "float"
        },
        {
         "name": "57",
         "rawType": "float64",
         "type": "float"
        },
        {
         "name": "58",
         "rawType": "float64",
         "type": "float"
        },
        {
         "name": "59",
         "rawType": "float64",
         "type": "float"
        },
        {
         "name": "60",
         "rawType": "float64",
         "type": "float"
        },
        {
         "name": "61",
         "rawType": "float64",
         "type": "float"
        },
        {
         "name": "62",
         "rawType": "float64",
         "type": "float"
        },
        {
         "name": "63",
         "rawType": "float64",
         "type": "float"
        },
        {
         "name": "64",
         "rawType": "float64",
         "type": "float"
        },
        {
         "name": "65",
         "rawType": "float64",
         "type": "float"
        },
        {
         "name": "66",
         "rawType": "float64",
         "type": "float"
        },
        {
         "name": "67",
         "rawType": "float64",
         "type": "float"
        },
        {
         "name": "68",
         "rawType": "float64",
         "type": "float"
        },
        {
         "name": "69",
         "rawType": "float64",
         "type": "float"
        },
        {
         "name": "70",
         "rawType": "float64",
         "type": "float"
        },
        {
         "name": "71",
         "rawType": "float64",
         "type": "float"
        },
        {
         "name": "72",
         "rawType": "float64",
         "type": "float"
        },
        {
         "name": "73",
         "rawType": "float64",
         "type": "float"
        },
        {
         "name": "74",
         "rawType": "float64",
         "type": "float"
        },
        {
         "name": "75",
         "rawType": "float64",
         "type": "float"
        },
        {
         "name": "76",
         "rawType": "float64",
         "type": "float"
        },
        {
         "name": "77",
         "rawType": "float64",
         "type": "float"
        },
        {
         "name": "78",
         "rawType": "float64",
         "type": "float"
        },
        {
         "name": "79",
         "rawType": "float64",
         "type": "float"
        },
        {
         "name": "80",
         "rawType": "float64",
         "type": "float"
        },
        {
         "name": "81",
         "rawType": "float64",
         "type": "float"
        },
        {
         "name": "82",
         "rawType": "float64",
         "type": "float"
        },
        {
         "name": "83",
         "rawType": "float64",
         "type": "float"
        },
        {
         "name": "84",
         "rawType": "float64",
         "type": "float"
        },
        {
         "name": "85",
         "rawType": "float64",
         "type": "float"
        },
        {
         "name": "86",
         "rawType": "float64",
         "type": "float"
        },
        {
         "name": "87",
         "rawType": "float64",
         "type": "float"
        },
        {
         "name": "88",
         "rawType": "float64",
         "type": "float"
        },
        {
         "name": "89",
         "rawType": "float64",
         "type": "float"
        },
        {
         "name": "90",
         "rawType": "float64",
         "type": "float"
        },
        {
         "name": "91",
         "rawType": "float64",
         "type": "float"
        },
        {
         "name": "92",
         "rawType": "float64",
         "type": "float"
        },
        {
         "name": "93",
         "rawType": "float64",
         "type": "float"
        },
        {
         "name": "94",
         "rawType": "float64",
         "type": "float"
        },
        {
         "name": "95",
         "rawType": "float64",
         "type": "float"
        },
        {
         "name": "96",
         "rawType": "float64",
         "type": "float"
        },
        {
         "name": "97",
         "rawType": "float64",
         "type": "float"
        },
        {
         "name": "98",
         "rawType": "float64",
         "type": "float"
        },
        {
         "name": "99",
         "rawType": "float64",
         "type": "float"
        },
        {
         "name": "100",
         "rawType": "float64",
         "type": "float"
        },
        {
         "name": "101",
         "rawType": "float64",
         "type": "float"
        },
        {
         "name": "102",
         "rawType": "float64",
         "type": "float"
        },
        {
         "name": "103",
         "rawType": "float64",
         "type": "float"
        },
        {
         "name": "104",
         "rawType": "float64",
         "type": "float"
        },
        {
         "name": "105",
         "rawType": "float64",
         "type": "float"
        },
        {
         "name": "106",
         "rawType": "float64",
         "type": "float"
        },
        {
         "name": "107",
         "rawType": "float64",
         "type": "float"
        },
        {
         "name": "108",
         "rawType": "float64",
         "type": "float"
        },
        {
         "name": "109",
         "rawType": "float64",
         "type": "float"
        },
        {
         "name": "110",
         "rawType": "float64",
         "type": "float"
        },
        {
         "name": "111",
         "rawType": "float64",
         "type": "float"
        },
        {
         "name": "112",
         "rawType": "float64",
         "type": "float"
        },
        {
         "name": "113",
         "rawType": "float64",
         "type": "float"
        },
        {
         "name": "114",
         "rawType": "float64",
         "type": "float"
        },
        {
         "name": "115",
         "rawType": "float64",
         "type": "float"
        },
        {
         "name": "116",
         "rawType": "float64",
         "type": "float"
        },
        {
         "name": "117",
         "rawType": "float64",
         "type": "float"
        },
        {
         "name": "118",
         "rawType": "float64",
         "type": "float"
        },
        {
         "name": "119",
         "rawType": "float64",
         "type": "float"
        },
        {
         "name": "120",
         "rawType": "float64",
         "type": "float"
        },
        {
         "name": "121",
         "rawType": "float64",
         "type": "float"
        },
        {
         "name": "122",
         "rawType": "float64",
         "type": "float"
        },
        {
         "name": "123",
         "rawType": "float64",
         "type": "float"
        },
        {
         "name": "124",
         "rawType": "float64",
         "type": "float"
        },
        {
         "name": "125",
         "rawType": "float64",
         "type": "float"
        },
        {
         "name": "126",
         "rawType": "float64",
         "type": "float"
        },
        {
         "name": "127",
         "rawType": "float64",
         "type": "float"
        },
        {
         "name": "128",
         "rawType": "float64",
         "type": "float"
        },
        {
         "name": "129",
         "rawType": "float64",
         "type": "float"
        },
        {
         "name": "130",
         "rawType": "float64",
         "type": "float"
        },
        {
         "name": "131",
         "rawType": "float64",
         "type": "float"
        },
        {
         "name": "132",
         "rawType": "float64",
         "type": "float"
        },
        {
         "name": "133",
         "rawType": "float64",
         "type": "float"
        },
        {
         "name": "134",
         "rawType": "float64",
         "type": "float"
        },
        {
         "name": "135",
         "rawType": "float64",
         "type": "float"
        },
        {
         "name": "136",
         "rawType": "float64",
         "type": "float"
        },
        {
         "name": "137",
         "rawType": "float64",
         "type": "float"
        },
        {
         "name": "138",
         "rawType": "float64",
         "type": "float"
        },
        {
         "name": "139",
         "rawType": "float64",
         "type": "float"
        },
        {
         "name": "140",
         "rawType": "float64",
         "type": "float"
        },
        {
         "name": "141",
         "rawType": "float64",
         "type": "float"
        },
        {
         "name": "142",
         "rawType": "float64",
         "type": "float"
        },
        {
         "name": "143",
         "rawType": "float64",
         "type": "float"
        },
        {
         "name": "144",
         "rawType": "float64",
         "type": "float"
        },
        {
         "name": "145",
         "rawType": "float64",
         "type": "float"
        },
        {
         "name": "146",
         "rawType": "float64",
         "type": "float"
        },
        {
         "name": "147",
         "rawType": "float64",
         "type": "float"
        },
        {
         "name": "148",
         "rawType": "float64",
         "type": "float"
        },
        {
         "name": "149",
         "rawType": "float64",
         "type": "float"
        },
        {
         "name": "150",
         "rawType": "float64",
         "type": "float"
        },
        {
         "name": "151",
         "rawType": "float64",
         "type": "float"
        },
        {
         "name": "152",
         "rawType": "float64",
         "type": "float"
        },
        {
         "name": "153",
         "rawType": "float64",
         "type": "float"
        },
        {
         "name": "154",
         "rawType": "float64",
         "type": "float"
        },
        {
         "name": "155",
         "rawType": "float64",
         "type": "float"
        },
        {
         "name": "156",
         "rawType": "float64",
         "type": "float"
        },
        {
         "name": "157",
         "rawType": "float64",
         "type": "float"
        },
        {
         "name": "158",
         "rawType": "float64",
         "type": "float"
        },
        {
         "name": "159",
         "rawType": "float64",
         "type": "float"
        },
        {
         "name": "160",
         "rawType": "float64",
         "type": "float"
        },
        {
         "name": "161",
         "rawType": "float64",
         "type": "float"
        },
        {
         "name": "162",
         "rawType": "float64",
         "type": "float"
        },
        {
         "name": "163",
         "rawType": "float64",
         "type": "float"
        },
        {
         "name": "164",
         "rawType": "float64",
         "type": "float"
        },
        {
         "name": "165",
         "rawType": "float64",
         "type": "float"
        },
        {
         "name": "166",
         "rawType": "float64",
         "type": "float"
        },
        {
         "name": "167",
         "rawType": "float64",
         "type": "float"
        },
        {
         "name": "168",
         "rawType": "float64",
         "type": "float"
        },
        {
         "name": "169",
         "rawType": "float64",
         "type": "float"
        },
        {
         "name": "170",
         "rawType": "float64",
         "type": "float"
        },
        {
         "name": "171",
         "rawType": "float64",
         "type": "float"
        },
        {
         "name": "172",
         "rawType": "float64",
         "type": "float"
        },
        {
         "name": "173",
         "rawType": "float64",
         "type": "float"
        },
        {
         "name": "174",
         "rawType": "float64",
         "type": "float"
        },
        {
         "name": "175",
         "rawType": "float64",
         "type": "float"
        },
        {
         "name": "176",
         "rawType": "float64",
         "type": "float"
        },
        {
         "name": "177",
         "rawType": "float64",
         "type": "float"
        },
        {
         "name": "178",
         "rawType": "float64",
         "type": "float"
        },
        {
         "name": "179",
         "rawType": "float64",
         "type": "float"
        },
        {
         "name": "180",
         "rawType": "float64",
         "type": "float"
        },
        {
         "name": "181",
         "rawType": "float64",
         "type": "float"
        },
        {
         "name": "182",
         "rawType": "float64",
         "type": "float"
        },
        {
         "name": "183",
         "rawType": "float64",
         "type": "float"
        },
        {
         "name": "184",
         "rawType": "float64",
         "type": "float"
        },
        {
         "name": "185",
         "rawType": "float64",
         "type": "float"
        },
        {
         "name": "186",
         "rawType": "float64",
         "type": "float"
        },
        {
         "name": "187",
         "rawType": "float64",
         "type": "float"
        },
        {
         "name": "188",
         "rawType": "float64",
         "type": "float"
        },
        {
         "name": "189",
         "rawType": "float64",
         "type": "float"
        },
        {
         "name": "190",
         "rawType": "float64",
         "type": "float"
        },
        {
         "name": "191",
         "rawType": "float64",
         "type": "float"
        },
        {
         "name": "192",
         "rawType": "float64",
         "type": "float"
        },
        {
         "name": "193",
         "rawType": "float64",
         "type": "float"
        },
        {
         "name": "194",
         "rawType": "float64",
         "type": "float"
        },
        {
         "name": "195",
         "rawType": "float64",
         "type": "float"
        },
        {
         "name": "196",
         "rawType": "float64",
         "type": "float"
        },
        {
         "name": "197",
         "rawType": "float64",
         "type": "float"
        },
        {
         "name": "198",
         "rawType": "float64",
         "type": "float"
        },
        {
         "name": "199",
         "rawType": "float64",
         "type": "float"
        },
        {
         "name": "200",
         "rawType": "float64",
         "type": "float"
        },
        {
         "name": "201",
         "rawType": "float64",
         "type": "float"
        },
        {
         "name": "202",
         "rawType": "float64",
         "type": "float"
        },
        {
         "name": "203",
         "rawType": "float64",
         "type": "float"
        },
        {
         "name": "204",
         "rawType": "float64",
         "type": "float"
        },
        {
         "name": "205",
         "rawType": "float64",
         "type": "float"
        },
        {
         "name": "206",
         "rawType": "float64",
         "type": "float"
        },
        {
         "name": "207",
         "rawType": "float64",
         "type": "float"
        },
        {
         "name": "208",
         "rawType": "float64",
         "type": "float"
        },
        {
         "name": "209",
         "rawType": "float64",
         "type": "float"
        },
        {
         "name": "210",
         "rawType": "float64",
         "type": "float"
        },
        {
         "name": "211",
         "rawType": "float64",
         "type": "float"
        },
        {
         "name": "212",
         "rawType": "float64",
         "type": "float"
        },
        {
         "name": "213",
         "rawType": "float64",
         "type": "float"
        },
        {
         "name": "214",
         "rawType": "float64",
         "type": "float"
        },
        {
         "name": "215",
         "rawType": "float64",
         "type": "float"
        },
        {
         "name": "216",
         "rawType": "float64",
         "type": "float"
        },
        {
         "name": "217",
         "rawType": "float64",
         "type": "float"
        },
        {
         "name": "218",
         "rawType": "float64",
         "type": "float"
        },
        {
         "name": "219",
         "rawType": "float64",
         "type": "float"
        },
        {
         "name": "220",
         "rawType": "float64",
         "type": "float"
        },
        {
         "name": "221",
         "rawType": "float64",
         "type": "float"
        },
        {
         "name": "222",
         "rawType": "float64",
         "type": "float"
        },
        {
         "name": "223",
         "rawType": "float64",
         "type": "float"
        },
        {
         "name": "224",
         "rawType": "float64",
         "type": "float"
        },
        {
         "name": "225",
         "rawType": "float64",
         "type": "float"
        },
        {
         "name": "226",
         "rawType": "float64",
         "type": "float"
        },
        {
         "name": "227",
         "rawType": "float64",
         "type": "float"
        },
        {
         "name": "228",
         "rawType": "float64",
         "type": "float"
        },
        {
         "name": "229",
         "rawType": "float64",
         "type": "float"
        },
        {
         "name": "230",
         "rawType": "float64",
         "type": "float"
        },
        {
         "name": "231",
         "rawType": "float64",
         "type": "float"
        },
        {
         "name": "232",
         "rawType": "float64",
         "type": "float"
        },
        {
         "name": "233",
         "rawType": "float64",
         "type": "float"
        },
        {
         "name": "234",
         "rawType": "float64",
         "type": "float"
        },
        {
         "name": "235",
         "rawType": "float64",
         "type": "float"
        },
        {
         "name": "236",
         "rawType": "float64",
         "type": "float"
        },
        {
         "name": "237",
         "rawType": "float64",
         "type": "float"
        },
        {
         "name": "238",
         "rawType": "float64",
         "type": "float"
        },
        {
         "name": "239",
         "rawType": "float64",
         "type": "float"
        },
        {
         "name": "240",
         "rawType": "float64",
         "type": "float"
        },
        {
         "name": "241",
         "rawType": "float64",
         "type": "float"
        },
        {
         "name": "242",
         "rawType": "float64",
         "type": "float"
        },
        {
         "name": "243",
         "rawType": "float64",
         "type": "float"
        },
        {
         "name": "244",
         "rawType": "float64",
         "type": "float"
        },
        {
         "name": "245",
         "rawType": "float64",
         "type": "float"
        },
        {
         "name": "246",
         "rawType": "float64",
         "type": "float"
        },
        {
         "name": "247",
         "rawType": "float64",
         "type": "float"
        },
        {
         "name": "248",
         "rawType": "float64",
         "type": "float"
        },
        {
         "name": "249",
         "rawType": "float64",
         "type": "float"
        },
        {
         "name": "250",
         "rawType": "float64",
         "type": "float"
        },
        {
         "name": "251",
         "rawType": "float64",
         "type": "float"
        },
        {
         "name": "252",
         "rawType": "float64",
         "type": "float"
        },
        {
         "name": "253",
         "rawType": "float64",
         "type": "float"
        },
        {
         "name": "254",
         "rawType": "float64",
         "type": "float"
        },
        {
         "name": "255",
         "rawType": "float64",
         "type": "float"
        },
        {
         "name": "256",
         "rawType": "float64",
         "type": "float"
        },
        {
         "name": "257",
         "rawType": "float64",
         "type": "float"
        },
        {
         "name": "258",
         "rawType": "float64",
         "type": "float"
        },
        {
         "name": "259",
         "rawType": "float64",
         "type": "float"
        },
        {
         "name": "260",
         "rawType": "float64",
         "type": "float"
        },
        {
         "name": "261",
         "rawType": "float64",
         "type": "float"
        },
        {
         "name": "262",
         "rawType": "float64",
         "type": "float"
        },
        {
         "name": "263",
         "rawType": "float64",
         "type": "float"
        },
        {
         "name": "264",
         "rawType": "float64",
         "type": "float"
        },
        {
         "name": "265",
         "rawType": "float64",
         "type": "float"
        },
        {
         "name": "266",
         "rawType": "float64",
         "type": "float"
        },
        {
         "name": "267",
         "rawType": "float64",
         "type": "float"
        },
        {
         "name": "268",
         "rawType": "float64",
         "type": "float"
        },
        {
         "name": "269",
         "rawType": "float64",
         "type": "float"
        },
        {
         "name": "270",
         "rawType": "float64",
         "type": "float"
        },
        {
         "name": "271",
         "rawType": "float64",
         "type": "float"
        },
        {
         "name": "272",
         "rawType": "float64",
         "type": "float"
        },
        {
         "name": "273",
         "rawType": "float64",
         "type": "float"
        },
        {
         "name": "274",
         "rawType": "float64",
         "type": "float"
        },
        {
         "name": "275",
         "rawType": "float64",
         "type": "float"
        },
        {
         "name": "276",
         "rawType": "float64",
         "type": "float"
        },
        {
         "name": "277",
         "rawType": "float64",
         "type": "float"
        },
        {
         "name": "278",
         "rawType": "float64",
         "type": "float"
        },
        {
         "name": "279",
         "rawType": "float64",
         "type": "float"
        },
        {
         "name": "280",
         "rawType": "float64",
         "type": "float"
        },
        {
         "name": "281",
         "rawType": "float64",
         "type": "float"
        },
        {
         "name": "282",
         "rawType": "float64",
         "type": "float"
        },
        {
         "name": "283",
         "rawType": "float64",
         "type": "float"
        },
        {
         "name": "284",
         "rawType": "float64",
         "type": "float"
        },
        {
         "name": "285",
         "rawType": "float64",
         "type": "float"
        },
        {
         "name": "286",
         "rawType": "float64",
         "type": "float"
        },
        {
         "name": "287",
         "rawType": "float64",
         "type": "float"
        },
        {
         "name": "288",
         "rawType": "float64",
         "type": "float"
        },
        {
         "name": "289",
         "rawType": "float64",
         "type": "float"
        },
        {
         "name": "290",
         "rawType": "float64",
         "type": "float"
        },
        {
         "name": "291",
         "rawType": "float64",
         "type": "float"
        },
        {
         "name": "292",
         "rawType": "float64",
         "type": "float"
        },
        {
         "name": "293",
         "rawType": "float64",
         "type": "float"
        },
        {
         "name": "294",
         "rawType": "float64",
         "type": "float"
        },
        {
         "name": "295",
         "rawType": "float64",
         "type": "float"
        },
        {
         "name": "296",
         "rawType": "float64",
         "type": "float"
        },
        {
         "name": "297",
         "rawType": "float64",
         "type": "float"
        },
        {
         "name": "298",
         "rawType": "float64",
         "type": "float"
        },
        {
         "name": "299",
         "rawType": "float64",
         "type": "float"
        },
        {
         "name": "300",
         "rawType": "float64",
         "type": "float"
        },
        {
         "name": "301",
         "rawType": "float64",
         "type": "float"
        },
        {
         "name": "302",
         "rawType": "float64",
         "type": "float"
        },
        {
         "name": "303",
         "rawType": "float64",
         "type": "float"
        },
        {
         "name": "304",
         "rawType": "float64",
         "type": "float"
        },
        {
         "name": "305",
         "rawType": "float64",
         "type": "float"
        },
        {
         "name": "306",
         "rawType": "float64",
         "type": "float"
        },
        {
         "name": "307",
         "rawType": "float64",
         "type": "float"
        },
        {
         "name": "308",
         "rawType": "float64",
         "type": "float"
        },
        {
         "name": "309",
         "rawType": "float64",
         "type": "float"
        },
        {
         "name": "310",
         "rawType": "float64",
         "type": "float"
        },
        {
         "name": "311",
         "rawType": "float64",
         "type": "float"
        },
        {
         "name": "312",
         "rawType": "float64",
         "type": "float"
        },
        {
         "name": "313",
         "rawType": "float64",
         "type": "float"
        },
        {
         "name": "314",
         "rawType": "float64",
         "type": "float"
        },
        {
         "name": "315",
         "rawType": "float64",
         "type": "float"
        },
        {
         "name": "316",
         "rawType": "float64",
         "type": "float"
        },
        {
         "name": "317",
         "rawType": "float64",
         "type": "float"
        },
        {
         "name": "318",
         "rawType": "float64",
         "type": "float"
        },
        {
         "name": "319",
         "rawType": "float64",
         "type": "float"
        },
        {
         "name": "320",
         "rawType": "float64",
         "type": "float"
        },
        {
         "name": "321",
         "rawType": "float64",
         "type": "float"
        },
        {
         "name": "322",
         "rawType": "float64",
         "type": "float"
        },
        {
         "name": "323",
         "rawType": "float64",
         "type": "float"
        },
        {
         "name": "324",
         "rawType": "float64",
         "type": "float"
        },
        {
         "name": "325",
         "rawType": "float64",
         "type": "float"
        },
        {
         "name": "326",
         "rawType": "float64",
         "type": "float"
        },
        {
         "name": "327",
         "rawType": "float64",
         "type": "float"
        },
        {
         "name": "328",
         "rawType": "float64",
         "type": "float"
        },
        {
         "name": "329",
         "rawType": "float64",
         "type": "float"
        },
        {
         "name": "330",
         "rawType": "float64",
         "type": "float"
        },
        {
         "name": "331",
         "rawType": "float64",
         "type": "float"
        },
        {
         "name": "332",
         "rawType": "float64",
         "type": "float"
        },
        {
         "name": "333",
         "rawType": "float64",
         "type": "float"
        }
       ],
       "ref": "60a5bc9f-9fe6-4503-bbf5-ef7a60192d16",
       "rows": [
        [
         "0",
         "0.34531",
         "0.5296788259810971",
         "0.7820667244531102",
         "0.8562915603273978",
         "0.19575315799175497",
         "0.4587701259376935",
         "0.7174723075994731",
         "0.6900949936303603",
         "0.09537618385860347",
         "0.8478164093079261",
         "0.40526342609643684",
         "0.7792925010442079",
         "0.6590759012705484",
         "0.8026501281234257",
         "0.19880307139305808",
         "0.825440450349937",
         "0.5548478157195837",
         "0.44054246908053274",
         "0.9183846110269911",
         "0.49726030726310333",
         "0.3321113185954242",
         "0.9599313032409883",
         "0.20887003763883472",
         "0.5740579863041497",
         "0.44605874931331035",
         "0.3140173171714691",
         "0.15959625550488843",
         "0.47127017916240177",
         "0.033385772165687055",
         "0.5586356227135842",
         "0.4536896025367989",
         "0.9379404054385372",
         "0.13926726963418845",
         "0.21856158311152662",
         "0.8819205786413018",
         "0.5007892866047547",
         "0.598105316770158",
         "0.2190051068639708",
         "0.44356757296494775",
         "0.2639918743255272",
         "0.8083195126899793",
         "0.4763204685544913",
         "0.5967393141500379",
         "0.6812060310497886",
         "0.6793368741392829",
         "0.16984286644986712",
         "0.9676776895374501",
         "0.8491539105928244",
         "0.16217113101200054",
         "0.7595402939124548",
         "0.7447378708187429",
         "0.1440599753118892",
         "0.15737530087198104",
         "0.04565764367687486",
         "0.02273208653113956",
         "0.11935966042988577",
         "0.7975741253667241",
         "0.2847380882863607",
         "0.5674749725730756",
         "0.17977656599982306",
         "0.5690689205877737",
         "0.9590582933163684",
         "0.4129125832504533",
         "0.889242416734406",
         "0.7822555762466937",
         "0.3569343342920883",
         "0.7806230684538669",
         "0.3446935982520679",
         "0.9956785683579863",
         "0.6688157446835736",
         "0.6749807364982406",
         "0.5203161262618874",
         "0.7129042138560134",
         "0.058159317552678114",
         "0.7798994859703653",
         "0.4301939279630609",
         "0.48299442055900144",
         "0.8720192554498087",
         "0.8991508535565282",
         "0.06901587899102168",
         "0.7083954664319569",
         "0.0719168933455423",
         "0.6440218790772073",
         "0.8233833492989391",
         "0.46223621693859684",
         "0.6836192236775419",
         "0.9800635138543058",
         "0.6759140753070924",
         "0.4573005001847915",
         "0.5482328602500112",
         "0.7476078444052099",
         "0.14454437290616784",
         "0.5541332837667404",
         "0.5716644383697126",
         "0.18382206701244497",
         "0.38593045095802847",
         "0.36101258136157277",
         "0.989948844952377",
         "0.5636991013295028",
         "0.20908674745835443",
         "0.7421831675433668",
         "0.33245904320507025",
         "0.7561057855699961",
         "0.008115981362544655",
         "0.20872412846955524",
         "0.6341159999215938",
         "0.6827269381399006",
         "0.6723056650877083",
         "0.038315091189800476",
         "0.4409584603315261",
         "0.7973690507102078",
         "0.9718473037831158",
         "0.5464705036844454",
         "0.345812674885947",
         "0.6638025470184481",
         "0.11400302023157338",
         "0.38990796912863757",
         "0.7501763996044694",
         "0.2788714637874572",
         "0.015979248055229323",
         "0.2806194834859762",
         "0.18564765146990525",
         "0.6143461565581306",
         "0.2053615142402162",
         "0.8649368983598621",
         "0.24927190517128828",
         "0.30827702999514284",
         "0.972806155165161",
         "0.8202160431531939",
         "0.27453315791259025",
         "0.6386587279046381",
         "0.663339631493082",
         "0.6484508898488661",
         "0.3536428810304646",
         "0.8981431320073907",
         "0.10255964594129174",
         "0.17929512941389059",
         "0.7946731106413979",
         "0.7726877619835067",
         "0.9771922098146006",
         "0.07245190748796149",
         "0.9335560057745486",
         "0.5066160374719453",
         "0.3583795572692625",
         "0.9675512093233087",
         "0.04844820011758244",
         "0.8266694708143508",
         "0.8387027966460942",
         "0.30530527339404023",
         "0.7400868595040316",
         "0.2318649884477797",
         "0.9611314128261454",
         "0.8580112706371827",
         "0.9540811348613872",
         "0.9817220798553317",
         "0.10917145176088772",
         "0.26756753246816045",
         "0.016435949054148025",
         "0.6024123753335671",
         "0.5355734310219262",
         "0.042016788622667334",
         "0.3764485032915248",
         "0.34970064210120744",
         "0.09650117413735348",
         "0.9359147711612448",
         "0.1832057226811129",
         "0.8866435302038667",
         "0.7687486834219089",
         "0.7032856222753814",
         "0.41320467930662463",
         "0.7354626706793789",
         "0.2338167325469832",
         "0.08065580159206043",
         "0.7932944093415598",
         "0.9452593187507278",
         "0.7084872648822808",
         "0.08899514842192269",
         "0.8157271439625775",
         "0.3356427660606457",
         "0.5266479253712744",
         "0.26190688667985174",
         "0.16744677195509994",
         "0.03375972670202121",
         "0.11421187219241591",
         "0.3405823888819297",
         "0.6409223835189566",
         "0.21790317180981078",
         "0.028287573252412712",
         "0.6499064245763126",
         "0.5038740645442856",
         "0.5482164206192252",
         "0.501263050548043",
         "0.6018949288690436",
         "0.4996352558306776",
         "0.717913063901765",
         "0.5563370218764173",
         "0.9123775363827392",
         "0.0978137635081685",
         "0.7667895597888564",
         "0.1257211368818626",
         "0.19970730712175844",
         "0.9816698545438982",
         "0.052613609637648606",
         "0.16107699001828724",
         "0.1978200685391167",
         "0.31061342879502907",
         "0.855314883570625",
         "0.9409066557936371",
         "0.1746276696407597",
         "0.6305370688053394",
         "0.8221981929775996",
         "0.9593005061421978",
         "0.552990122058082",
         "0.5536432373061061",
         "0.3404300003949504",
         "0.8185181320222257",
         "0.7106697225172691",
         "0.1125009300969061",
         "0.05447129086459279",
         "0.7785794890568642",
         "0.7270106295233477",
         "0.9745507093037185",
         "0.7683909943176588",
         "0.9847551100434215",
         "0.7542409644735584",
         "0.18849908991198316",
         "0.6903370875835628",
         "0.4209327678014959",
         "0.687353215641327",
         "0.6941103378273651",
         "0.9472308786121609",
         "0.294809075254031",
         "0.7707582327412971",
         "0.41166363749492285",
         "0.7426704132465246",
         "0.34037066372838665",
         "0.362537594461813",
         "0.5876017953728551",
         "0.645270885051307",
         "0.6405913422282243",
         "0.8447242740511879",
         "0.712018751176198",
         "0.1926096670179076",
         "0.8804541888858147",
         "0.7471365037920534",
         "0.17488524679778028",
         "0.535568977255485",
         "0.3186622751771193",
         "0.4758696287977443",
         "0.698278240462307",
         "0.6360117091767872",
         "0.44813552699626225",
         "0.578094765928497",
         "0.7558396490845369",
         "0.5146202000024444",
         "0.9689958310452156",
         "0.9802097223381692",
         "0.9063518059452483",
         "0.2958254809690283",
         "0.24529436926387538",
         "0.7007668748880873",
         "0.7090858830596856",
         "0.22272233914283435",
         "0.7609590105265706",
         "0.7478780387579936",
         "0.6302726787923629",
         "0.059187745302595185",
         "0.7470166100585258",
         "0.6765021572385066",
         "0.6388899918605172",
         "0.15496410845161457",
         "0.07646829830537583",
         "0.15806994929509244",
         "0.16887392527765188",
         "0.7414618668463767",
         "0.534044024738619",
         "0.32872785948261096",
         "0.5141033859936174",
         "0.7497823731168027",
         "0.2369930184611474",
         "0.4121480624258834",
         "0.9565083907267343",
         "0.2510124411391318",
         "0.7618362219447403",
         "0.999368641179741",
         "0.25752467855606",
         "0.1339986472215593",
         "0.7630193427575513",
         "0.3501369519592",
         "0.9916292101182137",
         "0.2528186184236334",
         "0.5171932217154929",
         "0.9691271837958836",
         "0.20420832218039053",
         "0.9205480259718483",
         "0.5214207196682192",
         "0.5261314779287944",
         "0.4594478746597136",
         "0.6103132875946204",
         "0.43835881363525964",
         "0.9806726230694879",
         "0.8668644340039366",
         "0.0747226426764227",
         "0.7405681005787964",
         "0.5534291785337976",
         "0.8478338354417063",
         "0.5615594199108142",
         "0.2987022372903485",
         "0.8289858885672278",
         "0.44087036832927284",
         "0.784144304489605",
         "0.2159976627831559",
         "0.07869335067233241",
         "0.07236911231488352",
         "0.04012940905131546",
         "0.4785738754399864",
         "0.10562144969653509",
         "0.4910893035124311",
         "0.3541831423189793",
         "0.010409958226065608",
         "0.6044359089009297",
         "0.19530882102307223",
         "0.5066287058677665",
         "0.5054213818340129",
         "0.0018413899290647961",
         "0.6284442338125651",
         "0.766946202952047",
         "0.04445248328235252",
         "0.37556327533304046",
         "0.4215269849847578",
         "0.3558663962102494",
         "0.8537271223533854",
         "0.9046212854195222",
         "0.6705392522402099"
        ],
        [
         "1",
         "0.7353330881880906",
         "0.8055581315653556",
         "0.9097956577228845",
         "0.37096049366477435",
         "0.2806657454855127",
         "0.6201937999850412",
         "0.9594888801555976",
         "0.21392897775173025",
         "0.5890979041530945",
         "0.9966899809946442",
         "0.8822846793541016",
         "0.3246235870957973",
         "0.9451187253778696",
         "0.3309959432358267",
         "0.6712399137308364",
         "0.9603935583745663",
         "0.34859493965225574",
         "0.37571551194107433",
         "0.29481924922187297",
         "0.13795874991320567",
         "0.7757009354901779",
         "0.24842761969515736",
         "0.19143380493617312",
         "0.2704910406792569",
         "0.003940971302122898",
         "0.251605400420819",
         "0.5496383771942958",
         "0.7497122927104248",
         "0.39236941046240537",
         "0.8331548284884679",
         "0.49530226456472093",
         "0.8138423485168885",
         "0.763775973157372",
         "0.5767531050371086",
         "0.5934590200199075",
         "0.8442073008695726",
         "0.5093196709830553",
         "0.04074605437132617",
         "0.23723122375875738",
         "0.04445012723987629",
         "0.997187847024821",
         "0.03151970506656343",
         "0.041551268117860474",
         "0.3905105416684246",
         "0.3719685549058849",
         "0.06610952242652945",
         "0.26295534265330844",
         "0.024018679383019936",
         "0.4958757523631335",
         "0.7896294059626551",
         "0.20019088177851296",
         "0.27117359882130754",
         "0.6512973948334154",
         "0.13580483500215013",
         "0.10080419203679092",
         "0.7478659404905346",
         "0.7895422841009814",
         "0.5177055286309021",
         "0.26327114049798794",
         "0.1164598362798952",
         "0.3603681663606575",
         "0.7748061304846984",
         "0.6060113755326937",
         "0.8609100338310854",
         "0.8554528827470352",
         "0.0677670171359791",
         "0.6125239681409603",
         "0.7704362617236076",
         "0.5425047233768299",
         "0.44283289109859103",
         "0.7043563333279701",
         "0.9302746778993041",
         "0.31732623663119053",
         "0.9132852966338404",
         "0.485047721249783",
         "0.6889739373441307",
         "0.9839274543528189",
         "0.8371308904070615",
         "0.42749724747208917",
         "0.5016132083446051",
         "0.9330438145500617",
         "0.013938010315543203",
         "0.256872841296516",
         "0.2903890267080288",
         "0.30238098050207607",
         "0.184692980205305",
         "0.30572670631506893",
         "0.921653177162781",
         "0.7909173155061316",
         "0.0745687672665879",
         "0.13441614890068931",
         "0.12688374324733875",
         "0.6433242702548728",
         "0.41506171147724646",
         "0.4454600571711955",
         "0.9445793885314533",
         "0.8175420310198627",
         "0.5014254019104506",
         "0.9416150555651702",
         "0.5747084726098588",
         "0.6887661226296605",
         "0.07488376417805931",
         "0.1414836629758648",
         "0.34190672487159046",
         "0.7272575219985941",
         "0.8802881762706264",
         "0.725289871584016",
         "0.1021288653091067",
         "0.8337771743054215",
         "0.3369337410320328",
         "0.9522145610084675",
         "0.7826774944153851",
         "0.2881571302525098",
         "0.019867414077772372",
         "0.31984598816236554",
         "0.5917513582014894",
         "0.09686878673705446",
         "0.00046574643435848273",
         "0.7389188295700513",
         "0.7481208450373823",
         "0.46429144983874626",
         "0.4487955979411993",
         "0.6222205578193929",
         "0.6667283194683241",
         "0.7935327468165646",
         "0.09449219432233813",
         "0.7195655605416621",
         "0.10030710329567716",
         "0.7209939218647666",
         "0.4513084792173344",
         "0.6379174125347815",
         "0.021732186598738545",
         "0.17152564148003402",
         "0.1779925402441147",
         "0.4185382813298014",
         "0.04471090350586038",
         "0.8375459982507021",
         "0.034068195175254834",
         "0.189374184245798",
         "0.522951396837274",
         "0.600206584725005",
         "0.09661469310478366",
         "0.055920533561082286",
         "0.03437846960775359",
         "0.8806153712420772",
         "0.06210593786463092",
         "0.874971822188335",
         "0.6107497651258759",
         "0.38702302315341475",
         "0.8548153978300036",
         "0.933569734051211",
         "0.9347204246917711",
         "0.7267745653173676",
         "0.9702593481036755",
         "0.06297415757940084",
         "0.36709249315166137",
         "0.11939771046274783",
         "0.9855709889498872",
         "0.7397321859790493",
         "0.2782303383862066",
         "0.2660707215001692",
         "0.24353288452596333",
         "0.8643968498393305",
         "0.30279332567405437",
         "0.6726204399882272",
         "0.7860698428626149",
         "0.8206776251534112",
         "0.9061108820227108",
         "0.6315989401211564",
         "0.004331311904042234",
         "0.017467168486771656",
         "0.19147880178401167",
         "0.4307483660630419",
         "0.9203229321024593",
         "0.287951914678225",
         "0.9043959128169942",
         "0.7238407778200554",
         "0.6846623867661541",
         "0.38327719889207934",
         "0.07025803486573068",
         "0.6292580521692471",
         "0.06121032548308325",
         "0.06565771397389142",
         "0.39754729025268565",
         "0.7867106187051764",
         "0.3538703789170915",
         "0.7658488878314045",
         "0.9526953424583283",
         "0.33497540203772114",
         "0.22927674871991288",
         "0.9928119436182637",
         "0.3975947570274395",
         "0.2656753064364351",
         "0.24968442622612086",
         "0.2880712139883075",
         "0.9073821310487019",
         "0.7395654540918388",
         "0.45207138722475904",
         "0.5343835340317016",
         "0.29728674400148003",
         "0.2588823475614356",
         "0.6405423606555188",
         "0.1733734313892319",
         "0.018199130640678796",
         "0.02407469113088001",
         "0.7520099728089",
         "0.47047154839910055",
         "0.05352847901569935",
         "0.9541295283953691",
         "0.6801260030199172",
         "0.24710720281079823",
         "0.5197677795708965",
         "0.10429369091985785",
         "0.7381682677884027",
         "0.1460518461326521",
         "0.15307996526963064",
         "0.7016894951871774",
         "0.4074935253280798",
         "0.480623419751371",
         "0.3935356141407219",
         "0.029505855055579677",
         "0.6034258033105803",
         "0.4779549538690451",
         "0.6990895413993657",
         "0.9750086531998519",
         "0.9634178713548587",
         "0.4909537555294671",
         "0.6703506113676792",
         "0.3221660952353822",
         "0.10687371218382258",
         "0.29813762054431203",
         "0.2981630168393943",
         "0.7564994260970209",
         "0.6878479693301845",
         "0.97696672492862",
         "0.5926049256373804",
         "0.6560122755706842",
         "0.7242247422510636",
         "0.8307955142885667",
         "0.328327847235082",
         "0.6393141683588923",
         "0.8758567028233725",
         "0.4579280924731781",
         "0.11532567434225138",
         "0.5038489403256255",
         "0.10556028573645804",
         "0.3799207879551195",
         "0.920297964508041",
         "0.5478528740472612",
         "0.7721360145671061",
         "0.0020496377194159088",
         "0.33392297094712564",
         "0.1855206524926627",
         "0.4879452296179426",
         "0.059537185980387264",
         "0.2581137538988518",
         "0.045154600938496325",
         "0.9379106366042385",
         "0.7501495860722199",
         "0.1618538905010677",
         "0.08038186246274281",
         "0.7161926197307077",
         "0.0014240909505418564",
         "0.07577238543315579",
         "0.8820481566644681",
         "0.8974298117127513",
         "0.8100543900383134",
         "0.9383461835857805",
         "0.1771912159301926",
         "0.8292637467822794",
         "0.17294663396138255",
         "0.6262216873240458",
         "0.4277940385741056",
         "0.492407331192098",
         "0.10475231498968252",
         "0.7935001036957995",
         "0.41890282101173437",
         "0.077636409984702",
         "0.29600968773889946",
         "0.060197633052320954",
         "0.4564898713501623",
         "0.14268757050428027",
         "0.05597437582300879",
         "0.14473083199986891",
         "0.6730426131552945",
         "0.04972077139087827",
         "0.6468530480154792",
         "0.28915661378291213",
         "0.7702894152698798",
         "0.5220838867624619",
         "0.9356998331577324",
         "0.4129479562276349",
         "0.15480325926712035",
         "0.6760309361891369",
         "0.47196115183633713",
         "0.3979271636253304",
         "0.585318522516612",
         "0.8555704021117337",
         "0.7612258049458261",
         "0.9271371471019455",
         "0.6509715579632578",
         "0.8600272047901394",
         "0.12182375474068408",
         "0.800935788325189",
         "0.8838519813781183",
         "0.5168051080362245",
         "0.5881953192093271",
         "0.4711754266589203",
         "0.7741113775798759",
         "0.08973199657507802",
         "0.4748278846429821",
         "0.26511607831028894",
         "0.9231317301675158",
         "0.06742441035274194",
         "0.24074034716384318",
         "0.002120281108241584",
         "0.7498028356126734",
         "0.6204538499189375",
         "0.8623377574204805",
         "0.45834339105739597",
         "0.8977740107237203",
         "0.3986752089335066",
         "0.9251008815016516",
         "0.4795288378048129",
         "0.9752494443613946",
         "0.8391051014113344",
         "0.4026443878014522",
         "0.8021551999573404",
         "0.22938715849505187",
         "0.6473137292551916",
         "0.9208993992343721",
         "0.3539364774844813",
         "0.7028793048036655",
         "0.412428787073415"
        ],
        [
         "2",
         "0.6654478058376195",
         "0.2446351142032439",
         "0.33607538004479864",
         "0.19936517502086004",
         "0.08621297177947784",
         "0.7592238939256974",
         "0.9714706689616114",
         "0.5069123876875542",
         "0.7478349652494887",
         "0.07686905551974266",
         "0.9560645760136013",
         "0.4672667178971326",
         "0.8916921220673266",
         "0.16524323762736082",
         "0.6180925050357097",
         "0.750435670645148",
         "0.30169328010438556",
         "0.4239235622339057",
         "0.20546866726642976",
         "0.432125175968883",
         "0.4172104578288327",
         "0.6678150035116762",
         "0.6867031525385198",
         "0.42730449152867667",
         "0.6118031099946017",
         "0.13844199912832578",
         "0.21432131456154113",
         "0.6269464750289212",
         "0.4364133087221156",
         "0.9932500755423068",
         "0.09121703751806232",
         "0.7102560039264536",
         "0.6718993205229378",
         "0.2661570121384035",
         "0.13377373202266263",
         "0.5180510492817234",
         "0.6329089860976024",
         "0.24815177668191069",
         "0.7287941352033387",
         "0.635373723448647",
         "0.3223660648370986",
         "0.4896017708000976",
         "0.3830004872150736",
         "0.6356818435929605",
         "0.6876268002156152",
         "0.265273293262805",
         "0.09296901010153369",
         "0.4143571741027986",
         "0.5416644157157587",
         "0.85598617717588",
         "0.6813609151009316",
         "0.8707881961788143",
         "0.9606218411099916",
         "0.8153579874744672",
         "0.6346268278272764",
         "0.8428786699723997",
         "0.11834366881442315",
         "0.2188156197867408",
         "0.20133922200322074",
         "0.7203775538207243",
         "0.17382328937493507",
         "0.5947262209194678",
         "0.07722720895640955",
         "0.04543312100090369",
         "0.5526912416847689",
         "0.03571447808626249",
         "0.8982799327719404",
         "0.9816003249770677",
         "0.2610198062460689",
         "0.46361406629052504",
         "0.02763658710746264",
         "0.8493817438717675",
         "0.43575556186430164",
         "0.6593541505537817",
         "0.17037873770890322",
         "0.42604387781517794",
         "0.3019942084988698",
         "0.14537913751774678",
         "0.8653569455905032",
         "0.1039368716586494",
         "0.6707617983470835",
         "0.656124512957714",
         "0.1308223219865875",
         "0.5678011604003707",
         "0.3988077996001491",
         "0.11317741618337807",
         "0.7493312418592453",
         "0.5120136759989983",
         "0.5370914329228491",
         "0.28234627609359886",
         "0.02795180045837209",
         "0.21258897521296616",
         "0.654133370137208",
         "0.7925044050512715",
         "0.1343800245365494",
         "0.49595968698975534",
         "0.19007656297507458",
         "0.15296457126334206",
         "0.8844036398102928",
         "0.6608197041688434",
         "0.6961321318574533",
         "0.47827388889739597",
         "0.6907829760540118",
         "0.30506758053537575",
         "0.16523217682892843",
         "0.23286358087561354",
         "0.09820144850829005",
         "0.35090907574855146",
         "0.5870850541104221",
         "0.9020347409954903",
         "0.6543085085899104",
         "0.5401327109715327",
         "0.36848713899878627",
         "0.6212007356531088",
         "0.8876579359567008",
         "0.1437086209072096",
         "0.6164816937781128",
         "0.5114759381556849",
         "0.18013785019496298",
         "0.33466628150166267",
         "0.9961105336997568",
         "0.7409249060216335",
         "0.7325431296329373",
         "0.85229135688084",
         "0.5950809066576624",
         "0.2108517269557858",
         "0.5670905467588725",
         "0.011825083211116305",
         "0.6160050936079136",
         "0.9166145993939157",
         "0.6573265375496775",
         "0.31252109975972653",
         "0.9082909306054331",
         "0.05098432539931386",
         "0.31393388653968257",
         "0.817127346807764",
         "0.09833157894485434",
         "0.8755420618316343",
         "0.6788480974970604",
         "0.45877336592789464",
         "0.009281914758729193",
         "0.24959598609516465",
         "0.5822197651646718",
         "0.7634311503338802",
         "0.5329276606003414",
         "0.121301389544889",
         "0.2523657007614376",
         "0.9751858883374386",
         "0.05545523426086474",
         "0.7214509135545036",
         "0.2890931633800671",
         "0.7378232324643098",
         "0.8324531177402102",
         "0.7830584624891905",
         "0.5397059795475276",
         "0.3793571571810749",
         "0.4600758303559388",
         "0.6003793494643399",
         "0.8485736041937847",
         "0.5794988308665223",
         "0.6050663301495066",
         "0.5978086518410912",
         "0.49686718799777385",
         "0.858636585171441",
         "0.9842303544023112",
         "0.6603389192732321",
         "0.7025041487849065",
         "0.9247179452971147",
         "0.7636250323057533",
         "0.9333878046295125",
         "0.8148601913348199",
         "0.41027215107117565",
         "0.8343064499023434",
         "0.57238472779346",
         "0.6380517549553919",
         "0.007484529633977499",
         "0.9431136620356049",
         "0.6769623155959257",
         "0.808624786643264",
         "0.5104635186334144",
         "0.2347088895869961",
         "0.4277222205815785",
         "0.12112459579591472",
         "0.9608828392566874",
         "0.23048667037853043",
         "0.9436996702491774",
         "0.6708697276038244",
         "0.32447191454876334",
         "0.7669057860877054",
         "0.8765470980176041",
         "0.7456668157475054",
         "0.41550271942079675",
         "0.1450629921697424",
         "0.19679618154690148",
         "0.026537597432054638",
         "0.46104451893877496",
         "0.26407271305811864",
         "0.9338567690651821",
         "0.7276832064244361",
         "0.738927702389067",
         "0.28052680404623254",
         "0.5638056817523801",
         "0.5748238952920871",
         "0.1641689674981377",
         "0.7150797972080429",
         "0.836100933171085",
         "0.3676738772836192",
         "0.07682989744873214",
         "0.5465008357262452",
         "0.6542813695997871",
         "0.20792123696410425",
         "0.13536948186977138",
         "0.2430039614596764",
         "0.5486955220075278",
         "0.9093493595172545",
         "0.22427327859525303",
         "0.9844466113124228",
         "0.8997913020109166",
         "0.07981813272618798",
         "0.95396864256618",
         "0.023660996928694056",
         "0.12109746176976688",
         "0.3754114219936643",
         "0.9603954886821349",
         "0.5389181681855345",
         "0.46914587445771183",
         "0.12346260387145491",
         "0.2626257061535505",
         "0.18861076529712406",
         "0.44500506042842236",
         "0.25483546215920383",
         "0.6013673588357895",
         "0.5588202107091942",
         "0.08524045427437288",
         "0.15679461062148636",
         "0.7759499148191024",
         "0.5607533684542212",
         "0.17140487672781313",
         "0.4840262882187234",
         "0.48419381170276077",
         "0.19480882581055214",
         "0.022727792894942866",
         "0.20660772963193186",
         "0.5694212259133634",
         "0.8728601501302039",
         "0.1650040920225727",
         "0.3884824626662622",
         "0.674930713970201",
         "0.728895813614175",
         "0.3879357991183011",
         "0.024525420202359705",
         "0.24899162696171473",
         "0.08254746140488822",
         "0.7589321597658674",
         "0.7941656675842992",
         "0.26032957653032274",
         "0.05867095054091742",
         "0.36971391636209405",
         "0.9682888850725698",
         "0.010145311349331942",
         "0.7044992195105385",
         "0.049761438378849165",
         "0.8571877727958053",
         "0.6759981308193325",
         "0.08362447785249594",
         "0.1241744946523421",
         "0.475549802817673",
         "0.7270135872112969",
         "0.2240358591967796",
         "0.8604659685540501",
         "0.9503215060566138",
         "0.829780196967232",
         "0.6079215541557178",
         "0.18884253788605188",
         "0.036711022365318424",
         "0.11964097209888658",
         "0.6665144802041956",
         "0.5230597402654145",
         "0.7312092717615886",
         "0.7312334687721058",
         "0.07272732079021704",
         "0.42781559347613407",
         "0.8629854440910868",
         "0.03668313822938962",
         "0.8452345117553666",
         "0.15518907011417038",
         "0.4786467832103607",
         "0.2237020818336085",
         "0.8797419768220924",
         "0.6569747081694666",
         "0.44436608077897066",
         "0.989968195798557",
         "0.7960617129413214",
         "0.6929807776032921",
         "0.47196053060071275",
         "0.3892191334763959",
         "0.3448673802106744",
         "0.1410731588848",
         "0.3928623368726315",
         "0.9539224305381087",
         "0.20757371747971864",
         "0.7356473112863581",
         "0.13520785499497756",
         "0.2515629167014498",
         "0.2592071674106037",
         "0.0558814106487201",
         "0.9620751771054111",
         "0.007749115189632172",
         "0.16040709160051714",
         "0.5592701790895747",
         "0.009826006357633421",
         "0.5752522776565306",
         "0.8058890538285896",
         "0.015983565333682392",
         "0.9085498284426311",
         "0.6388273334870957",
         "0.6155626757990696",
         "0.08999007249466418",
         "0.041281426921884745",
         "0.838098105773219",
         "0.02023449953309797",
         "0.0712198569704241",
         "0.059850117446411444",
         "0.33751134921877735",
         "0.17826267015081787",
         "0.8134375024403507",
         "0.03693695829655863",
         "0.3795792209212876",
         "0.1803314402324383",
         "0.2453872737514109",
         "0.05975006206208766",
         "0.46008719673552423",
         "0.6927950292510633",
         "0.23809038807735106"
        ],
        [
         "3",
         "0.8231651629968497",
         "0.24628591354087037",
         "0.05601769514151045",
         "0.887981874868886",
         "0.6095594675339207",
         "0.20029696449675338",
         "0.9419107218970313",
         "0.4174828388645355",
         "0.8058022279196755",
         "0.7935897261437042",
         "0.663748697515427",
         "0.894999846554725",
         "0.8135405481497336",
         "0.670580488538254",
         "0.7380754383238413",
         "0.4318176386072978",
         "0.5941993499638986",
         "0.19318614670608003",
         "0.599220886027621",
         "0.38722472123522433",
         "0.37803537742911375",
         "0.2651091519174571",
         "0.3707145528355692",
         "0.37918482227854167",
         "0.07528324027653566",
         "0.040493667810968414",
         "0.833850887485523",
         "0.5670567135656432",
         "0.3895033789533804",
         "0.38133206962343213",
         "0.9380273888269632",
         "0.06942301912577808",
         "0.7246328352526499",
         "0.585140858877476",
         "0.14753664669973066",
         "0.3917887089500124",
         "0.14570996216551557",
         "0.6785306275034912",
         "0.18445999665343826",
         "0.753945776869843",
         "0.46149775397025206",
         "0.03484739359289468",
         "0.7395215315405066",
         "0.6619103370749059",
         "0.16328232328984882",
         "0.3630865386284291",
         "0.29416773581320166",
         "0.47504488122738764",
         "0.9988494027665071",
         "0.8919402392664912",
         "0.8794904385130553",
         "0.06258659394000521",
         "0.8740467347545694",
         "0.523621859748071",
         "0.36548461075557315",
         "0.246122958963633",
         "0.38508643267488474",
         "0.7201437487585552",
         "0.6813513696132829",
         "0.49550371442024566",
         "0.3968824841306722",
         "0.37095724712090183",
         "0.6658954617272563",
         "0.8542080432773089",
         "0.8990333740730064",
         "0.5752915590646002",
         "0.5217225149677706",
         "0.452228740261985",
         "0.8364208490236329",
         "0.25097447002772866",
         "0.6209836882740477",
         "0.8599529653147578",
         "0.665639305823364",
         "0.3367515739481808",
         "0.7924724227712467",
         "0.7348546213439686",
         "0.14122995586916354",
         "0.26986860567551996",
         "0.2521241027653818",
         "0.14723799432641282",
         "0.4516676398455671",
         "0.7679864992542225",
         "0.839952307091372",
         "0.002472302682795413",
         "0.7732115299811075",
         "0.5572659224725067",
         "0.17456854149781575",
         "0.18745849609923282",
         "0.6204915117344088",
         "0.991109128260167",
         "0.6352900278621805",
         "0.45722568268984853",
         "0.25519101831201574",
         "0.5468990880624862",
         "0.6324303742261018",
         "0.8089138405047204",
         "0.6687135955874952",
         "0.1253620113057169",
         "0.7362537217758627",
         "0.1255656643711528",
         "0.7813589935665456",
         "0.13300229828393106",
         "0.38105037124815866",
         "0.43145260953518394",
         "0.6803900667837103",
         "0.980977092406759",
         "0.07094112676763009",
         "0.9565868168935575",
         "0.20981918773114006",
         "0.48189699178550516",
         "0.6130585760586146",
         "0.8110105751594413",
         "0.072505549288854",
         "0.9666126933242443",
         "0.23456418382424205",
         "0.9237294607594659",
         "0.9232206268098937",
         "0.5027489921783334",
         "0.669062729634844",
         "0.5149307357894863",
         "0.4969945421014831",
         "0.7876494286227566",
         "0.8569993435917294",
         "0.5418967251868977",
         "0.5959354528088209",
         "0.6239237148482119",
         "0.5091194341399478",
         "0.6570495336944162",
         "0.46754152574468644",
         "0.18489787201920083",
         "0.8262971199131317",
         "0.6072598996402236",
         "0.3994864627939714",
         "0.3012237001322132",
         "0.6176233193382054",
         "0.3598211060052655",
         "0.1909971805150491",
         "0.1419767946565088",
         "0.2598206708681732",
         "0.21210330437763936",
         "0.8853493294875099",
         "0.08571009851637612",
         "0.9033720302556286",
         "0.27568589615146766",
         "0.720681536043547",
         "0.8617588718783379",
         "0.69556926637402",
         "0.8697729088849833",
         "0.2822389679198114",
         "0.7782564888899995",
         "0.7396062784690519",
         "0.08501686650175022",
         "0.23643790482808835",
         "0.07468022943323749",
         "0.3571371947458811",
         "0.3177226150524878",
         "0.41023234040538037",
         "0.25204935349639723",
         "0.0694341038011711",
         "0.22340948230887492",
         "0.5871822961104141",
         "0.222123814165336",
         "0.3124918191111492",
         "0.04604908018374598",
         "0.34926506933953894",
         "0.13350768768133037",
         "0.5113200831398687",
         "0.6548911815700305",
         "0.15347393988935",
         "0.4528149606360482",
         "0.38464161566216015",
         "0.06001668696848783",
         "0.9857648802311725",
         "0.5705265229359191",
         "0.30727262553881707",
         "0.2979147794017626",
         "0.5137091519758549",
         "0.09209216257911246",
         "0.028927449866625432",
         "0.4465989246371903",
         "0.19938735263731544",
         "0.28164571738005373",
         "0.49548595542012974",
         "0.5532039446189457",
         "0.3755520658679854",
         "0.542367193985732",
         "0.7374250435415819",
         "0.6952053044350374",
         "0.4346342708419688",
         "0.44706171766907465",
         "0.3129013382883238",
         "0.5317128875307373",
         "0.08965090767375561",
         "0.16005124190047015",
         "0.9417809126902836",
         "0.11065478553316943",
         "0.7773926891547287",
         "0.650154914429738",
         "0.1409538574450495",
         "0.8249121893516516",
         "0.6598293274549984",
         "0.15951776276407859",
         "0.2825532537071189",
         "0.83654424264567",
         "0.785102115247032",
         "0.9170724404652532",
         "0.3417903158312424",
         "0.6380698244291395",
         "0.5571239434711133",
         "0.5022377419116993",
         "0.9279642816847227",
         "0.8636484244000023",
         "0.07477167087064285",
         "0.28011987334115174",
         "0.2721786807542437",
         "0.949924436623489",
         "0.4367734372655805",
         "0.3977499013467475",
         "0.007584479826123647",
         "0.5509542149599925",
         "0.33714805927986846",
         "0.902510697284327",
         "0.42971511870290013",
         "0.7648226521719599",
         "0.31266788219307207",
         "0.6793292028984038",
         "0.5712026735154313",
         "0.5890451602122928",
         "0.7592608580632579",
         "0.2846090464631741",
         "0.6282427763239948",
         "0.9617221197620371",
         "0.8957373716779471",
         "0.3191721848117659",
         "0.18310011017223937",
         "0.7880485018246824",
         "0.4423920183655622",
         "0.25538765810453934",
         "0.6826103532092466",
         "0.41492905490528864",
         "0.2643931894904531",
         "0.9257206952524709",
         "0.9796078124800907",
         "0.919541330804443",
         "0.28642423084059543",
         "0.02424471496639291",
         "0.9657161674138731",
         "0.9125123954544312",
         "0.4199031551991984",
         "0.8605677917236013",
         "0.8425248949638184",
         "0.6198239641886283",
         "0.20922034139702206",
         "0.6446299368183692",
         "0.6878848408223069",
         "0.6180287710853302",
         "0.8227259085353018",
         "0.14454231455111544",
         "0.07549320766892476",
         "0.5777071196536003",
         "0.4319481969478416",
         "0.18912835253502303",
         "0.8321449386928496",
         "0.4954139390156711",
         "0.5935196799527",
         "0.027314906822774043",
         "0.6717097576314082",
         "0.212034595691853",
         "0.4748682159925659",
         "0.8935569843268681",
         "0.557558138170058",
         "0.8574231463382016",
         "0.03465193362130392",
         "0.09250574059804728",
         "0.31539466435376573",
         "0.5543969125967753",
         "0.7153998052929907",
         "0.29073266515497187",
         "0.6387292058159866",
         "0.4365220470917983",
         "0.3644873765496083",
         "0.007217951211283435",
         "0.8281169422568654",
         "0.3930961192878575",
         "0.9989031309174647",
         "0.5947365390316413",
         "0.7246303130458981",
         "0.3096747028418788",
         "0.70039842220878",
         "0.8664833317618581",
         "0.420387106199431",
         "0.2568678730411492",
         "0.04068697875247351",
         "0.37702255337251067",
         "0.9282713558536503",
         "0.608575971774173",
         "0.11058842742807384",
         "0.2963496283463951",
         "0.6772298594938578",
         "0.8540647325759377",
         "0.19282426351907345",
         "0.9937649443664173",
         "0.4131465813382462",
         "0.12795896421121433",
         "0.9214546852675604",
         "0.31318468019054746",
         "0.6410660430235893",
         "0.5596483583987699",
         "0.36209899089434927",
         "0.5577354074746844",
         "0.5690160156409381",
         "0.5525210984499757",
         "0.16042092838092226",
         "0.8844527252490194",
         "0.7982872903339537",
         "0.30040872396574814",
         "0.46218560601220715",
         "0.9823279038194136",
         "0.8823486129554019",
         "0.7864903961674441",
         "0.7406416074509744",
         "0.6451960558893017",
         "0.8732611486146538",
         "0.5689274145963994",
         "0.6164622103494412",
         "0.06548612880344862",
         "0.22938737539192455",
         "0.32495618375630253",
         "0.9407336957241169",
         "0.5014006435040029",
         "0.8094187767672595",
         "0.9691423768217123",
         "0.22303730808730549",
         "0.1378236968449027"
        ],
        [
         "4",
         "0.09521448590014225",
         "0.8016272624830633",
         "0.3854714439120136",
         "0.6031407455161603",
         "0.6146950230272517",
         "0.5010818383880239",
         "0.9428072527083258",
         "0.28721193439724",
         "0.05628825532508386",
         "0.6805866689403502",
         "0.20054527061370653",
         "0.9544391775429086",
         "0.3624039702314166",
         "0.2932358231406871",
         "0.7665167775448181",
         "0.30498436978625254",
         "0.28668628433143395",
         "0.9771012273452394",
         "0.43428946008244584",
         "0.6845632655230067",
         "0.2129558228877414",
         "0.6047549252183171",
         "0.04151670477030811",
         "0.21740185191095296",
         "0.8234266356478469",
         "0.7828096636963873",
         "0.34820986051141745",
         "0.8831792603857209",
         "0.6324293785801236",
         "0.6558055634494316",
         "0.7696559747522995",
         "0.46655533099572244",
         "0.42882204271310365",
         "0.730408523692049",
         "0.099528198151141",
         "0.7804003273525997",
         "0.024277234806345915",
         "0.5535459774877217",
         "0.7423856539699849",
         "0.1525273927734293",
         "0.2807581891739951",
         "0.7955289904869799",
         "0.21343142713833152",
         "0.8274591817289583",
         "0.14154618824426257",
         "0.7324073221886642",
         "0.7978658453207218",
         "0.8418018396829575",
         "0.9436336687419852",
         "0.42295079432326155",
         "0.7226154062121306",
         "0.8059704042712154",
         "0.2258321316630909",
         "0.6190135000532893",
         "0.31494223290674117",
         "0.9266166806827801",
         "0.3984778531123918",
         "0.3560666499168257",
         "0.1697369164120589",
         "0.8606138690823726",
         "0.20996438602430634",
         "0.5424199862280021",
         "0.5740958032588761",
         "0.23721974841954319",
         "0.9620558136889495",
         "0.5566546298113515",
         "0.7806722640776638",
         "0.49713801497608245",
         "0.7346105541474764",
         "0.05457227118498276",
         "0.0975998301500356",
         "0.7370213307788752",
         "0.16199167446203977",
         "0.6145379996651442",
         "0.4902598100132879",
         "0.2048178677451864",
         "0.06246400545556574",
         "0.24509608539154326",
         "0.885874667718668",
         "0.7725664841483968",
         "0.64971981471728",
         "0.13208621634226902",
         "0.6685938798044894",
         "0.9230995611409121",
         "0.44272799877004754",
         "0.37332460832978354",
         "0.6520062680092912",
         "0.3301762964368242",
         "0.87318537111326",
         "0.33634924976322644",
         "0.5557451654679623",
         "0.20081999806698925",
         "0.6271726620534382",
         "0.25180281012118233",
         "0.6126107460574749",
         "0.44198085247474983",
         "0.6287697698343111",
         "0.5911946825564814",
         "0.9028589309086943",
         "0.4565673671301549",
         "0.26711343825831657",
         "0.5797234529316349",
         "0.6243451282128504",
         "0.5040111411378376",
         "0.4202216170127199",
         "0.3550974668673278",
         "0.6144005846156948",
         "0.25114109980355803",
         "0.93596736592953",
         "0.7896365837288957",
         "0.3699224477873406",
         "0.5815930317242681",
         "0.9643770929444169",
         "0.05023168759074015",
         "0.8470234446475153",
         "0.5770881216704622",
         "0.1515382703827467",
         "0.8873716923572501",
         "0.6161101515520798",
         "0.6051896583425689",
         "0.611340478572156",
         "0.29783676009888227",
         "0.9711884151990672",
         "0.5659349718576966",
         "0.30131737884492793",
         "0.6864208549457407",
         "0.6235011672422657",
         "0.17041847797096654",
         "0.3187850691570491",
         "0.18463583050403598",
         "0.8778399389096515",
         "0.5197937787846122",
         "0.41757015638474304",
         "0.7718217802560229",
         "0.24107549560767993",
         "0.9499143396176941",
         "0.7688271367648785",
         "0.7045341147685094",
         "0.6338348777475695",
         "0.9579748285218065",
         "0.4237877427375105",
         "0.8503206340447649",
         "0.4615089932873875",
         "0.06973189136945257",
         "0.5926541418954603",
         "0.12151159637853759",
         "0.9046514466363201",
         "0.3097494736658051",
         "0.13434958315682277",
         "0.32609093365453656",
         "0.8479168330660567",
         "0.13868981972218442",
         "0.9840405641057638",
         "0.21960003024978192",
         "0.3207671215990545",
         "0.23336812312452404",
         "0.532776741995338",
         "0.40954932376154285",
         "0.8057311471266962",
         "0.2635048974246966",
         "0.6884771596513024",
         "0.6869201147603397",
         "0.9958498061252575",
         "0.23812646277968952",
         "0.328091152082302",
         "0.9018200944121815",
         "0.9584670509151562",
         "0.08747954741401764",
         "0.267036317721561",
         "0.5749106405685688",
         "0.4567904872707791",
         "0.5000433935070192",
         "0.8486465047484921",
         "0.8026089458686733",
         "0.8567798453180524",
         "0.305767920020934",
         "0.7365358823063589",
         "0.37238683553975727",
         "0.8121064688250399",
         "0.537595147522272",
         "0.15104642795237533",
         "0.8246722687912873",
         "0.3389447156735299",
         "0.8652597057653836",
         "0.6994744500852533",
         "0.9237869897714264",
         "0.2364801010780644",
         "0.9232518296332994",
         "0.061187418178194175",
         "0.7556874872188509",
         "0.34426199133943114",
         "0.881598139849233",
         "0.7988609513870696",
         "0.8279519456114801",
         "0.7527918562942028",
         "0.8631579901905467",
         "0.9741312393454816",
         "0.7478320666371672",
         "0.011012508492829087",
         "0.3365508307619768",
         "0.2934285431599444",
         "0.17525964365643787",
         "0.36770684635959605",
         "0.9606124635604767",
         "0.8679527347407759",
         "0.9418318413602129",
         "0.6076350079334726",
         "0.05907931181426318",
         "0.9366102883478421",
         "0.4995409698955725",
         "0.763099355914554",
         "0.7473583157478734",
         "0.266812658264014",
         "0.6360438453200967",
         "0.295000950332327",
         "0.06886746792776788",
         "0.7859237247847662",
         "0.9512068857521908",
         "0.04154379510274797",
         "0.9070121865061357",
         "0.4619845087034611",
         "0.9930333545438773",
         "0.7947400928151676",
         "0.34827319386401767",
         "0.9378479360049091",
         "0.693095947000639",
         "0.7892241022615165",
         "0.05821658059267987",
         "0.8331545626236396",
         "0.683009422631608",
         "0.7178559890315718",
         "0.6407218899544761",
         "0.8687619048421352",
         "0.6018051532282178",
         "0.27465990980547805",
         "0.2383921463256583",
         "0.9405204490564079",
         "0.8322398152721757",
         "0.5792903663701274",
         "0.8126576410051384",
         "0.6421918478202681",
         "0.6990213217893634",
         "0.03858030335049456",
         "0.011835874991526718",
         "0.29246221439530384",
         "0.13742578018744278",
         "0.6482075770268325",
         "0.6035310442675426",
         "0.019775627899562553",
         "0.7692314847557629",
         "0.28773608519255967",
         "0.2560474187670523",
         "0.3452769805319077",
         "0.9701892142804728",
         "0.37798572193525093",
         "0.9421864839817277",
         "0.04060419461421283",
         "0.9643025891612175",
         "0.808316086406756",
         "0.3402240661970968",
         "0.5997675076372521",
         "0.202483717659399",
         "0.3031958897990771",
         "0.06799639508921074",
         "0.6459433249438653",
         "0.6074093650397747",
         "0.4461683787125429",
         "0.06104559061535675",
         "0.59512663894618",
         "0.7245881066744763",
         "0.1140659923689159",
         "0.4202036772486828",
         "0.19846345273616306",
         "0.7798004123175699",
         "0.8492239917862162",
         "0.6285926685104714",
         "0.07661048560650463",
         "0.7435107452019074",
         "0.2349596432053277",
         "0.10219612266631373",
         "0.8104750725317794",
         "0.02851358167606277",
         "0.21207626762767295",
         "0.4370334684638587",
         "0.3538735657649088",
         "0.9605655264051204",
         "0.8896192079160313",
         "0.9896271144178718",
         "0.5938138972002521",
         "0.09947001304642267",
         "0.8873657114132174",
         "0.8186005652671583",
         "0.2032913453348757",
         "0.40351082974855856",
         "0.42359445618608704",
         "0.9357013453021724",
         "0.6090805132253904",
         "0.7810278641533968",
         "0.03541307873632982",
         "0.23674878596249693",
         "0.6268911309040864",
         "0.6359349001546036",
         "0.3243907684404064",
         "0.09132253692738335",
         "0.9133879264946709",
         "0.4112917288562038",
         "0.8460118662010957",
         "0.45254786120103063",
         "0.2688274536779036",
         "0.7657712013601089",
         "0.415081294731938",
         "0.7776623335849676",
         "0.5221360605532264",
         "0.8580854544493433",
         "0.9557051535091324",
         "0.389038849198695",
         "0.9145383216303804",
         "0.5710143214282184",
         "0.9844289841184165",
         "0.12352345768964734",
         "0.6220156363723672",
         "0.9665114691927124",
         "0.13624682969490998",
         "0.19691655241916506",
         "0.7550252237995834",
         "0.6290855584286358",
         "0.7783501824049613",
         "0.002233338595157841",
         "0.980519423042683",
         "0.16673443576083402",
         "0.7947188465807817",
         "0.7988682853011898",
         "0.764386763010007",
         "0.19697336734621618"
        ]
       ],
       "shape": {
        "columns": 334,
        "rows": 5
       }
      },
      "text/html": [
       "<div>\n",
       "<style scoped>\n",
       "    .dataframe tbody tr th:only-of-type {\n",
       "        vertical-align: middle;\n",
       "    }\n",
       "\n",
       "    .dataframe tbody tr th {\n",
       "        vertical-align: top;\n",
       "    }\n",
       "\n",
       "    .dataframe thead th {\n",
       "        text-align: right;\n",
       "    }\n",
       "</style>\n",
       "<table border=\"1\" class=\"dataframe\">\n",
       "  <thead>\n",
       "    <tr style=\"text-align: right;\">\n",
       "      <th></th>\n",
       "      <th>0</th>\n",
       "      <th>1</th>\n",
       "      <th>2</th>\n",
       "      <th>3</th>\n",
       "      <th>4</th>\n",
       "      <th>5</th>\n",
       "      <th>6</th>\n",
       "      <th>7</th>\n",
       "      <th>8</th>\n",
       "      <th>9</th>\n",
       "      <th>...</th>\n",
       "      <th>324</th>\n",
       "      <th>325</th>\n",
       "      <th>326</th>\n",
       "      <th>327</th>\n",
       "      <th>328</th>\n",
       "      <th>329</th>\n",
       "      <th>330</th>\n",
       "      <th>331</th>\n",
       "      <th>332</th>\n",
       "      <th>333</th>\n",
       "    </tr>\n",
       "  </thead>\n",
       "  <tbody>\n",
       "    <tr>\n",
       "      <th>0</th>\n",
       "      <td>0.345310</td>\n",
       "      <td>0.529679</td>\n",
       "      <td>0.782067</td>\n",
       "      <td>0.856292</td>\n",
       "      <td>0.195753</td>\n",
       "      <td>0.458770</td>\n",
       "      <td>0.717472</td>\n",
       "      <td>0.690095</td>\n",
       "      <td>0.095376</td>\n",
       "      <td>0.847816</td>\n",
       "      <td>...</td>\n",
       "      <td>0.001841</td>\n",
       "      <td>0.628444</td>\n",
       "      <td>0.766946</td>\n",
       "      <td>0.044452</td>\n",
       "      <td>0.375563</td>\n",
       "      <td>0.421527</td>\n",
       "      <td>0.355866</td>\n",
       "      <td>0.853727</td>\n",
       "      <td>0.904621</td>\n",
       "      <td>0.670539</td>\n",
       "    </tr>\n",
       "    <tr>\n",
       "      <th>1</th>\n",
       "      <td>0.735333</td>\n",
       "      <td>0.805558</td>\n",
       "      <td>0.909796</td>\n",
       "      <td>0.370960</td>\n",
       "      <td>0.280666</td>\n",
       "      <td>0.620194</td>\n",
       "      <td>0.959489</td>\n",
       "      <td>0.213929</td>\n",
       "      <td>0.589098</td>\n",
       "      <td>0.996690</td>\n",
       "      <td>...</td>\n",
       "      <td>0.975249</td>\n",
       "      <td>0.839105</td>\n",
       "      <td>0.402644</td>\n",
       "      <td>0.802155</td>\n",
       "      <td>0.229387</td>\n",
       "      <td>0.647314</td>\n",
       "      <td>0.920899</td>\n",
       "      <td>0.353936</td>\n",
       "      <td>0.702879</td>\n",
       "      <td>0.412429</td>\n",
       "    </tr>\n",
       "    <tr>\n",
       "      <th>2</th>\n",
       "      <td>0.665448</td>\n",
       "      <td>0.244635</td>\n",
       "      <td>0.336075</td>\n",
       "      <td>0.199365</td>\n",
       "      <td>0.086213</td>\n",
       "      <td>0.759224</td>\n",
       "      <td>0.971471</td>\n",
       "      <td>0.506912</td>\n",
       "      <td>0.747835</td>\n",
       "      <td>0.076869</td>\n",
       "      <td>...</td>\n",
       "      <td>0.178263</td>\n",
       "      <td>0.813438</td>\n",
       "      <td>0.036937</td>\n",
       "      <td>0.379579</td>\n",
       "      <td>0.180331</td>\n",
       "      <td>0.245387</td>\n",
       "      <td>0.059750</td>\n",
       "      <td>0.460087</td>\n",
       "      <td>0.692795</td>\n",
       "      <td>0.238090</td>\n",
       "    </tr>\n",
       "    <tr>\n",
       "      <th>3</th>\n",
       "      <td>0.823165</td>\n",
       "      <td>0.246286</td>\n",
       "      <td>0.056018</td>\n",
       "      <td>0.887982</td>\n",
       "      <td>0.609559</td>\n",
       "      <td>0.200297</td>\n",
       "      <td>0.941911</td>\n",
       "      <td>0.417483</td>\n",
       "      <td>0.805802</td>\n",
       "      <td>0.793590</td>\n",
       "      <td>...</td>\n",
       "      <td>0.616462</td>\n",
       "      <td>0.065486</td>\n",
       "      <td>0.229387</td>\n",
       "      <td>0.324956</td>\n",
       "      <td>0.940734</td>\n",
       "      <td>0.501401</td>\n",
       "      <td>0.809419</td>\n",
       "      <td>0.969142</td>\n",
       "      <td>0.223037</td>\n",
       "      <td>0.137824</td>\n",
       "    </tr>\n",
       "    <tr>\n",
       "      <th>4</th>\n",
       "      <td>0.095214</td>\n",
       "      <td>0.801627</td>\n",
       "      <td>0.385471</td>\n",
       "      <td>0.603141</td>\n",
       "      <td>0.614695</td>\n",
       "      <td>0.501082</td>\n",
       "      <td>0.942807</td>\n",
       "      <td>0.287212</td>\n",
       "      <td>0.056288</td>\n",
       "      <td>0.680587</td>\n",
       "      <td>...</td>\n",
       "      <td>0.755025</td>\n",
       "      <td>0.629086</td>\n",
       "      <td>0.778350</td>\n",
       "      <td>0.002233</td>\n",
       "      <td>0.980519</td>\n",
       "      <td>0.166734</td>\n",
       "      <td>0.794719</td>\n",
       "      <td>0.798868</td>\n",
       "      <td>0.764387</td>\n",
       "      <td>0.196973</td>\n",
       "    </tr>\n",
       "  </tbody>\n",
       "</table>\n",
       "<p>5 rows × 334 columns</p>\n",
       "</div>"
      ],
      "text/plain": [
       "        0         1         2         3         4         5         6    \\\n",
       "0  0.345310  0.529679  0.782067  0.856292  0.195753  0.458770  0.717472   \n",
       "1  0.735333  0.805558  0.909796  0.370960  0.280666  0.620194  0.959489   \n",
       "2  0.665448  0.244635  0.336075  0.199365  0.086213  0.759224  0.971471   \n",
       "3  0.823165  0.246286  0.056018  0.887982  0.609559  0.200297  0.941911   \n",
       "4  0.095214  0.801627  0.385471  0.603141  0.614695  0.501082  0.942807   \n",
       "\n",
       "        7         8         9    ...       324       325       326       327  \\\n",
       "0  0.690095  0.095376  0.847816  ...  0.001841  0.628444  0.766946  0.044452   \n",
       "1  0.213929  0.589098  0.996690  ...  0.975249  0.839105  0.402644  0.802155   \n",
       "2  0.506912  0.747835  0.076869  ...  0.178263  0.813438  0.036937  0.379579   \n",
       "3  0.417483  0.805802  0.793590  ...  0.616462  0.065486  0.229387  0.324956   \n",
       "4  0.287212  0.056288  0.680587  ...  0.755025  0.629086  0.778350  0.002233   \n",
       "\n",
       "        328       329       330       331       332       333  \n",
       "0  0.375563  0.421527  0.355866  0.853727  0.904621  0.670539  \n",
       "1  0.229387  0.647314  0.920899  0.353936  0.702879  0.412429  \n",
       "2  0.180331  0.245387  0.059750  0.460087  0.692795  0.238090  \n",
       "3  0.940734  0.501401  0.809419  0.969142  0.223037  0.137824  \n",
       "4  0.980519  0.166734  0.794719  0.798868  0.764387  0.196973  \n",
       "\n",
       "[5 rows x 334 columns]"
      ]
     },
     "execution_count": 18,
     "metadata": {},
     "output_type": "execute_result"
    }
   ],
   "source": [
    "newdata.T      #Transpose"
   ]
  },
  {
   "cell_type": "code",
   "execution_count": 19,
   "id": "15b06994",
   "metadata": {},
   "outputs": [
    {
     "data": {
      "application/vnd.microsoft.datawrangler.viewer.v0+json": {
       "columns": [
        {
         "name": "index",
         "rawType": "int64",
         "type": "integer"
        },
        {
         "name": "4",
         "rawType": "float64",
         "type": "float"
        },
        {
         "name": "3",
         "rawType": "float64",
         "type": "float"
        },
        {
         "name": "2",
         "rawType": "float64",
         "type": "float"
        },
        {
         "name": "1",
         "rawType": "float64",
         "type": "float"
        },
        {
         "name": "0",
         "rawType": "float64",
         "type": "float"
        }
       ],
       "ref": "4c3df5f1-587d-40a3-bd74-43cb11903be0",
       "rows": [
        [
         "0",
         "0.09521448590014225",
         "0.8231651629968497",
         "0.6654478058376195",
         "0.7353330881880906",
         "0.34531"
        ],
        [
         "1",
         "0.8016272624830633",
         "0.24628591354087037",
         "0.2446351142032439",
         "0.8055581315653556",
         "0.5296788259810971"
        ],
        [
         "2",
         "0.3854714439120136",
         "0.05601769514151045",
         "0.33607538004479864",
         "0.9097956577228845",
         "0.7820667244531102"
        ],
        [
         "3",
         "0.6031407455161603",
         "0.887981874868886",
         "0.19936517502086004",
         "0.37096049366477435",
         "0.8562915603273978"
        ],
        [
         "4",
         "0.6146950230272517",
         "0.6095594675339207",
         "0.08621297177947784",
         "0.2806657454855127",
         "0.19575315799175497"
        ],
        [
         "5",
         "0.5010818383880239",
         "0.20029696449675338",
         "0.7592238939256974",
         "0.6201937999850412",
         "0.4587701259376935"
        ],
        [
         "6",
         "0.9428072527083258",
         "0.9419107218970313",
         "0.9714706689616114",
         "0.9594888801555976",
         "0.7174723075994731"
        ],
        [
         "7",
         "0.28721193439724",
         "0.4174828388645355",
         "0.5069123876875542",
         "0.21392897775173025",
         "0.6900949936303603"
        ],
        [
         "8",
         "0.05628825532508386",
         "0.8058022279196755",
         "0.7478349652494887",
         "0.5890979041530945",
         "0.09537618385860347"
        ],
        [
         "9",
         "0.6805866689403502",
         "0.7935897261437042",
         "0.07686905551974266",
         "0.9966899809946442",
         "0.8478164093079261"
        ],
        [
         "10",
         "0.20054527061370653",
         "0.663748697515427",
         "0.9560645760136013",
         "0.8822846793541016",
         "0.40526342609643684"
        ],
        [
         "11",
         "0.9544391775429086",
         "0.894999846554725",
         "0.4672667178971326",
         "0.3246235870957973",
         "0.7792925010442079"
        ],
        [
         "12",
         "0.3624039702314166",
         "0.8135405481497336",
         "0.8916921220673266",
         "0.9451187253778696",
         "0.6590759012705484"
        ],
        [
         "13",
         "0.2932358231406871",
         "0.670580488538254",
         "0.16524323762736082",
         "0.3309959432358267",
         "0.8026501281234257"
        ],
        [
         "14",
         "0.7665167775448181",
         "0.7380754383238413",
         "0.6180925050357097",
         "0.6712399137308364",
         "0.19880307139305808"
        ],
        [
         "15",
         "0.30498436978625254",
         "0.4318176386072978",
         "0.750435670645148",
         "0.9603935583745663",
         "0.825440450349937"
        ],
        [
         "16",
         "0.28668628433143395",
         "0.5941993499638986",
         "0.30169328010438556",
         "0.34859493965225574",
         "0.5548478157195837"
        ],
        [
         "17",
         "0.9771012273452394",
         "0.19318614670608003",
         "0.4239235622339057",
         "0.37571551194107433",
         "0.44054246908053274"
        ],
        [
         "18",
         "0.43428946008244584",
         "0.599220886027621",
         "0.20546866726642976",
         "0.29481924922187297",
         "0.9183846110269911"
        ],
        [
         "19",
         "0.6845632655230067",
         "0.38722472123522433",
         "0.432125175968883",
         "0.13795874991320567",
         "0.49726030726310333"
        ],
        [
         "20",
         "0.2129558228877414",
         "0.37803537742911375",
         "0.4172104578288327",
         "0.7757009354901779",
         "0.3321113185954242"
        ],
        [
         "21",
         "0.6047549252183171",
         "0.2651091519174571",
         "0.6678150035116762",
         "0.24842761969515736",
         "0.9599313032409883"
        ],
        [
         "22",
         "0.04151670477030811",
         "0.3707145528355692",
         "0.6867031525385198",
         "0.19143380493617312",
         "0.20887003763883472"
        ],
        [
         "23",
         "0.21740185191095296",
         "0.37918482227854167",
         "0.42730449152867667",
         "0.2704910406792569",
         "0.5740579863041497"
        ],
        [
         "24",
         "0.8234266356478469",
         "0.07528324027653566",
         "0.6118031099946017",
         "0.003940971302122898",
         "0.44605874931331035"
        ],
        [
         "25",
         "0.7828096636963873",
         "0.040493667810968414",
         "0.13844199912832578",
         "0.251605400420819",
         "0.3140173171714691"
        ],
        [
         "26",
         "0.34820986051141745",
         "0.833850887485523",
         "0.21432131456154113",
         "0.5496383771942958",
         "0.15959625550488843"
        ],
        [
         "27",
         "0.8831792603857209",
         "0.5670567135656432",
         "0.6269464750289212",
         "0.7497122927104248",
         "0.47127017916240177"
        ],
        [
         "28",
         "0.6324293785801236",
         "0.3895033789533804",
         "0.4364133087221156",
         "0.39236941046240537",
         "0.033385772165687055"
        ],
        [
         "29",
         "0.6558055634494316",
         "0.38133206962343213",
         "0.9932500755423068",
         "0.8331548284884679",
         "0.5586356227135842"
        ],
        [
         "30",
         "0.7696559747522995",
         "0.9380273888269632",
         "0.09121703751806232",
         "0.49530226456472093",
         "0.4536896025367989"
        ],
        [
         "31",
         "0.46655533099572244",
         "0.06942301912577808",
         "0.7102560039264536",
         "0.8138423485168885",
         "0.9379404054385372"
        ],
        [
         "32",
         "0.42882204271310365",
         "0.7246328352526499",
         "0.6718993205229378",
         "0.763775973157372",
         "0.13926726963418845"
        ],
        [
         "33",
         "0.730408523692049",
         "0.585140858877476",
         "0.2661570121384035",
         "0.5767531050371086",
         "0.21856158311152662"
        ],
        [
         "34",
         "0.099528198151141",
         "0.14753664669973066",
         "0.13377373202266263",
         "0.5934590200199075",
         "0.8819205786413018"
        ],
        [
         "35",
         "0.7804003273525997",
         "0.3917887089500124",
         "0.5180510492817234",
         "0.8442073008695726",
         "0.5007892866047547"
        ],
        [
         "36",
         "0.024277234806345915",
         "0.14570996216551557",
         "0.6329089860976024",
         "0.5093196709830553",
         "0.598105316770158"
        ],
        [
         "37",
         "0.5535459774877217",
         "0.6785306275034912",
         "0.24815177668191069",
         "0.04074605437132617",
         "0.2190051068639708"
        ],
        [
         "38",
         "0.7423856539699849",
         "0.18445999665343826",
         "0.7287941352033387",
         "0.23723122375875738",
         "0.44356757296494775"
        ],
        [
         "39",
         "0.1525273927734293",
         "0.753945776869843",
         "0.635373723448647",
         "0.04445012723987629",
         "0.2639918743255272"
        ],
        [
         "40",
         "0.2807581891739951",
         "0.46149775397025206",
         "0.3223660648370986",
         "0.997187847024821",
         "0.8083195126899793"
        ],
        [
         "41",
         "0.7955289904869799",
         "0.03484739359289468",
         "0.4896017708000976",
         "0.03151970506656343",
         "0.4763204685544913"
        ],
        [
         "42",
         "0.21343142713833152",
         "0.7395215315405066",
         "0.3830004872150736",
         "0.041551268117860474",
         "0.5967393141500379"
        ],
        [
         "43",
         "0.8274591817289583",
         "0.6619103370749059",
         "0.6356818435929605",
         "0.3905105416684246",
         "0.6812060310497886"
        ],
        [
         "44",
         "0.14154618824426257",
         "0.16328232328984882",
         "0.6876268002156152",
         "0.3719685549058849",
         "0.6793368741392829"
        ],
        [
         "45",
         "0.7324073221886642",
         "0.3630865386284291",
         "0.265273293262805",
         "0.06610952242652945",
         "0.16984286644986712"
        ],
        [
         "46",
         "0.7978658453207218",
         "0.29416773581320166",
         "0.09296901010153369",
         "0.26295534265330844",
         "0.9676776895374501"
        ],
        [
         "47",
         "0.8418018396829575",
         "0.47504488122738764",
         "0.4143571741027986",
         "0.024018679383019936",
         "0.8491539105928244"
        ],
        [
         "48",
         "0.9436336687419852",
         "0.9988494027665071",
         "0.5416644157157587",
         "0.4958757523631335",
         "0.16217113101200054"
        ],
        [
         "49",
         "0.42295079432326155",
         "0.8919402392664912",
         "0.85598617717588",
         "0.7896294059626551",
         "0.7595402939124548"
        ]
       ],
       "shape": {
        "columns": 5,
        "rows": 334
       }
      },
      "text/html": [
       "<div>\n",
       "<style scoped>\n",
       "    .dataframe tbody tr th:only-of-type {\n",
       "        vertical-align: middle;\n",
       "    }\n",
       "\n",
       "    .dataframe tbody tr th {\n",
       "        vertical-align: top;\n",
       "    }\n",
       "\n",
       "    .dataframe thead th {\n",
       "        text-align: right;\n",
       "    }\n",
       "</style>\n",
       "<table border=\"1\" class=\"dataframe\">\n",
       "  <thead>\n",
       "    <tr style=\"text-align: right;\">\n",
       "      <th></th>\n",
       "      <th>4</th>\n",
       "      <th>3</th>\n",
       "      <th>2</th>\n",
       "      <th>1</th>\n",
       "      <th>0</th>\n",
       "    </tr>\n",
       "  </thead>\n",
       "  <tbody>\n",
       "    <tr>\n",
       "      <th>0</th>\n",
       "      <td>0.095214</td>\n",
       "      <td>0.823165</td>\n",
       "      <td>0.665448</td>\n",
       "      <td>0.735333</td>\n",
       "      <td>0.345310</td>\n",
       "    </tr>\n",
       "    <tr>\n",
       "      <th>1</th>\n",
       "      <td>0.801627</td>\n",
       "      <td>0.246286</td>\n",
       "      <td>0.244635</td>\n",
       "      <td>0.805558</td>\n",
       "      <td>0.529679</td>\n",
       "    </tr>\n",
       "    <tr>\n",
       "      <th>2</th>\n",
       "      <td>0.385471</td>\n",
       "      <td>0.056018</td>\n",
       "      <td>0.336075</td>\n",
       "      <td>0.909796</td>\n",
       "      <td>0.782067</td>\n",
       "    </tr>\n",
       "    <tr>\n",
       "      <th>3</th>\n",
       "      <td>0.603141</td>\n",
       "      <td>0.887982</td>\n",
       "      <td>0.199365</td>\n",
       "      <td>0.370960</td>\n",
       "      <td>0.856292</td>\n",
       "    </tr>\n",
       "    <tr>\n",
       "      <th>4</th>\n",
       "      <td>0.614695</td>\n",
       "      <td>0.609559</td>\n",
       "      <td>0.086213</td>\n",
       "      <td>0.280666</td>\n",
       "      <td>0.195753</td>\n",
       "    </tr>\n",
       "    <tr>\n",
       "      <th>...</th>\n",
       "      <td>...</td>\n",
       "      <td>...</td>\n",
       "      <td>...</td>\n",
       "      <td>...</td>\n",
       "      <td>...</td>\n",
       "    </tr>\n",
       "    <tr>\n",
       "      <th>329</th>\n",
       "      <td>0.166734</td>\n",
       "      <td>0.501401</td>\n",
       "      <td>0.245387</td>\n",
       "      <td>0.647314</td>\n",
       "      <td>0.421527</td>\n",
       "    </tr>\n",
       "    <tr>\n",
       "      <th>330</th>\n",
       "      <td>0.794719</td>\n",
       "      <td>0.809419</td>\n",
       "      <td>0.059750</td>\n",
       "      <td>0.920899</td>\n",
       "      <td>0.355866</td>\n",
       "    </tr>\n",
       "    <tr>\n",
       "      <th>331</th>\n",
       "      <td>0.798868</td>\n",
       "      <td>0.969142</td>\n",
       "      <td>0.460087</td>\n",
       "      <td>0.353936</td>\n",
       "      <td>0.853727</td>\n",
       "    </tr>\n",
       "    <tr>\n",
       "      <th>332</th>\n",
       "      <td>0.764387</td>\n",
       "      <td>0.223037</td>\n",
       "      <td>0.692795</td>\n",
       "      <td>0.702879</td>\n",
       "      <td>0.904621</td>\n",
       "    </tr>\n",
       "    <tr>\n",
       "      <th>333</th>\n",
       "      <td>0.196973</td>\n",
       "      <td>0.137824</td>\n",
       "      <td>0.238090</td>\n",
       "      <td>0.412429</td>\n",
       "      <td>0.670539</td>\n",
       "    </tr>\n",
       "  </tbody>\n",
       "</table>\n",
       "<p>334 rows × 5 columns</p>\n",
       "</div>"
      ],
      "text/plain": [
       "            4         3         2         1         0\n",
       "0    0.095214  0.823165  0.665448  0.735333  0.345310\n",
       "1    0.801627  0.246286  0.244635  0.805558  0.529679\n",
       "2    0.385471  0.056018  0.336075  0.909796  0.782067\n",
       "3    0.603141  0.887982  0.199365  0.370960  0.856292\n",
       "4    0.614695  0.609559  0.086213  0.280666  0.195753\n",
       "..        ...       ...       ...       ...       ...\n",
       "329  0.166734  0.501401  0.245387  0.647314  0.421527\n",
       "330  0.794719  0.809419  0.059750  0.920899  0.355866\n",
       "331  0.798868  0.969142  0.460087  0.353936  0.853727\n",
       "332  0.764387  0.223037  0.692795  0.702879  0.904621\n",
       "333  0.196973  0.137824  0.238090  0.412429  0.670539\n",
       "\n",
       "[334 rows x 5 columns]"
      ]
     },
     "execution_count": 19,
     "metadata": {},
     "output_type": "execute_result"
    }
   ],
   "source": [
    "newdata.sort_index(axis=1,ascending=False)       #reverse sort "
   ]
  },
  {
   "cell_type": "code",
   "execution_count": 20,
   "id": "6678d9a5",
   "metadata": {},
   "outputs": [
    {
     "data": {
      "application/vnd.microsoft.datawrangler.viewer.v0+json": {
       "columns": [
        {
         "name": "index",
         "rawType": "int64",
         "type": "integer"
        },
        {
         "name": "0",
         "rawType": "float64",
         "type": "float"
        },
        {
         "name": "1",
         "rawType": "float64",
         "type": "float"
        },
        {
         "name": "2",
         "rawType": "float64",
         "type": "float"
        },
        {
         "name": "3",
         "rawType": "float64",
         "type": "float"
        },
        {
         "name": "4",
         "rawType": "float64",
         "type": "float"
        }
       ],
       "ref": "ff3c16a4-8aaa-45b7-a251-43f0d0ffb695",
       "rows": [
        [
         "333",
         "0.6705392522402099",
         "0.412428787073415",
         "0.23809038807735106",
         "0.1378236968449027",
         "0.19697336734621618"
        ],
        [
         "332",
         "0.9046212854195222",
         "0.7028793048036655",
         "0.6927950292510633",
         "0.22303730808730549",
         "0.764386763010007"
        ],
        [
         "331",
         "0.8537271223533854",
         "0.3539364774844813",
         "0.46008719673552423",
         "0.9691423768217123",
         "0.7988682853011898"
        ],
        [
         "330",
         "0.3558663962102494",
         "0.9208993992343721",
         "0.05975006206208766",
         "0.8094187767672595",
         "0.7947188465807817"
        ],
        [
         "329",
         "0.4215269849847578",
         "0.6473137292551916",
         "0.2453872737514109",
         "0.5014006435040029",
         "0.16673443576083402"
        ],
        [
         "328",
         "0.37556327533304046",
         "0.22938715849505187",
         "0.1803314402324383",
         "0.9407336957241169",
         "0.980519423042683"
        ],
        [
         "327",
         "0.04445248328235252",
         "0.8021551999573404",
         "0.3795792209212876",
         "0.32495618375630253",
         "0.002233338595157841"
        ],
        [
         "326",
         "0.766946202952047",
         "0.4026443878014522",
         "0.03693695829655863",
         "0.22938737539192455",
         "0.7783501824049613"
        ],
        [
         "325",
         "0.6284442338125651",
         "0.8391051014113344",
         "0.8134375024403507",
         "0.06548612880344862",
         "0.6290855584286358"
        ],
        [
         "324",
         "0.0018413899290647961",
         "0.9752494443613946",
         "0.17826267015081787",
         "0.6164622103494412",
         "0.7550252237995834"
        ],
        [
         "323",
         "0.5054213818340129",
         "0.4795288378048129",
         "0.33751134921877735",
         "0.5689274145963994",
         "0.19691655241916506"
        ],
        [
         "322",
         "0.5066287058677665",
         "0.9251008815016516",
         "0.059850117446411444",
         "0.8732611486146538",
         "0.13624682969490998"
        ],
        [
         "321",
         "0.19530882102307223",
         "0.3986752089335066",
         "0.0712198569704241",
         "0.6451960558893017",
         "0.9665114691927124"
        ],
        [
         "320",
         "0.6044359089009297",
         "0.8977740107237203",
         "0.02023449953309797",
         "0.7406416074509744",
         "0.6220156363723672"
        ],
        [
         "319",
         "0.010409958226065608",
         "0.45834339105739597",
         "0.838098105773219",
         "0.7864903961674441",
         "0.12352345768964734"
        ],
        [
         "318",
         "0.3541831423189793",
         "0.8623377574204805",
         "0.041281426921884745",
         "0.8823486129554019",
         "0.9844289841184165"
        ],
        [
         "317",
         "0.4910893035124311",
         "0.6204538499189375",
         "0.08999007249466418",
         "0.9823279038194136",
         "0.5710143214282184"
        ],
        [
         "316",
         "0.10562144969653509",
         "0.7498028356126734",
         "0.6155626757990696",
         "0.46218560601220715",
         "0.9145383216303804"
        ],
        [
         "315",
         "0.4785738754399864",
         "0.002120281108241584",
         "0.6388273334870957",
         "0.30040872396574814",
         "0.389038849198695"
        ],
        [
         "314",
         "0.04012940905131546",
         "0.24074034716384318",
         "0.9085498284426311",
         "0.7982872903339537",
         "0.9557051535091324"
        ],
        [
         "313",
         "0.07236911231488352",
         "0.06742441035274194",
         "0.015983565333682392",
         "0.8844527252490194",
         "0.8580854544493433"
        ],
        [
         "312",
         "0.07869335067233241",
         "0.9231317301675158",
         "0.8058890538285896",
         "0.16042092838092226",
         "0.5221360605532264"
        ],
        [
         "311",
         "0.2159976627831559",
         "0.26511607831028894",
         "0.5752522776565306",
         "0.5525210984499757",
         "0.7776623335849676"
        ],
        [
         "310",
         "0.784144304489605",
         "0.4748278846429821",
         "0.009826006357633421",
         "0.5690160156409381",
         "0.415081294731938"
        ],
        [
         "309",
         "0.44087036832927284",
         "0.08973199657507802",
         "0.5592701790895747",
         "0.5577354074746844",
         "0.7657712013601089"
        ],
        [
         "308",
         "0.8289858885672278",
         "0.7741113775798759",
         "0.16040709160051714",
         "0.36209899089434927",
         "0.2688274536779036"
        ],
        [
         "307",
         "0.2987022372903485",
         "0.4711754266589203",
         "0.007749115189632172",
         "0.5596483583987699",
         "0.45254786120103063"
        ],
        [
         "306",
         "0.5615594199108142",
         "0.5881953192093271",
         "0.9620751771054111",
         "0.6410660430235893",
         "0.8460118662010957"
        ],
        [
         "305",
         "0.8478338354417063",
         "0.5168051080362245",
         "0.0558814106487201",
         "0.31318468019054746",
         "0.4112917288562038"
        ],
        [
         "304",
         "0.5534291785337976",
         "0.8838519813781183",
         "0.2592071674106037",
         "0.9214546852675604",
         "0.9133879264946709"
        ],
        [
         "303",
         "0.7405681005787964",
         "0.800935788325189",
         "0.2515629167014498",
         "0.12795896421121433",
         "0.09132253692738335"
        ],
        [
         "302",
         "0.0747226426764227",
         "0.12182375474068408",
         "0.13520785499497756",
         "0.4131465813382462",
         "0.3243907684404064"
        ],
        [
         "301",
         "0.8668644340039366",
         "0.8600272047901394",
         "0.7356473112863581",
         "0.9937649443664173",
         "0.6359349001546036"
        ],
        [
         "300",
         "0.9806726230694879",
         "0.6509715579632578",
         "0.20757371747971864",
         "0.19282426351907345",
         "0.6268911309040864"
        ],
        [
         "299",
         "0.43835881363525964",
         "0.9271371471019455",
         "0.9539224305381087",
         "0.8540647325759377",
         "0.23674878596249693"
        ],
        [
         "298",
         "0.6103132875946204",
         "0.7612258049458261",
         "0.3928623368726315",
         "0.6772298594938578",
         "0.03541307873632982"
        ],
        [
         "297",
         "0.4594478746597136",
         "0.8555704021117337",
         "0.1410731588848",
         "0.2963496283463951",
         "0.7810278641533968"
        ],
        [
         "296",
         "0.5261314779287944",
         "0.585318522516612",
         "0.3448673802106744",
         "0.11058842742807384",
         "0.6090805132253904"
        ],
        [
         "295",
         "0.5214207196682192",
         "0.3979271636253304",
         "0.3892191334763959",
         "0.608575971774173",
         "0.9357013453021724"
        ],
        [
         "294",
         "0.9205480259718483",
         "0.47196115183633713",
         "0.47196053060071275",
         "0.9282713558536503",
         "0.42359445618608704"
        ],
        [
         "293",
         "0.20420832218039053",
         "0.6760309361891369",
         "0.6929807776032921",
         "0.37702255337251067",
         "0.40351082974855856"
        ],
        [
         "292",
         "0.9691271837958836",
         "0.15480325926712035",
         "0.7960617129413214",
         "0.04068697875247351",
         "0.2032913453348757"
        ],
        [
         "291",
         "0.5171932217154929",
         "0.4129479562276349",
         "0.989968195798557",
         "0.2568678730411492",
         "0.8186005652671583"
        ],
        [
         "290",
         "0.2528186184236334",
         "0.9356998331577324",
         "0.44436608077897066",
         "0.420387106199431",
         "0.8873657114132174"
        ],
        [
         "289",
         "0.9916292101182137",
         "0.5220838867624619",
         "0.6569747081694666",
         "0.8664833317618581",
         "0.09947001304642267"
        ],
        [
         "288",
         "0.3501369519592",
         "0.7702894152698798",
         "0.8797419768220924",
         "0.70039842220878",
         "0.5938138972002521"
        ],
        [
         "287",
         "0.7630193427575513",
         "0.28915661378291213",
         "0.2237020818336085",
         "0.3096747028418788",
         "0.9896271144178718"
        ],
        [
         "286",
         "0.1339986472215593",
         "0.6468530480154792",
         "0.4786467832103607",
         "0.7246303130458981",
         "0.8896192079160313"
        ],
        [
         "285",
         "0.25752467855606",
         "0.04972077139087827",
         "0.15518907011417038",
         "0.5947365390316413",
         "0.9605655264051204"
        ],
        [
         "284",
         "0.999368641179741",
         "0.6730426131552945",
         "0.8452345117553666",
         "0.9989031309174647",
         "0.3538735657649088"
        ]
       ],
       "shape": {
        "columns": 5,
        "rows": 334
       }
      },
      "text/html": [
       "<div>\n",
       "<style scoped>\n",
       "    .dataframe tbody tr th:only-of-type {\n",
       "        vertical-align: middle;\n",
       "    }\n",
       "\n",
       "    .dataframe tbody tr th {\n",
       "        vertical-align: top;\n",
       "    }\n",
       "\n",
       "    .dataframe thead th {\n",
       "        text-align: right;\n",
       "    }\n",
       "</style>\n",
       "<table border=\"1\" class=\"dataframe\">\n",
       "  <thead>\n",
       "    <tr style=\"text-align: right;\">\n",
       "      <th></th>\n",
       "      <th>0</th>\n",
       "      <th>1</th>\n",
       "      <th>2</th>\n",
       "      <th>3</th>\n",
       "      <th>4</th>\n",
       "    </tr>\n",
       "  </thead>\n",
       "  <tbody>\n",
       "    <tr>\n",
       "      <th>333</th>\n",
       "      <td>0.670539</td>\n",
       "      <td>0.412429</td>\n",
       "      <td>0.238090</td>\n",
       "      <td>0.137824</td>\n",
       "      <td>0.196973</td>\n",
       "    </tr>\n",
       "    <tr>\n",
       "      <th>332</th>\n",
       "      <td>0.904621</td>\n",
       "      <td>0.702879</td>\n",
       "      <td>0.692795</td>\n",
       "      <td>0.223037</td>\n",
       "      <td>0.764387</td>\n",
       "    </tr>\n",
       "    <tr>\n",
       "      <th>331</th>\n",
       "      <td>0.853727</td>\n",
       "      <td>0.353936</td>\n",
       "      <td>0.460087</td>\n",
       "      <td>0.969142</td>\n",
       "      <td>0.798868</td>\n",
       "    </tr>\n",
       "    <tr>\n",
       "      <th>330</th>\n",
       "      <td>0.355866</td>\n",
       "      <td>0.920899</td>\n",
       "      <td>0.059750</td>\n",
       "      <td>0.809419</td>\n",
       "      <td>0.794719</td>\n",
       "    </tr>\n",
       "    <tr>\n",
       "      <th>329</th>\n",
       "      <td>0.421527</td>\n",
       "      <td>0.647314</td>\n",
       "      <td>0.245387</td>\n",
       "      <td>0.501401</td>\n",
       "      <td>0.166734</td>\n",
       "    </tr>\n",
       "    <tr>\n",
       "      <th>...</th>\n",
       "      <td>...</td>\n",
       "      <td>...</td>\n",
       "      <td>...</td>\n",
       "      <td>...</td>\n",
       "      <td>...</td>\n",
       "    </tr>\n",
       "    <tr>\n",
       "      <th>4</th>\n",
       "      <td>0.195753</td>\n",
       "      <td>0.280666</td>\n",
       "      <td>0.086213</td>\n",
       "      <td>0.609559</td>\n",
       "      <td>0.614695</td>\n",
       "    </tr>\n",
       "    <tr>\n",
       "      <th>3</th>\n",
       "      <td>0.856292</td>\n",
       "      <td>0.370960</td>\n",
       "      <td>0.199365</td>\n",
       "      <td>0.887982</td>\n",
       "      <td>0.603141</td>\n",
       "    </tr>\n",
       "    <tr>\n",
       "      <th>2</th>\n",
       "      <td>0.782067</td>\n",
       "      <td>0.909796</td>\n",
       "      <td>0.336075</td>\n",
       "      <td>0.056018</td>\n",
       "      <td>0.385471</td>\n",
       "    </tr>\n",
       "    <tr>\n",
       "      <th>1</th>\n",
       "      <td>0.529679</td>\n",
       "      <td>0.805558</td>\n",
       "      <td>0.244635</td>\n",
       "      <td>0.246286</td>\n",
       "      <td>0.801627</td>\n",
       "    </tr>\n",
       "    <tr>\n",
       "      <th>0</th>\n",
       "      <td>0.345310</td>\n",
       "      <td>0.735333</td>\n",
       "      <td>0.665448</td>\n",
       "      <td>0.823165</td>\n",
       "      <td>0.095214</td>\n",
       "    </tr>\n",
       "  </tbody>\n",
       "</table>\n",
       "<p>334 rows × 5 columns</p>\n",
       "</div>"
      ],
      "text/plain": [
       "            0         1         2         3         4\n",
       "333  0.670539  0.412429  0.238090  0.137824  0.196973\n",
       "332  0.904621  0.702879  0.692795  0.223037  0.764387\n",
       "331  0.853727  0.353936  0.460087  0.969142  0.798868\n",
       "330  0.355866  0.920899  0.059750  0.809419  0.794719\n",
       "329  0.421527  0.647314  0.245387  0.501401  0.166734\n",
       "..        ...       ...       ...       ...       ...\n",
       "4    0.195753  0.280666  0.086213  0.609559  0.614695\n",
       "3    0.856292  0.370960  0.199365  0.887982  0.603141\n",
       "2    0.782067  0.909796  0.336075  0.056018  0.385471\n",
       "1    0.529679  0.805558  0.244635  0.246286  0.801627\n",
       "0    0.345310  0.735333  0.665448  0.823165  0.095214\n",
       "\n",
       "[334 rows x 5 columns]"
      ]
     },
     "execution_count": 20,
     "metadata": {},
     "output_type": "execute_result"
    }
   ],
   "source": [
    "newdata.sort_index(axis=0,ascending=False) "
   ]
  },
  {
   "cell_type": "code",
   "execution_count": 21,
   "id": "d70a8211",
   "metadata": {},
   "outputs": [
    {
     "data": {
      "application/vnd.microsoft.datawrangler.viewer.v0+json": {
       "columns": [
        {
         "name": "index",
         "rawType": "int64",
         "type": "integer"
        },
        {
         "name": "0",
         "rawType": "float64",
         "type": "float"
        },
        {
         "name": "1",
         "rawType": "float64",
         "type": "float"
        },
        {
         "name": "2",
         "rawType": "float64",
         "type": "float"
        },
        {
         "name": "3",
         "rawType": "float64",
         "type": "float"
        },
        {
         "name": "4",
         "rawType": "float64",
         "type": "float"
        }
       ],
       "ref": "12325109-785e-4c34-b194-c0d5726148d9",
       "rows": [
        [
         "0",
         "0.34531",
         "0.7353330881880906",
         "0.6654478058376195",
         "0.8231651629968497",
         "0.09521448590014225"
        ],
        [
         "1",
         "0.5296788259810971",
         "0.8055581315653556",
         "0.2446351142032439",
         "0.24628591354087037",
         "0.8016272624830633"
        ],
        [
         "2",
         "0.7820667244531102",
         "0.9097956577228845",
         "0.33607538004479864",
         "0.05601769514151045",
         "0.3854714439120136"
        ],
        [
         "3",
         "0.8562915603273978",
         "0.37096049366477435",
         "0.19936517502086004",
         "0.887981874868886",
         "0.6031407455161603"
        ],
        [
         "4",
         "0.19575315799175497",
         "0.2806657454855127",
         "0.08621297177947784",
         "0.6095594675339207",
         "0.6146950230272517"
        ]
       ],
       "shape": {
        "columns": 5,
        "rows": 5
       }
      },
      "text/html": [
       "<div>\n",
       "<style scoped>\n",
       "    .dataframe tbody tr th:only-of-type {\n",
       "        vertical-align: middle;\n",
       "    }\n",
       "\n",
       "    .dataframe tbody tr th {\n",
       "        vertical-align: top;\n",
       "    }\n",
       "\n",
       "    .dataframe thead th {\n",
       "        text-align: right;\n",
       "    }\n",
       "</style>\n",
       "<table border=\"1\" class=\"dataframe\">\n",
       "  <thead>\n",
       "    <tr style=\"text-align: right;\">\n",
       "      <th></th>\n",
       "      <th>0</th>\n",
       "      <th>1</th>\n",
       "      <th>2</th>\n",
       "      <th>3</th>\n",
       "      <th>4</th>\n",
       "    </tr>\n",
       "  </thead>\n",
       "  <tbody>\n",
       "    <tr>\n",
       "      <th>0</th>\n",
       "      <td>0.345310</td>\n",
       "      <td>0.735333</td>\n",
       "      <td>0.665448</td>\n",
       "      <td>0.823165</td>\n",
       "      <td>0.095214</td>\n",
       "    </tr>\n",
       "    <tr>\n",
       "      <th>1</th>\n",
       "      <td>0.529679</td>\n",
       "      <td>0.805558</td>\n",
       "      <td>0.244635</td>\n",
       "      <td>0.246286</td>\n",
       "      <td>0.801627</td>\n",
       "    </tr>\n",
       "    <tr>\n",
       "      <th>2</th>\n",
       "      <td>0.782067</td>\n",
       "      <td>0.909796</td>\n",
       "      <td>0.336075</td>\n",
       "      <td>0.056018</td>\n",
       "      <td>0.385471</td>\n",
       "    </tr>\n",
       "    <tr>\n",
       "      <th>3</th>\n",
       "      <td>0.856292</td>\n",
       "      <td>0.370960</td>\n",
       "      <td>0.199365</td>\n",
       "      <td>0.887982</td>\n",
       "      <td>0.603141</td>\n",
       "    </tr>\n",
       "    <tr>\n",
       "      <th>4</th>\n",
       "      <td>0.195753</td>\n",
       "      <td>0.280666</td>\n",
       "      <td>0.086213</td>\n",
       "      <td>0.609559</td>\n",
       "      <td>0.614695</td>\n",
       "    </tr>\n",
       "  </tbody>\n",
       "</table>\n",
       "</div>"
      ],
      "text/plain": [
       "          0         1         2         3         4\n",
       "0  0.345310  0.735333  0.665448  0.823165  0.095214\n",
       "1  0.529679  0.805558  0.244635  0.246286  0.801627\n",
       "2  0.782067  0.909796  0.336075  0.056018  0.385471\n",
       "3  0.856292  0.370960  0.199365  0.887982  0.603141\n",
       "4  0.195753  0.280666  0.086213  0.609559  0.614695"
      ]
     },
     "execution_count": 21,
     "metadata": {},
     "output_type": "execute_result"
    }
   ],
   "source": [
    "newdata.head()"
   ]
  },
  {
   "cell_type": "code",
   "execution_count": 22,
   "id": "b8aa7cc0",
   "metadata": {},
   "outputs": [
    {
     "data": {
      "text/plain": [
       "pandas.core.series.Series"
      ]
     },
     "execution_count": 22,
     "metadata": {},
     "output_type": "execute_result"
    }
   ],
   "source": [
    "type(newdata[0])"
   ]
  },
  {
   "cell_type": "code",
   "execution_count": 23,
   "id": "f62982d3",
   "metadata": {},
   "outputs": [
    {
     "name": "stderr",
     "output_type": "stream",
     "text": [
      "C:\\Users\\Gagan\\AppData\\Local\\Temp\\ipykernel_23636\\224267802.py:2: FutureWarning: ChainedAssignmentError: behaviour will change in pandas 3.0!\n",
      "You are setting values through chained assignment. Currently this works in certain cases, but when using Copy-on-Write (which will become the default behaviour in pandas 3.0) this will never work to update the original DataFrame or Series, because the intermediate object on which we are setting values will behave as a copy.\n",
      "A typical example is when you are setting values in a column of a DataFrame, like:\n",
      "\n",
      "df[\"col\"][row_indexer] = value\n",
      "\n",
      "Use `df.loc[row_indexer, \"col\"] = values` instead, to perform the assignment in a single step and ensure this keeps updating the original `df`.\n",
      "\n",
      "See the caveats in the documentation: https://pandas.pydata.org/pandas-docs/stable/user_guide/indexing.html#returning-a-view-versus-a-copy\n",
      "\n",
      "  new[0][0]= 98754353\n"
     ]
    },
    {
     "data": {
      "application/vnd.microsoft.datawrangler.viewer.v0+json": {
       "columns": [
        {
         "name": "index",
         "rawType": "int64",
         "type": "integer"
        },
        {
         "name": "0",
         "rawType": "float64",
         "type": "float"
        },
        {
         "name": "1",
         "rawType": "float64",
         "type": "float"
        },
        {
         "name": "2",
         "rawType": "float64",
         "type": "float"
        },
        {
         "name": "3",
         "rawType": "float64",
         "type": "float"
        },
        {
         "name": "4",
         "rawType": "float64",
         "type": "float"
        }
       ],
       "ref": "c520068d-ef9c-4f3b-b6d8-0d3817d41ecd",
       "rows": [
        [
         "0",
         "0.34531",
         "0.7353330881880906",
         "0.6654478058376195",
         "0.8231651629968497",
         "0.09521448590014225"
        ],
        [
         "1",
         "0.5296788259810971",
         "0.8055581315653556",
         "0.2446351142032439",
         "0.24628591354087037",
         "0.8016272624830633"
        ],
        [
         "2",
         "0.7820667244531102",
         "0.9097956577228845",
         "0.33607538004479864",
         "0.05601769514151045",
         "0.3854714439120136"
        ],
        [
         "3",
         "0.8562915603273978",
         "0.37096049366477435",
         "0.19936517502086004",
         "0.887981874868886",
         "0.6031407455161603"
        ],
        [
         "4",
         "0.19575315799175497",
         "0.2806657454855127",
         "0.08621297177947784",
         "0.6095594675339207",
         "0.6146950230272517"
        ],
        [
         "5",
         "0.4587701259376935",
         "0.6201937999850412",
         "0.7592238939256974",
         "0.20029696449675338",
         "0.5010818383880239"
        ],
        [
         "6",
         "0.7174723075994731",
         "0.9594888801555976",
         "0.9714706689616114",
         "0.9419107218970313",
         "0.9428072527083258"
        ],
        [
         "7",
         "0.6900949936303603",
         "0.21392897775173025",
         "0.5069123876875542",
         "0.4174828388645355",
         "0.28721193439724"
        ],
        [
         "8",
         "0.09537618385860347",
         "0.5890979041530945",
         "0.7478349652494887",
         "0.8058022279196755",
         "0.05628825532508386"
        ],
        [
         "9",
         "0.8478164093079261",
         "0.9966899809946442",
         "0.07686905551974266",
         "0.7935897261437042",
         "0.6805866689403502"
        ],
        [
         "10",
         "0.40526342609643684",
         "0.8822846793541016",
         "0.9560645760136013",
         "0.663748697515427",
         "0.20054527061370653"
        ],
        [
         "11",
         "0.7792925010442079",
         "0.3246235870957973",
         "0.4672667178971326",
         "0.894999846554725",
         "0.9544391775429086"
        ],
        [
         "12",
         "0.6590759012705484",
         "0.9451187253778696",
         "0.8916921220673266",
         "0.8135405481497336",
         "0.3624039702314166"
        ],
        [
         "13",
         "0.8026501281234257",
         "0.3309959432358267",
         "0.16524323762736082",
         "0.670580488538254",
         "0.2932358231406871"
        ],
        [
         "14",
         "0.19880307139305808",
         "0.6712399137308364",
         "0.6180925050357097",
         "0.7380754383238413",
         "0.7665167775448181"
        ],
        [
         "15",
         "0.825440450349937",
         "0.9603935583745663",
         "0.750435670645148",
         "0.4318176386072978",
         "0.30498436978625254"
        ],
        [
         "16",
         "0.5548478157195837",
         "0.34859493965225574",
         "0.30169328010438556",
         "0.5941993499638986",
         "0.28668628433143395"
        ],
        [
         "17",
         "0.44054246908053274",
         "0.37571551194107433",
         "0.4239235622339057",
         "0.19318614670608003",
         "0.9771012273452394"
        ],
        [
         "18",
         "0.9183846110269911",
         "0.29481924922187297",
         "0.20546866726642976",
         "0.599220886027621",
         "0.43428946008244584"
        ],
        [
         "19",
         "0.49726030726310333",
         "0.13795874991320567",
         "0.432125175968883",
         "0.38722472123522433",
         "0.6845632655230067"
        ],
        [
         "20",
         "0.3321113185954242",
         "0.7757009354901779",
         "0.4172104578288327",
         "0.37803537742911375",
         "0.2129558228877414"
        ],
        [
         "21",
         "0.9599313032409883",
         "0.24842761969515736",
         "0.6678150035116762",
         "0.2651091519174571",
         "0.6047549252183171"
        ],
        [
         "22",
         "0.20887003763883472",
         "0.19143380493617312",
         "0.6867031525385198",
         "0.3707145528355692",
         "0.04151670477030811"
        ],
        [
         "23",
         "0.5740579863041497",
         "0.2704910406792569",
         "0.42730449152867667",
         "0.37918482227854167",
         "0.21740185191095296"
        ],
        [
         "24",
         "0.44605874931331035",
         "0.003940971302122898",
         "0.6118031099946017",
         "0.07528324027653566",
         "0.8234266356478469"
        ],
        [
         "25",
         "0.3140173171714691",
         "0.251605400420819",
         "0.13844199912832578",
         "0.040493667810968414",
         "0.7828096636963873"
        ],
        [
         "26",
         "0.15959625550488843",
         "0.5496383771942958",
         "0.21432131456154113",
         "0.833850887485523",
         "0.34820986051141745"
        ],
        [
         "27",
         "0.47127017916240177",
         "0.7497122927104248",
         "0.6269464750289212",
         "0.5670567135656432",
         "0.8831792603857209"
        ],
        [
         "28",
         "0.033385772165687055",
         "0.39236941046240537",
         "0.4364133087221156",
         "0.3895033789533804",
         "0.6324293785801236"
        ],
        [
         "29",
         "0.5586356227135842",
         "0.8331548284884679",
         "0.9932500755423068",
         "0.38133206962343213",
         "0.6558055634494316"
        ],
        [
         "30",
         "0.4536896025367989",
         "0.49530226456472093",
         "0.09121703751806232",
         "0.9380273888269632",
         "0.7696559747522995"
        ],
        [
         "31",
         "0.9379404054385372",
         "0.8138423485168885",
         "0.7102560039264536",
         "0.06942301912577808",
         "0.46655533099572244"
        ],
        [
         "32",
         "0.13926726963418845",
         "0.763775973157372",
         "0.6718993205229378",
         "0.7246328352526499",
         "0.42882204271310365"
        ],
        [
         "33",
         "0.21856158311152662",
         "0.5767531050371086",
         "0.2661570121384035",
         "0.585140858877476",
         "0.730408523692049"
        ],
        [
         "34",
         "0.8819205786413018",
         "0.5934590200199075",
         "0.13377373202266263",
         "0.14753664669973066",
         "0.099528198151141"
        ],
        [
         "35",
         "0.5007892866047547",
         "0.8442073008695726",
         "0.5180510492817234",
         "0.3917887089500124",
         "0.7804003273525997"
        ],
        [
         "36",
         "0.598105316770158",
         "0.5093196709830553",
         "0.6329089860976024",
         "0.14570996216551557",
         "0.024277234806345915"
        ],
        [
         "37",
         "0.2190051068639708",
         "0.04074605437132617",
         "0.24815177668191069",
         "0.6785306275034912",
         "0.5535459774877217"
        ],
        [
         "38",
         "0.44356757296494775",
         "0.23723122375875738",
         "0.7287941352033387",
         "0.18445999665343826",
         "0.7423856539699849"
        ],
        [
         "39",
         "0.2639918743255272",
         "0.04445012723987629",
         "0.635373723448647",
         "0.753945776869843",
         "0.1525273927734293"
        ],
        [
         "40",
         "0.8083195126899793",
         "0.997187847024821",
         "0.3223660648370986",
         "0.46149775397025206",
         "0.2807581891739951"
        ],
        [
         "41",
         "0.4763204685544913",
         "0.03151970506656343",
         "0.4896017708000976",
         "0.03484739359289468",
         "0.7955289904869799"
        ],
        [
         "42",
         "0.5967393141500379",
         "0.041551268117860474",
         "0.3830004872150736",
         "0.7395215315405066",
         "0.21343142713833152"
        ],
        [
         "43",
         "0.6812060310497886",
         "0.3905105416684246",
         "0.6356818435929605",
         "0.6619103370749059",
         "0.8274591817289583"
        ],
        [
         "44",
         "0.6793368741392829",
         "0.3719685549058849",
         "0.6876268002156152",
         "0.16328232328984882",
         "0.14154618824426257"
        ],
        [
         "45",
         "0.16984286644986712",
         "0.06610952242652945",
         "0.265273293262805",
         "0.3630865386284291",
         "0.7324073221886642"
        ],
        [
         "46",
         "0.9676776895374501",
         "0.26295534265330844",
         "0.09296901010153369",
         "0.29416773581320166",
         "0.7978658453207218"
        ],
        [
         "47",
         "0.8491539105928244",
         "0.024018679383019936",
         "0.4143571741027986",
         "0.47504488122738764",
         "0.8418018396829575"
        ],
        [
         "48",
         "0.16217113101200054",
         "0.4958757523631335",
         "0.5416644157157587",
         "0.9988494027665071",
         "0.9436336687419852"
        ],
        [
         "49",
         "0.7595402939124548",
         "0.7896294059626551",
         "0.85598617717588",
         "0.8919402392664912",
         "0.42295079432326155"
        ]
       ],
       "shape": {
        "columns": 5,
        "rows": 334
       }
      },
      "text/html": [
       "<div>\n",
       "<style scoped>\n",
       "    .dataframe tbody tr th:only-of-type {\n",
       "        vertical-align: middle;\n",
       "    }\n",
       "\n",
       "    .dataframe tbody tr th {\n",
       "        vertical-align: top;\n",
       "    }\n",
       "\n",
       "    .dataframe thead th {\n",
       "        text-align: right;\n",
       "    }\n",
       "</style>\n",
       "<table border=\"1\" class=\"dataframe\">\n",
       "  <thead>\n",
       "    <tr style=\"text-align: right;\">\n",
       "      <th></th>\n",
       "      <th>0</th>\n",
       "      <th>1</th>\n",
       "      <th>2</th>\n",
       "      <th>3</th>\n",
       "      <th>4</th>\n",
       "    </tr>\n",
       "  </thead>\n",
       "  <tbody>\n",
       "    <tr>\n",
       "      <th>0</th>\n",
       "      <td>0.345310</td>\n",
       "      <td>0.735333</td>\n",
       "      <td>0.665448</td>\n",
       "      <td>0.823165</td>\n",
       "      <td>0.095214</td>\n",
       "    </tr>\n",
       "    <tr>\n",
       "      <th>1</th>\n",
       "      <td>0.529679</td>\n",
       "      <td>0.805558</td>\n",
       "      <td>0.244635</td>\n",
       "      <td>0.246286</td>\n",
       "      <td>0.801627</td>\n",
       "    </tr>\n",
       "    <tr>\n",
       "      <th>2</th>\n",
       "      <td>0.782067</td>\n",
       "      <td>0.909796</td>\n",
       "      <td>0.336075</td>\n",
       "      <td>0.056018</td>\n",
       "      <td>0.385471</td>\n",
       "    </tr>\n",
       "    <tr>\n",
       "      <th>3</th>\n",
       "      <td>0.856292</td>\n",
       "      <td>0.370960</td>\n",
       "      <td>0.199365</td>\n",
       "      <td>0.887982</td>\n",
       "      <td>0.603141</td>\n",
       "    </tr>\n",
       "    <tr>\n",
       "      <th>4</th>\n",
       "      <td>0.195753</td>\n",
       "      <td>0.280666</td>\n",
       "      <td>0.086213</td>\n",
       "      <td>0.609559</td>\n",
       "      <td>0.614695</td>\n",
       "    </tr>\n",
       "    <tr>\n",
       "      <th>...</th>\n",
       "      <td>...</td>\n",
       "      <td>...</td>\n",
       "      <td>...</td>\n",
       "      <td>...</td>\n",
       "      <td>...</td>\n",
       "    </tr>\n",
       "    <tr>\n",
       "      <th>329</th>\n",
       "      <td>0.421527</td>\n",
       "      <td>0.647314</td>\n",
       "      <td>0.245387</td>\n",
       "      <td>0.501401</td>\n",
       "      <td>0.166734</td>\n",
       "    </tr>\n",
       "    <tr>\n",
       "      <th>330</th>\n",
       "      <td>0.355866</td>\n",
       "      <td>0.920899</td>\n",
       "      <td>0.059750</td>\n",
       "      <td>0.809419</td>\n",
       "      <td>0.794719</td>\n",
       "    </tr>\n",
       "    <tr>\n",
       "      <th>331</th>\n",
       "      <td>0.853727</td>\n",
       "      <td>0.353936</td>\n",
       "      <td>0.460087</td>\n",
       "      <td>0.969142</td>\n",
       "      <td>0.798868</td>\n",
       "    </tr>\n",
       "    <tr>\n",
       "      <th>332</th>\n",
       "      <td>0.904621</td>\n",
       "      <td>0.702879</td>\n",
       "      <td>0.692795</td>\n",
       "      <td>0.223037</td>\n",
       "      <td>0.764387</td>\n",
       "    </tr>\n",
       "    <tr>\n",
       "      <th>333</th>\n",
       "      <td>0.670539</td>\n",
       "      <td>0.412429</td>\n",
       "      <td>0.238090</td>\n",
       "      <td>0.137824</td>\n",
       "      <td>0.196973</td>\n",
       "    </tr>\n",
       "  </tbody>\n",
       "</table>\n",
       "<p>334 rows × 5 columns</p>\n",
       "</div>"
      ],
      "text/plain": [
       "            0         1         2         3         4\n",
       "0    0.345310  0.735333  0.665448  0.823165  0.095214\n",
       "1    0.529679  0.805558  0.244635  0.246286  0.801627\n",
       "2    0.782067  0.909796  0.336075  0.056018  0.385471\n",
       "3    0.856292  0.370960  0.199365  0.887982  0.603141\n",
       "4    0.195753  0.280666  0.086213  0.609559  0.614695\n",
       "..        ...       ...       ...       ...       ...\n",
       "329  0.421527  0.647314  0.245387  0.501401  0.166734\n",
       "330  0.355866  0.920899  0.059750  0.809419  0.794719\n",
       "331  0.853727  0.353936  0.460087  0.969142  0.798868\n",
       "332  0.904621  0.702879  0.692795  0.223037  0.764387\n",
       "333  0.670539  0.412429  0.238090  0.137824  0.196973\n",
       "\n",
       "[334 rows x 5 columns]"
      ]
     },
     "execution_count": 23,
     "metadata": {},
     "output_type": "execute_result"
    }
   ],
   "source": [
    "new = newdata.copy()\n",
    "new[0][0]= 98754353\n",
    "newdata\n"
   ]
  },
  {
   "cell_type": "code",
   "execution_count": 24,
   "id": "846f760a",
   "metadata": {},
   "outputs": [
    {
     "data": {
      "application/vnd.microsoft.datawrangler.viewer.v0+json": {
       "columns": [
        {
         "name": "index",
         "rawType": "int64",
         "type": "integer"
        },
        {
         "name": "0",
         "rawType": "float64",
         "type": "float"
        },
        {
         "name": "1",
         "rawType": "float64",
         "type": "float"
        },
        {
         "name": "2",
         "rawType": "float64",
         "type": "float"
        },
        {
         "name": "3",
         "rawType": "float64",
         "type": "float"
        },
        {
         "name": "4",
         "rawType": "float64",
         "type": "float"
        }
       ],
       "ref": "467ff2e3-4cff-4bee-b6a8-cfa574b99b67",
       "rows": [
        [
         "0",
         "654.0",
         "0.7353330881880906",
         "0.6654478058376195",
         "0.8231651629968497",
         "0.09521448590014225"
        ],
        [
         "1",
         "0.5296788259810971",
         "0.8055581315653556",
         "0.2446351142032439",
         "0.24628591354087037",
         "0.8016272624830633"
        ]
       ],
       "shape": {
        "columns": 5,
        "rows": 2
       }
      },
      "text/html": [
       "<div>\n",
       "<style scoped>\n",
       "    .dataframe tbody tr th:only-of-type {\n",
       "        vertical-align: middle;\n",
       "    }\n",
       "\n",
       "    .dataframe tbody tr th {\n",
       "        vertical-align: top;\n",
       "    }\n",
       "\n",
       "    .dataframe thead th {\n",
       "        text-align: right;\n",
       "    }\n",
       "</style>\n",
       "<table border=\"1\" class=\"dataframe\">\n",
       "  <thead>\n",
       "    <tr style=\"text-align: right;\">\n",
       "      <th></th>\n",
       "      <th>0</th>\n",
       "      <th>1</th>\n",
       "      <th>2</th>\n",
       "      <th>3</th>\n",
       "      <th>4</th>\n",
       "    </tr>\n",
       "  </thead>\n",
       "  <tbody>\n",
       "    <tr>\n",
       "      <th>0</th>\n",
       "      <td>654.000000</td>\n",
       "      <td>0.735333</td>\n",
       "      <td>0.665448</td>\n",
       "      <td>0.823165</td>\n",
       "      <td>0.095214</td>\n",
       "    </tr>\n",
       "    <tr>\n",
       "      <th>1</th>\n",
       "      <td>0.529679</td>\n",
       "      <td>0.805558</td>\n",
       "      <td>0.244635</td>\n",
       "      <td>0.246286</td>\n",
       "      <td>0.801627</td>\n",
       "    </tr>\n",
       "  </tbody>\n",
       "</table>\n",
       "</div>"
      ],
      "text/plain": [
       "            0         1         2         3         4\n",
       "0  654.000000  0.735333  0.665448  0.823165  0.095214\n",
       "1    0.529679  0.805558  0.244635  0.246286  0.801627"
      ]
     },
     "execution_count": 24,
     "metadata": {},
     "output_type": "execute_result"
    }
   ],
   "source": [
    "newdata.loc[0,0] = 654\n",
    "newdata.head(2)"
   ]
  },
  {
   "cell_type": "code",
   "execution_count": 25,
   "id": "207a7843",
   "metadata": {},
   "outputs": [
    {
     "data": {
      "application/vnd.microsoft.datawrangler.viewer.v0+json": {
       "columns": [
        {
         "name": "index",
         "rawType": "int64",
         "type": "integer"
        },
        {
         "name": "1",
         "rawType": "float64",
         "type": "float"
        },
        {
         "name": "2",
         "rawType": "float64",
         "type": "float"
        },
        {
         "name": "3",
         "rawType": "float64",
         "type": "float"
        },
        {
         "name": "4",
         "rawType": "float64",
         "type": "float"
        }
       ],
       "ref": "0cb8d40d-5780-48d4-8ee1-a1f27dd72d46",
       "rows": [
        [
         "0",
         "0.7353330881880906",
         "0.6654478058376195",
         "0.8231651629968497",
         "0.09521448590014225"
        ],
        [
         "1",
         "0.8055581315653556",
         "0.2446351142032439",
         "0.24628591354087037",
         "0.8016272624830633"
        ],
        [
         "2",
         "0.9097956577228845",
         "0.33607538004479864",
         "0.05601769514151045",
         "0.3854714439120136"
        ],
        [
         "3",
         "0.37096049366477435",
         "0.19936517502086004",
         "0.887981874868886",
         "0.6031407455161603"
        ],
        [
         "4",
         "0.2806657454855127",
         "0.08621297177947784",
         "0.6095594675339207",
         "0.6146950230272517"
        ],
        [
         "5",
         "0.6201937999850412",
         "0.7592238939256974",
         "0.20029696449675338",
         "0.5010818383880239"
        ],
        [
         "6",
         "0.9594888801555976",
         "0.9714706689616114",
         "0.9419107218970313",
         "0.9428072527083258"
        ],
        [
         "7",
         "0.21392897775173025",
         "0.5069123876875542",
         "0.4174828388645355",
         "0.28721193439724"
        ],
        [
         "8",
         "0.5890979041530945",
         "0.7478349652494887",
         "0.8058022279196755",
         "0.05628825532508386"
        ],
        [
         "9",
         "0.9966899809946442",
         "0.07686905551974266",
         "0.7935897261437042",
         "0.6805866689403502"
        ],
        [
         "10",
         "0.8822846793541016",
         "0.9560645760136013",
         "0.663748697515427",
         "0.20054527061370653"
        ],
        [
         "11",
         "0.3246235870957973",
         "0.4672667178971326",
         "0.894999846554725",
         "0.9544391775429086"
        ],
        [
         "12",
         "0.9451187253778696",
         "0.8916921220673266",
         "0.8135405481497336",
         "0.3624039702314166"
        ],
        [
         "13",
         "0.3309959432358267",
         "0.16524323762736082",
         "0.670580488538254",
         "0.2932358231406871"
        ],
        [
         "14",
         "0.6712399137308364",
         "0.6180925050357097",
         "0.7380754383238413",
         "0.7665167775448181"
        ],
        [
         "15",
         "0.9603935583745663",
         "0.750435670645148",
         "0.4318176386072978",
         "0.30498436978625254"
        ],
        [
         "16",
         "0.34859493965225574",
         "0.30169328010438556",
         "0.5941993499638986",
         "0.28668628433143395"
        ],
        [
         "17",
         "0.37571551194107433",
         "0.4239235622339057",
         "0.19318614670608003",
         "0.9771012273452394"
        ],
        [
         "18",
         "0.29481924922187297",
         "0.20546866726642976",
         "0.599220886027621",
         "0.43428946008244584"
        ],
        [
         "19",
         "0.13795874991320567",
         "0.432125175968883",
         "0.38722472123522433",
         "0.6845632655230067"
        ],
        [
         "20",
         "0.7757009354901779",
         "0.4172104578288327",
         "0.37803537742911375",
         "0.2129558228877414"
        ],
        [
         "21",
         "0.24842761969515736",
         "0.6678150035116762",
         "0.2651091519174571",
         "0.6047549252183171"
        ],
        [
         "22",
         "0.19143380493617312",
         "0.6867031525385198",
         "0.3707145528355692",
         "0.04151670477030811"
        ],
        [
         "23",
         "0.2704910406792569",
         "0.42730449152867667",
         "0.37918482227854167",
         "0.21740185191095296"
        ],
        [
         "24",
         "0.003940971302122898",
         "0.6118031099946017",
         "0.07528324027653566",
         "0.8234266356478469"
        ],
        [
         "25",
         "0.251605400420819",
         "0.13844199912832578",
         "0.040493667810968414",
         "0.7828096636963873"
        ],
        [
         "26",
         "0.5496383771942958",
         "0.21432131456154113",
         "0.833850887485523",
         "0.34820986051141745"
        ],
        [
         "27",
         "0.7497122927104248",
         "0.6269464750289212",
         "0.5670567135656432",
         "0.8831792603857209"
        ],
        [
         "28",
         "0.39236941046240537",
         "0.4364133087221156",
         "0.3895033789533804",
         "0.6324293785801236"
        ],
        [
         "29",
         "0.8331548284884679",
         "0.9932500755423068",
         "0.38133206962343213",
         "0.6558055634494316"
        ],
        [
         "30",
         "0.49530226456472093",
         "0.09121703751806232",
         "0.9380273888269632",
         "0.7696559747522995"
        ],
        [
         "31",
         "0.8138423485168885",
         "0.7102560039264536",
         "0.06942301912577808",
         "0.46655533099572244"
        ],
        [
         "32",
         "0.763775973157372",
         "0.6718993205229378",
         "0.7246328352526499",
         "0.42882204271310365"
        ],
        [
         "33",
         "0.5767531050371086",
         "0.2661570121384035",
         "0.585140858877476",
         "0.730408523692049"
        ],
        [
         "34",
         "0.5934590200199075",
         "0.13377373202266263",
         "0.14753664669973066",
         "0.099528198151141"
        ],
        [
         "35",
         "0.8442073008695726",
         "0.5180510492817234",
         "0.3917887089500124",
         "0.7804003273525997"
        ],
        [
         "36",
         "0.5093196709830553",
         "0.6329089860976024",
         "0.14570996216551557",
         "0.024277234806345915"
        ],
        [
         "37",
         "0.04074605437132617",
         "0.24815177668191069",
         "0.6785306275034912",
         "0.5535459774877217"
        ],
        [
         "38",
         "0.23723122375875738",
         "0.7287941352033387",
         "0.18445999665343826",
         "0.7423856539699849"
        ],
        [
         "39",
         "0.04445012723987629",
         "0.635373723448647",
         "0.753945776869843",
         "0.1525273927734293"
        ],
        [
         "40",
         "0.997187847024821",
         "0.3223660648370986",
         "0.46149775397025206",
         "0.2807581891739951"
        ],
        [
         "41",
         "0.03151970506656343",
         "0.4896017708000976",
         "0.03484739359289468",
         "0.7955289904869799"
        ],
        [
         "42",
         "0.041551268117860474",
         "0.3830004872150736",
         "0.7395215315405066",
         "0.21343142713833152"
        ],
        [
         "43",
         "0.3905105416684246",
         "0.6356818435929605",
         "0.6619103370749059",
         "0.8274591817289583"
        ],
        [
         "44",
         "0.3719685549058849",
         "0.6876268002156152",
         "0.16328232328984882",
         "0.14154618824426257"
        ],
        [
         "45",
         "0.06610952242652945",
         "0.265273293262805",
         "0.3630865386284291",
         "0.7324073221886642"
        ],
        [
         "46",
         "0.26295534265330844",
         "0.09296901010153369",
         "0.29416773581320166",
         "0.7978658453207218"
        ],
        [
         "47",
         "0.024018679383019936",
         "0.4143571741027986",
         "0.47504488122738764",
         "0.8418018396829575"
        ],
        [
         "48",
         "0.4958757523631335",
         "0.5416644157157587",
         "0.9988494027665071",
         "0.9436336687419852"
        ],
        [
         "49",
         "0.7896294059626551",
         "0.85598617717588",
         "0.8919402392664912",
         "0.42295079432326155"
        ]
       ],
       "shape": {
        "columns": 4,
        "rows": 334
       }
      },
      "text/html": [
       "<div>\n",
       "<style scoped>\n",
       "    .dataframe tbody tr th:only-of-type {\n",
       "        vertical-align: middle;\n",
       "    }\n",
       "\n",
       "    .dataframe tbody tr th {\n",
       "        vertical-align: top;\n",
       "    }\n",
       "\n",
       "    .dataframe thead th {\n",
       "        text-align: right;\n",
       "    }\n",
       "</style>\n",
       "<table border=\"1\" class=\"dataframe\">\n",
       "  <thead>\n",
       "    <tr style=\"text-align: right;\">\n",
       "      <th></th>\n",
       "      <th>1</th>\n",
       "      <th>2</th>\n",
       "      <th>3</th>\n",
       "      <th>4</th>\n",
       "    </tr>\n",
       "  </thead>\n",
       "  <tbody>\n",
       "    <tr>\n",
       "      <th>0</th>\n",
       "      <td>0.735333</td>\n",
       "      <td>0.665448</td>\n",
       "      <td>0.823165</td>\n",
       "      <td>0.095214</td>\n",
       "    </tr>\n",
       "    <tr>\n",
       "      <th>1</th>\n",
       "      <td>0.805558</td>\n",
       "      <td>0.244635</td>\n",
       "      <td>0.246286</td>\n",
       "      <td>0.801627</td>\n",
       "    </tr>\n",
       "    <tr>\n",
       "      <th>2</th>\n",
       "      <td>0.909796</td>\n",
       "      <td>0.336075</td>\n",
       "      <td>0.056018</td>\n",
       "      <td>0.385471</td>\n",
       "    </tr>\n",
       "    <tr>\n",
       "      <th>3</th>\n",
       "      <td>0.370960</td>\n",
       "      <td>0.199365</td>\n",
       "      <td>0.887982</td>\n",
       "      <td>0.603141</td>\n",
       "    </tr>\n",
       "    <tr>\n",
       "      <th>4</th>\n",
       "      <td>0.280666</td>\n",
       "      <td>0.086213</td>\n",
       "      <td>0.609559</td>\n",
       "      <td>0.614695</td>\n",
       "    </tr>\n",
       "    <tr>\n",
       "      <th>...</th>\n",
       "      <td>...</td>\n",
       "      <td>...</td>\n",
       "      <td>...</td>\n",
       "      <td>...</td>\n",
       "    </tr>\n",
       "    <tr>\n",
       "      <th>329</th>\n",
       "      <td>0.647314</td>\n",
       "      <td>0.245387</td>\n",
       "      <td>0.501401</td>\n",
       "      <td>0.166734</td>\n",
       "    </tr>\n",
       "    <tr>\n",
       "      <th>330</th>\n",
       "      <td>0.920899</td>\n",
       "      <td>0.059750</td>\n",
       "      <td>0.809419</td>\n",
       "      <td>0.794719</td>\n",
       "    </tr>\n",
       "    <tr>\n",
       "      <th>331</th>\n",
       "      <td>0.353936</td>\n",
       "      <td>0.460087</td>\n",
       "      <td>0.969142</td>\n",
       "      <td>0.798868</td>\n",
       "    </tr>\n",
       "    <tr>\n",
       "      <th>332</th>\n",
       "      <td>0.702879</td>\n",
       "      <td>0.692795</td>\n",
       "      <td>0.223037</td>\n",
       "      <td>0.764387</td>\n",
       "    </tr>\n",
       "    <tr>\n",
       "      <th>333</th>\n",
       "      <td>0.412429</td>\n",
       "      <td>0.238090</td>\n",
       "      <td>0.137824</td>\n",
       "      <td>0.196973</td>\n",
       "    </tr>\n",
       "  </tbody>\n",
       "</table>\n",
       "<p>334 rows × 4 columns</p>\n",
       "</div>"
      ],
      "text/plain": [
       "            1         2         3         4\n",
       "0    0.735333  0.665448  0.823165  0.095214\n",
       "1    0.805558  0.244635  0.246286  0.801627\n",
       "2    0.909796  0.336075  0.056018  0.385471\n",
       "3    0.370960  0.199365  0.887982  0.603141\n",
       "4    0.280666  0.086213  0.609559  0.614695\n",
       "..        ...       ...       ...       ...\n",
       "329  0.647314  0.245387  0.501401  0.166734\n",
       "330  0.920899  0.059750  0.809419  0.794719\n",
       "331  0.353936  0.460087  0.969142  0.798868\n",
       "332  0.702879  0.692795  0.223037  0.764387\n",
       "333  0.412429  0.238090  0.137824  0.196973\n",
       "\n",
       "[334 rows x 4 columns]"
      ]
     },
     "execution_count": 25,
     "metadata": {},
     "output_type": "execute_result"
    }
   ],
   "source": [
    "newdata.drop(0,axis=1)"
   ]
  },
  {
   "cell_type": "code",
   "execution_count": 26,
   "id": "2819db5c",
   "metadata": {},
   "outputs": [
    {
     "data": {
      "application/vnd.microsoft.datawrangler.viewer.v0+json": {
       "columns": [
        {
         "name": "index",
         "rawType": "int64",
         "type": "integer"
        },
        {
         "name": "0",
         "rawType": "float64",
         "type": "float"
        },
        {
         "name": "1",
         "rawType": "float64",
         "type": "float"
        },
        {
         "name": "2",
         "rawType": "float64",
         "type": "float"
        },
        {
         "name": "3",
         "rawType": "float64",
         "type": "float"
        },
        {
         "name": "4",
         "rawType": "float64",
         "type": "float"
        }
       ],
       "ref": "925bdf9b-b580-4c4e-a667-60f744c709aa",
       "rows": [
        [
         "0",
         "654.0",
         "0.7353330881880906",
         "0.6654478058376195",
         "0.8231651629968497",
         "0.09521448590014225"
        ],
        [
         "1",
         "0.5296788259810971",
         "0.8055581315653556",
         "0.2446351142032439",
         "0.24628591354087037",
         "0.8016272624830633"
        ],
        [
         "2",
         "0.7820667244531102",
         "0.9097956577228845",
         "0.33607538004479864",
         "0.05601769514151045",
         "0.3854714439120136"
        ],
        [
         "3",
         "0.8562915603273978",
         "0.37096049366477435",
         "0.19936517502086004",
         "0.887981874868886",
         "0.6031407455161603"
        ],
        [
         "4",
         "0.19575315799175497",
         "0.2806657454855127",
         "0.08621297177947784",
         "0.6095594675339207",
         "0.6146950230272517"
        ]
       ],
       "shape": {
        "columns": 5,
        "rows": 5
       }
      },
      "text/html": [
       "<div>\n",
       "<style scoped>\n",
       "    .dataframe tbody tr th:only-of-type {\n",
       "        vertical-align: middle;\n",
       "    }\n",
       "\n",
       "    .dataframe tbody tr th {\n",
       "        vertical-align: top;\n",
       "    }\n",
       "\n",
       "    .dataframe thead th {\n",
       "        text-align: right;\n",
       "    }\n",
       "</style>\n",
       "<table border=\"1\" class=\"dataframe\">\n",
       "  <thead>\n",
       "    <tr style=\"text-align: right;\">\n",
       "      <th></th>\n",
       "      <th>0</th>\n",
       "      <th>1</th>\n",
       "      <th>2</th>\n",
       "      <th>3</th>\n",
       "      <th>4</th>\n",
       "    </tr>\n",
       "  </thead>\n",
       "  <tbody>\n",
       "    <tr>\n",
       "      <th>0</th>\n",
       "      <td>654.000000</td>\n",
       "      <td>0.735333</td>\n",
       "      <td>0.665448</td>\n",
       "      <td>0.823165</td>\n",
       "      <td>0.095214</td>\n",
       "    </tr>\n",
       "    <tr>\n",
       "      <th>1</th>\n",
       "      <td>0.529679</td>\n",
       "      <td>0.805558</td>\n",
       "      <td>0.244635</td>\n",
       "      <td>0.246286</td>\n",
       "      <td>0.801627</td>\n",
       "    </tr>\n",
       "    <tr>\n",
       "      <th>2</th>\n",
       "      <td>0.782067</td>\n",
       "      <td>0.909796</td>\n",
       "      <td>0.336075</td>\n",
       "      <td>0.056018</td>\n",
       "      <td>0.385471</td>\n",
       "    </tr>\n",
       "    <tr>\n",
       "      <th>3</th>\n",
       "      <td>0.856292</td>\n",
       "      <td>0.370960</td>\n",
       "      <td>0.199365</td>\n",
       "      <td>0.887982</td>\n",
       "      <td>0.603141</td>\n",
       "    </tr>\n",
       "    <tr>\n",
       "      <th>4</th>\n",
       "      <td>0.195753</td>\n",
       "      <td>0.280666</td>\n",
       "      <td>0.086213</td>\n",
       "      <td>0.609559</td>\n",
       "      <td>0.614695</td>\n",
       "    </tr>\n",
       "  </tbody>\n",
       "</table>\n",
       "</div>"
      ],
      "text/plain": [
       "            0         1         2         3         4\n",
       "0  654.000000  0.735333  0.665448  0.823165  0.095214\n",
       "1    0.529679  0.805558  0.244635  0.246286  0.801627\n",
       "2    0.782067  0.909796  0.336075  0.056018  0.385471\n",
       "3    0.856292  0.370960  0.199365  0.887982  0.603141\n",
       "4    0.195753  0.280666  0.086213  0.609559  0.614695"
      ]
     },
     "execution_count": 26,
     "metadata": {},
     "output_type": "execute_result"
    }
   ],
   "source": [
    "newdata.head()"
   ]
  },
  {
   "cell_type": "code",
   "execution_count": 27,
   "id": "88d44ff2",
   "metadata": {},
   "outputs": [
    {
     "data": {
      "application/vnd.microsoft.datawrangler.viewer.v0+json": {
       "columns": [
        {
         "name": "index",
         "rawType": "int64",
         "type": "integer"
        },
        {
         "name": "1",
         "rawType": "float64",
         "type": "float"
        },
        {
         "name": "2",
         "rawType": "float64",
         "type": "float"
        }
       ],
       "ref": "d8bb2b2a-5f4e-49b5-9d75-7996ae1afad3",
       "rows": [
        [
         "1",
         "0.8055581315653556",
         "0.2446351142032439"
        ],
        [
         "2",
         "0.9097956577228845",
         "0.33607538004479864"
        ]
       ],
       "shape": {
        "columns": 2,
        "rows": 2
       }
      },
      "text/html": [
       "<div>\n",
       "<style scoped>\n",
       "    .dataframe tbody tr th:only-of-type {\n",
       "        vertical-align: middle;\n",
       "    }\n",
       "\n",
       "    .dataframe tbody tr th {\n",
       "        vertical-align: top;\n",
       "    }\n",
       "\n",
       "    .dataframe thead th {\n",
       "        text-align: right;\n",
       "    }\n",
       "</style>\n",
       "<table border=\"1\" class=\"dataframe\">\n",
       "  <thead>\n",
       "    <tr style=\"text-align: right;\">\n",
       "      <th></th>\n",
       "      <th>1</th>\n",
       "      <th>2</th>\n",
       "    </tr>\n",
       "  </thead>\n",
       "  <tbody>\n",
       "    <tr>\n",
       "      <th>1</th>\n",
       "      <td>0.805558</td>\n",
       "      <td>0.244635</td>\n",
       "    </tr>\n",
       "    <tr>\n",
       "      <th>2</th>\n",
       "      <td>0.909796</td>\n",
       "      <td>0.336075</td>\n",
       "    </tr>\n",
       "  </tbody>\n",
       "</table>\n",
       "</div>"
      ],
      "text/plain": [
       "          1         2\n",
       "1  0.805558  0.244635\n",
       "2  0.909796  0.336075"
      ]
     },
     "execution_count": 27,
     "metadata": {},
     "output_type": "execute_result"
    }
   ],
   "source": [
    "newdata.loc[[1,2],[1,2]]"
   ]
  },
  {
   "cell_type": "code",
   "execution_count": 28,
   "id": "fc708ef9",
   "metadata": {},
   "outputs": [
    {
     "data": {
      "application/vnd.microsoft.datawrangler.viewer.v0+json": {
       "columns": [
        {
         "name": "index",
         "rawType": "int64",
         "type": "integer"
        },
        {
         "name": "1",
         "rawType": "float64",
         "type": "float"
        },
        {
         "name": "2",
         "rawType": "float64",
         "type": "float"
        }
       ],
       "ref": "a30ed326-e48c-4671-b268-c318e2dbde62",
       "rows": [
        [
         "0",
         "0.7353330881880906",
         "0.6654478058376195"
        ],
        [
         "1",
         "0.8055581315653556",
         "0.2446351142032439"
        ],
        [
         "2",
         "0.9097956577228845",
         "0.33607538004479864"
        ],
        [
         "3",
         "0.37096049366477435",
         "0.19936517502086004"
        ],
        [
         "4",
         "0.2806657454855127",
         "0.08621297177947784"
        ],
        [
         "5",
         "0.6201937999850412",
         "0.7592238939256974"
        ],
        [
         "6",
         "0.9594888801555976",
         "0.9714706689616114"
        ],
        [
         "7",
         "0.21392897775173025",
         "0.5069123876875542"
        ],
        [
         "8",
         "0.5890979041530945",
         "0.7478349652494887"
        ],
        [
         "9",
         "0.9966899809946442",
         "0.07686905551974266"
        ],
        [
         "10",
         "0.8822846793541016",
         "0.9560645760136013"
        ],
        [
         "11",
         "0.3246235870957973",
         "0.4672667178971326"
        ],
        [
         "12",
         "0.9451187253778696",
         "0.8916921220673266"
        ],
        [
         "13",
         "0.3309959432358267",
         "0.16524323762736082"
        ],
        [
         "14",
         "0.6712399137308364",
         "0.6180925050357097"
        ],
        [
         "15",
         "0.9603935583745663",
         "0.750435670645148"
        ],
        [
         "16",
         "0.34859493965225574",
         "0.30169328010438556"
        ],
        [
         "17",
         "0.37571551194107433",
         "0.4239235622339057"
        ],
        [
         "18",
         "0.29481924922187297",
         "0.20546866726642976"
        ],
        [
         "19",
         "0.13795874991320567",
         "0.432125175968883"
        ],
        [
         "20",
         "0.7757009354901779",
         "0.4172104578288327"
        ],
        [
         "21",
         "0.24842761969515736",
         "0.6678150035116762"
        ],
        [
         "22",
         "0.19143380493617312",
         "0.6867031525385198"
        ],
        [
         "23",
         "0.2704910406792569",
         "0.42730449152867667"
        ],
        [
         "24",
         "0.003940971302122898",
         "0.6118031099946017"
        ],
        [
         "25",
         "0.251605400420819",
         "0.13844199912832578"
        ],
        [
         "26",
         "0.5496383771942958",
         "0.21432131456154113"
        ],
        [
         "27",
         "0.7497122927104248",
         "0.6269464750289212"
        ],
        [
         "28",
         "0.39236941046240537",
         "0.4364133087221156"
        ],
        [
         "29",
         "0.8331548284884679",
         "0.9932500755423068"
        ],
        [
         "30",
         "0.49530226456472093",
         "0.09121703751806232"
        ],
        [
         "31",
         "0.8138423485168885",
         "0.7102560039264536"
        ],
        [
         "32",
         "0.763775973157372",
         "0.6718993205229378"
        ],
        [
         "33",
         "0.5767531050371086",
         "0.2661570121384035"
        ],
        [
         "34",
         "0.5934590200199075",
         "0.13377373202266263"
        ],
        [
         "35",
         "0.8442073008695726",
         "0.5180510492817234"
        ],
        [
         "36",
         "0.5093196709830553",
         "0.6329089860976024"
        ],
        [
         "37",
         "0.04074605437132617",
         "0.24815177668191069"
        ],
        [
         "38",
         "0.23723122375875738",
         "0.7287941352033387"
        ],
        [
         "39",
         "0.04445012723987629",
         "0.635373723448647"
        ],
        [
         "40",
         "0.997187847024821",
         "0.3223660648370986"
        ],
        [
         "41",
         "0.03151970506656343",
         "0.4896017708000976"
        ],
        [
         "42",
         "0.041551268117860474",
         "0.3830004872150736"
        ],
        [
         "43",
         "0.3905105416684246",
         "0.6356818435929605"
        ],
        [
         "44",
         "0.3719685549058849",
         "0.6876268002156152"
        ],
        [
         "45",
         "0.06610952242652945",
         "0.265273293262805"
        ],
        [
         "46",
         "0.26295534265330844",
         "0.09296901010153369"
        ],
        [
         "47",
         "0.024018679383019936",
         "0.4143571741027986"
        ],
        [
         "48",
         "0.4958757523631335",
         "0.5416644157157587"
        ],
        [
         "49",
         "0.7896294059626551",
         "0.85598617717588"
        ]
       ],
       "shape": {
        "columns": 2,
        "rows": 334
       }
      },
      "text/html": [
       "<div>\n",
       "<style scoped>\n",
       "    .dataframe tbody tr th:only-of-type {\n",
       "        vertical-align: middle;\n",
       "    }\n",
       "\n",
       "    .dataframe tbody tr th {\n",
       "        vertical-align: top;\n",
       "    }\n",
       "\n",
       "    .dataframe thead th {\n",
       "        text-align: right;\n",
       "    }\n",
       "</style>\n",
       "<table border=\"1\" class=\"dataframe\">\n",
       "  <thead>\n",
       "    <tr style=\"text-align: right;\">\n",
       "      <th></th>\n",
       "      <th>1</th>\n",
       "      <th>2</th>\n",
       "    </tr>\n",
       "  </thead>\n",
       "  <tbody>\n",
       "    <tr>\n",
       "      <th>0</th>\n",
       "      <td>0.735333</td>\n",
       "      <td>0.665448</td>\n",
       "    </tr>\n",
       "    <tr>\n",
       "      <th>1</th>\n",
       "      <td>0.805558</td>\n",
       "      <td>0.244635</td>\n",
       "    </tr>\n",
       "    <tr>\n",
       "      <th>2</th>\n",
       "      <td>0.909796</td>\n",
       "      <td>0.336075</td>\n",
       "    </tr>\n",
       "    <tr>\n",
       "      <th>3</th>\n",
       "      <td>0.370960</td>\n",
       "      <td>0.199365</td>\n",
       "    </tr>\n",
       "    <tr>\n",
       "      <th>4</th>\n",
       "      <td>0.280666</td>\n",
       "      <td>0.086213</td>\n",
       "    </tr>\n",
       "    <tr>\n",
       "      <th>...</th>\n",
       "      <td>...</td>\n",
       "      <td>...</td>\n",
       "    </tr>\n",
       "    <tr>\n",
       "      <th>329</th>\n",
       "      <td>0.647314</td>\n",
       "      <td>0.245387</td>\n",
       "    </tr>\n",
       "    <tr>\n",
       "      <th>330</th>\n",
       "      <td>0.920899</td>\n",
       "      <td>0.059750</td>\n",
       "    </tr>\n",
       "    <tr>\n",
       "      <th>331</th>\n",
       "      <td>0.353936</td>\n",
       "      <td>0.460087</td>\n",
       "    </tr>\n",
       "    <tr>\n",
       "      <th>332</th>\n",
       "      <td>0.702879</td>\n",
       "      <td>0.692795</td>\n",
       "    </tr>\n",
       "    <tr>\n",
       "      <th>333</th>\n",
       "      <td>0.412429</td>\n",
       "      <td>0.238090</td>\n",
       "    </tr>\n",
       "  </tbody>\n",
       "</table>\n",
       "<p>334 rows × 2 columns</p>\n",
       "</div>"
      ],
      "text/plain": [
       "            1         2\n",
       "0    0.735333  0.665448\n",
       "1    0.805558  0.244635\n",
       "2    0.909796  0.336075\n",
       "3    0.370960  0.199365\n",
       "4    0.280666  0.086213\n",
       "..        ...       ...\n",
       "329  0.647314  0.245387\n",
       "330  0.920899  0.059750\n",
       "331  0.353936  0.460087\n",
       "332  0.702879  0.692795\n",
       "333  0.412429  0.238090\n",
       "\n",
       "[334 rows x 2 columns]"
      ]
     },
     "execution_count": 28,
     "metadata": {},
     "output_type": "execute_result"
    }
   ],
   "source": [
    "newdata.loc[:,[1,2]]       # : gives all rows or columns indexes"
   ]
  },
  {
   "cell_type": "markdown",
   "id": "0b4faa74",
   "metadata": {},
   "source": [
    "### Complex Queries "
   ]
  },
  {
   "cell_type": "code",
   "execution_count": 29,
   "id": "9472c148",
   "metadata": {},
   "outputs": [
    {
     "data": {
      "application/vnd.microsoft.datawrangler.viewer.v0+json": {
       "columns": [
        {
         "name": "index",
         "rawType": "int64",
         "type": "integer"
        },
        {
         "name": "0",
         "rawType": "float64",
         "type": "float"
        },
        {
         "name": "1",
         "rawType": "float64",
         "type": "float"
        },
        {
         "name": "2",
         "rawType": "float64",
         "type": "float"
        },
        {
         "name": "3",
         "rawType": "float64",
         "type": "float"
        },
        {
         "name": "4",
         "rawType": "float64",
         "type": "float"
        }
       ],
       "ref": "b23e8c96-593d-4523-9edc-01899dc7e6e9",
       "rows": [
        [
         "0",
         "654.0",
         "0.7353330881880906",
         "0.6654478058376195",
         "0.8231651629968497",
         "0.09521448590014225"
        ],
        [
         "1",
         "0.5296788259810971",
         "0.8055581315653556",
         "0.2446351142032439",
         "0.24628591354087037",
         "0.8016272624830633"
        ],
        [
         "2",
         "0.7820667244531102",
         "0.9097956577228845",
         "0.33607538004479864",
         "0.05601769514151045",
         "0.3854714439120136"
        ],
        [
         "3",
         "0.8562915603273978",
         "0.37096049366477435",
         "0.19936517502086004",
         "0.887981874868886",
         "0.6031407455161603"
        ],
        [
         "5",
         "0.4587701259376935",
         "0.6201937999850412",
         "0.7592238939256974",
         "0.20029696449675338",
         "0.5010818383880239"
        ],
        [
         "6",
         "0.7174723075994731",
         "0.9594888801555976",
         "0.9714706689616114",
         "0.9419107218970313",
         "0.9428072527083258"
        ],
        [
         "7",
         "0.6900949936303603",
         "0.21392897775173025",
         "0.5069123876875542",
         "0.4174828388645355",
         "0.28721193439724"
        ],
        [
         "9",
         "0.8478164093079261",
         "0.9966899809946442",
         "0.07686905551974266",
         "0.7935897261437042",
         "0.6805866689403502"
        ],
        [
         "10",
         "0.40526342609643684",
         "0.8822846793541016",
         "0.9560645760136013",
         "0.663748697515427",
         "0.20054527061370653"
        ],
        [
         "11",
         "0.7792925010442079",
         "0.3246235870957973",
         "0.4672667178971326",
         "0.894999846554725",
         "0.9544391775429086"
        ],
        [
         "12",
         "0.6590759012705484",
         "0.9451187253778696",
         "0.8916921220673266",
         "0.8135405481497336",
         "0.3624039702314166"
        ],
        [
         "13",
         "0.8026501281234257",
         "0.3309959432358267",
         "0.16524323762736082",
         "0.670580488538254",
         "0.2932358231406871"
        ],
        [
         "15",
         "0.825440450349937",
         "0.9603935583745663",
         "0.750435670645148",
         "0.4318176386072978",
         "0.30498436978625254"
        ],
        [
         "16",
         "0.5548478157195837",
         "0.34859493965225574",
         "0.30169328010438556",
         "0.5941993499638986",
         "0.28668628433143395"
        ],
        [
         "17",
         "0.44054246908053274",
         "0.37571551194107433",
         "0.4239235622339057",
         "0.19318614670608003",
         "0.9771012273452394"
        ],
        [
         "18",
         "0.9183846110269911",
         "0.29481924922187297",
         "0.20546866726642976",
         "0.599220886027621",
         "0.43428946008244584"
        ],
        [
         "19",
         "0.49726030726310333",
         "0.13795874991320567",
         "0.432125175968883",
         "0.38722472123522433",
         "0.6845632655230067"
        ],
        [
         "20",
         "0.3321113185954242",
         "0.7757009354901779",
         "0.4172104578288327",
         "0.37803537742911375",
         "0.2129558228877414"
        ],
        [
         "21",
         "0.9599313032409883",
         "0.24842761969515736",
         "0.6678150035116762",
         "0.2651091519174571",
         "0.6047549252183171"
        ],
        [
         "23",
         "0.5740579863041497",
         "0.2704910406792569",
         "0.42730449152867667",
         "0.37918482227854167",
         "0.21740185191095296"
        ],
        [
         "25",
         "0.3140173171714691",
         "0.251605400420819",
         "0.13844199912832578",
         "0.040493667810968414",
         "0.7828096636963873"
        ],
        [
         "27",
         "0.47127017916240177",
         "0.7497122927104248",
         "0.6269464750289212",
         "0.5670567135656432",
         "0.8831792603857209"
        ],
        [
         "29",
         "0.5586356227135842",
         "0.8331548284884679",
         "0.9932500755423068",
         "0.38133206962343213",
         "0.6558055634494316"
        ],
        [
         "30",
         "0.4536896025367989",
         "0.49530226456472093",
         "0.09121703751806232",
         "0.9380273888269632",
         "0.7696559747522995"
        ],
        [
         "31",
         "0.9379404054385372",
         "0.8138423485168885",
         "0.7102560039264536",
         "0.06942301912577808",
         "0.46655533099572244"
        ],
        [
         "34",
         "0.8819205786413018",
         "0.5934590200199075",
         "0.13377373202266263",
         "0.14753664669973066",
         "0.099528198151141"
        ],
        [
         "35",
         "0.5007892866047547",
         "0.8442073008695726",
         "0.5180510492817234",
         "0.3917887089500124",
         "0.7804003273525997"
        ],
        [
         "36",
         "0.598105316770158",
         "0.5093196709830553",
         "0.6329089860976024",
         "0.14570996216551557",
         "0.024277234806345915"
        ],
        [
         "38",
         "0.44356757296494775",
         "0.23723122375875738",
         "0.7287941352033387",
         "0.18445999665343826",
         "0.7423856539699849"
        ],
        [
         "40",
         "0.8083195126899793",
         "0.997187847024821",
         "0.3223660648370986",
         "0.46149775397025206",
         "0.2807581891739951"
        ],
        [
         "43",
         "0.6812060310497886",
         "0.3905105416684246",
         "0.6356818435929605",
         "0.6619103370749059",
         "0.8274591817289583"
        ],
        [
         "44",
         "0.6793368741392829",
         "0.3719685549058849",
         "0.6876268002156152",
         "0.16328232328984882",
         "0.14154618824426257"
        ],
        [
         "46",
         "0.9676776895374501",
         "0.26295534265330844",
         "0.09296901010153369",
         "0.29416773581320166",
         "0.7978658453207218"
        ],
        [
         "49",
         "0.7595402939124548",
         "0.7896294059626551",
         "0.85598617717588",
         "0.8919402392664912",
         "0.42295079432326155"
        ],
        [
         "50",
         "0.7447378708187429",
         "0.20019088177851296",
         "0.6813609151009316",
         "0.8794904385130553",
         "0.7226154062121306"
        ],
        [
         "56",
         "0.7975741253667241",
         "0.7895422841009814",
         "0.11834366881442315",
         "0.38508643267488474",
         "0.3984778531123918"
        ],
        [
         "58",
         "0.5674749725730756",
         "0.26327114049798794",
         "0.20133922200322074",
         "0.6813513696132829",
         "0.1697369164120589"
        ],
        [
         "60",
         "0.5690689205877737",
         "0.3603681663606575",
         "0.17382328937493507",
         "0.3968824841306722",
         "0.20996438602430634"
        ],
        [
         "61",
         "0.9590582933163684",
         "0.7748061304846984",
         "0.5947262209194678",
         "0.37095724712090183",
         "0.5424199862280021"
        ],
        [
         "62",
         "0.4129125832504533",
         "0.6060113755326937",
         "0.07722720895640955",
         "0.6658954617272563",
         "0.5740958032588761"
        ],
        [
         "63",
         "0.889242416734406",
         "0.8609100338310854",
         "0.04543312100090369",
         "0.8542080432773089",
         "0.23721974841954319"
        ],
        [
         "64",
         "0.7822555762466937",
         "0.8554528827470352",
         "0.5526912416847689",
         "0.8990333740730064",
         "0.9620558136889495"
        ],
        [
         "66",
         "0.7806230684538669",
         "0.6125239681409603",
         "0.8982799327719404",
         "0.5217225149677706",
         "0.7806722640776638"
        ],
        [
         "67",
         "0.3446935982520679",
         "0.7704362617236076",
         "0.9816003249770677",
         "0.452228740261985",
         "0.49713801497608245"
        ],
        [
         "68",
         "0.9956785683579863",
         "0.5425047233768299",
         "0.2610198062460689",
         "0.8364208490236329",
         "0.7346105541474764"
        ],
        [
         "69",
         "0.6688157446835736",
         "0.44283289109859103",
         "0.46361406629052504",
         "0.25097447002772866",
         "0.05457227118498276"
        ],
        [
         "70",
         "0.6749807364982406",
         "0.7043563333279701",
         "0.02763658710746264",
         "0.6209836882740477",
         "0.0975998301500356"
        ],
        [
         "71",
         "0.5203161262618874",
         "0.9302746778993041",
         "0.8493817438717675",
         "0.8599529653147578",
         "0.7370213307788752"
        ],
        [
         "72",
         "0.7129042138560134",
         "0.31732623663119053",
         "0.43575556186430164",
         "0.665639305823364",
         "0.16199167446203977"
        ],
        [
         "74",
         "0.7798994859703653",
         "0.485047721249783",
         "0.17037873770890322",
         "0.7924724227712467",
         "0.4902598100132879"
        ]
       ],
       "shape": {
        "columns": 5,
        "rows": 211
       }
      },
      "text/html": [
       "<div>\n",
       "<style scoped>\n",
       "    .dataframe tbody tr th:only-of-type {\n",
       "        vertical-align: middle;\n",
       "    }\n",
       "\n",
       "    .dataframe tbody tr th {\n",
       "        vertical-align: top;\n",
       "    }\n",
       "\n",
       "    .dataframe thead th {\n",
       "        text-align: right;\n",
       "    }\n",
       "</style>\n",
       "<table border=\"1\" class=\"dataframe\">\n",
       "  <thead>\n",
       "    <tr style=\"text-align: right;\">\n",
       "      <th></th>\n",
       "      <th>0</th>\n",
       "      <th>1</th>\n",
       "      <th>2</th>\n",
       "      <th>3</th>\n",
       "      <th>4</th>\n",
       "    </tr>\n",
       "  </thead>\n",
       "  <tbody>\n",
       "    <tr>\n",
       "      <th>0</th>\n",
       "      <td>654.000000</td>\n",
       "      <td>0.735333</td>\n",
       "      <td>0.665448</td>\n",
       "      <td>0.823165</td>\n",
       "      <td>0.095214</td>\n",
       "    </tr>\n",
       "    <tr>\n",
       "      <th>1</th>\n",
       "      <td>0.529679</td>\n",
       "      <td>0.805558</td>\n",
       "      <td>0.244635</td>\n",
       "      <td>0.246286</td>\n",
       "      <td>0.801627</td>\n",
       "    </tr>\n",
       "    <tr>\n",
       "      <th>2</th>\n",
       "      <td>0.782067</td>\n",
       "      <td>0.909796</td>\n",
       "      <td>0.336075</td>\n",
       "      <td>0.056018</td>\n",
       "      <td>0.385471</td>\n",
       "    </tr>\n",
       "    <tr>\n",
       "      <th>3</th>\n",
       "      <td>0.856292</td>\n",
       "      <td>0.370960</td>\n",
       "      <td>0.199365</td>\n",
       "      <td>0.887982</td>\n",
       "      <td>0.603141</td>\n",
       "    </tr>\n",
       "    <tr>\n",
       "      <th>5</th>\n",
       "      <td>0.458770</td>\n",
       "      <td>0.620194</td>\n",
       "      <td>0.759224</td>\n",
       "      <td>0.200297</td>\n",
       "      <td>0.501082</td>\n",
       "    </tr>\n",
       "    <tr>\n",
       "      <th>...</th>\n",
       "      <td>...</td>\n",
       "      <td>...</td>\n",
       "      <td>...</td>\n",
       "      <td>...</td>\n",
       "      <td>...</td>\n",
       "    </tr>\n",
       "    <tr>\n",
       "      <th>329</th>\n",
       "      <td>0.421527</td>\n",
       "      <td>0.647314</td>\n",
       "      <td>0.245387</td>\n",
       "      <td>0.501401</td>\n",
       "      <td>0.166734</td>\n",
       "    </tr>\n",
       "    <tr>\n",
       "      <th>330</th>\n",
       "      <td>0.355866</td>\n",
       "      <td>0.920899</td>\n",
       "      <td>0.059750</td>\n",
       "      <td>0.809419</td>\n",
       "      <td>0.794719</td>\n",
       "    </tr>\n",
       "    <tr>\n",
       "      <th>331</th>\n",
       "      <td>0.853727</td>\n",
       "      <td>0.353936</td>\n",
       "      <td>0.460087</td>\n",
       "      <td>0.969142</td>\n",
       "      <td>0.798868</td>\n",
       "    </tr>\n",
       "    <tr>\n",
       "      <th>332</th>\n",
       "      <td>0.904621</td>\n",
       "      <td>0.702879</td>\n",
       "      <td>0.692795</td>\n",
       "      <td>0.223037</td>\n",
       "      <td>0.764387</td>\n",
       "    </tr>\n",
       "    <tr>\n",
       "      <th>333</th>\n",
       "      <td>0.670539</td>\n",
       "      <td>0.412429</td>\n",
       "      <td>0.238090</td>\n",
       "      <td>0.137824</td>\n",
       "      <td>0.196973</td>\n",
       "    </tr>\n",
       "  </tbody>\n",
       "</table>\n",
       "<p>211 rows × 5 columns</p>\n",
       "</div>"
      ],
      "text/plain": [
       "              0         1         2         3         4\n",
       "0    654.000000  0.735333  0.665448  0.823165  0.095214\n",
       "1      0.529679  0.805558  0.244635  0.246286  0.801627\n",
       "2      0.782067  0.909796  0.336075  0.056018  0.385471\n",
       "3      0.856292  0.370960  0.199365  0.887982  0.603141\n",
       "5      0.458770  0.620194  0.759224  0.200297  0.501082\n",
       "..          ...       ...       ...       ...       ...\n",
       "329    0.421527  0.647314  0.245387  0.501401  0.166734\n",
       "330    0.355866  0.920899  0.059750  0.809419  0.794719\n",
       "331    0.853727  0.353936  0.460087  0.969142  0.798868\n",
       "332    0.904621  0.702879  0.692795  0.223037  0.764387\n",
       "333    0.670539  0.412429  0.238090  0.137824  0.196973\n",
       "\n",
       "[211 rows x 5 columns]"
      ]
     },
     "execution_count": 29,
     "metadata": {},
     "output_type": "execute_result"
    }
   ],
   "source": [
    "newdata.loc[(newdata[0]>0.3) & (newdata[1]>0.1)]"
   ]
  },
  {
   "cell_type": "code",
   "execution_count": 30,
   "id": "0547efc7",
   "metadata": {},
   "outputs": [
    {
     "data": {
      "application/vnd.microsoft.datawrangler.viewer.v0+json": {
       "columns": [
        {
         "name": "index",
         "rawType": "int64",
         "type": "integer"
        },
        {
         "name": "0",
         "rawType": "float64",
         "type": "float"
        },
        {
         "name": "1",
         "rawType": "float64",
         "type": "float"
        },
        {
         "name": "2",
         "rawType": "float64",
         "type": "float"
        },
        {
         "name": "3",
         "rawType": "float64",
         "type": "float"
        },
        {
         "name": "4",
         "rawType": "float64",
         "type": "float"
        }
       ],
       "ref": "c4ca30d5-57c9-4bec-8611-931a12ed755b",
       "rows": [
        [
         "0",
         "654.0",
         "0.7353330881880906",
         "0.6654478058376195",
         "0.8231651629968497",
         "0.09521448590014225"
        ],
        [
         "1",
         "0.5296788259810971",
         "0.8055581315653556",
         "0.2446351142032439",
         "0.24628591354087037",
         "0.8016272624830633"
        ]
       ],
       "shape": {
        "columns": 5,
        "rows": 2
       }
      },
      "text/html": [
       "<div>\n",
       "<style scoped>\n",
       "    .dataframe tbody tr th:only-of-type {\n",
       "        vertical-align: middle;\n",
       "    }\n",
       "\n",
       "    .dataframe tbody tr th {\n",
       "        vertical-align: top;\n",
       "    }\n",
       "\n",
       "    .dataframe thead th {\n",
       "        text-align: right;\n",
       "    }\n",
       "</style>\n",
       "<table border=\"1\" class=\"dataframe\">\n",
       "  <thead>\n",
       "    <tr style=\"text-align: right;\">\n",
       "      <th></th>\n",
       "      <th>0</th>\n",
       "      <th>1</th>\n",
       "      <th>2</th>\n",
       "      <th>3</th>\n",
       "      <th>4</th>\n",
       "    </tr>\n",
       "  </thead>\n",
       "  <tbody>\n",
       "    <tr>\n",
       "      <th>0</th>\n",
       "      <td>654.000000</td>\n",
       "      <td>0.735333</td>\n",
       "      <td>0.665448</td>\n",
       "      <td>0.823165</td>\n",
       "      <td>0.095214</td>\n",
       "    </tr>\n",
       "    <tr>\n",
       "      <th>1</th>\n",
       "      <td>0.529679</td>\n",
       "      <td>0.805558</td>\n",
       "      <td>0.244635</td>\n",
       "      <td>0.246286</td>\n",
       "      <td>0.801627</td>\n",
       "    </tr>\n",
       "  </tbody>\n",
       "</table>\n",
       "</div>"
      ],
      "text/plain": [
       "            0         1         2         3         4\n",
       "0  654.000000  0.735333  0.665448  0.823165  0.095214\n",
       "1    0.529679  0.805558  0.244635  0.246286  0.801627"
      ]
     },
     "execution_count": 30,
     "metadata": {},
     "output_type": "execute_result"
    }
   ],
   "source": [
    "newdata.head(2)"
   ]
  },
  {
   "cell_type": "code",
   "execution_count": 31,
   "id": "2e1f73f9",
   "metadata": {},
   "outputs": [
    {
     "data": {
      "text/plain": [
       "np.float64(0.09521448590014225)"
      ]
     },
     "execution_count": 31,
     "metadata": {},
     "output_type": "execute_result"
    }
   ],
   "source": [
    "newdata.iloc[0,4]"
   ]
  },
  {
   "cell_type": "code",
   "execution_count": 32,
   "id": "4bf4b4b1",
   "metadata": {},
   "outputs": [],
   "source": [
    "newdata.drop([1],axis=1,inplace=True)"
   ]
  },
  {
   "cell_type": "code",
   "execution_count": 33,
   "id": "7b57a6c0",
   "metadata": {},
   "outputs": [
    {
     "data": {
      "application/vnd.microsoft.datawrangler.viewer.v0+json": {
       "columns": [
        {
         "name": "index",
         "rawType": "int64",
         "type": "integer"
        },
        {
         "name": "0",
         "rawType": "float64",
         "type": "float"
        },
        {
         "name": "2",
         "rawType": "float64",
         "type": "float"
        },
        {
         "name": "3",
         "rawType": "float64",
         "type": "float"
        },
        {
         "name": "4",
         "rawType": "float64",
         "type": "float"
        }
       ],
       "ref": "f44af756-8ce5-41ed-87e5-b0f5a59ff388",
       "rows": [
        [
         "0",
         "654.0",
         "0.6654478058376195",
         "0.8231651629968497",
         "0.09521448590014225"
        ],
        [
         "1",
         "0.5296788259810971",
         "0.2446351142032439",
         "0.24628591354087037",
         "0.8016272624830633"
        ],
        [
         "2",
         "0.7820667244531102",
         "0.33607538004479864",
         "0.05601769514151045",
         "0.3854714439120136"
        ],
        [
         "3",
         "0.8562915603273978",
         "0.19936517502086004",
         "0.887981874868886",
         "0.6031407455161603"
        ],
        [
         "4",
         "0.19575315799175497",
         "0.08621297177947784",
         "0.6095594675339207",
         "0.6146950230272517"
        ],
        [
         "5",
         "0.4587701259376935",
         "0.7592238939256974",
         "0.20029696449675338",
         "0.5010818383880239"
        ],
        [
         "6",
         "0.7174723075994731",
         "0.9714706689616114",
         "0.9419107218970313",
         "0.9428072527083258"
        ],
        [
         "7",
         "0.6900949936303603",
         "0.5069123876875542",
         "0.4174828388645355",
         "0.28721193439724"
        ],
        [
         "8",
         "0.09537618385860347",
         "0.7478349652494887",
         "0.8058022279196755",
         "0.05628825532508386"
        ],
        [
         "9",
         "0.8478164093079261",
         "0.07686905551974266",
         "0.7935897261437042",
         "0.6805866689403502"
        ],
        [
         "10",
         "0.40526342609643684",
         "0.9560645760136013",
         "0.663748697515427",
         "0.20054527061370653"
        ],
        [
         "11",
         "0.7792925010442079",
         "0.4672667178971326",
         "0.894999846554725",
         "0.9544391775429086"
        ],
        [
         "12",
         "0.6590759012705484",
         "0.8916921220673266",
         "0.8135405481497336",
         "0.3624039702314166"
        ],
        [
         "13",
         "0.8026501281234257",
         "0.16524323762736082",
         "0.670580488538254",
         "0.2932358231406871"
        ],
        [
         "14",
         "0.19880307139305808",
         "0.6180925050357097",
         "0.7380754383238413",
         "0.7665167775448181"
        ],
        [
         "15",
         "0.825440450349937",
         "0.750435670645148",
         "0.4318176386072978",
         "0.30498436978625254"
        ],
        [
         "16",
         "0.5548478157195837",
         "0.30169328010438556",
         "0.5941993499638986",
         "0.28668628433143395"
        ],
        [
         "17",
         "0.44054246908053274",
         "0.4239235622339057",
         "0.19318614670608003",
         "0.9771012273452394"
        ],
        [
         "18",
         "0.9183846110269911",
         "0.20546866726642976",
         "0.599220886027621",
         "0.43428946008244584"
        ],
        [
         "19",
         "0.49726030726310333",
         "0.432125175968883",
         "0.38722472123522433",
         "0.6845632655230067"
        ],
        [
         "20",
         "0.3321113185954242",
         "0.4172104578288327",
         "0.37803537742911375",
         "0.2129558228877414"
        ],
        [
         "21",
         "0.9599313032409883",
         "0.6678150035116762",
         "0.2651091519174571",
         "0.6047549252183171"
        ],
        [
         "22",
         "0.20887003763883472",
         "0.6867031525385198",
         "0.3707145528355692",
         "0.04151670477030811"
        ],
        [
         "23",
         "0.5740579863041497",
         "0.42730449152867667",
         "0.37918482227854167",
         "0.21740185191095296"
        ],
        [
         "24",
         "0.44605874931331035",
         "0.6118031099946017",
         "0.07528324027653566",
         "0.8234266356478469"
        ],
        [
         "25",
         "0.3140173171714691",
         "0.13844199912832578",
         "0.040493667810968414",
         "0.7828096636963873"
        ],
        [
         "26",
         "0.15959625550488843",
         "0.21432131456154113",
         "0.833850887485523",
         "0.34820986051141745"
        ],
        [
         "27",
         "0.47127017916240177",
         "0.6269464750289212",
         "0.5670567135656432",
         "0.8831792603857209"
        ],
        [
         "28",
         "0.033385772165687055",
         "0.4364133087221156",
         "0.3895033789533804",
         "0.6324293785801236"
        ],
        [
         "29",
         "0.5586356227135842",
         "0.9932500755423068",
         "0.38133206962343213",
         "0.6558055634494316"
        ],
        [
         "30",
         "0.4536896025367989",
         "0.09121703751806232",
         "0.9380273888269632",
         "0.7696559747522995"
        ],
        [
         "31",
         "0.9379404054385372",
         "0.7102560039264536",
         "0.06942301912577808",
         "0.46655533099572244"
        ],
        [
         "32",
         "0.13926726963418845",
         "0.6718993205229378",
         "0.7246328352526499",
         "0.42882204271310365"
        ],
        [
         "33",
         "0.21856158311152662",
         "0.2661570121384035",
         "0.585140858877476",
         "0.730408523692049"
        ],
        [
         "34",
         "0.8819205786413018",
         "0.13377373202266263",
         "0.14753664669973066",
         "0.099528198151141"
        ],
        [
         "35",
         "0.5007892866047547",
         "0.5180510492817234",
         "0.3917887089500124",
         "0.7804003273525997"
        ],
        [
         "36",
         "0.598105316770158",
         "0.6329089860976024",
         "0.14570996216551557",
         "0.024277234806345915"
        ],
        [
         "37",
         "0.2190051068639708",
         "0.24815177668191069",
         "0.6785306275034912",
         "0.5535459774877217"
        ],
        [
         "38",
         "0.44356757296494775",
         "0.7287941352033387",
         "0.18445999665343826",
         "0.7423856539699849"
        ],
        [
         "39",
         "0.2639918743255272",
         "0.635373723448647",
         "0.753945776869843",
         "0.1525273927734293"
        ],
        [
         "40",
         "0.8083195126899793",
         "0.3223660648370986",
         "0.46149775397025206",
         "0.2807581891739951"
        ],
        [
         "41",
         "0.4763204685544913",
         "0.4896017708000976",
         "0.03484739359289468",
         "0.7955289904869799"
        ],
        [
         "42",
         "0.5967393141500379",
         "0.3830004872150736",
         "0.7395215315405066",
         "0.21343142713833152"
        ],
        [
         "43",
         "0.6812060310497886",
         "0.6356818435929605",
         "0.6619103370749059",
         "0.8274591817289583"
        ],
        [
         "44",
         "0.6793368741392829",
         "0.6876268002156152",
         "0.16328232328984882",
         "0.14154618824426257"
        ],
        [
         "45",
         "0.16984286644986712",
         "0.265273293262805",
         "0.3630865386284291",
         "0.7324073221886642"
        ],
        [
         "46",
         "0.9676776895374501",
         "0.09296901010153369",
         "0.29416773581320166",
         "0.7978658453207218"
        ],
        [
         "47",
         "0.8491539105928244",
         "0.4143571741027986",
         "0.47504488122738764",
         "0.8418018396829575"
        ],
        [
         "48",
         "0.16217113101200054",
         "0.5416644157157587",
         "0.9988494027665071",
         "0.9436336687419852"
        ],
        [
         "49",
         "0.7595402939124548",
         "0.85598617717588",
         "0.8919402392664912",
         "0.42295079432326155"
        ]
       ],
       "shape": {
        "columns": 4,
        "rows": 334
       }
      },
      "text/html": [
       "<div>\n",
       "<style scoped>\n",
       "    .dataframe tbody tr th:only-of-type {\n",
       "        vertical-align: middle;\n",
       "    }\n",
       "\n",
       "    .dataframe tbody tr th {\n",
       "        vertical-align: top;\n",
       "    }\n",
       "\n",
       "    .dataframe thead th {\n",
       "        text-align: right;\n",
       "    }\n",
       "</style>\n",
       "<table border=\"1\" class=\"dataframe\">\n",
       "  <thead>\n",
       "    <tr style=\"text-align: right;\">\n",
       "      <th></th>\n",
       "      <th>0</th>\n",
       "      <th>2</th>\n",
       "      <th>3</th>\n",
       "      <th>4</th>\n",
       "    </tr>\n",
       "  </thead>\n",
       "  <tbody>\n",
       "    <tr>\n",
       "      <th>0</th>\n",
       "      <td>654.000000</td>\n",
       "      <td>0.665448</td>\n",
       "      <td>0.823165</td>\n",
       "      <td>0.095214</td>\n",
       "    </tr>\n",
       "    <tr>\n",
       "      <th>1</th>\n",
       "      <td>0.529679</td>\n",
       "      <td>0.244635</td>\n",
       "      <td>0.246286</td>\n",
       "      <td>0.801627</td>\n",
       "    </tr>\n",
       "    <tr>\n",
       "      <th>2</th>\n",
       "      <td>0.782067</td>\n",
       "      <td>0.336075</td>\n",
       "      <td>0.056018</td>\n",
       "      <td>0.385471</td>\n",
       "    </tr>\n",
       "    <tr>\n",
       "      <th>3</th>\n",
       "      <td>0.856292</td>\n",
       "      <td>0.199365</td>\n",
       "      <td>0.887982</td>\n",
       "      <td>0.603141</td>\n",
       "    </tr>\n",
       "    <tr>\n",
       "      <th>4</th>\n",
       "      <td>0.195753</td>\n",
       "      <td>0.086213</td>\n",
       "      <td>0.609559</td>\n",
       "      <td>0.614695</td>\n",
       "    </tr>\n",
       "    <tr>\n",
       "      <th>...</th>\n",
       "      <td>...</td>\n",
       "      <td>...</td>\n",
       "      <td>...</td>\n",
       "      <td>...</td>\n",
       "    </tr>\n",
       "    <tr>\n",
       "      <th>329</th>\n",
       "      <td>0.421527</td>\n",
       "      <td>0.245387</td>\n",
       "      <td>0.501401</td>\n",
       "      <td>0.166734</td>\n",
       "    </tr>\n",
       "    <tr>\n",
       "      <th>330</th>\n",
       "      <td>0.355866</td>\n",
       "      <td>0.059750</td>\n",
       "      <td>0.809419</td>\n",
       "      <td>0.794719</td>\n",
       "    </tr>\n",
       "    <tr>\n",
       "      <th>331</th>\n",
       "      <td>0.853727</td>\n",
       "      <td>0.460087</td>\n",
       "      <td>0.969142</td>\n",
       "      <td>0.798868</td>\n",
       "    </tr>\n",
       "    <tr>\n",
       "      <th>332</th>\n",
       "      <td>0.904621</td>\n",
       "      <td>0.692795</td>\n",
       "      <td>0.223037</td>\n",
       "      <td>0.764387</td>\n",
       "    </tr>\n",
       "    <tr>\n",
       "      <th>333</th>\n",
       "      <td>0.670539</td>\n",
       "      <td>0.238090</td>\n",
       "      <td>0.137824</td>\n",
       "      <td>0.196973</td>\n",
       "    </tr>\n",
       "  </tbody>\n",
       "</table>\n",
       "<p>334 rows × 4 columns</p>\n",
       "</div>"
      ],
      "text/plain": [
       "              0         2         3         4\n",
       "0    654.000000  0.665448  0.823165  0.095214\n",
       "1      0.529679  0.244635  0.246286  0.801627\n",
       "2      0.782067  0.336075  0.056018  0.385471\n",
       "3      0.856292  0.199365  0.887982  0.603141\n",
       "4      0.195753  0.086213  0.609559  0.614695\n",
       "..          ...       ...       ...       ...\n",
       "329    0.421527  0.245387  0.501401  0.166734\n",
       "330    0.355866  0.059750  0.809419  0.794719\n",
       "331    0.853727  0.460087  0.969142  0.798868\n",
       "332    0.904621  0.692795  0.223037  0.764387\n",
       "333    0.670539  0.238090  0.137824  0.196973\n",
       "\n",
       "[334 rows x 4 columns]"
      ]
     },
     "execution_count": 33,
     "metadata": {},
     "output_type": "execute_result"
    }
   ],
   "source": [
    "newdata"
   ]
  },
  {
   "cell_type": "code",
   "execution_count": 34,
   "id": "0b2a6430",
   "metadata": {},
   "outputs": [
    {
     "data": {
      "application/vnd.microsoft.datawrangler.viewer.v0+json": {
       "columns": [
        {
         "name": "index",
         "rawType": "int64",
         "type": "integer"
        },
        {
         "name": "0",
         "rawType": "float64",
         "type": "float"
        },
        {
         "name": "2",
         "rawType": "float64",
         "type": "float"
        },
        {
         "name": "3",
         "rawType": "float64",
         "type": "float"
        },
        {
         "name": "4",
         "rawType": "float64",
         "type": "float"
        }
       ],
       "ref": "c73a333e-298e-4d1b-8ccc-7d759a9636f3",
       "rows": [
        [
         "0",
         "654.0",
         "0.6654478058376195",
         "0.8231651629968497",
         "0.09521448590014225"
        ],
        [
         "1",
         "0.5296788259810971",
         "0.2446351142032439",
         "0.24628591354087037",
         "0.8016272624830633"
        ],
        [
         "2",
         "0.7820667244531102",
         "0.33607538004479864",
         "0.05601769514151045",
         "0.3854714439120136"
        ],
        [
         "3",
         "0.8562915603273978",
         "0.19936517502086004",
         "0.887981874868886",
         "0.6031407455161603"
        ],
        [
         "4",
         "0.19575315799175497",
         "0.08621297177947784",
         "0.6095594675339207",
         "0.6146950230272517"
        ],
        [
         "5",
         "0.4587701259376935",
         "0.7592238939256974",
         "0.20029696449675338",
         "0.5010818383880239"
        ],
        [
         "6",
         "0.7174723075994731",
         "0.9714706689616114",
         "0.9419107218970313",
         "0.9428072527083258"
        ],
        [
         "7",
         "0.6900949936303603",
         "0.5069123876875542",
         "0.4174828388645355",
         "0.28721193439724"
        ],
        [
         "8",
         "0.09537618385860347",
         "0.7478349652494887",
         "0.8058022279196755",
         "0.05628825532508386"
        ],
        [
         "9",
         "0.8478164093079261",
         "0.07686905551974266",
         "0.7935897261437042",
         "0.6805866689403502"
        ],
        [
         "10",
         "0.40526342609643684",
         "0.9560645760136013",
         "0.663748697515427",
         "0.20054527061370653"
        ],
        [
         "11",
         "0.7792925010442079",
         "0.4672667178971326",
         "0.894999846554725",
         "0.9544391775429086"
        ],
        [
         "12",
         "0.6590759012705484",
         "0.8916921220673266",
         "0.8135405481497336",
         "0.3624039702314166"
        ],
        [
         "13",
         "0.8026501281234257",
         "0.16524323762736082",
         "0.670580488538254",
         "0.2932358231406871"
        ],
        [
         "14",
         "0.19880307139305808",
         "0.6180925050357097",
         "0.7380754383238413",
         "0.7665167775448181"
        ],
        [
         "15",
         "0.825440450349937",
         "0.750435670645148",
         "0.4318176386072978",
         "0.30498436978625254"
        ],
        [
         "16",
         "0.5548478157195837",
         "0.30169328010438556",
         "0.5941993499638986",
         "0.28668628433143395"
        ],
        [
         "17",
         "0.44054246908053274",
         "0.4239235622339057",
         "0.19318614670608003",
         "0.9771012273452394"
        ],
        [
         "18",
         "0.9183846110269911",
         "0.20546866726642976",
         "0.599220886027621",
         "0.43428946008244584"
        ],
        [
         "19",
         "0.49726030726310333",
         "0.432125175968883",
         "0.38722472123522433",
         "0.6845632655230067"
        ],
        [
         "20",
         "0.3321113185954242",
         "0.4172104578288327",
         "0.37803537742911375",
         "0.2129558228877414"
        ],
        [
         "21",
         "0.9599313032409883",
         "0.6678150035116762",
         "0.2651091519174571",
         "0.6047549252183171"
        ],
        [
         "22",
         "0.20887003763883472",
         "0.6867031525385198",
         "0.3707145528355692",
         "0.04151670477030811"
        ],
        [
         "23",
         "0.5740579863041497",
         "0.42730449152867667",
         "0.37918482227854167",
         "0.21740185191095296"
        ],
        [
         "24",
         "0.44605874931331035",
         "0.6118031099946017",
         "0.07528324027653566",
         "0.8234266356478469"
        ],
        [
         "25",
         "0.3140173171714691",
         "0.13844199912832578",
         "0.040493667810968414",
         "0.7828096636963873"
        ],
        [
         "26",
         "0.15959625550488843",
         "0.21432131456154113",
         "0.833850887485523",
         "0.34820986051141745"
        ],
        [
         "27",
         "0.47127017916240177",
         "0.6269464750289212",
         "0.5670567135656432",
         "0.8831792603857209"
        ],
        [
         "28",
         "0.033385772165687055",
         "0.4364133087221156",
         "0.3895033789533804",
         "0.6324293785801236"
        ],
        [
         "29",
         "0.5586356227135842",
         "0.9932500755423068",
         "0.38133206962343213",
         "0.6558055634494316"
        ],
        [
         "30",
         "0.4536896025367989",
         "0.09121703751806232",
         "0.9380273888269632",
         "0.7696559747522995"
        ],
        [
         "31",
         "0.9379404054385372",
         "0.7102560039264536",
         "0.06942301912577808",
         "0.46655533099572244"
        ],
        [
         "32",
         "0.13926726963418845",
         "0.6718993205229378",
         "0.7246328352526499",
         "0.42882204271310365"
        ],
        [
         "33",
         "0.21856158311152662",
         "0.2661570121384035",
         "0.585140858877476",
         "0.730408523692049"
        ],
        [
         "34",
         "0.8819205786413018",
         "0.13377373202266263",
         "0.14753664669973066",
         "0.099528198151141"
        ],
        [
         "35",
         "0.5007892866047547",
         "0.5180510492817234",
         "0.3917887089500124",
         "0.7804003273525997"
        ],
        [
         "36",
         "0.598105316770158",
         "0.6329089860976024",
         "0.14570996216551557",
         "0.024277234806345915"
        ],
        [
         "37",
         "0.2190051068639708",
         "0.24815177668191069",
         "0.6785306275034912",
         "0.5535459774877217"
        ],
        [
         "38",
         "0.44356757296494775",
         "0.7287941352033387",
         "0.18445999665343826",
         "0.7423856539699849"
        ],
        [
         "39",
         "0.2639918743255272",
         "0.635373723448647",
         "0.753945776869843",
         "0.1525273927734293"
        ],
        [
         "40",
         "0.8083195126899793",
         "0.3223660648370986",
         "0.46149775397025206",
         "0.2807581891739951"
        ],
        [
         "41",
         "0.4763204685544913",
         "0.4896017708000976",
         "0.03484739359289468",
         "0.7955289904869799"
        ],
        [
         "42",
         "0.5967393141500379",
         "0.3830004872150736",
         "0.7395215315405066",
         "0.21343142713833152"
        ],
        [
         "43",
         "0.6812060310497886",
         "0.6356818435929605",
         "0.6619103370749059",
         "0.8274591817289583"
        ],
        [
         "44",
         "0.6793368741392829",
         "0.6876268002156152",
         "0.16328232328984882",
         "0.14154618824426257"
        ],
        [
         "45",
         "0.16984286644986712",
         "0.265273293262805",
         "0.3630865386284291",
         "0.7324073221886642"
        ],
        [
         "46",
         "0.9676776895374501",
         "0.09296901010153369",
         "0.29416773581320166",
         "0.7978658453207218"
        ],
        [
         "47",
         "0.8491539105928244",
         "0.4143571741027986",
         "0.47504488122738764",
         "0.8418018396829575"
        ],
        [
         "48",
         "0.16217113101200054",
         "0.5416644157157587",
         "0.9988494027665071",
         "0.9436336687419852"
        ],
        [
         "49",
         "0.7595402939124548",
         "0.85598617717588",
         "0.8919402392664912",
         "0.42295079432326155"
        ]
       ],
       "shape": {
        "columns": 4,
        "rows": 334
       }
      },
      "text/html": [
       "<div>\n",
       "<style scoped>\n",
       "    .dataframe tbody tr th:only-of-type {\n",
       "        vertical-align: middle;\n",
       "    }\n",
       "\n",
       "    .dataframe tbody tr th {\n",
       "        vertical-align: top;\n",
       "    }\n",
       "\n",
       "    .dataframe thead th {\n",
       "        text-align: right;\n",
       "    }\n",
       "</style>\n",
       "<table border=\"1\" class=\"dataframe\">\n",
       "  <thead>\n",
       "    <tr style=\"text-align: right;\">\n",
       "      <th></th>\n",
       "      <th>0</th>\n",
       "      <th>2</th>\n",
       "      <th>3</th>\n",
       "      <th>4</th>\n",
       "    </tr>\n",
       "  </thead>\n",
       "  <tbody>\n",
       "    <tr>\n",
       "      <th>0</th>\n",
       "      <td>654.000000</td>\n",
       "      <td>0.665448</td>\n",
       "      <td>0.823165</td>\n",
       "      <td>0.095214</td>\n",
       "    </tr>\n",
       "    <tr>\n",
       "      <th>1</th>\n",
       "      <td>0.529679</td>\n",
       "      <td>0.244635</td>\n",
       "      <td>0.246286</td>\n",
       "      <td>0.801627</td>\n",
       "    </tr>\n",
       "    <tr>\n",
       "      <th>2</th>\n",
       "      <td>0.782067</td>\n",
       "      <td>0.336075</td>\n",
       "      <td>0.056018</td>\n",
       "      <td>0.385471</td>\n",
       "    </tr>\n",
       "    <tr>\n",
       "      <th>3</th>\n",
       "      <td>0.856292</td>\n",
       "      <td>0.199365</td>\n",
       "      <td>0.887982</td>\n",
       "      <td>0.603141</td>\n",
       "    </tr>\n",
       "    <tr>\n",
       "      <th>4</th>\n",
       "      <td>0.195753</td>\n",
       "      <td>0.086213</td>\n",
       "      <td>0.609559</td>\n",
       "      <td>0.614695</td>\n",
       "    </tr>\n",
       "    <tr>\n",
       "      <th>...</th>\n",
       "      <td>...</td>\n",
       "      <td>...</td>\n",
       "      <td>...</td>\n",
       "      <td>...</td>\n",
       "    </tr>\n",
       "    <tr>\n",
       "      <th>329</th>\n",
       "      <td>0.421527</td>\n",
       "      <td>0.245387</td>\n",
       "      <td>0.501401</td>\n",
       "      <td>0.166734</td>\n",
       "    </tr>\n",
       "    <tr>\n",
       "      <th>330</th>\n",
       "      <td>0.355866</td>\n",
       "      <td>0.059750</td>\n",
       "      <td>0.809419</td>\n",
       "      <td>0.794719</td>\n",
       "    </tr>\n",
       "    <tr>\n",
       "      <th>331</th>\n",
       "      <td>0.853727</td>\n",
       "      <td>0.460087</td>\n",
       "      <td>0.969142</td>\n",
       "      <td>0.798868</td>\n",
       "    </tr>\n",
       "    <tr>\n",
       "      <th>332</th>\n",
       "      <td>0.904621</td>\n",
       "      <td>0.692795</td>\n",
       "      <td>0.223037</td>\n",
       "      <td>0.764387</td>\n",
       "    </tr>\n",
       "    <tr>\n",
       "      <th>333</th>\n",
       "      <td>0.670539</td>\n",
       "      <td>0.238090</td>\n",
       "      <td>0.137824</td>\n",
       "      <td>0.196973</td>\n",
       "    </tr>\n",
       "  </tbody>\n",
       "</table>\n",
       "<p>334 rows × 4 columns</p>\n",
       "</div>"
      ],
      "text/plain": [
       "              0         2         3         4\n",
       "0    654.000000  0.665448  0.823165  0.095214\n",
       "1      0.529679  0.244635  0.246286  0.801627\n",
       "2      0.782067  0.336075  0.056018  0.385471\n",
       "3      0.856292  0.199365  0.887982  0.603141\n",
       "4      0.195753  0.086213  0.609559  0.614695\n",
       "..          ...       ...       ...       ...\n",
       "329    0.421527  0.245387  0.501401  0.166734\n",
       "330    0.355866  0.059750  0.809419  0.794719\n",
       "331    0.853727  0.460087  0.969142  0.798868\n",
       "332    0.904621  0.692795  0.223037  0.764387\n",
       "333    0.670539  0.238090  0.137824  0.196973\n",
       "\n",
       "[334 rows x 4 columns]"
      ]
     },
     "execution_count": 34,
     "metadata": {},
     "output_type": "execute_result"
    }
   ],
   "source": [
    "newdata.reset_index(drop=True)"
   ]
  },
  {
   "cell_type": "code",
   "execution_count": 35,
   "id": "e5ba8958",
   "metadata": {},
   "outputs": [
    {
     "data": {
      "application/vnd.microsoft.datawrangler.viewer.v0+json": {
       "columns": [
        {
         "name": "index",
         "rawType": "int64",
         "type": "integer"
        },
        {
         "name": "0",
         "rawType": "float64",
         "type": "float"
        },
        {
         "name": "2",
         "rawType": "float64",
         "type": "float"
        },
        {
         "name": "3",
         "rawType": "float64",
         "type": "float"
        },
        {
         "name": "4",
         "rawType": "float64",
         "type": "float"
        }
       ],
       "ref": "12527b9a-73e3-4811-98a7-e131b7b8fba8",
       "rows": [
        [
         "0",
         "654.0",
         "0.6654478058376195",
         "0.8231651629968497",
         "0.09521448590014225"
        ],
        [
         "1",
         "0.5296788259810971",
         "0.2446351142032439",
         "0.24628591354087037",
         "0.8016272624830633"
        ],
        [
         "2",
         "0.7820667244531102",
         "0.33607538004479864",
         "0.05601769514151045",
         "0.3854714439120136"
        ],
        [
         "3",
         "0.8562915603273978",
         "0.19936517502086004",
         "0.887981874868886",
         "0.6031407455161603"
        ],
        [
         "4",
         "0.19575315799175497",
         "0.08621297177947784",
         "0.6095594675339207",
         "0.6146950230272517"
        ],
        [
         "5",
         "0.4587701259376935",
         "0.7592238939256974",
         "0.20029696449675338",
         "0.5010818383880239"
        ],
        [
         "6",
         "0.7174723075994731",
         "0.9714706689616114",
         "0.9419107218970313",
         "0.9428072527083258"
        ],
        [
         "7",
         "0.6900949936303603",
         "0.5069123876875542",
         "0.4174828388645355",
         "0.28721193439724"
        ],
        [
         "8",
         "0.09537618385860347",
         "0.7478349652494887",
         "0.8058022279196755",
         "0.05628825532508386"
        ],
        [
         "9",
         "0.8478164093079261",
         "0.07686905551974266",
         "0.7935897261437042",
         "0.6805866689403502"
        ],
        [
         "10",
         "0.40526342609643684",
         "0.9560645760136013",
         "0.663748697515427",
         "0.20054527061370653"
        ],
        [
         "11",
         "0.7792925010442079",
         "0.4672667178971326",
         "0.894999846554725",
         "0.9544391775429086"
        ],
        [
         "12",
         "0.6590759012705484",
         "0.8916921220673266",
         "0.8135405481497336",
         "0.3624039702314166"
        ],
        [
         "13",
         "0.8026501281234257",
         "0.16524323762736082",
         "0.670580488538254",
         "0.2932358231406871"
        ],
        [
         "14",
         "0.19880307139305808",
         "0.6180925050357097",
         "0.7380754383238413",
         "0.7665167775448181"
        ],
        [
         "15",
         "0.825440450349937",
         "0.750435670645148",
         "0.4318176386072978",
         "0.30498436978625254"
        ],
        [
         "16",
         "0.5548478157195837",
         "0.30169328010438556",
         "0.5941993499638986",
         "0.28668628433143395"
        ],
        [
         "17",
         "0.44054246908053274",
         "0.4239235622339057",
         "0.19318614670608003",
         "0.9771012273452394"
        ],
        [
         "18",
         "0.9183846110269911",
         "0.20546866726642976",
         "0.599220886027621",
         "0.43428946008244584"
        ],
        [
         "19",
         "0.49726030726310333",
         "0.432125175968883",
         "0.38722472123522433",
         "0.6845632655230067"
        ],
        [
         "20",
         "0.3321113185954242",
         "0.4172104578288327",
         "0.37803537742911375",
         "0.2129558228877414"
        ],
        [
         "21",
         "0.9599313032409883",
         "0.6678150035116762",
         "0.2651091519174571",
         "0.6047549252183171"
        ],
        [
         "22",
         "0.20887003763883472",
         "0.6867031525385198",
         "0.3707145528355692",
         "0.04151670477030811"
        ],
        [
         "23",
         "0.5740579863041497",
         "0.42730449152867667",
         "0.37918482227854167",
         "0.21740185191095296"
        ],
        [
         "24",
         "0.44605874931331035",
         "0.6118031099946017",
         "0.07528324027653566",
         "0.8234266356478469"
        ],
        [
         "25",
         "0.3140173171714691",
         "0.13844199912832578",
         "0.040493667810968414",
         "0.7828096636963873"
        ],
        [
         "26",
         "0.15959625550488843",
         "0.21432131456154113",
         "0.833850887485523",
         "0.34820986051141745"
        ],
        [
         "27",
         "0.47127017916240177",
         "0.6269464750289212",
         "0.5670567135656432",
         "0.8831792603857209"
        ],
        [
         "28",
         "0.033385772165687055",
         "0.4364133087221156",
         "0.3895033789533804",
         "0.6324293785801236"
        ],
        [
         "29",
         "0.5586356227135842",
         "0.9932500755423068",
         "0.38133206962343213",
         "0.6558055634494316"
        ],
        [
         "30",
         "0.4536896025367989",
         "0.09121703751806232",
         "0.9380273888269632",
         "0.7696559747522995"
        ],
        [
         "31",
         "0.9379404054385372",
         "0.7102560039264536",
         "0.06942301912577808",
         "0.46655533099572244"
        ],
        [
         "32",
         "0.13926726963418845",
         "0.6718993205229378",
         "0.7246328352526499",
         "0.42882204271310365"
        ],
        [
         "33",
         "0.21856158311152662",
         "0.2661570121384035",
         "0.585140858877476",
         "0.730408523692049"
        ],
        [
         "34",
         "0.8819205786413018",
         "0.13377373202266263",
         "0.14753664669973066",
         "0.099528198151141"
        ],
        [
         "35",
         "0.5007892866047547",
         "0.5180510492817234",
         "0.3917887089500124",
         "0.7804003273525997"
        ],
        [
         "36",
         "0.598105316770158",
         "0.6329089860976024",
         "0.14570996216551557",
         "0.024277234806345915"
        ],
        [
         "37",
         "0.2190051068639708",
         "0.24815177668191069",
         "0.6785306275034912",
         "0.5535459774877217"
        ],
        [
         "38",
         "0.44356757296494775",
         "0.7287941352033387",
         "0.18445999665343826",
         "0.7423856539699849"
        ],
        [
         "39",
         "0.2639918743255272",
         "0.635373723448647",
         "0.753945776869843",
         "0.1525273927734293"
        ],
        [
         "40",
         "0.8083195126899793",
         "0.3223660648370986",
         "0.46149775397025206",
         "0.2807581891739951"
        ],
        [
         "41",
         "0.4763204685544913",
         "0.4896017708000976",
         "0.03484739359289468",
         "0.7955289904869799"
        ],
        [
         "42",
         "0.5967393141500379",
         "0.3830004872150736",
         "0.7395215315405066",
         "0.21343142713833152"
        ],
        [
         "43",
         "0.6812060310497886",
         "0.6356818435929605",
         "0.6619103370749059",
         "0.8274591817289583"
        ],
        [
         "44",
         "0.6793368741392829",
         "0.6876268002156152",
         "0.16328232328984882",
         "0.14154618824426257"
        ],
        [
         "45",
         "0.16984286644986712",
         "0.265273293262805",
         "0.3630865386284291",
         "0.7324073221886642"
        ],
        [
         "46",
         "0.9676776895374501",
         "0.09296901010153369",
         "0.29416773581320166",
         "0.7978658453207218"
        ],
        [
         "47",
         "0.8491539105928244",
         "0.4143571741027986",
         "0.47504488122738764",
         "0.8418018396829575"
        ],
        [
         "48",
         "0.16217113101200054",
         "0.5416644157157587",
         "0.9988494027665071",
         "0.9436336687419852"
        ],
        [
         "49",
         "0.7595402939124548",
         "0.85598617717588",
         "0.8919402392664912",
         "0.42295079432326155"
        ]
       ],
       "shape": {
        "columns": 4,
        "rows": 334
       }
      },
      "text/html": [
       "<div>\n",
       "<style scoped>\n",
       "    .dataframe tbody tr th:only-of-type {\n",
       "        vertical-align: middle;\n",
       "    }\n",
       "\n",
       "    .dataframe tbody tr th {\n",
       "        vertical-align: top;\n",
       "    }\n",
       "\n",
       "    .dataframe thead th {\n",
       "        text-align: right;\n",
       "    }\n",
       "</style>\n",
       "<table border=\"1\" class=\"dataframe\">\n",
       "  <thead>\n",
       "    <tr style=\"text-align: right;\">\n",
       "      <th></th>\n",
       "      <th>0</th>\n",
       "      <th>2</th>\n",
       "      <th>3</th>\n",
       "      <th>4</th>\n",
       "    </tr>\n",
       "  </thead>\n",
       "  <tbody>\n",
       "    <tr>\n",
       "      <th>0</th>\n",
       "      <td>654.000000</td>\n",
       "      <td>0.665448</td>\n",
       "      <td>0.823165</td>\n",
       "      <td>0.095214</td>\n",
       "    </tr>\n",
       "    <tr>\n",
       "      <th>1</th>\n",
       "      <td>0.529679</td>\n",
       "      <td>0.244635</td>\n",
       "      <td>0.246286</td>\n",
       "      <td>0.801627</td>\n",
       "    </tr>\n",
       "    <tr>\n",
       "      <th>2</th>\n",
       "      <td>0.782067</td>\n",
       "      <td>0.336075</td>\n",
       "      <td>0.056018</td>\n",
       "      <td>0.385471</td>\n",
       "    </tr>\n",
       "    <tr>\n",
       "      <th>3</th>\n",
       "      <td>0.856292</td>\n",
       "      <td>0.199365</td>\n",
       "      <td>0.887982</td>\n",
       "      <td>0.603141</td>\n",
       "    </tr>\n",
       "    <tr>\n",
       "      <th>4</th>\n",
       "      <td>0.195753</td>\n",
       "      <td>0.086213</td>\n",
       "      <td>0.609559</td>\n",
       "      <td>0.614695</td>\n",
       "    </tr>\n",
       "    <tr>\n",
       "      <th>...</th>\n",
       "      <td>...</td>\n",
       "      <td>...</td>\n",
       "      <td>...</td>\n",
       "      <td>...</td>\n",
       "    </tr>\n",
       "    <tr>\n",
       "      <th>329</th>\n",
       "      <td>0.421527</td>\n",
       "      <td>0.245387</td>\n",
       "      <td>0.501401</td>\n",
       "      <td>0.166734</td>\n",
       "    </tr>\n",
       "    <tr>\n",
       "      <th>330</th>\n",
       "      <td>0.355866</td>\n",
       "      <td>0.059750</td>\n",
       "      <td>0.809419</td>\n",
       "      <td>0.794719</td>\n",
       "    </tr>\n",
       "    <tr>\n",
       "      <th>331</th>\n",
       "      <td>0.853727</td>\n",
       "      <td>0.460087</td>\n",
       "      <td>0.969142</td>\n",
       "      <td>0.798868</td>\n",
       "    </tr>\n",
       "    <tr>\n",
       "      <th>332</th>\n",
       "      <td>0.904621</td>\n",
       "      <td>0.692795</td>\n",
       "      <td>0.223037</td>\n",
       "      <td>0.764387</td>\n",
       "    </tr>\n",
       "    <tr>\n",
       "      <th>333</th>\n",
       "      <td>0.670539</td>\n",
       "      <td>0.238090</td>\n",
       "      <td>0.137824</td>\n",
       "      <td>0.196973</td>\n",
       "    </tr>\n",
       "  </tbody>\n",
       "</table>\n",
       "<p>334 rows × 4 columns</p>\n",
       "</div>"
      ],
      "text/plain": [
       "              0         2         3         4\n",
       "0    654.000000  0.665448  0.823165  0.095214\n",
       "1      0.529679  0.244635  0.246286  0.801627\n",
       "2      0.782067  0.336075  0.056018  0.385471\n",
       "3      0.856292  0.199365  0.887982  0.603141\n",
       "4      0.195753  0.086213  0.609559  0.614695\n",
       "..          ...       ...       ...       ...\n",
       "329    0.421527  0.245387  0.501401  0.166734\n",
       "330    0.355866  0.059750  0.809419  0.794719\n",
       "331    0.853727  0.460087  0.969142  0.798868\n",
       "332    0.904621  0.692795  0.223037  0.764387\n",
       "333    0.670539  0.238090  0.137824  0.196973\n",
       "\n",
       "[334 rows x 4 columns]"
      ]
     },
     "execution_count": 35,
     "metadata": {},
     "output_type": "execute_result"
    }
   ],
   "source": [
    "newdata.dropna()"
   ]
  },
  {
   "cell_type": "code",
   "execution_count": 36,
   "id": "6fafe99e",
   "metadata": {},
   "outputs": [
    {
     "data": {
      "application/vnd.microsoft.datawrangler.viewer.v0+json": {
       "columns": [
        {
         "name": "index",
         "rawType": "int64",
         "type": "integer"
        },
        {
         "name": "3",
         "rawType": "bool",
         "type": "boolean"
        }
       ],
       "ref": "b93beea1-30cf-4c18-9374-40ba8c0acd27",
       "rows": [
        [
         "0",
         "False"
        ],
        [
         "1",
         "False"
        ],
        [
         "2",
         "False"
        ],
        [
         "3",
         "False"
        ],
        [
         "4",
         "False"
        ],
        [
         "5",
         "False"
        ],
        [
         "6",
         "False"
        ],
        [
         "7",
         "False"
        ],
        [
         "8",
         "False"
        ],
        [
         "9",
         "False"
        ],
        [
         "10",
         "False"
        ],
        [
         "11",
         "False"
        ],
        [
         "12",
         "False"
        ],
        [
         "13",
         "False"
        ],
        [
         "14",
         "False"
        ],
        [
         "15",
         "False"
        ],
        [
         "16",
         "False"
        ],
        [
         "17",
         "False"
        ],
        [
         "18",
         "False"
        ],
        [
         "19",
         "False"
        ],
        [
         "20",
         "False"
        ],
        [
         "21",
         "False"
        ],
        [
         "22",
         "False"
        ],
        [
         "23",
         "False"
        ],
        [
         "24",
         "False"
        ],
        [
         "25",
         "False"
        ],
        [
         "26",
         "False"
        ],
        [
         "27",
         "False"
        ],
        [
         "28",
         "False"
        ],
        [
         "29",
         "False"
        ],
        [
         "30",
         "False"
        ],
        [
         "31",
         "False"
        ],
        [
         "32",
         "False"
        ],
        [
         "33",
         "False"
        ],
        [
         "34",
         "False"
        ],
        [
         "35",
         "False"
        ],
        [
         "36",
         "False"
        ],
        [
         "37",
         "False"
        ],
        [
         "38",
         "False"
        ],
        [
         "39",
         "False"
        ],
        [
         "40",
         "False"
        ],
        [
         "41",
         "False"
        ],
        [
         "42",
         "False"
        ],
        [
         "43",
         "False"
        ],
        [
         "44",
         "False"
        ],
        [
         "45",
         "False"
        ],
        [
         "46",
         "False"
        ],
        [
         "47",
         "False"
        ],
        [
         "48",
         "False"
        ],
        [
         "49",
         "False"
        ]
       ],
       "shape": {
        "columns": 1,
        "rows": 334
       }
      },
      "text/plain": [
       "0      False\n",
       "1      False\n",
       "2      False\n",
       "3      False\n",
       "4      False\n",
       "       ...  \n",
       "329    False\n",
       "330    False\n",
       "331    False\n",
       "332    False\n",
       "333    False\n",
       "Name: 3, Length: 334, dtype: bool"
      ]
     },
     "execution_count": 36,
     "metadata": {},
     "output_type": "execute_result"
    }
   ],
   "source": [
    "newdata[3].isnull()"
   ]
  },
  {
   "cell_type": "code",
   "execution_count": 37,
   "id": "fa6c6508",
   "metadata": {},
   "outputs": [
    {
     "data": {
      "application/vnd.microsoft.datawrangler.viewer.v0+json": {
       "columns": [
        {
         "name": "index",
         "rawType": "int64",
         "type": "integer"
        },
        {
         "name": "0",
         "rawType": "float64",
         "type": "float"
        },
        {
         "name": "2",
         "rawType": "float64",
         "type": "float"
        },
        {
         "name": "3",
         "rawType": "float64",
         "type": "float"
        },
        {
         "name": "4",
         "rawType": "float64",
         "type": "float"
        }
       ],
       "ref": "8947d53a-5622-424c-83cc-9d0d5f4cfab0",
       "rows": [
        [
         "0",
         "654.0",
         "0.6654478058376195",
         "0.8231651629968497",
         "0.09521448590014225"
        ],
        [
         "1",
         "0.5296788259810971",
         "0.2446351142032439",
         "0.24628591354087037",
         "0.8016272624830633"
        ],
        [
         "2",
         null,
         null,
         null,
         null
        ],
        [
         "3",
         "0.8562915603273978",
         "0.19936517502086004",
         "0.887981874868886",
         "0.6031407455161603"
        ],
        [
         "4",
         "0.19575315799175497",
         "0.08621297177947784",
         "0.6095594675339207",
         "0.6146950230272517"
        ],
        [
         "5",
         "0.4587701259376935",
         "0.7592238939256974",
         "0.20029696449675338",
         "0.5010818383880239"
        ],
        [
         "6",
         "0.7174723075994731",
         "0.9714706689616114",
         "0.9419107218970313",
         "0.9428072527083258"
        ],
        [
         "7",
         "0.6900949936303603",
         "0.5069123876875542",
         "0.4174828388645355",
         "0.28721193439724"
        ],
        [
         "8",
         "0.09537618385860347",
         "0.7478349652494887",
         "0.8058022279196755",
         "0.05628825532508386"
        ],
        [
         "9",
         "0.8478164093079261",
         "0.07686905551974266",
         "0.7935897261437042",
         "0.6805866689403502"
        ],
        [
         "10",
         "0.40526342609643684",
         "0.9560645760136013",
         "0.663748697515427",
         "0.20054527061370653"
        ],
        [
         "11",
         "0.7792925010442079",
         "0.4672667178971326",
         "0.894999846554725",
         "0.9544391775429086"
        ],
        [
         "12",
         "0.6590759012705484",
         "0.8916921220673266",
         "0.8135405481497336",
         "0.3624039702314166"
        ],
        [
         "13",
         "0.8026501281234257",
         "0.16524323762736082",
         "0.670580488538254",
         "0.2932358231406871"
        ],
        [
         "14",
         "0.19880307139305808",
         "0.6180925050357097",
         "0.7380754383238413",
         "0.7665167775448181"
        ],
        [
         "15",
         "0.825440450349937",
         "0.750435670645148",
         "0.4318176386072978",
         "0.30498436978625254"
        ],
        [
         "16",
         "0.5548478157195837",
         "0.30169328010438556",
         "0.5941993499638986",
         "0.28668628433143395"
        ],
        [
         "17",
         "0.44054246908053274",
         "0.4239235622339057",
         "0.19318614670608003",
         "0.9771012273452394"
        ],
        [
         "18",
         "0.9183846110269911",
         "0.20546866726642976",
         "0.599220886027621",
         "0.43428946008244584"
        ],
        [
         "19",
         "0.49726030726310333",
         "0.432125175968883",
         "0.38722472123522433",
         "0.6845632655230067"
        ],
        [
         "20",
         "0.3321113185954242",
         "0.4172104578288327",
         "0.37803537742911375",
         "0.2129558228877414"
        ],
        [
         "21",
         "0.9599313032409883",
         "0.6678150035116762",
         "0.2651091519174571",
         "0.6047549252183171"
        ],
        [
         "22",
         "0.20887003763883472",
         "0.6867031525385198",
         "0.3707145528355692",
         "0.04151670477030811"
        ],
        [
         "23",
         "0.5740579863041497",
         "0.42730449152867667",
         "0.37918482227854167",
         "0.21740185191095296"
        ],
        [
         "24",
         "0.44605874931331035",
         "0.6118031099946017",
         "0.07528324027653566",
         "0.8234266356478469"
        ],
        [
         "25",
         "0.3140173171714691",
         "0.13844199912832578",
         "0.040493667810968414",
         "0.7828096636963873"
        ],
        [
         "26",
         "0.15959625550488843",
         "0.21432131456154113",
         "0.833850887485523",
         "0.34820986051141745"
        ],
        [
         "27",
         "0.47127017916240177",
         "0.6269464750289212",
         "0.5670567135656432",
         "0.8831792603857209"
        ],
        [
         "28",
         "0.033385772165687055",
         "0.4364133087221156",
         "0.3895033789533804",
         "0.6324293785801236"
        ],
        [
         "29",
         "0.5586356227135842",
         "0.9932500755423068",
         "0.38133206962343213",
         "0.6558055634494316"
        ],
        [
         "30",
         "0.4536896025367989",
         "0.09121703751806232",
         "0.9380273888269632",
         "0.7696559747522995"
        ],
        [
         "31",
         "0.9379404054385372",
         "0.7102560039264536",
         "0.06942301912577808",
         "0.46655533099572244"
        ],
        [
         "32",
         "0.13926726963418845",
         "0.6718993205229378",
         "0.7246328352526499",
         "0.42882204271310365"
        ],
        [
         "33",
         "0.21856158311152662",
         "0.2661570121384035",
         "0.585140858877476",
         "0.730408523692049"
        ],
        [
         "34",
         "0.8819205786413018",
         "0.13377373202266263",
         "0.14753664669973066",
         "0.099528198151141"
        ],
        [
         "35",
         "0.5007892866047547",
         "0.5180510492817234",
         "0.3917887089500124",
         "0.7804003273525997"
        ],
        [
         "36",
         "0.598105316770158",
         "0.6329089860976024",
         "0.14570996216551557",
         "0.024277234806345915"
        ],
        [
         "37",
         "0.2190051068639708",
         "0.24815177668191069",
         "0.6785306275034912",
         "0.5535459774877217"
        ],
        [
         "38",
         "0.44356757296494775",
         "0.7287941352033387",
         "0.18445999665343826",
         "0.7423856539699849"
        ],
        [
         "39",
         "0.2639918743255272",
         "0.635373723448647",
         "0.753945776869843",
         "0.1525273927734293"
        ],
        [
         "40",
         "0.8083195126899793",
         "0.3223660648370986",
         "0.46149775397025206",
         "0.2807581891739951"
        ],
        [
         "41",
         "0.4763204685544913",
         "0.4896017708000976",
         "0.03484739359289468",
         "0.7955289904869799"
        ],
        [
         "42",
         "0.5967393141500379",
         "0.3830004872150736",
         "0.7395215315405066",
         "0.21343142713833152"
        ],
        [
         "43",
         "0.6812060310497886",
         "0.6356818435929605",
         "0.6619103370749059",
         "0.8274591817289583"
        ],
        [
         "44",
         "0.6793368741392829",
         "0.6876268002156152",
         "0.16328232328984882",
         "0.14154618824426257"
        ],
        [
         "45",
         "0.16984286644986712",
         "0.265273293262805",
         "0.3630865386284291",
         "0.7324073221886642"
        ],
        [
         "46",
         "0.9676776895374501",
         "0.09296901010153369",
         "0.29416773581320166",
         "0.7978658453207218"
        ],
        [
         "47",
         "0.8491539105928244",
         "0.4143571741027986",
         "0.47504488122738764",
         "0.8418018396829575"
        ],
        [
         "48",
         "0.16217113101200054",
         "0.5416644157157587",
         "0.9988494027665071",
         "0.9436336687419852"
        ],
        [
         "49",
         "0.7595402939124548",
         "0.85598617717588",
         "0.8919402392664912",
         "0.42295079432326155"
        ]
       ],
       "shape": {
        "columns": 4,
        "rows": 334
       }
      },
      "text/html": [
       "<div>\n",
       "<style scoped>\n",
       "    .dataframe tbody tr th:only-of-type {\n",
       "        vertical-align: middle;\n",
       "    }\n",
       "\n",
       "    .dataframe tbody tr th {\n",
       "        vertical-align: top;\n",
       "    }\n",
       "\n",
       "    .dataframe thead th {\n",
       "        text-align: right;\n",
       "    }\n",
       "</style>\n",
       "<table border=\"1\" class=\"dataframe\">\n",
       "  <thead>\n",
       "    <tr style=\"text-align: right;\">\n",
       "      <th></th>\n",
       "      <th>0</th>\n",
       "      <th>2</th>\n",
       "      <th>3</th>\n",
       "      <th>4</th>\n",
       "    </tr>\n",
       "  </thead>\n",
       "  <tbody>\n",
       "    <tr>\n",
       "      <th>0</th>\n",
       "      <td>654.000000</td>\n",
       "      <td>0.665448</td>\n",
       "      <td>0.823165</td>\n",
       "      <td>0.095214</td>\n",
       "    </tr>\n",
       "    <tr>\n",
       "      <th>1</th>\n",
       "      <td>0.529679</td>\n",
       "      <td>0.244635</td>\n",
       "      <td>0.246286</td>\n",
       "      <td>0.801627</td>\n",
       "    </tr>\n",
       "    <tr>\n",
       "      <th>2</th>\n",
       "      <td>NaN</td>\n",
       "      <td>NaN</td>\n",
       "      <td>NaN</td>\n",
       "      <td>NaN</td>\n",
       "    </tr>\n",
       "    <tr>\n",
       "      <th>3</th>\n",
       "      <td>0.856292</td>\n",
       "      <td>0.199365</td>\n",
       "      <td>0.887982</td>\n",
       "      <td>0.603141</td>\n",
       "    </tr>\n",
       "    <tr>\n",
       "      <th>4</th>\n",
       "      <td>0.195753</td>\n",
       "      <td>0.086213</td>\n",
       "      <td>0.609559</td>\n",
       "      <td>0.614695</td>\n",
       "    </tr>\n",
       "    <tr>\n",
       "      <th>...</th>\n",
       "      <td>...</td>\n",
       "      <td>...</td>\n",
       "      <td>...</td>\n",
       "      <td>...</td>\n",
       "    </tr>\n",
       "    <tr>\n",
       "      <th>329</th>\n",
       "      <td>0.421527</td>\n",
       "      <td>0.245387</td>\n",
       "      <td>0.501401</td>\n",
       "      <td>0.166734</td>\n",
       "    </tr>\n",
       "    <tr>\n",
       "      <th>330</th>\n",
       "      <td>0.355866</td>\n",
       "      <td>0.059750</td>\n",
       "      <td>0.809419</td>\n",
       "      <td>0.794719</td>\n",
       "    </tr>\n",
       "    <tr>\n",
       "      <th>331</th>\n",
       "      <td>0.853727</td>\n",
       "      <td>0.460087</td>\n",
       "      <td>0.969142</td>\n",
       "      <td>0.798868</td>\n",
       "    </tr>\n",
       "    <tr>\n",
       "      <th>332</th>\n",
       "      <td>0.904621</td>\n",
       "      <td>0.692795</td>\n",
       "      <td>0.223037</td>\n",
       "      <td>0.764387</td>\n",
       "    </tr>\n",
       "    <tr>\n",
       "      <th>333</th>\n",
       "      <td>0.670539</td>\n",
       "      <td>0.238090</td>\n",
       "      <td>0.137824</td>\n",
       "      <td>0.196973</td>\n",
       "    </tr>\n",
       "  </tbody>\n",
       "</table>\n",
       "<p>334 rows × 4 columns</p>\n",
       "</div>"
      ],
      "text/plain": [
       "              0         2         3         4\n",
       "0    654.000000  0.665448  0.823165  0.095214\n",
       "1      0.529679  0.244635  0.246286  0.801627\n",
       "2           NaN       NaN       NaN       NaN\n",
       "3      0.856292  0.199365  0.887982  0.603141\n",
       "4      0.195753  0.086213  0.609559  0.614695\n",
       "..          ...       ...       ...       ...\n",
       "329    0.421527  0.245387  0.501401  0.166734\n",
       "330    0.355866  0.059750  0.809419  0.794719\n",
       "331    0.853727  0.460087  0.969142  0.798868\n",
       "332    0.904621  0.692795  0.223037  0.764387\n",
       "333    0.670539  0.238090  0.137824  0.196973\n",
       "\n",
       "[334 rows x 4 columns]"
      ]
     },
     "execution_count": 37,
     "metadata": {},
     "output_type": "execute_result"
    }
   ],
   "source": [
    "newdata.loc[[2]] = None          \n",
    "newdata"
   ]
  },
  {
   "cell_type": "code",
   "execution_count": 38,
   "id": "d03a4d08",
   "metadata": {},
   "outputs": [
    {
     "data": {
      "application/vnd.microsoft.datawrangler.viewer.v0+json": {
       "columns": [
        {
         "name": "index",
         "rawType": "int64",
         "type": "integer"
        },
        {
         "name": "0",
         "rawType": "float64",
         "type": "float"
        },
        {
         "name": "2",
         "rawType": "float64",
         "type": "float"
        },
        {
         "name": "3",
         "rawType": "float64",
         "type": "float"
        },
        {
         "name": "4",
         "rawType": "float64",
         "type": "float"
        }
       ],
       "ref": "80aa0ec1-4c5a-418d-af84-b9686ed96c6a",
       "rows": [
        [
         "0",
         "654.0",
         "0.6654478058376195",
         "0.8231651629968497",
         "0.09521448590014225"
        ],
        [
         "1",
         "0.5296788259810971",
         "0.2446351142032439",
         "0.24628591354087037",
         "0.8016272624830633"
        ],
        [
         "3",
         "0.8562915603273978",
         "0.19936517502086004",
         "0.887981874868886",
         "0.6031407455161603"
        ],
        [
         "4",
         "0.19575315799175497",
         "0.08621297177947784",
         "0.6095594675339207",
         "0.6146950230272517"
        ],
        [
         "5",
         "0.4587701259376935",
         "0.7592238939256974",
         "0.20029696449675338",
         "0.5010818383880239"
        ],
        [
         "6",
         "0.7174723075994731",
         "0.9714706689616114",
         "0.9419107218970313",
         "0.9428072527083258"
        ],
        [
         "7",
         "0.6900949936303603",
         "0.5069123876875542",
         "0.4174828388645355",
         "0.28721193439724"
        ],
        [
         "8",
         "0.09537618385860347",
         "0.7478349652494887",
         "0.8058022279196755",
         "0.05628825532508386"
        ],
        [
         "9",
         "0.8478164093079261",
         "0.07686905551974266",
         "0.7935897261437042",
         "0.6805866689403502"
        ],
        [
         "10",
         "0.40526342609643684",
         "0.9560645760136013",
         "0.663748697515427",
         "0.20054527061370653"
        ],
        [
         "11",
         "0.7792925010442079",
         "0.4672667178971326",
         "0.894999846554725",
         "0.9544391775429086"
        ],
        [
         "12",
         "0.6590759012705484",
         "0.8916921220673266",
         "0.8135405481497336",
         "0.3624039702314166"
        ],
        [
         "13",
         "0.8026501281234257",
         "0.16524323762736082",
         "0.670580488538254",
         "0.2932358231406871"
        ],
        [
         "14",
         "0.19880307139305808",
         "0.6180925050357097",
         "0.7380754383238413",
         "0.7665167775448181"
        ],
        [
         "15",
         "0.825440450349937",
         "0.750435670645148",
         "0.4318176386072978",
         "0.30498436978625254"
        ],
        [
         "16",
         "0.5548478157195837",
         "0.30169328010438556",
         "0.5941993499638986",
         "0.28668628433143395"
        ],
        [
         "17",
         "0.44054246908053274",
         "0.4239235622339057",
         "0.19318614670608003",
         "0.9771012273452394"
        ],
        [
         "18",
         "0.9183846110269911",
         "0.20546866726642976",
         "0.599220886027621",
         "0.43428946008244584"
        ],
        [
         "19",
         "0.49726030726310333",
         "0.432125175968883",
         "0.38722472123522433",
         "0.6845632655230067"
        ],
        [
         "20",
         "0.3321113185954242",
         "0.4172104578288327",
         "0.37803537742911375",
         "0.2129558228877414"
        ],
        [
         "21",
         "0.9599313032409883",
         "0.6678150035116762",
         "0.2651091519174571",
         "0.6047549252183171"
        ],
        [
         "22",
         "0.20887003763883472",
         "0.6867031525385198",
         "0.3707145528355692",
         "0.04151670477030811"
        ],
        [
         "23",
         "0.5740579863041497",
         "0.42730449152867667",
         "0.37918482227854167",
         "0.21740185191095296"
        ],
        [
         "24",
         "0.44605874931331035",
         "0.6118031099946017",
         "0.07528324027653566",
         "0.8234266356478469"
        ],
        [
         "25",
         "0.3140173171714691",
         "0.13844199912832578",
         "0.040493667810968414",
         "0.7828096636963873"
        ],
        [
         "26",
         "0.15959625550488843",
         "0.21432131456154113",
         "0.833850887485523",
         "0.34820986051141745"
        ],
        [
         "27",
         "0.47127017916240177",
         "0.6269464750289212",
         "0.5670567135656432",
         "0.8831792603857209"
        ],
        [
         "28",
         "0.033385772165687055",
         "0.4364133087221156",
         "0.3895033789533804",
         "0.6324293785801236"
        ],
        [
         "29",
         "0.5586356227135842",
         "0.9932500755423068",
         "0.38133206962343213",
         "0.6558055634494316"
        ],
        [
         "30",
         "0.4536896025367989",
         "0.09121703751806232",
         "0.9380273888269632",
         "0.7696559747522995"
        ],
        [
         "31",
         "0.9379404054385372",
         "0.7102560039264536",
         "0.06942301912577808",
         "0.46655533099572244"
        ],
        [
         "32",
         "0.13926726963418845",
         "0.6718993205229378",
         "0.7246328352526499",
         "0.42882204271310365"
        ],
        [
         "33",
         "0.21856158311152662",
         "0.2661570121384035",
         "0.585140858877476",
         "0.730408523692049"
        ],
        [
         "34",
         "0.8819205786413018",
         "0.13377373202266263",
         "0.14753664669973066",
         "0.099528198151141"
        ],
        [
         "35",
         "0.5007892866047547",
         "0.5180510492817234",
         "0.3917887089500124",
         "0.7804003273525997"
        ],
        [
         "36",
         "0.598105316770158",
         "0.6329089860976024",
         "0.14570996216551557",
         "0.024277234806345915"
        ],
        [
         "37",
         "0.2190051068639708",
         "0.24815177668191069",
         "0.6785306275034912",
         "0.5535459774877217"
        ],
        [
         "38",
         "0.44356757296494775",
         "0.7287941352033387",
         "0.18445999665343826",
         "0.7423856539699849"
        ],
        [
         "39",
         "0.2639918743255272",
         "0.635373723448647",
         "0.753945776869843",
         "0.1525273927734293"
        ],
        [
         "40",
         "0.8083195126899793",
         "0.3223660648370986",
         "0.46149775397025206",
         "0.2807581891739951"
        ],
        [
         "41",
         "0.4763204685544913",
         "0.4896017708000976",
         "0.03484739359289468",
         "0.7955289904869799"
        ],
        [
         "42",
         "0.5967393141500379",
         "0.3830004872150736",
         "0.7395215315405066",
         "0.21343142713833152"
        ],
        [
         "43",
         "0.6812060310497886",
         "0.6356818435929605",
         "0.6619103370749059",
         "0.8274591817289583"
        ],
        [
         "44",
         "0.6793368741392829",
         "0.6876268002156152",
         "0.16328232328984882",
         "0.14154618824426257"
        ],
        [
         "45",
         "0.16984286644986712",
         "0.265273293262805",
         "0.3630865386284291",
         "0.7324073221886642"
        ],
        [
         "46",
         "0.9676776895374501",
         "0.09296901010153369",
         "0.29416773581320166",
         "0.7978658453207218"
        ],
        [
         "47",
         "0.8491539105928244",
         "0.4143571741027986",
         "0.47504488122738764",
         "0.8418018396829575"
        ],
        [
         "48",
         "0.16217113101200054",
         "0.5416644157157587",
         "0.9988494027665071",
         "0.9436336687419852"
        ],
        [
         "49",
         "0.7595402939124548",
         "0.85598617717588",
         "0.8919402392664912",
         "0.42295079432326155"
        ],
        [
         "50",
         "0.7447378708187429",
         "0.6813609151009316",
         "0.8794904385130553",
         "0.7226154062121306"
        ]
       ],
       "shape": {
        "columns": 4,
        "rows": 333
       }
      },
      "text/html": [
       "<div>\n",
       "<style scoped>\n",
       "    .dataframe tbody tr th:only-of-type {\n",
       "        vertical-align: middle;\n",
       "    }\n",
       "\n",
       "    .dataframe tbody tr th {\n",
       "        vertical-align: top;\n",
       "    }\n",
       "\n",
       "    .dataframe thead th {\n",
       "        text-align: right;\n",
       "    }\n",
       "</style>\n",
       "<table border=\"1\" class=\"dataframe\">\n",
       "  <thead>\n",
       "    <tr style=\"text-align: right;\">\n",
       "      <th></th>\n",
       "      <th>0</th>\n",
       "      <th>2</th>\n",
       "      <th>3</th>\n",
       "      <th>4</th>\n",
       "    </tr>\n",
       "  </thead>\n",
       "  <tbody>\n",
       "    <tr>\n",
       "      <th>0</th>\n",
       "      <td>654.000000</td>\n",
       "      <td>0.665448</td>\n",
       "      <td>0.823165</td>\n",
       "      <td>0.095214</td>\n",
       "    </tr>\n",
       "    <tr>\n",
       "      <th>1</th>\n",
       "      <td>0.529679</td>\n",
       "      <td>0.244635</td>\n",
       "      <td>0.246286</td>\n",
       "      <td>0.801627</td>\n",
       "    </tr>\n",
       "    <tr>\n",
       "      <th>3</th>\n",
       "      <td>0.856292</td>\n",
       "      <td>0.199365</td>\n",
       "      <td>0.887982</td>\n",
       "      <td>0.603141</td>\n",
       "    </tr>\n",
       "    <tr>\n",
       "      <th>4</th>\n",
       "      <td>0.195753</td>\n",
       "      <td>0.086213</td>\n",
       "      <td>0.609559</td>\n",
       "      <td>0.614695</td>\n",
       "    </tr>\n",
       "    <tr>\n",
       "      <th>5</th>\n",
       "      <td>0.458770</td>\n",
       "      <td>0.759224</td>\n",
       "      <td>0.200297</td>\n",
       "      <td>0.501082</td>\n",
       "    </tr>\n",
       "    <tr>\n",
       "      <th>...</th>\n",
       "      <td>...</td>\n",
       "      <td>...</td>\n",
       "      <td>...</td>\n",
       "      <td>...</td>\n",
       "    </tr>\n",
       "    <tr>\n",
       "      <th>329</th>\n",
       "      <td>0.421527</td>\n",
       "      <td>0.245387</td>\n",
       "      <td>0.501401</td>\n",
       "      <td>0.166734</td>\n",
       "    </tr>\n",
       "    <tr>\n",
       "      <th>330</th>\n",
       "      <td>0.355866</td>\n",
       "      <td>0.059750</td>\n",
       "      <td>0.809419</td>\n",
       "      <td>0.794719</td>\n",
       "    </tr>\n",
       "    <tr>\n",
       "      <th>331</th>\n",
       "      <td>0.853727</td>\n",
       "      <td>0.460087</td>\n",
       "      <td>0.969142</td>\n",
       "      <td>0.798868</td>\n",
       "    </tr>\n",
       "    <tr>\n",
       "      <th>332</th>\n",
       "      <td>0.904621</td>\n",
       "      <td>0.692795</td>\n",
       "      <td>0.223037</td>\n",
       "      <td>0.764387</td>\n",
       "    </tr>\n",
       "    <tr>\n",
       "      <th>333</th>\n",
       "      <td>0.670539</td>\n",
       "      <td>0.238090</td>\n",
       "      <td>0.137824</td>\n",
       "      <td>0.196973</td>\n",
       "    </tr>\n",
       "  </tbody>\n",
       "</table>\n",
       "<p>333 rows × 4 columns</p>\n",
       "</div>"
      ],
      "text/plain": [
       "              0         2         3         4\n",
       "0    654.000000  0.665448  0.823165  0.095214\n",
       "1      0.529679  0.244635  0.246286  0.801627\n",
       "3      0.856292  0.199365  0.887982  0.603141\n",
       "4      0.195753  0.086213  0.609559  0.614695\n",
       "5      0.458770  0.759224  0.200297  0.501082\n",
       "..          ...       ...       ...       ...\n",
       "329    0.421527  0.245387  0.501401  0.166734\n",
       "330    0.355866  0.059750  0.809419  0.794719\n",
       "331    0.853727  0.460087  0.969142  0.798868\n",
       "332    0.904621  0.692795  0.223037  0.764387\n",
       "333    0.670539  0.238090  0.137824  0.196973\n",
       "\n",
       "[333 rows x 4 columns]"
      ]
     },
     "execution_count": 38,
     "metadata": {},
     "output_type": "execute_result"
    }
   ],
   "source": [
    "newdata.dropna()"
   ]
  },
  {
   "cell_type": "code",
   "execution_count": 39,
   "id": "b4305b04",
   "metadata": {},
   "outputs": [],
   "source": [
    "newdata = pd.DataFrame({\n",
    "    \"name\":[\"Alfardo\",\"El Chapo\",\"El Mencho\"],\n",
    "    \"toy\":[\"Kalicartel\",\"Sinaloacartel\",np.nan],\n",
    "    \"from\":[\"Mexico\",\"Colombia\",\"Medellin\"]\n",
    "})"
   ]
  },
  {
   "cell_type": "code",
   "execution_count": 40,
   "id": "d0181035",
   "metadata": {},
   "outputs": [
    {
     "data": {
      "application/vnd.microsoft.datawrangler.viewer.v0+json": {
       "columns": [
        {
         "name": "index",
         "rawType": "int64",
         "type": "integer"
        },
        {
         "name": "name",
         "rawType": "object",
         "type": "string"
        },
        {
         "name": "toy",
         "rawType": "object",
         "type": "unknown"
        },
        {
         "name": "from",
         "rawType": "object",
         "type": "string"
        }
       ],
       "ref": "48d6a2ee-f9ec-4012-b67b-dccafae39ce2",
       "rows": [
        [
         "0",
         "Alfardo",
         "Kalicartel",
         "Mexico"
        ],
        [
         "1",
         "El Chapo",
         "Sinaloacartel",
         "Colombia"
        ],
        [
         "2",
         "El Mencho",
         null,
         "Medellin"
        ]
       ],
       "shape": {
        "columns": 3,
        "rows": 3
       }
      },
      "text/html": [
       "<div>\n",
       "<style scoped>\n",
       "    .dataframe tbody tr th:only-of-type {\n",
       "        vertical-align: middle;\n",
       "    }\n",
       "\n",
       "    .dataframe tbody tr th {\n",
       "        vertical-align: top;\n",
       "    }\n",
       "\n",
       "    .dataframe thead th {\n",
       "        text-align: right;\n",
       "    }\n",
       "</style>\n",
       "<table border=\"1\" class=\"dataframe\">\n",
       "  <thead>\n",
       "    <tr style=\"text-align: right;\">\n",
       "      <th></th>\n",
       "      <th>name</th>\n",
       "      <th>toy</th>\n",
       "      <th>from</th>\n",
       "    </tr>\n",
       "  </thead>\n",
       "  <tbody>\n",
       "    <tr>\n",
       "      <th>0</th>\n",
       "      <td>Alfardo</td>\n",
       "      <td>Kalicartel</td>\n",
       "      <td>Mexico</td>\n",
       "    </tr>\n",
       "    <tr>\n",
       "      <th>1</th>\n",
       "      <td>El Chapo</td>\n",
       "      <td>Sinaloacartel</td>\n",
       "      <td>Colombia</td>\n",
       "    </tr>\n",
       "    <tr>\n",
       "      <th>2</th>\n",
       "      <td>El Mencho</td>\n",
       "      <td>NaN</td>\n",
       "      <td>Medellin</td>\n",
       "    </tr>\n",
       "  </tbody>\n",
       "</table>\n",
       "</div>"
      ],
      "text/plain": [
       "        name            toy      from\n",
       "0    Alfardo     Kalicartel    Mexico\n",
       "1   El Chapo  Sinaloacartel  Colombia\n",
       "2  El Mencho            NaN  Medellin"
      ]
     },
     "execution_count": 40,
     "metadata": {},
     "output_type": "execute_result"
    }
   ],
   "source": [
    "newdata.head()"
   ]
  },
  {
   "cell_type": "code",
   "execution_count": 41,
   "id": "f5906e87",
   "metadata": {},
   "outputs": [
    {
     "data": {
      "application/vnd.microsoft.datawrangler.viewer.v0+json": {
       "columns": [
        {
         "name": "index",
         "rawType": "int64",
         "type": "integer"
        },
        {
         "name": "name",
         "rawType": "object",
         "type": "string"
        },
        {
         "name": "toy",
         "rawType": "object",
         "type": "unknown"
        },
        {
         "name": "from",
         "rawType": "object",
         "type": "string"
        }
       ],
       "ref": "73d574af-dcd6-43d9-9499-22192a9eefdb",
       "rows": [
        [
         "0",
         "Alfardo",
         "Kalicartel",
         "Mexico"
        ],
        [
         "1",
         "El Chapo",
         "Sinaloacartel",
         "Colombia"
        ],
        [
         "2",
         "El Mencho",
         null,
         "Medellin"
        ]
       ],
       "shape": {
        "columns": 3,
        "rows": 3
       }
      },
      "text/html": [
       "<div>\n",
       "<style scoped>\n",
       "    .dataframe tbody tr th:only-of-type {\n",
       "        vertical-align: middle;\n",
       "    }\n",
       "\n",
       "    .dataframe tbody tr th {\n",
       "        vertical-align: top;\n",
       "    }\n",
       "\n",
       "    .dataframe thead th {\n",
       "        text-align: right;\n",
       "    }\n",
       "</style>\n",
       "<table border=\"1\" class=\"dataframe\">\n",
       "  <thead>\n",
       "    <tr style=\"text-align: right;\">\n",
       "      <th></th>\n",
       "      <th>name</th>\n",
       "      <th>toy</th>\n",
       "      <th>from</th>\n",
       "    </tr>\n",
       "  </thead>\n",
       "  <tbody>\n",
       "    <tr>\n",
       "      <th>0</th>\n",
       "      <td>Alfardo</td>\n",
       "      <td>Kalicartel</td>\n",
       "      <td>Mexico</td>\n",
       "    </tr>\n",
       "    <tr>\n",
       "      <th>1</th>\n",
       "      <td>El Chapo</td>\n",
       "      <td>Sinaloacartel</td>\n",
       "      <td>Colombia</td>\n",
       "    </tr>\n",
       "    <tr>\n",
       "      <th>2</th>\n",
       "      <td>El Mencho</td>\n",
       "      <td>NaN</td>\n",
       "      <td>Medellin</td>\n",
       "    </tr>\n",
       "  </tbody>\n",
       "</table>\n",
       "</div>"
      ],
      "text/plain": [
       "        name            toy      from\n",
       "0    Alfardo     Kalicartel    Mexico\n",
       "1   El Chapo  Sinaloacartel  Colombia\n",
       "2  El Mencho            NaN  Medellin"
      ]
     },
     "execution_count": 41,
     "metadata": {},
     "output_type": "execute_result"
    }
   ],
   "source": [
    "newdata.dropna(how='all',axis=1)\n",
    "newdata"
   ]
  },
  {
   "cell_type": "code",
   "execution_count": 42,
   "id": "e8f3b261",
   "metadata": {},
   "outputs": [
    {
     "data": {
      "application/vnd.microsoft.datawrangler.viewer.v0+json": {
       "columns": [
        {
         "name": "index",
         "rawType": "int64",
         "type": "integer"
        },
        {
         "name": "name",
         "rawType": "object",
         "type": "string"
        },
        {
         "name": "toy",
         "rawType": "object",
         "type": "unknown"
        },
        {
         "name": "from",
         "rawType": "object",
         "type": "string"
        }
       ],
       "ref": "3232225d-0690-4b8e-92bf-38f874379426",
       "rows": [
        [
         "0",
         "Alfardo",
         "Kalicartel",
         "Mexico"
        ],
        [
         "1",
         "El Chapo",
         "Sinaloacartel",
         "Colombia"
        ],
        [
         "2",
         "El Mencho",
         null,
         "Medellin"
        ]
       ],
       "shape": {
        "columns": 3,
        "rows": 3
       }
      },
      "text/html": [
       "<div>\n",
       "<style scoped>\n",
       "    .dataframe tbody tr th:only-of-type {\n",
       "        vertical-align: middle;\n",
       "    }\n",
       "\n",
       "    .dataframe tbody tr th {\n",
       "        vertical-align: top;\n",
       "    }\n",
       "\n",
       "    .dataframe thead th {\n",
       "        text-align: right;\n",
       "    }\n",
       "</style>\n",
       "<table border=\"1\" class=\"dataframe\">\n",
       "  <thead>\n",
       "    <tr style=\"text-align: right;\">\n",
       "      <th></th>\n",
       "      <th>name</th>\n",
       "      <th>toy</th>\n",
       "      <th>from</th>\n",
       "    </tr>\n",
       "  </thead>\n",
       "  <tbody>\n",
       "    <tr>\n",
       "      <th>0</th>\n",
       "      <td>Alfardo</td>\n",
       "      <td>Kalicartel</td>\n",
       "      <td>Mexico</td>\n",
       "    </tr>\n",
       "    <tr>\n",
       "      <th>1</th>\n",
       "      <td>El Chapo</td>\n",
       "      <td>Sinaloacartel</td>\n",
       "      <td>Colombia</td>\n",
       "    </tr>\n",
       "    <tr>\n",
       "      <th>2</th>\n",
       "      <td>El Mencho</td>\n",
       "      <td>NaN</td>\n",
       "      <td>Medellin</td>\n",
       "    </tr>\n",
       "  </tbody>\n",
       "</table>\n",
       "</div>"
      ],
      "text/plain": [
       "        name            toy      from\n",
       "0    Alfardo     Kalicartel    Mexico\n",
       "1   El Chapo  Sinaloacartel  Colombia\n",
       "2  El Mencho            NaN  Medellin"
      ]
     },
     "execution_count": 42,
     "metadata": {},
     "output_type": "execute_result"
    }
   ],
   "source": [
    "newdata.drop_duplicates(subset=['name'],keep=False)"
   ]
  },
  {
   "cell_type": "code",
   "execution_count": 43,
   "id": "dc93998f",
   "metadata": {},
   "outputs": [
    {
     "data": {
      "text/plain": [
       "<bound method DataFrame.info of         name            toy      from\n",
       "0    Alfardo     Kalicartel    Mexico\n",
       "1   El Chapo  Sinaloacartel  Colombia\n",
       "2  El Mencho            NaN  Medellin>"
      ]
     },
     "execution_count": 43,
     "metadata": {},
     "output_type": "execute_result"
    }
   ],
   "source": [
    "newdata.info"
   ]
  },
  {
   "cell_type": "code",
   "execution_count": 44,
   "id": "68a91880",
   "metadata": {},
   "outputs": [
    {
     "data": {
      "application/vnd.microsoft.datawrangler.viewer.v0+json": {
       "columns": [
        {
         "name": "name",
         "rawType": "object",
         "type": "string"
        },
        {
         "name": "count",
         "rawType": "int64",
         "type": "integer"
        }
       ],
       "ref": "f00c59cf-3287-4a7d-85eb-97736f4f4586",
       "rows": [
        [
         "Alfardo",
         "1"
        ],
        [
         "El Chapo",
         "1"
        ],
        [
         "El Mencho",
         "1"
        ]
       ],
       "shape": {
        "columns": 1,
        "rows": 3
       }
      },
      "text/plain": [
       "name\n",
       "Alfardo      1\n",
       "El Chapo     1\n",
       "El Mencho    1\n",
       "Name: count, dtype: int64"
      ]
     },
     "execution_count": 44,
     "metadata": {},
     "output_type": "execute_result"
    }
   ],
   "source": [
    "newdata['name'].value_counts(dropna=True)"
   ]
  },
  {
   "cell_type": "code",
   "execution_count": 45,
   "id": "71a29702",
   "metadata": {},
   "outputs": [
    {
     "data": {
      "application/vnd.microsoft.datawrangler.viewer.v0+json": {
       "columns": [
        {
         "name": "index",
         "rawType": "int64",
         "type": "integer"
        },
        {
         "name": "name",
         "rawType": "bool",
         "type": "boolean"
        },
        {
         "name": "toy",
         "rawType": "bool",
         "type": "boolean"
        },
        {
         "name": "from",
         "rawType": "bool",
         "type": "boolean"
        }
       ],
       "ref": "b722bbda-d14b-4f5d-8139-a1b297c38c71",
       "rows": [
        [
         "0",
         "True",
         "True",
         "True"
        ],
        [
         "1",
         "True",
         "True",
         "True"
        ],
        [
         "2",
         "True",
         "False",
         "True"
        ]
       ],
       "shape": {
        "columns": 3,
        "rows": 3
       }
      },
      "text/html": [
       "<div>\n",
       "<style scoped>\n",
       "    .dataframe tbody tr th:only-of-type {\n",
       "        vertical-align: middle;\n",
       "    }\n",
       "\n",
       "    .dataframe tbody tr th {\n",
       "        vertical-align: top;\n",
       "    }\n",
       "\n",
       "    .dataframe thead th {\n",
       "        text-align: right;\n",
       "    }\n",
       "</style>\n",
       "<table border=\"1\" class=\"dataframe\">\n",
       "  <thead>\n",
       "    <tr style=\"text-align: right;\">\n",
       "      <th></th>\n",
       "      <th>name</th>\n",
       "      <th>toy</th>\n",
       "      <th>from</th>\n",
       "    </tr>\n",
       "  </thead>\n",
       "  <tbody>\n",
       "    <tr>\n",
       "      <th>0</th>\n",
       "      <td>True</td>\n",
       "      <td>True</td>\n",
       "      <td>True</td>\n",
       "    </tr>\n",
       "    <tr>\n",
       "      <th>1</th>\n",
       "      <td>True</td>\n",
       "      <td>True</td>\n",
       "      <td>True</td>\n",
       "    </tr>\n",
       "    <tr>\n",
       "      <th>2</th>\n",
       "      <td>True</td>\n",
       "      <td>False</td>\n",
       "      <td>True</td>\n",
       "    </tr>\n",
       "  </tbody>\n",
       "</table>\n",
       "</div>"
      ],
      "text/plain": [
       "   name    toy  from\n",
       "0  True   True  True\n",
       "1  True   True  True\n",
       "2  True  False  True"
      ]
     },
     "execution_count": 45,
     "metadata": {},
     "output_type": "execute_result"
    }
   ],
   "source": [
    "newdata.notnull()"
   ]
  },
  {
   "cell_type": "code",
   "execution_count": 46,
   "id": "6d34d1ed",
   "metadata": {},
   "outputs": [
    {
     "data": {
      "application/vnd.microsoft.datawrangler.viewer.v0+json": {
       "columns": [
        {
         "name": "index",
         "rawType": "int64",
         "type": "integer"
        },
        {
         "name": "  serial nos2",
         "rawType": "int64",
         "type": "integer"
        },
        {
         "name": "name s2",
         "rawType": "object",
         "type": "string"
        },
        {
         "name": "marks",
         "rawType": "int64",
         "type": "integer"
        },
        {
         "name": "citys2",
         "rawType": "object",
         "type": "string"
        }
       ],
       "ref": "63aabb6c-8c2c-4935-9db0-b15f8850c73b",
       "rows": [
        [
         "0",
         "0",
         "Denver",
         "45",
         "Days Gone"
        ],
        [
         "1",
         "1",
         "Boozer",
         "34",
         "Days Gone"
        ]
       ],
       "shape": {
        "columns": 4,
        "rows": 2
       }
      },
      "text/html": [
       "<div>\n",
       "<style scoped>\n",
       "    .dataframe tbody tr th:only-of-type {\n",
       "        vertical-align: middle;\n",
       "    }\n",
       "\n",
       "    .dataframe tbody tr th {\n",
       "        vertical-align: top;\n",
       "    }\n",
       "\n",
       "    .dataframe thead th {\n",
       "        text-align: right;\n",
       "    }\n",
       "</style>\n",
       "<table border=\"1\" class=\"dataframe\">\n",
       "  <thead>\n",
       "    <tr style=\"text-align: right;\">\n",
       "      <th></th>\n",
       "      <th>serial nos2</th>\n",
       "      <th>name s2</th>\n",
       "      <th>marks</th>\n",
       "      <th>citys2</th>\n",
       "    </tr>\n",
       "  </thead>\n",
       "  <tbody>\n",
       "    <tr>\n",
       "      <th>0</th>\n",
       "      <td>0</td>\n",
       "      <td>Denver</td>\n",
       "      <td>45</td>\n",
       "      <td>Days Gone</td>\n",
       "    </tr>\n",
       "    <tr>\n",
       "      <th>1</th>\n",
       "      <td>1</td>\n",
       "      <td>Boozer</td>\n",
       "      <td>34</td>\n",
       "      <td>Days Gone</td>\n",
       "    </tr>\n",
       "  </tbody>\n",
       "</table>\n",
       "</div>"
      ],
      "text/plain": [
       "     serial nos2 name s2  marks     citys2\n",
       "0              0  Denver     45  Days Gone\n",
       "1              1  Boozer     34  Days Gone"
      ]
     },
     "execution_count": 46,
     "metadata": {},
     "output_type": "execute_result"
    }
   ],
   "source": [
    "newval = pd.read_csv('newdata.csv')\n",
    "newval"
   ]
  },
  {
   "cell_type": "code",
   "execution_count": 47,
   "id": "7e62380e",
   "metadata": {},
   "outputs": [
    {
     "data": {
      "application/vnd.microsoft.datawrangler.viewer.v0+json": {
       "columns": [
        {
         "name": "index",
         "rawType": "int64",
         "type": "integer"
        },
        {
         "name": "Game no",
         "rawType": "int64",
         "type": "integer"
        },
        {
         "name": "Name",
         "rawType": "object",
         "type": "string"
        },
        {
         "name": "origin",
         "rawType": "object",
         "type": "unknown"
        }
       ],
       "ref": "73c29577-90aa-461d-99bc-e91c72216361",
       "rows": [
        [
         "0",
         "1",
         "RDR 2",
         "Action"
        ],
        [
         "1",
         "2",
         "Max PayneActjion",
         null
        ],
        [
         "2",
         "3",
         "GTA V",
         "Fantasy"
        ]
       ],
       "shape": {
        "columns": 3,
        "rows": 3
       }
      },
      "text/html": [
       "<div>\n",
       "<style scoped>\n",
       "    .dataframe tbody tr th:only-of-type {\n",
       "        vertical-align: middle;\n",
       "    }\n",
       "\n",
       "    .dataframe tbody tr th {\n",
       "        vertical-align: top;\n",
       "    }\n",
       "\n",
       "    .dataframe thead th {\n",
       "        text-align: right;\n",
       "    }\n",
       "</style>\n",
       "<table border=\"1\" class=\"dataframe\">\n",
       "  <thead>\n",
       "    <tr style=\"text-align: right;\">\n",
       "      <th></th>\n",
       "      <th>Game no</th>\n",
       "      <th>Name</th>\n",
       "      <th>origin</th>\n",
       "    </tr>\n",
       "  </thead>\n",
       "  <tbody>\n",
       "    <tr>\n",
       "      <th>0</th>\n",
       "      <td>1</td>\n",
       "      <td>RDR 2</td>\n",
       "      <td>Action</td>\n",
       "    </tr>\n",
       "    <tr>\n",
       "      <th>1</th>\n",
       "      <td>2</td>\n",
       "      <td>Max PayneActjion</td>\n",
       "      <td>NaN</td>\n",
       "    </tr>\n",
       "    <tr>\n",
       "      <th>2</th>\n",
       "      <td>3</td>\n",
       "      <td>GTA V</td>\n",
       "      <td>Fantasy</td>\n",
       "    </tr>\n",
       "  </tbody>\n",
       "</table>\n",
       "</div>"
      ],
      "text/plain": [
       "   Game no              Name   origin\n",
       "0        1             RDR 2   Action\n",
       "1        2  Max PayneActjion      NaN\n",
       "2        3             GTA V  Fantasy"
      ]
     },
     "execution_count": 47,
     "metadata": {},
     "output_type": "execute_result"
    }
   ],
   "source": [
    "newval1 = pd.read_excel('my.xlsx')\n",
    "newval1"
   ]
  },
  {
   "cell_type": "code",
   "execution_count": 48,
   "id": "9832518b",
   "metadata": {},
   "outputs": [
    {
     "data": {
      "application/vnd.microsoft.datawrangler.viewer.v0+json": {
       "columns": [
        {
         "name": "index",
         "rawType": "int64",
         "type": "integer"
        },
        {
         "name": "  serial nos2",
         "rawType": "int64",
         "type": "integer"
        },
        {
         "name": "name s2",
         "rawType": "object",
         "type": "string"
        },
        {
         "name": "marks",
         "rawType": "int64",
         "type": "integer"
        },
        {
         "name": "citys2",
         "rawType": "object",
         "type": "string"
        }
       ],
       "ref": "6d183895-3050-4045-90b2-a191ec679fe3",
       "rows": [
        [
         "0",
         "34",
         "Denver",
         "45",
         "Days Gone"
        ],
        [
         "1",
         "1",
         "Boozer",
         "34",
         "Days Gone"
        ]
       ],
       "shape": {
        "columns": 4,
        "rows": 2
       }
      },
      "text/html": [
       "<div>\n",
       "<style scoped>\n",
       "    .dataframe tbody tr th:only-of-type {\n",
       "        vertical-align: middle;\n",
       "    }\n",
       "\n",
       "    .dataframe tbody tr th {\n",
       "        vertical-align: top;\n",
       "    }\n",
       "\n",
       "    .dataframe thead th {\n",
       "        text-align: right;\n",
       "    }\n",
       "</style>\n",
       "<table border=\"1\" class=\"dataframe\">\n",
       "  <thead>\n",
       "    <tr style=\"text-align: right;\">\n",
       "      <th></th>\n",
       "      <th>serial nos2</th>\n",
       "      <th>name s2</th>\n",
       "      <th>marks</th>\n",
       "      <th>citys2</th>\n",
       "    </tr>\n",
       "  </thead>\n",
       "  <tbody>\n",
       "    <tr>\n",
       "      <th>0</th>\n",
       "      <td>34</td>\n",
       "      <td>Denver</td>\n",
       "      <td>45</td>\n",
       "      <td>Days Gone</td>\n",
       "    </tr>\n",
       "    <tr>\n",
       "      <th>1</th>\n",
       "      <td>1</td>\n",
       "      <td>Boozer</td>\n",
       "      <td>34</td>\n",
       "      <td>Days Gone</td>\n",
       "    </tr>\n",
       "  </tbody>\n",
       "</table>\n",
       "</div>"
      ],
      "text/plain": [
       "     serial nos2 name s2  marks     citys2\n",
       "0             34  Denver     45  Days Gone\n",
       "1              1  Boozer     34  Days Gone"
      ]
     },
     "execution_count": 48,
     "metadata": {},
     "output_type": "execute_result"
    }
   ],
   "source": [
    "newval.iloc[0,0] = 34\n",
    "newval"
   ]
  },
  {
   "cell_type": "code",
   "execution_count": null,
   "id": "f891ab2e",
   "metadata": {},
   "outputs": [],
   "source": []
  }
 ],
 "metadata": {
  "kernelspec": {
   "display_name": "Python 3",
   "language": "python",
   "name": "python3"
  },
  "language_info": {
   "codemirror_mode": {
    "name": "ipython",
    "version": 3
   },
   "file_extension": ".py",
   "mimetype": "text/x-python",
   "name": "python",
   "nbconvert_exporter": "python",
   "pygments_lexer": "ipython3",
   "version": "3.13.2"
  }
 },
 "nbformat": 4,
 "nbformat_minor": 5
}
