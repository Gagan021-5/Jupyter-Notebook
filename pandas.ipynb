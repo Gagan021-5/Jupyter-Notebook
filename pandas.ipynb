{
 "cells": [
  {
   "cell_type": "markdown",
   "id": "f8962abd",
   "metadata": {},
   "source": [
    "## Introduction to Pandas"
   ]
  },
  {
   "cell_type": "code",
   "execution_count": 1,
   "id": "6bb6bee6",
   "metadata": {},
   "outputs": [
    {
     "ename": "ModuleNotFoundError",
     "evalue": "No module named 'pandas'",
     "output_type": "error",
     "traceback": [
      "\u001b[31m---------------------------------------------------------------------------\u001b[39m",
      "\u001b[31mModuleNotFoundError\u001b[39m                       Traceback (most recent call last)",
      "\u001b[36mCell\u001b[39m\u001b[36m \u001b[39m\u001b[32mIn[1]\u001b[39m\u001b[32m, line 1\u001b[39m\n\u001b[32m----> \u001b[39m\u001b[32m1\u001b[39m \u001b[38;5;28;01mimport\u001b[39;00m\u001b[38;5;250m \u001b[39m\u001b[34;01mpandas\u001b[39;00m\u001b[38;5;250m \u001b[39m\u001b[38;5;28;01mas\u001b[39;00m\u001b[38;5;250m \u001b[39m\u001b[34;01mpd\u001b[39;00m\n\u001b[32m      2\u001b[39m \u001b[38;5;28;01mimport\u001b[39;00m\u001b[38;5;250m \u001b[39m\u001b[34;01mnumpy\u001b[39;00m\u001b[38;5;250m \u001b[39m\u001b[38;5;28;01mas\u001b[39;00m\u001b[38;5;250m \u001b[39m\u001b[34;01mnp\u001b[39;00m\n",
      "\u001b[31mModuleNotFoundError\u001b[39m: No module named 'pandas'"
     ]
    }
   ],
   "source": [
    "import pandas as pd\n",
    "import numpy as np\n"
   ]
  },
  {
   "cell_type": "code",
   "execution_count": 6,
   "id": "712c9aed",
   "metadata": {},
   "outputs": [],
   "source": [
    "dic = {\n",
    "    \"name\":['Rick','Arthur'],\n",
    "    \"marks\":[45,34],\n",
    "    \"city\":['California','Boston']\n",
    "}"
   ]
  },
  {
   "cell_type": "code",
   "execution_count": 7,
   "id": "2410f0cd",
   "metadata": {},
   "outputs": [
    {
     "data": {
      "application/vnd.microsoft.datawrangler.viewer.v0+json": {
       "columns": [
        {
         "name": "index",
         "rawType": "int64",
         "type": "integer"
        },
        {
         "name": "name",
         "rawType": "object",
         "type": "string"
        },
        {
         "name": "marks",
         "rawType": "int64",
         "type": "integer"
        },
        {
         "name": "city",
         "rawType": "object",
         "type": "string"
        }
       ],
       "ref": "6e4453e1-503b-4cbe-b5bd-c01666cb6261",
       "rows": [
        [
         "0",
         "Rick",
         "45",
         "California"
        ],
        [
         "1",
         "Arthur",
         "34",
         "Boston"
        ]
       ],
       "shape": {
        "columns": 3,
        "rows": 2
       }
      },
      "text/html": [
       "<div>\n",
       "<style scoped>\n",
       "    .dataframe tbody tr th:only-of-type {\n",
       "        vertical-align: middle;\n",
       "    }\n",
       "\n",
       "    .dataframe tbody tr th {\n",
       "        vertical-align: top;\n",
       "    }\n",
       "\n",
       "    .dataframe thead th {\n",
       "        text-align: right;\n",
       "    }\n",
       "</style>\n",
       "<table border=\"1\" class=\"dataframe\">\n",
       "  <thead>\n",
       "    <tr style=\"text-align: right;\">\n",
       "      <th></th>\n",
       "      <th>name</th>\n",
       "      <th>marks</th>\n",
       "      <th>city</th>\n",
       "    </tr>\n",
       "  </thead>\n",
       "  <tbody>\n",
       "    <tr>\n",
       "      <th>0</th>\n",
       "      <td>Rick</td>\n",
       "      <td>45</td>\n",
       "      <td>California</td>\n",
       "    </tr>\n",
       "    <tr>\n",
       "      <th>1</th>\n",
       "      <td>Arthur</td>\n",
       "      <td>34</td>\n",
       "      <td>Boston</td>\n",
       "    </tr>\n",
       "  </tbody>\n",
       "</table>\n",
       "</div>"
      ],
      "text/plain": [
       "     name  marks        city\n",
       "0    Rick     45  California\n",
       "1  Arthur     34      Boston"
      ]
     },
     "execution_count": 7,
     "metadata": {},
     "output_type": "execute_result"
    }
   ],
   "source": [
    "demo  = pd.DataFrame(dic)\n",
    "demo"
   ]
  },
  {
   "cell_type": "code",
   "execution_count": 8,
   "id": "b4785d5f",
   "metadata": {},
   "outputs": [],
   "source": [
    "demo.to_csv('data_index_false.csv',index=False)"
   ]
  },
  {
   "cell_type": "code",
   "execution_count": 9,
   "id": "fb641582",
   "metadata": {},
   "outputs": [
    {
     "data": {
      "application/vnd.microsoft.datawrangler.viewer.v0+json": {
       "columns": [
        {
         "name": "index",
         "rawType": "int64",
         "type": "integer"
        },
        {
         "name": "name",
         "rawType": "object",
         "type": "string"
        },
        {
         "name": "marks",
         "rawType": "int64",
         "type": "integer"
        },
        {
         "name": "city",
         "rawType": "object",
         "type": "string"
        }
       ],
       "ref": "f1128b7c-800b-49f6-b4b7-3c9a0de2c96a",
       "rows": [
        [
         "0",
         "Rick",
         "45",
         "California"
        ],
        [
         "1",
         "Arthur",
         "34",
         "Boston"
        ]
       ],
       "shape": {
        "columns": 3,
        "rows": 2
       }
      },
      "text/html": [
       "<div>\n",
       "<style scoped>\n",
       "    .dataframe tbody tr th:only-of-type {\n",
       "        vertical-align: middle;\n",
       "    }\n",
       "\n",
       "    .dataframe tbody tr th {\n",
       "        vertical-align: top;\n",
       "    }\n",
       "\n",
       "    .dataframe thead th {\n",
       "        text-align: right;\n",
       "    }\n",
       "</style>\n",
       "<table border=\"1\" class=\"dataframe\">\n",
       "  <thead>\n",
       "    <tr style=\"text-align: right;\">\n",
       "      <th></th>\n",
       "      <th>name</th>\n",
       "      <th>marks</th>\n",
       "      <th>city</th>\n",
       "    </tr>\n",
       "  </thead>\n",
       "  <tbody>\n",
       "    <tr>\n",
       "      <th>0</th>\n",
       "      <td>Rick</td>\n",
       "      <td>45</td>\n",
       "      <td>California</td>\n",
       "    </tr>\n",
       "    <tr>\n",
       "      <th>1</th>\n",
       "      <td>Arthur</td>\n",
       "      <td>34</td>\n",
       "      <td>Boston</td>\n",
       "    </tr>\n",
       "  </tbody>\n",
       "</table>\n",
       "</div>"
      ],
      "text/plain": [
       "     name  marks        city\n",
       "0    Rick     45  California\n",
       "1  Arthur     34      Boston"
      ]
     },
     "execution_count": 9,
     "metadata": {},
     "output_type": "execute_result"
    }
   ],
   "source": [
    "demo.head(2)"
   ]
  },
  {
   "cell_type": "code",
   "execution_count": 10,
   "id": "d720b96d",
   "metadata": {},
   "outputs": [
    {
     "data": {
      "application/vnd.microsoft.datawrangler.viewer.v0+json": {
       "columns": [
        {
         "name": "index",
         "rawType": "int64",
         "type": "integer"
        },
        {
         "name": "name",
         "rawType": "object",
         "type": "string"
        },
        {
         "name": "marks",
         "rawType": "int64",
         "type": "integer"
        },
        {
         "name": "city",
         "rawType": "object",
         "type": "string"
        }
       ],
       "ref": "3351096c-e7cb-4fda-92bb-71575e83aee4",
       "rows": [
        [
         "1",
         "Arthur",
         "34",
         "Boston"
        ]
       ],
       "shape": {
        "columns": 3,
        "rows": 1
       }
      },
      "text/html": [
       "<div>\n",
       "<style scoped>\n",
       "    .dataframe tbody tr th:only-of-type {\n",
       "        vertical-align: middle;\n",
       "    }\n",
       "\n",
       "    .dataframe tbody tr th {\n",
       "        vertical-align: top;\n",
       "    }\n",
       "\n",
       "    .dataframe thead th {\n",
       "        text-align: right;\n",
       "    }\n",
       "</style>\n",
       "<table border=\"1\" class=\"dataframe\">\n",
       "  <thead>\n",
       "    <tr style=\"text-align: right;\">\n",
       "      <th></th>\n",
       "      <th>name</th>\n",
       "      <th>marks</th>\n",
       "      <th>city</th>\n",
       "    </tr>\n",
       "  </thead>\n",
       "  <tbody>\n",
       "    <tr>\n",
       "      <th>1</th>\n",
       "      <td>Arthur</td>\n",
       "      <td>34</td>\n",
       "      <td>Boston</td>\n",
       "    </tr>\n",
       "  </tbody>\n",
       "</table>\n",
       "</div>"
      ],
      "text/plain": [
       "     name  marks    city\n",
       "1  Arthur     34  Boston"
      ]
     },
     "execution_count": 10,
     "metadata": {},
     "output_type": "execute_result"
    }
   ],
   "source": [
    "demo.tail(1)"
   ]
  },
  {
   "cell_type": "markdown",
   "id": "21efdd9e",
   "metadata": {},
   "source": [
    "**Statstical Observation/Analysis of Data**"
   ]
  },
  {
   "cell_type": "code",
   "execution_count": 11,
   "id": "df6bcbd1",
   "metadata": {},
   "outputs": [
    {
     "data": {
      "application/vnd.microsoft.datawrangler.viewer.v0+json": {
       "columns": [
        {
         "name": "index",
         "rawType": "object",
         "type": "string"
        },
        {
         "name": "marks",
         "rawType": "float64",
         "type": "float"
        }
       ],
       "ref": "80cfe229-b893-41a5-bda7-4bb6808b0098",
       "rows": [
        [
         "count",
         "2.0"
        ],
        [
         "mean",
         "39.5"
        ],
        [
         "std",
         "7.7781745930520225"
        ],
        [
         "min",
         "34.0"
        ],
        [
         "25%",
         "36.75"
        ],
        [
         "50%",
         "39.5"
        ],
        [
         "75%",
         "42.25"
        ],
        [
         "max",
         "45.0"
        ]
       ],
       "shape": {
        "columns": 1,
        "rows": 8
       }
      },
      "text/html": [
       "<div>\n",
       "<style scoped>\n",
       "    .dataframe tbody tr th:only-of-type {\n",
       "        vertical-align: middle;\n",
       "    }\n",
       "\n",
       "    .dataframe tbody tr th {\n",
       "        vertical-align: top;\n",
       "    }\n",
       "\n",
       "    .dataframe thead th {\n",
       "        text-align: right;\n",
       "    }\n",
       "</style>\n",
       "<table border=\"1\" class=\"dataframe\">\n",
       "  <thead>\n",
       "    <tr style=\"text-align: right;\">\n",
       "      <th></th>\n",
       "      <th>marks</th>\n",
       "    </tr>\n",
       "  </thead>\n",
       "  <tbody>\n",
       "    <tr>\n",
       "      <th>count</th>\n",
       "      <td>2.000000</td>\n",
       "    </tr>\n",
       "    <tr>\n",
       "      <th>mean</th>\n",
       "      <td>39.500000</td>\n",
       "    </tr>\n",
       "    <tr>\n",
       "      <th>std</th>\n",
       "      <td>7.778175</td>\n",
       "    </tr>\n",
       "    <tr>\n",
       "      <th>min</th>\n",
       "      <td>34.000000</td>\n",
       "    </tr>\n",
       "    <tr>\n",
       "      <th>25%</th>\n",
       "      <td>36.750000</td>\n",
       "    </tr>\n",
       "    <tr>\n",
       "      <th>50%</th>\n",
       "      <td>39.500000</td>\n",
       "    </tr>\n",
       "    <tr>\n",
       "      <th>75%</th>\n",
       "      <td>42.250000</td>\n",
       "    </tr>\n",
       "    <tr>\n",
       "      <th>max</th>\n",
       "      <td>45.000000</td>\n",
       "    </tr>\n",
       "  </tbody>\n",
       "</table>\n",
       "</div>"
      ],
      "text/plain": [
       "           marks\n",
       "count   2.000000\n",
       "mean   39.500000\n",
       "std     7.778175\n",
       "min    34.000000\n",
       "25%    36.750000\n",
       "50%    39.500000\n",
       "75%    42.250000\n",
       "max    45.000000"
      ]
     },
     "execution_count": 11,
     "metadata": {},
     "output_type": "execute_result"
    }
   ],
   "source": [
    "demo.describe()           #calculate statisticall analsyis"
   ]
  },
  {
   "cell_type": "code",
   "execution_count": 12,
   "id": "0bdfd95c",
   "metadata": {},
   "outputs": [
    {
     "name": "stderr",
     "output_type": "stream",
     "text": [
      "C:\\Users\\Gagan\\AppData\\Local\\Temp\\ipykernel_19380\\3678646553.py:1: FutureWarning: ChainedAssignmentError: behaviour will change in pandas 3.0!\n",
      "You are setting values through chained assignment. Currently this works in certain cases, but when using Copy-on-Write (which will become the default behaviour in pandas 3.0) this will never work to update the original DataFrame or Series, because the intermediate object on which we are setting values will behave as a copy.\n",
      "A typical example is when you are setting values in a column of a DataFrame, like:\n",
      "\n",
      "df[\"col\"][row_indexer] = value\n",
      "\n",
      "Use `df.loc[row_indexer, \"col\"] = values` instead, to perform the assignment in a single step and ensure this keeps updating the original `df`.\n",
      "\n",
      "See the caveats in the documentation: https://pandas.pydata.org/pandas-docs/stable/user_guide/indexing.html#returning-a-view-versus-a-copy\n",
      "\n",
      "  demo['marks'][0]  = 90\n",
      "C:\\Users\\Gagan\\AppData\\Local\\Temp\\ipykernel_19380\\3678646553.py:1: SettingWithCopyWarning: \n",
      "A value is trying to be set on a copy of a slice from a DataFrame\n",
      "\n",
      "See the caveats in the documentation: https://pandas.pydata.org/pandas-docs/stable/user_guide/indexing.html#returning-a-view-versus-a-copy\n",
      "  demo['marks'][0]  = 90\n"
     ]
    }
   ],
   "source": [
    "demo['marks'][0]  = 90"
   ]
  },
  {
   "cell_type": "code",
   "execution_count": 13,
   "id": "913d112a",
   "metadata": {},
   "outputs": [
    {
     "data": {
      "application/vnd.microsoft.datawrangler.viewer.v0+json": {
       "columns": [
        {
         "name": "index",
         "rawType": "int64",
         "type": "integer"
        },
        {
         "name": "name",
         "rawType": "object",
         "type": "string"
        },
        {
         "name": "marks",
         "rawType": "int64",
         "type": "integer"
        },
        {
         "name": "city",
         "rawType": "object",
         "type": "string"
        }
       ],
       "ref": "0229bbcd-ee75-4822-8af9-147da85bce1c",
       "rows": [
        [
         "0",
         "Rick",
         "90",
         "California"
        ],
        [
         "1",
         "Arthur",
         "34",
         "Boston"
        ]
       ],
       "shape": {
        "columns": 3,
        "rows": 2
       }
      },
      "text/html": [
       "<div>\n",
       "<style scoped>\n",
       "    .dataframe tbody tr th:only-of-type {\n",
       "        vertical-align: middle;\n",
       "    }\n",
       "\n",
       "    .dataframe tbody tr th {\n",
       "        vertical-align: top;\n",
       "    }\n",
       "\n",
       "    .dataframe thead th {\n",
       "        text-align: right;\n",
       "    }\n",
       "</style>\n",
       "<table border=\"1\" class=\"dataframe\">\n",
       "  <thead>\n",
       "    <tr style=\"text-align: right;\">\n",
       "      <th></th>\n",
       "      <th>name</th>\n",
       "      <th>marks</th>\n",
       "      <th>city</th>\n",
       "    </tr>\n",
       "  </thead>\n",
       "  <tbody>\n",
       "    <tr>\n",
       "      <th>0</th>\n",
       "      <td>Rick</td>\n",
       "      <td>90</td>\n",
       "      <td>California</td>\n",
       "    </tr>\n",
       "    <tr>\n",
       "      <th>1</th>\n",
       "      <td>Arthur</td>\n",
       "      <td>34</td>\n",
       "      <td>Boston</td>\n",
       "    </tr>\n",
       "  </tbody>\n",
       "</table>\n",
       "</div>"
      ],
      "text/plain": [
       "     name  marks        city\n",
       "0    Rick     90  California\n",
       "1  Arthur     34      Boston"
      ]
     },
     "execution_count": 13,
     "metadata": {},
     "output_type": "execute_result"
    }
   ],
   "source": [
    "demo"
   ]
  },
  {
   "cell_type": "code",
   "execution_count": 14,
   "id": "fa0d43b8",
   "metadata": {},
   "outputs": [],
   "source": [
    "demo.to_csv('new.csv')"
   ]
  },
  {
   "cell_type": "code",
   "execution_count": 15,
   "id": "ae2853f1",
   "metadata": {},
   "outputs": [
    {
     "data": {
      "application/vnd.microsoft.datawrangler.viewer.v0+json": {
       "columns": [
        {
         "name": "index",
         "rawType": "object",
         "type": "string"
        },
        {
         "name": "name",
         "rawType": "object",
         "type": "string"
        },
        {
         "name": "marks",
         "rawType": "int64",
         "type": "integer"
        },
        {
         "name": "city",
         "rawType": "object",
         "type": "string"
        }
       ],
       "ref": "ee87b473-b37b-4989-81ba-ff70b8d89e5a",
       "rows": [
        [
         "first",
         "Rick",
         "90",
         "California"
        ],
        [
         "second",
         "Arthur",
         "34",
         "Boston"
        ]
       ],
       "shape": {
        "columns": 3,
        "rows": 2
       }
      },
      "text/html": [
       "<div>\n",
       "<style scoped>\n",
       "    .dataframe tbody tr th:only-of-type {\n",
       "        vertical-align: middle;\n",
       "    }\n",
       "\n",
       "    .dataframe tbody tr th {\n",
       "        vertical-align: top;\n",
       "    }\n",
       "\n",
       "    .dataframe thead th {\n",
       "        text-align: right;\n",
       "    }\n",
       "</style>\n",
       "<table border=\"1\" class=\"dataframe\">\n",
       "  <thead>\n",
       "    <tr style=\"text-align: right;\">\n",
       "      <th></th>\n",
       "      <th>name</th>\n",
       "      <th>marks</th>\n",
       "      <th>city</th>\n",
       "    </tr>\n",
       "  </thead>\n",
       "  <tbody>\n",
       "    <tr>\n",
       "      <th>first</th>\n",
       "      <td>Rick</td>\n",
       "      <td>90</td>\n",
       "      <td>California</td>\n",
       "    </tr>\n",
       "    <tr>\n",
       "      <th>second</th>\n",
       "      <td>Arthur</td>\n",
       "      <td>34</td>\n",
       "      <td>Boston</td>\n",
       "    </tr>\n",
       "  </tbody>\n",
       "</table>\n",
       "</div>"
      ],
      "text/plain": [
       "          name  marks        city\n",
       "first     Rick     90  California\n",
       "second  Arthur     34      Boston"
      ]
     },
     "execution_count": 15,
     "metadata": {},
     "output_type": "execute_result"
    }
   ],
   "source": [
    "demo.index = ['first','second']         #assign indexes\n",
    "demo"
   ]
  },
  {
   "cell_type": "code",
   "execution_count": 16,
   "id": "1485f8dd",
   "metadata": {},
   "outputs": [
    {
     "data": {
      "application/vnd.microsoft.datawrangler.viewer.v0+json": {
       "columns": [
        {
         "name": "index",
         "rawType": "int64",
         "type": "integer"
        },
        {
         "name": "0",
         "rawType": "float64",
         "type": "float"
        }
       ],
       "ref": "63ea8dba-12df-4703-8aeb-a774ce59e89f",
       "rows": [
        [
         "0",
         "0.6341888352963934"
        ],
        [
         "1",
         "0.8362494648777089"
        ],
        [
         "2",
         "0.24164301995102289"
        ],
        [
         "3",
         "0.5525600336195889"
        ],
        [
         "4",
         "0.5725786414027799"
        ],
        [
         "5",
         "0.3474385277304577"
        ],
        [
         "6",
         "0.09454025000338584"
        ],
        [
         "7",
         "0.09814441933258466"
        ],
        [
         "8",
         "0.7595385289099025"
        ],
        [
         "9",
         "0.2984369538140619"
        ]
       ],
       "shape": {
        "columns": 1,
        "rows": 10
       }
      },
      "text/plain": [
       "0    0.634189\n",
       "1    0.836249\n",
       "2    0.241643\n",
       "3    0.552560\n",
       "4    0.572579\n",
       "5    0.347439\n",
       "6    0.094540\n",
       "7    0.098144\n",
       "8    0.759539\n",
       "9    0.298437\n",
       "dtype: float64"
      ]
     },
     "execution_count": 16,
     "metadata": {},
     "output_type": "execute_result"
    }
   ],
   "source": [
    "ser = pd.Series(np.random.rand(10))\n",
    "ser"
   ]
  },
  {
   "cell_type": "code",
   "execution_count": 17,
   "id": "0b6beae5",
   "metadata": {},
   "outputs": [
    {
     "data": {
      "application/vnd.microsoft.datawrangler.viewer.v0+json": {
       "columns": [
        {
         "name": "index",
         "rawType": "int64",
         "type": "integer"
        },
        {
         "name": "0",
         "rawType": "float64",
         "type": "float"
        },
        {
         "name": "1",
         "rawType": "float64",
         "type": "float"
        },
        {
         "name": "2",
         "rawType": "float64",
         "type": "float"
        },
        {
         "name": "3",
         "rawType": "float64",
         "type": "float"
        },
        {
         "name": "4",
         "rawType": "float64",
         "type": "float"
        }
       ],
       "ref": "f7f20736-8804-46bf-8359-8a82c64b5025",
       "rows": [
        [
         "0",
         "0.6617309075334021",
         "0.7820470183933164",
         "0.8072195513522772",
         "0.5400593847186567",
         "0.4960023539231663"
        ],
        [
         "1",
         "0.12843009056672772",
         "0.3938801014353325",
         "0.6648939142489135",
         "0.8175864898685784",
         "0.956752059379283"
        ],
        [
         "2",
         "0.9765135353169572",
         "0.05069198116376483",
         "0.8771899741666347",
         "0.5518321583044961",
         "0.983283712600777"
        ],
        [
         "3",
         "0.22870451186071872",
         "0.5539377492996397",
         "0.2951890619832668",
         "0.948355547777948",
         "0.9367900232699302"
        ],
        [
         "4",
         "0.36329412438272635",
         "0.3217769006001796",
         "0.7617271157391927",
         "0.863740737736931",
         "0.45821515045403727"
        ]
       ],
       "shape": {
        "columns": 5,
        "rows": 5
       }
      },
      "text/html": [
       "<div>\n",
       "<style scoped>\n",
       "    .dataframe tbody tr th:only-of-type {\n",
       "        vertical-align: middle;\n",
       "    }\n",
       "\n",
       "    .dataframe tbody tr th {\n",
       "        vertical-align: top;\n",
       "    }\n",
       "\n",
       "    .dataframe thead th {\n",
       "        text-align: right;\n",
       "    }\n",
       "</style>\n",
       "<table border=\"1\" class=\"dataframe\">\n",
       "  <thead>\n",
       "    <tr style=\"text-align: right;\">\n",
       "      <th></th>\n",
       "      <th>0</th>\n",
       "      <th>1</th>\n",
       "      <th>2</th>\n",
       "      <th>3</th>\n",
       "      <th>4</th>\n",
       "    </tr>\n",
       "  </thead>\n",
       "  <tbody>\n",
       "    <tr>\n",
       "      <th>0</th>\n",
       "      <td>0.661731</td>\n",
       "      <td>0.782047</td>\n",
       "      <td>0.807220</td>\n",
       "      <td>0.540059</td>\n",
       "      <td>0.496002</td>\n",
       "    </tr>\n",
       "    <tr>\n",
       "      <th>1</th>\n",
       "      <td>0.128430</td>\n",
       "      <td>0.393880</td>\n",
       "      <td>0.664894</td>\n",
       "      <td>0.817586</td>\n",
       "      <td>0.956752</td>\n",
       "    </tr>\n",
       "    <tr>\n",
       "      <th>2</th>\n",
       "      <td>0.976514</td>\n",
       "      <td>0.050692</td>\n",
       "      <td>0.877190</td>\n",
       "      <td>0.551832</td>\n",
       "      <td>0.983284</td>\n",
       "    </tr>\n",
       "    <tr>\n",
       "      <th>3</th>\n",
       "      <td>0.228705</td>\n",
       "      <td>0.553938</td>\n",
       "      <td>0.295189</td>\n",
       "      <td>0.948356</td>\n",
       "      <td>0.936790</td>\n",
       "    </tr>\n",
       "    <tr>\n",
       "      <th>4</th>\n",
       "      <td>0.363294</td>\n",
       "      <td>0.321777</td>\n",
       "      <td>0.761727</td>\n",
       "      <td>0.863741</td>\n",
       "      <td>0.458215</td>\n",
       "    </tr>\n",
       "  </tbody>\n",
       "</table>\n",
       "</div>"
      ],
      "text/plain": [
       "          0         1         2         3         4\n",
       "0  0.661731  0.782047  0.807220  0.540059  0.496002\n",
       "1  0.128430  0.393880  0.664894  0.817586  0.956752\n",
       "2  0.976514  0.050692  0.877190  0.551832  0.983284\n",
       "3  0.228705  0.553938  0.295189  0.948356  0.936790\n",
       "4  0.363294  0.321777  0.761727  0.863741  0.458215"
      ]
     },
     "execution_count": 17,
     "metadata": {},
     "output_type": "execute_result"
    }
   ],
   "source": [
    "newdata = pd.DataFrame(np.random.rand(334,5),index=np.arange(334))\n",
    "newdata.head()  #return the head value"
   ]
  },
  {
   "cell_type": "code",
   "execution_count": 18,
   "id": "067fcbc1",
   "metadata": {},
   "outputs": [
    {
     "data": {
      "application/vnd.microsoft.datawrangler.viewer.v0+json": {
       "columns": [
        {
         "name": "index",
         "rawType": "object",
         "type": "string"
        },
        {
         "name": "0",
         "rawType": "float64",
         "type": "float"
        },
        {
         "name": "1",
         "rawType": "float64",
         "type": "float"
        },
        {
         "name": "2",
         "rawType": "float64",
         "type": "float"
        },
        {
         "name": "3",
         "rawType": "float64",
         "type": "float"
        },
        {
         "name": "4",
         "rawType": "float64",
         "type": "float"
        }
       ],
       "ref": "f845dd08-ca05-403c-9699-d8cc386a401f",
       "rows": [
        [
         "count",
         "334.0",
         "334.0",
         "334.0",
         "334.0",
         "334.0"
        ],
        [
         "mean",
         "0.514882426756355",
         "0.5153937165631717",
         "0.508102563618668",
         "0.49350141033291106",
         "0.51253662985824"
        ],
        [
         "std",
         "0.3004024903786263",
         "0.2875766991934768",
         "0.29613425983340863",
         "0.27931791173648934",
         "0.29985714351206294"
        ],
        [
         "min",
         "0.0005329750825600055",
         "0.006164027239153103",
         "0.0016559853339538355",
         "0.0067145250036082516",
         "0.00028213890264428"
        ],
        [
         "25%",
         "0.22913788705502897",
         "0.2707370410840183",
         "0.23768934217825524",
         "0.2521453386597171",
         "0.2663882286648099"
        ],
        [
         "50%",
         "0.5507656617408955",
         "0.5249082348182077",
         "0.5071310245962882",
         "0.5167724744928237",
         "0.5261389788328816"
        ],
        [
         "75%",
         "0.7748722219709139",
         "0.7625782766133772",
         "0.7738297797174409",
         "0.7185906037412443",
         "0.7818445788938815"
        ],
        [
         "max",
         "0.9994794654217534",
         "0.9992905431565774",
         "0.9989446868120273",
         "0.9948304429923457",
         "0.9980084033688009"
        ]
       ],
       "shape": {
        "columns": 5,
        "rows": 8
       }
      },
      "text/html": [
       "<div>\n",
       "<style scoped>\n",
       "    .dataframe tbody tr th:only-of-type {\n",
       "        vertical-align: middle;\n",
       "    }\n",
       "\n",
       "    .dataframe tbody tr th {\n",
       "        vertical-align: top;\n",
       "    }\n",
       "\n",
       "    .dataframe thead th {\n",
       "        text-align: right;\n",
       "    }\n",
       "</style>\n",
       "<table border=\"1\" class=\"dataframe\">\n",
       "  <thead>\n",
       "    <tr style=\"text-align: right;\">\n",
       "      <th></th>\n",
       "      <th>0</th>\n",
       "      <th>1</th>\n",
       "      <th>2</th>\n",
       "      <th>3</th>\n",
       "      <th>4</th>\n",
       "    </tr>\n",
       "  </thead>\n",
       "  <tbody>\n",
       "    <tr>\n",
       "      <th>count</th>\n",
       "      <td>334.000000</td>\n",
       "      <td>334.000000</td>\n",
       "      <td>334.000000</td>\n",
       "      <td>334.000000</td>\n",
       "      <td>334.000000</td>\n",
       "    </tr>\n",
       "    <tr>\n",
       "      <th>mean</th>\n",
       "      <td>0.514882</td>\n",
       "      <td>0.515394</td>\n",
       "      <td>0.508103</td>\n",
       "      <td>0.493501</td>\n",
       "      <td>0.512537</td>\n",
       "    </tr>\n",
       "    <tr>\n",
       "      <th>std</th>\n",
       "      <td>0.300402</td>\n",
       "      <td>0.287577</td>\n",
       "      <td>0.296134</td>\n",
       "      <td>0.279318</td>\n",
       "      <td>0.299857</td>\n",
       "    </tr>\n",
       "    <tr>\n",
       "      <th>min</th>\n",
       "      <td>0.000533</td>\n",
       "      <td>0.006164</td>\n",
       "      <td>0.001656</td>\n",
       "      <td>0.006715</td>\n",
       "      <td>0.000282</td>\n",
       "    </tr>\n",
       "    <tr>\n",
       "      <th>25%</th>\n",
       "      <td>0.229138</td>\n",
       "      <td>0.270737</td>\n",
       "      <td>0.237689</td>\n",
       "      <td>0.252145</td>\n",
       "      <td>0.266388</td>\n",
       "    </tr>\n",
       "    <tr>\n",
       "      <th>50%</th>\n",
       "      <td>0.550766</td>\n",
       "      <td>0.524908</td>\n",
       "      <td>0.507131</td>\n",
       "      <td>0.516772</td>\n",
       "      <td>0.526139</td>\n",
       "    </tr>\n",
       "    <tr>\n",
       "      <th>75%</th>\n",
       "      <td>0.774872</td>\n",
       "      <td>0.762578</td>\n",
       "      <td>0.773830</td>\n",
       "      <td>0.718591</td>\n",
       "      <td>0.781845</td>\n",
       "    </tr>\n",
       "    <tr>\n",
       "      <th>max</th>\n",
       "      <td>0.999479</td>\n",
       "      <td>0.999291</td>\n",
       "      <td>0.998945</td>\n",
       "      <td>0.994830</td>\n",
       "      <td>0.998008</td>\n",
       "    </tr>\n",
       "  </tbody>\n",
       "</table>\n",
       "</div>"
      ],
      "text/plain": [
       "                0           1           2           3           4\n",
       "count  334.000000  334.000000  334.000000  334.000000  334.000000\n",
       "mean     0.514882    0.515394    0.508103    0.493501    0.512537\n",
       "std      0.300402    0.287577    0.296134    0.279318    0.299857\n",
       "min      0.000533    0.006164    0.001656    0.006715    0.000282\n",
       "25%      0.229138    0.270737    0.237689    0.252145    0.266388\n",
       "50%      0.550766    0.524908    0.507131    0.516772    0.526139\n",
       "75%      0.774872    0.762578    0.773830    0.718591    0.781845\n",
       "max      0.999479    0.999291    0.998945    0.994830    0.998008"
      ]
     },
     "execution_count": 18,
     "metadata": {},
     "output_type": "execute_result"
    }
   ],
   "source": [
    "newdata.describe()"
   ]
  },
  {
   "cell_type": "code",
   "execution_count": 19,
   "id": "64ddeb93",
   "metadata": {},
   "outputs": [
    {
     "name": "stderr",
     "output_type": "stream",
     "text": [
      "C:\\Users\\Gagan\\AppData\\Local\\Temp\\ipykernel_19380\\3782387853.py:1: FutureWarning: ChainedAssignmentError: behaviour will change in pandas 3.0!\n",
      "You are setting values through chained assignment. Currently this works in certain cases, but when using Copy-on-Write (which will become the default behaviour in pandas 3.0) this will never work to update the original DataFrame or Series, because the intermediate object on which we are setting values will behave as a copy.\n",
      "A typical example is when you are setting values in a column of a DataFrame, like:\n",
      "\n",
      "df[\"col\"][row_indexer] = value\n",
      "\n",
      "Use `df.loc[row_indexer, \"col\"] = values` instead, to perform the assignment in a single step and ensure this keeps updating the original `df`.\n",
      "\n",
      "See the caveats in the documentation: https://pandas.pydata.org/pandas-docs/stable/user_guide/indexing.html#returning-a-view-versus-a-copy\n",
      "\n",
      "  newdata[0][0]= 0.34531\n"
     ]
    }
   ],
   "source": [
    "newdata[0][0]= 0.34531"
   ]
  },
  {
   "cell_type": "code",
   "execution_count": 20,
   "id": "4e351607",
   "metadata": {},
   "outputs": [
    {
     "data": {
      "application/vnd.microsoft.datawrangler.viewer.v0+json": {
       "columns": [
        {
         "name": "index",
         "rawType": "int64",
         "type": "integer"
        },
        {
         "name": "0",
         "rawType": "float64",
         "type": "float"
        },
        {
         "name": "1",
         "rawType": "float64",
         "type": "float"
        },
        {
         "name": "2",
         "rawType": "float64",
         "type": "float"
        },
        {
         "name": "3",
         "rawType": "float64",
         "type": "float"
        },
        {
         "name": "4",
         "rawType": "float64",
         "type": "float"
        }
       ],
       "ref": "88173925-7bfd-42af-a241-a4e8fa7bde20",
       "rows": [
        [
         "0",
         "0.34531",
         "0.7820470183933164",
         "0.8072195513522772",
         "0.5400593847186567",
         "0.4960023539231663"
        ],
        [
         "1",
         "0.12843009056672772",
         "0.3938801014353325",
         "0.6648939142489135",
         "0.8175864898685784",
         "0.956752059379283"
        ],
        [
         "2",
         "0.9765135353169572",
         "0.05069198116376483",
         "0.8771899741666347",
         "0.5518321583044961",
         "0.983283712600777"
        ],
        [
         "3",
         "0.22870451186071872",
         "0.5539377492996397",
         "0.2951890619832668",
         "0.948355547777948",
         "0.9367900232699302"
        ],
        [
         "4",
         "0.36329412438272635",
         "0.3217769006001796",
         "0.7617271157391927",
         "0.863740737736931",
         "0.45821515045403727"
        ]
       ],
       "shape": {
        "columns": 5,
        "rows": 5
       }
      },
      "text/html": [
       "<div>\n",
       "<style scoped>\n",
       "    .dataframe tbody tr th:only-of-type {\n",
       "        vertical-align: middle;\n",
       "    }\n",
       "\n",
       "    .dataframe tbody tr th {\n",
       "        vertical-align: top;\n",
       "    }\n",
       "\n",
       "    .dataframe thead th {\n",
       "        text-align: right;\n",
       "    }\n",
       "</style>\n",
       "<table border=\"1\" class=\"dataframe\">\n",
       "  <thead>\n",
       "    <tr style=\"text-align: right;\">\n",
       "      <th></th>\n",
       "      <th>0</th>\n",
       "      <th>1</th>\n",
       "      <th>2</th>\n",
       "      <th>3</th>\n",
       "      <th>4</th>\n",
       "    </tr>\n",
       "  </thead>\n",
       "  <tbody>\n",
       "    <tr>\n",
       "      <th>0</th>\n",
       "      <td>0.345310</td>\n",
       "      <td>0.782047</td>\n",
       "      <td>0.807220</td>\n",
       "      <td>0.540059</td>\n",
       "      <td>0.496002</td>\n",
       "    </tr>\n",
       "    <tr>\n",
       "      <th>1</th>\n",
       "      <td>0.128430</td>\n",
       "      <td>0.393880</td>\n",
       "      <td>0.664894</td>\n",
       "      <td>0.817586</td>\n",
       "      <td>0.956752</td>\n",
       "    </tr>\n",
       "    <tr>\n",
       "      <th>2</th>\n",
       "      <td>0.976514</td>\n",
       "      <td>0.050692</td>\n",
       "      <td>0.877190</td>\n",
       "      <td>0.551832</td>\n",
       "      <td>0.983284</td>\n",
       "    </tr>\n",
       "    <tr>\n",
       "      <th>3</th>\n",
       "      <td>0.228705</td>\n",
       "      <td>0.553938</td>\n",
       "      <td>0.295189</td>\n",
       "      <td>0.948356</td>\n",
       "      <td>0.936790</td>\n",
       "    </tr>\n",
       "    <tr>\n",
       "      <th>4</th>\n",
       "      <td>0.363294</td>\n",
       "      <td>0.321777</td>\n",
       "      <td>0.761727</td>\n",
       "      <td>0.863741</td>\n",
       "      <td>0.458215</td>\n",
       "    </tr>\n",
       "  </tbody>\n",
       "</table>\n",
       "</div>"
      ],
      "text/plain": [
       "          0         1         2         3         4\n",
       "0  0.345310  0.782047  0.807220  0.540059  0.496002\n",
       "1  0.128430  0.393880  0.664894  0.817586  0.956752\n",
       "2  0.976514  0.050692  0.877190  0.551832  0.983284\n",
       "3  0.228705  0.553938  0.295189  0.948356  0.936790\n",
       "4  0.363294  0.321777  0.761727  0.863741  0.458215"
      ]
     },
     "execution_count": 20,
     "metadata": {},
     "output_type": "execute_result"
    }
   ],
   "source": [
    "newdata.head()"
   ]
  },
  {
   "cell_type": "code",
   "execution_count": 21,
   "id": "0d20749e",
   "metadata": {},
   "outputs": [
    {
     "data": {
      "text/plain": [
       "array([[0.34531   , 0.78204702, 0.80721955, 0.54005938, 0.49600235],\n",
       "       [0.12843009, 0.3938801 , 0.66489391, 0.81758649, 0.95675206],\n",
       "       [0.97651354, 0.05069198, 0.87718997, 0.55183216, 0.98328371],\n",
       "       ...,\n",
       "       [0.2723431 , 0.36260645, 0.7655915 , 0.49206594, 0.6653823 ],\n",
       "       [0.87684433, 0.70505067, 0.16522038, 0.55976509, 0.51800033],\n",
       "       [0.12898245, 0.11608275, 0.62259878, 0.79032017, 0.8571586 ]],\n",
       "      shape=(334, 5))"
      ]
     },
     "execution_count": 21,
     "metadata": {},
     "output_type": "execute_result"
    }
   ],
   "source": [
    "newdata.to_numpy()"
   ]
  },
  {
   "cell_type": "code",
   "execution_count": 22,
   "id": "f51c7bf2",
   "metadata": {},
   "outputs": [
    {
     "data": {
      "application/vnd.microsoft.datawrangler.viewer.v0+json": {
       "columns": [
        {
         "name": "index",
         "rawType": "int64",
         "type": "integer"
        },
        {
         "name": "0",
         "rawType": "float64",
         "type": "float"
        },
        {
         "name": "1",
         "rawType": "float64",
         "type": "float"
        },
        {
         "name": "2",
         "rawType": "float64",
         "type": "float"
        },
        {
         "name": "3",
         "rawType": "float64",
         "type": "float"
        },
        {
         "name": "4",
         "rawType": "float64",
         "type": "float"
        },
        {
         "name": "5",
         "rawType": "float64",
         "type": "float"
        },
        {
         "name": "6",
         "rawType": "float64",
         "type": "float"
        },
        {
         "name": "7",
         "rawType": "float64",
         "type": "float"
        },
        {
         "name": "8",
         "rawType": "float64",
         "type": "float"
        },
        {
         "name": "9",
         "rawType": "float64",
         "type": "float"
        },
        {
         "name": "10",
         "rawType": "float64",
         "type": "float"
        },
        {
         "name": "11",
         "rawType": "float64",
         "type": "float"
        },
        {
         "name": "12",
         "rawType": "float64",
         "type": "float"
        },
        {
         "name": "13",
         "rawType": "float64",
         "type": "float"
        },
        {
         "name": "14",
         "rawType": "float64",
         "type": "float"
        },
        {
         "name": "15",
         "rawType": "float64",
         "type": "float"
        },
        {
         "name": "16",
         "rawType": "float64",
         "type": "float"
        },
        {
         "name": "17",
         "rawType": "float64",
         "type": "float"
        },
        {
         "name": "18",
         "rawType": "float64",
         "type": "float"
        },
        {
         "name": "19",
         "rawType": "float64",
         "type": "float"
        },
        {
         "name": "20",
         "rawType": "float64",
         "type": "float"
        },
        {
         "name": "21",
         "rawType": "float64",
         "type": "float"
        },
        {
         "name": "22",
         "rawType": "float64",
         "type": "float"
        },
        {
         "name": "23",
         "rawType": "float64",
         "type": "float"
        },
        {
         "name": "24",
         "rawType": "float64",
         "type": "float"
        },
        {
         "name": "25",
         "rawType": "float64",
         "type": "float"
        },
        {
         "name": "26",
         "rawType": "float64",
         "type": "float"
        },
        {
         "name": "27",
         "rawType": "float64",
         "type": "float"
        },
        {
         "name": "28",
         "rawType": "float64",
         "type": "float"
        },
        {
         "name": "29",
         "rawType": "float64",
         "type": "float"
        },
        {
         "name": "30",
         "rawType": "float64",
         "type": "float"
        },
        {
         "name": "31",
         "rawType": "float64",
         "type": "float"
        },
        {
         "name": "32",
         "rawType": "float64",
         "type": "float"
        },
        {
         "name": "33",
         "rawType": "float64",
         "type": "float"
        },
        {
         "name": "34",
         "rawType": "float64",
         "type": "float"
        },
        {
         "name": "35",
         "rawType": "float64",
         "type": "float"
        },
        {
         "name": "36",
         "rawType": "float64",
         "type": "float"
        },
        {
         "name": "37",
         "rawType": "float64",
         "type": "float"
        },
        {
         "name": "38",
         "rawType": "float64",
         "type": "float"
        },
        {
         "name": "39",
         "rawType": "float64",
         "type": "float"
        },
        {
         "name": "40",
         "rawType": "float64",
         "type": "float"
        },
        {
         "name": "41",
         "rawType": "float64",
         "type": "float"
        },
        {
         "name": "42",
         "rawType": "float64",
         "type": "float"
        },
        {
         "name": "43",
         "rawType": "float64",
         "type": "float"
        },
        {
         "name": "44",
         "rawType": "float64",
         "type": "float"
        },
        {
         "name": "45",
         "rawType": "float64",
         "type": "float"
        },
        {
         "name": "46",
         "rawType": "float64",
         "type": "float"
        },
        {
         "name": "47",
         "rawType": "float64",
         "type": "float"
        },
        {
         "name": "48",
         "rawType": "float64",
         "type": "float"
        },
        {
         "name": "49",
         "rawType": "float64",
         "type": "float"
        },
        {
         "name": "50",
         "rawType": "float64",
         "type": "float"
        },
        {
         "name": "51",
         "rawType": "float64",
         "type": "float"
        },
        {
         "name": "52",
         "rawType": "float64",
         "type": "float"
        },
        {
         "name": "53",
         "rawType": "float64",
         "type": "float"
        },
        {
         "name": "54",
         "rawType": "float64",
         "type": "float"
        },
        {
         "name": "55",
         "rawType": "float64",
         "type": "float"
        },
        {
         "name": "56",
         "rawType": "float64",
         "type": "float"
        },
        {
         "name": "57",
         "rawType": "float64",
         "type": "float"
        },
        {
         "name": "58",
         "rawType": "float64",
         "type": "float"
        },
        {
         "name": "59",
         "rawType": "float64",
         "type": "float"
        },
        {
         "name": "60",
         "rawType": "float64",
         "type": "float"
        },
        {
         "name": "61",
         "rawType": "float64",
         "type": "float"
        },
        {
         "name": "62",
         "rawType": "float64",
         "type": "float"
        },
        {
         "name": "63",
         "rawType": "float64",
         "type": "float"
        },
        {
         "name": "64",
         "rawType": "float64",
         "type": "float"
        },
        {
         "name": "65",
         "rawType": "float64",
         "type": "float"
        },
        {
         "name": "66",
         "rawType": "float64",
         "type": "float"
        },
        {
         "name": "67",
         "rawType": "float64",
         "type": "float"
        },
        {
         "name": "68",
         "rawType": "float64",
         "type": "float"
        },
        {
         "name": "69",
         "rawType": "float64",
         "type": "float"
        },
        {
         "name": "70",
         "rawType": "float64",
         "type": "float"
        },
        {
         "name": "71",
         "rawType": "float64",
         "type": "float"
        },
        {
         "name": "72",
         "rawType": "float64",
         "type": "float"
        },
        {
         "name": "73",
         "rawType": "float64",
         "type": "float"
        },
        {
         "name": "74",
         "rawType": "float64",
         "type": "float"
        },
        {
         "name": "75",
         "rawType": "float64",
         "type": "float"
        },
        {
         "name": "76",
         "rawType": "float64",
         "type": "float"
        },
        {
         "name": "77",
         "rawType": "float64",
         "type": "float"
        },
        {
         "name": "78",
         "rawType": "float64",
         "type": "float"
        },
        {
         "name": "79",
         "rawType": "float64",
         "type": "float"
        },
        {
         "name": "80",
         "rawType": "float64",
         "type": "float"
        },
        {
         "name": "81",
         "rawType": "float64",
         "type": "float"
        },
        {
         "name": "82",
         "rawType": "float64",
         "type": "float"
        },
        {
         "name": "83",
         "rawType": "float64",
         "type": "float"
        },
        {
         "name": "84",
         "rawType": "float64",
         "type": "float"
        },
        {
         "name": "85",
         "rawType": "float64",
         "type": "float"
        },
        {
         "name": "86",
         "rawType": "float64",
         "type": "float"
        },
        {
         "name": "87",
         "rawType": "float64",
         "type": "float"
        },
        {
         "name": "88",
         "rawType": "float64",
         "type": "float"
        },
        {
         "name": "89",
         "rawType": "float64",
         "type": "float"
        },
        {
         "name": "90",
         "rawType": "float64",
         "type": "float"
        },
        {
         "name": "91",
         "rawType": "float64",
         "type": "float"
        },
        {
         "name": "92",
         "rawType": "float64",
         "type": "float"
        },
        {
         "name": "93",
         "rawType": "float64",
         "type": "float"
        },
        {
         "name": "94",
         "rawType": "float64",
         "type": "float"
        },
        {
         "name": "95",
         "rawType": "float64",
         "type": "float"
        },
        {
         "name": "96",
         "rawType": "float64",
         "type": "float"
        },
        {
         "name": "97",
         "rawType": "float64",
         "type": "float"
        },
        {
         "name": "98",
         "rawType": "float64",
         "type": "float"
        },
        {
         "name": "99",
         "rawType": "float64",
         "type": "float"
        },
        {
         "name": "100",
         "rawType": "float64",
         "type": "float"
        },
        {
         "name": "101",
         "rawType": "float64",
         "type": "float"
        },
        {
         "name": "102",
         "rawType": "float64",
         "type": "float"
        },
        {
         "name": "103",
         "rawType": "float64",
         "type": "float"
        },
        {
         "name": "104",
         "rawType": "float64",
         "type": "float"
        },
        {
         "name": "105",
         "rawType": "float64",
         "type": "float"
        },
        {
         "name": "106",
         "rawType": "float64",
         "type": "float"
        },
        {
         "name": "107",
         "rawType": "float64",
         "type": "float"
        },
        {
         "name": "108",
         "rawType": "float64",
         "type": "float"
        },
        {
         "name": "109",
         "rawType": "float64",
         "type": "float"
        },
        {
         "name": "110",
         "rawType": "float64",
         "type": "float"
        },
        {
         "name": "111",
         "rawType": "float64",
         "type": "float"
        },
        {
         "name": "112",
         "rawType": "float64",
         "type": "float"
        },
        {
         "name": "113",
         "rawType": "float64",
         "type": "float"
        },
        {
         "name": "114",
         "rawType": "float64",
         "type": "float"
        },
        {
         "name": "115",
         "rawType": "float64",
         "type": "float"
        },
        {
         "name": "116",
         "rawType": "float64",
         "type": "float"
        },
        {
         "name": "117",
         "rawType": "float64",
         "type": "float"
        },
        {
         "name": "118",
         "rawType": "float64",
         "type": "float"
        },
        {
         "name": "119",
         "rawType": "float64",
         "type": "float"
        },
        {
         "name": "120",
         "rawType": "float64",
         "type": "float"
        },
        {
         "name": "121",
         "rawType": "float64",
         "type": "float"
        },
        {
         "name": "122",
         "rawType": "float64",
         "type": "float"
        },
        {
         "name": "123",
         "rawType": "float64",
         "type": "float"
        },
        {
         "name": "124",
         "rawType": "float64",
         "type": "float"
        },
        {
         "name": "125",
         "rawType": "float64",
         "type": "float"
        },
        {
         "name": "126",
         "rawType": "float64",
         "type": "float"
        },
        {
         "name": "127",
         "rawType": "float64",
         "type": "float"
        },
        {
         "name": "128",
         "rawType": "float64",
         "type": "float"
        },
        {
         "name": "129",
         "rawType": "float64",
         "type": "float"
        },
        {
         "name": "130",
         "rawType": "float64",
         "type": "float"
        },
        {
         "name": "131",
         "rawType": "float64",
         "type": "float"
        },
        {
         "name": "132",
         "rawType": "float64",
         "type": "float"
        },
        {
         "name": "133",
         "rawType": "float64",
         "type": "float"
        },
        {
         "name": "134",
         "rawType": "float64",
         "type": "float"
        },
        {
         "name": "135",
         "rawType": "float64",
         "type": "float"
        },
        {
         "name": "136",
         "rawType": "float64",
         "type": "float"
        },
        {
         "name": "137",
         "rawType": "float64",
         "type": "float"
        },
        {
         "name": "138",
         "rawType": "float64",
         "type": "float"
        },
        {
         "name": "139",
         "rawType": "float64",
         "type": "float"
        },
        {
         "name": "140",
         "rawType": "float64",
         "type": "float"
        },
        {
         "name": "141",
         "rawType": "float64",
         "type": "float"
        },
        {
         "name": "142",
         "rawType": "float64",
         "type": "float"
        },
        {
         "name": "143",
         "rawType": "float64",
         "type": "float"
        },
        {
         "name": "144",
         "rawType": "float64",
         "type": "float"
        },
        {
         "name": "145",
         "rawType": "float64",
         "type": "float"
        },
        {
         "name": "146",
         "rawType": "float64",
         "type": "float"
        },
        {
         "name": "147",
         "rawType": "float64",
         "type": "float"
        },
        {
         "name": "148",
         "rawType": "float64",
         "type": "float"
        },
        {
         "name": "149",
         "rawType": "float64",
         "type": "float"
        },
        {
         "name": "150",
         "rawType": "float64",
         "type": "float"
        },
        {
         "name": "151",
         "rawType": "float64",
         "type": "float"
        },
        {
         "name": "152",
         "rawType": "float64",
         "type": "float"
        },
        {
         "name": "153",
         "rawType": "float64",
         "type": "float"
        },
        {
         "name": "154",
         "rawType": "float64",
         "type": "float"
        },
        {
         "name": "155",
         "rawType": "float64",
         "type": "float"
        },
        {
         "name": "156",
         "rawType": "float64",
         "type": "float"
        },
        {
         "name": "157",
         "rawType": "float64",
         "type": "float"
        },
        {
         "name": "158",
         "rawType": "float64",
         "type": "float"
        },
        {
         "name": "159",
         "rawType": "float64",
         "type": "float"
        },
        {
         "name": "160",
         "rawType": "float64",
         "type": "float"
        },
        {
         "name": "161",
         "rawType": "float64",
         "type": "float"
        },
        {
         "name": "162",
         "rawType": "float64",
         "type": "float"
        },
        {
         "name": "163",
         "rawType": "float64",
         "type": "float"
        },
        {
         "name": "164",
         "rawType": "float64",
         "type": "float"
        },
        {
         "name": "165",
         "rawType": "float64",
         "type": "float"
        },
        {
         "name": "166",
         "rawType": "float64",
         "type": "float"
        },
        {
         "name": "167",
         "rawType": "float64",
         "type": "float"
        },
        {
         "name": "168",
         "rawType": "float64",
         "type": "float"
        },
        {
         "name": "169",
         "rawType": "float64",
         "type": "float"
        },
        {
         "name": "170",
         "rawType": "float64",
         "type": "float"
        },
        {
         "name": "171",
         "rawType": "float64",
         "type": "float"
        },
        {
         "name": "172",
         "rawType": "float64",
         "type": "float"
        },
        {
         "name": "173",
         "rawType": "float64",
         "type": "float"
        },
        {
         "name": "174",
         "rawType": "float64",
         "type": "float"
        },
        {
         "name": "175",
         "rawType": "float64",
         "type": "float"
        },
        {
         "name": "176",
         "rawType": "float64",
         "type": "float"
        },
        {
         "name": "177",
         "rawType": "float64",
         "type": "float"
        },
        {
         "name": "178",
         "rawType": "float64",
         "type": "float"
        },
        {
         "name": "179",
         "rawType": "float64",
         "type": "float"
        },
        {
         "name": "180",
         "rawType": "float64",
         "type": "float"
        },
        {
         "name": "181",
         "rawType": "float64",
         "type": "float"
        },
        {
         "name": "182",
         "rawType": "float64",
         "type": "float"
        },
        {
         "name": "183",
         "rawType": "float64",
         "type": "float"
        },
        {
         "name": "184",
         "rawType": "float64",
         "type": "float"
        },
        {
         "name": "185",
         "rawType": "float64",
         "type": "float"
        },
        {
         "name": "186",
         "rawType": "float64",
         "type": "float"
        },
        {
         "name": "187",
         "rawType": "float64",
         "type": "float"
        },
        {
         "name": "188",
         "rawType": "float64",
         "type": "float"
        },
        {
         "name": "189",
         "rawType": "float64",
         "type": "float"
        },
        {
         "name": "190",
         "rawType": "float64",
         "type": "float"
        },
        {
         "name": "191",
         "rawType": "float64",
         "type": "float"
        },
        {
         "name": "192",
         "rawType": "float64",
         "type": "float"
        },
        {
         "name": "193",
         "rawType": "float64",
         "type": "float"
        },
        {
         "name": "194",
         "rawType": "float64",
         "type": "float"
        },
        {
         "name": "195",
         "rawType": "float64",
         "type": "float"
        },
        {
         "name": "196",
         "rawType": "float64",
         "type": "float"
        },
        {
         "name": "197",
         "rawType": "float64",
         "type": "float"
        },
        {
         "name": "198",
         "rawType": "float64",
         "type": "float"
        },
        {
         "name": "199",
         "rawType": "float64",
         "type": "float"
        },
        {
         "name": "200",
         "rawType": "float64",
         "type": "float"
        },
        {
         "name": "201",
         "rawType": "float64",
         "type": "float"
        },
        {
         "name": "202",
         "rawType": "float64",
         "type": "float"
        },
        {
         "name": "203",
         "rawType": "float64",
         "type": "float"
        },
        {
         "name": "204",
         "rawType": "float64",
         "type": "float"
        },
        {
         "name": "205",
         "rawType": "float64",
         "type": "float"
        },
        {
         "name": "206",
         "rawType": "float64",
         "type": "float"
        },
        {
         "name": "207",
         "rawType": "float64",
         "type": "float"
        },
        {
         "name": "208",
         "rawType": "float64",
         "type": "float"
        },
        {
         "name": "209",
         "rawType": "float64",
         "type": "float"
        },
        {
         "name": "210",
         "rawType": "float64",
         "type": "float"
        },
        {
         "name": "211",
         "rawType": "float64",
         "type": "float"
        },
        {
         "name": "212",
         "rawType": "float64",
         "type": "float"
        },
        {
         "name": "213",
         "rawType": "float64",
         "type": "float"
        },
        {
         "name": "214",
         "rawType": "float64",
         "type": "float"
        },
        {
         "name": "215",
         "rawType": "float64",
         "type": "float"
        },
        {
         "name": "216",
         "rawType": "float64",
         "type": "float"
        },
        {
         "name": "217",
         "rawType": "float64",
         "type": "float"
        },
        {
         "name": "218",
         "rawType": "float64",
         "type": "float"
        },
        {
         "name": "219",
         "rawType": "float64",
         "type": "float"
        },
        {
         "name": "220",
         "rawType": "float64",
         "type": "float"
        },
        {
         "name": "221",
         "rawType": "float64",
         "type": "float"
        },
        {
         "name": "222",
         "rawType": "float64",
         "type": "float"
        },
        {
         "name": "223",
         "rawType": "float64",
         "type": "float"
        },
        {
         "name": "224",
         "rawType": "float64",
         "type": "float"
        },
        {
         "name": "225",
         "rawType": "float64",
         "type": "float"
        },
        {
         "name": "226",
         "rawType": "float64",
         "type": "float"
        },
        {
         "name": "227",
         "rawType": "float64",
         "type": "float"
        },
        {
         "name": "228",
         "rawType": "float64",
         "type": "float"
        },
        {
         "name": "229",
         "rawType": "float64",
         "type": "float"
        },
        {
         "name": "230",
         "rawType": "float64",
         "type": "float"
        },
        {
         "name": "231",
         "rawType": "float64",
         "type": "float"
        },
        {
         "name": "232",
         "rawType": "float64",
         "type": "float"
        },
        {
         "name": "233",
         "rawType": "float64",
         "type": "float"
        },
        {
         "name": "234",
         "rawType": "float64",
         "type": "float"
        },
        {
         "name": "235",
         "rawType": "float64",
         "type": "float"
        },
        {
         "name": "236",
         "rawType": "float64",
         "type": "float"
        },
        {
         "name": "237",
         "rawType": "float64",
         "type": "float"
        },
        {
         "name": "238",
         "rawType": "float64",
         "type": "float"
        },
        {
         "name": "239",
         "rawType": "float64",
         "type": "float"
        },
        {
         "name": "240",
         "rawType": "float64",
         "type": "float"
        },
        {
         "name": "241",
         "rawType": "float64",
         "type": "float"
        },
        {
         "name": "242",
         "rawType": "float64",
         "type": "float"
        },
        {
         "name": "243",
         "rawType": "float64",
         "type": "float"
        },
        {
         "name": "244",
         "rawType": "float64",
         "type": "float"
        },
        {
         "name": "245",
         "rawType": "float64",
         "type": "float"
        },
        {
         "name": "246",
         "rawType": "float64",
         "type": "float"
        },
        {
         "name": "247",
         "rawType": "float64",
         "type": "float"
        },
        {
         "name": "248",
         "rawType": "float64",
         "type": "float"
        },
        {
         "name": "249",
         "rawType": "float64",
         "type": "float"
        },
        {
         "name": "250",
         "rawType": "float64",
         "type": "float"
        },
        {
         "name": "251",
         "rawType": "float64",
         "type": "float"
        },
        {
         "name": "252",
         "rawType": "float64",
         "type": "float"
        },
        {
         "name": "253",
         "rawType": "float64",
         "type": "float"
        },
        {
         "name": "254",
         "rawType": "float64",
         "type": "float"
        },
        {
         "name": "255",
         "rawType": "float64",
         "type": "float"
        },
        {
         "name": "256",
         "rawType": "float64",
         "type": "float"
        },
        {
         "name": "257",
         "rawType": "float64",
         "type": "float"
        },
        {
         "name": "258",
         "rawType": "float64",
         "type": "float"
        },
        {
         "name": "259",
         "rawType": "float64",
         "type": "float"
        },
        {
         "name": "260",
         "rawType": "float64",
         "type": "float"
        },
        {
         "name": "261",
         "rawType": "float64",
         "type": "float"
        },
        {
         "name": "262",
         "rawType": "float64",
         "type": "float"
        },
        {
         "name": "263",
         "rawType": "float64",
         "type": "float"
        },
        {
         "name": "264",
         "rawType": "float64",
         "type": "float"
        },
        {
         "name": "265",
         "rawType": "float64",
         "type": "float"
        },
        {
         "name": "266",
         "rawType": "float64",
         "type": "float"
        },
        {
         "name": "267",
         "rawType": "float64",
         "type": "float"
        },
        {
         "name": "268",
         "rawType": "float64",
         "type": "float"
        },
        {
         "name": "269",
         "rawType": "float64",
         "type": "float"
        },
        {
         "name": "270",
         "rawType": "float64",
         "type": "float"
        },
        {
         "name": "271",
         "rawType": "float64",
         "type": "float"
        },
        {
         "name": "272",
         "rawType": "float64",
         "type": "float"
        },
        {
         "name": "273",
         "rawType": "float64",
         "type": "float"
        },
        {
         "name": "274",
         "rawType": "float64",
         "type": "float"
        },
        {
         "name": "275",
         "rawType": "float64",
         "type": "float"
        },
        {
         "name": "276",
         "rawType": "float64",
         "type": "float"
        },
        {
         "name": "277",
         "rawType": "float64",
         "type": "float"
        },
        {
         "name": "278",
         "rawType": "float64",
         "type": "float"
        },
        {
         "name": "279",
         "rawType": "float64",
         "type": "float"
        },
        {
         "name": "280",
         "rawType": "float64",
         "type": "float"
        },
        {
         "name": "281",
         "rawType": "float64",
         "type": "float"
        },
        {
         "name": "282",
         "rawType": "float64",
         "type": "float"
        },
        {
         "name": "283",
         "rawType": "float64",
         "type": "float"
        },
        {
         "name": "284",
         "rawType": "float64",
         "type": "float"
        },
        {
         "name": "285",
         "rawType": "float64",
         "type": "float"
        },
        {
         "name": "286",
         "rawType": "float64",
         "type": "float"
        },
        {
         "name": "287",
         "rawType": "float64",
         "type": "float"
        },
        {
         "name": "288",
         "rawType": "float64",
         "type": "float"
        },
        {
         "name": "289",
         "rawType": "float64",
         "type": "float"
        },
        {
         "name": "290",
         "rawType": "float64",
         "type": "float"
        },
        {
         "name": "291",
         "rawType": "float64",
         "type": "float"
        },
        {
         "name": "292",
         "rawType": "float64",
         "type": "float"
        },
        {
         "name": "293",
         "rawType": "float64",
         "type": "float"
        },
        {
         "name": "294",
         "rawType": "float64",
         "type": "float"
        },
        {
         "name": "295",
         "rawType": "float64",
         "type": "float"
        },
        {
         "name": "296",
         "rawType": "float64",
         "type": "float"
        },
        {
         "name": "297",
         "rawType": "float64",
         "type": "float"
        },
        {
         "name": "298",
         "rawType": "float64",
         "type": "float"
        },
        {
         "name": "299",
         "rawType": "float64",
         "type": "float"
        },
        {
         "name": "300",
         "rawType": "float64",
         "type": "float"
        },
        {
         "name": "301",
         "rawType": "float64",
         "type": "float"
        },
        {
         "name": "302",
         "rawType": "float64",
         "type": "float"
        },
        {
         "name": "303",
         "rawType": "float64",
         "type": "float"
        },
        {
         "name": "304",
         "rawType": "float64",
         "type": "float"
        },
        {
         "name": "305",
         "rawType": "float64",
         "type": "float"
        },
        {
         "name": "306",
         "rawType": "float64",
         "type": "float"
        },
        {
         "name": "307",
         "rawType": "float64",
         "type": "float"
        },
        {
         "name": "308",
         "rawType": "float64",
         "type": "float"
        },
        {
         "name": "309",
         "rawType": "float64",
         "type": "float"
        },
        {
         "name": "310",
         "rawType": "float64",
         "type": "float"
        },
        {
         "name": "311",
         "rawType": "float64",
         "type": "float"
        },
        {
         "name": "312",
         "rawType": "float64",
         "type": "float"
        },
        {
         "name": "313",
         "rawType": "float64",
         "type": "float"
        },
        {
         "name": "314",
         "rawType": "float64",
         "type": "float"
        },
        {
         "name": "315",
         "rawType": "float64",
         "type": "float"
        },
        {
         "name": "316",
         "rawType": "float64",
         "type": "float"
        },
        {
         "name": "317",
         "rawType": "float64",
         "type": "float"
        },
        {
         "name": "318",
         "rawType": "float64",
         "type": "float"
        },
        {
         "name": "319",
         "rawType": "float64",
         "type": "float"
        },
        {
         "name": "320",
         "rawType": "float64",
         "type": "float"
        },
        {
         "name": "321",
         "rawType": "float64",
         "type": "float"
        },
        {
         "name": "322",
         "rawType": "float64",
         "type": "float"
        },
        {
         "name": "323",
         "rawType": "float64",
         "type": "float"
        },
        {
         "name": "324",
         "rawType": "float64",
         "type": "float"
        },
        {
         "name": "325",
         "rawType": "float64",
         "type": "float"
        },
        {
         "name": "326",
         "rawType": "float64",
         "type": "float"
        },
        {
         "name": "327",
         "rawType": "float64",
         "type": "float"
        },
        {
         "name": "328",
         "rawType": "float64",
         "type": "float"
        },
        {
         "name": "329",
         "rawType": "float64",
         "type": "float"
        },
        {
         "name": "330",
         "rawType": "float64",
         "type": "float"
        },
        {
         "name": "331",
         "rawType": "float64",
         "type": "float"
        },
        {
         "name": "332",
         "rawType": "float64",
         "type": "float"
        },
        {
         "name": "333",
         "rawType": "float64",
         "type": "float"
        }
       ],
       "ref": "fe5463b7-7d29-49b1-ad05-6915694c856c",
       "rows": [
        [
         "0",
         "0.34531",
         "0.12843009056672772",
         "0.9765135353169572",
         "0.22870451186071872",
         "0.36329412438272635",
         "0.2110570668443309",
         "0.05638398204460515",
         "0.39515456223427015",
         "0.34712446196107816",
         "0.09847508511277159",
         "0.5564524927199489",
         "0.7813245069388608",
         "0.6511460641353879",
         "0.5083532361841969",
         "0.550656659113418",
         "0.5062519451554339",
         "0.627866633340235",
         "0.9655617893542339",
         "0.20213842866842135",
         "0.6466360165389936",
         "0.9963990467051018",
         "0.6607824128147656",
         "0.16288801116861196",
         "0.17379855218660079",
         "0.44334212250157845",
         "0.4172194020480605",
         "0.531259033959184",
         "0.6805510223374869",
         "0.2503620225487033",
         "0.16860669521076255",
         "0.9809034000251917",
         "0.4658209197497528",
         "0.2736313150181947",
         "0.8317047055936369",
         "0.9370821429253035",
         "0.06656202909211861",
         "0.9886930832423653",
         "0.8405670310523434",
         "0.5049054485858552",
         "0.13552441385594582",
         "0.721892081717362",
         "0.44788074116275267",
         "0.12851734442723495",
         "0.7312990366028819",
         "0.6287176184585517",
         "0.03594363478815188",
         "0.7855380185873424",
         "0.22248439178773516",
         "0.5921525470168674",
         "0.02184396774705999",
         "0.8343201836693434",
         "0.7080752601457622",
         "0.6976698355496068",
         "0.6950834854855147",
         "0.51270493279539",
         "0.8209955550844126",
         "0.6694731974093524",
         "0.7906584742806672",
         "0.1351261884438364",
         "0.44339851949135334",
         "0.8355717886604515",
         "0.5857645712771976",
         "0.8068123166503944",
         "0.20723243604691433",
         "0.7595358912734037",
         "0.05302818390889086",
         "0.05016579551688549",
         "0.884288658657158",
         "0.4001368178863618",
         "0.9978310520038093",
         "0.10259672284188048",
         "0.5554236824479255",
         "0.2231432609909022",
         "0.9563900976185123",
         "0.7788500221724126",
         "0.5799536022434066",
         "0.42070550432032683",
         "0.1366929197260457",
         "0.19352868457981653",
         "0.7211730063251702",
         "0.7707055342542429",
         "0.6367707700949548",
         "0.9346697042838835",
         "0.42827617607381574",
         "0.8734446042304385",
         "0.7755561638912172",
         "0.6553747235151036",
         "0.255216411072292",
         "0.8199031381715888",
         "0.8290698538942015",
         "0.1078104526064122",
         "0.6299669349547196",
         "0.4622406906035693",
         "0.9892892940150904",
         "0.21155549929113193",
         "0.34242681477602144",
         "0.6025066350069453",
         "0.11455334831923691",
         "0.8475110003977812",
         "0.014959825877010946",
         "0.5222512424998872",
         "0.8917784457358512",
         "0.39548741884583716",
         "0.9849789719272863",
         "0.6665060020224286",
         "0.6632868220352475",
         "0.2576072157250313",
         "0.9946467283271536",
         "0.9461375284647235",
         "0.8154818949252296",
         "0.054693382713850935",
         "0.8313847395404675",
         "0.9621584125232556",
         "0.6091197621984092",
         "0.9787806468152298",
         "0.6461152231123655",
         "0.10531090847119484",
         "0.9880058366349974",
         "0.6353160391028668",
         "0.35968094526279304",
         "0.1348870996135635",
         "0.6972620773980045",
         "0.10581658803759653",
         "0.1961563069906488",
         "0.4827177433243509",
         "0.6614373494124416",
         "0.045640414200551316",
         "0.07098583308723072",
         "0.5532269032539917",
         "0.7542218769092198",
         "0.4332943817529763",
         "0.7859482789645718",
         "0.04653546546888365",
         "0.7696125484418924",
         "0.1571308511459013",
         "0.9994794654217534",
         "0.8711701512953143",
         "0.7492814427718474",
         "0.598457470063185",
         "0.39554523791081275",
         "0.47650553924320216",
         "0.4144901344527352",
         "0.8812224764884427",
         "0.2092775384200033",
         "0.6364971636228342",
         "0.13231612585702357",
         "0.6359368842818793",
         "0.3625836942370504",
         "0.013370300786143097",
         "0.5151156998735574",
         "0.33666547884019626",
         "0.8193559427038212",
         "0.7865746396253777",
         "0.7228347600913956",
         "0.12434779745950264",
         "0.1745257915978442",
         "0.5050054036806768",
         "0.5299939442206655",
         "0.072495355412171",
         "0.6883569018307103",
         "0.5283998841193636",
         "0.6411921990907526",
         "0.5999514930425477",
         "0.6565329494946273",
         "0.8768404974358216",
         "0.2304380126379597",
         "0.9567280274214024",
         "0.22432595941136502",
         "0.014114363333022406",
         "0.776574119571412",
         "0.1329309469779455",
         "0.8087194241497511",
         "0.3188404565755576",
         "0.4187646138721278",
         "0.8643078046147329",
         "0.25012923905661333",
         "0.8826502122728337",
         "0.2501014879653358",
         "0.7014290692716938",
         "0.0005329750825600055",
         "0.9197287213299005",
         "0.8382394533076848",
         "0.013769057378308469",
         "0.6525870972493844",
         "0.2399030029370589",
         "0.7840183705867075",
         "0.02418585943723306",
         "0.28159205602407533",
         "0.7594711775824545",
         "0.40158642777872455",
         "0.5934194072714709",
         "0.867069382536048",
         "0.6660472001657438",
         "0.5906702075905884",
         "0.9200621516702454",
         "0.16765193382711718",
         "0.5217133525614562",
         "0.6500817699843842",
         "0.6031071766045735",
         "0.03107251368280617",
         "0.6292369474310295",
         "0.6863842350749739",
         "0.16251125108363262",
         "0.5302093529714774",
         "0.8064576247727127",
         "0.4006268345401861",
         "0.6453116480251317",
         "0.5579997831739177",
         "0.7980526539268629",
         "0.5630859935674799",
         "0.9774847092143655",
         "0.061981165826567874",
         "0.9768466137412216",
         "0.14890369707083262",
         "0.5235132516605357",
         "0.8613141008644131",
         "0.7867359421103035",
         "0.772820396210004",
         "0.9380538443726548",
         "0.6268304387925657",
         "0.9176862114947825",
         "0.897343213011176",
         "0.9861337761432886",
         "0.6594774045450035",
         "0.7282553847303685",
         "0.16269344760973148",
         "0.9040239932448971",
         "0.0949467338723643",
         "0.470063075081967",
         "0.5248506771198392",
         "0.9256921075852906",
         "0.6285748448045269",
         "0.7329287648250896",
         "0.8764109928442851",
         "0.9110250677015416",
         "0.2567846967930517",
         "0.3408631952399346",
         "0.15990354435326126",
         "0.05742855454817075",
         "0.8410244430270687",
         "0.5430683130454094",
         "0.3064756617833584",
         "0.680393440751843",
         "0.21443629246192675",
         "0.26321811400327655",
         "0.7288208048260051",
         "0.07102220754003674",
         "0.4454394766188463",
         "0.7622309092662263",
         "0.5015548238216744",
         "0.7036330830466027",
         "0.6539840859540281",
         "0.223620002545316",
         "0.26438171094832497",
         "0.9706855221878756",
         "0.3435192408143838",
         "0.7129516461163293",
         "0.5954179767739338",
         "0.006558437691891239",
         "0.8962764399589376",
         "0.2644909252278783",
         "0.18392735639965707",
         "0.25140075472755097",
         "0.9779079395491861",
         "0.04479861677823471",
         "0.6219367003349959",
         "0.6444050638148557",
         "0.7727182568656238",
         "0.8403861444607189",
         "0.3146235508361467",
         "0.06546899981221799",
         "0.061661838164088434",
         "0.11951493900675203",
         "0.36352217124708186",
         "0.22107607920462136",
         "0.6544420547606924",
         "0.7606963325428556",
         "0.499800121296316",
         "0.7824045594205546",
         "0.173945113234517",
         "0.868121563346876",
         "0.5756074756131311",
         "0.9586944503025426",
         "0.7401664623648234",
         "0.4579821768439285",
         "0.17993874486603445",
         "0.6043697497479088",
         "0.5129459368804562",
         "0.42850314226006814",
         "0.8051508473994903",
         "0.6320680848619934",
         "0.2327861791498913",
         "0.2998715106892478",
         "0.6318617465130897",
         "0.15276106990128768",
         "0.7405853034384493",
         "0.4775454302430303",
         "0.9017485952357476",
         "0.1684295514117361",
         "0.550874664368373",
         "0.3219071744254489",
         "0.04039707576641127",
         "0.9039513866821346",
         "0.4511182230208669",
         "0.3986910036727528",
         "0.39389713107109514",
         "0.39670212589558795",
         "0.27578086930350465",
         "0.9979341778327753",
         "0.002175417280627423",
         "0.32885718946003084",
         "0.778740264466182",
         "0.03251704632784669",
         "0.3932019795793954",
         "0.01383362266464383",
         "0.037096668539802424",
         "0.43503234616162956",
         "0.11251625863489356",
         "0.6815439448440406",
         "0.05685886137717666",
         "0.4696497244465584",
         "0.056144686020249024",
         "0.9395510949961976",
         "0.9152267098741139",
         "0.201995276209468",
         "0.08976082842034017",
         "0.9729601101898798",
         "0.01738710217178563",
         "0.10705599678958688",
         "0.36947894180477736",
         "0.8805446252138783",
         "0.2723430956858559",
         "0.8768443261237631",
         "0.12898244964943106"
        ],
        [
         "1",
         "0.7820470183933164",
         "0.3938801014353325",
         "0.05069198116376483",
         "0.5539377492996397",
         "0.3217769006001796",
         "0.5223482251131428",
         "0.9595065919305314",
         "0.03929409971105946",
         "0.9857349032050153",
         "0.20135332177212195",
         "0.27139019044077795",
         "0.1877024316720003",
         "0.29542025391633764",
         "0.9518502331727317",
         "0.3967861996712888",
         "0.08880310307550454",
         "0.05284237710542217",
         "0.5024740955178767",
         "0.6054850473113454",
         "0.02370817653223478",
         "0.7200556031202756",
         "0.5891797028747482",
         "0.9534487177598739",
         "0.41816550385040474",
         "0.22750643108834068",
         "0.19859292418749785",
         "0.051688152118105735",
         "0.23066864873132997",
         "0.6962175947778495",
         "0.5318180906036054",
         "0.7307676800890814",
         "0.25511098985710756",
         "0.2978477146147749",
         "0.8301223238621807",
         "0.37186284202929343",
         "0.8102544862461544",
         "0.17701135133992096",
         "0.7236558236100522",
         "0.6821275952029692",
         "0.23362199334676736",
         "0.42857332372501433",
         "0.7128103805045082",
         "0.4449496584318262",
         "0.2942624820322093",
         "0.28788418282131345",
         "0.03061837024250358",
         "0.33446453828176503",
         "0.919359989355044",
         "0.7913127440059109",
         "0.9299419216388763",
         "0.26054126956131785",
         "0.028444426587193927",
         "0.47364169026862835",
         "0.07412106694777199",
         "0.42968670679157994",
         "0.4760707820402219",
         "0.7733942973392516",
         "0.6957223878592163",
         "0.4450807742350221",
         "0.8913113373462676",
         "0.45716708811219053",
         "0.3377263486174241",
         "0.8846208539853985",
         "0.26105160771176683",
         "0.010437556670207182",
         "0.28423715216946",
         "0.6018293638758511",
         "0.0633024017190742",
         "0.6509238344327122",
         "0.2676635469400481",
         "0.8956996918835024",
         "0.34444767656835384",
         "0.3994626444124305",
         "0.09267825278433361",
         "0.008391994538098468",
         "0.4595083604999064",
         "0.536498613114308",
         "0.03496011565904933",
         "0.8053307541524993",
         "0.48996770180620486",
         "0.29967279758101206",
         "0.8047137378700328",
         "0.7975359941317537",
         "0.7148610525672949",
         "0.6113116394973573",
         "0.684644604853352",
         "0.6410863278230685",
         "0.9628324640793638",
         "0.6247015218092802",
         "0.4326598620333679",
         "0.24066119525699958",
         "0.7665335484581048",
         "0.9312346686409431",
         "0.6505871756954891",
         "0.3087574206415986",
         "0.10683188111088515",
         "0.008040464419950544",
         "0.9409603850371621",
         "0.8354792422887951",
         "0.4682136648609676",
         "0.6101648633903656",
         "0.6973511571523521",
         "0.9703315813818956",
         "0.5023858276281186",
         "0.05380610782508466",
         "0.1798076939840242",
         "0.34997908775506326",
         "0.11290921073757376",
         "0.6748731334790521",
         "0.9461124309681939",
         "0.1654405854967983",
         "0.7769043449408158",
         "0.5186874405470533",
         "0.26354363976989925",
         "0.7712429161533887",
         "0.5663643381138386",
         "0.42825835056602446",
         "0.7381663393116564",
         "0.5682020821828588",
         "0.657202634062792",
         "0.621022418288554",
         "0.9760295538598855",
         "0.28654618020174893",
         "0.006164027239153103",
         "0.7097405244527705",
         "0.3905614198188381",
         "0.2937883521782203",
         "0.5980158246063207",
         "0.7299675533655946",
         "0.48926701091766645",
         "0.5356280175758829",
         "0.9992905431565774",
         "0.49650096262895405",
         "0.8860420898979476",
         "0.39758980397228094",
         "0.808217419501991",
         "0.3904712451477811",
         "0.4585387725511332",
         "0.8403673199858008",
         "0.7641013917254549",
         "0.21092103845108945",
         "0.20647874956012702",
         "0.47945149462961134",
         "0.21646033162567313",
         "0.9313142125975663",
         "0.06173460126426178",
         "0.022146242522319004",
         "0.6757671068265687",
         "0.4020819342315609",
         "0.5788870947416443",
         "0.1735889157636813",
         "0.21350177092193812",
         "0.1264814764147717",
         "0.8287188500093919",
         "0.18845820389843515",
         "0.2906371939141795",
         "0.8008035400222568",
         "0.26937575531278535",
         "0.7594162085106043",
         "0.8535660691318596",
         "0.1793633917576789",
         "0.40262878469319263",
         "0.6818215848925203",
         "0.7680621458381053",
         "0.05905034873802206",
         "0.6351524836348506",
         "0.0844137254383508",
         "0.3131431933491078",
         "0.36738274713579766",
         "0.7023685204643219",
         "0.8091132035989413",
         "0.6748631567294079",
         "0.9405918188875818",
         "0.09117772308111383",
         "0.9872570207137471",
         "0.6417723009062846",
         "0.8345959562030821",
         "0.3426308391723978",
         "0.11333783356597682",
         "0.008909915290084558",
         "0.2746824081403253",
         "0.7341031395588898",
         "0.9232295752512952",
         "0.5305209454803758",
         "0.3488326161473282",
         "0.04992015739215305",
         "0.3227555712071899",
         "0.4386335793219359",
         "0.45571653624985975",
         "0.22949569364597544",
         "0.11834978368815974",
         "0.6413446856447262",
         "0.9735221963728324",
         "0.7482783262705688",
         "0.9317379616407695",
         "0.615914622944313",
         "0.8659717485133195",
         "0.3992046121177716",
         "0.9118504421642171",
         "0.5921073034727663",
         "0.7584268380062194",
         "0.7283740941722808",
         "0.2020779553065719",
         "0.6413254309730646",
         "0.5351649653933821",
         "0.48610743919956223",
         "0.7318445859115116",
         "0.5116638078696925",
         "0.8904429357581672",
         "0.06683784753300126",
         "0.7906147286247364",
         "0.8131664310221146",
         "0.8194695656598813",
         "0.1196583642764173",
         "0.36838496802697895",
         "0.25244623728116045",
         "0.3513152144671894",
         "0.5211739765962905",
         "0.2705193246317651",
         "0.9577413507669196",
         "0.12316308663822584",
         "0.2545958636821971",
         "0.10795145102342041",
         "0.9502951285014073",
         "0.6261352333540514",
         "0.0963788605794692",
         "0.8535504891624383",
         "0.7253002943556378",
         "0.8205971834521302",
         "0.21201924149847218",
         "0.3015752785666992",
         "0.5235587118961896",
         "0.5175294130701399",
         "0.138891375431776",
         "0.40040992266599107",
         "0.9104110938071351",
         "0.5485462428430742",
         "0.760683605932725",
         "0.6062263841225499",
         "0.47711578680770783",
         "0.6629737340036298",
         "0.8598826681472131",
         "0.2197487876627907",
         "0.9026555609392013",
         "0.3730272404545326",
         "0.7508923468145267",
         "0.05509736723682257",
         "0.08053120123288782",
         "0.608372428915535",
         "0.20691148774356827",
         "0.835039090577374",
         "0.6684627635116528",
         "0.6185428333112217",
         "0.8804665325632286",
         "0.0543469448167031",
         "0.1343297583648544",
         "0.9954278225119852",
         "0.5222859084817838",
         "0.7363178836583066",
         "0.08897152107285056",
         "0.34329617618008645",
         "0.605125605666492",
         "0.7280329017832504",
         "0.2061083172221897",
         "0.8590764818470369",
         "0.7267605462614777",
         "0.15432758218930065",
         "0.7300826921181535",
         "0.9283485693004268",
         "0.5775302485538968",
         "0.9573732302531186",
         "0.4794056953223569",
         "0.4026049305799698",
         "0.5411677421402078",
         "0.727257991631434",
         "0.9798735278243635",
         "0.752259354412617",
         "0.6024914448413624",
         "0.5966198899042667",
         "0.5941042941727532",
         "0.5411250362766968",
         "0.15358567523594147",
         "0.9978088328650905",
         "0.5831433677202605",
         "0.7834859571106313",
         "0.17512069548077502",
         "0.9426025064252594",
         "0.8987819869592327",
         "0.7725058521380579",
         "0.09683463700485906",
         "0.44602765450657844",
         "0.7707312423408498",
         "0.8405396790737121",
         "0.05476133588145993",
         "0.6991508811911177",
         "0.8334585289834114",
         "0.08157661392405913",
         "0.9966961280458295",
         "0.577790915051553",
         "0.44280670990945414",
         "0.08616906502501431",
         "0.8142120616096657",
         "0.5262577577402258",
         "0.416267120727425",
         "0.8847001058232971",
         "0.37279145748396947",
         "0.763209833506928",
         "0.7846996578738723",
         "0.8622894562831347",
         "0.5170335360789327",
         "0.96042489936485",
         "0.4220824881887776",
         "0.5566117666831978",
         "0.38481076143163095",
         "0.34324598848587884",
         "0.5854885587132482",
         "0.30807176308492124",
         "0.12491719878555174",
         "0.2189164299198505",
         "0.4081990386505121",
         "0.3496026609509717",
         "0.865017415767578",
         "0.08422305801413255",
         "0.7383100459239329",
         "0.9412144920121771",
         "0.6958736238006393",
         "0.40966065782211547",
         "0.9562310911380444",
         "0.831749012498524",
         "0.14280398452069376",
         "0.7769621315365455",
         "0.3626064525028423",
         "0.7050506656465935",
         "0.11608275042498095"
        ],
        [
         "2",
         "0.8072195513522772",
         "0.6648939142489135",
         "0.8771899741666347",
         "0.2951890619832668",
         "0.7617271157391927",
         "0.9909811457316978",
         "0.3828303064500691",
         "0.6090072999205016",
         "0.804366583452832",
         "0.5471781105714979",
         "0.6092461509313286",
         "0.2606423008570685",
         "0.9859118974667059",
         "0.727012277383883",
         "0.3544940569232333",
         "0.5404693745376238",
         "0.012201393180711118",
         "0.6327737390739004",
         "0.45747956716484905",
         "0.34728724896013785",
         "0.30440972368866825",
         "0.17766302062071526",
         "0.23509039536531529",
         "0.4868705868241713",
         "0.6678526187152185",
         "0.19981076340437132",
         "0.6262166082218926",
         "0.44022297781526043",
         "0.9098870288309022",
         "0.7640327345669153",
         "0.08881337298491432",
         "0.1950892705595525",
         "0.37280271888275607",
         "0.12084832184104699",
         "0.6913098117329952",
         "0.8936951809791494",
         "0.08103591560931256",
         "0.6638040390605885",
         "0.005724382848044107",
         "0.28954768568189515",
         "0.061996158849507266",
         "0.8572280017348901",
         "0.1918911169700498",
         "0.2709097991688584",
         "0.4799539207199589",
         "0.11111808020522485",
         "0.7531872382144452",
         "0.9834233311905421",
         "0.7976852563377749",
         "0.2010201842445486",
         "0.993500752707919",
         "0.06696151026582908",
         "0.29129269047450157",
         "0.02602763630426108",
         "0.147328115132207",
         "0.46881625320235687",
         "0.7226695136651708",
         "0.3158891333426589",
         "0.39085928836323747",
         "0.8955503391771803",
         "0.20508018323019594",
         "0.2666124927703286",
         "0.7327179186317995",
         "0.9279864228414572",
         "0.6790884812070155",
         "0.08022959612554881",
         "0.9505800056723921",
         "0.04141609171226235",
         "0.4682836700482734",
         "0.727713653045511",
         "0.6941476224620741",
         "0.3878409157230548",
         "0.38148356299238617",
         "0.29589322116793193",
         "0.7172972065580931",
         "0.37895717088274616",
         "0.16142635832577623",
         "0.5021925728972662",
         "0.6931169029676165",
         "0.5743158366005726",
         "0.19130979618572908",
         "0.38347009486192263",
         "0.19135523417293665",
         "0.6776940266496023",
         "0.785545704201828",
         "0.14644989890086002",
         "0.6729438322189939",
         "0.9989446868120273",
         "0.8160729609711022",
         "0.26612051561738725",
         "0.7385992501211595",
         "0.0016559853339538355",
         "0.36381192576251054",
         "0.5979687369670628",
         "0.24450393693970807",
         "0.5129750007164905",
         "0.621195980190069",
         "0.4430414405140969",
         "0.9292409028310014",
         "0.8138047844611798",
         "0.9618594734899943",
         "0.562527274221655",
         "0.25905766284889475",
         "0.16007342159404403",
         "0.6020900195483294",
         "0.46939580472430864",
         "0.6770286548204038",
         "0.04924354185284274",
         "0.8216755490594434",
         "0.3400785235434388",
         "0.85778921359482",
         "0.9067020868130604",
         "0.7906630214977713",
         "0.8864909195538915",
         "0.20322507860294003",
         "0.09505352015788349",
         "0.06644702753811293",
         "0.7854071634836217",
         "0.13709943137231562",
         "0.32546455438465394",
         "0.46045396169499675",
         "0.33835732860249235",
         "0.6153272014005343",
         "0.5303591358664427",
         "0.650135378948959",
         "0.17055930346722437",
         "0.10650106346071642",
         "0.35447528925258",
         "0.10970004802441569",
         "0.6371449323788066",
         "0.45806843627869875",
         "0.35477361739206137",
         "0.10460677985805555",
         "0.547665810286086",
         "0.35333465622836213",
         "0.15690217278829643",
         "0.3203432455461921",
         "0.38967440381616203",
         "0.9246110347317213",
         "0.12021836551210041",
         "0.03929374025098409",
         "0.717299540494825",
         "0.24062159573733322",
         "0.6772678746867663",
         "0.8952228332509866",
         "0.05044203989675222",
         "0.97815842293139",
         "0.07037162844898626",
         "0.002646720532026081",
         "0.6077993543047927",
         "0.5627979274827138",
         "0.7857137517715053",
         "0.9016357941511868",
         "0.26096085351046616",
         "0.917262017933339",
         "0.9336477560289763",
         "0.7540109642679528",
         "0.7004110225628931",
         "0.750429253461939",
         "0.4276582726546453",
         "0.788454419873",
         "0.20920066418427463",
         "0.34480516097219827",
         "0.8521720951291137",
         "0.9085594122801998",
         "0.0838238403430055",
         "0.6974017466334259",
         "0.8946894451299949",
         "0.3101156516784037",
         "0.10722722248520844",
         "0.5900793519287785",
         "0.15273530986283324",
         "0.9450604684405813",
         "0.948236626526526",
         "0.8512370353092406",
         "0.30130549517159566",
         "0.19104236381897044",
         "0.11839902463313234",
         "0.45492851434890846",
         "0.18103072838164536",
         "0.4889652953695135",
         "0.2956118299703596",
         "0.43275141836833875",
         "0.5960403948700093",
         "0.9143116987365454",
         "0.13157926997184122",
         "0.648738384050719",
         "0.3831071791849988",
         "0.7748274002345528",
         "0.22434281364035635",
         "0.7094211744681261",
         "0.5357443628965655",
         "0.8345742636893076",
         "0.208414043038454",
         "0.009744043446142103",
         "0.030254468494483766",
         "0.6067139923627007",
         "0.8723727375913232",
         "0.4710983040465401",
         "0.9131167594682515",
         "0.35373817405371755",
         "0.27748369131136275",
         "0.05334097741009103",
         "0.27524028198549333",
         "0.9645367682001842",
         "0.42086320220721085",
         "0.6064172901940498",
         "0.5112063593748337",
         "0.5163223197754988",
         "0.22525589763105103",
         "0.6242427174116163",
         "0.26729119174953975",
         "0.18050705258434918",
         "0.6178392401688566",
         "0.905864942286515",
         "0.14126289435957762",
         "0.377607892149874",
         "0.7769440444813424",
         "0.12208864938448871",
         "0.536474405371744",
         "0.41443843382527257",
         "0.43319814700813053",
         "0.7299640584121712",
         "0.7782964624569887",
         "0.28371008705855905",
         "0.7491239212024964",
         "0.821146265584543",
         "0.6084795419566139",
         "0.5476557737261543",
         "0.8913986428279689",
         "0.9574506781201078",
         "0.4228846800766367",
         "0.4448280396544916",
         "0.23480253729045508",
         "0.008744838162568325",
         "0.7708369181661054",
         "0.9286229767649327",
         "0.6732363708330337",
         "0.9547977686967403",
         "0.16492781812212343",
         "0.10203695860639983",
         "0.7907866089846026",
         "0.6170018166240989",
         "0.4531688991413778",
         "0.49931538306778356",
         "0.8879601588569032",
         "0.9736435196369105",
         "0.698276207532227",
         "0.03924863640906151",
         "0.031515527086741324",
         "0.07847369312954333",
         "0.17103968404622594",
         "0.31658574215630064",
         "0.9281949193100691",
         "0.27307279251817806",
         "0.4438009958770277",
         "0.8830995088894174",
         "0.25670234996172603",
         "0.8509263013804339",
         "0.9651126281681645",
         "0.7403005307163916",
         "0.04951977841233257",
         "0.6945775607168377",
         "0.2320901369228564",
         "0.12576457918866712",
         "0.15687024786381165",
         "0.22780263241538357",
         "0.8284161203368217",
         "0.20556192719229283",
         "0.9165565148488716",
         "0.6676871219309055",
         "0.22442886933697248",
         "0.5030556898177427",
         "0.9109573408875339",
         "0.8131127455984088",
         "0.9546704867123866",
         "0.9398005411057301",
         "0.7512849919720169",
         "0.7973745457049307",
         "0.10468665877759475",
         "0.4648112842784725",
         "0.3941937255829123",
         "0.520884428854528",
         "0.9804100076634998",
         "0.5394858675287698",
         "0.5743319261474776",
         "0.8505240584666378",
         "0.3557332027268766",
         "0.4670916866871333",
         "0.30084237634168876",
         "0.19957620904012663",
         "0.23342777199483322",
         "0.38849235928994974",
         "0.7623761730768536",
         "0.356855854402537",
         "0.3041362187075267",
         "0.8486741751010343",
         "0.28850041107658075",
         "0.16362435180840607",
         "0.23671192432522925",
         "0.14447833518517594",
         "0.808703898022145",
         "0.9279537654121485",
         "0.9943028706085084",
         "0.9834847831744935",
         "0.31187515677483957",
         "0.7925586058673101",
         "0.9409842847812512",
         "0.0711478292808696",
         "0.6428904760394288",
         "0.8201426516243755",
         "0.5412423335363863",
         "0.588836514997307",
         "0.011293223604193159",
         "0.8537273323181057",
         "0.344561946648544",
         "0.9632472110593244",
         "0.625219405029743",
         "0.7080447228876676",
         "0.9357880962559829",
         "0.1619895774995178",
         "0.670647662602561",
         "0.6003888170058963",
         "0.6387438678300342",
         "0.9510910144396212",
         "0.5951352661054772",
         "0.12295524566371407",
         "0.8347589015340166",
         "0.9391791207854552",
         "0.4102618378236388",
         "0.189282504614108",
         "0.7655915011409288",
         "0.16522037961787572",
         "0.6225987793632142"
        ],
        [
         "3",
         "0.5400593847186567",
         "0.8175864898685784",
         "0.5518321583044961",
         "0.948355547777948",
         "0.863740737736931",
         "0.817474688125708",
         "0.23968158078618773",
         "0.527822125069944",
         "0.9620003414447467",
         "0.5931965871593752",
         "0.601969529536452",
         "0.28572097401604557",
         "0.08756791183826629",
         "0.3805611567081033",
         "0.8160690714382771",
         "0.808892482739703",
         "0.3016938660106677",
         "0.04018164884900821",
         "0.7497844542768779",
         "0.15996542048675477",
         "0.5447969422715797",
         "0.41821689152050445",
         "0.06704668202422692",
         "0.9508167895567623",
         "0.10171342913665804",
         "0.29741982114513266",
         "0.16530225765651385",
         "0.33903680613404075",
         "0.9943970799498738",
         "0.49416183261753976",
         "0.5394276638279468",
         "0.570152408498191",
         "0.2768389694591009",
         "0.7716199314108453",
         "0.5980511273880509",
         "0.03277811906616068",
         "0.7983358607963988",
         "0.166965538713729",
         "0.861905809140322",
         "0.18310795340430397",
         "0.6566664680130615",
         "0.44265886923013664",
         "0.53146526293249",
         "0.1969160084851237",
         "0.7159578452700981",
         "0.9902560385208359",
         "0.47900816166965776",
         "0.08037112838092153",
         "0.3684820954844521",
         "0.37234604838933505",
         "0.8042334758034678",
         "0.6239695157431735",
         "0.8576213062623801",
         "0.3021093618812415",
         "0.24365560523612706",
         "0.665045584479438",
         "0.8594659485979209",
         "0.8505920700060031",
         "0.245944739041159",
         "0.07068804700137687",
         "0.46288540529935096",
         "0.9354244972874236",
         "0.49058769552883297",
         "0.2566198633549671",
         "0.08508898387637687",
         "0.6590375205079514",
         "0.9479259317560901",
         "0.4932738344837855",
         "0.46580076996443887",
         "0.5275387145812768",
         "0.4968055570760892",
         "0.1652060853656061",
         "0.10939656995229974",
         "0.5151240684547189",
         "0.2585013388512031",
         "0.1456852708958598",
         "0.5184208805309284",
         "0.14998280445347567",
         "0.4305512631581483",
         "0.05743673333740573",
         "0.09806130552828984",
         "0.4292811564247433",
         "0.5100621010223161",
         "0.0774135921664626",
         "0.4545900495709969",
         "0.4303934440997297",
         "0.7369075345809896",
         "0.8025507075245774",
         "0.7808486791336939",
         "0.4944598489120233",
         "0.31172803954735917",
         "0.8746532929134263",
         "0.7792747122148036",
         "0.33659218084729614",
         "0.6794766174665756",
         "0.6088526821972366",
         "0.5434283581023802",
         "0.6107301560505511",
         "0.4632288699241591",
         "0.9078436350020669",
         "0.12034947992308442",
         "0.050833427328048075",
         "0.5227276093749025",
         "0.8670362286795322",
         "0.6522670574271933",
         "0.04507503009084757",
         "0.13181459270379592",
         "0.5821870458233211",
         "0.2501860699026228",
         "0.17601704583883138",
         "0.8556524880338563",
         "0.28461683802621685",
         "0.7697349347355569",
         "0.21345760820045534",
         "0.7207555325492577",
         "0.7190025667151718",
         "0.8427382247907597",
         "0.175143630739499",
         "0.03732405041710307",
         "0.8500093378313143",
         "0.3287215025206194",
         "0.4600540269048222",
         "0.20093480219761817",
         "0.10014296760697283",
         "0.1289406200730564",
         "0.2775978965424579",
         "0.9105646201115959",
         "0.8380897421571067",
         "0.26388884369862253",
         "0.5223123371090577",
         "0.6551604583203077",
         "0.2830874325466428",
         "0.3574951733920061",
         "0.8207255623646696",
         "0.5348515032961187",
         "0.14706845657672296",
         "0.17798317947967368",
         "0.6346165482079236",
         "0.13928060063803416",
         "0.5386804423472253",
         "0.5818224685041837",
         "0.7059001013722302",
         "0.03122213002407681",
         "0.5893023798678656",
         "0.2012575538629522",
         "0.9060491666980534",
         "0.37452130492099056",
         "0.45709783788968605",
         "0.5583983316633404",
         "0.9086525985948308",
         "0.6420511378995898",
         "0.12731997631074754",
         "0.23638831346157307",
         "0.2836261298817374",
         "0.5993796323179825",
         "0.7218398282833147",
         "0.35146606361804633",
         "0.9905299965637258",
         "0.3327588119657019",
         "0.6335596393140387",
         "0.22204217320532227",
         "0.5484196171807539",
         "0.07737794774787554",
         "0.7889919246393531",
         "0.2732607129720609",
         "0.38560447455591207",
         "0.5707434267659349",
         "0.2964793487455222",
         "0.8418117542158806",
         "0.49424056522311666",
         "0.09642124327884549",
         "0.5296616690621294",
         "0.9750941056681387",
         "0.25315322182977973",
         "0.8367308151619713",
         "0.7471218465564726",
         "0.9593824500249014",
         "0.7571976894278665",
         "0.8890207703503339",
         "0.19107208004721998",
         "0.45664340739853526",
         "0.8964638318809145",
         "0.5253830246398645",
         "0.10022425824146042",
         "0.3550009009651728",
         "0.5125373995794648",
         "0.6006804444280989",
         "0.5770720422787161",
         "0.7145909170463624",
         "0.7433207588147618",
         "0.6759735824619556",
         "0.18935916088461713",
         "0.1109383375809524",
         "0.6647457280102187",
         "0.3235384137083531",
         "0.10786569002664614",
         "0.5144578704540921",
         "0.03525361113391723",
         "0.45673946753867156",
         "0.5523002148412628",
         "0.6432431090383499",
         "0.8931689501935635",
         "0.05887355271878669",
         "0.25180937760302957",
         "0.5937226944897112",
         "0.24689265553680706",
         "0.8823658460269576",
         "0.012327033612770322",
         "0.5460886868912822",
         "0.03547819305190203",
         "0.5463587327993794",
         "0.42238387151341394",
         "0.3670254081309068",
         "0.7025692412372978",
         "0.6314679365604761",
         "0.6935035602033462",
         "0.8573584278408707",
         "0.05142604627784453",
         "0.6969208358067916",
         "0.2158709534248221",
         "0.7716000382295486",
         "0.45023571013783026",
         "0.0701742832289377",
         "0.6913348732375937",
         "0.6383905184710716",
         "0.2947844749636137",
         "0.3480244031029619",
         "0.36823287151496653",
         "0.6417723281860042",
         "0.6924814205861601",
         "0.31291901584292947",
         "0.6917152316961984",
         "0.0067145250036082516",
         "0.5070265753779365",
         "0.9671839067245495",
         "0.24632756865268035",
         "0.5533254073951378",
         "0.9221884472686014",
         "0.4980141488666987",
         "0.362266301797754",
         "0.10453476235720915",
         "0.3127984937183166",
         "0.5754389102326347",
         "0.017986020915087053",
         "0.2870234029788373",
         "0.6487381895290437",
         "0.4953954078193711",
         "0.7765099762069257",
         "0.4889424239258022",
         "0.17231837788453797",
         "0.03751038860842526",
         "0.49943653328028703",
         "0.16896439282003972",
         "0.6671516018958636",
         "0.6073602449875071",
         "0.5465892566427515",
         "0.5555007916756296",
         "0.5487374712847699",
         "0.5303558396789879",
         "0.10535993092100338",
         "0.950247787465232",
         "0.6756633830561795",
         "0.4401206426963872",
         "0.6005887734322316",
         "0.8177007450723977",
         "0.7387298641188796",
         "0.7203519848453069",
         "0.9419914652895357",
         "0.782403219604613",
         "0.032429007245240116",
         "0.5424349123526667",
         "0.8066916551836257",
         "0.5292598797846291",
         "0.8978047444544914",
         "0.2499360435202731",
         "0.9040174636376682",
         "0.5965239424325006",
         "0.7889206703944653",
         "0.4836791883403466",
         "0.20929158475508491",
         "0.07379209337858128",
         "0.8609034999315852",
         "0.8712191064735764",
         "0.4608209924303215",
         "0.01061411846804805",
         "0.3052067983750383",
         "0.2961233423256955",
         "0.5457176573244504",
         "0.6027841536971341",
         "0.6760097856529518",
         "0.9006039748760502",
         "0.9723607299102247",
         "0.9727461080973774",
         "0.4710970200935677",
         "0.683374852552933",
         "0.36792744520612186",
         "0.2828888869186099",
         "0.045469318745011145",
         "0.49002719180641463",
         "0.6118823334271855",
         "0.18879620024734467",
         "0.8400687848736994",
         "0.8253282455856812",
         "0.06935162413934548",
         "0.2724051173666463",
         "0.2642389624295106",
         "0.7630806700903224",
         "0.6566716327827692",
         "0.5140975859997111",
         "0.1356028208938791",
         "0.08340901195328176",
         "0.021073888723109224",
         "0.6362126403959197",
         "0.561798546678488",
         "0.08136300794169726",
         "0.19866279757492744",
         "0.9336844020187142",
         "0.9948304429923457",
         "0.15256679506496418",
         "0.4271005868866473",
         "0.09411777142314526",
         "0.42425939146837277",
         "0.9517580530462483",
         "0.11956741469768073",
         "0.7787793335466957",
         "0.7173547148194617",
         "0.75446885252111",
         "0.7986570076391123",
         "0.17811981891865192",
         "0.9209989086117926",
         "0.8957606523367913",
         "0.49206594268921844",
         "0.5597650879502343",
         "0.7903201691103506"
        ],
        [
         "4",
         "0.4960023539231663",
         "0.956752059379283",
         "0.983283712600777",
         "0.9367900232699302",
         "0.45821515045403727",
         "0.5692917171863149",
         "0.7715077259761411",
         "0.5124395319973334",
         "0.7872568967599851",
         "0.9580184381398644",
         "0.7418853679414473",
         "0.5470841657801083",
         "0.631521267863985",
         "0.39401446543404894",
         "0.95092106223635",
         "0.41964165486627625",
         "0.036724601421641134",
         "0.5152583398400625",
         "0.700061725020855",
         "0.4904094767866314",
         "0.3644216589742817",
         "0.6729636607258146",
         "0.9632882027073434",
         "0.6365873626317602",
         "0.6543123213018873",
         "0.8353509108963367",
         "0.5136968081229516",
         "0.567349392237221",
         "0.41653344859474306",
         "0.03587601314648914",
         "0.00028213890264428",
         "0.7064759560285662",
         "0.7131124366144409",
         "0.07287506585367653",
         "0.26630793597277613",
         "0.8240020335477364",
         "0.7601965878722285",
         "0.5618552706263762",
         "0.1574651697886006",
         "0.8626517033812812",
         "0.6717234330943621",
         "0.7475371719733575",
         "0.8365288781604451",
         "0.7631483356290131",
         "0.27635753791539086",
         "0.004127036854617794",
         "0.5426445660848",
         "0.0983203322383609",
         "0.3238621414549605",
         "0.32492782755252114",
         "0.07694439395434682",
         "0.5270522073511008",
         "0.8355294892198554",
         "0.23733524687157548",
         "0.3266881737252628",
         "0.37506784006955385",
         "0.060227848025495856",
         "0.9738504771632133",
         "0.002828290691196722",
         "0.7873277026124804",
         "0.8404636422600869",
         "0.6753766058095283",
         "0.8657932314047782",
         "0.553822981012042",
         "0.30603457995945116",
         "0.8201899052567296",
         "0.4451522053217949",
         "0.052312541094809206",
         "0.19323290938809823",
         "0.30387765395760347",
         "0.9118178252565772",
         "0.2727818034607489",
         "0.7848943902072866",
         "0.4599111833763704",
         "0.19212146285451337",
         "0.8530516267988729",
         "0.5311645521050483",
         "0.8866948087945585",
         "0.14200870126703202",
         "0.19676272860036592",
         "0.0270842059670523",
         "0.012376010114330538",
         "0.6871522337911982",
         "0.2945029367277192",
         "0.2666291067409111",
         "0.7349122994004179",
         "0.11259370302900129",
         "0.6543584211066666",
         "0.6117095104534095",
         "0.12271517080342065",
         "0.05531678055799949",
         "0.4081838900180985",
         "0.6705868977386092",
         "0.9301926231542745",
         "0.6943316487288878",
         "0.295504940797494",
         "0.7618215051462809",
         "0.5901641444047651",
         "0.2700306214993323",
         "0.38405159687443136",
         "0.49422453049886095",
         "0.5636846818603417",
         "0.38310135428506986",
         "0.8115709850573124",
         "0.83749437170239",
         "0.9051432283621013",
         "0.03407080141828811",
         "0.2610891611425782",
         "0.003907446128279535",
         "0.21474118411735044",
         "0.9732683224036849",
         "0.29690395615247345",
         "0.4018635244138604",
         "0.1347389775646053",
         "0.49335648255220277",
         "0.7064470035587437",
         "0.326888257119883",
         "0.35321800551457927",
         "0.6517297728010019",
         "0.1412190835156727",
         "0.5384146582550481",
         "0.4325447044370484",
         "0.33755577909546564",
         "0.10222324808566696",
         "0.7514703409214012",
         "0.3755300128416843",
         "0.04193548909513434",
         "0.619335058162126",
         "0.6554471688473866",
         "0.804099852023573",
         "0.714425380177287",
         "0.1409826692190883",
         "0.18713672194579922",
         "0.6822944082120315",
         "0.9881578307879203",
         "0.20450190115952704",
         "0.05552546569155303",
         "0.6811103178543298",
         "0.18377509762332245",
         "0.5486461864527686",
         "0.8466877667894764",
         "0.6837563469546023",
         "0.19435844150272186",
         "0.1961590252766231",
         "0.0005698890376450994",
         "0.1193060759380351",
         "0.8127644484634874",
         "0.9610613414153065",
         "0.0857078600445298",
         "0.18482711333966473",
         "0.8502956187534602",
         "0.9529144978361286",
         "0.03013845579359342",
         "0.5140424315478792",
         "0.45194794971434393",
         "0.7981067573910189",
         "0.5360348042525631",
         "0.7839030309515382",
         "0.10708163924245484",
         "0.5569917587452311",
         "0.14451010307345524",
         "0.5110583906091323",
         "0.1526635286349194",
         "0.9980084033688009",
         "0.9173190358054123",
         "0.6555370031073383",
         "0.8795112605392856",
         "0.44712151326842786",
         "0.11361857983732215",
         "0.0049216743376574446",
         "0.6217291747532784",
         "0.677076007846003",
         "0.754475023455895",
         "0.6990521739055977",
         "0.8421224383529982",
         "0.3743584641727906",
         "0.18792776699842284",
         "0.04850581247752783",
         "0.14146948601725007",
         "0.29462930946412613",
         "0.906242953498177",
         "0.7152033909454157",
         "0.9172199615668811",
         "0.24189104235294745",
         "0.46069056388456764",
         "0.9317261382938319",
         "0.03577673202291565",
         "0.3126674110604951",
         "0.2700012783817284",
         "0.378602107490688",
         "0.5698194217468368",
         "0.2998432396316103",
         "0.5066589415688199",
         "0.9157750186898715",
         "0.8822650507114898",
         "0.5252257503146625",
         "0.29085783307841107",
         "0.08632287833697416",
         "0.2279690391510807",
         "0.2777680186288286",
         "0.6095880466083001",
         "0.9653976557269144",
         "0.9039139580756538",
         "0.3098471692284943",
         "0.7855780049219896",
         "0.6777278355623825",
         "0.9212165124782106",
         "0.28658866976357633",
         "0.969906287148521",
         "0.6134064221865279",
         "0.7014129909119368",
         "0.385090969608615",
         "0.13485682024784207",
         "0.8441799701119884",
         "0.18523915591493734",
         "0.9227958474472112",
         "0.3466435212539478",
         "0.02723651435164054",
         "0.07898638848251538",
         "0.7704272445779364",
         "0.7261940495244047",
         "0.347665396640078",
         "0.3107645424924058",
         "0.13577028543724523",
         "0.7849702991471763",
         "0.5559470447309667",
         "0.9816918909836178",
         "0.35504260439842295",
         "0.755425409517159",
         "0.873759199559307",
         "0.28752118219043843",
         "0.1108930803297109",
         "0.13041037332630567",
         "0.8621920233748681",
         "0.435460182174187",
         "0.12376957513271414",
         "0.1297092169031303",
         "0.8975422366949549",
         "0.28769399853178135",
         "0.1855855706665902",
         "0.5398352451187404",
         "0.7558493181536715",
         "0.20950071654304703",
         "0.27711421526902713",
         "0.7782037293737861",
         "0.3273753235650533",
         "0.8190042710034773",
         "0.8708469723454281",
         "0.2739335877513195",
         "0.8840448561966074",
         "0.31641788233568213",
         "0.23866996504505378",
         "0.32818710731080813",
         "0.28176777944195974",
         "0.8818184702554933",
         "0.09953494870423152",
         "0.5317448382481077",
         "0.15936396629975502",
         "0.06746309271937734",
         "0.18692397339027234",
         "0.8919229312331637",
         "0.5789677336127765",
         "0.5685782302162766",
         "0.9352626445575652",
         "0.7742200223942718",
         "0.9579613906564888",
         "0.27214457281952487",
         "0.1660602938738398",
         "0.7539880691285151",
         "0.047920907179544225",
         "0.7660083735789814",
         "0.9782750527268771",
         "0.27446064667489634",
         "0.9508948456610572",
         "0.48525763279871803",
         "0.6452090628052988",
         "0.029359931314480003",
         "0.9150278604409285",
         "0.9928134489383609",
         "0.2369120323881282",
         "0.9927910687170701",
         "0.9262317102976965",
         "0.7323604300156689",
         "0.2545397495758317",
         "0.10108626581469982",
         "0.4092322984837158",
         "0.7639249747194179",
         "0.40753358475292",
         "0.525015440991961",
         "0.9637195041308694",
         "0.046588871072943405",
         "0.9834810983631066",
         "0.19160348540522554",
         "0.5708392853439138",
         "0.9325382153872798",
         "0.18819394938986023",
         "0.26616156803661517",
         "0.47200054064386987",
         "0.8517991261650932",
         "0.7771594513973223",
         "0.162112081412633",
         "0.18793189500577534",
         "0.5745032999538676",
         "0.8119795512766408",
         "0.9928922797907536",
         "0.046361955514807485",
         "0.7607468676604013",
         "0.7830581954005799",
         "0.10860232736566588",
         "0.41948974090744906",
         "0.7586370812564323",
         "0.31814223732806624",
         "0.4354264946044377",
         "0.38729370382253825",
         "0.6032631278355832",
         "0.6581895491454157",
         "0.3107417254226893",
         "0.3230313508036019",
         "0.8313988197983088",
         "0.5561376056521591",
         "0.6649748057796143",
         "0.9460421735548872",
         "0.6667706744805679",
         "0.8610144146657213",
         "0.8085950209070119",
         "0.8277211880797707",
         "0.9412777240502145",
         "0.4885287821507025",
         "0.28692469012649235",
         "0.6380773070163798",
         "0.8381648371446796",
         "0.665382298131463",
         "0.5180003311513189",
         "0.8571586021976856"
        ]
       ],
       "shape": {
        "columns": 334,
        "rows": 5
       }
      },
      "text/html": [
       "<div>\n",
       "<style scoped>\n",
       "    .dataframe tbody tr th:only-of-type {\n",
       "        vertical-align: middle;\n",
       "    }\n",
       "\n",
       "    .dataframe tbody tr th {\n",
       "        vertical-align: top;\n",
       "    }\n",
       "\n",
       "    .dataframe thead th {\n",
       "        text-align: right;\n",
       "    }\n",
       "</style>\n",
       "<table border=\"1\" class=\"dataframe\">\n",
       "  <thead>\n",
       "    <tr style=\"text-align: right;\">\n",
       "      <th></th>\n",
       "      <th>0</th>\n",
       "      <th>1</th>\n",
       "      <th>2</th>\n",
       "      <th>3</th>\n",
       "      <th>4</th>\n",
       "      <th>5</th>\n",
       "      <th>6</th>\n",
       "      <th>7</th>\n",
       "      <th>8</th>\n",
       "      <th>9</th>\n",
       "      <th>...</th>\n",
       "      <th>324</th>\n",
       "      <th>325</th>\n",
       "      <th>326</th>\n",
       "      <th>327</th>\n",
       "      <th>328</th>\n",
       "      <th>329</th>\n",
       "      <th>330</th>\n",
       "      <th>331</th>\n",
       "      <th>332</th>\n",
       "      <th>333</th>\n",
       "    </tr>\n",
       "  </thead>\n",
       "  <tbody>\n",
       "    <tr>\n",
       "      <th>0</th>\n",
       "      <td>0.345310</td>\n",
       "      <td>0.128430</td>\n",
       "      <td>0.976514</td>\n",
       "      <td>0.228705</td>\n",
       "      <td>0.363294</td>\n",
       "      <td>0.211057</td>\n",
       "      <td>0.056384</td>\n",
       "      <td>0.395155</td>\n",
       "      <td>0.347124</td>\n",
       "      <td>0.098475</td>\n",
       "      <td>...</td>\n",
       "      <td>0.201995</td>\n",
       "      <td>0.089761</td>\n",
       "      <td>0.972960</td>\n",
       "      <td>0.017387</td>\n",
       "      <td>0.107056</td>\n",
       "      <td>0.369479</td>\n",
       "      <td>0.880545</td>\n",
       "      <td>0.272343</td>\n",
       "      <td>0.876844</td>\n",
       "      <td>0.128982</td>\n",
       "    </tr>\n",
       "    <tr>\n",
       "      <th>1</th>\n",
       "      <td>0.782047</td>\n",
       "      <td>0.393880</td>\n",
       "      <td>0.050692</td>\n",
       "      <td>0.553938</td>\n",
       "      <td>0.321777</td>\n",
       "      <td>0.522348</td>\n",
       "      <td>0.959507</td>\n",
       "      <td>0.039294</td>\n",
       "      <td>0.985735</td>\n",
       "      <td>0.201353</td>\n",
       "      <td>...</td>\n",
       "      <td>0.941214</td>\n",
       "      <td>0.695874</td>\n",
       "      <td>0.409661</td>\n",
       "      <td>0.956231</td>\n",
       "      <td>0.831749</td>\n",
       "      <td>0.142804</td>\n",
       "      <td>0.776962</td>\n",
       "      <td>0.362606</td>\n",
       "      <td>0.705051</td>\n",
       "      <td>0.116083</td>\n",
       "    </tr>\n",
       "    <tr>\n",
       "      <th>2</th>\n",
       "      <td>0.807220</td>\n",
       "      <td>0.664894</td>\n",
       "      <td>0.877190</td>\n",
       "      <td>0.295189</td>\n",
       "      <td>0.761727</td>\n",
       "      <td>0.990981</td>\n",
       "      <td>0.382830</td>\n",
       "      <td>0.609007</td>\n",
       "      <td>0.804367</td>\n",
       "      <td>0.547178</td>\n",
       "      <td>...</td>\n",
       "      <td>0.951091</td>\n",
       "      <td>0.595135</td>\n",
       "      <td>0.122955</td>\n",
       "      <td>0.834759</td>\n",
       "      <td>0.939179</td>\n",
       "      <td>0.410262</td>\n",
       "      <td>0.189283</td>\n",
       "      <td>0.765592</td>\n",
       "      <td>0.165220</td>\n",
       "      <td>0.622599</td>\n",
       "    </tr>\n",
       "    <tr>\n",
       "      <th>3</th>\n",
       "      <td>0.540059</td>\n",
       "      <td>0.817586</td>\n",
       "      <td>0.551832</td>\n",
       "      <td>0.948356</td>\n",
       "      <td>0.863741</td>\n",
       "      <td>0.817475</td>\n",
       "      <td>0.239682</td>\n",
       "      <td>0.527822</td>\n",
       "      <td>0.962000</td>\n",
       "      <td>0.593197</td>\n",
       "      <td>...</td>\n",
       "      <td>0.778779</td>\n",
       "      <td>0.717355</td>\n",
       "      <td>0.754469</td>\n",
       "      <td>0.798657</td>\n",
       "      <td>0.178120</td>\n",
       "      <td>0.920999</td>\n",
       "      <td>0.895761</td>\n",
       "      <td>0.492066</td>\n",
       "      <td>0.559765</td>\n",
       "      <td>0.790320</td>\n",
       "    </tr>\n",
       "    <tr>\n",
       "      <th>4</th>\n",
       "      <td>0.496002</td>\n",
       "      <td>0.956752</td>\n",
       "      <td>0.983284</td>\n",
       "      <td>0.936790</td>\n",
       "      <td>0.458215</td>\n",
       "      <td>0.569292</td>\n",
       "      <td>0.771508</td>\n",
       "      <td>0.512440</td>\n",
       "      <td>0.787257</td>\n",
       "      <td>0.958018</td>\n",
       "      <td>...</td>\n",
       "      <td>0.808595</td>\n",
       "      <td>0.827721</td>\n",
       "      <td>0.941278</td>\n",
       "      <td>0.488529</td>\n",
       "      <td>0.286925</td>\n",
       "      <td>0.638077</td>\n",
       "      <td>0.838165</td>\n",
       "      <td>0.665382</td>\n",
       "      <td>0.518000</td>\n",
       "      <td>0.857159</td>\n",
       "    </tr>\n",
       "  </tbody>\n",
       "</table>\n",
       "<p>5 rows × 334 columns</p>\n",
       "</div>"
      ],
      "text/plain": [
       "        0         1         2         3         4         5         6    \\\n",
       "0  0.345310  0.128430  0.976514  0.228705  0.363294  0.211057  0.056384   \n",
       "1  0.782047  0.393880  0.050692  0.553938  0.321777  0.522348  0.959507   \n",
       "2  0.807220  0.664894  0.877190  0.295189  0.761727  0.990981  0.382830   \n",
       "3  0.540059  0.817586  0.551832  0.948356  0.863741  0.817475  0.239682   \n",
       "4  0.496002  0.956752  0.983284  0.936790  0.458215  0.569292  0.771508   \n",
       "\n",
       "        7         8         9    ...       324       325       326       327  \\\n",
       "0  0.395155  0.347124  0.098475  ...  0.201995  0.089761  0.972960  0.017387   \n",
       "1  0.039294  0.985735  0.201353  ...  0.941214  0.695874  0.409661  0.956231   \n",
       "2  0.609007  0.804367  0.547178  ...  0.951091  0.595135  0.122955  0.834759   \n",
       "3  0.527822  0.962000  0.593197  ...  0.778779  0.717355  0.754469  0.798657   \n",
       "4  0.512440  0.787257  0.958018  ...  0.808595  0.827721  0.941278  0.488529   \n",
       "\n",
       "        328       329       330       331       332       333  \n",
       "0  0.107056  0.369479  0.880545  0.272343  0.876844  0.128982  \n",
       "1  0.831749  0.142804  0.776962  0.362606  0.705051  0.116083  \n",
       "2  0.939179  0.410262  0.189283  0.765592  0.165220  0.622599  \n",
       "3  0.178120  0.920999  0.895761  0.492066  0.559765  0.790320  \n",
       "4  0.286925  0.638077  0.838165  0.665382  0.518000  0.857159  \n",
       "\n",
       "[5 rows x 334 columns]"
      ]
     },
     "execution_count": 22,
     "metadata": {},
     "output_type": "execute_result"
    }
   ],
   "source": [
    "newdata.T      #Transpose"
   ]
  },
  {
   "cell_type": "code",
   "execution_count": 23,
   "id": "15b06994",
   "metadata": {},
   "outputs": [
    {
     "data": {
      "application/vnd.microsoft.datawrangler.viewer.v0+json": {
       "columns": [
        {
         "name": "index",
         "rawType": "int64",
         "type": "integer"
        },
        {
         "name": "4",
         "rawType": "float64",
         "type": "float"
        },
        {
         "name": "3",
         "rawType": "float64",
         "type": "float"
        },
        {
         "name": "2",
         "rawType": "float64",
         "type": "float"
        },
        {
         "name": "1",
         "rawType": "float64",
         "type": "float"
        },
        {
         "name": "0",
         "rawType": "float64",
         "type": "float"
        }
       ],
       "ref": "818d669b-eaab-450f-b23f-4dede20f807c",
       "rows": [
        [
         "0",
         "0.4960023539231663",
         "0.5400593847186567",
         "0.8072195513522772",
         "0.7820470183933164",
         "0.34531"
        ],
        [
         "1",
         "0.956752059379283",
         "0.8175864898685784",
         "0.6648939142489135",
         "0.3938801014353325",
         "0.12843009056672772"
        ],
        [
         "2",
         "0.983283712600777",
         "0.5518321583044961",
         "0.8771899741666347",
         "0.05069198116376483",
         "0.9765135353169572"
        ],
        [
         "3",
         "0.9367900232699302",
         "0.948355547777948",
         "0.2951890619832668",
         "0.5539377492996397",
         "0.22870451186071872"
        ],
        [
         "4",
         "0.45821515045403727",
         "0.863740737736931",
         "0.7617271157391927",
         "0.3217769006001796",
         "0.36329412438272635"
        ],
        [
         "5",
         "0.5692917171863149",
         "0.817474688125708",
         "0.9909811457316978",
         "0.5223482251131428",
         "0.2110570668443309"
        ],
        [
         "6",
         "0.7715077259761411",
         "0.23968158078618773",
         "0.3828303064500691",
         "0.9595065919305314",
         "0.05638398204460515"
        ],
        [
         "7",
         "0.5124395319973334",
         "0.527822125069944",
         "0.6090072999205016",
         "0.03929409971105946",
         "0.39515456223427015"
        ],
        [
         "8",
         "0.7872568967599851",
         "0.9620003414447467",
         "0.804366583452832",
         "0.9857349032050153",
         "0.34712446196107816"
        ],
        [
         "9",
         "0.9580184381398644",
         "0.5931965871593752",
         "0.5471781105714979",
         "0.20135332177212195",
         "0.09847508511277159"
        ],
        [
         "10",
         "0.7418853679414473",
         "0.601969529536452",
         "0.6092461509313286",
         "0.27139019044077795",
         "0.5564524927199489"
        ],
        [
         "11",
         "0.5470841657801083",
         "0.28572097401604557",
         "0.2606423008570685",
         "0.1877024316720003",
         "0.7813245069388608"
        ],
        [
         "12",
         "0.631521267863985",
         "0.08756791183826629",
         "0.9859118974667059",
         "0.29542025391633764",
         "0.6511460641353879"
        ],
        [
         "13",
         "0.39401446543404894",
         "0.3805611567081033",
         "0.727012277383883",
         "0.9518502331727317",
         "0.5083532361841969"
        ],
        [
         "14",
         "0.95092106223635",
         "0.8160690714382771",
         "0.3544940569232333",
         "0.3967861996712888",
         "0.550656659113418"
        ],
        [
         "15",
         "0.41964165486627625",
         "0.808892482739703",
         "0.5404693745376238",
         "0.08880310307550454",
         "0.5062519451554339"
        ],
        [
         "16",
         "0.036724601421641134",
         "0.3016938660106677",
         "0.012201393180711118",
         "0.05284237710542217",
         "0.627866633340235"
        ],
        [
         "17",
         "0.5152583398400625",
         "0.04018164884900821",
         "0.6327737390739004",
         "0.5024740955178767",
         "0.9655617893542339"
        ],
        [
         "18",
         "0.700061725020855",
         "0.7497844542768779",
         "0.45747956716484905",
         "0.6054850473113454",
         "0.20213842866842135"
        ],
        [
         "19",
         "0.4904094767866314",
         "0.15996542048675477",
         "0.34728724896013785",
         "0.02370817653223478",
         "0.6466360165389936"
        ],
        [
         "20",
         "0.3644216589742817",
         "0.5447969422715797",
         "0.30440972368866825",
         "0.7200556031202756",
         "0.9963990467051018"
        ],
        [
         "21",
         "0.6729636607258146",
         "0.41821689152050445",
         "0.17766302062071526",
         "0.5891797028747482",
         "0.6607824128147656"
        ],
        [
         "22",
         "0.9632882027073434",
         "0.06704668202422692",
         "0.23509039536531529",
         "0.9534487177598739",
         "0.16288801116861196"
        ],
        [
         "23",
         "0.6365873626317602",
         "0.9508167895567623",
         "0.4868705868241713",
         "0.41816550385040474",
         "0.17379855218660079"
        ],
        [
         "24",
         "0.6543123213018873",
         "0.10171342913665804",
         "0.6678526187152185",
         "0.22750643108834068",
         "0.44334212250157845"
        ],
        [
         "25",
         "0.8353509108963367",
         "0.29741982114513266",
         "0.19981076340437132",
         "0.19859292418749785",
         "0.4172194020480605"
        ],
        [
         "26",
         "0.5136968081229516",
         "0.16530225765651385",
         "0.6262166082218926",
         "0.051688152118105735",
         "0.531259033959184"
        ],
        [
         "27",
         "0.567349392237221",
         "0.33903680613404075",
         "0.44022297781526043",
         "0.23066864873132997",
         "0.6805510223374869"
        ],
        [
         "28",
         "0.41653344859474306",
         "0.9943970799498738",
         "0.9098870288309022",
         "0.6962175947778495",
         "0.2503620225487033"
        ],
        [
         "29",
         "0.03587601314648914",
         "0.49416183261753976",
         "0.7640327345669153",
         "0.5318180906036054",
         "0.16860669521076255"
        ],
        [
         "30",
         "0.00028213890264428",
         "0.5394276638279468",
         "0.08881337298491432",
         "0.7307676800890814",
         "0.9809034000251917"
        ],
        [
         "31",
         "0.7064759560285662",
         "0.570152408498191",
         "0.1950892705595525",
         "0.25511098985710756",
         "0.4658209197497528"
        ],
        [
         "32",
         "0.7131124366144409",
         "0.2768389694591009",
         "0.37280271888275607",
         "0.2978477146147749",
         "0.2736313150181947"
        ],
        [
         "33",
         "0.07287506585367653",
         "0.7716199314108453",
         "0.12084832184104699",
         "0.8301223238621807",
         "0.8317047055936369"
        ],
        [
         "34",
         "0.26630793597277613",
         "0.5980511273880509",
         "0.6913098117329952",
         "0.37186284202929343",
         "0.9370821429253035"
        ],
        [
         "35",
         "0.8240020335477364",
         "0.03277811906616068",
         "0.8936951809791494",
         "0.8102544862461544",
         "0.06656202909211861"
        ],
        [
         "36",
         "0.7601965878722285",
         "0.7983358607963988",
         "0.08103591560931256",
         "0.17701135133992096",
         "0.9886930832423653"
        ],
        [
         "37",
         "0.5618552706263762",
         "0.166965538713729",
         "0.6638040390605885",
         "0.7236558236100522",
         "0.8405670310523434"
        ],
        [
         "38",
         "0.1574651697886006",
         "0.861905809140322",
         "0.005724382848044107",
         "0.6821275952029692",
         "0.5049054485858552"
        ],
        [
         "39",
         "0.8626517033812812",
         "0.18310795340430397",
         "0.28954768568189515",
         "0.23362199334676736",
         "0.13552441385594582"
        ],
        [
         "40",
         "0.6717234330943621",
         "0.6566664680130615",
         "0.061996158849507266",
         "0.42857332372501433",
         "0.721892081717362"
        ],
        [
         "41",
         "0.7475371719733575",
         "0.44265886923013664",
         "0.8572280017348901",
         "0.7128103805045082",
         "0.44788074116275267"
        ],
        [
         "42",
         "0.8365288781604451",
         "0.53146526293249",
         "0.1918911169700498",
         "0.4449496584318262",
         "0.12851734442723495"
        ],
        [
         "43",
         "0.7631483356290131",
         "0.1969160084851237",
         "0.2709097991688584",
         "0.2942624820322093",
         "0.7312990366028819"
        ],
        [
         "44",
         "0.27635753791539086",
         "0.7159578452700981",
         "0.4799539207199589",
         "0.28788418282131345",
         "0.6287176184585517"
        ],
        [
         "45",
         "0.004127036854617794",
         "0.9902560385208359",
         "0.11111808020522485",
         "0.03061837024250358",
         "0.03594363478815188"
        ],
        [
         "46",
         "0.5426445660848",
         "0.47900816166965776",
         "0.7531872382144452",
         "0.33446453828176503",
         "0.7855380185873424"
        ],
        [
         "47",
         "0.0983203322383609",
         "0.08037112838092153",
         "0.9834233311905421",
         "0.919359989355044",
         "0.22248439178773516"
        ],
        [
         "48",
         "0.3238621414549605",
         "0.3684820954844521",
         "0.7976852563377749",
         "0.7913127440059109",
         "0.5921525470168674"
        ],
        [
         "49",
         "0.32492782755252114",
         "0.37234604838933505",
         "0.2010201842445486",
         "0.9299419216388763",
         "0.02184396774705999"
        ]
       ],
       "shape": {
        "columns": 5,
        "rows": 334
       }
      },
      "text/html": [
       "<div>\n",
       "<style scoped>\n",
       "    .dataframe tbody tr th:only-of-type {\n",
       "        vertical-align: middle;\n",
       "    }\n",
       "\n",
       "    .dataframe tbody tr th {\n",
       "        vertical-align: top;\n",
       "    }\n",
       "\n",
       "    .dataframe thead th {\n",
       "        text-align: right;\n",
       "    }\n",
       "</style>\n",
       "<table border=\"1\" class=\"dataframe\">\n",
       "  <thead>\n",
       "    <tr style=\"text-align: right;\">\n",
       "      <th></th>\n",
       "      <th>4</th>\n",
       "      <th>3</th>\n",
       "      <th>2</th>\n",
       "      <th>1</th>\n",
       "      <th>0</th>\n",
       "    </tr>\n",
       "  </thead>\n",
       "  <tbody>\n",
       "    <tr>\n",
       "      <th>0</th>\n",
       "      <td>0.496002</td>\n",
       "      <td>0.540059</td>\n",
       "      <td>0.807220</td>\n",
       "      <td>0.782047</td>\n",
       "      <td>0.345310</td>\n",
       "    </tr>\n",
       "    <tr>\n",
       "      <th>1</th>\n",
       "      <td>0.956752</td>\n",
       "      <td>0.817586</td>\n",
       "      <td>0.664894</td>\n",
       "      <td>0.393880</td>\n",
       "      <td>0.128430</td>\n",
       "    </tr>\n",
       "    <tr>\n",
       "      <th>2</th>\n",
       "      <td>0.983284</td>\n",
       "      <td>0.551832</td>\n",
       "      <td>0.877190</td>\n",
       "      <td>0.050692</td>\n",
       "      <td>0.976514</td>\n",
       "    </tr>\n",
       "    <tr>\n",
       "      <th>3</th>\n",
       "      <td>0.936790</td>\n",
       "      <td>0.948356</td>\n",
       "      <td>0.295189</td>\n",
       "      <td>0.553938</td>\n",
       "      <td>0.228705</td>\n",
       "    </tr>\n",
       "    <tr>\n",
       "      <th>4</th>\n",
       "      <td>0.458215</td>\n",
       "      <td>0.863741</td>\n",
       "      <td>0.761727</td>\n",
       "      <td>0.321777</td>\n",
       "      <td>0.363294</td>\n",
       "    </tr>\n",
       "    <tr>\n",
       "      <th>...</th>\n",
       "      <td>...</td>\n",
       "      <td>...</td>\n",
       "      <td>...</td>\n",
       "      <td>...</td>\n",
       "      <td>...</td>\n",
       "    </tr>\n",
       "    <tr>\n",
       "      <th>329</th>\n",
       "      <td>0.638077</td>\n",
       "      <td>0.920999</td>\n",
       "      <td>0.410262</td>\n",
       "      <td>0.142804</td>\n",
       "      <td>0.369479</td>\n",
       "    </tr>\n",
       "    <tr>\n",
       "      <th>330</th>\n",
       "      <td>0.838165</td>\n",
       "      <td>0.895761</td>\n",
       "      <td>0.189283</td>\n",
       "      <td>0.776962</td>\n",
       "      <td>0.880545</td>\n",
       "    </tr>\n",
       "    <tr>\n",
       "      <th>331</th>\n",
       "      <td>0.665382</td>\n",
       "      <td>0.492066</td>\n",
       "      <td>0.765592</td>\n",
       "      <td>0.362606</td>\n",
       "      <td>0.272343</td>\n",
       "    </tr>\n",
       "    <tr>\n",
       "      <th>332</th>\n",
       "      <td>0.518000</td>\n",
       "      <td>0.559765</td>\n",
       "      <td>0.165220</td>\n",
       "      <td>0.705051</td>\n",
       "      <td>0.876844</td>\n",
       "    </tr>\n",
       "    <tr>\n",
       "      <th>333</th>\n",
       "      <td>0.857159</td>\n",
       "      <td>0.790320</td>\n",
       "      <td>0.622599</td>\n",
       "      <td>0.116083</td>\n",
       "      <td>0.128982</td>\n",
       "    </tr>\n",
       "  </tbody>\n",
       "</table>\n",
       "<p>334 rows × 5 columns</p>\n",
       "</div>"
      ],
      "text/plain": [
       "            4         3         2         1         0\n",
       "0    0.496002  0.540059  0.807220  0.782047  0.345310\n",
       "1    0.956752  0.817586  0.664894  0.393880  0.128430\n",
       "2    0.983284  0.551832  0.877190  0.050692  0.976514\n",
       "3    0.936790  0.948356  0.295189  0.553938  0.228705\n",
       "4    0.458215  0.863741  0.761727  0.321777  0.363294\n",
       "..        ...       ...       ...       ...       ...\n",
       "329  0.638077  0.920999  0.410262  0.142804  0.369479\n",
       "330  0.838165  0.895761  0.189283  0.776962  0.880545\n",
       "331  0.665382  0.492066  0.765592  0.362606  0.272343\n",
       "332  0.518000  0.559765  0.165220  0.705051  0.876844\n",
       "333  0.857159  0.790320  0.622599  0.116083  0.128982\n",
       "\n",
       "[334 rows x 5 columns]"
      ]
     },
     "execution_count": 23,
     "metadata": {},
     "output_type": "execute_result"
    }
   ],
   "source": [
    "newdata.sort_index(axis=1,ascending=False)       #reverse sort "
   ]
  },
  {
   "cell_type": "code",
   "execution_count": 24,
   "id": "6678d9a5",
   "metadata": {},
   "outputs": [
    {
     "data": {
      "application/vnd.microsoft.datawrangler.viewer.v0+json": {
       "columns": [
        {
         "name": "index",
         "rawType": "int64",
         "type": "integer"
        },
        {
         "name": "0",
         "rawType": "float64",
         "type": "float"
        },
        {
         "name": "1",
         "rawType": "float64",
         "type": "float"
        },
        {
         "name": "2",
         "rawType": "float64",
         "type": "float"
        },
        {
         "name": "3",
         "rawType": "float64",
         "type": "float"
        },
        {
         "name": "4",
         "rawType": "float64",
         "type": "float"
        }
       ],
       "ref": "94b320a8-7f68-4276-82da-0762c91d3750",
       "rows": [
        [
         "333",
         "0.12898244964943106",
         "0.11608275042498095",
         "0.6225987793632142",
         "0.7903201691103506",
         "0.8571586021976856"
        ],
        [
         "332",
         "0.8768443261237631",
         "0.7050506656465935",
         "0.16522037961787572",
         "0.5597650879502343",
         "0.5180003311513189"
        ],
        [
         "331",
         "0.2723430956858559",
         "0.3626064525028423",
         "0.7655915011409288",
         "0.49206594268921844",
         "0.665382298131463"
        ],
        [
         "330",
         "0.8805446252138783",
         "0.7769621315365455",
         "0.189282504614108",
         "0.8957606523367913",
         "0.8381648371446796"
        ],
        [
         "329",
         "0.36947894180477736",
         "0.14280398452069376",
         "0.4102618378236388",
         "0.9209989086117926",
         "0.6380773070163798"
        ],
        [
         "328",
         "0.10705599678958688",
         "0.831749012498524",
         "0.9391791207854552",
         "0.17811981891865192",
         "0.28692469012649235"
        ],
        [
         "327",
         "0.01738710217178563",
         "0.9562310911380444",
         "0.8347589015340166",
         "0.7986570076391123",
         "0.4885287821507025"
        ],
        [
         "326",
         "0.9729601101898798",
         "0.40966065782211547",
         "0.12295524566371407",
         "0.75446885252111",
         "0.9412777240502145"
        ],
        [
         "325",
         "0.08976082842034017",
         "0.6958736238006393",
         "0.5951352661054772",
         "0.7173547148194617",
         "0.8277211880797707"
        ],
        [
         "324",
         "0.201995276209468",
         "0.9412144920121771",
         "0.9510910144396212",
         "0.7787793335466957",
         "0.8085950209070119"
        ],
        [
         "323",
         "0.9152267098741139",
         "0.7383100459239329",
         "0.6387438678300342",
         "0.11956741469768073",
         "0.8610144146657213"
        ],
        [
         "322",
         "0.9395510949961976",
         "0.08422305801413255",
         "0.6003888170058963",
         "0.9517580530462483",
         "0.6667706744805679"
        ],
        [
         "321",
         "0.056144686020249024",
         "0.865017415767578",
         "0.670647662602561",
         "0.42425939146837277",
         "0.9460421735548872"
        ],
        [
         "320",
         "0.4696497244465584",
         "0.3496026609509717",
         "0.1619895774995178",
         "0.09411777142314526",
         "0.6649748057796143"
        ],
        [
         "319",
         "0.05685886137717666",
         "0.4081990386505121",
         "0.9357880962559829",
         "0.4271005868866473",
         "0.5561376056521591"
        ],
        [
         "318",
         "0.6815439448440406",
         "0.2189164299198505",
         "0.7080447228876676",
         "0.15256679506496418",
         "0.8313988197983088"
        ],
        [
         "317",
         "0.11251625863489356",
         "0.12491719878555174",
         "0.625219405029743",
         "0.9948304429923457",
         "0.3230313508036019"
        ],
        [
         "316",
         "0.43503234616162956",
         "0.30807176308492124",
         "0.9632472110593244",
         "0.9336844020187142",
         "0.3107417254226893"
        ],
        [
         "315",
         "0.037096668539802424",
         "0.5854885587132482",
         "0.344561946648544",
         "0.19866279757492744",
         "0.6581895491454157"
        ],
        [
         "314",
         "0.01383362266464383",
         "0.34324598848587884",
         "0.8537273323181057",
         "0.08136300794169726",
         "0.6032631278355832"
        ],
        [
         "313",
         "0.3932019795793954",
         "0.38481076143163095",
         "0.011293223604193159",
         "0.561798546678488",
         "0.38729370382253825"
        ],
        [
         "312",
         "0.03251704632784669",
         "0.5566117666831978",
         "0.588836514997307",
         "0.6362126403959197",
         "0.4354264946044377"
        ],
        [
         "311",
         "0.778740264466182",
         "0.4220824881887776",
         "0.5412423335363863",
         "0.021073888723109224",
         "0.31814223732806624"
        ],
        [
         "310",
         "0.32885718946003084",
         "0.96042489936485",
         "0.8201426516243755",
         "0.08340901195328176",
         "0.7586370812564323"
        ],
        [
         "309",
         "0.002175417280627423",
         "0.5170335360789327",
         "0.6428904760394288",
         "0.1356028208938791",
         "0.41948974090744906"
        ],
        [
         "308",
         "0.9979341778327753",
         "0.8622894562831347",
         "0.0711478292808696",
         "0.5140975859997111",
         "0.10860232736566588"
        ],
        [
         "307",
         "0.27578086930350465",
         "0.7846996578738723",
         "0.9409842847812512",
         "0.6566716327827692",
         "0.7830581954005799"
        ],
        [
         "306",
         "0.39670212589558795",
         "0.763209833506928",
         "0.7925586058673101",
         "0.7630806700903224",
         "0.7607468676604013"
        ],
        [
         "305",
         "0.39389713107109514",
         "0.37279145748396947",
         "0.31187515677483957",
         "0.2642389624295106",
         "0.046361955514807485"
        ],
        [
         "304",
         "0.3986910036727528",
         "0.8847001058232971",
         "0.9834847831744935",
         "0.2724051173666463",
         "0.9928922797907536"
        ],
        [
         "303",
         "0.4511182230208669",
         "0.416267120727425",
         "0.9943028706085084",
         "0.06935162413934548",
         "0.8119795512766408"
        ],
        [
         "302",
         "0.9039513866821346",
         "0.5262577577402258",
         "0.9279537654121485",
         "0.8253282455856812",
         "0.5745032999538676"
        ],
        [
         "301",
         "0.04039707576641127",
         "0.8142120616096657",
         "0.808703898022145",
         "0.8400687848736994",
         "0.18793189500577534"
        ],
        [
         "300",
         "0.3219071744254489",
         "0.08616906502501431",
         "0.14447833518517594",
         "0.18879620024734467",
         "0.162112081412633"
        ],
        [
         "299",
         "0.550874664368373",
         "0.44280670990945414",
         "0.23671192432522925",
         "0.6118823334271855",
         "0.7771594513973223"
        ],
        [
         "298",
         "0.1684295514117361",
         "0.577790915051553",
         "0.16362435180840607",
         "0.49002719180641463",
         "0.8517991261650932"
        ],
        [
         "297",
         "0.9017485952357476",
         "0.9966961280458295",
         "0.28850041107658075",
         "0.045469318745011145",
         "0.47200054064386987"
        ],
        [
         "296",
         "0.4775454302430303",
         "0.08157661392405913",
         "0.8486741751010343",
         "0.2828888869186099",
         "0.26616156803661517"
        ],
        [
         "295",
         "0.7405853034384493",
         "0.8334585289834114",
         "0.3041362187075267",
         "0.36792744520612186",
         "0.18819394938986023"
        ],
        [
         "294",
         "0.15276106990128768",
         "0.6991508811911177",
         "0.356855854402537",
         "0.683374852552933",
         "0.9325382153872798"
        ],
        [
         "293",
         "0.6318617465130897",
         "0.05476133588145993",
         "0.7623761730768536",
         "0.4710970200935677",
         "0.5708392853439138"
        ],
        [
         "292",
         "0.2998715106892478",
         "0.8405396790737121",
         "0.38849235928994974",
         "0.9727461080973774",
         "0.19160348540522554"
        ],
        [
         "291",
         "0.2327861791498913",
         "0.7707312423408498",
         "0.23342777199483322",
         "0.9723607299102247",
         "0.9834810983631066"
        ],
        [
         "290",
         "0.6320680848619934",
         "0.44602765450657844",
         "0.19957620904012663",
         "0.9006039748760502",
         "0.046588871072943405"
        ],
        [
         "289",
         "0.8051508473994903",
         "0.09683463700485906",
         "0.30084237634168876",
         "0.6760097856529518",
         "0.9637195041308694"
        ],
        [
         "288",
         "0.42850314226006814",
         "0.7725058521380579",
         "0.4670916866871333",
         "0.6027841536971341",
         "0.525015440991961"
        ],
        [
         "287",
         "0.5129459368804562",
         "0.8987819869592327",
         "0.3557332027268766",
         "0.5457176573244504",
         "0.40753358475292"
        ],
        [
         "286",
         "0.6043697497479088",
         "0.9426025064252594",
         "0.8505240584666378",
         "0.2961233423256955",
         "0.7639249747194179"
        ],
        [
         "285",
         "0.17993874486603445",
         "0.17512069548077502",
         "0.5743319261474776",
         "0.3052067983750383",
         "0.4092322984837158"
        ],
        [
         "284",
         "0.4579821768439285",
         "0.7834859571106313",
         "0.5394858675287698",
         "0.01061411846804805",
         "0.10108626581469982"
        ]
       ],
       "shape": {
        "columns": 5,
        "rows": 334
       }
      },
      "text/html": [
       "<div>\n",
       "<style scoped>\n",
       "    .dataframe tbody tr th:only-of-type {\n",
       "        vertical-align: middle;\n",
       "    }\n",
       "\n",
       "    .dataframe tbody tr th {\n",
       "        vertical-align: top;\n",
       "    }\n",
       "\n",
       "    .dataframe thead th {\n",
       "        text-align: right;\n",
       "    }\n",
       "</style>\n",
       "<table border=\"1\" class=\"dataframe\">\n",
       "  <thead>\n",
       "    <tr style=\"text-align: right;\">\n",
       "      <th></th>\n",
       "      <th>0</th>\n",
       "      <th>1</th>\n",
       "      <th>2</th>\n",
       "      <th>3</th>\n",
       "      <th>4</th>\n",
       "    </tr>\n",
       "  </thead>\n",
       "  <tbody>\n",
       "    <tr>\n",
       "      <th>333</th>\n",
       "      <td>0.128982</td>\n",
       "      <td>0.116083</td>\n",
       "      <td>0.622599</td>\n",
       "      <td>0.790320</td>\n",
       "      <td>0.857159</td>\n",
       "    </tr>\n",
       "    <tr>\n",
       "      <th>332</th>\n",
       "      <td>0.876844</td>\n",
       "      <td>0.705051</td>\n",
       "      <td>0.165220</td>\n",
       "      <td>0.559765</td>\n",
       "      <td>0.518000</td>\n",
       "    </tr>\n",
       "    <tr>\n",
       "      <th>331</th>\n",
       "      <td>0.272343</td>\n",
       "      <td>0.362606</td>\n",
       "      <td>0.765592</td>\n",
       "      <td>0.492066</td>\n",
       "      <td>0.665382</td>\n",
       "    </tr>\n",
       "    <tr>\n",
       "      <th>330</th>\n",
       "      <td>0.880545</td>\n",
       "      <td>0.776962</td>\n",
       "      <td>0.189283</td>\n",
       "      <td>0.895761</td>\n",
       "      <td>0.838165</td>\n",
       "    </tr>\n",
       "    <tr>\n",
       "      <th>329</th>\n",
       "      <td>0.369479</td>\n",
       "      <td>0.142804</td>\n",
       "      <td>0.410262</td>\n",
       "      <td>0.920999</td>\n",
       "      <td>0.638077</td>\n",
       "    </tr>\n",
       "    <tr>\n",
       "      <th>...</th>\n",
       "      <td>...</td>\n",
       "      <td>...</td>\n",
       "      <td>...</td>\n",
       "      <td>...</td>\n",
       "      <td>...</td>\n",
       "    </tr>\n",
       "    <tr>\n",
       "      <th>4</th>\n",
       "      <td>0.363294</td>\n",
       "      <td>0.321777</td>\n",
       "      <td>0.761727</td>\n",
       "      <td>0.863741</td>\n",
       "      <td>0.458215</td>\n",
       "    </tr>\n",
       "    <tr>\n",
       "      <th>3</th>\n",
       "      <td>0.228705</td>\n",
       "      <td>0.553938</td>\n",
       "      <td>0.295189</td>\n",
       "      <td>0.948356</td>\n",
       "      <td>0.936790</td>\n",
       "    </tr>\n",
       "    <tr>\n",
       "      <th>2</th>\n",
       "      <td>0.976514</td>\n",
       "      <td>0.050692</td>\n",
       "      <td>0.877190</td>\n",
       "      <td>0.551832</td>\n",
       "      <td>0.983284</td>\n",
       "    </tr>\n",
       "    <tr>\n",
       "      <th>1</th>\n",
       "      <td>0.128430</td>\n",
       "      <td>0.393880</td>\n",
       "      <td>0.664894</td>\n",
       "      <td>0.817586</td>\n",
       "      <td>0.956752</td>\n",
       "    </tr>\n",
       "    <tr>\n",
       "      <th>0</th>\n",
       "      <td>0.345310</td>\n",
       "      <td>0.782047</td>\n",
       "      <td>0.807220</td>\n",
       "      <td>0.540059</td>\n",
       "      <td>0.496002</td>\n",
       "    </tr>\n",
       "  </tbody>\n",
       "</table>\n",
       "<p>334 rows × 5 columns</p>\n",
       "</div>"
      ],
      "text/plain": [
       "            0         1         2         3         4\n",
       "333  0.128982  0.116083  0.622599  0.790320  0.857159\n",
       "332  0.876844  0.705051  0.165220  0.559765  0.518000\n",
       "331  0.272343  0.362606  0.765592  0.492066  0.665382\n",
       "330  0.880545  0.776962  0.189283  0.895761  0.838165\n",
       "329  0.369479  0.142804  0.410262  0.920999  0.638077\n",
       "..        ...       ...       ...       ...       ...\n",
       "4    0.363294  0.321777  0.761727  0.863741  0.458215\n",
       "3    0.228705  0.553938  0.295189  0.948356  0.936790\n",
       "2    0.976514  0.050692  0.877190  0.551832  0.983284\n",
       "1    0.128430  0.393880  0.664894  0.817586  0.956752\n",
       "0    0.345310  0.782047  0.807220  0.540059  0.496002\n",
       "\n",
       "[334 rows x 5 columns]"
      ]
     },
     "execution_count": 24,
     "metadata": {},
     "output_type": "execute_result"
    }
   ],
   "source": [
    "newdata.sort_index(axis=0,ascending=False) "
   ]
  },
  {
   "cell_type": "code",
   "execution_count": 25,
   "id": "d70a8211",
   "metadata": {},
   "outputs": [
    {
     "data": {
      "application/vnd.microsoft.datawrangler.viewer.v0+json": {
       "columns": [
        {
         "name": "index",
         "rawType": "int64",
         "type": "integer"
        },
        {
         "name": "0",
         "rawType": "float64",
         "type": "float"
        },
        {
         "name": "1",
         "rawType": "float64",
         "type": "float"
        },
        {
         "name": "2",
         "rawType": "float64",
         "type": "float"
        },
        {
         "name": "3",
         "rawType": "float64",
         "type": "float"
        },
        {
         "name": "4",
         "rawType": "float64",
         "type": "float"
        }
       ],
       "ref": "17527fa1-4c1e-4250-b2ce-2edd781e2fbd",
       "rows": [
        [
         "0",
         "0.34531",
         "0.7820470183933164",
         "0.8072195513522772",
         "0.5400593847186567",
         "0.4960023539231663"
        ],
        [
         "1",
         "0.12843009056672772",
         "0.3938801014353325",
         "0.6648939142489135",
         "0.8175864898685784",
         "0.956752059379283"
        ],
        [
         "2",
         "0.9765135353169572",
         "0.05069198116376483",
         "0.8771899741666347",
         "0.5518321583044961",
         "0.983283712600777"
        ],
        [
         "3",
         "0.22870451186071872",
         "0.5539377492996397",
         "0.2951890619832668",
         "0.948355547777948",
         "0.9367900232699302"
        ],
        [
         "4",
         "0.36329412438272635",
         "0.3217769006001796",
         "0.7617271157391927",
         "0.863740737736931",
         "0.45821515045403727"
        ]
       ],
       "shape": {
        "columns": 5,
        "rows": 5
       }
      },
      "text/html": [
       "<div>\n",
       "<style scoped>\n",
       "    .dataframe tbody tr th:only-of-type {\n",
       "        vertical-align: middle;\n",
       "    }\n",
       "\n",
       "    .dataframe tbody tr th {\n",
       "        vertical-align: top;\n",
       "    }\n",
       "\n",
       "    .dataframe thead th {\n",
       "        text-align: right;\n",
       "    }\n",
       "</style>\n",
       "<table border=\"1\" class=\"dataframe\">\n",
       "  <thead>\n",
       "    <tr style=\"text-align: right;\">\n",
       "      <th></th>\n",
       "      <th>0</th>\n",
       "      <th>1</th>\n",
       "      <th>2</th>\n",
       "      <th>3</th>\n",
       "      <th>4</th>\n",
       "    </tr>\n",
       "  </thead>\n",
       "  <tbody>\n",
       "    <tr>\n",
       "      <th>0</th>\n",
       "      <td>0.345310</td>\n",
       "      <td>0.782047</td>\n",
       "      <td>0.807220</td>\n",
       "      <td>0.540059</td>\n",
       "      <td>0.496002</td>\n",
       "    </tr>\n",
       "    <tr>\n",
       "      <th>1</th>\n",
       "      <td>0.128430</td>\n",
       "      <td>0.393880</td>\n",
       "      <td>0.664894</td>\n",
       "      <td>0.817586</td>\n",
       "      <td>0.956752</td>\n",
       "    </tr>\n",
       "    <tr>\n",
       "      <th>2</th>\n",
       "      <td>0.976514</td>\n",
       "      <td>0.050692</td>\n",
       "      <td>0.877190</td>\n",
       "      <td>0.551832</td>\n",
       "      <td>0.983284</td>\n",
       "    </tr>\n",
       "    <tr>\n",
       "      <th>3</th>\n",
       "      <td>0.228705</td>\n",
       "      <td>0.553938</td>\n",
       "      <td>0.295189</td>\n",
       "      <td>0.948356</td>\n",
       "      <td>0.936790</td>\n",
       "    </tr>\n",
       "    <tr>\n",
       "      <th>4</th>\n",
       "      <td>0.363294</td>\n",
       "      <td>0.321777</td>\n",
       "      <td>0.761727</td>\n",
       "      <td>0.863741</td>\n",
       "      <td>0.458215</td>\n",
       "    </tr>\n",
       "  </tbody>\n",
       "</table>\n",
       "</div>"
      ],
      "text/plain": [
       "          0         1         2         3         4\n",
       "0  0.345310  0.782047  0.807220  0.540059  0.496002\n",
       "1  0.128430  0.393880  0.664894  0.817586  0.956752\n",
       "2  0.976514  0.050692  0.877190  0.551832  0.983284\n",
       "3  0.228705  0.553938  0.295189  0.948356  0.936790\n",
       "4  0.363294  0.321777  0.761727  0.863741  0.458215"
      ]
     },
     "execution_count": 25,
     "metadata": {},
     "output_type": "execute_result"
    }
   ],
   "source": [
    "newdata.head()"
   ]
  },
  {
   "cell_type": "code",
   "execution_count": 26,
   "id": "b8aa7cc0",
   "metadata": {},
   "outputs": [
    {
     "data": {
      "text/plain": [
       "pandas.core.series.Series"
      ]
     },
     "execution_count": 26,
     "metadata": {},
     "output_type": "execute_result"
    }
   ],
   "source": [
    "type(newdata[0])"
   ]
  },
  {
   "cell_type": "code",
   "execution_count": 27,
   "id": "f62982d3",
   "metadata": {},
   "outputs": [
    {
     "name": "stderr",
     "output_type": "stream",
     "text": [
      "C:\\Users\\Gagan\\AppData\\Local\\Temp\\ipykernel_19380\\224267802.py:2: FutureWarning: ChainedAssignmentError: behaviour will change in pandas 3.0!\n",
      "You are setting values through chained assignment. Currently this works in certain cases, but when using Copy-on-Write (which will become the default behaviour in pandas 3.0) this will never work to update the original DataFrame or Series, because the intermediate object on which we are setting values will behave as a copy.\n",
      "A typical example is when you are setting values in a column of a DataFrame, like:\n",
      "\n",
      "df[\"col\"][row_indexer] = value\n",
      "\n",
      "Use `df.loc[row_indexer, \"col\"] = values` instead, to perform the assignment in a single step and ensure this keeps updating the original `df`.\n",
      "\n",
      "See the caveats in the documentation: https://pandas.pydata.org/pandas-docs/stable/user_guide/indexing.html#returning-a-view-versus-a-copy\n",
      "\n",
      "  new[0][0]= 98754353\n"
     ]
    },
    {
     "data": {
      "application/vnd.microsoft.datawrangler.viewer.v0+json": {
       "columns": [
        {
         "name": "index",
         "rawType": "int64",
         "type": "integer"
        },
        {
         "name": "0",
         "rawType": "float64",
         "type": "float"
        },
        {
         "name": "1",
         "rawType": "float64",
         "type": "float"
        },
        {
         "name": "2",
         "rawType": "float64",
         "type": "float"
        },
        {
         "name": "3",
         "rawType": "float64",
         "type": "float"
        },
        {
         "name": "4",
         "rawType": "float64",
         "type": "float"
        }
       ],
       "ref": "eb30bb3b-aba8-4c3e-8f95-768ac3076329",
       "rows": [
        [
         "0",
         "0.34531",
         "0.7820470183933164",
         "0.8072195513522772",
         "0.5400593847186567",
         "0.4960023539231663"
        ],
        [
         "1",
         "0.12843009056672772",
         "0.3938801014353325",
         "0.6648939142489135",
         "0.8175864898685784",
         "0.956752059379283"
        ],
        [
         "2",
         "0.9765135353169572",
         "0.05069198116376483",
         "0.8771899741666347",
         "0.5518321583044961",
         "0.983283712600777"
        ],
        [
         "3",
         "0.22870451186071872",
         "0.5539377492996397",
         "0.2951890619832668",
         "0.948355547777948",
         "0.9367900232699302"
        ],
        [
         "4",
         "0.36329412438272635",
         "0.3217769006001796",
         "0.7617271157391927",
         "0.863740737736931",
         "0.45821515045403727"
        ],
        [
         "5",
         "0.2110570668443309",
         "0.5223482251131428",
         "0.9909811457316978",
         "0.817474688125708",
         "0.5692917171863149"
        ],
        [
         "6",
         "0.05638398204460515",
         "0.9595065919305314",
         "0.3828303064500691",
         "0.23968158078618773",
         "0.7715077259761411"
        ],
        [
         "7",
         "0.39515456223427015",
         "0.03929409971105946",
         "0.6090072999205016",
         "0.527822125069944",
         "0.5124395319973334"
        ],
        [
         "8",
         "0.34712446196107816",
         "0.9857349032050153",
         "0.804366583452832",
         "0.9620003414447467",
         "0.7872568967599851"
        ],
        [
         "9",
         "0.09847508511277159",
         "0.20135332177212195",
         "0.5471781105714979",
         "0.5931965871593752",
         "0.9580184381398644"
        ],
        [
         "10",
         "0.5564524927199489",
         "0.27139019044077795",
         "0.6092461509313286",
         "0.601969529536452",
         "0.7418853679414473"
        ],
        [
         "11",
         "0.7813245069388608",
         "0.1877024316720003",
         "0.2606423008570685",
         "0.28572097401604557",
         "0.5470841657801083"
        ],
        [
         "12",
         "0.6511460641353879",
         "0.29542025391633764",
         "0.9859118974667059",
         "0.08756791183826629",
         "0.631521267863985"
        ],
        [
         "13",
         "0.5083532361841969",
         "0.9518502331727317",
         "0.727012277383883",
         "0.3805611567081033",
         "0.39401446543404894"
        ],
        [
         "14",
         "0.550656659113418",
         "0.3967861996712888",
         "0.3544940569232333",
         "0.8160690714382771",
         "0.95092106223635"
        ],
        [
         "15",
         "0.5062519451554339",
         "0.08880310307550454",
         "0.5404693745376238",
         "0.808892482739703",
         "0.41964165486627625"
        ],
        [
         "16",
         "0.627866633340235",
         "0.05284237710542217",
         "0.012201393180711118",
         "0.3016938660106677",
         "0.036724601421641134"
        ],
        [
         "17",
         "0.9655617893542339",
         "0.5024740955178767",
         "0.6327737390739004",
         "0.04018164884900821",
         "0.5152583398400625"
        ],
        [
         "18",
         "0.20213842866842135",
         "0.6054850473113454",
         "0.45747956716484905",
         "0.7497844542768779",
         "0.700061725020855"
        ],
        [
         "19",
         "0.6466360165389936",
         "0.02370817653223478",
         "0.34728724896013785",
         "0.15996542048675477",
         "0.4904094767866314"
        ],
        [
         "20",
         "0.9963990467051018",
         "0.7200556031202756",
         "0.30440972368866825",
         "0.5447969422715797",
         "0.3644216589742817"
        ],
        [
         "21",
         "0.6607824128147656",
         "0.5891797028747482",
         "0.17766302062071526",
         "0.41821689152050445",
         "0.6729636607258146"
        ],
        [
         "22",
         "0.16288801116861196",
         "0.9534487177598739",
         "0.23509039536531529",
         "0.06704668202422692",
         "0.9632882027073434"
        ],
        [
         "23",
         "0.17379855218660079",
         "0.41816550385040474",
         "0.4868705868241713",
         "0.9508167895567623",
         "0.6365873626317602"
        ],
        [
         "24",
         "0.44334212250157845",
         "0.22750643108834068",
         "0.6678526187152185",
         "0.10171342913665804",
         "0.6543123213018873"
        ],
        [
         "25",
         "0.4172194020480605",
         "0.19859292418749785",
         "0.19981076340437132",
         "0.29741982114513266",
         "0.8353509108963367"
        ],
        [
         "26",
         "0.531259033959184",
         "0.051688152118105735",
         "0.6262166082218926",
         "0.16530225765651385",
         "0.5136968081229516"
        ],
        [
         "27",
         "0.6805510223374869",
         "0.23066864873132997",
         "0.44022297781526043",
         "0.33903680613404075",
         "0.567349392237221"
        ],
        [
         "28",
         "0.2503620225487033",
         "0.6962175947778495",
         "0.9098870288309022",
         "0.9943970799498738",
         "0.41653344859474306"
        ],
        [
         "29",
         "0.16860669521076255",
         "0.5318180906036054",
         "0.7640327345669153",
         "0.49416183261753976",
         "0.03587601314648914"
        ],
        [
         "30",
         "0.9809034000251917",
         "0.7307676800890814",
         "0.08881337298491432",
         "0.5394276638279468",
         "0.00028213890264428"
        ],
        [
         "31",
         "0.4658209197497528",
         "0.25511098985710756",
         "0.1950892705595525",
         "0.570152408498191",
         "0.7064759560285662"
        ],
        [
         "32",
         "0.2736313150181947",
         "0.2978477146147749",
         "0.37280271888275607",
         "0.2768389694591009",
         "0.7131124366144409"
        ],
        [
         "33",
         "0.8317047055936369",
         "0.8301223238621807",
         "0.12084832184104699",
         "0.7716199314108453",
         "0.07287506585367653"
        ],
        [
         "34",
         "0.9370821429253035",
         "0.37186284202929343",
         "0.6913098117329952",
         "0.5980511273880509",
         "0.26630793597277613"
        ],
        [
         "35",
         "0.06656202909211861",
         "0.8102544862461544",
         "0.8936951809791494",
         "0.03277811906616068",
         "0.8240020335477364"
        ],
        [
         "36",
         "0.9886930832423653",
         "0.17701135133992096",
         "0.08103591560931256",
         "0.7983358607963988",
         "0.7601965878722285"
        ],
        [
         "37",
         "0.8405670310523434",
         "0.7236558236100522",
         "0.6638040390605885",
         "0.166965538713729",
         "0.5618552706263762"
        ],
        [
         "38",
         "0.5049054485858552",
         "0.6821275952029692",
         "0.005724382848044107",
         "0.861905809140322",
         "0.1574651697886006"
        ],
        [
         "39",
         "0.13552441385594582",
         "0.23362199334676736",
         "0.28954768568189515",
         "0.18310795340430397",
         "0.8626517033812812"
        ],
        [
         "40",
         "0.721892081717362",
         "0.42857332372501433",
         "0.061996158849507266",
         "0.6566664680130615",
         "0.6717234330943621"
        ],
        [
         "41",
         "0.44788074116275267",
         "0.7128103805045082",
         "0.8572280017348901",
         "0.44265886923013664",
         "0.7475371719733575"
        ],
        [
         "42",
         "0.12851734442723495",
         "0.4449496584318262",
         "0.1918911169700498",
         "0.53146526293249",
         "0.8365288781604451"
        ],
        [
         "43",
         "0.7312990366028819",
         "0.2942624820322093",
         "0.2709097991688584",
         "0.1969160084851237",
         "0.7631483356290131"
        ],
        [
         "44",
         "0.6287176184585517",
         "0.28788418282131345",
         "0.4799539207199589",
         "0.7159578452700981",
         "0.27635753791539086"
        ],
        [
         "45",
         "0.03594363478815188",
         "0.03061837024250358",
         "0.11111808020522485",
         "0.9902560385208359",
         "0.004127036854617794"
        ],
        [
         "46",
         "0.7855380185873424",
         "0.33446453828176503",
         "0.7531872382144452",
         "0.47900816166965776",
         "0.5426445660848"
        ],
        [
         "47",
         "0.22248439178773516",
         "0.919359989355044",
         "0.9834233311905421",
         "0.08037112838092153",
         "0.0983203322383609"
        ],
        [
         "48",
         "0.5921525470168674",
         "0.7913127440059109",
         "0.7976852563377749",
         "0.3684820954844521",
         "0.3238621414549605"
        ],
        [
         "49",
         "0.02184396774705999",
         "0.9299419216388763",
         "0.2010201842445486",
         "0.37234604838933505",
         "0.32492782755252114"
        ]
       ],
       "shape": {
        "columns": 5,
        "rows": 334
       }
      },
      "text/html": [
       "<div>\n",
       "<style scoped>\n",
       "    .dataframe tbody tr th:only-of-type {\n",
       "        vertical-align: middle;\n",
       "    }\n",
       "\n",
       "    .dataframe tbody tr th {\n",
       "        vertical-align: top;\n",
       "    }\n",
       "\n",
       "    .dataframe thead th {\n",
       "        text-align: right;\n",
       "    }\n",
       "</style>\n",
       "<table border=\"1\" class=\"dataframe\">\n",
       "  <thead>\n",
       "    <tr style=\"text-align: right;\">\n",
       "      <th></th>\n",
       "      <th>0</th>\n",
       "      <th>1</th>\n",
       "      <th>2</th>\n",
       "      <th>3</th>\n",
       "      <th>4</th>\n",
       "    </tr>\n",
       "  </thead>\n",
       "  <tbody>\n",
       "    <tr>\n",
       "      <th>0</th>\n",
       "      <td>0.345310</td>\n",
       "      <td>0.782047</td>\n",
       "      <td>0.807220</td>\n",
       "      <td>0.540059</td>\n",
       "      <td>0.496002</td>\n",
       "    </tr>\n",
       "    <tr>\n",
       "      <th>1</th>\n",
       "      <td>0.128430</td>\n",
       "      <td>0.393880</td>\n",
       "      <td>0.664894</td>\n",
       "      <td>0.817586</td>\n",
       "      <td>0.956752</td>\n",
       "    </tr>\n",
       "    <tr>\n",
       "      <th>2</th>\n",
       "      <td>0.976514</td>\n",
       "      <td>0.050692</td>\n",
       "      <td>0.877190</td>\n",
       "      <td>0.551832</td>\n",
       "      <td>0.983284</td>\n",
       "    </tr>\n",
       "    <tr>\n",
       "      <th>3</th>\n",
       "      <td>0.228705</td>\n",
       "      <td>0.553938</td>\n",
       "      <td>0.295189</td>\n",
       "      <td>0.948356</td>\n",
       "      <td>0.936790</td>\n",
       "    </tr>\n",
       "    <tr>\n",
       "      <th>4</th>\n",
       "      <td>0.363294</td>\n",
       "      <td>0.321777</td>\n",
       "      <td>0.761727</td>\n",
       "      <td>0.863741</td>\n",
       "      <td>0.458215</td>\n",
       "    </tr>\n",
       "    <tr>\n",
       "      <th>...</th>\n",
       "      <td>...</td>\n",
       "      <td>...</td>\n",
       "      <td>...</td>\n",
       "      <td>...</td>\n",
       "      <td>...</td>\n",
       "    </tr>\n",
       "    <tr>\n",
       "      <th>329</th>\n",
       "      <td>0.369479</td>\n",
       "      <td>0.142804</td>\n",
       "      <td>0.410262</td>\n",
       "      <td>0.920999</td>\n",
       "      <td>0.638077</td>\n",
       "    </tr>\n",
       "    <tr>\n",
       "      <th>330</th>\n",
       "      <td>0.880545</td>\n",
       "      <td>0.776962</td>\n",
       "      <td>0.189283</td>\n",
       "      <td>0.895761</td>\n",
       "      <td>0.838165</td>\n",
       "    </tr>\n",
       "    <tr>\n",
       "      <th>331</th>\n",
       "      <td>0.272343</td>\n",
       "      <td>0.362606</td>\n",
       "      <td>0.765592</td>\n",
       "      <td>0.492066</td>\n",
       "      <td>0.665382</td>\n",
       "    </tr>\n",
       "    <tr>\n",
       "      <th>332</th>\n",
       "      <td>0.876844</td>\n",
       "      <td>0.705051</td>\n",
       "      <td>0.165220</td>\n",
       "      <td>0.559765</td>\n",
       "      <td>0.518000</td>\n",
       "    </tr>\n",
       "    <tr>\n",
       "      <th>333</th>\n",
       "      <td>0.128982</td>\n",
       "      <td>0.116083</td>\n",
       "      <td>0.622599</td>\n",
       "      <td>0.790320</td>\n",
       "      <td>0.857159</td>\n",
       "    </tr>\n",
       "  </tbody>\n",
       "</table>\n",
       "<p>334 rows × 5 columns</p>\n",
       "</div>"
      ],
      "text/plain": [
       "            0         1         2         3         4\n",
       "0    0.345310  0.782047  0.807220  0.540059  0.496002\n",
       "1    0.128430  0.393880  0.664894  0.817586  0.956752\n",
       "2    0.976514  0.050692  0.877190  0.551832  0.983284\n",
       "3    0.228705  0.553938  0.295189  0.948356  0.936790\n",
       "4    0.363294  0.321777  0.761727  0.863741  0.458215\n",
       "..        ...       ...       ...       ...       ...\n",
       "329  0.369479  0.142804  0.410262  0.920999  0.638077\n",
       "330  0.880545  0.776962  0.189283  0.895761  0.838165\n",
       "331  0.272343  0.362606  0.765592  0.492066  0.665382\n",
       "332  0.876844  0.705051  0.165220  0.559765  0.518000\n",
       "333  0.128982  0.116083  0.622599  0.790320  0.857159\n",
       "\n",
       "[334 rows x 5 columns]"
      ]
     },
     "execution_count": 27,
     "metadata": {},
     "output_type": "execute_result"
    }
   ],
   "source": [
    "new = newdata.copy()\n",
    "new[0][0]= 98754353\n",
    "newdata\n"
   ]
  },
  {
   "cell_type": "code",
   "execution_count": 28,
   "id": "846f760a",
   "metadata": {},
   "outputs": [
    {
     "data": {
      "application/vnd.microsoft.datawrangler.viewer.v0+json": {
       "columns": [
        {
         "name": "index",
         "rawType": "int64",
         "type": "integer"
        },
        {
         "name": "0",
         "rawType": "float64",
         "type": "float"
        },
        {
         "name": "1",
         "rawType": "float64",
         "type": "float"
        },
        {
         "name": "2",
         "rawType": "float64",
         "type": "float"
        },
        {
         "name": "3",
         "rawType": "float64",
         "type": "float"
        },
        {
         "name": "4",
         "rawType": "float64",
         "type": "float"
        }
       ],
       "ref": "da1f6dd6-8b40-4bec-a673-60a2f4a59d94",
       "rows": [
        [
         "0",
         "654.0",
         "0.7820470183933164",
         "0.8072195513522772",
         "0.5400593847186567",
         "0.4960023539231663"
        ],
        [
         "1",
         "0.12843009056672772",
         "0.3938801014353325",
         "0.6648939142489135",
         "0.8175864898685784",
         "0.956752059379283"
        ]
       ],
       "shape": {
        "columns": 5,
        "rows": 2
       }
      },
      "text/html": [
       "<div>\n",
       "<style scoped>\n",
       "    .dataframe tbody tr th:only-of-type {\n",
       "        vertical-align: middle;\n",
       "    }\n",
       "\n",
       "    .dataframe tbody tr th {\n",
       "        vertical-align: top;\n",
       "    }\n",
       "\n",
       "    .dataframe thead th {\n",
       "        text-align: right;\n",
       "    }\n",
       "</style>\n",
       "<table border=\"1\" class=\"dataframe\">\n",
       "  <thead>\n",
       "    <tr style=\"text-align: right;\">\n",
       "      <th></th>\n",
       "      <th>0</th>\n",
       "      <th>1</th>\n",
       "      <th>2</th>\n",
       "      <th>3</th>\n",
       "      <th>4</th>\n",
       "    </tr>\n",
       "  </thead>\n",
       "  <tbody>\n",
       "    <tr>\n",
       "      <th>0</th>\n",
       "      <td>654.00000</td>\n",
       "      <td>0.782047</td>\n",
       "      <td>0.807220</td>\n",
       "      <td>0.540059</td>\n",
       "      <td>0.496002</td>\n",
       "    </tr>\n",
       "    <tr>\n",
       "      <th>1</th>\n",
       "      <td>0.12843</td>\n",
       "      <td>0.393880</td>\n",
       "      <td>0.664894</td>\n",
       "      <td>0.817586</td>\n",
       "      <td>0.956752</td>\n",
       "    </tr>\n",
       "  </tbody>\n",
       "</table>\n",
       "</div>"
      ],
      "text/plain": [
       "           0         1         2         3         4\n",
       "0  654.00000  0.782047  0.807220  0.540059  0.496002\n",
       "1    0.12843  0.393880  0.664894  0.817586  0.956752"
      ]
     },
     "execution_count": 28,
     "metadata": {},
     "output_type": "execute_result"
    }
   ],
   "source": [
    "newdata.loc[0,0] = 654\n",
    "newdata.head(2)"
   ]
  },
  {
   "cell_type": "code",
   "execution_count": 29,
   "id": "207a7843",
   "metadata": {},
   "outputs": [
    {
     "data": {
      "application/vnd.microsoft.datawrangler.viewer.v0+json": {
       "columns": [
        {
         "name": "index",
         "rawType": "int64",
         "type": "integer"
        },
        {
         "name": "1",
         "rawType": "float64",
         "type": "float"
        },
        {
         "name": "2",
         "rawType": "float64",
         "type": "float"
        },
        {
         "name": "3",
         "rawType": "float64",
         "type": "float"
        },
        {
         "name": "4",
         "rawType": "float64",
         "type": "float"
        }
       ],
       "ref": "57bde573-58e6-49ea-aac1-2d0808187aa9",
       "rows": [
        [
         "0",
         "0.7820470183933164",
         "0.8072195513522772",
         "0.5400593847186567",
         "0.4960023539231663"
        ],
        [
         "1",
         "0.3938801014353325",
         "0.6648939142489135",
         "0.8175864898685784",
         "0.956752059379283"
        ],
        [
         "2",
         "0.05069198116376483",
         "0.8771899741666347",
         "0.5518321583044961",
         "0.983283712600777"
        ],
        [
         "3",
         "0.5539377492996397",
         "0.2951890619832668",
         "0.948355547777948",
         "0.9367900232699302"
        ],
        [
         "4",
         "0.3217769006001796",
         "0.7617271157391927",
         "0.863740737736931",
         "0.45821515045403727"
        ],
        [
         "5",
         "0.5223482251131428",
         "0.9909811457316978",
         "0.817474688125708",
         "0.5692917171863149"
        ],
        [
         "6",
         "0.9595065919305314",
         "0.3828303064500691",
         "0.23968158078618773",
         "0.7715077259761411"
        ],
        [
         "7",
         "0.03929409971105946",
         "0.6090072999205016",
         "0.527822125069944",
         "0.5124395319973334"
        ],
        [
         "8",
         "0.9857349032050153",
         "0.804366583452832",
         "0.9620003414447467",
         "0.7872568967599851"
        ],
        [
         "9",
         "0.20135332177212195",
         "0.5471781105714979",
         "0.5931965871593752",
         "0.9580184381398644"
        ],
        [
         "10",
         "0.27139019044077795",
         "0.6092461509313286",
         "0.601969529536452",
         "0.7418853679414473"
        ],
        [
         "11",
         "0.1877024316720003",
         "0.2606423008570685",
         "0.28572097401604557",
         "0.5470841657801083"
        ],
        [
         "12",
         "0.29542025391633764",
         "0.9859118974667059",
         "0.08756791183826629",
         "0.631521267863985"
        ],
        [
         "13",
         "0.9518502331727317",
         "0.727012277383883",
         "0.3805611567081033",
         "0.39401446543404894"
        ],
        [
         "14",
         "0.3967861996712888",
         "0.3544940569232333",
         "0.8160690714382771",
         "0.95092106223635"
        ],
        [
         "15",
         "0.08880310307550454",
         "0.5404693745376238",
         "0.808892482739703",
         "0.41964165486627625"
        ],
        [
         "16",
         "0.05284237710542217",
         "0.012201393180711118",
         "0.3016938660106677",
         "0.036724601421641134"
        ],
        [
         "17",
         "0.5024740955178767",
         "0.6327737390739004",
         "0.04018164884900821",
         "0.5152583398400625"
        ],
        [
         "18",
         "0.6054850473113454",
         "0.45747956716484905",
         "0.7497844542768779",
         "0.700061725020855"
        ],
        [
         "19",
         "0.02370817653223478",
         "0.34728724896013785",
         "0.15996542048675477",
         "0.4904094767866314"
        ],
        [
         "20",
         "0.7200556031202756",
         "0.30440972368866825",
         "0.5447969422715797",
         "0.3644216589742817"
        ],
        [
         "21",
         "0.5891797028747482",
         "0.17766302062071526",
         "0.41821689152050445",
         "0.6729636607258146"
        ],
        [
         "22",
         "0.9534487177598739",
         "0.23509039536531529",
         "0.06704668202422692",
         "0.9632882027073434"
        ],
        [
         "23",
         "0.41816550385040474",
         "0.4868705868241713",
         "0.9508167895567623",
         "0.6365873626317602"
        ],
        [
         "24",
         "0.22750643108834068",
         "0.6678526187152185",
         "0.10171342913665804",
         "0.6543123213018873"
        ],
        [
         "25",
         "0.19859292418749785",
         "0.19981076340437132",
         "0.29741982114513266",
         "0.8353509108963367"
        ],
        [
         "26",
         "0.051688152118105735",
         "0.6262166082218926",
         "0.16530225765651385",
         "0.5136968081229516"
        ],
        [
         "27",
         "0.23066864873132997",
         "0.44022297781526043",
         "0.33903680613404075",
         "0.567349392237221"
        ],
        [
         "28",
         "0.6962175947778495",
         "0.9098870288309022",
         "0.9943970799498738",
         "0.41653344859474306"
        ],
        [
         "29",
         "0.5318180906036054",
         "0.7640327345669153",
         "0.49416183261753976",
         "0.03587601314648914"
        ],
        [
         "30",
         "0.7307676800890814",
         "0.08881337298491432",
         "0.5394276638279468",
         "0.00028213890264428"
        ],
        [
         "31",
         "0.25511098985710756",
         "0.1950892705595525",
         "0.570152408498191",
         "0.7064759560285662"
        ],
        [
         "32",
         "0.2978477146147749",
         "0.37280271888275607",
         "0.2768389694591009",
         "0.7131124366144409"
        ],
        [
         "33",
         "0.8301223238621807",
         "0.12084832184104699",
         "0.7716199314108453",
         "0.07287506585367653"
        ],
        [
         "34",
         "0.37186284202929343",
         "0.6913098117329952",
         "0.5980511273880509",
         "0.26630793597277613"
        ],
        [
         "35",
         "0.8102544862461544",
         "0.8936951809791494",
         "0.03277811906616068",
         "0.8240020335477364"
        ],
        [
         "36",
         "0.17701135133992096",
         "0.08103591560931256",
         "0.7983358607963988",
         "0.7601965878722285"
        ],
        [
         "37",
         "0.7236558236100522",
         "0.6638040390605885",
         "0.166965538713729",
         "0.5618552706263762"
        ],
        [
         "38",
         "0.6821275952029692",
         "0.005724382848044107",
         "0.861905809140322",
         "0.1574651697886006"
        ],
        [
         "39",
         "0.23362199334676736",
         "0.28954768568189515",
         "0.18310795340430397",
         "0.8626517033812812"
        ],
        [
         "40",
         "0.42857332372501433",
         "0.061996158849507266",
         "0.6566664680130615",
         "0.6717234330943621"
        ],
        [
         "41",
         "0.7128103805045082",
         "0.8572280017348901",
         "0.44265886923013664",
         "0.7475371719733575"
        ],
        [
         "42",
         "0.4449496584318262",
         "0.1918911169700498",
         "0.53146526293249",
         "0.8365288781604451"
        ],
        [
         "43",
         "0.2942624820322093",
         "0.2709097991688584",
         "0.1969160084851237",
         "0.7631483356290131"
        ],
        [
         "44",
         "0.28788418282131345",
         "0.4799539207199589",
         "0.7159578452700981",
         "0.27635753791539086"
        ],
        [
         "45",
         "0.03061837024250358",
         "0.11111808020522485",
         "0.9902560385208359",
         "0.004127036854617794"
        ],
        [
         "46",
         "0.33446453828176503",
         "0.7531872382144452",
         "0.47900816166965776",
         "0.5426445660848"
        ],
        [
         "47",
         "0.919359989355044",
         "0.9834233311905421",
         "0.08037112838092153",
         "0.0983203322383609"
        ],
        [
         "48",
         "0.7913127440059109",
         "0.7976852563377749",
         "0.3684820954844521",
         "0.3238621414549605"
        ],
        [
         "49",
         "0.9299419216388763",
         "0.2010201842445486",
         "0.37234604838933505",
         "0.32492782755252114"
        ]
       ],
       "shape": {
        "columns": 4,
        "rows": 334
       }
      },
      "text/html": [
       "<div>\n",
       "<style scoped>\n",
       "    .dataframe tbody tr th:only-of-type {\n",
       "        vertical-align: middle;\n",
       "    }\n",
       "\n",
       "    .dataframe tbody tr th {\n",
       "        vertical-align: top;\n",
       "    }\n",
       "\n",
       "    .dataframe thead th {\n",
       "        text-align: right;\n",
       "    }\n",
       "</style>\n",
       "<table border=\"1\" class=\"dataframe\">\n",
       "  <thead>\n",
       "    <tr style=\"text-align: right;\">\n",
       "      <th></th>\n",
       "      <th>1</th>\n",
       "      <th>2</th>\n",
       "      <th>3</th>\n",
       "      <th>4</th>\n",
       "    </tr>\n",
       "  </thead>\n",
       "  <tbody>\n",
       "    <tr>\n",
       "      <th>0</th>\n",
       "      <td>0.782047</td>\n",
       "      <td>0.807220</td>\n",
       "      <td>0.540059</td>\n",
       "      <td>0.496002</td>\n",
       "    </tr>\n",
       "    <tr>\n",
       "      <th>1</th>\n",
       "      <td>0.393880</td>\n",
       "      <td>0.664894</td>\n",
       "      <td>0.817586</td>\n",
       "      <td>0.956752</td>\n",
       "    </tr>\n",
       "    <tr>\n",
       "      <th>2</th>\n",
       "      <td>0.050692</td>\n",
       "      <td>0.877190</td>\n",
       "      <td>0.551832</td>\n",
       "      <td>0.983284</td>\n",
       "    </tr>\n",
       "    <tr>\n",
       "      <th>3</th>\n",
       "      <td>0.553938</td>\n",
       "      <td>0.295189</td>\n",
       "      <td>0.948356</td>\n",
       "      <td>0.936790</td>\n",
       "    </tr>\n",
       "    <tr>\n",
       "      <th>4</th>\n",
       "      <td>0.321777</td>\n",
       "      <td>0.761727</td>\n",
       "      <td>0.863741</td>\n",
       "      <td>0.458215</td>\n",
       "    </tr>\n",
       "    <tr>\n",
       "      <th>...</th>\n",
       "      <td>...</td>\n",
       "      <td>...</td>\n",
       "      <td>...</td>\n",
       "      <td>...</td>\n",
       "    </tr>\n",
       "    <tr>\n",
       "      <th>329</th>\n",
       "      <td>0.142804</td>\n",
       "      <td>0.410262</td>\n",
       "      <td>0.920999</td>\n",
       "      <td>0.638077</td>\n",
       "    </tr>\n",
       "    <tr>\n",
       "      <th>330</th>\n",
       "      <td>0.776962</td>\n",
       "      <td>0.189283</td>\n",
       "      <td>0.895761</td>\n",
       "      <td>0.838165</td>\n",
       "    </tr>\n",
       "    <tr>\n",
       "      <th>331</th>\n",
       "      <td>0.362606</td>\n",
       "      <td>0.765592</td>\n",
       "      <td>0.492066</td>\n",
       "      <td>0.665382</td>\n",
       "    </tr>\n",
       "    <tr>\n",
       "      <th>332</th>\n",
       "      <td>0.705051</td>\n",
       "      <td>0.165220</td>\n",
       "      <td>0.559765</td>\n",
       "      <td>0.518000</td>\n",
       "    </tr>\n",
       "    <tr>\n",
       "      <th>333</th>\n",
       "      <td>0.116083</td>\n",
       "      <td>0.622599</td>\n",
       "      <td>0.790320</td>\n",
       "      <td>0.857159</td>\n",
       "    </tr>\n",
       "  </tbody>\n",
       "</table>\n",
       "<p>334 rows × 4 columns</p>\n",
       "</div>"
      ],
      "text/plain": [
       "            1         2         3         4\n",
       "0    0.782047  0.807220  0.540059  0.496002\n",
       "1    0.393880  0.664894  0.817586  0.956752\n",
       "2    0.050692  0.877190  0.551832  0.983284\n",
       "3    0.553938  0.295189  0.948356  0.936790\n",
       "4    0.321777  0.761727  0.863741  0.458215\n",
       "..        ...       ...       ...       ...\n",
       "329  0.142804  0.410262  0.920999  0.638077\n",
       "330  0.776962  0.189283  0.895761  0.838165\n",
       "331  0.362606  0.765592  0.492066  0.665382\n",
       "332  0.705051  0.165220  0.559765  0.518000\n",
       "333  0.116083  0.622599  0.790320  0.857159\n",
       "\n",
       "[334 rows x 4 columns]"
      ]
     },
     "execution_count": 29,
     "metadata": {},
     "output_type": "execute_result"
    }
   ],
   "source": [
    "newdata.drop(0,axis=1)"
   ]
  },
  {
   "cell_type": "code",
   "execution_count": 30,
   "id": "2819db5c",
   "metadata": {},
   "outputs": [
    {
     "data": {
      "application/vnd.microsoft.datawrangler.viewer.v0+json": {
       "columns": [
        {
         "name": "index",
         "rawType": "int64",
         "type": "integer"
        },
        {
         "name": "0",
         "rawType": "float64",
         "type": "float"
        },
        {
         "name": "1",
         "rawType": "float64",
         "type": "float"
        },
        {
         "name": "2",
         "rawType": "float64",
         "type": "float"
        },
        {
         "name": "3",
         "rawType": "float64",
         "type": "float"
        },
        {
         "name": "4",
         "rawType": "float64",
         "type": "float"
        }
       ],
       "ref": "c24f712b-aa58-4d36-a36f-4b808876964b",
       "rows": [
        [
         "0",
         "654.0",
         "0.7820470183933164",
         "0.8072195513522772",
         "0.5400593847186567",
         "0.4960023539231663"
        ],
        [
         "1",
         "0.12843009056672772",
         "0.3938801014353325",
         "0.6648939142489135",
         "0.8175864898685784",
         "0.956752059379283"
        ],
        [
         "2",
         "0.9765135353169572",
         "0.05069198116376483",
         "0.8771899741666347",
         "0.5518321583044961",
         "0.983283712600777"
        ],
        [
         "3",
         "0.22870451186071872",
         "0.5539377492996397",
         "0.2951890619832668",
         "0.948355547777948",
         "0.9367900232699302"
        ],
        [
         "4",
         "0.36329412438272635",
         "0.3217769006001796",
         "0.7617271157391927",
         "0.863740737736931",
         "0.45821515045403727"
        ]
       ],
       "shape": {
        "columns": 5,
        "rows": 5
       }
      },
      "text/html": [
       "<div>\n",
       "<style scoped>\n",
       "    .dataframe tbody tr th:only-of-type {\n",
       "        vertical-align: middle;\n",
       "    }\n",
       "\n",
       "    .dataframe tbody tr th {\n",
       "        vertical-align: top;\n",
       "    }\n",
       "\n",
       "    .dataframe thead th {\n",
       "        text-align: right;\n",
       "    }\n",
       "</style>\n",
       "<table border=\"1\" class=\"dataframe\">\n",
       "  <thead>\n",
       "    <tr style=\"text-align: right;\">\n",
       "      <th></th>\n",
       "      <th>0</th>\n",
       "      <th>1</th>\n",
       "      <th>2</th>\n",
       "      <th>3</th>\n",
       "      <th>4</th>\n",
       "    </tr>\n",
       "  </thead>\n",
       "  <tbody>\n",
       "    <tr>\n",
       "      <th>0</th>\n",
       "      <td>654.000000</td>\n",
       "      <td>0.782047</td>\n",
       "      <td>0.807220</td>\n",
       "      <td>0.540059</td>\n",
       "      <td>0.496002</td>\n",
       "    </tr>\n",
       "    <tr>\n",
       "      <th>1</th>\n",
       "      <td>0.128430</td>\n",
       "      <td>0.393880</td>\n",
       "      <td>0.664894</td>\n",
       "      <td>0.817586</td>\n",
       "      <td>0.956752</td>\n",
       "    </tr>\n",
       "    <tr>\n",
       "      <th>2</th>\n",
       "      <td>0.976514</td>\n",
       "      <td>0.050692</td>\n",
       "      <td>0.877190</td>\n",
       "      <td>0.551832</td>\n",
       "      <td>0.983284</td>\n",
       "    </tr>\n",
       "    <tr>\n",
       "      <th>3</th>\n",
       "      <td>0.228705</td>\n",
       "      <td>0.553938</td>\n",
       "      <td>0.295189</td>\n",
       "      <td>0.948356</td>\n",
       "      <td>0.936790</td>\n",
       "    </tr>\n",
       "    <tr>\n",
       "      <th>4</th>\n",
       "      <td>0.363294</td>\n",
       "      <td>0.321777</td>\n",
       "      <td>0.761727</td>\n",
       "      <td>0.863741</td>\n",
       "      <td>0.458215</td>\n",
       "    </tr>\n",
       "  </tbody>\n",
       "</table>\n",
       "</div>"
      ],
      "text/plain": [
       "            0         1         2         3         4\n",
       "0  654.000000  0.782047  0.807220  0.540059  0.496002\n",
       "1    0.128430  0.393880  0.664894  0.817586  0.956752\n",
       "2    0.976514  0.050692  0.877190  0.551832  0.983284\n",
       "3    0.228705  0.553938  0.295189  0.948356  0.936790\n",
       "4    0.363294  0.321777  0.761727  0.863741  0.458215"
      ]
     },
     "execution_count": 30,
     "metadata": {},
     "output_type": "execute_result"
    }
   ],
   "source": [
    "newdata.head()"
   ]
  },
  {
   "cell_type": "code",
   "execution_count": 31,
   "id": "88d44ff2",
   "metadata": {},
   "outputs": [
    {
     "data": {
      "application/vnd.microsoft.datawrangler.viewer.v0+json": {
       "columns": [
        {
         "name": "index",
         "rawType": "int64",
         "type": "integer"
        },
        {
         "name": "1",
         "rawType": "float64",
         "type": "float"
        },
        {
         "name": "2",
         "rawType": "float64",
         "type": "float"
        }
       ],
       "ref": "094f16ab-7cbe-43bf-9f44-caf91591ea19",
       "rows": [
        [
         "1",
         "0.3938801014353325",
         "0.6648939142489135"
        ],
        [
         "2",
         "0.05069198116376483",
         "0.8771899741666347"
        ]
       ],
       "shape": {
        "columns": 2,
        "rows": 2
       }
      },
      "text/html": [
       "<div>\n",
       "<style scoped>\n",
       "    .dataframe tbody tr th:only-of-type {\n",
       "        vertical-align: middle;\n",
       "    }\n",
       "\n",
       "    .dataframe tbody tr th {\n",
       "        vertical-align: top;\n",
       "    }\n",
       "\n",
       "    .dataframe thead th {\n",
       "        text-align: right;\n",
       "    }\n",
       "</style>\n",
       "<table border=\"1\" class=\"dataframe\">\n",
       "  <thead>\n",
       "    <tr style=\"text-align: right;\">\n",
       "      <th></th>\n",
       "      <th>1</th>\n",
       "      <th>2</th>\n",
       "    </tr>\n",
       "  </thead>\n",
       "  <tbody>\n",
       "    <tr>\n",
       "      <th>1</th>\n",
       "      <td>0.393880</td>\n",
       "      <td>0.664894</td>\n",
       "    </tr>\n",
       "    <tr>\n",
       "      <th>2</th>\n",
       "      <td>0.050692</td>\n",
       "      <td>0.877190</td>\n",
       "    </tr>\n",
       "  </tbody>\n",
       "</table>\n",
       "</div>"
      ],
      "text/plain": [
       "          1         2\n",
       "1  0.393880  0.664894\n",
       "2  0.050692  0.877190"
      ]
     },
     "execution_count": 31,
     "metadata": {},
     "output_type": "execute_result"
    }
   ],
   "source": [
    "newdata.loc[[1,2],[1,2]]"
   ]
  },
  {
   "cell_type": "code",
   "execution_count": 32,
   "id": "fc708ef9",
   "metadata": {},
   "outputs": [
    {
     "data": {
      "application/vnd.microsoft.datawrangler.viewer.v0+json": {
       "columns": [
        {
         "name": "index",
         "rawType": "int64",
         "type": "integer"
        },
        {
         "name": "1",
         "rawType": "float64",
         "type": "float"
        },
        {
         "name": "2",
         "rawType": "float64",
         "type": "float"
        }
       ],
       "ref": "efc60591-46dc-459a-92dc-c755110c367a",
       "rows": [
        [
         "0",
         "0.7820470183933164",
         "0.8072195513522772"
        ],
        [
         "1",
         "0.3938801014353325",
         "0.6648939142489135"
        ],
        [
         "2",
         "0.05069198116376483",
         "0.8771899741666347"
        ],
        [
         "3",
         "0.5539377492996397",
         "0.2951890619832668"
        ],
        [
         "4",
         "0.3217769006001796",
         "0.7617271157391927"
        ],
        [
         "5",
         "0.5223482251131428",
         "0.9909811457316978"
        ],
        [
         "6",
         "0.9595065919305314",
         "0.3828303064500691"
        ],
        [
         "7",
         "0.03929409971105946",
         "0.6090072999205016"
        ],
        [
         "8",
         "0.9857349032050153",
         "0.804366583452832"
        ],
        [
         "9",
         "0.20135332177212195",
         "0.5471781105714979"
        ],
        [
         "10",
         "0.27139019044077795",
         "0.6092461509313286"
        ],
        [
         "11",
         "0.1877024316720003",
         "0.2606423008570685"
        ],
        [
         "12",
         "0.29542025391633764",
         "0.9859118974667059"
        ],
        [
         "13",
         "0.9518502331727317",
         "0.727012277383883"
        ],
        [
         "14",
         "0.3967861996712888",
         "0.3544940569232333"
        ],
        [
         "15",
         "0.08880310307550454",
         "0.5404693745376238"
        ],
        [
         "16",
         "0.05284237710542217",
         "0.012201393180711118"
        ],
        [
         "17",
         "0.5024740955178767",
         "0.6327737390739004"
        ],
        [
         "18",
         "0.6054850473113454",
         "0.45747956716484905"
        ],
        [
         "19",
         "0.02370817653223478",
         "0.34728724896013785"
        ],
        [
         "20",
         "0.7200556031202756",
         "0.30440972368866825"
        ],
        [
         "21",
         "0.5891797028747482",
         "0.17766302062071526"
        ],
        [
         "22",
         "0.9534487177598739",
         "0.23509039536531529"
        ],
        [
         "23",
         "0.41816550385040474",
         "0.4868705868241713"
        ],
        [
         "24",
         "0.22750643108834068",
         "0.6678526187152185"
        ],
        [
         "25",
         "0.19859292418749785",
         "0.19981076340437132"
        ],
        [
         "26",
         "0.051688152118105735",
         "0.6262166082218926"
        ],
        [
         "27",
         "0.23066864873132997",
         "0.44022297781526043"
        ],
        [
         "28",
         "0.6962175947778495",
         "0.9098870288309022"
        ],
        [
         "29",
         "0.5318180906036054",
         "0.7640327345669153"
        ],
        [
         "30",
         "0.7307676800890814",
         "0.08881337298491432"
        ],
        [
         "31",
         "0.25511098985710756",
         "0.1950892705595525"
        ],
        [
         "32",
         "0.2978477146147749",
         "0.37280271888275607"
        ],
        [
         "33",
         "0.8301223238621807",
         "0.12084832184104699"
        ],
        [
         "34",
         "0.37186284202929343",
         "0.6913098117329952"
        ],
        [
         "35",
         "0.8102544862461544",
         "0.8936951809791494"
        ],
        [
         "36",
         "0.17701135133992096",
         "0.08103591560931256"
        ],
        [
         "37",
         "0.7236558236100522",
         "0.6638040390605885"
        ],
        [
         "38",
         "0.6821275952029692",
         "0.005724382848044107"
        ],
        [
         "39",
         "0.23362199334676736",
         "0.28954768568189515"
        ],
        [
         "40",
         "0.42857332372501433",
         "0.061996158849507266"
        ],
        [
         "41",
         "0.7128103805045082",
         "0.8572280017348901"
        ],
        [
         "42",
         "0.4449496584318262",
         "0.1918911169700498"
        ],
        [
         "43",
         "0.2942624820322093",
         "0.2709097991688584"
        ],
        [
         "44",
         "0.28788418282131345",
         "0.4799539207199589"
        ],
        [
         "45",
         "0.03061837024250358",
         "0.11111808020522485"
        ],
        [
         "46",
         "0.33446453828176503",
         "0.7531872382144452"
        ],
        [
         "47",
         "0.919359989355044",
         "0.9834233311905421"
        ],
        [
         "48",
         "0.7913127440059109",
         "0.7976852563377749"
        ],
        [
         "49",
         "0.9299419216388763",
         "0.2010201842445486"
        ]
       ],
       "shape": {
        "columns": 2,
        "rows": 334
       }
      },
      "text/html": [
       "<div>\n",
       "<style scoped>\n",
       "    .dataframe tbody tr th:only-of-type {\n",
       "        vertical-align: middle;\n",
       "    }\n",
       "\n",
       "    .dataframe tbody tr th {\n",
       "        vertical-align: top;\n",
       "    }\n",
       "\n",
       "    .dataframe thead th {\n",
       "        text-align: right;\n",
       "    }\n",
       "</style>\n",
       "<table border=\"1\" class=\"dataframe\">\n",
       "  <thead>\n",
       "    <tr style=\"text-align: right;\">\n",
       "      <th></th>\n",
       "      <th>1</th>\n",
       "      <th>2</th>\n",
       "    </tr>\n",
       "  </thead>\n",
       "  <tbody>\n",
       "    <tr>\n",
       "      <th>0</th>\n",
       "      <td>0.782047</td>\n",
       "      <td>0.807220</td>\n",
       "    </tr>\n",
       "    <tr>\n",
       "      <th>1</th>\n",
       "      <td>0.393880</td>\n",
       "      <td>0.664894</td>\n",
       "    </tr>\n",
       "    <tr>\n",
       "      <th>2</th>\n",
       "      <td>0.050692</td>\n",
       "      <td>0.877190</td>\n",
       "    </tr>\n",
       "    <tr>\n",
       "      <th>3</th>\n",
       "      <td>0.553938</td>\n",
       "      <td>0.295189</td>\n",
       "    </tr>\n",
       "    <tr>\n",
       "      <th>4</th>\n",
       "      <td>0.321777</td>\n",
       "      <td>0.761727</td>\n",
       "    </tr>\n",
       "    <tr>\n",
       "      <th>...</th>\n",
       "      <td>...</td>\n",
       "      <td>...</td>\n",
       "    </tr>\n",
       "    <tr>\n",
       "      <th>329</th>\n",
       "      <td>0.142804</td>\n",
       "      <td>0.410262</td>\n",
       "    </tr>\n",
       "    <tr>\n",
       "      <th>330</th>\n",
       "      <td>0.776962</td>\n",
       "      <td>0.189283</td>\n",
       "    </tr>\n",
       "    <tr>\n",
       "      <th>331</th>\n",
       "      <td>0.362606</td>\n",
       "      <td>0.765592</td>\n",
       "    </tr>\n",
       "    <tr>\n",
       "      <th>332</th>\n",
       "      <td>0.705051</td>\n",
       "      <td>0.165220</td>\n",
       "    </tr>\n",
       "    <tr>\n",
       "      <th>333</th>\n",
       "      <td>0.116083</td>\n",
       "      <td>0.622599</td>\n",
       "    </tr>\n",
       "  </tbody>\n",
       "</table>\n",
       "<p>334 rows × 2 columns</p>\n",
       "</div>"
      ],
      "text/plain": [
       "            1         2\n",
       "0    0.782047  0.807220\n",
       "1    0.393880  0.664894\n",
       "2    0.050692  0.877190\n",
       "3    0.553938  0.295189\n",
       "4    0.321777  0.761727\n",
       "..        ...       ...\n",
       "329  0.142804  0.410262\n",
       "330  0.776962  0.189283\n",
       "331  0.362606  0.765592\n",
       "332  0.705051  0.165220\n",
       "333  0.116083  0.622599\n",
       "\n",
       "[334 rows x 2 columns]"
      ]
     },
     "execution_count": 32,
     "metadata": {},
     "output_type": "execute_result"
    }
   ],
   "source": [
    "newdata.loc[:,[1,2]]       # : gives all rows or columns indexes"
   ]
  },
  {
   "cell_type": "markdown",
   "id": "0b4faa74",
   "metadata": {},
   "source": [
    "### Complex Queries "
   ]
  },
  {
   "cell_type": "code",
   "execution_count": 33,
   "id": "9472c148",
   "metadata": {},
   "outputs": [
    {
     "data": {
      "application/vnd.microsoft.datawrangler.viewer.v0+json": {
       "columns": [
        {
         "name": "index",
         "rawType": "int64",
         "type": "integer"
        },
        {
         "name": "0",
         "rawType": "float64",
         "type": "float"
        },
        {
         "name": "1",
         "rawType": "float64",
         "type": "float"
        },
        {
         "name": "2",
         "rawType": "float64",
         "type": "float"
        },
        {
         "name": "3",
         "rawType": "float64",
         "type": "float"
        },
        {
         "name": "4",
         "rawType": "float64",
         "type": "float"
        }
       ],
       "ref": "e5336cad-0604-4743-80c7-27106aa3178b",
       "rows": [
        [
         "0",
         "654.0",
         "0.7820470183933164",
         "0.8072195513522772",
         "0.5400593847186567",
         "0.4960023539231663"
        ],
        [
         "4",
         "0.36329412438272635",
         "0.3217769006001796",
         "0.7617271157391927",
         "0.863740737736931",
         "0.45821515045403727"
        ],
        [
         "8",
         "0.34712446196107816",
         "0.9857349032050153",
         "0.804366583452832",
         "0.9620003414447467",
         "0.7872568967599851"
        ],
        [
         "10",
         "0.5564524927199489",
         "0.27139019044077795",
         "0.6092461509313286",
         "0.601969529536452",
         "0.7418853679414473"
        ],
        [
         "11",
         "0.7813245069388608",
         "0.1877024316720003",
         "0.2606423008570685",
         "0.28572097401604557",
         "0.5470841657801083"
        ],
        [
         "12",
         "0.6511460641353879",
         "0.29542025391633764",
         "0.9859118974667059",
         "0.08756791183826629",
         "0.631521267863985"
        ],
        [
         "13",
         "0.5083532361841969",
         "0.9518502331727317",
         "0.727012277383883",
         "0.3805611567081033",
         "0.39401446543404894"
        ],
        [
         "14",
         "0.550656659113418",
         "0.3967861996712888",
         "0.3544940569232333",
         "0.8160690714382771",
         "0.95092106223635"
        ],
        [
         "17",
         "0.9655617893542339",
         "0.5024740955178767",
         "0.6327737390739004",
         "0.04018164884900821",
         "0.5152583398400625"
        ],
        [
         "20",
         "0.9963990467051018",
         "0.7200556031202756",
         "0.30440972368866825",
         "0.5447969422715797",
         "0.3644216589742817"
        ],
        [
         "21",
         "0.6607824128147656",
         "0.5891797028747482",
         "0.17766302062071526",
         "0.41821689152050445",
         "0.6729636607258146"
        ],
        [
         "24",
         "0.44334212250157845",
         "0.22750643108834068",
         "0.6678526187152185",
         "0.10171342913665804",
         "0.6543123213018873"
        ],
        [
         "25",
         "0.4172194020480605",
         "0.19859292418749785",
         "0.19981076340437132",
         "0.29741982114513266",
         "0.8353509108963367"
        ],
        [
         "27",
         "0.6805510223374869",
         "0.23066864873132997",
         "0.44022297781526043",
         "0.33903680613404075",
         "0.567349392237221"
        ],
        [
         "30",
         "0.9809034000251917",
         "0.7307676800890814",
         "0.08881337298491432",
         "0.5394276638279468",
         "0.00028213890264428"
        ],
        [
         "31",
         "0.4658209197497528",
         "0.25511098985710756",
         "0.1950892705595525",
         "0.570152408498191",
         "0.7064759560285662"
        ],
        [
         "33",
         "0.8317047055936369",
         "0.8301223238621807",
         "0.12084832184104699",
         "0.7716199314108453",
         "0.07287506585367653"
        ],
        [
         "34",
         "0.9370821429253035",
         "0.37186284202929343",
         "0.6913098117329952",
         "0.5980511273880509",
         "0.26630793597277613"
        ],
        [
         "36",
         "0.9886930832423653",
         "0.17701135133992096",
         "0.08103591560931256",
         "0.7983358607963988",
         "0.7601965878722285"
        ],
        [
         "37",
         "0.8405670310523434",
         "0.7236558236100522",
         "0.6638040390605885",
         "0.166965538713729",
         "0.5618552706263762"
        ],
        [
         "38",
         "0.5049054485858552",
         "0.6821275952029692",
         "0.005724382848044107",
         "0.861905809140322",
         "0.1574651697886006"
        ],
        [
         "40",
         "0.721892081717362",
         "0.42857332372501433",
         "0.061996158849507266",
         "0.6566664680130615",
         "0.6717234330943621"
        ],
        [
         "41",
         "0.44788074116275267",
         "0.7128103805045082",
         "0.8572280017348901",
         "0.44265886923013664",
         "0.7475371719733575"
        ],
        [
         "43",
         "0.7312990366028819",
         "0.2942624820322093",
         "0.2709097991688584",
         "0.1969160084851237",
         "0.7631483356290131"
        ],
        [
         "44",
         "0.6287176184585517",
         "0.28788418282131345",
         "0.4799539207199589",
         "0.7159578452700981",
         "0.27635753791539086"
        ],
        [
         "46",
         "0.7855380185873424",
         "0.33446453828176503",
         "0.7531872382144452",
         "0.47900816166965776",
         "0.5426445660848"
        ],
        [
         "48",
         "0.5921525470168674",
         "0.7913127440059109",
         "0.7976852563377749",
         "0.3684820954844521",
         "0.3238621414549605"
        ],
        [
         "50",
         "0.8343201836693434",
         "0.26054126956131785",
         "0.993500752707919",
         "0.8042334758034678",
         "0.07694439395434682"
        ],
        [
         "52",
         "0.6976698355496068",
         "0.47364169026862835",
         "0.29129269047450157",
         "0.8576213062623801",
         "0.8355294892198554"
        ],
        [
         "54",
         "0.51270493279539",
         "0.42968670679157994",
         "0.147328115132207",
         "0.24365560523612706",
         "0.3266881737252628"
        ],
        [
         "55",
         "0.8209955550844126",
         "0.4760707820402219",
         "0.46881625320235687",
         "0.665045584479438",
         "0.37506784006955385"
        ],
        [
         "56",
         "0.6694731974093524",
         "0.7733942973392516",
         "0.7226695136651708",
         "0.8594659485979209",
         "0.060227848025495856"
        ],
        [
         "57",
         "0.7906584742806672",
         "0.6957223878592163",
         "0.3158891333426589",
         "0.8505920700060031",
         "0.9738504771632133"
        ],
        [
         "59",
         "0.44339851949135334",
         "0.8913113373462676",
         "0.8955503391771803",
         "0.07068804700137687",
         "0.7873277026124804"
        ],
        [
         "60",
         "0.8355717886604515",
         "0.45716708811219053",
         "0.20508018323019594",
         "0.46288540529935096",
         "0.8404636422600869"
        ],
        [
         "61",
         "0.5857645712771976",
         "0.3377263486174241",
         "0.2666124927703286",
         "0.9354244972874236",
         "0.6753766058095283"
        ],
        [
         "62",
         "0.8068123166503944",
         "0.8846208539853985",
         "0.7327179186317995",
         "0.49058769552883297",
         "0.8657932314047782"
        ],
        [
         "68",
         "0.4001368178863618",
         "0.6509238344327122",
         "0.4682836700482734",
         "0.46580076996443887",
         "0.19323290938809823"
        ],
        [
         "69",
         "0.9978310520038093",
         "0.2676635469400481",
         "0.727713653045511",
         "0.5275387145812768",
         "0.30387765395760347"
        ],
        [
         "71",
         "0.5554236824479255",
         "0.34444767656835384",
         "0.3878409157230548",
         "0.1652060853656061",
         "0.2727818034607489"
        ],
        [
         "75",
         "0.5799536022434066",
         "0.4595083604999064",
         "0.37895717088274616",
         "0.1456852708958598",
         "0.8530516267988729"
        ],
        [
         "76",
         "0.42070550432032683",
         "0.536498613114308",
         "0.16142635832577623",
         "0.5184208805309284",
         "0.5311645521050483"
        ],
        [
         "79",
         "0.7211730063251702",
         "0.48996770180620486",
         "0.5743158366005726",
         "0.05743673333740573",
         "0.19676272860036592"
        ],
        [
         "80",
         "0.7707055342542429",
         "0.29967279758101206",
         "0.19130979618572908",
         "0.09806130552828984",
         "0.0270842059670523"
        ],
        [
         "81",
         "0.6367707700949548",
         "0.8047137378700328",
         "0.38347009486192263",
         "0.4292811564247433",
         "0.012376010114330538"
        ],
        [
         "82",
         "0.9346697042838835",
         "0.7975359941317537",
         "0.19135523417293665",
         "0.5100621010223161",
         "0.6871522337911982"
        ],
        [
         "83",
         "0.42827617607381574",
         "0.7148610525672949",
         "0.6776940266496023",
         "0.0774135921664626",
         "0.2945029367277192"
        ],
        [
         "84",
         "0.8734446042304385",
         "0.6113116394973573",
         "0.785545704201828",
         "0.4545900495709969",
         "0.2666291067409111"
        ],
        [
         "85",
         "0.7755561638912172",
         "0.684644604853352",
         "0.14644989890086002",
         "0.4303934440997297",
         "0.7349122994004179"
        ],
        [
         "86",
         "0.6553747235151036",
         "0.6410863278230685",
         "0.6729438322189939",
         "0.7369075345809896",
         "0.11259370302900129"
        ]
       ],
       "shape": {
        "columns": 5,
        "rows": 204
       }
      },
      "text/html": [
       "<div>\n",
       "<style scoped>\n",
       "    .dataframe tbody tr th:only-of-type {\n",
       "        vertical-align: middle;\n",
       "    }\n",
       "\n",
       "    .dataframe tbody tr th {\n",
       "        vertical-align: top;\n",
       "    }\n",
       "\n",
       "    .dataframe thead th {\n",
       "        text-align: right;\n",
       "    }\n",
       "</style>\n",
       "<table border=\"1\" class=\"dataframe\">\n",
       "  <thead>\n",
       "    <tr style=\"text-align: right;\">\n",
       "      <th></th>\n",
       "      <th>0</th>\n",
       "      <th>1</th>\n",
       "      <th>2</th>\n",
       "      <th>3</th>\n",
       "      <th>4</th>\n",
       "    </tr>\n",
       "  </thead>\n",
       "  <tbody>\n",
       "    <tr>\n",
       "      <th>0</th>\n",
       "      <td>654.000000</td>\n",
       "      <td>0.782047</td>\n",
       "      <td>0.807220</td>\n",
       "      <td>0.540059</td>\n",
       "      <td>0.496002</td>\n",
       "    </tr>\n",
       "    <tr>\n",
       "      <th>4</th>\n",
       "      <td>0.363294</td>\n",
       "      <td>0.321777</td>\n",
       "      <td>0.761727</td>\n",
       "      <td>0.863741</td>\n",
       "      <td>0.458215</td>\n",
       "    </tr>\n",
       "    <tr>\n",
       "      <th>8</th>\n",
       "      <td>0.347124</td>\n",
       "      <td>0.985735</td>\n",
       "      <td>0.804367</td>\n",
       "      <td>0.962000</td>\n",
       "      <td>0.787257</td>\n",
       "    </tr>\n",
       "    <tr>\n",
       "      <th>10</th>\n",
       "      <td>0.556452</td>\n",
       "      <td>0.271390</td>\n",
       "      <td>0.609246</td>\n",
       "      <td>0.601970</td>\n",
       "      <td>0.741885</td>\n",
       "    </tr>\n",
       "    <tr>\n",
       "      <th>11</th>\n",
       "      <td>0.781325</td>\n",
       "      <td>0.187702</td>\n",
       "      <td>0.260642</td>\n",
       "      <td>0.285721</td>\n",
       "      <td>0.547084</td>\n",
       "    </tr>\n",
       "    <tr>\n",
       "      <th>...</th>\n",
       "      <td>...</td>\n",
       "      <td>...</td>\n",
       "      <td>...</td>\n",
       "      <td>...</td>\n",
       "      <td>...</td>\n",
       "    </tr>\n",
       "    <tr>\n",
       "      <th>323</th>\n",
       "      <td>0.915227</td>\n",
       "      <td>0.738310</td>\n",
       "      <td>0.638744</td>\n",
       "      <td>0.119567</td>\n",
       "      <td>0.861014</td>\n",
       "    </tr>\n",
       "    <tr>\n",
       "      <th>326</th>\n",
       "      <td>0.972960</td>\n",
       "      <td>0.409661</td>\n",
       "      <td>0.122955</td>\n",
       "      <td>0.754469</td>\n",
       "      <td>0.941278</td>\n",
       "    </tr>\n",
       "    <tr>\n",
       "      <th>329</th>\n",
       "      <td>0.369479</td>\n",
       "      <td>0.142804</td>\n",
       "      <td>0.410262</td>\n",
       "      <td>0.920999</td>\n",
       "      <td>0.638077</td>\n",
       "    </tr>\n",
       "    <tr>\n",
       "      <th>330</th>\n",
       "      <td>0.880545</td>\n",
       "      <td>0.776962</td>\n",
       "      <td>0.189283</td>\n",
       "      <td>0.895761</td>\n",
       "      <td>0.838165</td>\n",
       "    </tr>\n",
       "    <tr>\n",
       "      <th>332</th>\n",
       "      <td>0.876844</td>\n",
       "      <td>0.705051</td>\n",
       "      <td>0.165220</td>\n",
       "      <td>0.559765</td>\n",
       "      <td>0.518000</td>\n",
       "    </tr>\n",
       "  </tbody>\n",
       "</table>\n",
       "<p>204 rows × 5 columns</p>\n",
       "</div>"
      ],
      "text/plain": [
       "              0         1         2         3         4\n",
       "0    654.000000  0.782047  0.807220  0.540059  0.496002\n",
       "4      0.363294  0.321777  0.761727  0.863741  0.458215\n",
       "8      0.347124  0.985735  0.804367  0.962000  0.787257\n",
       "10     0.556452  0.271390  0.609246  0.601970  0.741885\n",
       "11     0.781325  0.187702  0.260642  0.285721  0.547084\n",
       "..          ...       ...       ...       ...       ...\n",
       "323    0.915227  0.738310  0.638744  0.119567  0.861014\n",
       "326    0.972960  0.409661  0.122955  0.754469  0.941278\n",
       "329    0.369479  0.142804  0.410262  0.920999  0.638077\n",
       "330    0.880545  0.776962  0.189283  0.895761  0.838165\n",
       "332    0.876844  0.705051  0.165220  0.559765  0.518000\n",
       "\n",
       "[204 rows x 5 columns]"
      ]
     },
     "execution_count": 33,
     "metadata": {},
     "output_type": "execute_result"
    }
   ],
   "source": [
    "newdata.loc[(newdata[0]>0.3) & (newdata[1]>0.1)]"
   ]
  },
  {
   "cell_type": "code",
   "execution_count": 34,
   "id": "0547efc7",
   "metadata": {},
   "outputs": [
    {
     "data": {
      "application/vnd.microsoft.datawrangler.viewer.v0+json": {
       "columns": [
        {
         "name": "index",
         "rawType": "int64",
         "type": "integer"
        },
        {
         "name": "0",
         "rawType": "float64",
         "type": "float"
        },
        {
         "name": "1",
         "rawType": "float64",
         "type": "float"
        },
        {
         "name": "2",
         "rawType": "float64",
         "type": "float"
        },
        {
         "name": "3",
         "rawType": "float64",
         "type": "float"
        },
        {
         "name": "4",
         "rawType": "float64",
         "type": "float"
        }
       ],
       "ref": "1a1942da-05e3-4a4c-8454-fca0dd865cf2",
       "rows": [
        [
         "0",
         "654.0",
         "0.7820470183933164",
         "0.8072195513522772",
         "0.5400593847186567",
         "0.4960023539231663"
        ],
        [
         "1",
         "0.12843009056672772",
         "0.3938801014353325",
         "0.6648939142489135",
         "0.8175864898685784",
         "0.956752059379283"
        ]
       ],
       "shape": {
        "columns": 5,
        "rows": 2
       }
      },
      "text/html": [
       "<div>\n",
       "<style scoped>\n",
       "    .dataframe tbody tr th:only-of-type {\n",
       "        vertical-align: middle;\n",
       "    }\n",
       "\n",
       "    .dataframe tbody tr th {\n",
       "        vertical-align: top;\n",
       "    }\n",
       "\n",
       "    .dataframe thead th {\n",
       "        text-align: right;\n",
       "    }\n",
       "</style>\n",
       "<table border=\"1\" class=\"dataframe\">\n",
       "  <thead>\n",
       "    <tr style=\"text-align: right;\">\n",
       "      <th></th>\n",
       "      <th>0</th>\n",
       "      <th>1</th>\n",
       "      <th>2</th>\n",
       "      <th>3</th>\n",
       "      <th>4</th>\n",
       "    </tr>\n",
       "  </thead>\n",
       "  <tbody>\n",
       "    <tr>\n",
       "      <th>0</th>\n",
       "      <td>654.00000</td>\n",
       "      <td>0.782047</td>\n",
       "      <td>0.807220</td>\n",
       "      <td>0.540059</td>\n",
       "      <td>0.496002</td>\n",
       "    </tr>\n",
       "    <tr>\n",
       "      <th>1</th>\n",
       "      <td>0.12843</td>\n",
       "      <td>0.393880</td>\n",
       "      <td>0.664894</td>\n",
       "      <td>0.817586</td>\n",
       "      <td>0.956752</td>\n",
       "    </tr>\n",
       "  </tbody>\n",
       "</table>\n",
       "</div>"
      ],
      "text/plain": [
       "           0         1         2         3         4\n",
       "0  654.00000  0.782047  0.807220  0.540059  0.496002\n",
       "1    0.12843  0.393880  0.664894  0.817586  0.956752"
      ]
     },
     "execution_count": 34,
     "metadata": {},
     "output_type": "execute_result"
    }
   ],
   "source": [
    "newdata.head(2)"
   ]
  },
  {
   "cell_type": "code",
   "execution_count": 35,
   "id": "2e1f73f9",
   "metadata": {},
   "outputs": [
    {
     "data": {
      "text/plain": [
       "np.float64(0.4960023539231663)"
      ]
     },
     "execution_count": 35,
     "metadata": {},
     "output_type": "execute_result"
    }
   ],
   "source": [
    "newdata.iloc[0,4]"
   ]
  },
  {
   "cell_type": "code",
   "execution_count": 43,
   "id": "4bf4b4b1",
   "metadata": {},
   "outputs": [
    {
     "ename": "KeyError",
     "evalue": "'[1] not found in axis'",
     "output_type": "error",
     "traceback": [
      "\u001b[31m---------------------------------------------------------------------------\u001b[39m",
      "\u001b[31mKeyError\u001b[39m                                  Traceback (most recent call last)",
      "\u001b[36mCell\u001b[39m\u001b[36m \u001b[39m\u001b[32mIn[43]\u001b[39m\u001b[32m, line 1\u001b[39m\n\u001b[32m----> \u001b[39m\u001b[32m1\u001b[39m \u001b[43mnewdata\u001b[49m\u001b[43m.\u001b[49m\u001b[43mdrop\u001b[49m\u001b[43m(\u001b[49m\u001b[43m[\u001b[49m\u001b[32;43m1\u001b[39;49m\u001b[43m]\u001b[49m\u001b[43m,\u001b[49m\u001b[43maxis\u001b[49m\u001b[43m=\u001b[49m\u001b[32;43m1\u001b[39;49m\u001b[43m,\u001b[49m\u001b[43minplace\u001b[49m\u001b[43m=\u001b[49m\u001b[38;5;28;43;01mTrue\u001b[39;49;00m\u001b[43m)\u001b[49m\n",
      "\u001b[36mFile \u001b[39m\u001b[32mc:\\Users\\Gagan\\AppData\\Local\\Programs\\Python\\Python313\\Lib\\site-packages\\pandas\\core\\frame.py:5588\u001b[39m, in \u001b[36mDataFrame.drop\u001b[39m\u001b[34m(self, labels, axis, index, columns, level, inplace, errors)\u001b[39m\n\u001b[32m   5440\u001b[39m \u001b[38;5;28;01mdef\u001b[39;00m\u001b[38;5;250m \u001b[39m\u001b[34mdrop\u001b[39m(\n\u001b[32m   5441\u001b[39m     \u001b[38;5;28mself\u001b[39m,\n\u001b[32m   5442\u001b[39m     labels: IndexLabel | \u001b[38;5;28;01mNone\u001b[39;00m = \u001b[38;5;28;01mNone\u001b[39;00m,\n\u001b[32m   (...)\u001b[39m\u001b[32m   5449\u001b[39m     errors: IgnoreRaise = \u001b[33m\"\u001b[39m\u001b[33mraise\u001b[39m\u001b[33m\"\u001b[39m,\n\u001b[32m   5450\u001b[39m ) -> DataFrame | \u001b[38;5;28;01mNone\u001b[39;00m:\n\u001b[32m   5451\u001b[39m \u001b[38;5;250m    \u001b[39m\u001b[33;03m\"\"\"\u001b[39;00m\n\u001b[32m   5452\u001b[39m \u001b[33;03m    Drop specified labels from rows or columns.\u001b[39;00m\n\u001b[32m   5453\u001b[39m \n\u001b[32m   (...)\u001b[39m\u001b[32m   5586\u001b[39m \u001b[33;03m            weight  1.0     0.8\u001b[39;00m\n\u001b[32m   5587\u001b[39m \u001b[33;03m    \"\"\"\u001b[39;00m\n\u001b[32m-> \u001b[39m\u001b[32m5588\u001b[39m     \u001b[38;5;28;01mreturn\u001b[39;00m \u001b[38;5;28;43msuper\u001b[39;49m\u001b[43m(\u001b[49m\u001b[43m)\u001b[49m\u001b[43m.\u001b[49m\u001b[43mdrop\u001b[49m\u001b[43m(\u001b[49m\n\u001b[32m   5589\u001b[39m \u001b[43m        \u001b[49m\u001b[43mlabels\u001b[49m\u001b[43m=\u001b[49m\u001b[43mlabels\u001b[49m\u001b[43m,\u001b[49m\n\u001b[32m   5590\u001b[39m \u001b[43m        \u001b[49m\u001b[43maxis\u001b[49m\u001b[43m=\u001b[49m\u001b[43maxis\u001b[49m\u001b[43m,\u001b[49m\n\u001b[32m   5591\u001b[39m \u001b[43m        \u001b[49m\u001b[43mindex\u001b[49m\u001b[43m=\u001b[49m\u001b[43mindex\u001b[49m\u001b[43m,\u001b[49m\n\u001b[32m   5592\u001b[39m \u001b[43m        \u001b[49m\u001b[43mcolumns\u001b[49m\u001b[43m=\u001b[49m\u001b[43mcolumns\u001b[49m\u001b[43m,\u001b[49m\n\u001b[32m   5593\u001b[39m \u001b[43m        \u001b[49m\u001b[43mlevel\u001b[49m\u001b[43m=\u001b[49m\u001b[43mlevel\u001b[49m\u001b[43m,\u001b[49m\n\u001b[32m   5594\u001b[39m \u001b[43m        \u001b[49m\u001b[43minplace\u001b[49m\u001b[43m=\u001b[49m\u001b[43minplace\u001b[49m\u001b[43m,\u001b[49m\n\u001b[32m   5595\u001b[39m \u001b[43m        \u001b[49m\u001b[43merrors\u001b[49m\u001b[43m=\u001b[49m\u001b[43merrors\u001b[49m\u001b[43m,\u001b[49m\n\u001b[32m   5596\u001b[39m \u001b[43m    \u001b[49m\u001b[43m)\u001b[49m\n",
      "\u001b[36mFile \u001b[39m\u001b[32mc:\\Users\\Gagan\\AppData\\Local\\Programs\\Python\\Python313\\Lib\\site-packages\\pandas\\core\\generic.py:4807\u001b[39m, in \u001b[36mNDFrame.drop\u001b[39m\u001b[34m(self, labels, axis, index, columns, level, inplace, errors)\u001b[39m\n\u001b[32m   4805\u001b[39m \u001b[38;5;28;01mfor\u001b[39;00m axis, labels \u001b[38;5;129;01min\u001b[39;00m axes.items():\n\u001b[32m   4806\u001b[39m     \u001b[38;5;28;01mif\u001b[39;00m labels \u001b[38;5;129;01mis\u001b[39;00m \u001b[38;5;129;01mnot\u001b[39;00m \u001b[38;5;28;01mNone\u001b[39;00m:\n\u001b[32m-> \u001b[39m\u001b[32m4807\u001b[39m         obj = \u001b[43mobj\u001b[49m\u001b[43m.\u001b[49m\u001b[43m_drop_axis\u001b[49m\u001b[43m(\u001b[49m\u001b[43mlabels\u001b[49m\u001b[43m,\u001b[49m\u001b[43m \u001b[49m\u001b[43maxis\u001b[49m\u001b[43m,\u001b[49m\u001b[43m \u001b[49m\u001b[43mlevel\u001b[49m\u001b[43m=\u001b[49m\u001b[43mlevel\u001b[49m\u001b[43m,\u001b[49m\u001b[43m \u001b[49m\u001b[43merrors\u001b[49m\u001b[43m=\u001b[49m\u001b[43merrors\u001b[49m\u001b[43m)\u001b[49m\n\u001b[32m   4809\u001b[39m \u001b[38;5;28;01mif\u001b[39;00m inplace:\n\u001b[32m   4810\u001b[39m     \u001b[38;5;28mself\u001b[39m._update_inplace(obj)\n",
      "\u001b[36mFile \u001b[39m\u001b[32mc:\\Users\\Gagan\\AppData\\Local\\Programs\\Python\\Python313\\Lib\\site-packages\\pandas\\core\\generic.py:4849\u001b[39m, in \u001b[36mNDFrame._drop_axis\u001b[39m\u001b[34m(self, labels, axis, level, errors, only_slice)\u001b[39m\n\u001b[32m   4847\u001b[39m         new_axis = axis.drop(labels, level=level, errors=errors)\n\u001b[32m   4848\u001b[39m     \u001b[38;5;28;01melse\u001b[39;00m:\n\u001b[32m-> \u001b[39m\u001b[32m4849\u001b[39m         new_axis = \u001b[43maxis\u001b[49m\u001b[43m.\u001b[49m\u001b[43mdrop\u001b[49m\u001b[43m(\u001b[49m\u001b[43mlabels\u001b[49m\u001b[43m,\u001b[49m\u001b[43m \u001b[49m\u001b[43merrors\u001b[49m\u001b[43m=\u001b[49m\u001b[43merrors\u001b[49m\u001b[43m)\u001b[49m\n\u001b[32m   4850\u001b[39m     indexer = axis.get_indexer(new_axis)\n\u001b[32m   4852\u001b[39m \u001b[38;5;66;03m# Case for non-unique axis\u001b[39;00m\n\u001b[32m   4853\u001b[39m \u001b[38;5;28;01melse\u001b[39;00m:\n",
      "\u001b[36mFile \u001b[39m\u001b[32mc:\\Users\\Gagan\\AppData\\Local\\Programs\\Python\\Python313\\Lib\\site-packages\\pandas\\core\\indexes\\base.py:7136\u001b[39m, in \u001b[36mIndex.drop\u001b[39m\u001b[34m(self, labels, errors)\u001b[39m\n\u001b[32m   7134\u001b[39m \u001b[38;5;28;01mif\u001b[39;00m mask.any():\n\u001b[32m   7135\u001b[39m     \u001b[38;5;28;01mif\u001b[39;00m errors != \u001b[33m\"\u001b[39m\u001b[33mignore\u001b[39m\u001b[33m\"\u001b[39m:\n\u001b[32m-> \u001b[39m\u001b[32m7136\u001b[39m         \u001b[38;5;28;01mraise\u001b[39;00m \u001b[38;5;167;01mKeyError\u001b[39;00m(\u001b[33mf\u001b[39m\u001b[33m\"\u001b[39m\u001b[38;5;132;01m{\u001b[39;00mlabels[mask].tolist()\u001b[38;5;132;01m}\u001b[39;00m\u001b[33m not found in axis\u001b[39m\u001b[33m\"\u001b[39m)\n\u001b[32m   7137\u001b[39m     indexer = indexer[~mask]\n\u001b[32m   7138\u001b[39m \u001b[38;5;28;01mreturn\u001b[39;00m \u001b[38;5;28mself\u001b[39m.delete(indexer)\n",
      "\u001b[31mKeyError\u001b[39m: '[1] not found in axis'"
     ]
    }
   ],
   "source": [
    "newdata.drop([1],axis=1,inplace=True)"
   ]
  },
  {
   "cell_type": "code",
   "execution_count": 40,
   "id": "7b57a6c0",
   "metadata": {},
   "outputs": [
    {
     "data": {
      "application/vnd.microsoft.datawrangler.viewer.v0+json": {
       "columns": [
        {
         "name": "index",
         "rawType": "int64",
         "type": "integer"
        },
        {
         "name": "0",
         "rawType": "float64",
         "type": "float"
        },
        {
         "name": "2",
         "rawType": "float64",
         "type": "float"
        },
        {
         "name": "3",
         "rawType": "float64",
         "type": "float"
        },
        {
         "name": "4",
         "rawType": "float64",
         "type": "float"
        }
       ],
       "ref": "a44f662c-9e73-4a2f-8bd2-6223af8e2ce7",
       "rows": [
        [
         "0",
         "654.0",
         "0.8072195513522772",
         "0.5400593847186567",
         "0.4960023539231663"
        ],
        [
         "1",
         "0.12843009056672772",
         "0.6648939142489135",
         "0.8175864898685784",
         "0.956752059379283"
        ],
        [
         "2",
         "0.9765135353169572",
         "0.8771899741666347",
         "0.5518321583044961",
         "0.983283712600777"
        ],
        [
         "3",
         "0.22870451186071872",
         "0.2951890619832668",
         "0.948355547777948",
         "0.9367900232699302"
        ],
        [
         "4",
         "0.36329412438272635",
         "0.7617271157391927",
         "0.863740737736931",
         "0.45821515045403727"
        ],
        [
         "5",
         "0.2110570668443309",
         "0.9909811457316978",
         "0.817474688125708",
         "0.5692917171863149"
        ],
        [
         "6",
         "0.05638398204460515",
         "0.3828303064500691",
         "0.23968158078618773",
         "0.7715077259761411"
        ],
        [
         "7",
         "0.39515456223427015",
         "0.6090072999205016",
         "0.527822125069944",
         "0.5124395319973334"
        ],
        [
         "8",
         "0.34712446196107816",
         "0.804366583452832",
         "0.9620003414447467",
         "0.7872568967599851"
        ],
        [
         "9",
         "0.09847508511277159",
         "0.5471781105714979",
         "0.5931965871593752",
         "0.9580184381398644"
        ],
        [
         "10",
         "0.5564524927199489",
         "0.6092461509313286",
         "0.601969529536452",
         "0.7418853679414473"
        ],
        [
         "11",
         "0.7813245069388608",
         "0.2606423008570685",
         "0.28572097401604557",
         "0.5470841657801083"
        ],
        [
         "12",
         "0.6511460641353879",
         "0.9859118974667059",
         "0.08756791183826629",
         "0.631521267863985"
        ],
        [
         "13",
         "0.5083532361841969",
         "0.727012277383883",
         "0.3805611567081033",
         "0.39401446543404894"
        ],
        [
         "14",
         "0.550656659113418",
         "0.3544940569232333",
         "0.8160690714382771",
         "0.95092106223635"
        ],
        [
         "15",
         "0.5062519451554339",
         "0.5404693745376238",
         "0.808892482739703",
         "0.41964165486627625"
        ],
        [
         "16",
         "0.627866633340235",
         "0.012201393180711118",
         "0.3016938660106677",
         "0.036724601421641134"
        ],
        [
         "17",
         "0.9655617893542339",
         "0.6327737390739004",
         "0.04018164884900821",
         "0.5152583398400625"
        ],
        [
         "18",
         "0.20213842866842135",
         "0.45747956716484905",
         "0.7497844542768779",
         "0.700061725020855"
        ],
        [
         "19",
         "0.6466360165389936",
         "0.34728724896013785",
         "0.15996542048675477",
         "0.4904094767866314"
        ],
        [
         "20",
         "0.9963990467051018",
         "0.30440972368866825",
         "0.5447969422715797",
         "0.3644216589742817"
        ],
        [
         "21",
         "0.6607824128147656",
         "0.17766302062071526",
         "0.41821689152050445",
         "0.6729636607258146"
        ],
        [
         "22",
         "0.16288801116861196",
         "0.23509039536531529",
         "0.06704668202422692",
         "0.9632882027073434"
        ],
        [
         "23",
         "0.17379855218660079",
         "0.4868705868241713",
         "0.9508167895567623",
         "0.6365873626317602"
        ],
        [
         "24",
         "0.44334212250157845",
         "0.6678526187152185",
         "0.10171342913665804",
         "0.6543123213018873"
        ],
        [
         "25",
         "0.4172194020480605",
         "0.19981076340437132",
         "0.29741982114513266",
         "0.8353509108963367"
        ],
        [
         "26",
         "0.531259033959184",
         "0.6262166082218926",
         "0.16530225765651385",
         "0.5136968081229516"
        ],
        [
         "27",
         "0.6805510223374869",
         "0.44022297781526043",
         "0.33903680613404075",
         "0.567349392237221"
        ],
        [
         "28",
         "0.2503620225487033",
         "0.9098870288309022",
         "0.9943970799498738",
         "0.41653344859474306"
        ],
        [
         "29",
         "0.16860669521076255",
         "0.7640327345669153",
         "0.49416183261753976",
         "0.03587601314648914"
        ],
        [
         "30",
         "0.9809034000251917",
         "0.08881337298491432",
         "0.5394276638279468",
         "0.00028213890264428"
        ],
        [
         "31",
         "0.4658209197497528",
         "0.1950892705595525",
         "0.570152408498191",
         "0.7064759560285662"
        ],
        [
         "32",
         "0.2736313150181947",
         "0.37280271888275607",
         "0.2768389694591009",
         "0.7131124366144409"
        ],
        [
         "33",
         "0.8317047055936369",
         "0.12084832184104699",
         "0.7716199314108453",
         "0.07287506585367653"
        ],
        [
         "34",
         "0.9370821429253035",
         "0.6913098117329952",
         "0.5980511273880509",
         "0.26630793597277613"
        ],
        [
         "35",
         "0.06656202909211861",
         "0.8936951809791494",
         "0.03277811906616068",
         "0.8240020335477364"
        ],
        [
         "36",
         "0.9886930832423653",
         "0.08103591560931256",
         "0.7983358607963988",
         "0.7601965878722285"
        ],
        [
         "37",
         "0.8405670310523434",
         "0.6638040390605885",
         "0.166965538713729",
         "0.5618552706263762"
        ],
        [
         "38",
         "0.5049054485858552",
         "0.005724382848044107",
         "0.861905809140322",
         "0.1574651697886006"
        ],
        [
         "39",
         "0.13552441385594582",
         "0.28954768568189515",
         "0.18310795340430397",
         "0.8626517033812812"
        ],
        [
         "40",
         "0.721892081717362",
         "0.061996158849507266",
         "0.6566664680130615",
         "0.6717234330943621"
        ],
        [
         "41",
         "0.44788074116275267",
         "0.8572280017348901",
         "0.44265886923013664",
         "0.7475371719733575"
        ],
        [
         "42",
         "0.12851734442723495",
         "0.1918911169700498",
         "0.53146526293249",
         "0.8365288781604451"
        ],
        [
         "43",
         "0.7312990366028819",
         "0.2709097991688584",
         "0.1969160084851237",
         "0.7631483356290131"
        ],
        [
         "44",
         "0.6287176184585517",
         "0.4799539207199589",
         "0.7159578452700981",
         "0.27635753791539086"
        ],
        [
         "45",
         "0.03594363478815188",
         "0.11111808020522485",
         "0.9902560385208359",
         "0.004127036854617794"
        ],
        [
         "46",
         "0.7855380185873424",
         "0.7531872382144452",
         "0.47900816166965776",
         "0.5426445660848"
        ],
        [
         "47",
         "0.22248439178773516",
         "0.9834233311905421",
         "0.08037112838092153",
         "0.0983203322383609"
        ],
        [
         "48",
         "0.5921525470168674",
         "0.7976852563377749",
         "0.3684820954844521",
         "0.3238621414549605"
        ],
        [
         "49",
         "0.02184396774705999",
         "0.2010201842445486",
         "0.37234604838933505",
         "0.32492782755252114"
        ]
       ],
       "shape": {
        "columns": 4,
        "rows": 334
       }
      },
      "text/html": [
       "<div>\n",
       "<style scoped>\n",
       "    .dataframe tbody tr th:only-of-type {\n",
       "        vertical-align: middle;\n",
       "    }\n",
       "\n",
       "    .dataframe tbody tr th {\n",
       "        vertical-align: top;\n",
       "    }\n",
       "\n",
       "    .dataframe thead th {\n",
       "        text-align: right;\n",
       "    }\n",
       "</style>\n",
       "<table border=\"1\" class=\"dataframe\">\n",
       "  <thead>\n",
       "    <tr style=\"text-align: right;\">\n",
       "      <th></th>\n",
       "      <th>0</th>\n",
       "      <th>2</th>\n",
       "      <th>3</th>\n",
       "      <th>4</th>\n",
       "    </tr>\n",
       "  </thead>\n",
       "  <tbody>\n",
       "    <tr>\n",
       "      <th>0</th>\n",
       "      <td>654.000000</td>\n",
       "      <td>0.807220</td>\n",
       "      <td>0.540059</td>\n",
       "      <td>0.496002</td>\n",
       "    </tr>\n",
       "    <tr>\n",
       "      <th>1</th>\n",
       "      <td>0.128430</td>\n",
       "      <td>0.664894</td>\n",
       "      <td>0.817586</td>\n",
       "      <td>0.956752</td>\n",
       "    </tr>\n",
       "    <tr>\n",
       "      <th>2</th>\n",
       "      <td>0.976514</td>\n",
       "      <td>0.877190</td>\n",
       "      <td>0.551832</td>\n",
       "      <td>0.983284</td>\n",
       "    </tr>\n",
       "    <tr>\n",
       "      <th>3</th>\n",
       "      <td>0.228705</td>\n",
       "      <td>0.295189</td>\n",
       "      <td>0.948356</td>\n",
       "      <td>0.936790</td>\n",
       "    </tr>\n",
       "    <tr>\n",
       "      <th>4</th>\n",
       "      <td>0.363294</td>\n",
       "      <td>0.761727</td>\n",
       "      <td>0.863741</td>\n",
       "      <td>0.458215</td>\n",
       "    </tr>\n",
       "    <tr>\n",
       "      <th>...</th>\n",
       "      <td>...</td>\n",
       "      <td>...</td>\n",
       "      <td>...</td>\n",
       "      <td>...</td>\n",
       "    </tr>\n",
       "    <tr>\n",
       "      <th>329</th>\n",
       "      <td>0.369479</td>\n",
       "      <td>0.410262</td>\n",
       "      <td>0.920999</td>\n",
       "      <td>0.638077</td>\n",
       "    </tr>\n",
       "    <tr>\n",
       "      <th>330</th>\n",
       "      <td>0.880545</td>\n",
       "      <td>0.189283</td>\n",
       "      <td>0.895761</td>\n",
       "      <td>0.838165</td>\n",
       "    </tr>\n",
       "    <tr>\n",
       "      <th>331</th>\n",
       "      <td>0.272343</td>\n",
       "      <td>0.765592</td>\n",
       "      <td>0.492066</td>\n",
       "      <td>0.665382</td>\n",
       "    </tr>\n",
       "    <tr>\n",
       "      <th>332</th>\n",
       "      <td>0.876844</td>\n",
       "      <td>0.165220</td>\n",
       "      <td>0.559765</td>\n",
       "      <td>0.518000</td>\n",
       "    </tr>\n",
       "    <tr>\n",
       "      <th>333</th>\n",
       "      <td>0.128982</td>\n",
       "      <td>0.622599</td>\n",
       "      <td>0.790320</td>\n",
       "      <td>0.857159</td>\n",
       "    </tr>\n",
       "  </tbody>\n",
       "</table>\n",
       "<p>334 rows × 4 columns</p>\n",
       "</div>"
      ],
      "text/plain": [
       "              0         2         3         4\n",
       "0    654.000000  0.807220  0.540059  0.496002\n",
       "1      0.128430  0.664894  0.817586  0.956752\n",
       "2      0.976514  0.877190  0.551832  0.983284\n",
       "3      0.228705  0.295189  0.948356  0.936790\n",
       "4      0.363294  0.761727  0.863741  0.458215\n",
       "..          ...       ...       ...       ...\n",
       "329    0.369479  0.410262  0.920999  0.638077\n",
       "330    0.880545  0.189283  0.895761  0.838165\n",
       "331    0.272343  0.765592  0.492066  0.665382\n",
       "332    0.876844  0.165220  0.559765  0.518000\n",
       "333    0.128982  0.622599  0.790320  0.857159\n",
       "\n",
       "[334 rows x 4 columns]"
      ]
     },
     "execution_count": 40,
     "metadata": {},
     "output_type": "execute_result"
    }
   ],
   "source": [
    "newdata"
   ]
  },
  {
   "cell_type": "code",
   "execution_count": 44,
   "id": "0b2a6430",
   "metadata": {},
   "outputs": [
    {
     "data": {
      "application/vnd.microsoft.datawrangler.viewer.v0+json": {
       "columns": [
        {
         "name": "index",
         "rawType": "int64",
         "type": "integer"
        },
        {
         "name": "0",
         "rawType": "float64",
         "type": "float"
        },
        {
         "name": "2",
         "rawType": "float64",
         "type": "float"
        },
        {
         "name": "3",
         "rawType": "float64",
         "type": "float"
        },
        {
         "name": "4",
         "rawType": "float64",
         "type": "float"
        }
       ],
       "ref": "34c0bd30-a175-41a1-9be7-b1fc82cd99a4",
       "rows": [
        [
         "0",
         "654.0",
         "0.8072195513522772",
         "0.5400593847186567",
         "0.4960023539231663"
        ],
        [
         "1",
         "0.12843009056672772",
         "0.6648939142489135",
         "0.8175864898685784",
         "0.956752059379283"
        ],
        [
         "2",
         "0.9765135353169572",
         "0.8771899741666347",
         "0.5518321583044961",
         "0.983283712600777"
        ],
        [
         "3",
         "0.22870451186071872",
         "0.2951890619832668",
         "0.948355547777948",
         "0.9367900232699302"
        ],
        [
         "4",
         "0.36329412438272635",
         "0.7617271157391927",
         "0.863740737736931",
         "0.45821515045403727"
        ],
        [
         "5",
         "0.2110570668443309",
         "0.9909811457316978",
         "0.817474688125708",
         "0.5692917171863149"
        ],
        [
         "6",
         "0.05638398204460515",
         "0.3828303064500691",
         "0.23968158078618773",
         "0.7715077259761411"
        ],
        [
         "7",
         "0.39515456223427015",
         "0.6090072999205016",
         "0.527822125069944",
         "0.5124395319973334"
        ],
        [
         "8",
         "0.34712446196107816",
         "0.804366583452832",
         "0.9620003414447467",
         "0.7872568967599851"
        ],
        [
         "9",
         "0.09847508511277159",
         "0.5471781105714979",
         "0.5931965871593752",
         "0.9580184381398644"
        ],
        [
         "10",
         "0.5564524927199489",
         "0.6092461509313286",
         "0.601969529536452",
         "0.7418853679414473"
        ],
        [
         "11",
         "0.7813245069388608",
         "0.2606423008570685",
         "0.28572097401604557",
         "0.5470841657801083"
        ],
        [
         "12",
         "0.6511460641353879",
         "0.9859118974667059",
         "0.08756791183826629",
         "0.631521267863985"
        ],
        [
         "13",
         "0.5083532361841969",
         "0.727012277383883",
         "0.3805611567081033",
         "0.39401446543404894"
        ],
        [
         "14",
         "0.550656659113418",
         "0.3544940569232333",
         "0.8160690714382771",
         "0.95092106223635"
        ],
        [
         "15",
         "0.5062519451554339",
         "0.5404693745376238",
         "0.808892482739703",
         "0.41964165486627625"
        ],
        [
         "16",
         "0.627866633340235",
         "0.012201393180711118",
         "0.3016938660106677",
         "0.036724601421641134"
        ],
        [
         "17",
         "0.9655617893542339",
         "0.6327737390739004",
         "0.04018164884900821",
         "0.5152583398400625"
        ],
        [
         "18",
         "0.20213842866842135",
         "0.45747956716484905",
         "0.7497844542768779",
         "0.700061725020855"
        ],
        [
         "19",
         "0.6466360165389936",
         "0.34728724896013785",
         "0.15996542048675477",
         "0.4904094767866314"
        ],
        [
         "20",
         "0.9963990467051018",
         "0.30440972368866825",
         "0.5447969422715797",
         "0.3644216589742817"
        ],
        [
         "21",
         "0.6607824128147656",
         "0.17766302062071526",
         "0.41821689152050445",
         "0.6729636607258146"
        ],
        [
         "22",
         "0.16288801116861196",
         "0.23509039536531529",
         "0.06704668202422692",
         "0.9632882027073434"
        ],
        [
         "23",
         "0.17379855218660079",
         "0.4868705868241713",
         "0.9508167895567623",
         "0.6365873626317602"
        ],
        [
         "24",
         "0.44334212250157845",
         "0.6678526187152185",
         "0.10171342913665804",
         "0.6543123213018873"
        ],
        [
         "25",
         "0.4172194020480605",
         "0.19981076340437132",
         "0.29741982114513266",
         "0.8353509108963367"
        ],
        [
         "26",
         "0.531259033959184",
         "0.6262166082218926",
         "0.16530225765651385",
         "0.5136968081229516"
        ],
        [
         "27",
         "0.6805510223374869",
         "0.44022297781526043",
         "0.33903680613404075",
         "0.567349392237221"
        ],
        [
         "28",
         "0.2503620225487033",
         "0.9098870288309022",
         "0.9943970799498738",
         "0.41653344859474306"
        ],
        [
         "29",
         "0.16860669521076255",
         "0.7640327345669153",
         "0.49416183261753976",
         "0.03587601314648914"
        ],
        [
         "30",
         "0.9809034000251917",
         "0.08881337298491432",
         "0.5394276638279468",
         "0.00028213890264428"
        ],
        [
         "31",
         "0.4658209197497528",
         "0.1950892705595525",
         "0.570152408498191",
         "0.7064759560285662"
        ],
        [
         "32",
         "0.2736313150181947",
         "0.37280271888275607",
         "0.2768389694591009",
         "0.7131124366144409"
        ],
        [
         "33",
         "0.8317047055936369",
         "0.12084832184104699",
         "0.7716199314108453",
         "0.07287506585367653"
        ],
        [
         "34",
         "0.9370821429253035",
         "0.6913098117329952",
         "0.5980511273880509",
         "0.26630793597277613"
        ],
        [
         "35",
         "0.06656202909211861",
         "0.8936951809791494",
         "0.03277811906616068",
         "0.8240020335477364"
        ],
        [
         "36",
         "0.9886930832423653",
         "0.08103591560931256",
         "0.7983358607963988",
         "0.7601965878722285"
        ],
        [
         "37",
         "0.8405670310523434",
         "0.6638040390605885",
         "0.166965538713729",
         "0.5618552706263762"
        ],
        [
         "38",
         "0.5049054485858552",
         "0.005724382848044107",
         "0.861905809140322",
         "0.1574651697886006"
        ],
        [
         "39",
         "0.13552441385594582",
         "0.28954768568189515",
         "0.18310795340430397",
         "0.8626517033812812"
        ],
        [
         "40",
         "0.721892081717362",
         "0.061996158849507266",
         "0.6566664680130615",
         "0.6717234330943621"
        ],
        [
         "41",
         "0.44788074116275267",
         "0.8572280017348901",
         "0.44265886923013664",
         "0.7475371719733575"
        ],
        [
         "42",
         "0.12851734442723495",
         "0.1918911169700498",
         "0.53146526293249",
         "0.8365288781604451"
        ],
        [
         "43",
         "0.7312990366028819",
         "0.2709097991688584",
         "0.1969160084851237",
         "0.7631483356290131"
        ],
        [
         "44",
         "0.6287176184585517",
         "0.4799539207199589",
         "0.7159578452700981",
         "0.27635753791539086"
        ],
        [
         "45",
         "0.03594363478815188",
         "0.11111808020522485",
         "0.9902560385208359",
         "0.004127036854617794"
        ],
        [
         "46",
         "0.7855380185873424",
         "0.7531872382144452",
         "0.47900816166965776",
         "0.5426445660848"
        ],
        [
         "47",
         "0.22248439178773516",
         "0.9834233311905421",
         "0.08037112838092153",
         "0.0983203322383609"
        ],
        [
         "48",
         "0.5921525470168674",
         "0.7976852563377749",
         "0.3684820954844521",
         "0.3238621414549605"
        ],
        [
         "49",
         "0.02184396774705999",
         "0.2010201842445486",
         "0.37234604838933505",
         "0.32492782755252114"
        ]
       ],
       "shape": {
        "columns": 4,
        "rows": 334
       }
      },
      "text/html": [
       "<div>\n",
       "<style scoped>\n",
       "    .dataframe tbody tr th:only-of-type {\n",
       "        vertical-align: middle;\n",
       "    }\n",
       "\n",
       "    .dataframe tbody tr th {\n",
       "        vertical-align: top;\n",
       "    }\n",
       "\n",
       "    .dataframe thead th {\n",
       "        text-align: right;\n",
       "    }\n",
       "</style>\n",
       "<table border=\"1\" class=\"dataframe\">\n",
       "  <thead>\n",
       "    <tr style=\"text-align: right;\">\n",
       "      <th></th>\n",
       "      <th>0</th>\n",
       "      <th>2</th>\n",
       "      <th>3</th>\n",
       "      <th>4</th>\n",
       "    </tr>\n",
       "  </thead>\n",
       "  <tbody>\n",
       "    <tr>\n",
       "      <th>0</th>\n",
       "      <td>654.000000</td>\n",
       "      <td>0.807220</td>\n",
       "      <td>0.540059</td>\n",
       "      <td>0.496002</td>\n",
       "    </tr>\n",
       "    <tr>\n",
       "      <th>1</th>\n",
       "      <td>0.128430</td>\n",
       "      <td>0.664894</td>\n",
       "      <td>0.817586</td>\n",
       "      <td>0.956752</td>\n",
       "    </tr>\n",
       "    <tr>\n",
       "      <th>2</th>\n",
       "      <td>0.976514</td>\n",
       "      <td>0.877190</td>\n",
       "      <td>0.551832</td>\n",
       "      <td>0.983284</td>\n",
       "    </tr>\n",
       "    <tr>\n",
       "      <th>3</th>\n",
       "      <td>0.228705</td>\n",
       "      <td>0.295189</td>\n",
       "      <td>0.948356</td>\n",
       "      <td>0.936790</td>\n",
       "    </tr>\n",
       "    <tr>\n",
       "      <th>4</th>\n",
       "      <td>0.363294</td>\n",
       "      <td>0.761727</td>\n",
       "      <td>0.863741</td>\n",
       "      <td>0.458215</td>\n",
       "    </tr>\n",
       "    <tr>\n",
       "      <th>...</th>\n",
       "      <td>...</td>\n",
       "      <td>...</td>\n",
       "      <td>...</td>\n",
       "      <td>...</td>\n",
       "    </tr>\n",
       "    <tr>\n",
       "      <th>329</th>\n",
       "      <td>0.369479</td>\n",
       "      <td>0.410262</td>\n",
       "      <td>0.920999</td>\n",
       "      <td>0.638077</td>\n",
       "    </tr>\n",
       "    <tr>\n",
       "      <th>330</th>\n",
       "      <td>0.880545</td>\n",
       "      <td>0.189283</td>\n",
       "      <td>0.895761</td>\n",
       "      <td>0.838165</td>\n",
       "    </tr>\n",
       "    <tr>\n",
       "      <th>331</th>\n",
       "      <td>0.272343</td>\n",
       "      <td>0.765592</td>\n",
       "      <td>0.492066</td>\n",
       "      <td>0.665382</td>\n",
       "    </tr>\n",
       "    <tr>\n",
       "      <th>332</th>\n",
       "      <td>0.876844</td>\n",
       "      <td>0.165220</td>\n",
       "      <td>0.559765</td>\n",
       "      <td>0.518000</td>\n",
       "    </tr>\n",
       "    <tr>\n",
       "      <th>333</th>\n",
       "      <td>0.128982</td>\n",
       "      <td>0.622599</td>\n",
       "      <td>0.790320</td>\n",
       "      <td>0.857159</td>\n",
       "    </tr>\n",
       "  </tbody>\n",
       "</table>\n",
       "<p>334 rows × 4 columns</p>\n",
       "</div>"
      ],
      "text/plain": [
       "              0         2         3         4\n",
       "0    654.000000  0.807220  0.540059  0.496002\n",
       "1      0.128430  0.664894  0.817586  0.956752\n",
       "2      0.976514  0.877190  0.551832  0.983284\n",
       "3      0.228705  0.295189  0.948356  0.936790\n",
       "4      0.363294  0.761727  0.863741  0.458215\n",
       "..          ...       ...       ...       ...\n",
       "329    0.369479  0.410262  0.920999  0.638077\n",
       "330    0.880545  0.189283  0.895761  0.838165\n",
       "331    0.272343  0.765592  0.492066  0.665382\n",
       "332    0.876844  0.165220  0.559765  0.518000\n",
       "333    0.128982  0.622599  0.790320  0.857159\n",
       "\n",
       "[334 rows x 4 columns]"
      ]
     },
     "execution_count": 44,
     "metadata": {},
     "output_type": "execute_result"
    }
   ],
   "source": [
    "newdata.reset_index(drop=True)"
   ]
  },
  {
   "cell_type": "code",
   "execution_count": 45,
   "id": "e5ba8958",
   "metadata": {},
   "outputs": [
    {
     "data": {
      "application/vnd.microsoft.datawrangler.viewer.v0+json": {
       "columns": [
        {
         "name": "index",
         "rawType": "int64",
         "type": "integer"
        },
        {
         "name": "0",
         "rawType": "float64",
         "type": "float"
        },
        {
         "name": "2",
         "rawType": "float64",
         "type": "float"
        },
        {
         "name": "3",
         "rawType": "float64",
         "type": "float"
        },
        {
         "name": "4",
         "rawType": "float64",
         "type": "float"
        }
       ],
       "ref": "bb1d8ce1-b38b-4c82-9cda-a39f74242fff",
       "rows": [
        [
         "0",
         "654.0",
         "0.8072195513522772",
         "0.5400593847186567",
         "0.4960023539231663"
        ],
        [
         "1",
         "0.12843009056672772",
         "0.6648939142489135",
         "0.8175864898685784",
         "0.956752059379283"
        ],
        [
         "2",
         "0.9765135353169572",
         "0.8771899741666347",
         "0.5518321583044961",
         "0.983283712600777"
        ],
        [
         "3",
         "0.22870451186071872",
         "0.2951890619832668",
         "0.948355547777948",
         "0.9367900232699302"
        ],
        [
         "4",
         "0.36329412438272635",
         "0.7617271157391927",
         "0.863740737736931",
         "0.45821515045403727"
        ],
        [
         "5",
         "0.2110570668443309",
         "0.9909811457316978",
         "0.817474688125708",
         "0.5692917171863149"
        ],
        [
         "6",
         "0.05638398204460515",
         "0.3828303064500691",
         "0.23968158078618773",
         "0.7715077259761411"
        ],
        [
         "7",
         "0.39515456223427015",
         "0.6090072999205016",
         "0.527822125069944",
         "0.5124395319973334"
        ],
        [
         "8",
         "0.34712446196107816",
         "0.804366583452832",
         "0.9620003414447467",
         "0.7872568967599851"
        ],
        [
         "9",
         "0.09847508511277159",
         "0.5471781105714979",
         "0.5931965871593752",
         "0.9580184381398644"
        ],
        [
         "10",
         "0.5564524927199489",
         "0.6092461509313286",
         "0.601969529536452",
         "0.7418853679414473"
        ],
        [
         "11",
         "0.7813245069388608",
         "0.2606423008570685",
         "0.28572097401604557",
         "0.5470841657801083"
        ],
        [
         "12",
         "0.6511460641353879",
         "0.9859118974667059",
         "0.08756791183826629",
         "0.631521267863985"
        ],
        [
         "13",
         "0.5083532361841969",
         "0.727012277383883",
         "0.3805611567081033",
         "0.39401446543404894"
        ],
        [
         "14",
         "0.550656659113418",
         "0.3544940569232333",
         "0.8160690714382771",
         "0.95092106223635"
        ],
        [
         "15",
         "0.5062519451554339",
         "0.5404693745376238",
         "0.808892482739703",
         "0.41964165486627625"
        ],
        [
         "16",
         "0.627866633340235",
         "0.012201393180711118",
         "0.3016938660106677",
         "0.036724601421641134"
        ],
        [
         "17",
         "0.9655617893542339",
         "0.6327737390739004",
         "0.04018164884900821",
         "0.5152583398400625"
        ],
        [
         "18",
         "0.20213842866842135",
         "0.45747956716484905",
         "0.7497844542768779",
         "0.700061725020855"
        ],
        [
         "19",
         "0.6466360165389936",
         "0.34728724896013785",
         "0.15996542048675477",
         "0.4904094767866314"
        ],
        [
         "20",
         "0.9963990467051018",
         "0.30440972368866825",
         "0.5447969422715797",
         "0.3644216589742817"
        ],
        [
         "21",
         "0.6607824128147656",
         "0.17766302062071526",
         "0.41821689152050445",
         "0.6729636607258146"
        ],
        [
         "22",
         "0.16288801116861196",
         "0.23509039536531529",
         "0.06704668202422692",
         "0.9632882027073434"
        ],
        [
         "23",
         "0.17379855218660079",
         "0.4868705868241713",
         "0.9508167895567623",
         "0.6365873626317602"
        ],
        [
         "24",
         "0.44334212250157845",
         "0.6678526187152185",
         "0.10171342913665804",
         "0.6543123213018873"
        ],
        [
         "25",
         "0.4172194020480605",
         "0.19981076340437132",
         "0.29741982114513266",
         "0.8353509108963367"
        ],
        [
         "26",
         "0.531259033959184",
         "0.6262166082218926",
         "0.16530225765651385",
         "0.5136968081229516"
        ],
        [
         "27",
         "0.6805510223374869",
         "0.44022297781526043",
         "0.33903680613404075",
         "0.567349392237221"
        ],
        [
         "28",
         "0.2503620225487033",
         "0.9098870288309022",
         "0.9943970799498738",
         "0.41653344859474306"
        ],
        [
         "29",
         "0.16860669521076255",
         "0.7640327345669153",
         "0.49416183261753976",
         "0.03587601314648914"
        ],
        [
         "30",
         "0.9809034000251917",
         "0.08881337298491432",
         "0.5394276638279468",
         "0.00028213890264428"
        ],
        [
         "31",
         "0.4658209197497528",
         "0.1950892705595525",
         "0.570152408498191",
         "0.7064759560285662"
        ],
        [
         "32",
         "0.2736313150181947",
         "0.37280271888275607",
         "0.2768389694591009",
         "0.7131124366144409"
        ],
        [
         "33",
         "0.8317047055936369",
         "0.12084832184104699",
         "0.7716199314108453",
         "0.07287506585367653"
        ],
        [
         "34",
         "0.9370821429253035",
         "0.6913098117329952",
         "0.5980511273880509",
         "0.26630793597277613"
        ],
        [
         "35",
         "0.06656202909211861",
         "0.8936951809791494",
         "0.03277811906616068",
         "0.8240020335477364"
        ],
        [
         "36",
         "0.9886930832423653",
         "0.08103591560931256",
         "0.7983358607963988",
         "0.7601965878722285"
        ],
        [
         "37",
         "0.8405670310523434",
         "0.6638040390605885",
         "0.166965538713729",
         "0.5618552706263762"
        ],
        [
         "38",
         "0.5049054485858552",
         "0.005724382848044107",
         "0.861905809140322",
         "0.1574651697886006"
        ],
        [
         "39",
         "0.13552441385594582",
         "0.28954768568189515",
         "0.18310795340430397",
         "0.8626517033812812"
        ],
        [
         "40",
         "0.721892081717362",
         "0.061996158849507266",
         "0.6566664680130615",
         "0.6717234330943621"
        ],
        [
         "41",
         "0.44788074116275267",
         "0.8572280017348901",
         "0.44265886923013664",
         "0.7475371719733575"
        ],
        [
         "42",
         "0.12851734442723495",
         "0.1918911169700498",
         "0.53146526293249",
         "0.8365288781604451"
        ],
        [
         "43",
         "0.7312990366028819",
         "0.2709097991688584",
         "0.1969160084851237",
         "0.7631483356290131"
        ],
        [
         "44",
         "0.6287176184585517",
         "0.4799539207199589",
         "0.7159578452700981",
         "0.27635753791539086"
        ],
        [
         "45",
         "0.03594363478815188",
         "0.11111808020522485",
         "0.9902560385208359",
         "0.004127036854617794"
        ],
        [
         "46",
         "0.7855380185873424",
         "0.7531872382144452",
         "0.47900816166965776",
         "0.5426445660848"
        ],
        [
         "47",
         "0.22248439178773516",
         "0.9834233311905421",
         "0.08037112838092153",
         "0.0983203322383609"
        ],
        [
         "48",
         "0.5921525470168674",
         "0.7976852563377749",
         "0.3684820954844521",
         "0.3238621414549605"
        ],
        [
         "49",
         "0.02184396774705999",
         "0.2010201842445486",
         "0.37234604838933505",
         "0.32492782755252114"
        ]
       ],
       "shape": {
        "columns": 4,
        "rows": 334
       }
      },
      "text/html": [
       "<div>\n",
       "<style scoped>\n",
       "    .dataframe tbody tr th:only-of-type {\n",
       "        vertical-align: middle;\n",
       "    }\n",
       "\n",
       "    .dataframe tbody tr th {\n",
       "        vertical-align: top;\n",
       "    }\n",
       "\n",
       "    .dataframe thead th {\n",
       "        text-align: right;\n",
       "    }\n",
       "</style>\n",
       "<table border=\"1\" class=\"dataframe\">\n",
       "  <thead>\n",
       "    <tr style=\"text-align: right;\">\n",
       "      <th></th>\n",
       "      <th>0</th>\n",
       "      <th>2</th>\n",
       "      <th>3</th>\n",
       "      <th>4</th>\n",
       "    </tr>\n",
       "  </thead>\n",
       "  <tbody>\n",
       "    <tr>\n",
       "      <th>0</th>\n",
       "      <td>654.000000</td>\n",
       "      <td>0.807220</td>\n",
       "      <td>0.540059</td>\n",
       "      <td>0.496002</td>\n",
       "    </tr>\n",
       "    <tr>\n",
       "      <th>1</th>\n",
       "      <td>0.128430</td>\n",
       "      <td>0.664894</td>\n",
       "      <td>0.817586</td>\n",
       "      <td>0.956752</td>\n",
       "    </tr>\n",
       "    <tr>\n",
       "      <th>2</th>\n",
       "      <td>0.976514</td>\n",
       "      <td>0.877190</td>\n",
       "      <td>0.551832</td>\n",
       "      <td>0.983284</td>\n",
       "    </tr>\n",
       "    <tr>\n",
       "      <th>3</th>\n",
       "      <td>0.228705</td>\n",
       "      <td>0.295189</td>\n",
       "      <td>0.948356</td>\n",
       "      <td>0.936790</td>\n",
       "    </tr>\n",
       "    <tr>\n",
       "      <th>4</th>\n",
       "      <td>0.363294</td>\n",
       "      <td>0.761727</td>\n",
       "      <td>0.863741</td>\n",
       "      <td>0.458215</td>\n",
       "    </tr>\n",
       "    <tr>\n",
       "      <th>...</th>\n",
       "      <td>...</td>\n",
       "      <td>...</td>\n",
       "      <td>...</td>\n",
       "      <td>...</td>\n",
       "    </tr>\n",
       "    <tr>\n",
       "      <th>329</th>\n",
       "      <td>0.369479</td>\n",
       "      <td>0.410262</td>\n",
       "      <td>0.920999</td>\n",
       "      <td>0.638077</td>\n",
       "    </tr>\n",
       "    <tr>\n",
       "      <th>330</th>\n",
       "      <td>0.880545</td>\n",
       "      <td>0.189283</td>\n",
       "      <td>0.895761</td>\n",
       "      <td>0.838165</td>\n",
       "    </tr>\n",
       "    <tr>\n",
       "      <th>331</th>\n",
       "      <td>0.272343</td>\n",
       "      <td>0.765592</td>\n",
       "      <td>0.492066</td>\n",
       "      <td>0.665382</td>\n",
       "    </tr>\n",
       "    <tr>\n",
       "      <th>332</th>\n",
       "      <td>0.876844</td>\n",
       "      <td>0.165220</td>\n",
       "      <td>0.559765</td>\n",
       "      <td>0.518000</td>\n",
       "    </tr>\n",
       "    <tr>\n",
       "      <th>333</th>\n",
       "      <td>0.128982</td>\n",
       "      <td>0.622599</td>\n",
       "      <td>0.790320</td>\n",
       "      <td>0.857159</td>\n",
       "    </tr>\n",
       "  </tbody>\n",
       "</table>\n",
       "<p>334 rows × 4 columns</p>\n",
       "</div>"
      ],
      "text/plain": [
       "              0         2         3         4\n",
       "0    654.000000  0.807220  0.540059  0.496002\n",
       "1      0.128430  0.664894  0.817586  0.956752\n",
       "2      0.976514  0.877190  0.551832  0.983284\n",
       "3      0.228705  0.295189  0.948356  0.936790\n",
       "4      0.363294  0.761727  0.863741  0.458215\n",
       "..          ...       ...       ...       ...\n",
       "329    0.369479  0.410262  0.920999  0.638077\n",
       "330    0.880545  0.189283  0.895761  0.838165\n",
       "331    0.272343  0.765592  0.492066  0.665382\n",
       "332    0.876844  0.165220  0.559765  0.518000\n",
       "333    0.128982  0.622599  0.790320  0.857159\n",
       "\n",
       "[334 rows x 4 columns]"
      ]
     },
     "execution_count": 45,
     "metadata": {},
     "output_type": "execute_result"
    }
   ],
   "source": [
    "newdata.dropna()"
   ]
  },
  {
   "cell_type": "code",
   "execution_count": 49,
   "id": "6fafe99e",
   "metadata": {},
   "outputs": [
    {
     "data": {
      "application/vnd.microsoft.datawrangler.viewer.v0+json": {
       "columns": [
        {
         "name": "index",
         "rawType": "int64",
         "type": "integer"
        },
        {
         "name": "3",
         "rawType": "bool",
         "type": "boolean"
        }
       ],
       "ref": "796e6ed5-125a-46ca-bcdf-3d124f5ba0fa",
       "rows": [
        [
         "0",
         "False"
        ],
        [
         "1",
         "False"
        ],
        [
         "2",
         "False"
        ],
        [
         "3",
         "False"
        ],
        [
         "4",
         "False"
        ],
        [
         "5",
         "False"
        ],
        [
         "6",
         "False"
        ],
        [
         "7",
         "False"
        ],
        [
         "8",
         "False"
        ],
        [
         "9",
         "False"
        ],
        [
         "10",
         "False"
        ],
        [
         "11",
         "False"
        ],
        [
         "12",
         "False"
        ],
        [
         "13",
         "False"
        ],
        [
         "14",
         "False"
        ],
        [
         "15",
         "False"
        ],
        [
         "16",
         "False"
        ],
        [
         "17",
         "False"
        ],
        [
         "18",
         "False"
        ],
        [
         "19",
         "False"
        ],
        [
         "20",
         "False"
        ],
        [
         "21",
         "False"
        ],
        [
         "22",
         "False"
        ],
        [
         "23",
         "False"
        ],
        [
         "24",
         "False"
        ],
        [
         "25",
         "False"
        ],
        [
         "26",
         "False"
        ],
        [
         "27",
         "False"
        ],
        [
         "28",
         "False"
        ],
        [
         "29",
         "False"
        ],
        [
         "30",
         "False"
        ],
        [
         "31",
         "False"
        ],
        [
         "32",
         "False"
        ],
        [
         "33",
         "False"
        ],
        [
         "34",
         "False"
        ],
        [
         "35",
         "False"
        ],
        [
         "36",
         "False"
        ],
        [
         "37",
         "False"
        ],
        [
         "38",
         "False"
        ],
        [
         "39",
         "False"
        ],
        [
         "40",
         "False"
        ],
        [
         "41",
         "False"
        ],
        [
         "42",
         "False"
        ],
        [
         "43",
         "False"
        ],
        [
         "44",
         "False"
        ],
        [
         "45",
         "False"
        ],
        [
         "46",
         "False"
        ],
        [
         "47",
         "False"
        ],
        [
         "48",
         "False"
        ],
        [
         "49",
         "False"
        ]
       ],
       "shape": {
        "columns": 1,
        "rows": 334
       }
      },
      "text/plain": [
       "0      False\n",
       "1      False\n",
       "2      False\n",
       "3      False\n",
       "4      False\n",
       "       ...  \n",
       "329    False\n",
       "330    False\n",
       "331    False\n",
       "332    False\n",
       "333    False\n",
       "Name: 3, Length: 334, dtype: bool"
      ]
     },
     "execution_count": 49,
     "metadata": {},
     "output_type": "execute_result"
    }
   ],
   "source": [
    "newdata[3].isnull()"
   ]
  },
  {
   "cell_type": "code",
   "execution_count": 52,
   "id": "fa6c6508",
   "metadata": {},
   "outputs": [
    {
     "data": {
      "application/vnd.microsoft.datawrangler.viewer.v0+json": {
       "columns": [
        {
         "name": "index",
         "rawType": "int64",
         "type": "integer"
        },
        {
         "name": "0",
         "rawType": "float64",
         "type": "float"
        },
        {
         "name": "2",
         "rawType": "object",
         "type": "unknown"
        },
        {
         "name": "3",
         "rawType": "float64",
         "type": "float"
        },
        {
         "name": "4",
         "rawType": "float64",
         "type": "float"
        }
       ],
       "ref": "39cf9059-462d-4b85-b731-b522aea356cb",
       "rows": [
        [
         "0",
         "654.0",
         null,
         "0.5400593847186567",
         "0.4960023539231663"
        ],
        [
         "1",
         "0.12843009056672772",
         null,
         "0.8175864898685784",
         "0.956752059379283"
        ],
        [
         "2",
         null,
         null,
         null,
         null
        ],
        [
         "3",
         "0.22870451186071872",
         null,
         "0.948355547777948",
         "0.9367900232699302"
        ],
        [
         "4",
         "0.36329412438272635",
         null,
         "0.863740737736931",
         "0.45821515045403727"
        ],
        [
         "5",
         "0.2110570668443309",
         null,
         "0.817474688125708",
         "0.5692917171863149"
        ],
        [
         "6",
         "0.05638398204460515",
         null,
         "0.23968158078618773",
         "0.7715077259761411"
        ],
        [
         "7",
         "0.39515456223427015",
         null,
         "0.527822125069944",
         "0.5124395319973334"
        ],
        [
         "8",
         "0.34712446196107816",
         null,
         "0.9620003414447467",
         "0.7872568967599851"
        ],
        [
         "9",
         "0.09847508511277159",
         null,
         "0.5931965871593752",
         "0.9580184381398644"
        ],
        [
         "10",
         "0.5564524927199489",
         null,
         "0.601969529536452",
         "0.7418853679414473"
        ],
        [
         "11",
         "0.7813245069388608",
         null,
         "0.28572097401604557",
         "0.5470841657801083"
        ],
        [
         "12",
         "0.6511460641353879",
         null,
         "0.08756791183826629",
         "0.631521267863985"
        ],
        [
         "13",
         "0.5083532361841969",
         null,
         "0.3805611567081033",
         "0.39401446543404894"
        ],
        [
         "14",
         "0.550656659113418",
         null,
         "0.8160690714382771",
         "0.95092106223635"
        ],
        [
         "15",
         "0.5062519451554339",
         null,
         "0.808892482739703",
         "0.41964165486627625"
        ],
        [
         "16",
         "0.627866633340235",
         null,
         "0.3016938660106677",
         "0.036724601421641134"
        ],
        [
         "17",
         "0.9655617893542339",
         null,
         "0.04018164884900821",
         "0.5152583398400625"
        ],
        [
         "18",
         "0.20213842866842135",
         null,
         "0.7497844542768779",
         "0.700061725020855"
        ],
        [
         "19",
         "0.6466360165389936",
         null,
         "0.15996542048675477",
         "0.4904094767866314"
        ],
        [
         "20",
         "0.9963990467051018",
         null,
         "0.5447969422715797",
         "0.3644216589742817"
        ],
        [
         "21",
         "0.6607824128147656",
         null,
         "0.41821689152050445",
         "0.6729636607258146"
        ],
        [
         "22",
         "0.16288801116861196",
         null,
         "0.06704668202422692",
         "0.9632882027073434"
        ],
        [
         "23",
         "0.17379855218660079",
         null,
         "0.9508167895567623",
         "0.6365873626317602"
        ],
        [
         "24",
         "0.44334212250157845",
         null,
         "0.10171342913665804",
         "0.6543123213018873"
        ],
        [
         "25",
         "0.4172194020480605",
         null,
         "0.29741982114513266",
         "0.8353509108963367"
        ],
        [
         "26",
         "0.531259033959184",
         null,
         "0.16530225765651385",
         "0.5136968081229516"
        ],
        [
         "27",
         "0.6805510223374869",
         null,
         "0.33903680613404075",
         "0.567349392237221"
        ],
        [
         "28",
         "0.2503620225487033",
         null,
         "0.9943970799498738",
         "0.41653344859474306"
        ],
        [
         "29",
         "0.16860669521076255",
         null,
         "0.49416183261753976",
         "0.03587601314648914"
        ],
        [
         "30",
         "0.9809034000251917",
         null,
         "0.5394276638279468",
         "0.00028213890264428"
        ],
        [
         "31",
         "0.4658209197497528",
         null,
         "0.570152408498191",
         "0.7064759560285662"
        ],
        [
         "32",
         "0.2736313150181947",
         null,
         "0.2768389694591009",
         "0.7131124366144409"
        ],
        [
         "33",
         "0.8317047055936369",
         null,
         "0.7716199314108453",
         "0.07287506585367653"
        ],
        [
         "34",
         "0.9370821429253035",
         null,
         "0.5980511273880509",
         "0.26630793597277613"
        ],
        [
         "35",
         "0.06656202909211861",
         null,
         "0.03277811906616068",
         "0.8240020335477364"
        ],
        [
         "36",
         "0.9886930832423653",
         null,
         "0.7983358607963988",
         "0.7601965878722285"
        ],
        [
         "37",
         "0.8405670310523434",
         null,
         "0.166965538713729",
         "0.5618552706263762"
        ],
        [
         "38",
         "0.5049054485858552",
         null,
         "0.861905809140322",
         "0.1574651697886006"
        ],
        [
         "39",
         "0.13552441385594582",
         null,
         "0.18310795340430397",
         "0.8626517033812812"
        ],
        [
         "40",
         "0.721892081717362",
         null,
         "0.6566664680130615",
         "0.6717234330943621"
        ],
        [
         "41",
         "0.44788074116275267",
         null,
         "0.44265886923013664",
         "0.7475371719733575"
        ],
        [
         "42",
         "0.12851734442723495",
         null,
         "0.53146526293249",
         "0.8365288781604451"
        ],
        [
         "43",
         "0.7312990366028819",
         null,
         "0.1969160084851237",
         "0.7631483356290131"
        ],
        [
         "44",
         "0.6287176184585517",
         null,
         "0.7159578452700981",
         "0.27635753791539086"
        ],
        [
         "45",
         "0.03594363478815188",
         null,
         "0.9902560385208359",
         "0.004127036854617794"
        ],
        [
         "46",
         "0.7855380185873424",
         null,
         "0.47900816166965776",
         "0.5426445660848"
        ],
        [
         "47",
         "0.22248439178773516",
         null,
         "0.08037112838092153",
         "0.0983203322383609"
        ],
        [
         "48",
         "0.5921525470168674",
         null,
         "0.3684820954844521",
         "0.3238621414549605"
        ],
        [
         "49",
         "0.02184396774705999",
         null,
         "0.37234604838933505",
         "0.32492782755252114"
        ]
       ],
       "shape": {
        "columns": 4,
        "rows": 334
       }
      },
      "text/html": [
       "<div>\n",
       "<style scoped>\n",
       "    .dataframe tbody tr th:only-of-type {\n",
       "        vertical-align: middle;\n",
       "    }\n",
       "\n",
       "    .dataframe tbody tr th {\n",
       "        vertical-align: top;\n",
       "    }\n",
       "\n",
       "    .dataframe thead th {\n",
       "        text-align: right;\n",
       "    }\n",
       "</style>\n",
       "<table border=\"1\" class=\"dataframe\">\n",
       "  <thead>\n",
       "    <tr style=\"text-align: right;\">\n",
       "      <th></th>\n",
       "      <th>0</th>\n",
       "      <th>2</th>\n",
       "      <th>3</th>\n",
       "      <th>4</th>\n",
       "    </tr>\n",
       "  </thead>\n",
       "  <tbody>\n",
       "    <tr>\n",
       "      <th>0</th>\n",
       "      <td>654.000000</td>\n",
       "      <td>None</td>\n",
       "      <td>0.540059</td>\n",
       "      <td>0.496002</td>\n",
       "    </tr>\n",
       "    <tr>\n",
       "      <th>1</th>\n",
       "      <td>0.128430</td>\n",
       "      <td>None</td>\n",
       "      <td>0.817586</td>\n",
       "      <td>0.956752</td>\n",
       "    </tr>\n",
       "    <tr>\n",
       "      <th>2</th>\n",
       "      <td>NaN</td>\n",
       "      <td>None</td>\n",
       "      <td>NaN</td>\n",
       "      <td>NaN</td>\n",
       "    </tr>\n",
       "    <tr>\n",
       "      <th>3</th>\n",
       "      <td>0.228705</td>\n",
       "      <td>None</td>\n",
       "      <td>0.948356</td>\n",
       "      <td>0.936790</td>\n",
       "    </tr>\n",
       "    <tr>\n",
       "      <th>4</th>\n",
       "      <td>0.363294</td>\n",
       "      <td>None</td>\n",
       "      <td>0.863741</td>\n",
       "      <td>0.458215</td>\n",
       "    </tr>\n",
       "    <tr>\n",
       "      <th>...</th>\n",
       "      <td>...</td>\n",
       "      <td>...</td>\n",
       "      <td>...</td>\n",
       "      <td>...</td>\n",
       "    </tr>\n",
       "    <tr>\n",
       "      <th>329</th>\n",
       "      <td>0.369479</td>\n",
       "      <td>None</td>\n",
       "      <td>0.920999</td>\n",
       "      <td>0.638077</td>\n",
       "    </tr>\n",
       "    <tr>\n",
       "      <th>330</th>\n",
       "      <td>0.880545</td>\n",
       "      <td>None</td>\n",
       "      <td>0.895761</td>\n",
       "      <td>0.838165</td>\n",
       "    </tr>\n",
       "    <tr>\n",
       "      <th>331</th>\n",
       "      <td>0.272343</td>\n",
       "      <td>None</td>\n",
       "      <td>0.492066</td>\n",
       "      <td>0.665382</td>\n",
       "    </tr>\n",
       "    <tr>\n",
       "      <th>332</th>\n",
       "      <td>0.876844</td>\n",
       "      <td>None</td>\n",
       "      <td>0.559765</td>\n",
       "      <td>0.518000</td>\n",
       "    </tr>\n",
       "    <tr>\n",
       "      <th>333</th>\n",
       "      <td>0.128982</td>\n",
       "      <td>None</td>\n",
       "      <td>0.790320</td>\n",
       "      <td>0.857159</td>\n",
       "    </tr>\n",
       "  </tbody>\n",
       "</table>\n",
       "<p>334 rows × 4 columns</p>\n",
       "</div>"
      ],
      "text/plain": [
       "              0     2         3         4\n",
       "0    654.000000  None  0.540059  0.496002\n",
       "1      0.128430  None  0.817586  0.956752\n",
       "2           NaN  None       NaN       NaN\n",
       "3      0.228705  None  0.948356  0.936790\n",
       "4      0.363294  None  0.863741  0.458215\n",
       "..          ...   ...       ...       ...\n",
       "329    0.369479  None  0.920999  0.638077\n",
       "330    0.880545  None  0.895761  0.838165\n",
       "331    0.272343  None  0.492066  0.665382\n",
       "332    0.876844  None  0.559765  0.518000\n",
       "333    0.128982  None  0.790320  0.857159\n",
       "\n",
       "[334 rows x 4 columns]"
      ]
     },
     "execution_count": 52,
     "metadata": {},
     "output_type": "execute_result"
    }
   ],
   "source": [
    "newdata.loc[[2]] = None          \n",
    "newdata"
   ]
  },
  {
   "cell_type": "code",
   "execution_count": 53,
   "id": "d03a4d08",
   "metadata": {},
   "outputs": [
    {
     "data": {
      "application/vnd.microsoft.datawrangler.viewer.v0+json": {
       "columns": [
        {
         "name": "index",
         "rawType": "int64",
         "type": "integer"
        },
        {
         "name": "0",
         "rawType": "float64",
         "type": "float"
        },
        {
         "name": "2",
         "rawType": "object",
         "type": "string"
        },
        {
         "name": "3",
         "rawType": "float64",
         "type": "float"
        },
        {
         "name": "4",
         "rawType": "float64",
         "type": "float"
        }
       ],
       "ref": "f432ee26-0573-475f-b41e-6df74cfea39d",
       "rows": [],
       "shape": {
        "columns": 4,
        "rows": 0
       }
      },
      "text/html": [
       "<div>\n",
       "<style scoped>\n",
       "    .dataframe tbody tr th:only-of-type {\n",
       "        vertical-align: middle;\n",
       "    }\n",
       "\n",
       "    .dataframe tbody tr th {\n",
       "        vertical-align: top;\n",
       "    }\n",
       "\n",
       "    .dataframe thead th {\n",
       "        text-align: right;\n",
       "    }\n",
       "</style>\n",
       "<table border=\"1\" class=\"dataframe\">\n",
       "  <thead>\n",
       "    <tr style=\"text-align: right;\">\n",
       "      <th></th>\n",
       "      <th>0</th>\n",
       "      <th>2</th>\n",
       "      <th>3</th>\n",
       "      <th>4</th>\n",
       "    </tr>\n",
       "  </thead>\n",
       "  <tbody>\n",
       "  </tbody>\n",
       "</table>\n",
       "</div>"
      ],
      "text/plain": [
       "Empty DataFrame\n",
       "Columns: [0, 2, 3, 4]\n",
       "Index: []"
      ]
     },
     "execution_count": 53,
     "metadata": {},
     "output_type": "execute_result"
    }
   ],
   "source": [
    "newdata.dropna()"
   ]
  },
  {
   "cell_type": "code",
   "execution_count": 58,
   "id": "b4305b04",
   "metadata": {},
   "outputs": [],
   "source": [
    "newdata = pd.DataFrame({\n",
    "    \"name\":[\"Alfardo\",\"El Chapo\",\"El Mencho\"],\n",
    "    \"toy\":[\"Kalicartel\",\"Sinaloacartel\",np.nan],\n",
    "    \"from\":[\"Mexico\",\"Colombia\",\"Medellin\"]\n",
    "})"
   ]
  },
  {
   "cell_type": "code",
   "execution_count": 59,
   "id": "d0181035",
   "metadata": {},
   "outputs": [
    {
     "data": {
      "application/vnd.microsoft.datawrangler.viewer.v0+json": {
       "columns": [
        {
         "name": "index",
         "rawType": "int64",
         "type": "integer"
        },
        {
         "name": "name",
         "rawType": "object",
         "type": "string"
        },
        {
         "name": "toy",
         "rawType": "object",
         "type": "unknown"
        },
        {
         "name": "from",
         "rawType": "object",
         "type": "string"
        }
       ],
       "ref": "30098402-d5d5-430e-a68f-ce38b871b9b9",
       "rows": [
        [
         "0",
         "Alfardo",
         "Kalicartel",
         "Mexico"
        ],
        [
         "1",
         "El Chapo",
         "Sinaloacartel",
         "Colombia"
        ],
        [
         "2",
         "El Mencho",
         null,
         "Medellin"
        ]
       ],
       "shape": {
        "columns": 3,
        "rows": 3
       }
      },
      "text/html": [
       "<div>\n",
       "<style scoped>\n",
       "    .dataframe tbody tr th:only-of-type {\n",
       "        vertical-align: middle;\n",
       "    }\n",
       "\n",
       "    .dataframe tbody tr th {\n",
       "        vertical-align: top;\n",
       "    }\n",
       "\n",
       "    .dataframe thead th {\n",
       "        text-align: right;\n",
       "    }\n",
       "</style>\n",
       "<table border=\"1\" class=\"dataframe\">\n",
       "  <thead>\n",
       "    <tr style=\"text-align: right;\">\n",
       "      <th></th>\n",
       "      <th>name</th>\n",
       "      <th>toy</th>\n",
       "      <th>from</th>\n",
       "    </tr>\n",
       "  </thead>\n",
       "  <tbody>\n",
       "    <tr>\n",
       "      <th>0</th>\n",
       "      <td>Alfardo</td>\n",
       "      <td>Kalicartel</td>\n",
       "      <td>Mexico</td>\n",
       "    </tr>\n",
       "    <tr>\n",
       "      <th>1</th>\n",
       "      <td>El Chapo</td>\n",
       "      <td>Sinaloacartel</td>\n",
       "      <td>Colombia</td>\n",
       "    </tr>\n",
       "    <tr>\n",
       "      <th>2</th>\n",
       "      <td>El Mencho</td>\n",
       "      <td>NaN</td>\n",
       "      <td>Medellin</td>\n",
       "    </tr>\n",
       "  </tbody>\n",
       "</table>\n",
       "</div>"
      ],
      "text/plain": [
       "        name            toy      from\n",
       "0    Alfardo     Kalicartel    Mexico\n",
       "1   El Chapo  Sinaloacartel  Colombia\n",
       "2  El Mencho            NaN  Medellin"
      ]
     },
     "execution_count": 59,
     "metadata": {},
     "output_type": "execute_result"
    }
   ],
   "source": [
    "newdata.head()"
   ]
  },
  {
   "cell_type": "code",
   "execution_count": 60,
   "id": "f5906e87",
   "metadata": {},
   "outputs": [
    {
     "data": {
      "application/vnd.microsoft.datawrangler.viewer.v0+json": {
       "columns": [
        {
         "name": "index",
         "rawType": "int64",
         "type": "integer"
        },
        {
         "name": "name",
         "rawType": "object",
         "type": "string"
        },
        {
         "name": "toy",
         "rawType": "object",
         "type": "unknown"
        },
        {
         "name": "from",
         "rawType": "object",
         "type": "string"
        }
       ],
       "ref": "fef6b4b5-6a90-42a2-ba84-3abb52491a5c",
       "rows": [
        [
         "0",
         "Alfardo",
         "Kalicartel",
         "Mexico"
        ],
        [
         "1",
         "El Chapo",
         "Sinaloacartel",
         "Colombia"
        ],
        [
         "2",
         "El Mencho",
         null,
         "Medellin"
        ]
       ],
       "shape": {
        "columns": 3,
        "rows": 3
       }
      },
      "text/html": [
       "<div>\n",
       "<style scoped>\n",
       "    .dataframe tbody tr th:only-of-type {\n",
       "        vertical-align: middle;\n",
       "    }\n",
       "\n",
       "    .dataframe tbody tr th {\n",
       "        vertical-align: top;\n",
       "    }\n",
       "\n",
       "    .dataframe thead th {\n",
       "        text-align: right;\n",
       "    }\n",
       "</style>\n",
       "<table border=\"1\" class=\"dataframe\">\n",
       "  <thead>\n",
       "    <tr style=\"text-align: right;\">\n",
       "      <th></th>\n",
       "      <th>name</th>\n",
       "      <th>toy</th>\n",
       "      <th>from</th>\n",
       "    </tr>\n",
       "  </thead>\n",
       "  <tbody>\n",
       "    <tr>\n",
       "      <th>0</th>\n",
       "      <td>Alfardo</td>\n",
       "      <td>Kalicartel</td>\n",
       "      <td>Mexico</td>\n",
       "    </tr>\n",
       "    <tr>\n",
       "      <th>1</th>\n",
       "      <td>El Chapo</td>\n",
       "      <td>Sinaloacartel</td>\n",
       "      <td>Colombia</td>\n",
       "    </tr>\n",
       "    <tr>\n",
       "      <th>2</th>\n",
       "      <td>El Mencho</td>\n",
       "      <td>NaN</td>\n",
       "      <td>Medellin</td>\n",
       "    </tr>\n",
       "  </tbody>\n",
       "</table>\n",
       "</div>"
      ],
      "text/plain": [
       "        name            toy      from\n",
       "0    Alfardo     Kalicartel    Mexico\n",
       "1   El Chapo  Sinaloacartel  Colombia\n",
       "2  El Mencho            NaN  Medellin"
      ]
     },
     "execution_count": 60,
     "metadata": {},
     "output_type": "execute_result"
    }
   ],
   "source": [
    "newdata.dropna(how='all',axis=1)\n",
    "newdata"
   ]
  },
  {
   "cell_type": "code",
   "execution_count": 66,
   "id": "e8f3b261",
   "metadata": {},
   "outputs": [
    {
     "data": {
      "application/vnd.microsoft.datawrangler.viewer.v0+json": {
       "columns": [
        {
         "name": "index",
         "rawType": "int64",
         "type": "integer"
        },
        {
         "name": "name",
         "rawType": "object",
         "type": "string"
        },
        {
         "name": "toy",
         "rawType": "object",
         "type": "unknown"
        },
        {
         "name": "from",
         "rawType": "object",
         "type": "string"
        }
       ],
       "ref": "a0685157-2bd5-4bf2-bf07-621a55a73ea9",
       "rows": [
        [
         "0",
         "Alfardo",
         "Kalicartel",
         "Mexico"
        ],
        [
         "1",
         "El Chapo",
         "Sinaloacartel",
         "Colombia"
        ],
        [
         "2",
         "El Mencho",
         null,
         "Medellin"
        ]
       ],
       "shape": {
        "columns": 3,
        "rows": 3
       }
      },
      "text/html": [
       "<div>\n",
       "<style scoped>\n",
       "    .dataframe tbody tr th:only-of-type {\n",
       "        vertical-align: middle;\n",
       "    }\n",
       "\n",
       "    .dataframe tbody tr th {\n",
       "        vertical-align: top;\n",
       "    }\n",
       "\n",
       "    .dataframe thead th {\n",
       "        text-align: right;\n",
       "    }\n",
       "</style>\n",
       "<table border=\"1\" class=\"dataframe\">\n",
       "  <thead>\n",
       "    <tr style=\"text-align: right;\">\n",
       "      <th></th>\n",
       "      <th>name</th>\n",
       "      <th>toy</th>\n",
       "      <th>from</th>\n",
       "    </tr>\n",
       "  </thead>\n",
       "  <tbody>\n",
       "    <tr>\n",
       "      <th>0</th>\n",
       "      <td>Alfardo</td>\n",
       "      <td>Kalicartel</td>\n",
       "      <td>Mexico</td>\n",
       "    </tr>\n",
       "    <tr>\n",
       "      <th>1</th>\n",
       "      <td>El Chapo</td>\n",
       "      <td>Sinaloacartel</td>\n",
       "      <td>Colombia</td>\n",
       "    </tr>\n",
       "    <tr>\n",
       "      <th>2</th>\n",
       "      <td>El Mencho</td>\n",
       "      <td>NaN</td>\n",
       "      <td>Medellin</td>\n",
       "    </tr>\n",
       "  </tbody>\n",
       "</table>\n",
       "</div>"
      ],
      "text/plain": [
       "        name            toy      from\n",
       "0    Alfardo     Kalicartel    Mexico\n",
       "1   El Chapo  Sinaloacartel  Colombia\n",
       "2  El Mencho            NaN  Medellin"
      ]
     },
     "execution_count": 66,
     "metadata": {},
     "output_type": "execute_result"
    }
   ],
   "source": [
    "newdata.drop_duplicates(subset=['name'],keep=False)"
   ]
  },
  {
   "cell_type": "code",
   "execution_count": 67,
   "id": "dc93998f",
   "metadata": {},
   "outputs": [
    {
     "data": {
      "text/plain": [
       "<bound method DataFrame.info of         name            toy      from\n",
       "0    Alfardo     Kalicartel    Mexico\n",
       "1   El Chapo  Sinaloacartel  Colombia\n",
       "2  El Mencho            NaN  Medellin>"
      ]
     },
     "execution_count": 67,
     "metadata": {},
     "output_type": "execute_result"
    }
   ],
   "source": [
    "newdata.info"
   ]
  },
  {
   "cell_type": "code",
   "execution_count": 70,
   "id": "68a91880",
   "metadata": {},
   "outputs": [
    {
     "data": {
      "application/vnd.microsoft.datawrangler.viewer.v0+json": {
       "columns": [
        {
         "name": "name",
         "rawType": "object",
         "type": "string"
        },
        {
         "name": "count",
         "rawType": "int64",
         "type": "integer"
        }
       ],
       "ref": "4c79b3be-1885-4d4e-bc3c-ed3186fd3550",
       "rows": [
        [
         "Alfardo",
         "1"
        ],
        [
         "El Chapo",
         "1"
        ],
        [
         "El Mencho",
         "1"
        ]
       ],
       "shape": {
        "columns": 1,
        "rows": 3
       }
      },
      "text/plain": [
       "name\n",
       "Alfardo      1\n",
       "El Chapo     1\n",
       "El Mencho    1\n",
       "Name: count, dtype: int64"
      ]
     },
     "execution_count": 70,
     "metadata": {},
     "output_type": "execute_result"
    }
   ],
   "source": [
    "newdata['name'].value_counts(dropna=True)"
   ]
  },
  {
   "cell_type": "code",
   "execution_count": 71,
   "id": "71a29702",
   "metadata": {},
   "outputs": [
    {
     "data": {
      "application/vnd.microsoft.datawrangler.viewer.v0+json": {
       "columns": [
        {
         "name": "index",
         "rawType": "int64",
         "type": "integer"
        },
        {
         "name": "name",
         "rawType": "bool",
         "type": "boolean"
        },
        {
         "name": "toy",
         "rawType": "bool",
         "type": "boolean"
        },
        {
         "name": "from",
         "rawType": "bool",
         "type": "boolean"
        }
       ],
       "ref": "f759f272-6cff-4b99-971f-f7ec115a8299",
       "rows": [
        [
         "0",
         "True",
         "True",
         "True"
        ],
        [
         "1",
         "True",
         "True",
         "True"
        ],
        [
         "2",
         "True",
         "False",
         "True"
        ]
       ],
       "shape": {
        "columns": 3,
        "rows": 3
       }
      },
      "text/html": [
       "<div>\n",
       "<style scoped>\n",
       "    .dataframe tbody tr th:only-of-type {\n",
       "        vertical-align: middle;\n",
       "    }\n",
       "\n",
       "    .dataframe tbody tr th {\n",
       "        vertical-align: top;\n",
       "    }\n",
       "\n",
       "    .dataframe thead th {\n",
       "        text-align: right;\n",
       "    }\n",
       "</style>\n",
       "<table border=\"1\" class=\"dataframe\">\n",
       "  <thead>\n",
       "    <tr style=\"text-align: right;\">\n",
       "      <th></th>\n",
       "      <th>name</th>\n",
       "      <th>toy</th>\n",
       "      <th>from</th>\n",
       "    </tr>\n",
       "  </thead>\n",
       "  <tbody>\n",
       "    <tr>\n",
       "      <th>0</th>\n",
       "      <td>True</td>\n",
       "      <td>True</td>\n",
       "      <td>True</td>\n",
       "    </tr>\n",
       "    <tr>\n",
       "      <th>1</th>\n",
       "      <td>True</td>\n",
       "      <td>True</td>\n",
       "      <td>True</td>\n",
       "    </tr>\n",
       "    <tr>\n",
       "      <th>2</th>\n",
       "      <td>True</td>\n",
       "      <td>False</td>\n",
       "      <td>True</td>\n",
       "    </tr>\n",
       "  </tbody>\n",
       "</table>\n",
       "</div>"
      ],
      "text/plain": [
       "   name    toy  from\n",
       "0  True   True  True\n",
       "1  True   True  True\n",
       "2  True  False  True"
      ]
     },
     "execution_count": 71,
     "metadata": {},
     "output_type": "execute_result"
    }
   ],
   "source": [
    "newdata.notnull()"
   ]
  },
  {
   "cell_type": "code",
   "execution_count": 85,
   "id": "6d34d1ed",
   "metadata": {},
   "outputs": [
    {
     "data": {
      "application/vnd.microsoft.datawrangler.viewer.v0+json": {
       "columns": [
        {
         "name": "index",
         "rawType": "int64",
         "type": "integer"
        },
        {
         "name": "  serial nos2",
         "rawType": "int64",
         "type": "integer"
        },
        {
         "name": "name s2",
         "rawType": "object",
         "type": "string"
        },
        {
         "name": "marks",
         "rawType": "int64",
         "type": "integer"
        },
        {
         "name": "citys2",
         "rawType": "object",
         "type": "string"
        }
       ],
       "ref": "8291b5ea-82b8-40f0-99c8-be856af5da60",
       "rows": [
        [
         "0",
         "0",
         "Denver",
         "45",
         "Days Gone"
        ],
        [
         "1",
         "1",
         "Boozer",
         "34",
         "Days Gone"
        ]
       ],
       "shape": {
        "columns": 4,
        "rows": 2
       }
      },
      "text/html": [
       "<div>\n",
       "<style scoped>\n",
       "    .dataframe tbody tr th:only-of-type {\n",
       "        vertical-align: middle;\n",
       "    }\n",
       "\n",
       "    .dataframe tbody tr th {\n",
       "        vertical-align: top;\n",
       "    }\n",
       "\n",
       "    .dataframe thead th {\n",
       "        text-align: right;\n",
       "    }\n",
       "</style>\n",
       "<table border=\"1\" class=\"dataframe\">\n",
       "  <thead>\n",
       "    <tr style=\"text-align: right;\">\n",
       "      <th></th>\n",
       "      <th>serial nos2</th>\n",
       "      <th>name s2</th>\n",
       "      <th>marks</th>\n",
       "      <th>citys2</th>\n",
       "    </tr>\n",
       "  </thead>\n",
       "  <tbody>\n",
       "    <tr>\n",
       "      <th>0</th>\n",
       "      <td>0</td>\n",
       "      <td>Denver</td>\n",
       "      <td>45</td>\n",
       "      <td>Days Gone</td>\n",
       "    </tr>\n",
       "    <tr>\n",
       "      <th>1</th>\n",
       "      <td>1</td>\n",
       "      <td>Boozer</td>\n",
       "      <td>34</td>\n",
       "      <td>Days Gone</td>\n",
       "    </tr>\n",
       "  </tbody>\n",
       "</table>\n",
       "</div>"
      ],
      "text/plain": [
       "     serial nos2 name s2  marks     citys2\n",
       "0              0  Denver     45  Days Gone\n",
       "1              1  Boozer     34  Days Gone"
      ]
     },
     "execution_count": 85,
     "metadata": {},
     "output_type": "execute_result"
    }
   ],
   "source": [
    "newval = pd.read_csv('newdata.csv')\n",
    "newval"
   ]
  },
  {
   "cell_type": "code",
   "execution_count": 86,
   "id": "7e62380e",
   "metadata": {},
   "outputs": [
    {
     "data": {
      "application/vnd.microsoft.datawrangler.viewer.v0+json": {
       "columns": [
        {
         "name": "index",
         "rawType": "int64",
         "type": "integer"
        },
        {
         "name": "Game no",
         "rawType": "int64",
         "type": "integer"
        },
        {
         "name": "Name",
         "rawType": "object",
         "type": "string"
        },
        {
         "name": "origin",
         "rawType": "object",
         "type": "unknown"
        }
       ],
       "ref": "49994404-8839-480f-a306-3f631d2466a2",
       "rows": [
        [
         "0",
         "1",
         "RDR 2",
         "Action"
        ],
        [
         "1",
         "2",
         "Max PayneActjion",
         null
        ],
        [
         "2",
         "3",
         "GTA V",
         "Fantasy"
        ]
       ],
       "shape": {
        "columns": 3,
        "rows": 3
       }
      },
      "text/html": [
       "<div>\n",
       "<style scoped>\n",
       "    .dataframe tbody tr th:only-of-type {\n",
       "        vertical-align: middle;\n",
       "    }\n",
       "\n",
       "    .dataframe tbody tr th {\n",
       "        vertical-align: top;\n",
       "    }\n",
       "\n",
       "    .dataframe thead th {\n",
       "        text-align: right;\n",
       "    }\n",
       "</style>\n",
       "<table border=\"1\" class=\"dataframe\">\n",
       "  <thead>\n",
       "    <tr style=\"text-align: right;\">\n",
       "      <th></th>\n",
       "      <th>Game no</th>\n",
       "      <th>Name</th>\n",
       "      <th>origin</th>\n",
       "    </tr>\n",
       "  </thead>\n",
       "  <tbody>\n",
       "    <tr>\n",
       "      <th>0</th>\n",
       "      <td>1</td>\n",
       "      <td>RDR 2</td>\n",
       "      <td>Action</td>\n",
       "    </tr>\n",
       "    <tr>\n",
       "      <th>1</th>\n",
       "      <td>2</td>\n",
       "      <td>Max PayneActjion</td>\n",
       "      <td>NaN</td>\n",
       "    </tr>\n",
       "    <tr>\n",
       "      <th>2</th>\n",
       "      <td>3</td>\n",
       "      <td>GTA V</td>\n",
       "      <td>Fantasy</td>\n",
       "    </tr>\n",
       "  </tbody>\n",
       "</table>\n",
       "</div>"
      ],
      "text/plain": [
       "   Game no              Name   origin\n",
       "0        1             RDR 2   Action\n",
       "1        2  Max PayneActjion      NaN\n",
       "2        3             GTA V  Fantasy"
      ]
     },
     "execution_count": 86,
     "metadata": {},
     "output_type": "execute_result"
    }
   ],
   "source": [
    "newval1 = pd.read_excel('my.xlsx')\n",
    "newval1"
   ]
  },
  {
   "cell_type": "code",
   "execution_count": 87,
   "id": "9832518b",
   "metadata": {},
   "outputs": [
    {
     "data": {
      "application/vnd.microsoft.datawrangler.viewer.v0+json": {
       "columns": [
        {
         "name": "index",
         "rawType": "int64",
         "type": "integer"
        },
        {
         "name": "  serial nos2",
         "rawType": "int64",
         "type": "integer"
        },
        {
         "name": "name s2",
         "rawType": "object",
         "type": "string"
        },
        {
         "name": "marks",
         "rawType": "int64",
         "type": "integer"
        },
        {
         "name": "citys2",
         "rawType": "object",
         "type": "string"
        }
       ],
       "ref": "75bc7c98-ed1e-4081-8345-fddbda49cd29",
       "rows": [
        [
         "0",
         "34",
         "Denver",
         "45",
         "Days Gone"
        ],
        [
         "1",
         "1",
         "Boozer",
         "34",
         "Days Gone"
        ]
       ],
       "shape": {
        "columns": 4,
        "rows": 2
       }
      },
      "text/html": [
       "<div>\n",
       "<style scoped>\n",
       "    .dataframe tbody tr th:only-of-type {\n",
       "        vertical-align: middle;\n",
       "    }\n",
       "\n",
       "    .dataframe tbody tr th {\n",
       "        vertical-align: top;\n",
       "    }\n",
       "\n",
       "    .dataframe thead th {\n",
       "        text-align: right;\n",
       "    }\n",
       "</style>\n",
       "<table border=\"1\" class=\"dataframe\">\n",
       "  <thead>\n",
       "    <tr style=\"text-align: right;\">\n",
       "      <th></th>\n",
       "      <th>serial nos2</th>\n",
       "      <th>name s2</th>\n",
       "      <th>marks</th>\n",
       "      <th>citys2</th>\n",
       "    </tr>\n",
       "  </thead>\n",
       "  <tbody>\n",
       "    <tr>\n",
       "      <th>0</th>\n",
       "      <td>34</td>\n",
       "      <td>Denver</td>\n",
       "      <td>45</td>\n",
       "      <td>Days Gone</td>\n",
       "    </tr>\n",
       "    <tr>\n",
       "      <th>1</th>\n",
       "      <td>1</td>\n",
       "      <td>Boozer</td>\n",
       "      <td>34</td>\n",
       "      <td>Days Gone</td>\n",
       "    </tr>\n",
       "  </tbody>\n",
       "</table>\n",
       "</div>"
      ],
      "text/plain": [
       "     serial nos2 name s2  marks     citys2\n",
       "0             34  Denver     45  Days Gone\n",
       "1              1  Boozer     34  Days Gone"
      ]
     },
     "execution_count": 87,
     "metadata": {},
     "output_type": "execute_result"
    }
   ],
   "source": [
    "newval.iloc[0,0] = 34\n",
    "newval"
   ]
  },
  {
   "cell_type": "code",
   "execution_count": null,
   "id": "f891ab2e",
   "metadata": {},
   "outputs": [],
   "source": []
  }
 ],
 "metadata": {
  "kernelspec": {
   "display_name": "Python 3",
   "language": "python",
   "name": "python3"
  },
  "language_info": {
   "codemirror_mode": {
    "name": "ipython",
    "version": 3
   },
   "file_extension": ".py",
   "mimetype": "text/x-python",
   "name": "python",
   "nbconvert_exporter": "python",
   "pygments_lexer": "ipython3",
   "version": "3.13.2"
  }
 },
 "nbformat": 4,
 "nbformat_minor": 5
}
