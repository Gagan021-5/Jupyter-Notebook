{
 "cells": [
  {
   "cell_type": "markdown",
   "id": "0251ef88",
   "metadata": {},
   "source": [
    "Removal and Detection using Z-score\n"
   ]
  },
  {
   "cell_type": "code",
   "execution_count": 38,
   "id": "4be0c7b3",
   "metadata": {},
   "outputs": [],
   "source": [
    "import numpy as np\n",
    "import pandas as pd\n",
    "import seaborn as sb\n",
    "import matplotlib.pyplot as  plt\n"
   ]
  },
  {
   "cell_type": "code",
   "execution_count": 39,
   "id": "be7ed072",
   "metadata": {},
   "outputs": [],
   "source": [
    "df = pd.read_csv('placement.csv')"
   ]
  },
  {
   "cell_type": "code",
   "execution_count": 40,
   "id": "ccfc0da8",
   "metadata": {},
   "outputs": [
    {
     "data": {
      "application/vnd.microsoft.datawrangler.viewer.v0+json": {
       "columns": [
        {
         "name": "index",
         "rawType": "int64",
         "type": "integer"
        },
        {
         "name": "city",
         "rawType": "object",
         "type": "string"
        },
        {
         "name": "cgpa",
         "rawType": "float64",
         "type": "float"
        },
        {
         "name": "iq",
         "rawType": "float64",
         "type": "float"
        },
        {
         "name": "placement",
         "rawType": "int64",
         "type": "integer"
        }
       ],
       "ref": "f456f1fe-c8db-4386-9690-9f3c33d5d0dc",
       "rows": [
        [
         "0",
         "Chicago",
         "2.13",
         "345.0",
         "0"
        ],
        [
         "1",
         "New York",
         "6.8",
         "123.0",
         "1"
        ],
        [
         "2",
         "Los Angeles",
         "5.9",
         "106.0",
         "0"
        ],
        [
         "3",
         "Chicago",
         null,
         "121.0",
         "0"
        ],
        [
         "4",
         "New York",
         "7.4",
         "132.0",
         "1"
        ]
       ],
       "shape": {
        "columns": 4,
        "rows": 5
       }
      },
      "text/html": [
       "<div>\n",
       "<style scoped>\n",
       "    .dataframe tbody tr th:only-of-type {\n",
       "        vertical-align: middle;\n",
       "    }\n",
       "\n",
       "    .dataframe tbody tr th {\n",
       "        vertical-align: top;\n",
       "    }\n",
       "\n",
       "    .dataframe thead th {\n",
       "        text-align: right;\n",
       "    }\n",
       "</style>\n",
       "<table border=\"1\" class=\"dataframe\">\n",
       "  <thead>\n",
       "    <tr style=\"text-align: right;\">\n",
       "      <th></th>\n",
       "      <th>city</th>\n",
       "      <th>cgpa</th>\n",
       "      <th>iq</th>\n",
       "      <th>placement</th>\n",
       "    </tr>\n",
       "  </thead>\n",
       "  <tbody>\n",
       "    <tr>\n",
       "      <th>0</th>\n",
       "      <td>Chicago</td>\n",
       "      <td>2.13</td>\n",
       "      <td>345.0</td>\n",
       "      <td>0</td>\n",
       "    </tr>\n",
       "    <tr>\n",
       "      <th>1</th>\n",
       "      <td>New York</td>\n",
       "      <td>6.80</td>\n",
       "      <td>123.0</td>\n",
       "      <td>1</td>\n",
       "    </tr>\n",
       "    <tr>\n",
       "      <th>2</th>\n",
       "      <td>Los Angeles</td>\n",
       "      <td>5.90</td>\n",
       "      <td>106.0</td>\n",
       "      <td>0</td>\n",
       "    </tr>\n",
       "    <tr>\n",
       "      <th>3</th>\n",
       "      <td>Chicago</td>\n",
       "      <td>NaN</td>\n",
       "      <td>121.0</td>\n",
       "      <td>0</td>\n",
       "    </tr>\n",
       "    <tr>\n",
       "      <th>4</th>\n",
       "      <td>New York</td>\n",
       "      <td>7.40</td>\n",
       "      <td>132.0</td>\n",
       "      <td>1</td>\n",
       "    </tr>\n",
       "  </tbody>\n",
       "</table>\n",
       "</div>"
      ],
      "text/plain": [
       "          city  cgpa     iq  placement\n",
       "0      Chicago  2.13  345.0          0\n",
       "1     New York  6.80  123.0          1\n",
       "2  Los Angeles  5.90  106.0          0\n",
       "3      Chicago   NaN  121.0          0\n",
       "4     New York  7.40  132.0          1"
      ]
     },
     "execution_count": 40,
     "metadata": {},
     "output_type": "execute_result"
    }
   ],
   "source": [
    "df.head()"
   ]
  },
  {
   "cell_type": "code",
   "execution_count": 41,
   "id": "967464ea",
   "metadata": {},
   "outputs": [
    {
     "name": "stderr",
     "output_type": "stream",
     "text": [
      "C:\\Users\\Gagan\\AppData\\Local\\Temp\\ipykernel_8500\\185295917.py:3: UserWarning: \n",
      "\n",
      "`distplot` is a deprecated function and will be removed in seaborn v0.14.0.\n",
      "\n",
      "Please adapt your code to use either `displot` (a figure-level function with\n",
      "similar flexibility) or `histplot` (an axes-level function for histograms).\n",
      "\n",
      "For a guide to updating your code to use the new functions, please see\n",
      "https://gist.github.com/mwaskom/de44147ed2974457ad6372750bbe5751\n",
      "\n",
      "  sb.distplot(df['cgpa'])\n",
      "C:\\Users\\Gagan\\AppData\\Local\\Temp\\ipykernel_8500\\185295917.py:6: UserWarning: \n",
      "\n",
      "`distplot` is a deprecated function and will be removed in seaborn v0.14.0.\n",
      "\n",
      "Please adapt your code to use either `displot` (a figure-level function with\n",
      "similar flexibility) or `histplot` (an axes-level function for histograms).\n",
      "\n",
      "For a guide to updating your code to use the new functions, please see\n",
      "https://gist.github.com/mwaskom/de44147ed2974457ad6372750bbe5751\n",
      "\n",
      "  sb.distplot(df['placement'])\n"
     ]
    },
    {
     "data": {
      "image/png": "[encoded data removed]",
      "text/plain": [
       "<Figure size 1600x500 with 2 Axes>"
      ]
     },
     "metadata": {},
     "output_type": "display_data"
    }
   ],
   "source": [
    "plt.figure(figsize=(16,5))\n",
    "plt.subplot(1,2,1)\n",
    "sb.distplot(df['cgpa'])\n",
    "\n",
    "plt.subplot(1,2,2)\n",
    "sb.distplot(df['placement'])\n",
    "\n",
    "\n",
    "plt.show()\n"
   ]
  },
  {
   "cell_type": "code",
   "execution_count": 42,
   "id": "f6bc71f5",
   "metadata": {},
   "outputs": [
    {
     "name": "stdout",
     "output_type": "stream",
     "text": [
      "count    93.000000\n",
      "mean      5.923978\n",
      "std       1.224920\n",
      "min       2.130000\n",
      "25%       5.000000\n",
      "50%       6.000000\n",
      "75%       6.800000\n",
      "max       8.500000\n",
      "Name: cgpa, dtype: float64\n"
     ]
    }
   ],
   "source": [
    "print(df['cgpa'].describe())"
   ]
  },
  {
   "cell_type": "code",
   "execution_count": 43,
   "id": "573d84d9",
   "metadata": {},
   "outputs": [
    {
     "name": "stdout",
     "output_type": "stream",
     "text": [
      "Highest value :  9.598737953792234\n",
      "Lowest value :  2.2492190354550767\n"
     ]
    }
   ],
   "source": [
    "print(\"Highest value : \",df['cgpa'].mean() +  3*df['cgpa'].std())\n",
    "print(\"Lowest value : \",df['cgpa'].mean() -  3*df['cgpa'].std())"
   ]
  },
  {
   "cell_type": "code",
   "execution_count": 49,
   "id": "8740db7b",
   "metadata": {},
   "outputs": [],
   "source": [
    "# Finding Outliers\n",
    "newdf = df[(df['cgpa'] >9.45) | (df['cgpa'] < 2.47)]"
   ]
  },
  {
   "cell_type": "code",
   "execution_count": 48,
   "id": "e7432d38",
   "metadata": {},
   "outputs": [
    {
     "data": {
      "application/vnd.microsoft.datawrangler.viewer.v0+json": {
       "columns": [
        {
         "name": "index",
         "rawType": "int64",
         "type": "integer"
        },
        {
         "name": "city",
         "rawType": "object",
         "type": "string"
        },
        {
         "name": "cgpa",
         "rawType": "float64",
         "type": "float"
        },
        {
         "name": "iq",
         "rawType": "float64",
         "type": "float"
        },
        {
         "name": "placement",
         "rawType": "int64",
         "type": "integer"
        }
       ],
       "ref": "716099eb-c0f7-47db-9f7b-a9adc2ce61c0",
       "rows": [
        [
         "0",
         "Chicago",
         "2.13",
         "345.0",
         "0"
        ]
       ],
       "shape": {
        "columns": 4,
        "rows": 1
       }
      },
      "text/html": [
       "<div>\n",
       "<style scoped>\n",
       "    .dataframe tbody tr th:only-of-type {\n",
       "        vertical-align: middle;\n",
       "    }\n",
       "\n",
       "    .dataframe tbody tr th {\n",
       "        vertical-align: top;\n",
       "    }\n",
       "\n",
       "    .dataframe thead th {\n",
       "        text-align: right;\n",
       "    }\n",
       "</style>\n",
       "<table border=\"1\" class=\"dataframe\">\n",
       "  <thead>\n",
       "    <tr style=\"text-align: right;\">\n",
       "      <th></th>\n",
       "      <th>city</th>\n",
       "      <th>cgpa</th>\n",
       "      <th>iq</th>\n",
       "      <th>placement</th>\n",
       "    </tr>\n",
       "  </thead>\n",
       "  <tbody>\n",
       "    <tr>\n",
       "      <th>0</th>\n",
       "      <td>Chicago</td>\n",
       "      <td>2.13</td>\n",
       "      <td>345.0</td>\n",
       "      <td>0</td>\n",
       "    </tr>\n",
       "  </tbody>\n",
       "</table>\n",
       "</div>"
      ],
      "text/plain": [
       "      city  cgpa     iq  placement\n",
       "0  Chicago  2.13  345.0          0"
      ]
     },
     "execution_count": 48,
     "metadata": {},
     "output_type": "execute_result"
    }
   ],
   "source": [
    "newdf"
   ]
  },
  {
   "cell_type": "code",
   "execution_count": 50,
   "id": "861f23ba",
   "metadata": {},
   "outputs": [],
   "source": [
    "df['zscorecgpa'] = (df['cgpa'] - df['cgpa'].mean())/df['cgpa'].std()"
   ]
  },
  {
   "cell_type": "code",
   "execution_count": 51,
   "id": "b777c260",
   "metadata": {},
   "outputs": [
    {
     "data": {
      "application/vnd.microsoft.datawrangler.viewer.v0+json": {
       "columns": [
        {
         "name": "index",
         "rawType": "int64",
         "type": "integer"
        },
        {
         "name": "city",
         "rawType": "object",
         "type": "string"
        },
        {
         "name": "cgpa",
         "rawType": "float64",
         "type": "float"
        },
        {
         "name": "iq",
         "rawType": "float64",
         "type": "float"
        },
        {
         "name": "placement",
         "rawType": "int64",
         "type": "integer"
        },
        {
         "name": "zscorecgpa",
         "rawType": "float64",
         "type": "float"
        }
       ],
       "ref": "7e5f55e8-e1bc-4a84-810f-93024d538324",
       "rows": [
        [
         "0",
         "Chicago",
         "2.13",
         "345.0",
         "0",
         "-3.09732803203564"
        ],
        [
         "1",
         "New York",
         "6.8",
         "123.0",
         "1",
         "0.7151664062179559"
        ],
        [
         "2",
         "Los Angeles",
         "5.9",
         "106.0",
         "0",
         "-0.019575562610359754"
        ],
        [
         "3",
         "Chicago",
         null,
         "121.0",
         "0",
         null
        ],
        [
         "4",
         "New York",
         "7.4",
         "132.0",
         "1",
         "1.204994385436834"
        ]
       ],
       "shape": {
        "columns": 5,
        "rows": 5
       }
      },
      "text/html": [
       "<div>\n",
       "<style scoped>\n",
       "    .dataframe tbody tr th:only-of-type {\n",
       "        vertical-align: middle;\n",
       "    }\n",
       "\n",
       "    .dataframe tbody tr th {\n",
       "        vertical-align: top;\n",
       "    }\n",
       "\n",
       "    .dataframe thead th {\n",
       "        text-align: right;\n",
       "    }\n",
       "</style>\n",
       "<table border=\"1\" class=\"dataframe\">\n",
       "  <thead>\n",
       "    <tr style=\"text-align: right;\">\n",
       "      <th></th>\n",
       "      <th>city</th>\n",
       "      <th>cgpa</th>\n",
       "      <th>iq</th>\n",
       "      <th>placement</th>\n",
       "      <th>zscorecgpa</th>\n",
       "    </tr>\n",
       "  </thead>\n",
       "  <tbody>\n",
       "    <tr>\n",
       "      <th>0</th>\n",
       "      <td>Chicago</td>\n",
       "      <td>2.13</td>\n",
       "      <td>345.0</td>\n",
       "      <td>0</td>\n",
       "      <td>-3.097328</td>\n",
       "    </tr>\n",
       "    <tr>\n",
       "      <th>1</th>\n",
       "      <td>New York</td>\n",
       "      <td>6.80</td>\n",
       "      <td>123.0</td>\n",
       "      <td>1</td>\n",
       "      <td>0.715166</td>\n",
       "    </tr>\n",
       "    <tr>\n",
       "      <th>2</th>\n",
       "      <td>Los Angeles</td>\n",
       "      <td>5.90</td>\n",
       "      <td>106.0</td>\n",
       "      <td>0</td>\n",
       "      <td>-0.019576</td>\n",
       "    </tr>\n",
       "    <tr>\n",
       "      <th>3</th>\n",
       "      <td>Chicago</td>\n",
       "      <td>NaN</td>\n",
       "      <td>121.0</td>\n",
       "      <td>0</td>\n",
       "      <td>NaN</td>\n",
       "    </tr>\n",
       "    <tr>\n",
       "      <th>4</th>\n",
       "      <td>New York</td>\n",
       "      <td>7.40</td>\n",
       "      <td>132.0</td>\n",
       "      <td>1</td>\n",
       "      <td>1.204994</td>\n",
       "    </tr>\n",
       "  </tbody>\n",
       "</table>\n",
       "</div>"
      ],
      "text/plain": [
       "          city  cgpa     iq  placement  zscorecgpa\n",
       "0      Chicago  2.13  345.0          0   -3.097328\n",
       "1     New York  6.80  123.0          1    0.715166\n",
       "2  Los Angeles  5.90  106.0          0   -0.019576\n",
       "3      Chicago   NaN  121.0          0         NaN\n",
       "4     New York  7.40  132.0          1    1.204994"
      ]
     },
     "execution_count": 51,
     "metadata": {},
     "output_type": "execute_result"
    }
   ],
   "source": [
    "df.head()"
   ]
  },
  {
   "cell_type": "code",
   "execution_count": 54,
   "id": "99cfd2c7",
   "metadata": {},
   "outputs": [],
   "source": [
    "# Capping\n",
    "upplimit = df['cgpa'].mean() + 3*df['cgpa'].std()\n",
    "lowerlimit = df['cgpa'].mean() - 3*df['cgpa'].std()"
   ]
  },
  {
   "cell_type": "code",
   "execution_count": 56,
   "id": "015a4649",
   "metadata": {},
   "outputs": [],
   "source": [
    "df['cgpa'] = np.where(df['cgpa']>upplimit,upplimit,np.where(df['cgpa']<lowerlimit,lowerlimit,df['cgpa']))"
   ]
  },
  {
   "cell_type": "code",
   "execution_count": 57,
   "id": "9c6d28ee",
   "metadata": {},
   "outputs": [
    {
     "data": {
      "application/vnd.microsoft.datawrangler.viewer.v0+json": {
       "columns": [
        {
         "name": "index",
         "rawType": "int64",
         "type": "integer"
        },
        {
         "name": "city",
         "rawType": "object",
         "type": "string"
        },
        {
         "name": "cgpa",
         "rawType": "float64",
         "type": "float"
        },
        {
         "name": "iq",
         "rawType": "float64",
         "type": "float"
        },
        {
         "name": "placement",
         "rawType": "int64",
         "type": "integer"
        },
        {
         "name": "zscorecgpa",
         "rawType": "float64",
         "type": "float"
        }
       ],
       "ref": "cac14811-59fa-4ff9-b4c5-01de24497458",
       "rows": [
        [
         "0",
         "Chicago",
         "2.2492190354550767",
         "345.0",
         "0",
         "-3.09732803203564"
        ],
        [
         "1",
         "New York",
         "6.8",
         "123.0",
         "1",
         "0.7151664062179559"
        ],
        [
         "2",
         "Los Angeles",
         "5.9",
         "106.0",
         "0",
         "-0.019575562610359754"
        ],
        [
         "3",
         "Chicago",
         null,
         "121.0",
         "0",
         null
        ],
        [
         "4",
         "New York",
         "7.4",
         "132.0",
         "1",
         "1.204994385436834"
        ]
       ],
       "shape": {
        "columns": 5,
        "rows": 5
       }
      },
      "text/html": [
       "<div>\n",
       "<style scoped>\n",
       "    .dataframe tbody tr th:only-of-type {\n",
       "        vertical-align: middle;\n",
       "    }\n",
       "\n",
       "    .dataframe tbody tr th {\n",
       "        vertical-align: top;\n",
       "    }\n",
       "\n",
       "    .dataframe thead th {\n",
       "        text-align: right;\n",
       "    }\n",
       "</style>\n",
       "<table border=\"1\" class=\"dataframe\">\n",
       "  <thead>\n",
       "    <tr style=\"text-align: right;\">\n",
       "      <th></th>\n",
       "      <th>city</th>\n",
       "      <th>cgpa</th>\n",
       "      <th>iq</th>\n",
       "      <th>placement</th>\n",
       "      <th>zscorecgpa</th>\n",
       "    </tr>\n",
       "  </thead>\n",
       "  <tbody>\n",
       "    <tr>\n",
       "      <th>0</th>\n",
       "      <td>Chicago</td>\n",
       "      <td>2.249219</td>\n",
       "      <td>345.0</td>\n",
       "      <td>0</td>\n",
       "      <td>-3.097328</td>\n",
       "    </tr>\n",
       "    <tr>\n",
       "      <th>1</th>\n",
       "      <td>New York</td>\n",
       "      <td>6.800000</td>\n",
       "      <td>123.0</td>\n",
       "      <td>1</td>\n",
       "      <td>0.715166</td>\n",
       "    </tr>\n",
       "    <tr>\n",
       "      <th>2</th>\n",
       "      <td>Los Angeles</td>\n",
       "      <td>5.900000</td>\n",
       "      <td>106.0</td>\n",
       "      <td>0</td>\n",
       "      <td>-0.019576</td>\n",
       "    </tr>\n",
       "    <tr>\n",
       "      <th>3</th>\n",
       "      <td>Chicago</td>\n",
       "      <td>NaN</td>\n",
       "      <td>121.0</td>\n",
       "      <td>0</td>\n",
       "      <td>NaN</td>\n",
       "    </tr>\n",
       "    <tr>\n",
       "      <th>4</th>\n",
       "      <td>New York</td>\n",
       "      <td>7.400000</td>\n",
       "      <td>132.0</td>\n",
       "      <td>1</td>\n",
       "      <td>1.204994</td>\n",
       "    </tr>\n",
       "  </tbody>\n",
       "</table>\n",
       "</div>"
      ],
      "text/plain": [
       "          city      cgpa     iq  placement  zscorecgpa\n",
       "0      Chicago  2.249219  345.0          0   -3.097328\n",
       "1     New York  6.800000  123.0          1    0.715166\n",
       "2  Los Angeles  5.900000  106.0          0   -0.019576\n",
       "3      Chicago       NaN  121.0          0         NaN\n",
       "4     New York  7.400000  132.0          1    1.204994"
      ]
     },
     "execution_count": 57,
     "metadata": {},
     "output_type": "execute_result"
    }
   ],
   "source": [
    "df.head()"
   ]
  },
  {
   "cell_type": "code",
   "execution_count": null,
   "id": "d682225a",
   "metadata": {},
   "outputs": [],
   "source": []
  }
 ],
 "metadata": {
  "kernelspec": {
   "display_name": "Python 3",
   "language": "python",
   "name": "python3"
  },
  "language_info": {
   "codemirror_mode": {
    "name": "ipython",
    "version": 3
   },
   "file_extension": ".py",
   "mimetype": "text/x-python",
   "name": "python",
   "nbconvert_exporter": "python",
   "pygments_lexer": "ipython3",
   "version": "3.13.2"
  }
 },
 "nbformat": 4,
 "nbformat_minor": 5
}
